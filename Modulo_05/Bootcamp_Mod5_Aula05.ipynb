{
  "nbformat": 4,
  "nbformat_minor": 0,
  "metadata": {
    "colab": {
      "name": "Bootcamp - Mod5 - Aula05.ipynb",
      "provenance": [],
      "collapsed_sections": [
        "rUIEN22E4H0y",
        "3CLZ9Hd1XgU_",
        "3qcz5ZrR4Owf",
        "6Q6mp73k4qKA",
        "6BnyhASAxKDp",
        "pj3Y_V8zxlIN",
        "sJzXG0l4z21o",
        "UMl0kz876y-W"
      ],
      "authorship_tag": "ABX9TyOEs41tClTXcqVV7OxRZlyu",
      "include_colab_link": true
    },
    "kernelspec": {
      "name": "python3",
      "display_name": "Python 3"
    },
    "language_info": {
      "name": "python"
    }
  },
  "cells": [
    {
      "cell_type": "markdown",
      "metadata": {
        "id": "view-in-github",
        "colab_type": "text"
      },
      "source": [
        "<a href=\"https://colab.research.google.com/github/gcochlar/Bootcamp_DataScience/blob/main/Modulo_05/Bootcamp_Mod5_Aula05.ipynb\" target=\"_parent\"><img src=\"https://colab.research.google.com/assets/colab-badge.svg\" alt=\"Open In Colab\"/></a>"
      ]
    },
    {
      "cell_type": "markdown",
      "metadata": {
        "id": "BZKKSXVwpVfu"
      },
      "source": [
        "<img src='https://drive.google.com/uc?id=16O9eMrtSeRDnDpZgmneXj34eIClCntvg'>"
      ]
    },
    {
      "cell_type": "markdown",
      "metadata": {
        "id": "tKeX4KHBZUkZ"
      },
      "source": [
        "# ***Machine Learning:*** **Modelos, Métricas e Validação**\n",
        "\n",
        "---\n",
        "\n",
        "Esse notebook servirá para o acompanhamento das aulas do Módulo 05 do ***Bootcamp de Data Science Aplicada*** realizado pela Alura.\n",
        "\n",
        "Este módulo dá continuidade ao trabalho iniciado no Módulo 04, de desenvolvimento de um projeto prático que passa por todo o *workflow* em *Data Science*, do entendimento do problema, tratamento e análise dos dados até a proposta de solução utilizando ***Machine Learning***.\n",
        "\n",
        "Vamos continuar trabalhando com dados da **COVID-19** do **Hospital Sírio Libanês**, sendo que o foco deste módulo será no aprofundamento dos modelos de ***Machine Learning***, bem como suas métricas e procedimentos de validação de resultados.\n",
        "\n",
        "---\n",
        "\n",
        ">No último módulo aplicamos todo nosso conhecimento para analisar dados da COVID-19, entender alguns dos desafios dos hospitais em época de pandemia e propor soluções a partir das análises de dados.\n",
        ">\n",
        ">Nossa proposta de solução foi utilizar modelos de Machine Learning, mas para tornar isso possível precisamos aprofundar nossos conhecimentos nesta área, testando modelos mais avançados, utilizando métricas adequadas ao problema e validando de forma correta. Neste módulo vamos trabalhar todas estas frentes para tornar nossa solução uma proposta viável."
      ]
    },
    {
      "cell_type": "markdown",
      "metadata": {
        "id": "IOJYQLwvbh7E"
      },
      "source": [
        "## **Aula 01 -** ***Workflow*** **de** ***Machine Learning***\n",
        "---\n"
      ]
    },
    {
      "cell_type": "markdown",
      "metadata": {
        "id": "3rE6zLwZEBKa"
      },
      "source": [
        "Thiago começou a aula falando do ciclo, do *workflow* de **Machine Learning**.\n",
        "\n",
        "* Definir o objetivo do estudo e o impacto no negócio\n",
        "* Fazer a aquisição e a transformação dos dados (*datawarehouse*, *data lake*)\n",
        "* Desenvolvimento do modelo (análise exploratória, treino e teste do modelo)\n",
        "* Comunicação dos Resultados (melhor modelo encontrado pode não ser suficiente, o impacto econômico ou no negócio pode ser inadequado, a performance pode ser insuficiente, ...)\n",
        "* Fazer o *deploy* e começar monitoramento (fase onde fica disponível para o usuário)"
      ]
    },
    {
      "cell_type": "markdown",
      "metadata": {
        "id": "cFwE_TVnJhmI"
      },
      "source": [
        "Na sequência, retomamos o uso do **Colab** como ferramenta, o que eu já vinha fazendo.\n",
        "\n",
        "Vamos retomar parcialmente o código do módulo passado, em que importamos os dados e fizemos a limpeza inicial, para poder passar a trabalhar em cima dos modelos que queremos treinar."
      ]
    },
    {
      "cell_type": "code",
      "metadata": {
        "id": "bnkFSRniaFYT"
      },
      "source": [
        "import pandas as pd\n",
        "import numpy as np\n",
        "import matplotlib.pyplot as plt\n",
        "\n",
        "from sklearn import preprocessing\n",
        "from sklearn.model_selection import train_test_split\n",
        "from sklearn.linear_model import LogisticRegression\n",
        "from sklearn.dummy import DummyClassifier\n",
        "from sklearn.tree import DecisionTreeClassifier\n",
        "from sklearn.tree import plot_tree\n",
        "\n",
        "from sklearn.tree import export_graphviz\n",
        "from sklearn.tree import export_text\n",
        "import graphviz\n",
        "\n",
        "from sklearn.metrics import classification_report\n",
        "from sklearn.metrics import accuracy_score\n",
        "from sklearn.metrics import plot_confusion_matrix\n",
        "from sklearn.metrics import roc_auc_score\n",
        "from sklearn.metrics import roc_curve, plot_roc_curve"
      ],
      "execution_count": 1,
      "outputs": []
    },
    {
      "cell_type": "code",
      "metadata": {
        "id": "9Ei98MiwRvWH"
      },
      "source": [
        "url = 'https://github.com/gcochlar/Bootcamp_DataScience/blob/main/dados/Kaggle_Sirio_Libanes_ICU_Prediction.xlsx?raw=true'"
      ],
      "execution_count": 2,
      "outputs": []
    },
    {
      "cell_type": "code",
      "metadata": {
        "id": "AgHJeIs0aIcb",
        "colab": {
          "base_uri": "https://localhost:8080/",
          "height": 287
        },
        "outputId": "d60ddaac-ea7e-42bd-8147-316fca02fb02"
      },
      "source": [
        "dados = pd.read_excel(url)\n",
        "dados.head()"
      ],
      "execution_count": 3,
      "outputs": [
        {
          "output_type": "execute_result",
          "data": {
            "text/html": [
              "<div>\n",
              "<style scoped>\n",
              "    .dataframe tbody tr th:only-of-type {\n",
              "        vertical-align: middle;\n",
              "    }\n",
              "\n",
              "    .dataframe tbody tr th {\n",
              "        vertical-align: top;\n",
              "    }\n",
              "\n",
              "    .dataframe thead th {\n",
              "        text-align: right;\n",
              "    }\n",
              "</style>\n",
              "<table border=\"1\" class=\"dataframe\">\n",
              "  <thead>\n",
              "    <tr style=\"text-align: right;\">\n",
              "      <th></th>\n",
              "      <th>PATIENT_VISIT_IDENTIFIER</th>\n",
              "      <th>AGE_ABOVE65</th>\n",
              "      <th>AGE_PERCENTIL</th>\n",
              "      <th>GENDER</th>\n",
              "      <th>DISEASE GROUPING 1</th>\n",
              "      <th>DISEASE GROUPING 2</th>\n",
              "      <th>DISEASE GROUPING 3</th>\n",
              "      <th>DISEASE GROUPING 4</th>\n",
              "      <th>DISEASE GROUPING 5</th>\n",
              "      <th>DISEASE GROUPING 6</th>\n",
              "      <th>HTN</th>\n",
              "      <th>IMMUNOCOMPROMISED</th>\n",
              "      <th>OTHER</th>\n",
              "      <th>ALBUMIN_MEDIAN</th>\n",
              "      <th>ALBUMIN_MEAN</th>\n",
              "      <th>ALBUMIN_MIN</th>\n",
              "      <th>ALBUMIN_MAX</th>\n",
              "      <th>ALBUMIN_DIFF</th>\n",
              "      <th>BE_ARTERIAL_MEDIAN</th>\n",
              "      <th>BE_ARTERIAL_MEAN</th>\n",
              "      <th>BE_ARTERIAL_MIN</th>\n",
              "      <th>BE_ARTERIAL_MAX</th>\n",
              "      <th>BE_ARTERIAL_DIFF</th>\n",
              "      <th>BE_VENOUS_MEDIAN</th>\n",
              "      <th>BE_VENOUS_MEAN</th>\n",
              "      <th>BE_VENOUS_MIN</th>\n",
              "      <th>BE_VENOUS_MAX</th>\n",
              "      <th>BE_VENOUS_DIFF</th>\n",
              "      <th>BIC_ARTERIAL_MEDIAN</th>\n",
              "      <th>BIC_ARTERIAL_MEAN</th>\n",
              "      <th>BIC_ARTERIAL_MIN</th>\n",
              "      <th>BIC_ARTERIAL_MAX</th>\n",
              "      <th>BIC_ARTERIAL_DIFF</th>\n",
              "      <th>BIC_VENOUS_MEDIAN</th>\n",
              "      <th>BIC_VENOUS_MEAN</th>\n",
              "      <th>BIC_VENOUS_MIN</th>\n",
              "      <th>BIC_VENOUS_MAX</th>\n",
              "      <th>BIC_VENOUS_DIFF</th>\n",
              "      <th>BILLIRUBIN_MEDIAN</th>\n",
              "      <th>BILLIRUBIN_MEAN</th>\n",
              "      <th>...</th>\n",
              "      <th>DIMER_MAX</th>\n",
              "      <th>DIMER_DIFF</th>\n",
              "      <th>BLOODPRESSURE_DIASTOLIC_MEAN</th>\n",
              "      <th>BLOODPRESSURE_SISTOLIC_MEAN</th>\n",
              "      <th>HEART_RATE_MEAN</th>\n",
              "      <th>RESPIRATORY_RATE_MEAN</th>\n",
              "      <th>TEMPERATURE_MEAN</th>\n",
              "      <th>OXYGEN_SATURATION_MEAN</th>\n",
              "      <th>BLOODPRESSURE_DIASTOLIC_MEDIAN</th>\n",
              "      <th>BLOODPRESSURE_SISTOLIC_MEDIAN</th>\n",
              "      <th>HEART_RATE_MEDIAN</th>\n",
              "      <th>RESPIRATORY_RATE_MEDIAN</th>\n",
              "      <th>TEMPERATURE_MEDIAN</th>\n",
              "      <th>OXYGEN_SATURATION_MEDIAN</th>\n",
              "      <th>BLOODPRESSURE_DIASTOLIC_MIN</th>\n",
              "      <th>BLOODPRESSURE_SISTOLIC_MIN</th>\n",
              "      <th>HEART_RATE_MIN</th>\n",
              "      <th>RESPIRATORY_RATE_MIN</th>\n",
              "      <th>TEMPERATURE_MIN</th>\n",
              "      <th>OXYGEN_SATURATION_MIN</th>\n",
              "      <th>BLOODPRESSURE_DIASTOLIC_MAX</th>\n",
              "      <th>BLOODPRESSURE_SISTOLIC_MAX</th>\n",
              "      <th>HEART_RATE_MAX</th>\n",
              "      <th>RESPIRATORY_RATE_MAX</th>\n",
              "      <th>TEMPERATURE_MAX</th>\n",
              "      <th>OXYGEN_SATURATION_MAX</th>\n",
              "      <th>BLOODPRESSURE_DIASTOLIC_DIFF</th>\n",
              "      <th>BLOODPRESSURE_SISTOLIC_DIFF</th>\n",
              "      <th>HEART_RATE_DIFF</th>\n",
              "      <th>RESPIRATORY_RATE_DIFF</th>\n",
              "      <th>TEMPERATURE_DIFF</th>\n",
              "      <th>OXYGEN_SATURATION_DIFF</th>\n",
              "      <th>BLOODPRESSURE_DIASTOLIC_DIFF_REL</th>\n",
              "      <th>BLOODPRESSURE_SISTOLIC_DIFF_REL</th>\n",
              "      <th>HEART_RATE_DIFF_REL</th>\n",
              "      <th>RESPIRATORY_RATE_DIFF_REL</th>\n",
              "      <th>TEMPERATURE_DIFF_REL</th>\n",
              "      <th>OXYGEN_SATURATION_DIFF_REL</th>\n",
              "      <th>WINDOW</th>\n",
              "      <th>ICU</th>\n",
              "    </tr>\n",
              "  </thead>\n",
              "  <tbody>\n",
              "    <tr>\n",
              "      <th>0</th>\n",
              "      <td>0</td>\n",
              "      <td>1</td>\n",
              "      <td>60th</td>\n",
              "      <td>0</td>\n",
              "      <td>0.0</td>\n",
              "      <td>0.0</td>\n",
              "      <td>0.0</td>\n",
              "      <td>0.0</td>\n",
              "      <td>1.0</td>\n",
              "      <td>1.0</td>\n",
              "      <td>0.0</td>\n",
              "      <td>0.0</td>\n",
              "      <td>1.0</td>\n",
              "      <td>NaN</td>\n",
              "      <td>NaN</td>\n",
              "      <td>NaN</td>\n",
              "      <td>NaN</td>\n",
              "      <td>NaN</td>\n",
              "      <td>NaN</td>\n",
              "      <td>NaN</td>\n",
              "      <td>NaN</td>\n",
              "      <td>NaN</td>\n",
              "      <td>NaN</td>\n",
              "      <td>NaN</td>\n",
              "      <td>NaN</td>\n",
              "      <td>NaN</td>\n",
              "      <td>NaN</td>\n",
              "      <td>NaN</td>\n",
              "      <td>NaN</td>\n",
              "      <td>NaN</td>\n",
              "      <td>NaN</td>\n",
              "      <td>NaN</td>\n",
              "      <td>NaN</td>\n",
              "      <td>NaN</td>\n",
              "      <td>NaN</td>\n",
              "      <td>NaN</td>\n",
              "      <td>NaN</td>\n",
              "      <td>NaN</td>\n",
              "      <td>NaN</td>\n",
              "      <td>NaN</td>\n",
              "      <td>...</td>\n",
              "      <td>NaN</td>\n",
              "      <td>NaN</td>\n",
              "      <td>0.086420</td>\n",
              "      <td>-0.230769</td>\n",
              "      <td>-0.283019</td>\n",
              "      <td>-0.593220</td>\n",
              "      <td>-0.285714</td>\n",
              "      <td>0.736842</td>\n",
              "      <td>0.086420</td>\n",
              "      <td>-0.230769</td>\n",
              "      <td>-0.283019</td>\n",
              "      <td>-0.586207</td>\n",
              "      <td>-0.285714</td>\n",
              "      <td>0.736842</td>\n",
              "      <td>0.237113</td>\n",
              "      <td>0.0000</td>\n",
              "      <td>-0.162393</td>\n",
              "      <td>-0.500000</td>\n",
              "      <td>0.208791</td>\n",
              "      <td>0.898990</td>\n",
              "      <td>-0.247863</td>\n",
              "      <td>-0.459459</td>\n",
              "      <td>-0.432836</td>\n",
              "      <td>-0.636364</td>\n",
              "      <td>-0.420290</td>\n",
              "      <td>0.736842</td>\n",
              "      <td>-1.00000</td>\n",
              "      <td>-1.000000</td>\n",
              "      <td>-1.000000</td>\n",
              "      <td>-1.000000</td>\n",
              "      <td>-1.000000</td>\n",
              "      <td>-1.000000</td>\n",
              "      <td>-1.000000</td>\n",
              "      <td>-1.000000</td>\n",
              "      <td>-1.000000</td>\n",
              "      <td>-1.000000</td>\n",
              "      <td>-1.000000</td>\n",
              "      <td>-1.000000</td>\n",
              "      <td>0-2</td>\n",
              "      <td>0</td>\n",
              "    </tr>\n",
              "    <tr>\n",
              "      <th>1</th>\n",
              "      <td>0</td>\n",
              "      <td>1</td>\n",
              "      <td>60th</td>\n",
              "      <td>0</td>\n",
              "      <td>0.0</td>\n",
              "      <td>0.0</td>\n",
              "      <td>0.0</td>\n",
              "      <td>0.0</td>\n",
              "      <td>1.0</td>\n",
              "      <td>1.0</td>\n",
              "      <td>0.0</td>\n",
              "      <td>0.0</td>\n",
              "      <td>1.0</td>\n",
              "      <td>NaN</td>\n",
              "      <td>NaN</td>\n",
              "      <td>NaN</td>\n",
              "      <td>NaN</td>\n",
              "      <td>NaN</td>\n",
              "      <td>NaN</td>\n",
              "      <td>NaN</td>\n",
              "      <td>NaN</td>\n",
              "      <td>NaN</td>\n",
              "      <td>NaN</td>\n",
              "      <td>NaN</td>\n",
              "      <td>NaN</td>\n",
              "      <td>NaN</td>\n",
              "      <td>NaN</td>\n",
              "      <td>NaN</td>\n",
              "      <td>NaN</td>\n",
              "      <td>NaN</td>\n",
              "      <td>NaN</td>\n",
              "      <td>NaN</td>\n",
              "      <td>NaN</td>\n",
              "      <td>NaN</td>\n",
              "      <td>NaN</td>\n",
              "      <td>NaN</td>\n",
              "      <td>NaN</td>\n",
              "      <td>NaN</td>\n",
              "      <td>NaN</td>\n",
              "      <td>NaN</td>\n",
              "      <td>...</td>\n",
              "      <td>NaN</td>\n",
              "      <td>NaN</td>\n",
              "      <td>0.333333</td>\n",
              "      <td>-0.230769</td>\n",
              "      <td>-0.132075</td>\n",
              "      <td>-0.593220</td>\n",
              "      <td>0.535714</td>\n",
              "      <td>0.578947</td>\n",
              "      <td>0.333333</td>\n",
              "      <td>-0.230769</td>\n",
              "      <td>-0.132075</td>\n",
              "      <td>-0.586207</td>\n",
              "      <td>0.535714</td>\n",
              "      <td>0.578947</td>\n",
              "      <td>0.443299</td>\n",
              "      <td>0.0000</td>\n",
              "      <td>-0.025641</td>\n",
              "      <td>-0.500000</td>\n",
              "      <td>0.714286</td>\n",
              "      <td>0.838384</td>\n",
              "      <td>-0.076923</td>\n",
              "      <td>-0.459459</td>\n",
              "      <td>-0.313433</td>\n",
              "      <td>-0.636364</td>\n",
              "      <td>0.246377</td>\n",
              "      <td>0.578947</td>\n",
              "      <td>-1.00000</td>\n",
              "      <td>-1.000000</td>\n",
              "      <td>-1.000000</td>\n",
              "      <td>-1.000000</td>\n",
              "      <td>-1.000000</td>\n",
              "      <td>-1.000000</td>\n",
              "      <td>-1.000000</td>\n",
              "      <td>-1.000000</td>\n",
              "      <td>-1.000000</td>\n",
              "      <td>-1.000000</td>\n",
              "      <td>-1.000000</td>\n",
              "      <td>-1.000000</td>\n",
              "      <td>2-4</td>\n",
              "      <td>0</td>\n",
              "    </tr>\n",
              "    <tr>\n",
              "      <th>2</th>\n",
              "      <td>0</td>\n",
              "      <td>1</td>\n",
              "      <td>60th</td>\n",
              "      <td>0</td>\n",
              "      <td>0.0</td>\n",
              "      <td>0.0</td>\n",
              "      <td>0.0</td>\n",
              "      <td>0.0</td>\n",
              "      <td>1.0</td>\n",
              "      <td>1.0</td>\n",
              "      <td>0.0</td>\n",
              "      <td>0.0</td>\n",
              "      <td>1.0</td>\n",
              "      <td>0.605263</td>\n",
              "      <td>0.605263</td>\n",
              "      <td>0.605263</td>\n",
              "      <td>0.605263</td>\n",
              "      <td>-1.0</td>\n",
              "      <td>-1.000000</td>\n",
              "      <td>-1.000000</td>\n",
              "      <td>-1.000000</td>\n",
              "      <td>-1.000000</td>\n",
              "      <td>-1.0</td>\n",
              "      <td>-1.000000</td>\n",
              "      <td>-1.000000</td>\n",
              "      <td>-1.000000</td>\n",
              "      <td>-1.000000</td>\n",
              "      <td>-1.0</td>\n",
              "      <td>-0.317073</td>\n",
              "      <td>-0.317073</td>\n",
              "      <td>-0.317073</td>\n",
              "      <td>-0.317073</td>\n",
              "      <td>-1.0</td>\n",
              "      <td>-0.317073</td>\n",
              "      <td>-0.317073</td>\n",
              "      <td>-0.317073</td>\n",
              "      <td>-0.317073</td>\n",
              "      <td>-1.0</td>\n",
              "      <td>-0.938950</td>\n",
              "      <td>-0.938950</td>\n",
              "      <td>...</td>\n",
              "      <td>-0.994912</td>\n",
              "      <td>-1.0</td>\n",
              "      <td>NaN</td>\n",
              "      <td>NaN</td>\n",
              "      <td>NaN</td>\n",
              "      <td>NaN</td>\n",
              "      <td>NaN</td>\n",
              "      <td>NaN</td>\n",
              "      <td>NaN</td>\n",
              "      <td>NaN</td>\n",
              "      <td>NaN</td>\n",
              "      <td>NaN</td>\n",
              "      <td>NaN</td>\n",
              "      <td>NaN</td>\n",
              "      <td>NaN</td>\n",
              "      <td>NaN</td>\n",
              "      <td>NaN</td>\n",
              "      <td>NaN</td>\n",
              "      <td>NaN</td>\n",
              "      <td>NaN</td>\n",
              "      <td>NaN</td>\n",
              "      <td>NaN</td>\n",
              "      <td>NaN</td>\n",
              "      <td>NaN</td>\n",
              "      <td>NaN</td>\n",
              "      <td>NaN</td>\n",
              "      <td>NaN</td>\n",
              "      <td>NaN</td>\n",
              "      <td>NaN</td>\n",
              "      <td>NaN</td>\n",
              "      <td>NaN</td>\n",
              "      <td>NaN</td>\n",
              "      <td>NaN</td>\n",
              "      <td>NaN</td>\n",
              "      <td>NaN</td>\n",
              "      <td>NaN</td>\n",
              "      <td>NaN</td>\n",
              "      <td>NaN</td>\n",
              "      <td>4-6</td>\n",
              "      <td>0</td>\n",
              "    </tr>\n",
              "    <tr>\n",
              "      <th>3</th>\n",
              "      <td>0</td>\n",
              "      <td>1</td>\n",
              "      <td>60th</td>\n",
              "      <td>0</td>\n",
              "      <td>0.0</td>\n",
              "      <td>0.0</td>\n",
              "      <td>0.0</td>\n",
              "      <td>0.0</td>\n",
              "      <td>1.0</td>\n",
              "      <td>1.0</td>\n",
              "      <td>0.0</td>\n",
              "      <td>0.0</td>\n",
              "      <td>1.0</td>\n",
              "      <td>NaN</td>\n",
              "      <td>NaN</td>\n",
              "      <td>NaN</td>\n",
              "      <td>NaN</td>\n",
              "      <td>NaN</td>\n",
              "      <td>NaN</td>\n",
              "      <td>NaN</td>\n",
              "      <td>NaN</td>\n",
              "      <td>NaN</td>\n",
              "      <td>NaN</td>\n",
              "      <td>NaN</td>\n",
              "      <td>NaN</td>\n",
              "      <td>NaN</td>\n",
              "      <td>NaN</td>\n",
              "      <td>NaN</td>\n",
              "      <td>NaN</td>\n",
              "      <td>NaN</td>\n",
              "      <td>NaN</td>\n",
              "      <td>NaN</td>\n",
              "      <td>NaN</td>\n",
              "      <td>NaN</td>\n",
              "      <td>NaN</td>\n",
              "      <td>NaN</td>\n",
              "      <td>NaN</td>\n",
              "      <td>NaN</td>\n",
              "      <td>NaN</td>\n",
              "      <td>NaN</td>\n",
              "      <td>...</td>\n",
              "      <td>NaN</td>\n",
              "      <td>NaN</td>\n",
              "      <td>NaN</td>\n",
              "      <td>NaN</td>\n",
              "      <td>NaN</td>\n",
              "      <td>NaN</td>\n",
              "      <td>-0.107143</td>\n",
              "      <td>0.736842</td>\n",
              "      <td>NaN</td>\n",
              "      <td>NaN</td>\n",
              "      <td>NaN</td>\n",
              "      <td>NaN</td>\n",
              "      <td>-0.107143</td>\n",
              "      <td>0.736842</td>\n",
              "      <td>NaN</td>\n",
              "      <td>NaN</td>\n",
              "      <td>NaN</td>\n",
              "      <td>NaN</td>\n",
              "      <td>0.318681</td>\n",
              "      <td>0.898990</td>\n",
              "      <td>NaN</td>\n",
              "      <td>NaN</td>\n",
              "      <td>NaN</td>\n",
              "      <td>NaN</td>\n",
              "      <td>-0.275362</td>\n",
              "      <td>0.736842</td>\n",
              "      <td>NaN</td>\n",
              "      <td>NaN</td>\n",
              "      <td>NaN</td>\n",
              "      <td>NaN</td>\n",
              "      <td>-1.000000</td>\n",
              "      <td>-1.000000</td>\n",
              "      <td>NaN</td>\n",
              "      <td>NaN</td>\n",
              "      <td>NaN</td>\n",
              "      <td>NaN</td>\n",
              "      <td>-1.000000</td>\n",
              "      <td>-1.000000</td>\n",
              "      <td>6-12</td>\n",
              "      <td>0</td>\n",
              "    </tr>\n",
              "    <tr>\n",
              "      <th>4</th>\n",
              "      <td>0</td>\n",
              "      <td>1</td>\n",
              "      <td>60th</td>\n",
              "      <td>0</td>\n",
              "      <td>0.0</td>\n",
              "      <td>0.0</td>\n",
              "      <td>0.0</td>\n",
              "      <td>0.0</td>\n",
              "      <td>1.0</td>\n",
              "      <td>1.0</td>\n",
              "      <td>0.0</td>\n",
              "      <td>0.0</td>\n",
              "      <td>1.0</td>\n",
              "      <td>0.000000</td>\n",
              "      <td>0.000000</td>\n",
              "      <td>0.000000</td>\n",
              "      <td>0.000000</td>\n",
              "      <td>-1.0</td>\n",
              "      <td>-0.871658</td>\n",
              "      <td>-0.871658</td>\n",
              "      <td>-0.871658</td>\n",
              "      <td>-0.871658</td>\n",
              "      <td>-1.0</td>\n",
              "      <td>-0.863874</td>\n",
              "      <td>-0.863874</td>\n",
              "      <td>-0.863874</td>\n",
              "      <td>-0.863874</td>\n",
              "      <td>-1.0</td>\n",
              "      <td>-0.317073</td>\n",
              "      <td>-0.317073</td>\n",
              "      <td>-0.317073</td>\n",
              "      <td>-0.317073</td>\n",
              "      <td>-1.0</td>\n",
              "      <td>-0.414634</td>\n",
              "      <td>-0.414634</td>\n",
              "      <td>-0.414634</td>\n",
              "      <td>-0.414634</td>\n",
              "      <td>-1.0</td>\n",
              "      <td>-0.979069</td>\n",
              "      <td>-0.979069</td>\n",
              "      <td>...</td>\n",
              "      <td>-0.996762</td>\n",
              "      <td>-1.0</td>\n",
              "      <td>-0.243021</td>\n",
              "      <td>-0.338537</td>\n",
              "      <td>-0.213031</td>\n",
              "      <td>-0.317859</td>\n",
              "      <td>0.033779</td>\n",
              "      <td>0.665932</td>\n",
              "      <td>-0.283951</td>\n",
              "      <td>-0.376923</td>\n",
              "      <td>-0.188679</td>\n",
              "      <td>-0.379310</td>\n",
              "      <td>0.035714</td>\n",
              "      <td>0.631579</td>\n",
              "      <td>-0.340206</td>\n",
              "      <td>-0.4875</td>\n",
              "      <td>-0.572650</td>\n",
              "      <td>-0.857143</td>\n",
              "      <td>0.098901</td>\n",
              "      <td>0.797980</td>\n",
              "      <td>-0.076923</td>\n",
              "      <td>0.286486</td>\n",
              "      <td>0.298507</td>\n",
              "      <td>0.272727</td>\n",
              "      <td>0.362319</td>\n",
              "      <td>0.947368</td>\n",
              "      <td>-0.33913</td>\n",
              "      <td>0.325153</td>\n",
              "      <td>0.114504</td>\n",
              "      <td>0.176471</td>\n",
              "      <td>-0.238095</td>\n",
              "      <td>-0.818182</td>\n",
              "      <td>-0.389967</td>\n",
              "      <td>0.407558</td>\n",
              "      <td>-0.230462</td>\n",
              "      <td>0.096774</td>\n",
              "      <td>-0.242282</td>\n",
              "      <td>-0.814433</td>\n",
              "      <td>ABOVE_12</td>\n",
              "      <td>1</td>\n",
              "    </tr>\n",
              "  </tbody>\n",
              "</table>\n",
              "<p>5 rows × 231 columns</p>\n",
              "</div>"
            ],
            "text/plain": [
              "   PATIENT_VISIT_IDENTIFIER  AGE_ABOVE65  ...    WINDOW  ICU\n",
              "0                         0            1  ...       0-2    0\n",
              "1                         0            1  ...       2-4    0\n",
              "2                         0            1  ...       4-6    0\n",
              "3                         0            1  ...      6-12    0\n",
              "4                         0            1  ...  ABOVE_12    1\n",
              "\n",
              "[5 rows x 231 columns]"
            ]
          },
          "metadata": {
            "tags": []
          },
          "execution_count": 3
        }
      ]
    },
    {
      "cell_type": "markdown",
      "metadata": {
        "id": "0ep_74VfJ5Ex"
      },
      "source": [
        "Vamos seguir a estratégia adotada no módulo passado, de preencher as lacunas de dados usando os métodos de **```backfill```** e **```forward fill```**.\n",
        "\n",
        "Precisamos também eliminar os dados dos pacientes que entraram no hospital e já foram para a UTI na primeira janela de medições (0-2h), pois as medições podem ter sido realizadas quando ele já estava na UTI, tornando o resultado sem importância para efeitos preditivos.\n"
      ]
    },
    {
      "cell_type": "code",
      "metadata": {
        "id": "q04C65RUaQzK"
      },
      "source": [
        "def preenche_tabela(dados):\n",
        "    features_continuas_colunas = dados.iloc[:, 13:-2].columns\n",
        "    features_continuas = dados.groupby('PATIENT_VISIT_IDENTIFIER', as_index=False)[features_continuas_colunas].fillna(method='bfill').fillna(method='ffill')\n",
        "    features_categoricas = dados.iloc[:, :13]\n",
        "    saida = dados.iloc[:, -2:]\n",
        "    dados_finais = pd.concat([features_categoricas, features_continuas, saida], ignore_index=True,axis=1)\n",
        "    dados_finais.columns = dados.columns\n",
        "    return dados_finais"
      ],
      "execution_count": 4,
      "outputs": []
    },
    {
      "cell_type": "code",
      "metadata": {
        "colab": {
          "base_uri": "https://localhost:8080/",
          "height": 380
        },
        "id": "bMUDf0qQE4Tx",
        "outputId": "89dee6eb-8bb1-4692-aa75-905bc4051e0c"
      },
      "source": [
        "dados_limpos = preenche_tabela(dados)\n",
        "a_remover = dados_limpos.query('WINDOW==\"0-2\" and ICU==1')['PATIENT_VISIT_IDENTIFIER'].values\n",
        "dados_limpos = dados_limpos.query('PATIENT_VISIT_IDENTIFIER not in @a_remover')\n",
        "dados_limpos = dados_limpos.dropna()\n",
        "dados_limpos.describe()"
      ],
      "execution_count": 5,
      "outputs": [
        {
          "output_type": "execute_result",
          "data": {
            "text/html": [
              "<div>\n",
              "<style scoped>\n",
              "    .dataframe tbody tr th:only-of-type {\n",
              "        vertical-align: middle;\n",
              "    }\n",
              "\n",
              "    .dataframe tbody tr th {\n",
              "        vertical-align: top;\n",
              "    }\n",
              "\n",
              "    .dataframe thead th {\n",
              "        text-align: right;\n",
              "    }\n",
              "</style>\n",
              "<table border=\"1\" class=\"dataframe\">\n",
              "  <thead>\n",
              "    <tr style=\"text-align: right;\">\n",
              "      <th></th>\n",
              "      <th>PATIENT_VISIT_IDENTIFIER</th>\n",
              "      <th>AGE_ABOVE65</th>\n",
              "      <th>GENDER</th>\n",
              "      <th>DISEASE GROUPING 1</th>\n",
              "      <th>DISEASE GROUPING 2</th>\n",
              "      <th>DISEASE GROUPING 3</th>\n",
              "      <th>DISEASE GROUPING 4</th>\n",
              "      <th>DISEASE GROUPING 5</th>\n",
              "      <th>DISEASE GROUPING 6</th>\n",
              "      <th>HTN</th>\n",
              "      <th>IMMUNOCOMPROMISED</th>\n",
              "      <th>OTHER</th>\n",
              "      <th>ALBUMIN_MEDIAN</th>\n",
              "      <th>ALBUMIN_MEAN</th>\n",
              "      <th>ALBUMIN_MIN</th>\n",
              "      <th>ALBUMIN_MAX</th>\n",
              "      <th>ALBUMIN_DIFF</th>\n",
              "      <th>BE_ARTERIAL_MEDIAN</th>\n",
              "      <th>BE_ARTERIAL_MEAN</th>\n",
              "      <th>BE_ARTERIAL_MIN</th>\n",
              "      <th>BE_ARTERIAL_MAX</th>\n",
              "      <th>BE_ARTERIAL_DIFF</th>\n",
              "      <th>BE_VENOUS_MEDIAN</th>\n",
              "      <th>BE_VENOUS_MEAN</th>\n",
              "      <th>BE_VENOUS_MIN</th>\n",
              "      <th>BE_VENOUS_MAX</th>\n",
              "      <th>BE_VENOUS_DIFF</th>\n",
              "      <th>BIC_ARTERIAL_MEDIAN</th>\n",
              "      <th>BIC_ARTERIAL_MEAN</th>\n",
              "      <th>BIC_ARTERIAL_MIN</th>\n",
              "      <th>BIC_ARTERIAL_MAX</th>\n",
              "      <th>BIC_ARTERIAL_DIFF</th>\n",
              "      <th>BIC_VENOUS_MEDIAN</th>\n",
              "      <th>BIC_VENOUS_MEAN</th>\n",
              "      <th>BIC_VENOUS_MIN</th>\n",
              "      <th>BIC_VENOUS_MAX</th>\n",
              "      <th>BIC_VENOUS_DIFF</th>\n",
              "      <th>BILLIRUBIN_MEDIAN</th>\n",
              "      <th>BILLIRUBIN_MEAN</th>\n",
              "      <th>BILLIRUBIN_MIN</th>\n",
              "      <th>...</th>\n",
              "      <th>DIMER_MIN</th>\n",
              "      <th>DIMER_MAX</th>\n",
              "      <th>DIMER_DIFF</th>\n",
              "      <th>BLOODPRESSURE_DIASTOLIC_MEAN</th>\n",
              "      <th>BLOODPRESSURE_SISTOLIC_MEAN</th>\n",
              "      <th>HEART_RATE_MEAN</th>\n",
              "      <th>RESPIRATORY_RATE_MEAN</th>\n",
              "      <th>TEMPERATURE_MEAN</th>\n",
              "      <th>OXYGEN_SATURATION_MEAN</th>\n",
              "      <th>BLOODPRESSURE_DIASTOLIC_MEDIAN</th>\n",
              "      <th>BLOODPRESSURE_SISTOLIC_MEDIAN</th>\n",
              "      <th>HEART_RATE_MEDIAN</th>\n",
              "      <th>RESPIRATORY_RATE_MEDIAN</th>\n",
              "      <th>TEMPERATURE_MEDIAN</th>\n",
              "      <th>OXYGEN_SATURATION_MEDIAN</th>\n",
              "      <th>BLOODPRESSURE_DIASTOLIC_MIN</th>\n",
              "      <th>BLOODPRESSURE_SISTOLIC_MIN</th>\n",
              "      <th>HEART_RATE_MIN</th>\n",
              "      <th>RESPIRATORY_RATE_MIN</th>\n",
              "      <th>TEMPERATURE_MIN</th>\n",
              "      <th>OXYGEN_SATURATION_MIN</th>\n",
              "      <th>BLOODPRESSURE_DIASTOLIC_MAX</th>\n",
              "      <th>BLOODPRESSURE_SISTOLIC_MAX</th>\n",
              "      <th>HEART_RATE_MAX</th>\n",
              "      <th>RESPIRATORY_RATE_MAX</th>\n",
              "      <th>TEMPERATURE_MAX</th>\n",
              "      <th>OXYGEN_SATURATION_MAX</th>\n",
              "      <th>BLOODPRESSURE_DIASTOLIC_DIFF</th>\n",
              "      <th>BLOODPRESSURE_SISTOLIC_DIFF</th>\n",
              "      <th>HEART_RATE_DIFF</th>\n",
              "      <th>RESPIRATORY_RATE_DIFF</th>\n",
              "      <th>TEMPERATURE_DIFF</th>\n",
              "      <th>OXYGEN_SATURATION_DIFF</th>\n",
              "      <th>BLOODPRESSURE_DIASTOLIC_DIFF_REL</th>\n",
              "      <th>BLOODPRESSURE_SISTOLIC_DIFF_REL</th>\n",
              "      <th>HEART_RATE_DIFF_REL</th>\n",
              "      <th>RESPIRATORY_RATE_DIFF_REL</th>\n",
              "      <th>TEMPERATURE_DIFF_REL</th>\n",
              "      <th>OXYGEN_SATURATION_DIFF_REL</th>\n",
              "      <th>ICU</th>\n",
              "    </tr>\n",
              "  </thead>\n",
              "  <tbody>\n",
              "    <tr>\n",
              "      <th>count</th>\n",
              "      <td>1760.000000</td>\n",
              "      <td>1760.000000</td>\n",
              "      <td>1760.000000</td>\n",
              "      <td>1760.00000</td>\n",
              "      <td>1760.000000</td>\n",
              "      <td>1760.000000</td>\n",
              "      <td>1760.000000</td>\n",
              "      <td>1760.000000</td>\n",
              "      <td>1760.000000</td>\n",
              "      <td>1760.000000</td>\n",
              "      <td>1760.000000</td>\n",
              "      <td>1760.000000</td>\n",
              "      <td>1760.000000</td>\n",
              "      <td>1760.000000</td>\n",
              "      <td>1760.000000</td>\n",
              "      <td>1760.000000</td>\n",
              "      <td>1760.0</td>\n",
              "      <td>1760.000000</td>\n",
              "      <td>1760.000000</td>\n",
              "      <td>1760.000000</td>\n",
              "      <td>1760.000000</td>\n",
              "      <td>1760.0</td>\n",
              "      <td>1760.000000</td>\n",
              "      <td>1760.000000</td>\n",
              "      <td>1760.000000</td>\n",
              "      <td>1760.000000</td>\n",
              "      <td>1760.0</td>\n",
              "      <td>1760.000000</td>\n",
              "      <td>1760.000000</td>\n",
              "      <td>1760.000000</td>\n",
              "      <td>1760.000000</td>\n",
              "      <td>1760.0</td>\n",
              "      <td>1760.000000</td>\n",
              "      <td>1760.000000</td>\n",
              "      <td>1760.000000</td>\n",
              "      <td>1760.000000</td>\n",
              "      <td>1760.0</td>\n",
              "      <td>1760.000000</td>\n",
              "      <td>1760.000000</td>\n",
              "      <td>1760.000000</td>\n",
              "      <td>...</td>\n",
              "      <td>1760.000000</td>\n",
              "      <td>1760.000000</td>\n",
              "      <td>1760.0</td>\n",
              "      <td>1760.000000</td>\n",
              "      <td>1760.000000</td>\n",
              "      <td>1760.000000</td>\n",
              "      <td>1760.000000</td>\n",
              "      <td>1760.000000</td>\n",
              "      <td>1760.000000</td>\n",
              "      <td>1760.000000</td>\n",
              "      <td>1760.000000</td>\n",
              "      <td>1760.000000</td>\n",
              "      <td>1760.000000</td>\n",
              "      <td>1760.000000</td>\n",
              "      <td>1760.000000</td>\n",
              "      <td>1760.000000</td>\n",
              "      <td>1760.000000</td>\n",
              "      <td>1760.000000</td>\n",
              "      <td>1760.000000</td>\n",
              "      <td>1760.000000</td>\n",
              "      <td>1760.000000</td>\n",
              "      <td>1760.000000</td>\n",
              "      <td>1760.000000</td>\n",
              "      <td>1760.000000</td>\n",
              "      <td>1760.000000</td>\n",
              "      <td>1760.000000</td>\n",
              "      <td>1760.000000</td>\n",
              "      <td>1760.000000</td>\n",
              "      <td>1760.000000</td>\n",
              "      <td>1760.000000</td>\n",
              "      <td>1760.000000</td>\n",
              "      <td>1760.000000</td>\n",
              "      <td>1760.000000</td>\n",
              "      <td>1760.000000</td>\n",
              "      <td>1760.000000</td>\n",
              "      <td>1760.000000</td>\n",
              "      <td>1760.000000</td>\n",
              "      <td>1760.000000</td>\n",
              "      <td>1760.000000</td>\n",
              "      <td>1760.000000</td>\n",
              "    </tr>\n",
              "    <tr>\n",
              "      <th>mean</th>\n",
              "      <td>192.818182</td>\n",
              "      <td>0.457386</td>\n",
              "      <td>0.380682</td>\n",
              "      <td>0.11250</td>\n",
              "      <td>0.026136</td>\n",
              "      <td>0.101705</td>\n",
              "      <td>0.021591</td>\n",
              "      <td>0.132955</td>\n",
              "      <td>0.049432</td>\n",
              "      <td>0.212500</td>\n",
              "      <td>0.163636</td>\n",
              "      <td>0.828977</td>\n",
              "      <td>0.517913</td>\n",
              "      <td>0.517913</td>\n",
              "      <td>0.517913</td>\n",
              "      <td>0.517913</td>\n",
              "      <td>-1.0</td>\n",
              "      <td>-0.958386</td>\n",
              "      <td>-0.958386</td>\n",
              "      <td>-0.958386</td>\n",
              "      <td>-0.958386</td>\n",
              "      <td>-1.0</td>\n",
              "      <td>-0.926916</td>\n",
              "      <td>-0.926916</td>\n",
              "      <td>-0.926916</td>\n",
              "      <td>-0.926916</td>\n",
              "      <td>-1.0</td>\n",
              "      <td>-0.306430</td>\n",
              "      <td>-0.306430</td>\n",
              "      <td>-0.306430</td>\n",
              "      <td>-0.306430</td>\n",
              "      <td>-1.0</td>\n",
              "      <td>-0.305377</td>\n",
              "      <td>-0.305377</td>\n",
              "      <td>-0.305377</td>\n",
              "      <td>-0.305377</td>\n",
              "      <td>-1.0</td>\n",
              "      <td>-0.945935</td>\n",
              "      <td>-0.945935</td>\n",
              "      <td>-0.945935</td>\n",
              "      <td>...</td>\n",
              "      <td>-0.955277</td>\n",
              "      <td>-0.955277</td>\n",
              "      <td>-1.0</td>\n",
              "      <td>-0.073908</td>\n",
              "      <td>-0.339631</td>\n",
              "      <td>-0.267838</td>\n",
              "      <td>-0.458545</td>\n",
              "      <td>0.067973</td>\n",
              "      <td>0.747996</td>\n",
              "      <td>-0.078023</td>\n",
              "      <td>-0.344698</td>\n",
              "      <td>-0.270867</td>\n",
              "      <td>-0.452606</td>\n",
              "      <td>0.064864</td>\n",
              "      <td>0.751914</td>\n",
              "      <td>-0.001207</td>\n",
              "      <td>-0.187010</td>\n",
              "      <td>-0.243988</td>\n",
              "      <td>-0.469278</td>\n",
              "      <td>0.350887</td>\n",
              "      <td>0.841908</td>\n",
              "      <td>-0.248728</td>\n",
              "      <td>-0.432592</td>\n",
              "      <td>-0.313034</td>\n",
              "      <td>-0.381784</td>\n",
              "      <td>-0.017968</td>\n",
              "      <td>0.808029</td>\n",
              "      <td>-0.799862</td>\n",
              "      <td>-0.785938</td>\n",
              "      <td>-0.804580</td>\n",
              "      <td>-0.778209</td>\n",
              "      <td>-0.823458</td>\n",
              "      <td>-0.915593</td>\n",
              "      <td>-0.828593</td>\n",
              "      <td>-0.774857</td>\n",
              "      <td>-0.854690</td>\n",
              "      <td>-0.788155</td>\n",
              "      <td>-0.824412</td>\n",
              "      <td>-0.915552</td>\n",
              "      <td>0.201705</td>\n",
              "    </tr>\n",
              "    <tr>\n",
              "      <th>std</th>\n",
              "      <td>110.637724</td>\n",
              "      <td>0.498322</td>\n",
              "      <td>0.485692</td>\n",
              "      <td>0.31607</td>\n",
              "      <td>0.159586</td>\n",
              "      <td>0.302345</td>\n",
              "      <td>0.145385</td>\n",
              "      <td>0.339622</td>\n",
              "      <td>0.216829</td>\n",
              "      <td>0.409193</td>\n",
              "      <td>0.370050</td>\n",
              "      <td>0.376636</td>\n",
              "      <td>0.235219</td>\n",
              "      <td>0.235219</td>\n",
              "      <td>0.235219</td>\n",
              "      <td>0.235219</td>\n",
              "      <td>0.0</td>\n",
              "      <td>0.182797</td>\n",
              "      <td>0.182797</td>\n",
              "      <td>0.182797</td>\n",
              "      <td>0.182797</td>\n",
              "      <td>0.0</td>\n",
              "      <td>0.178947</td>\n",
              "      <td>0.178947</td>\n",
              "      <td>0.178947</td>\n",
              "      <td>0.178947</td>\n",
              "      <td>0.0</td>\n",
              "      <td>0.107783</td>\n",
              "      <td>0.107783</td>\n",
              "      <td>0.107783</td>\n",
              "      <td>0.107783</td>\n",
              "      <td>0.0</td>\n",
              "      <td>0.120988</td>\n",
              "      <td>0.120988</td>\n",
              "      <td>0.120988</td>\n",
              "      <td>0.120988</td>\n",
              "      <td>0.0</td>\n",
              "      <td>0.088861</td>\n",
              "      <td>0.088861</td>\n",
              "      <td>0.088861</td>\n",
              "      <td>...</td>\n",
              "      <td>0.125227</td>\n",
              "      <td>0.125227</td>\n",
              "      <td>0.0</td>\n",
              "      <td>0.248552</td>\n",
              "      <td>0.261409</td>\n",
              "      <td>0.241648</td>\n",
              "      <td>0.207736</td>\n",
              "      <td>0.239760</td>\n",
              "      <td>0.119912</td>\n",
              "      <td>0.254493</td>\n",
              "      <td>0.264516</td>\n",
              "      <td>0.247132</td>\n",
              "      <td>0.218765</td>\n",
              "      <td>0.247949</td>\n",
              "      <td>0.119985</td>\n",
              "      <td>0.270201</td>\n",
              "      <td>0.261183</td>\n",
              "      <td>0.260190</td>\n",
              "      <td>0.252147</td>\n",
              "      <td>0.193029</td>\n",
              "      <td>0.236797</td>\n",
              "      <td>0.246389</td>\n",
              "      <td>0.258776</td>\n",
              "      <td>0.274449</td>\n",
              "      <td>0.356890</td>\n",
              "      <td>0.262440</td>\n",
              "      <td>0.132323</td>\n",
              "      <td>0.322680</td>\n",
              "      <td>0.356078</td>\n",
              "      <td>0.324716</td>\n",
              "      <td>0.411909</td>\n",
              "      <td>0.276279</td>\n",
              "      <td>0.247695</td>\n",
              "      <td>0.287696</td>\n",
              "      <td>0.368311</td>\n",
              "      <td>0.240338</td>\n",
              "      <td>0.384405</td>\n",
              "      <td>0.274953</td>\n",
              "      <td>0.248093</td>\n",
              "      <td>0.401387</td>\n",
              "    </tr>\n",
              "    <tr>\n",
              "      <th>min</th>\n",
              "      <td>0.000000</td>\n",
              "      <td>0.000000</td>\n",
              "      <td>0.000000</td>\n",
              "      <td>0.00000</td>\n",
              "      <td>0.000000</td>\n",
              "      <td>0.000000</td>\n",
              "      <td>0.000000</td>\n",
              "      <td>0.000000</td>\n",
              "      <td>0.000000</td>\n",
              "      <td>0.000000</td>\n",
              "      <td>0.000000</td>\n",
              "      <td>0.000000</td>\n",
              "      <td>-1.000000</td>\n",
              "      <td>-1.000000</td>\n",
              "      <td>-1.000000</td>\n",
              "      <td>-1.000000</td>\n",
              "      <td>-1.0</td>\n",
              "      <td>-1.000000</td>\n",
              "      <td>-1.000000</td>\n",
              "      <td>-1.000000</td>\n",
              "      <td>-1.000000</td>\n",
              "      <td>-1.0</td>\n",
              "      <td>-1.000000</td>\n",
              "      <td>-1.000000</td>\n",
              "      <td>-1.000000</td>\n",
              "      <td>-1.000000</td>\n",
              "      <td>-1.0</td>\n",
              "      <td>-1.000000</td>\n",
              "      <td>-1.000000</td>\n",
              "      <td>-1.000000</td>\n",
              "      <td>-1.000000</td>\n",
              "      <td>-1.0</td>\n",
              "      <td>-1.000000</td>\n",
              "      <td>-1.000000</td>\n",
              "      <td>-1.000000</td>\n",
              "      <td>-1.000000</td>\n",
              "      <td>-1.0</td>\n",
              "      <td>-1.000000</td>\n",
              "      <td>-1.000000</td>\n",
              "      <td>-1.000000</td>\n",
              "      <td>...</td>\n",
              "      <td>-1.000000</td>\n",
              "      <td>-1.000000</td>\n",
              "      <td>-1.0</td>\n",
              "      <td>-1.000000</td>\n",
              "      <td>-1.000000</td>\n",
              "      <td>-1.000000</td>\n",
              "      <td>-1.000000</td>\n",
              "      <td>-0.578571</td>\n",
              "      <td>-1.000000</td>\n",
              "      <td>-1.000000</td>\n",
              "      <td>-1.000000</td>\n",
              "      <td>-1.000000</td>\n",
              "      <td>-1.000000</td>\n",
              "      <td>-0.607143</td>\n",
              "      <td>-1.000000</td>\n",
              "      <td>-1.000000</td>\n",
              "      <td>-1.000000</td>\n",
              "      <td>-1.000000</td>\n",
              "      <td>-1.000000</td>\n",
              "      <td>-0.340659</td>\n",
              "      <td>-1.000000</td>\n",
              "      <td>-1.000000</td>\n",
              "      <td>-1.000000</td>\n",
              "      <td>-1.000000</td>\n",
              "      <td>-1.000000</td>\n",
              "      <td>-0.652174</td>\n",
              "      <td>-1.000000</td>\n",
              "      <td>-1.000000</td>\n",
              "      <td>-1.000000</td>\n",
              "      <td>-1.000000</td>\n",
              "      <td>-1.000000</td>\n",
              "      <td>-1.000000</td>\n",
              "      <td>-1.000000</td>\n",
              "      <td>-1.000000</td>\n",
              "      <td>-1.000000</td>\n",
              "      <td>-1.000000</td>\n",
              "      <td>-1.000000</td>\n",
              "      <td>-1.000000</td>\n",
              "      <td>-1.000000</td>\n",
              "      <td>0.000000</td>\n",
              "    </tr>\n",
              "    <tr>\n",
              "      <th>25%</th>\n",
              "      <td>97.750000</td>\n",
              "      <td>0.000000</td>\n",
              "      <td>0.000000</td>\n",
              "      <td>0.00000</td>\n",
              "      <td>0.000000</td>\n",
              "      <td>0.000000</td>\n",
              "      <td>0.000000</td>\n",
              "      <td>0.000000</td>\n",
              "      <td>0.000000</td>\n",
              "      <td>0.000000</td>\n",
              "      <td>0.000000</td>\n",
              "      <td>1.000000</td>\n",
              "      <td>0.605263</td>\n",
              "      <td>0.605263</td>\n",
              "      <td>0.605263</td>\n",
              "      <td>0.605263</td>\n",
              "      <td>-1.0</td>\n",
              "      <td>-1.000000</td>\n",
              "      <td>-1.000000</td>\n",
              "      <td>-1.000000</td>\n",
              "      <td>-1.000000</td>\n",
              "      <td>-1.0</td>\n",
              "      <td>-1.000000</td>\n",
              "      <td>-1.000000</td>\n",
              "      <td>-1.000000</td>\n",
              "      <td>-1.000000</td>\n",
              "      <td>-1.0</td>\n",
              "      <td>-0.317073</td>\n",
              "      <td>-0.317073</td>\n",
              "      <td>-0.317073</td>\n",
              "      <td>-0.317073</td>\n",
              "      <td>-1.0</td>\n",
              "      <td>-0.317073</td>\n",
              "      <td>-0.317073</td>\n",
              "      <td>-0.317073</td>\n",
              "      <td>-0.317073</td>\n",
              "      <td>-1.0</td>\n",
              "      <td>-0.968603</td>\n",
              "      <td>-0.968603</td>\n",
              "      <td>-0.968603</td>\n",
              "      <td>...</td>\n",
              "      <td>-0.980958</td>\n",
              "      <td>-0.980958</td>\n",
              "      <td>-1.0</td>\n",
              "      <td>-0.234568</td>\n",
              "      <td>-0.523077</td>\n",
              "      <td>-0.427645</td>\n",
              "      <td>-0.570621</td>\n",
              "      <td>-0.107143</td>\n",
              "      <td>0.684211</td>\n",
              "      <td>-0.234568</td>\n",
              "      <td>-0.538462</td>\n",
              "      <td>-0.433962</td>\n",
              "      <td>-0.586207</td>\n",
              "      <td>-0.107143</td>\n",
              "      <td>0.684211</td>\n",
              "      <td>-0.175258</td>\n",
              "      <td>-0.375000</td>\n",
              "      <td>-0.418803</td>\n",
              "      <td>-0.571429</td>\n",
              "      <td>0.230769</td>\n",
              "      <td>0.838384</td>\n",
              "      <td>-0.418803</td>\n",
              "      <td>-0.600000</td>\n",
              "      <td>-0.492537</td>\n",
              "      <td>-0.575758</td>\n",
              "      <td>-0.217391</td>\n",
              "      <td>0.736842</td>\n",
              "      <td>-1.000000</td>\n",
              "      <td>-1.000000</td>\n",
              "      <td>-1.000000</td>\n",
              "      <td>-1.000000</td>\n",
              "      <td>-1.000000</td>\n",
              "      <td>-1.000000</td>\n",
              "      <td>-1.000000</td>\n",
              "      <td>-1.000000</td>\n",
              "      <td>-1.000000</td>\n",
              "      <td>-1.000000</td>\n",
              "      <td>-1.000000</td>\n",
              "      <td>-1.000000</td>\n",
              "      <td>0.000000</td>\n",
              "    </tr>\n",
              "    <tr>\n",
              "      <th>50%</th>\n",
              "      <td>191.500000</td>\n",
              "      <td>0.000000</td>\n",
              "      <td>0.000000</td>\n",
              "      <td>0.00000</td>\n",
              "      <td>0.000000</td>\n",
              "      <td>0.000000</td>\n",
              "      <td>0.000000</td>\n",
              "      <td>0.000000</td>\n",
              "      <td>0.000000</td>\n",
              "      <td>0.000000</td>\n",
              "      <td>0.000000</td>\n",
              "      <td>1.000000</td>\n",
              "      <td>0.605263</td>\n",
              "      <td>0.605263</td>\n",
              "      <td>0.605263</td>\n",
              "      <td>0.605263</td>\n",
              "      <td>-1.0</td>\n",
              "      <td>-1.000000</td>\n",
              "      <td>-1.000000</td>\n",
              "      <td>-1.000000</td>\n",
              "      <td>-1.000000</td>\n",
              "      <td>-1.0</td>\n",
              "      <td>-1.000000</td>\n",
              "      <td>-1.000000</td>\n",
              "      <td>-1.000000</td>\n",
              "      <td>-1.000000</td>\n",
              "      <td>-1.0</td>\n",
              "      <td>-0.317073</td>\n",
              "      <td>-0.317073</td>\n",
              "      <td>-0.317073</td>\n",
              "      <td>-0.317073</td>\n",
              "      <td>-1.0</td>\n",
              "      <td>-0.317073</td>\n",
              "      <td>-0.317073</td>\n",
              "      <td>-0.317073</td>\n",
              "      <td>-0.317073</td>\n",
              "      <td>-1.0</td>\n",
              "      <td>-0.938950</td>\n",
              "      <td>-0.938950</td>\n",
              "      <td>-0.938950</td>\n",
              "      <td>...</td>\n",
              "      <td>-0.978029</td>\n",
              "      <td>-0.978029</td>\n",
              "      <td>-1.0</td>\n",
              "      <td>-0.078189</td>\n",
              "      <td>-0.384615</td>\n",
              "      <td>-0.292453</td>\n",
              "      <td>-0.525424</td>\n",
              "      <td>0.035714</td>\n",
              "      <td>0.750000</td>\n",
              "      <td>-0.111111</td>\n",
              "      <td>-0.384615</td>\n",
              "      <td>-0.292453</td>\n",
              "      <td>-0.517241</td>\n",
              "      <td>0.035714</td>\n",
              "      <td>0.736842</td>\n",
              "      <td>0.030928</td>\n",
              "      <td>-0.225000</td>\n",
              "      <td>-0.264957</td>\n",
              "      <td>-0.500000</td>\n",
              "      <td>0.340659</td>\n",
              "      <td>0.878788</td>\n",
              "      <td>-0.247863</td>\n",
              "      <td>-0.459459</td>\n",
              "      <td>-0.358209</td>\n",
              "      <td>-0.515152</td>\n",
              "      <td>-0.072464</td>\n",
              "      <td>0.842105</td>\n",
              "      <td>-1.000000</td>\n",
              "      <td>-1.000000</td>\n",
              "      <td>-1.000000</td>\n",
              "      <td>-1.000000</td>\n",
              "      <td>-1.000000</td>\n",
              "      <td>-1.000000</td>\n",
              "      <td>-1.000000</td>\n",
              "      <td>-1.000000</td>\n",
              "      <td>-1.000000</td>\n",
              "      <td>-1.000000</td>\n",
              "      <td>-1.000000</td>\n",
              "      <td>-1.000000</td>\n",
              "      <td>0.000000</td>\n",
              "    </tr>\n",
              "    <tr>\n",
              "      <th>75%</th>\n",
              "      <td>289.250000</td>\n",
              "      <td>1.000000</td>\n",
              "      <td>1.000000</td>\n",
              "      <td>0.00000</td>\n",
              "      <td>0.000000</td>\n",
              "      <td>0.000000</td>\n",
              "      <td>0.000000</td>\n",
              "      <td>0.000000</td>\n",
              "      <td>0.000000</td>\n",
              "      <td>0.000000</td>\n",
              "      <td>0.000000</td>\n",
              "      <td>1.000000</td>\n",
              "      <td>0.605263</td>\n",
              "      <td>0.605263</td>\n",
              "      <td>0.605263</td>\n",
              "      <td>0.605263</td>\n",
              "      <td>-1.0</td>\n",
              "      <td>-1.000000</td>\n",
              "      <td>-1.000000</td>\n",
              "      <td>-1.000000</td>\n",
              "      <td>-1.000000</td>\n",
              "      <td>-1.0</td>\n",
              "      <td>-0.958115</td>\n",
              "      <td>-0.958115</td>\n",
              "      <td>-0.958115</td>\n",
              "      <td>-0.958115</td>\n",
              "      <td>-1.0</td>\n",
              "      <td>-0.317073</td>\n",
              "      <td>-0.317073</td>\n",
              "      <td>-0.317073</td>\n",
              "      <td>-0.317073</td>\n",
              "      <td>-1.0</td>\n",
              "      <td>-0.317073</td>\n",
              "      <td>-0.317073</td>\n",
              "      <td>-0.317073</td>\n",
              "      <td>-0.317073</td>\n",
              "      <td>-1.0</td>\n",
              "      <td>-0.938950</td>\n",
              "      <td>-0.938950</td>\n",
              "      <td>-0.938950</td>\n",
              "      <td>...</td>\n",
              "      <td>-0.970878</td>\n",
              "      <td>-0.970878</td>\n",
              "      <td>-1.0</td>\n",
              "      <td>0.086420</td>\n",
              "      <td>-0.200000</td>\n",
              "      <td>-0.132075</td>\n",
              "      <td>-0.389831</td>\n",
              "      <td>0.214286</td>\n",
              "      <td>0.824901</td>\n",
              "      <td>0.086420</td>\n",
              "      <td>-0.230769</td>\n",
              "      <td>-0.132075</td>\n",
              "      <td>-0.379310</td>\n",
              "      <td>0.214286</td>\n",
              "      <td>0.842105</td>\n",
              "      <td>0.237113</td>\n",
              "      <td>0.000000</td>\n",
              "      <td>-0.089744</td>\n",
              "      <td>-0.357143</td>\n",
              "      <td>0.494505</td>\n",
              "      <td>0.919192</td>\n",
              "      <td>-0.076923</td>\n",
              "      <td>-0.305405</td>\n",
              "      <td>-0.179104</td>\n",
              "      <td>-0.333333</td>\n",
              "      <td>0.159420</td>\n",
              "      <td>0.894737</td>\n",
              "      <td>-0.652174</td>\n",
              "      <td>-0.656442</td>\n",
              "      <td>-0.709924</td>\n",
              "      <td>-0.764706</td>\n",
              "      <td>-0.738095</td>\n",
              "      <td>-0.919192</td>\n",
              "      <td>-0.726087</td>\n",
              "      <td>-0.651942</td>\n",
              "      <td>-0.771625</td>\n",
              "      <td>-0.756272</td>\n",
              "      <td>-0.736640</td>\n",
              "      <td>-0.920103</td>\n",
              "      <td>0.000000</td>\n",
              "    </tr>\n",
              "    <tr>\n",
              "      <th>max</th>\n",
              "      <td>384.000000</td>\n",
              "      <td>1.000000</td>\n",
              "      <td>1.000000</td>\n",
              "      <td>1.00000</td>\n",
              "      <td>1.000000</td>\n",
              "      <td>1.000000</td>\n",
              "      <td>1.000000</td>\n",
              "      <td>1.000000</td>\n",
              "      <td>1.000000</td>\n",
              "      <td>1.000000</td>\n",
              "      <td>1.000000</td>\n",
              "      <td>1.000000</td>\n",
              "      <td>1.000000</td>\n",
              "      <td>1.000000</td>\n",
              "      <td>1.000000</td>\n",
              "      <td>1.000000</td>\n",
              "      <td>-1.0</td>\n",
              "      <td>1.000000</td>\n",
              "      <td>1.000000</td>\n",
              "      <td>1.000000</td>\n",
              "      <td>1.000000</td>\n",
              "      <td>-1.0</td>\n",
              "      <td>1.000000</td>\n",
              "      <td>1.000000</td>\n",
              "      <td>1.000000</td>\n",
              "      <td>1.000000</td>\n",
              "      <td>-1.0</td>\n",
              "      <td>1.000000</td>\n",
              "      <td>1.000000</td>\n",
              "      <td>1.000000</td>\n",
              "      <td>1.000000</td>\n",
              "      <td>-1.0</td>\n",
              "      <td>1.000000</td>\n",
              "      <td>1.000000</td>\n",
              "      <td>1.000000</td>\n",
              "      <td>1.000000</td>\n",
              "      <td>-1.0</td>\n",
              "      <td>1.000000</td>\n",
              "      <td>1.000000</td>\n",
              "      <td>1.000000</td>\n",
              "      <td>...</td>\n",
              "      <td>1.000000</td>\n",
              "      <td>1.000000</td>\n",
              "      <td>-1.0</td>\n",
              "      <td>1.000000</td>\n",
              "      <td>1.000000</td>\n",
              "      <td>1.000000</td>\n",
              "      <td>1.000000</td>\n",
              "      <td>0.964286</td>\n",
              "      <td>1.000000</td>\n",
              "      <td>1.000000</td>\n",
              "      <td>1.000000</td>\n",
              "      <td>1.000000</td>\n",
              "      <td>1.000000</td>\n",
              "      <td>0.964286</td>\n",
              "      <td>1.000000</td>\n",
              "      <td>1.000000</td>\n",
              "      <td>1.000000</td>\n",
              "      <td>1.000000</td>\n",
              "      <td>1.000000</td>\n",
              "      <td>0.978022</td>\n",
              "      <td>1.000000</td>\n",
              "      <td>1.000000</td>\n",
              "      <td>0.632432</td>\n",
              "      <td>1.000000</td>\n",
              "      <td>1.000000</td>\n",
              "      <td>1.000000</td>\n",
              "      <td>1.000000</td>\n",
              "      <td>1.000000</td>\n",
              "      <td>0.914110</td>\n",
              "      <td>1.000000</td>\n",
              "      <td>1.000000</td>\n",
              "      <td>0.333333</td>\n",
              "      <td>1.000000</td>\n",
              "      <td>1.000000</td>\n",
              "      <td>1.000000</td>\n",
              "      <td>1.000000</td>\n",
              "      <td>1.000000</td>\n",
              "      <td>0.329660</td>\n",
              "      <td>1.000000</td>\n",
              "      <td>1.000000</td>\n",
              "    </tr>\n",
              "  </tbody>\n",
              "</table>\n",
              "<p>8 rows × 229 columns</p>\n",
              "</div>"
            ],
            "text/plain": [
              "       PATIENT_VISIT_IDENTIFIER  ...          ICU\n",
              "count               1760.000000  ...  1760.000000\n",
              "mean                 192.818182  ...     0.201705\n",
              "std                  110.637724  ...     0.401387\n",
              "min                    0.000000  ...     0.000000\n",
              "25%                   97.750000  ...     0.000000\n",
              "50%                  191.500000  ...     0.000000\n",
              "75%                  289.250000  ...     0.000000\n",
              "max                  384.000000  ...     1.000000\n",
              "\n",
              "[8 rows x 229 columns]"
            ]
          },
          "metadata": {
            "tags": []
          },
          "execution_count": 5
        }
      ]
    },
    {
      "cell_type": "markdown",
      "metadata": {
        "id": "bfEoHbSXLKYI"
      },
      "source": [
        "Além disso, vamos ficar com apenas uma linha de dados por paciente. Para isso vamos trazer a informação de necessidade de transferência para a UTI para a primeira janela de observação e desprezar as informações das demais."
      ]
    },
    {
      "cell_type": "code",
      "metadata": {
        "colab": {
          "base_uri": "https://localhost:8080/",
          "height": 318
        },
        "id": "1cvh5ATyE7p0",
        "outputId": "cff8d619-9fe8-4ebc-c4ed-532a25e644c5"
      },
      "source": [
        "def prepare_window(rows):\n",
        "    if(np.any(rows['ICU'])):\n",
        "        rows.loc[rows['WINDOW']=='0-2', 'ICU'] = 1\n",
        "    return rows.loc[rows['WINDOW'] == '0-2']\n",
        "\n",
        "dados_limpos = dados_limpos.groupby(\"PATIENT_VISIT_IDENTIFIER\").apply(prepare_window)\n",
        "\n",
        "dados_limpos.head()"
      ],
      "execution_count": 6,
      "outputs": [
        {
          "output_type": "execute_result",
          "data": {
            "text/html": [
              "<div>\n",
              "<style scoped>\n",
              "    .dataframe tbody tr th:only-of-type {\n",
              "        vertical-align: middle;\n",
              "    }\n",
              "\n",
              "    .dataframe tbody tr th {\n",
              "        vertical-align: top;\n",
              "    }\n",
              "\n",
              "    .dataframe thead th {\n",
              "        text-align: right;\n",
              "    }\n",
              "</style>\n",
              "<table border=\"1\" class=\"dataframe\">\n",
              "  <thead>\n",
              "    <tr style=\"text-align: right;\">\n",
              "      <th></th>\n",
              "      <th></th>\n",
              "      <th>PATIENT_VISIT_IDENTIFIER</th>\n",
              "      <th>AGE_ABOVE65</th>\n",
              "      <th>AGE_PERCENTIL</th>\n",
              "      <th>GENDER</th>\n",
              "      <th>DISEASE GROUPING 1</th>\n",
              "      <th>DISEASE GROUPING 2</th>\n",
              "      <th>DISEASE GROUPING 3</th>\n",
              "      <th>DISEASE GROUPING 4</th>\n",
              "      <th>DISEASE GROUPING 5</th>\n",
              "      <th>DISEASE GROUPING 6</th>\n",
              "      <th>HTN</th>\n",
              "      <th>IMMUNOCOMPROMISED</th>\n",
              "      <th>OTHER</th>\n",
              "      <th>ALBUMIN_MEDIAN</th>\n",
              "      <th>ALBUMIN_MEAN</th>\n",
              "      <th>ALBUMIN_MIN</th>\n",
              "      <th>ALBUMIN_MAX</th>\n",
              "      <th>ALBUMIN_DIFF</th>\n",
              "      <th>BE_ARTERIAL_MEDIAN</th>\n",
              "      <th>BE_ARTERIAL_MEAN</th>\n",
              "      <th>BE_ARTERIAL_MIN</th>\n",
              "      <th>BE_ARTERIAL_MAX</th>\n",
              "      <th>BE_ARTERIAL_DIFF</th>\n",
              "      <th>BE_VENOUS_MEDIAN</th>\n",
              "      <th>BE_VENOUS_MEAN</th>\n",
              "      <th>BE_VENOUS_MIN</th>\n",
              "      <th>BE_VENOUS_MAX</th>\n",
              "      <th>BE_VENOUS_DIFF</th>\n",
              "      <th>BIC_ARTERIAL_MEDIAN</th>\n",
              "      <th>BIC_ARTERIAL_MEAN</th>\n",
              "      <th>BIC_ARTERIAL_MIN</th>\n",
              "      <th>BIC_ARTERIAL_MAX</th>\n",
              "      <th>BIC_ARTERIAL_DIFF</th>\n",
              "      <th>BIC_VENOUS_MEDIAN</th>\n",
              "      <th>BIC_VENOUS_MEAN</th>\n",
              "      <th>BIC_VENOUS_MIN</th>\n",
              "      <th>BIC_VENOUS_MAX</th>\n",
              "      <th>BIC_VENOUS_DIFF</th>\n",
              "      <th>BILLIRUBIN_MEDIAN</th>\n",
              "      <th>BILLIRUBIN_MEAN</th>\n",
              "      <th>...</th>\n",
              "      <th>DIMER_MAX</th>\n",
              "      <th>DIMER_DIFF</th>\n",
              "      <th>BLOODPRESSURE_DIASTOLIC_MEAN</th>\n",
              "      <th>BLOODPRESSURE_SISTOLIC_MEAN</th>\n",
              "      <th>HEART_RATE_MEAN</th>\n",
              "      <th>RESPIRATORY_RATE_MEAN</th>\n",
              "      <th>TEMPERATURE_MEAN</th>\n",
              "      <th>OXYGEN_SATURATION_MEAN</th>\n",
              "      <th>BLOODPRESSURE_DIASTOLIC_MEDIAN</th>\n",
              "      <th>BLOODPRESSURE_SISTOLIC_MEDIAN</th>\n",
              "      <th>HEART_RATE_MEDIAN</th>\n",
              "      <th>RESPIRATORY_RATE_MEDIAN</th>\n",
              "      <th>TEMPERATURE_MEDIAN</th>\n",
              "      <th>OXYGEN_SATURATION_MEDIAN</th>\n",
              "      <th>BLOODPRESSURE_DIASTOLIC_MIN</th>\n",
              "      <th>BLOODPRESSURE_SISTOLIC_MIN</th>\n",
              "      <th>HEART_RATE_MIN</th>\n",
              "      <th>RESPIRATORY_RATE_MIN</th>\n",
              "      <th>TEMPERATURE_MIN</th>\n",
              "      <th>OXYGEN_SATURATION_MIN</th>\n",
              "      <th>BLOODPRESSURE_DIASTOLIC_MAX</th>\n",
              "      <th>BLOODPRESSURE_SISTOLIC_MAX</th>\n",
              "      <th>HEART_RATE_MAX</th>\n",
              "      <th>RESPIRATORY_RATE_MAX</th>\n",
              "      <th>TEMPERATURE_MAX</th>\n",
              "      <th>OXYGEN_SATURATION_MAX</th>\n",
              "      <th>BLOODPRESSURE_DIASTOLIC_DIFF</th>\n",
              "      <th>BLOODPRESSURE_SISTOLIC_DIFF</th>\n",
              "      <th>HEART_RATE_DIFF</th>\n",
              "      <th>RESPIRATORY_RATE_DIFF</th>\n",
              "      <th>TEMPERATURE_DIFF</th>\n",
              "      <th>OXYGEN_SATURATION_DIFF</th>\n",
              "      <th>BLOODPRESSURE_DIASTOLIC_DIFF_REL</th>\n",
              "      <th>BLOODPRESSURE_SISTOLIC_DIFF_REL</th>\n",
              "      <th>HEART_RATE_DIFF_REL</th>\n",
              "      <th>RESPIRATORY_RATE_DIFF_REL</th>\n",
              "      <th>TEMPERATURE_DIFF_REL</th>\n",
              "      <th>OXYGEN_SATURATION_DIFF_REL</th>\n",
              "      <th>WINDOW</th>\n",
              "      <th>ICU</th>\n",
              "    </tr>\n",
              "    <tr>\n",
              "      <th>PATIENT_VISIT_IDENTIFIER</th>\n",
              "      <th></th>\n",
              "      <th></th>\n",
              "      <th></th>\n",
              "      <th></th>\n",
              "      <th></th>\n",
              "      <th></th>\n",
              "      <th></th>\n",
              "      <th></th>\n",
              "      <th></th>\n",
              "      <th></th>\n",
              "      <th></th>\n",
              "      <th></th>\n",
              "      <th></th>\n",
              "      <th></th>\n",
              "      <th></th>\n",
              "      <th></th>\n",
              "      <th></th>\n",
              "      <th></th>\n",
              "      <th></th>\n",
              "      <th></th>\n",
              "      <th></th>\n",
              "      <th></th>\n",
              "      <th></th>\n",
              "      <th></th>\n",
              "      <th></th>\n",
              "      <th></th>\n",
              "      <th></th>\n",
              "      <th></th>\n",
              "      <th></th>\n",
              "      <th></th>\n",
              "      <th></th>\n",
              "      <th></th>\n",
              "      <th></th>\n",
              "      <th></th>\n",
              "      <th></th>\n",
              "      <th></th>\n",
              "      <th></th>\n",
              "      <th></th>\n",
              "      <th></th>\n",
              "      <th></th>\n",
              "      <th></th>\n",
              "      <th></th>\n",
              "      <th></th>\n",
              "      <th></th>\n",
              "      <th></th>\n",
              "      <th></th>\n",
              "      <th></th>\n",
              "      <th></th>\n",
              "      <th></th>\n",
              "      <th></th>\n",
              "      <th></th>\n",
              "      <th></th>\n",
              "      <th></th>\n",
              "      <th></th>\n",
              "      <th></th>\n",
              "      <th></th>\n",
              "      <th></th>\n",
              "      <th></th>\n",
              "      <th></th>\n",
              "      <th></th>\n",
              "      <th></th>\n",
              "      <th></th>\n",
              "      <th></th>\n",
              "      <th></th>\n",
              "      <th></th>\n",
              "      <th></th>\n",
              "      <th></th>\n",
              "      <th></th>\n",
              "      <th></th>\n",
              "      <th></th>\n",
              "      <th></th>\n",
              "      <th></th>\n",
              "      <th></th>\n",
              "      <th></th>\n",
              "      <th></th>\n",
              "      <th></th>\n",
              "      <th></th>\n",
              "      <th></th>\n",
              "      <th></th>\n",
              "      <th></th>\n",
              "      <th></th>\n",
              "      <th></th>\n",
              "    </tr>\n",
              "  </thead>\n",
              "  <tbody>\n",
              "    <tr>\n",
              "      <th>0</th>\n",
              "      <th>0</th>\n",
              "      <td>0</td>\n",
              "      <td>1</td>\n",
              "      <td>60th</td>\n",
              "      <td>0</td>\n",
              "      <td>0.0</td>\n",
              "      <td>0.0</td>\n",
              "      <td>0.0</td>\n",
              "      <td>0.0</td>\n",
              "      <td>1.0</td>\n",
              "      <td>1.0</td>\n",
              "      <td>0.0</td>\n",
              "      <td>0.0</td>\n",
              "      <td>1.0</td>\n",
              "      <td>0.605263</td>\n",
              "      <td>0.605263</td>\n",
              "      <td>0.605263</td>\n",
              "      <td>0.605263</td>\n",
              "      <td>-1.0</td>\n",
              "      <td>-1.0</td>\n",
              "      <td>-1.0</td>\n",
              "      <td>-1.0</td>\n",
              "      <td>-1.0</td>\n",
              "      <td>-1.0</td>\n",
              "      <td>-1.0</td>\n",
              "      <td>-1.0</td>\n",
              "      <td>-1.0</td>\n",
              "      <td>-1.0</td>\n",
              "      <td>-1.0</td>\n",
              "      <td>-0.317073</td>\n",
              "      <td>-0.317073</td>\n",
              "      <td>-0.317073</td>\n",
              "      <td>-0.317073</td>\n",
              "      <td>-1.0</td>\n",
              "      <td>-0.317073</td>\n",
              "      <td>-0.317073</td>\n",
              "      <td>-0.317073</td>\n",
              "      <td>-0.317073</td>\n",
              "      <td>-1.0</td>\n",
              "      <td>-0.938950</td>\n",
              "      <td>-0.938950</td>\n",
              "      <td>...</td>\n",
              "      <td>-0.994912</td>\n",
              "      <td>-1.0</td>\n",
              "      <td>0.086420</td>\n",
              "      <td>-0.230769</td>\n",
              "      <td>-0.283019</td>\n",
              "      <td>-0.593220</td>\n",
              "      <td>-0.285714</td>\n",
              "      <td>0.736842</td>\n",
              "      <td>0.086420</td>\n",
              "      <td>-0.230769</td>\n",
              "      <td>-0.283019</td>\n",
              "      <td>-0.586207</td>\n",
              "      <td>-0.285714</td>\n",
              "      <td>0.736842</td>\n",
              "      <td>0.237113</td>\n",
              "      <td>0.0000</td>\n",
              "      <td>-0.162393</td>\n",
              "      <td>-0.500000</td>\n",
              "      <td>0.208791</td>\n",
              "      <td>0.898990</td>\n",
              "      <td>-0.247863</td>\n",
              "      <td>-0.459459</td>\n",
              "      <td>-0.432836</td>\n",
              "      <td>-0.636364</td>\n",
              "      <td>-0.420290</td>\n",
              "      <td>0.736842</td>\n",
              "      <td>-1.000000</td>\n",
              "      <td>-1.000000</td>\n",
              "      <td>-1.000000</td>\n",
              "      <td>-1.000000</td>\n",
              "      <td>-1.000000</td>\n",
              "      <td>-1.000000</td>\n",
              "      <td>-1.000000</td>\n",
              "      <td>-1.000000</td>\n",
              "      <td>-1.000000</td>\n",
              "      <td>-1.000000</td>\n",
              "      <td>-1.000000</td>\n",
              "      <td>-1.000000</td>\n",
              "      <td>0-2</td>\n",
              "      <td>1</td>\n",
              "    </tr>\n",
              "    <tr>\n",
              "      <th>2</th>\n",
              "      <th>10</th>\n",
              "      <td>2</td>\n",
              "      <td>0</td>\n",
              "      <td>10th</td>\n",
              "      <td>0</td>\n",
              "      <td>0.0</td>\n",
              "      <td>0.0</td>\n",
              "      <td>0.0</td>\n",
              "      <td>0.0</td>\n",
              "      <td>0.0</td>\n",
              "      <td>0.0</td>\n",
              "      <td>0.0</td>\n",
              "      <td>0.0</td>\n",
              "      <td>1.0</td>\n",
              "      <td>0.605263</td>\n",
              "      <td>0.605263</td>\n",
              "      <td>0.605263</td>\n",
              "      <td>0.605263</td>\n",
              "      <td>-1.0</td>\n",
              "      <td>-1.0</td>\n",
              "      <td>-1.0</td>\n",
              "      <td>-1.0</td>\n",
              "      <td>-1.0</td>\n",
              "      <td>-1.0</td>\n",
              "      <td>-1.0</td>\n",
              "      <td>-1.0</td>\n",
              "      <td>-1.0</td>\n",
              "      <td>-1.0</td>\n",
              "      <td>-1.0</td>\n",
              "      <td>-0.317073</td>\n",
              "      <td>-0.317073</td>\n",
              "      <td>-0.317073</td>\n",
              "      <td>-0.317073</td>\n",
              "      <td>-1.0</td>\n",
              "      <td>-0.317073</td>\n",
              "      <td>-0.317073</td>\n",
              "      <td>-0.317073</td>\n",
              "      <td>-0.317073</td>\n",
              "      <td>-1.0</td>\n",
              "      <td>-0.938950</td>\n",
              "      <td>-0.938950</td>\n",
              "      <td>...</td>\n",
              "      <td>-0.978029</td>\n",
              "      <td>-1.0</td>\n",
              "      <td>-0.489712</td>\n",
              "      <td>-0.685470</td>\n",
              "      <td>-0.048218</td>\n",
              "      <td>-0.645951</td>\n",
              "      <td>0.357143</td>\n",
              "      <td>0.935673</td>\n",
              "      <td>-0.506173</td>\n",
              "      <td>-0.815385</td>\n",
              "      <td>-0.056604</td>\n",
              "      <td>-0.517241</td>\n",
              "      <td>0.357143</td>\n",
              "      <td>0.947368</td>\n",
              "      <td>-0.525773</td>\n",
              "      <td>-0.5125</td>\n",
              "      <td>-0.111111</td>\n",
              "      <td>-0.714286</td>\n",
              "      <td>0.604396</td>\n",
              "      <td>0.959596</td>\n",
              "      <td>-0.435897</td>\n",
              "      <td>-0.491892</td>\n",
              "      <td>0.000000</td>\n",
              "      <td>-0.575758</td>\n",
              "      <td>0.101449</td>\n",
              "      <td>1.000000</td>\n",
              "      <td>-0.547826</td>\n",
              "      <td>-0.533742</td>\n",
              "      <td>-0.603053</td>\n",
              "      <td>-0.764706</td>\n",
              "      <td>-1.000000</td>\n",
              "      <td>-0.959596</td>\n",
              "      <td>-0.515528</td>\n",
              "      <td>-0.351328</td>\n",
              "      <td>-0.747001</td>\n",
              "      <td>-0.756272</td>\n",
              "      <td>-1.000000</td>\n",
              "      <td>-0.961262</td>\n",
              "      <td>0-2</td>\n",
              "      <td>1</td>\n",
              "    </tr>\n",
              "    <tr>\n",
              "      <th>3</th>\n",
              "      <th>15</th>\n",
              "      <td>3</td>\n",
              "      <td>0</td>\n",
              "      <td>40th</td>\n",
              "      <td>1</td>\n",
              "      <td>0.0</td>\n",
              "      <td>0.0</td>\n",
              "      <td>0.0</td>\n",
              "      <td>0.0</td>\n",
              "      <td>0.0</td>\n",
              "      <td>0.0</td>\n",
              "      <td>0.0</td>\n",
              "      <td>1.0</td>\n",
              "      <td>1.0</td>\n",
              "      <td>-0.263158</td>\n",
              "      <td>-0.263158</td>\n",
              "      <td>-0.263158</td>\n",
              "      <td>-0.263158</td>\n",
              "      <td>-1.0</td>\n",
              "      <td>-1.0</td>\n",
              "      <td>-1.0</td>\n",
              "      <td>-1.0</td>\n",
              "      <td>-1.0</td>\n",
              "      <td>-1.0</td>\n",
              "      <td>-1.0</td>\n",
              "      <td>-1.0</td>\n",
              "      <td>-1.0</td>\n",
              "      <td>-1.0</td>\n",
              "      <td>-1.0</td>\n",
              "      <td>-0.317073</td>\n",
              "      <td>-0.317073</td>\n",
              "      <td>-0.317073</td>\n",
              "      <td>-0.317073</td>\n",
              "      <td>-1.0</td>\n",
              "      <td>-0.317073</td>\n",
              "      <td>-0.317073</td>\n",
              "      <td>-0.317073</td>\n",
              "      <td>-0.317073</td>\n",
              "      <td>-1.0</td>\n",
              "      <td>-0.972789</td>\n",
              "      <td>-0.972789</td>\n",
              "      <td>...</td>\n",
              "      <td>-0.978029</td>\n",
              "      <td>-1.0</td>\n",
              "      <td>0.012346</td>\n",
              "      <td>-0.369231</td>\n",
              "      <td>-0.528302</td>\n",
              "      <td>-0.457627</td>\n",
              "      <td>-0.285714</td>\n",
              "      <td>0.684211</td>\n",
              "      <td>0.012346</td>\n",
              "      <td>-0.369231</td>\n",
              "      <td>-0.528302</td>\n",
              "      <td>-0.448276</td>\n",
              "      <td>-0.285714</td>\n",
              "      <td>0.684211</td>\n",
              "      <td>0.175258</td>\n",
              "      <td>-0.1125</td>\n",
              "      <td>-0.384615</td>\n",
              "      <td>-0.357143</td>\n",
              "      <td>0.208791</td>\n",
              "      <td>0.878788</td>\n",
              "      <td>-0.299145</td>\n",
              "      <td>-0.556757</td>\n",
              "      <td>-0.626866</td>\n",
              "      <td>-0.515152</td>\n",
              "      <td>-0.420290</td>\n",
              "      <td>0.684211</td>\n",
              "      <td>-1.000000</td>\n",
              "      <td>-1.000000</td>\n",
              "      <td>-1.000000</td>\n",
              "      <td>-1.000000</td>\n",
              "      <td>-1.000000</td>\n",
              "      <td>-1.000000</td>\n",
              "      <td>-1.000000</td>\n",
              "      <td>-1.000000</td>\n",
              "      <td>-1.000000</td>\n",
              "      <td>-1.000000</td>\n",
              "      <td>-1.000000</td>\n",
              "      <td>-1.000000</td>\n",
              "      <td>0-2</td>\n",
              "      <td>0</td>\n",
              "    </tr>\n",
              "    <tr>\n",
              "      <th>4</th>\n",
              "      <th>20</th>\n",
              "      <td>4</td>\n",
              "      <td>0</td>\n",
              "      <td>10th</td>\n",
              "      <td>0</td>\n",
              "      <td>0.0</td>\n",
              "      <td>0.0</td>\n",
              "      <td>0.0</td>\n",
              "      <td>0.0</td>\n",
              "      <td>0.0</td>\n",
              "      <td>0.0</td>\n",
              "      <td>0.0</td>\n",
              "      <td>0.0</td>\n",
              "      <td>1.0</td>\n",
              "      <td>0.605263</td>\n",
              "      <td>0.605263</td>\n",
              "      <td>0.605263</td>\n",
              "      <td>0.605263</td>\n",
              "      <td>-1.0</td>\n",
              "      <td>-1.0</td>\n",
              "      <td>-1.0</td>\n",
              "      <td>-1.0</td>\n",
              "      <td>-1.0</td>\n",
              "      <td>-1.0</td>\n",
              "      <td>-1.0</td>\n",
              "      <td>-1.0</td>\n",
              "      <td>-1.0</td>\n",
              "      <td>-1.0</td>\n",
              "      <td>-1.0</td>\n",
              "      <td>-0.317073</td>\n",
              "      <td>-0.317073</td>\n",
              "      <td>-0.317073</td>\n",
              "      <td>-0.317073</td>\n",
              "      <td>-1.0</td>\n",
              "      <td>-0.317073</td>\n",
              "      <td>-0.317073</td>\n",
              "      <td>-0.317073</td>\n",
              "      <td>-0.317073</td>\n",
              "      <td>-1.0</td>\n",
              "      <td>-0.935113</td>\n",
              "      <td>-0.935113</td>\n",
              "      <td>...</td>\n",
              "      <td>-1.000000</td>\n",
              "      <td>-1.0</td>\n",
              "      <td>0.333333</td>\n",
              "      <td>-0.153846</td>\n",
              "      <td>0.160377</td>\n",
              "      <td>-0.593220</td>\n",
              "      <td>0.285714</td>\n",
              "      <td>0.868421</td>\n",
              "      <td>0.333333</td>\n",
              "      <td>-0.153846</td>\n",
              "      <td>0.160377</td>\n",
              "      <td>-0.586207</td>\n",
              "      <td>0.285714</td>\n",
              "      <td>0.868421</td>\n",
              "      <td>0.443299</td>\n",
              "      <td>0.0000</td>\n",
              "      <td>0.196581</td>\n",
              "      <td>-0.571429</td>\n",
              "      <td>0.538462</td>\n",
              "      <td>0.939394</td>\n",
              "      <td>-0.076923</td>\n",
              "      <td>-0.351351</td>\n",
              "      <td>-0.044776</td>\n",
              "      <td>-0.575758</td>\n",
              "      <td>0.072464</td>\n",
              "      <td>0.894737</td>\n",
              "      <td>-1.000000</td>\n",
              "      <td>-0.877301</td>\n",
              "      <td>-0.923664</td>\n",
              "      <td>-0.882353</td>\n",
              "      <td>-0.952381</td>\n",
              "      <td>-0.979798</td>\n",
              "      <td>-1.000000</td>\n",
              "      <td>-0.883669</td>\n",
              "      <td>-0.956805</td>\n",
              "      <td>-0.870968</td>\n",
              "      <td>-0.953536</td>\n",
              "      <td>-0.980333</td>\n",
              "      <td>0-2</td>\n",
              "      <td>0</td>\n",
              "    </tr>\n",
              "    <tr>\n",
              "      <th>5</th>\n",
              "      <th>25</th>\n",
              "      <td>5</td>\n",
              "      <td>0</td>\n",
              "      <td>10th</td>\n",
              "      <td>0</td>\n",
              "      <td>0.0</td>\n",
              "      <td>0.0</td>\n",
              "      <td>0.0</td>\n",
              "      <td>0.0</td>\n",
              "      <td>0.0</td>\n",
              "      <td>0.0</td>\n",
              "      <td>0.0</td>\n",
              "      <td>0.0</td>\n",
              "      <td>1.0</td>\n",
              "      <td>0.605263</td>\n",
              "      <td>0.605263</td>\n",
              "      <td>0.605263</td>\n",
              "      <td>0.605263</td>\n",
              "      <td>-1.0</td>\n",
              "      <td>-1.0</td>\n",
              "      <td>-1.0</td>\n",
              "      <td>-1.0</td>\n",
              "      <td>-1.0</td>\n",
              "      <td>-1.0</td>\n",
              "      <td>-1.0</td>\n",
              "      <td>-1.0</td>\n",
              "      <td>-1.0</td>\n",
              "      <td>-1.0</td>\n",
              "      <td>-1.0</td>\n",
              "      <td>-0.317073</td>\n",
              "      <td>-0.317073</td>\n",
              "      <td>-0.317073</td>\n",
              "      <td>-0.317073</td>\n",
              "      <td>-1.0</td>\n",
              "      <td>-0.317073</td>\n",
              "      <td>-0.317073</td>\n",
              "      <td>-0.317073</td>\n",
              "      <td>-0.317073</td>\n",
              "      <td>-1.0</td>\n",
              "      <td>-0.938950</td>\n",
              "      <td>-0.938950</td>\n",
              "      <td>...</td>\n",
              "      <td>-1.000000</td>\n",
              "      <td>-1.0</td>\n",
              "      <td>-0.037037</td>\n",
              "      <td>-0.538462</td>\n",
              "      <td>-0.537736</td>\n",
              "      <td>-0.525424</td>\n",
              "      <td>-0.196429</td>\n",
              "      <td>0.815789</td>\n",
              "      <td>-0.037037</td>\n",
              "      <td>-0.538462</td>\n",
              "      <td>-0.537736</td>\n",
              "      <td>-0.517241</td>\n",
              "      <td>-0.196429</td>\n",
              "      <td>0.815789</td>\n",
              "      <td>0.030928</td>\n",
              "      <td>-0.3750</td>\n",
              "      <td>-0.401709</td>\n",
              "      <td>-0.428571</td>\n",
              "      <td>0.252747</td>\n",
              "      <td>0.919192</td>\n",
              "      <td>-0.247863</td>\n",
              "      <td>-0.567568</td>\n",
              "      <td>-0.626866</td>\n",
              "      <td>-0.575758</td>\n",
              "      <td>-0.333333</td>\n",
              "      <td>0.842105</td>\n",
              "      <td>-0.826087</td>\n",
              "      <td>-0.754601</td>\n",
              "      <td>-0.984733</td>\n",
              "      <td>-1.000000</td>\n",
              "      <td>-0.976190</td>\n",
              "      <td>-0.979798</td>\n",
              "      <td>-0.860870</td>\n",
              "      <td>-0.714460</td>\n",
              "      <td>-0.986481</td>\n",
              "      <td>-1.000000</td>\n",
              "      <td>-0.975891</td>\n",
              "      <td>-0.980129</td>\n",
              "      <td>0-2</td>\n",
              "      <td>0</td>\n",
              "    </tr>\n",
              "  </tbody>\n",
              "</table>\n",
              "<p>5 rows × 231 columns</p>\n",
              "</div>"
            ],
            "text/plain": [
              "                             PATIENT_VISIT_IDENTIFIER  AGE_ABOVE65  ... WINDOW  ICU\n",
              "PATIENT_VISIT_IDENTIFIER                                            ...            \n",
              "0                        0                          0            1  ...    0-2    1\n",
              "2                        10                         2            0  ...    0-2    1\n",
              "3                        15                         3            0  ...    0-2    0\n",
              "4                        20                         4            0  ...    0-2    0\n",
              "5                        25                         5            0  ...    0-2    0\n",
              "\n",
              "[5 rows x 231 columns]"
            ]
          },
          "metadata": {
            "tags": []
          },
          "execution_count": 6
        }
      ]
    },
    {
      "cell_type": "code",
      "metadata": {
        "colab": {
          "base_uri": "https://localhost:8080/"
        },
        "id": "cpxcWd1YIcRk",
        "outputId": "eff12813-3934-42e3-be95-8bf5fa5606b8"
      },
      "source": [
        "x_columns = dados.describe().columns\n",
        "for coluna in dados.columns:\n",
        "    if coluna not in x_columns:\n",
        "        print(coluna)"
      ],
      "execution_count": 7,
      "outputs": [
        {
          "output_type": "stream",
          "text": [
            "AGE_PERCENTIL\n",
            "WINDOW\n"
          ],
          "name": "stdout"
        }
      ]
    },
    {
      "cell_type": "markdown",
      "metadata": {
        "id": "lLDT6hGvLTJ8"
      },
      "source": [
        "O método que usamos no módulo passado para selecionar as colunas de dados que irão alimentar nosso modelo levou a desprezar a coluna **```AGE_PERCENTIL```**, por estar no formato *string*.\n",
        "\n",
        "Vamos converter os dados para categóricos, de forma que nosso modelo possa considerar essas informações também."
      ]
    },
    {
      "cell_type": "code",
      "metadata": {
        "colab": {
          "base_uri": "https://localhost:8080/",
          "height": 318
        },
        "id": "DADL4DGOItuB",
        "outputId": "aeef8724-032f-4047-fc92-211489150c16"
      },
      "source": [
        "dados_limpos.AGE_PERCENTIL = dados_limpos.AGE_PERCENTIL.astype(\"category\").cat.codes\n",
        "dados_limpos.head()"
      ],
      "execution_count": 8,
      "outputs": [
        {
          "output_type": "execute_result",
          "data": {
            "text/html": [
              "<div>\n",
              "<style scoped>\n",
              "    .dataframe tbody tr th:only-of-type {\n",
              "        vertical-align: middle;\n",
              "    }\n",
              "\n",
              "    .dataframe tbody tr th {\n",
              "        vertical-align: top;\n",
              "    }\n",
              "\n",
              "    .dataframe thead th {\n",
              "        text-align: right;\n",
              "    }\n",
              "</style>\n",
              "<table border=\"1\" class=\"dataframe\">\n",
              "  <thead>\n",
              "    <tr style=\"text-align: right;\">\n",
              "      <th></th>\n",
              "      <th></th>\n",
              "      <th>PATIENT_VISIT_IDENTIFIER</th>\n",
              "      <th>AGE_ABOVE65</th>\n",
              "      <th>AGE_PERCENTIL</th>\n",
              "      <th>GENDER</th>\n",
              "      <th>DISEASE GROUPING 1</th>\n",
              "      <th>DISEASE GROUPING 2</th>\n",
              "      <th>DISEASE GROUPING 3</th>\n",
              "      <th>DISEASE GROUPING 4</th>\n",
              "      <th>DISEASE GROUPING 5</th>\n",
              "      <th>DISEASE GROUPING 6</th>\n",
              "      <th>HTN</th>\n",
              "      <th>IMMUNOCOMPROMISED</th>\n",
              "      <th>OTHER</th>\n",
              "      <th>ALBUMIN_MEDIAN</th>\n",
              "      <th>ALBUMIN_MEAN</th>\n",
              "      <th>ALBUMIN_MIN</th>\n",
              "      <th>ALBUMIN_MAX</th>\n",
              "      <th>ALBUMIN_DIFF</th>\n",
              "      <th>BE_ARTERIAL_MEDIAN</th>\n",
              "      <th>BE_ARTERIAL_MEAN</th>\n",
              "      <th>BE_ARTERIAL_MIN</th>\n",
              "      <th>BE_ARTERIAL_MAX</th>\n",
              "      <th>BE_ARTERIAL_DIFF</th>\n",
              "      <th>BE_VENOUS_MEDIAN</th>\n",
              "      <th>BE_VENOUS_MEAN</th>\n",
              "      <th>BE_VENOUS_MIN</th>\n",
              "      <th>BE_VENOUS_MAX</th>\n",
              "      <th>BE_VENOUS_DIFF</th>\n",
              "      <th>BIC_ARTERIAL_MEDIAN</th>\n",
              "      <th>BIC_ARTERIAL_MEAN</th>\n",
              "      <th>BIC_ARTERIAL_MIN</th>\n",
              "      <th>BIC_ARTERIAL_MAX</th>\n",
              "      <th>BIC_ARTERIAL_DIFF</th>\n",
              "      <th>BIC_VENOUS_MEDIAN</th>\n",
              "      <th>BIC_VENOUS_MEAN</th>\n",
              "      <th>BIC_VENOUS_MIN</th>\n",
              "      <th>BIC_VENOUS_MAX</th>\n",
              "      <th>BIC_VENOUS_DIFF</th>\n",
              "      <th>BILLIRUBIN_MEDIAN</th>\n",
              "      <th>BILLIRUBIN_MEAN</th>\n",
              "      <th>...</th>\n",
              "      <th>DIMER_MAX</th>\n",
              "      <th>DIMER_DIFF</th>\n",
              "      <th>BLOODPRESSURE_DIASTOLIC_MEAN</th>\n",
              "      <th>BLOODPRESSURE_SISTOLIC_MEAN</th>\n",
              "      <th>HEART_RATE_MEAN</th>\n",
              "      <th>RESPIRATORY_RATE_MEAN</th>\n",
              "      <th>TEMPERATURE_MEAN</th>\n",
              "      <th>OXYGEN_SATURATION_MEAN</th>\n",
              "      <th>BLOODPRESSURE_DIASTOLIC_MEDIAN</th>\n",
              "      <th>BLOODPRESSURE_SISTOLIC_MEDIAN</th>\n",
              "      <th>HEART_RATE_MEDIAN</th>\n",
              "      <th>RESPIRATORY_RATE_MEDIAN</th>\n",
              "      <th>TEMPERATURE_MEDIAN</th>\n",
              "      <th>OXYGEN_SATURATION_MEDIAN</th>\n",
              "      <th>BLOODPRESSURE_DIASTOLIC_MIN</th>\n",
              "      <th>BLOODPRESSURE_SISTOLIC_MIN</th>\n",
              "      <th>HEART_RATE_MIN</th>\n",
              "      <th>RESPIRATORY_RATE_MIN</th>\n",
              "      <th>TEMPERATURE_MIN</th>\n",
              "      <th>OXYGEN_SATURATION_MIN</th>\n",
              "      <th>BLOODPRESSURE_DIASTOLIC_MAX</th>\n",
              "      <th>BLOODPRESSURE_SISTOLIC_MAX</th>\n",
              "      <th>HEART_RATE_MAX</th>\n",
              "      <th>RESPIRATORY_RATE_MAX</th>\n",
              "      <th>TEMPERATURE_MAX</th>\n",
              "      <th>OXYGEN_SATURATION_MAX</th>\n",
              "      <th>BLOODPRESSURE_DIASTOLIC_DIFF</th>\n",
              "      <th>BLOODPRESSURE_SISTOLIC_DIFF</th>\n",
              "      <th>HEART_RATE_DIFF</th>\n",
              "      <th>RESPIRATORY_RATE_DIFF</th>\n",
              "      <th>TEMPERATURE_DIFF</th>\n",
              "      <th>OXYGEN_SATURATION_DIFF</th>\n",
              "      <th>BLOODPRESSURE_DIASTOLIC_DIFF_REL</th>\n",
              "      <th>BLOODPRESSURE_SISTOLIC_DIFF_REL</th>\n",
              "      <th>HEART_RATE_DIFF_REL</th>\n",
              "      <th>RESPIRATORY_RATE_DIFF_REL</th>\n",
              "      <th>TEMPERATURE_DIFF_REL</th>\n",
              "      <th>OXYGEN_SATURATION_DIFF_REL</th>\n",
              "      <th>WINDOW</th>\n",
              "      <th>ICU</th>\n",
              "    </tr>\n",
              "    <tr>\n",
              "      <th>PATIENT_VISIT_IDENTIFIER</th>\n",
              "      <th></th>\n",
              "      <th></th>\n",
              "      <th></th>\n",
              "      <th></th>\n",
              "      <th></th>\n",
              "      <th></th>\n",
              "      <th></th>\n",
              "      <th></th>\n",
              "      <th></th>\n",
              "      <th></th>\n",
              "      <th></th>\n",
              "      <th></th>\n",
              "      <th></th>\n",
              "      <th></th>\n",
              "      <th></th>\n",
              "      <th></th>\n",
              "      <th></th>\n",
              "      <th></th>\n",
              "      <th></th>\n",
              "      <th></th>\n",
              "      <th></th>\n",
              "      <th></th>\n",
              "      <th></th>\n",
              "      <th></th>\n",
              "      <th></th>\n",
              "      <th></th>\n",
              "      <th></th>\n",
              "      <th></th>\n",
              "      <th></th>\n",
              "      <th></th>\n",
              "      <th></th>\n",
              "      <th></th>\n",
              "      <th></th>\n",
              "      <th></th>\n",
              "      <th></th>\n",
              "      <th></th>\n",
              "      <th></th>\n",
              "      <th></th>\n",
              "      <th></th>\n",
              "      <th></th>\n",
              "      <th></th>\n",
              "      <th></th>\n",
              "      <th></th>\n",
              "      <th></th>\n",
              "      <th></th>\n",
              "      <th></th>\n",
              "      <th></th>\n",
              "      <th></th>\n",
              "      <th></th>\n",
              "      <th></th>\n",
              "      <th></th>\n",
              "      <th></th>\n",
              "      <th></th>\n",
              "      <th></th>\n",
              "      <th></th>\n",
              "      <th></th>\n",
              "      <th></th>\n",
              "      <th></th>\n",
              "      <th></th>\n",
              "      <th></th>\n",
              "      <th></th>\n",
              "      <th></th>\n",
              "      <th></th>\n",
              "      <th></th>\n",
              "      <th></th>\n",
              "      <th></th>\n",
              "      <th></th>\n",
              "      <th></th>\n",
              "      <th></th>\n",
              "      <th></th>\n",
              "      <th></th>\n",
              "      <th></th>\n",
              "      <th></th>\n",
              "      <th></th>\n",
              "      <th></th>\n",
              "      <th></th>\n",
              "      <th></th>\n",
              "      <th></th>\n",
              "      <th></th>\n",
              "      <th></th>\n",
              "      <th></th>\n",
              "      <th></th>\n",
              "    </tr>\n",
              "  </thead>\n",
              "  <tbody>\n",
              "    <tr>\n",
              "      <th>0</th>\n",
              "      <th>0</th>\n",
              "      <td>0</td>\n",
              "      <td>1</td>\n",
              "      <td>5</td>\n",
              "      <td>0</td>\n",
              "      <td>0.0</td>\n",
              "      <td>0.0</td>\n",
              "      <td>0.0</td>\n",
              "      <td>0.0</td>\n",
              "      <td>1.0</td>\n",
              "      <td>1.0</td>\n",
              "      <td>0.0</td>\n",
              "      <td>0.0</td>\n",
              "      <td>1.0</td>\n",
              "      <td>0.605263</td>\n",
              "      <td>0.605263</td>\n",
              "      <td>0.605263</td>\n",
              "      <td>0.605263</td>\n",
              "      <td>-1.0</td>\n",
              "      <td>-1.0</td>\n",
              "      <td>-1.0</td>\n",
              "      <td>-1.0</td>\n",
              "      <td>-1.0</td>\n",
              "      <td>-1.0</td>\n",
              "      <td>-1.0</td>\n",
              "      <td>-1.0</td>\n",
              "      <td>-1.0</td>\n",
              "      <td>-1.0</td>\n",
              "      <td>-1.0</td>\n",
              "      <td>-0.317073</td>\n",
              "      <td>-0.317073</td>\n",
              "      <td>-0.317073</td>\n",
              "      <td>-0.317073</td>\n",
              "      <td>-1.0</td>\n",
              "      <td>-0.317073</td>\n",
              "      <td>-0.317073</td>\n",
              "      <td>-0.317073</td>\n",
              "      <td>-0.317073</td>\n",
              "      <td>-1.0</td>\n",
              "      <td>-0.938950</td>\n",
              "      <td>-0.938950</td>\n",
              "      <td>...</td>\n",
              "      <td>-0.994912</td>\n",
              "      <td>-1.0</td>\n",
              "      <td>0.086420</td>\n",
              "      <td>-0.230769</td>\n",
              "      <td>-0.283019</td>\n",
              "      <td>-0.593220</td>\n",
              "      <td>-0.285714</td>\n",
              "      <td>0.736842</td>\n",
              "      <td>0.086420</td>\n",
              "      <td>-0.230769</td>\n",
              "      <td>-0.283019</td>\n",
              "      <td>-0.586207</td>\n",
              "      <td>-0.285714</td>\n",
              "      <td>0.736842</td>\n",
              "      <td>0.237113</td>\n",
              "      <td>0.0000</td>\n",
              "      <td>-0.162393</td>\n",
              "      <td>-0.500000</td>\n",
              "      <td>0.208791</td>\n",
              "      <td>0.898990</td>\n",
              "      <td>-0.247863</td>\n",
              "      <td>-0.459459</td>\n",
              "      <td>-0.432836</td>\n",
              "      <td>-0.636364</td>\n",
              "      <td>-0.420290</td>\n",
              "      <td>0.736842</td>\n",
              "      <td>-1.000000</td>\n",
              "      <td>-1.000000</td>\n",
              "      <td>-1.000000</td>\n",
              "      <td>-1.000000</td>\n",
              "      <td>-1.000000</td>\n",
              "      <td>-1.000000</td>\n",
              "      <td>-1.000000</td>\n",
              "      <td>-1.000000</td>\n",
              "      <td>-1.000000</td>\n",
              "      <td>-1.000000</td>\n",
              "      <td>-1.000000</td>\n",
              "      <td>-1.000000</td>\n",
              "      <td>0-2</td>\n",
              "      <td>1</td>\n",
              "    </tr>\n",
              "    <tr>\n",
              "      <th>2</th>\n",
              "      <th>10</th>\n",
              "      <td>2</td>\n",
              "      <td>0</td>\n",
              "      <td>0</td>\n",
              "      <td>0</td>\n",
              "      <td>0.0</td>\n",
              "      <td>0.0</td>\n",
              "      <td>0.0</td>\n",
              "      <td>0.0</td>\n",
              "      <td>0.0</td>\n",
              "      <td>0.0</td>\n",
              "      <td>0.0</td>\n",
              "      <td>0.0</td>\n",
              "      <td>1.0</td>\n",
              "      <td>0.605263</td>\n",
              "      <td>0.605263</td>\n",
              "      <td>0.605263</td>\n",
              "      <td>0.605263</td>\n",
              "      <td>-1.0</td>\n",
              "      <td>-1.0</td>\n",
              "      <td>-1.0</td>\n",
              "      <td>-1.0</td>\n",
              "      <td>-1.0</td>\n",
              "      <td>-1.0</td>\n",
              "      <td>-1.0</td>\n",
              "      <td>-1.0</td>\n",
              "      <td>-1.0</td>\n",
              "      <td>-1.0</td>\n",
              "      <td>-1.0</td>\n",
              "      <td>-0.317073</td>\n",
              "      <td>-0.317073</td>\n",
              "      <td>-0.317073</td>\n",
              "      <td>-0.317073</td>\n",
              "      <td>-1.0</td>\n",
              "      <td>-0.317073</td>\n",
              "      <td>-0.317073</td>\n",
              "      <td>-0.317073</td>\n",
              "      <td>-0.317073</td>\n",
              "      <td>-1.0</td>\n",
              "      <td>-0.938950</td>\n",
              "      <td>-0.938950</td>\n",
              "      <td>...</td>\n",
              "      <td>-0.978029</td>\n",
              "      <td>-1.0</td>\n",
              "      <td>-0.489712</td>\n",
              "      <td>-0.685470</td>\n",
              "      <td>-0.048218</td>\n",
              "      <td>-0.645951</td>\n",
              "      <td>0.357143</td>\n",
              "      <td>0.935673</td>\n",
              "      <td>-0.506173</td>\n",
              "      <td>-0.815385</td>\n",
              "      <td>-0.056604</td>\n",
              "      <td>-0.517241</td>\n",
              "      <td>0.357143</td>\n",
              "      <td>0.947368</td>\n",
              "      <td>-0.525773</td>\n",
              "      <td>-0.5125</td>\n",
              "      <td>-0.111111</td>\n",
              "      <td>-0.714286</td>\n",
              "      <td>0.604396</td>\n",
              "      <td>0.959596</td>\n",
              "      <td>-0.435897</td>\n",
              "      <td>-0.491892</td>\n",
              "      <td>0.000000</td>\n",
              "      <td>-0.575758</td>\n",
              "      <td>0.101449</td>\n",
              "      <td>1.000000</td>\n",
              "      <td>-0.547826</td>\n",
              "      <td>-0.533742</td>\n",
              "      <td>-0.603053</td>\n",
              "      <td>-0.764706</td>\n",
              "      <td>-1.000000</td>\n",
              "      <td>-0.959596</td>\n",
              "      <td>-0.515528</td>\n",
              "      <td>-0.351328</td>\n",
              "      <td>-0.747001</td>\n",
              "      <td>-0.756272</td>\n",
              "      <td>-1.000000</td>\n",
              "      <td>-0.961262</td>\n",
              "      <td>0-2</td>\n",
              "      <td>1</td>\n",
              "    </tr>\n",
              "    <tr>\n",
              "      <th>3</th>\n",
              "      <th>15</th>\n",
              "      <td>3</td>\n",
              "      <td>0</td>\n",
              "      <td>3</td>\n",
              "      <td>1</td>\n",
              "      <td>0.0</td>\n",
              "      <td>0.0</td>\n",
              "      <td>0.0</td>\n",
              "      <td>0.0</td>\n",
              "      <td>0.0</td>\n",
              "      <td>0.0</td>\n",
              "      <td>0.0</td>\n",
              "      <td>1.0</td>\n",
              "      <td>1.0</td>\n",
              "      <td>-0.263158</td>\n",
              "      <td>-0.263158</td>\n",
              "      <td>-0.263158</td>\n",
              "      <td>-0.263158</td>\n",
              "      <td>-1.0</td>\n",
              "      <td>-1.0</td>\n",
              "      <td>-1.0</td>\n",
              "      <td>-1.0</td>\n",
              "      <td>-1.0</td>\n",
              "      <td>-1.0</td>\n",
              "      <td>-1.0</td>\n",
              "      <td>-1.0</td>\n",
              "      <td>-1.0</td>\n",
              "      <td>-1.0</td>\n",
              "      <td>-1.0</td>\n",
              "      <td>-0.317073</td>\n",
              "      <td>-0.317073</td>\n",
              "      <td>-0.317073</td>\n",
              "      <td>-0.317073</td>\n",
              "      <td>-1.0</td>\n",
              "      <td>-0.317073</td>\n",
              "      <td>-0.317073</td>\n",
              "      <td>-0.317073</td>\n",
              "      <td>-0.317073</td>\n",
              "      <td>-1.0</td>\n",
              "      <td>-0.972789</td>\n",
              "      <td>-0.972789</td>\n",
              "      <td>...</td>\n",
              "      <td>-0.978029</td>\n",
              "      <td>-1.0</td>\n",
              "      <td>0.012346</td>\n",
              "      <td>-0.369231</td>\n",
              "      <td>-0.528302</td>\n",
              "      <td>-0.457627</td>\n",
              "      <td>-0.285714</td>\n",
              "      <td>0.684211</td>\n",
              "      <td>0.012346</td>\n",
              "      <td>-0.369231</td>\n",
              "      <td>-0.528302</td>\n",
              "      <td>-0.448276</td>\n",
              "      <td>-0.285714</td>\n",
              "      <td>0.684211</td>\n",
              "      <td>0.175258</td>\n",
              "      <td>-0.1125</td>\n",
              "      <td>-0.384615</td>\n",
              "      <td>-0.357143</td>\n",
              "      <td>0.208791</td>\n",
              "      <td>0.878788</td>\n",
              "      <td>-0.299145</td>\n",
              "      <td>-0.556757</td>\n",
              "      <td>-0.626866</td>\n",
              "      <td>-0.515152</td>\n",
              "      <td>-0.420290</td>\n",
              "      <td>0.684211</td>\n",
              "      <td>-1.000000</td>\n",
              "      <td>-1.000000</td>\n",
              "      <td>-1.000000</td>\n",
              "      <td>-1.000000</td>\n",
              "      <td>-1.000000</td>\n",
              "      <td>-1.000000</td>\n",
              "      <td>-1.000000</td>\n",
              "      <td>-1.000000</td>\n",
              "      <td>-1.000000</td>\n",
              "      <td>-1.000000</td>\n",
              "      <td>-1.000000</td>\n",
              "      <td>-1.000000</td>\n",
              "      <td>0-2</td>\n",
              "      <td>0</td>\n",
              "    </tr>\n",
              "    <tr>\n",
              "      <th>4</th>\n",
              "      <th>20</th>\n",
              "      <td>4</td>\n",
              "      <td>0</td>\n",
              "      <td>0</td>\n",
              "      <td>0</td>\n",
              "      <td>0.0</td>\n",
              "      <td>0.0</td>\n",
              "      <td>0.0</td>\n",
              "      <td>0.0</td>\n",
              "      <td>0.0</td>\n",
              "      <td>0.0</td>\n",
              "      <td>0.0</td>\n",
              "      <td>0.0</td>\n",
              "      <td>1.0</td>\n",
              "      <td>0.605263</td>\n",
              "      <td>0.605263</td>\n",
              "      <td>0.605263</td>\n",
              "      <td>0.605263</td>\n",
              "      <td>-1.0</td>\n",
              "      <td>-1.0</td>\n",
              "      <td>-1.0</td>\n",
              "      <td>-1.0</td>\n",
              "      <td>-1.0</td>\n",
              "      <td>-1.0</td>\n",
              "      <td>-1.0</td>\n",
              "      <td>-1.0</td>\n",
              "      <td>-1.0</td>\n",
              "      <td>-1.0</td>\n",
              "      <td>-1.0</td>\n",
              "      <td>-0.317073</td>\n",
              "      <td>-0.317073</td>\n",
              "      <td>-0.317073</td>\n",
              "      <td>-0.317073</td>\n",
              "      <td>-1.0</td>\n",
              "      <td>-0.317073</td>\n",
              "      <td>-0.317073</td>\n",
              "      <td>-0.317073</td>\n",
              "      <td>-0.317073</td>\n",
              "      <td>-1.0</td>\n",
              "      <td>-0.935113</td>\n",
              "      <td>-0.935113</td>\n",
              "      <td>...</td>\n",
              "      <td>-1.000000</td>\n",
              "      <td>-1.0</td>\n",
              "      <td>0.333333</td>\n",
              "      <td>-0.153846</td>\n",
              "      <td>0.160377</td>\n",
              "      <td>-0.593220</td>\n",
              "      <td>0.285714</td>\n",
              "      <td>0.868421</td>\n",
              "      <td>0.333333</td>\n",
              "      <td>-0.153846</td>\n",
              "      <td>0.160377</td>\n",
              "      <td>-0.586207</td>\n",
              "      <td>0.285714</td>\n",
              "      <td>0.868421</td>\n",
              "      <td>0.443299</td>\n",
              "      <td>0.0000</td>\n",
              "      <td>0.196581</td>\n",
              "      <td>-0.571429</td>\n",
              "      <td>0.538462</td>\n",
              "      <td>0.939394</td>\n",
              "      <td>-0.076923</td>\n",
              "      <td>-0.351351</td>\n",
              "      <td>-0.044776</td>\n",
              "      <td>-0.575758</td>\n",
              "      <td>0.072464</td>\n",
              "      <td>0.894737</td>\n",
              "      <td>-1.000000</td>\n",
              "      <td>-0.877301</td>\n",
              "      <td>-0.923664</td>\n",
              "      <td>-0.882353</td>\n",
              "      <td>-0.952381</td>\n",
              "      <td>-0.979798</td>\n",
              "      <td>-1.000000</td>\n",
              "      <td>-0.883669</td>\n",
              "      <td>-0.956805</td>\n",
              "      <td>-0.870968</td>\n",
              "      <td>-0.953536</td>\n",
              "      <td>-0.980333</td>\n",
              "      <td>0-2</td>\n",
              "      <td>0</td>\n",
              "    </tr>\n",
              "    <tr>\n",
              "      <th>5</th>\n",
              "      <th>25</th>\n",
              "      <td>5</td>\n",
              "      <td>0</td>\n",
              "      <td>0</td>\n",
              "      <td>0</td>\n",
              "      <td>0.0</td>\n",
              "      <td>0.0</td>\n",
              "      <td>0.0</td>\n",
              "      <td>0.0</td>\n",
              "      <td>0.0</td>\n",
              "      <td>0.0</td>\n",
              "      <td>0.0</td>\n",
              "      <td>0.0</td>\n",
              "      <td>1.0</td>\n",
              "      <td>0.605263</td>\n",
              "      <td>0.605263</td>\n",
              "      <td>0.605263</td>\n",
              "      <td>0.605263</td>\n",
              "      <td>-1.0</td>\n",
              "      <td>-1.0</td>\n",
              "      <td>-1.0</td>\n",
              "      <td>-1.0</td>\n",
              "      <td>-1.0</td>\n",
              "      <td>-1.0</td>\n",
              "      <td>-1.0</td>\n",
              "      <td>-1.0</td>\n",
              "      <td>-1.0</td>\n",
              "      <td>-1.0</td>\n",
              "      <td>-1.0</td>\n",
              "      <td>-0.317073</td>\n",
              "      <td>-0.317073</td>\n",
              "      <td>-0.317073</td>\n",
              "      <td>-0.317073</td>\n",
              "      <td>-1.0</td>\n",
              "      <td>-0.317073</td>\n",
              "      <td>-0.317073</td>\n",
              "      <td>-0.317073</td>\n",
              "      <td>-0.317073</td>\n",
              "      <td>-1.0</td>\n",
              "      <td>-0.938950</td>\n",
              "      <td>-0.938950</td>\n",
              "      <td>...</td>\n",
              "      <td>-1.000000</td>\n",
              "      <td>-1.0</td>\n",
              "      <td>-0.037037</td>\n",
              "      <td>-0.538462</td>\n",
              "      <td>-0.537736</td>\n",
              "      <td>-0.525424</td>\n",
              "      <td>-0.196429</td>\n",
              "      <td>0.815789</td>\n",
              "      <td>-0.037037</td>\n",
              "      <td>-0.538462</td>\n",
              "      <td>-0.537736</td>\n",
              "      <td>-0.517241</td>\n",
              "      <td>-0.196429</td>\n",
              "      <td>0.815789</td>\n",
              "      <td>0.030928</td>\n",
              "      <td>-0.3750</td>\n",
              "      <td>-0.401709</td>\n",
              "      <td>-0.428571</td>\n",
              "      <td>0.252747</td>\n",
              "      <td>0.919192</td>\n",
              "      <td>-0.247863</td>\n",
              "      <td>-0.567568</td>\n",
              "      <td>-0.626866</td>\n",
              "      <td>-0.575758</td>\n",
              "      <td>-0.333333</td>\n",
              "      <td>0.842105</td>\n",
              "      <td>-0.826087</td>\n",
              "      <td>-0.754601</td>\n",
              "      <td>-0.984733</td>\n",
              "      <td>-1.000000</td>\n",
              "      <td>-0.976190</td>\n",
              "      <td>-0.979798</td>\n",
              "      <td>-0.860870</td>\n",
              "      <td>-0.714460</td>\n",
              "      <td>-0.986481</td>\n",
              "      <td>-1.000000</td>\n",
              "      <td>-0.975891</td>\n",
              "      <td>-0.980129</td>\n",
              "      <td>0-2</td>\n",
              "      <td>0</td>\n",
              "    </tr>\n",
              "  </tbody>\n",
              "</table>\n",
              "<p>5 rows × 231 columns</p>\n",
              "</div>"
            ],
            "text/plain": [
              "                             PATIENT_VISIT_IDENTIFIER  AGE_ABOVE65  ...  WINDOW  ICU\n",
              "PATIENT_VISIT_IDENTIFIER                                            ...             \n",
              "0                        0                          0            1  ...     0-2    1\n",
              "2                        10                         2            0  ...     0-2    1\n",
              "3                        15                         3            0  ...     0-2    0\n",
              "4                        20                         4            0  ...     0-2    0\n",
              "5                        25                         5            0  ...     0-2    0\n",
              "\n",
              "[5 rows x 231 columns]"
            ]
          },
          "metadata": {
            "tags": []
          },
          "execution_count": 8
        }
      ]
    },
    {
      "cell_type": "code",
      "metadata": {
        "colab": {
          "base_uri": "https://localhost:8080/"
        },
        "id": "R9xeD2gYFfFw",
        "outputId": "d50b811b-d56e-4d30-ffb0-15e5239d0b75"
      },
      "source": [
        "np.random.seed(73246)\n",
        "\n",
        "x_columns = dados.columns\n",
        "y = dados_limpos['ICU']\n",
        "x = dados_limpos[x_columns].drop(['ICU','WINDOW'], axis=1)\n",
        "x_train, x_test, y_train, y_test = train_test_split(x, y, stratify=y)\n",
        "modelo_dummy = DummyClassifier()\n",
        "#modelo_dummy = DummyClassifier(strategy='prior')\n",
        "modelo_dummy.fit(x_train, y_train)\n",
        "\n",
        "y_prediction = modelo_dummy.predict(x_test)\n",
        "accuracy_score(y_test, y_prediction)"
      ],
      "execution_count": 9,
      "outputs": [
        {
          "output_type": "stream",
          "text": [
            "/usr/local/lib/python3.7/dist-packages/sklearn/dummy.py:132: FutureWarning: The default value of strategy will change from stratified to prior in 0.24.\n",
            "  \"stratified to prior in 0.24.\", FutureWarning)\n"
          ],
          "name": "stderr"
        },
        {
          "output_type": "execute_result",
          "data": {
            "text/plain": [
              "0.48863636363636365"
            ]
          },
          "metadata": {
            "tags": []
          },
          "execution_count": 9
        }
      ]
    },
    {
      "cell_type": "code",
      "metadata": {
        "colab": {
          "base_uri": "https://localhost:8080/"
        },
        "id": "_ie9IFN5Ff_Z",
        "outputId": "b159dc52-aaaf-4dde-ee02-be71908e7a4c"
      },
      "source": [
        "modelo = LogisticRegression(max_iter=10000)\n",
        "modelo.fit(x_train, y_train)\n",
        "\n",
        "y_prediction = modelo.predict(x_test)\n",
        "accuracy_score(y_test, y_prediction)"
      ],
      "execution_count": 10,
      "outputs": [
        {
          "output_type": "execute_result",
          "data": {
            "text/plain": [
              "0.6818181818181818"
            ]
          },
          "metadata": {
            "tags": []
          },
          "execution_count": 10
        }
      ]
    },
    {
      "cell_type": "markdown",
      "metadata": {
        "id": "ehmqxUrBe2r5"
      },
      "source": [
        "Essa primeira aula, além da discussão teórica a respeito do *workflow*, serviu mais para organizar nosso *dataset* para o uso ao longo do módulo."
      ]
    },
    {
      "cell_type": "markdown",
      "metadata": {
        "id": "rUIEN22E4H0y"
      },
      "source": [
        "#### **Desafio - Transformar a Coluna `AGE_PERCENTIL` em Dados Categóricos, Utilizando Outro Método**\n",
        "---\n",
        "\n"
      ]
    },
    {
      "cell_type": "markdown",
      "metadata": {
        "id": "ppwaZp_mNA_A"
      },
      "source": [
        "Usei a mesma solução que já tinha utilizado no módulo 4, quando fui investigar quais as colunas que não tinham impacto no resultado do modelo.\n",
        "\n",
        "Em vez de torná-los categóricos, simplesmente converti para numéricos, levando os modelos a ter o mesmo resultado.\n",
        "\n",
        "Estranhamente, como já havia constatado antes, o uso da coluna **```AGE_PERCENTIL```** reduz a acurácia do modelo de Regressão Logística."
      ]
    },
    {
      "cell_type": "code",
      "metadata": {
        "colab": {
          "base_uri": "https://localhost:8080/"
        },
        "id": "qB5Qh_HsMDfk",
        "outputId": "203e17f9-372b-49a7-dcb7-3b19f51f5878"
      },
      "source": [
        "dados_limpos_desafio = preenche_tabela(dados)\n",
        "a_remover = dados_limpos_desafio.query('WINDOW==\"0-2\" and ICU==1')['PATIENT_VISIT_IDENTIFIER'].values\n",
        "dados_limpos_desafio = dados_limpos_desafio.query('PATIENT_VISIT_IDENTIFIER not in @a_remover')\n",
        "dados_limpos_desafio = dados_limpos_desafio.dropna()\n",
        "\n",
        "dados_limpos_desafio = dados_limpos_desafio.groupby(\"PATIENT_VISIT_IDENTIFIER\").apply(prepare_window)\n",
        "\n",
        "dados_limpos_desafio['AGE_PERCENTIL'] = dados_limpos_desafio['AGE_PERCENTIL'].str.replace('th', '')\n",
        "dados_limpos_desafio['AGE_PERCENTIL'] = dados_limpos_desafio['AGE_PERCENTIL'].str.replace('Above ', '')\n",
        "dados_limpos_desafio['AGE_PERCENTIL'] = dados_limpos_desafio['AGE_PERCENTIL'].astype('int8')\n",
        "\n",
        "np.random.seed(73246)\n",
        "\n",
        "x_columns = dados_limpos_desafio.columns\n",
        "y = dados_limpos_desafio['ICU']\n",
        "x = dados_limpos_desafio[x_columns].drop(['ICU','WINDOW'], axis=1)\n",
        "x_train, x_test, y_train, y_test = train_test_split(x, y, stratify=y)\n",
        "modelo = DummyClassifier()\n",
        "#modelo = DummyClassifier(strategy='prior')\n",
        "modelo.fit(x_train, y_train)\n",
        "\n",
        "y_prediction = modelo.predict(x_test)\n",
        "accuracy_score(y_test, y_prediction)"
      ],
      "execution_count": 11,
      "outputs": [
        {
          "output_type": "stream",
          "text": [
            "/usr/local/lib/python3.7/dist-packages/sklearn/dummy.py:132: FutureWarning: The default value of strategy will change from stratified to prior in 0.24.\n",
            "  \"stratified to prior in 0.24.\", FutureWarning)\n"
          ],
          "name": "stderr"
        },
        {
          "output_type": "execute_result",
          "data": {
            "text/plain": [
              "0.48863636363636365"
            ]
          },
          "metadata": {
            "tags": []
          },
          "execution_count": 11
        }
      ]
    },
    {
      "cell_type": "code",
      "metadata": {
        "colab": {
          "base_uri": "https://localhost:8080/"
        },
        "id": "Zucy6kZ_M8Yd",
        "outputId": "6731d796-066b-4a68-8257-bea064fd82d0"
      },
      "source": [
        "modelo = LogisticRegression(max_iter=10000)\n",
        "modelo.fit(x_train, y_train)\n",
        "\n",
        "y_prediction = modelo.predict(x_test)\n",
        "accuracy_score(y_test, y_prediction)"
      ],
      "execution_count": 12,
      "outputs": [
        {
          "output_type": "execute_result",
          "data": {
            "text/plain": [
              "0.6931818181818182"
            ]
          },
          "metadata": {
            "tags": []
          },
          "execution_count": 12
        }
      ]
    },
    {
      "cell_type": "markdown",
      "metadata": {
        "id": "g_xVUoPdQYMU"
      },
      "source": [
        "Como o Thiago sugeriu usar o próprio **```sklearn```** para fazer essa conversão, verifiquei a documentação de pré-processamento para achar a função **```LabelEncoder```** que faz exatamente isso.\n",
        "\n",
        "Apliquei abaixo e obtive os mesmos resultados dos modelos."
      ]
    },
    {
      "cell_type": "code",
      "metadata": {
        "colab": {
          "base_uri": "https://localhost:8080/"
        },
        "id": "YILGmcMeQCNl",
        "outputId": "d8ddba41-27ad-4fa3-9ebd-47ac9f35e645"
      },
      "source": [
        "dados_limpos_desafio = preenche_tabela(dados)\n",
        "a_remover = dados_limpos_desafio.query('WINDOW==\"0-2\" and ICU==1')['PATIENT_VISIT_IDENTIFIER'].values\n",
        "dados_limpos_desafio = dados_limpos_desafio.query('PATIENT_VISIT_IDENTIFIER not in @a_remover')\n",
        "dados_limpos_desafio = dados_limpos_desafio.dropna()\n",
        "\n",
        "dados_limpos_desafio = dados_limpos_desafio.groupby(\"PATIENT_VISIT_IDENTIFIER\").apply(prepare_window)\n",
        "le = preprocessing.LabelEncoder()\n",
        "dados_limpos_desafio.AGE_PERCENTIL = le.fit_transform(dados_limpos_desafio.AGE_PERCENTIL)\n",
        "\n",
        "np.random.seed(73246)\n",
        "\n",
        "x_columns = dados_limpos_desafio.columns\n",
        "y = dados_limpos_desafio['ICU']\n",
        "x = dados_limpos_desafio[x_columns].drop(['ICU','WINDOW'], axis=1)\n",
        "x_train, x_test, y_train, y_test = train_test_split(x, y, stratify=y)\n",
        "modelo = DummyClassifier()\n",
        "#modelo = DummyClassifier(strategy='prior')\n",
        "modelo.fit(x_train, y_train)\n",
        "\n",
        "y_prediction = modelo.predict(x_test)\n",
        "accuracy_score(y_test, y_prediction)"
      ],
      "execution_count": 13,
      "outputs": [
        {
          "output_type": "stream",
          "text": [
            "/usr/local/lib/python3.7/dist-packages/sklearn/dummy.py:132: FutureWarning: The default value of strategy will change from stratified to prior in 0.24.\n",
            "  \"stratified to prior in 0.24.\", FutureWarning)\n"
          ],
          "name": "stderr"
        },
        {
          "output_type": "execute_result",
          "data": {
            "text/plain": [
              "0.48863636363636365"
            ]
          },
          "metadata": {
            "tags": []
          },
          "execution_count": 13
        }
      ]
    },
    {
      "cell_type": "code",
      "metadata": {
        "colab": {
          "base_uri": "https://localhost:8080/"
        },
        "id": "zVuL9ALWQR9_",
        "outputId": "8089d39b-e6fc-4caa-d9ed-7bfc34c5bde2"
      },
      "source": [
        "modelo = LogisticRegression(max_iter=10000)\n",
        "modelo.fit(x_train, y_train)\n",
        "\n",
        "y_prediction = modelo.predict(x_test)\n",
        "accuracy_score(y_test, y_prediction)"
      ],
      "execution_count": 14,
      "outputs": [
        {
          "output_type": "execute_result",
          "data": {
            "text/plain": [
              "0.6818181818181818"
            ]
          },
          "metadata": {
            "tags": []
          },
          "execution_count": 14
        }
      ]
    },
    {
      "cell_type": "markdown",
      "metadata": {
        "id": "03D-rOIN5dKM"
      },
      "source": [
        "### **O que aprendemos nessa aula?**\n",
        "---\n",
        "\n",
        ">* Qual é um possível **Workflow** em um projeto de **Data Science**;\n",
        ">\n",
        ">* Realizar uma transformação de dados em dados categóricos;\n",
        ">\n",
        ">* Aumentar o número de iterações da regressão logística para convergir.\n",
        "\n",
        "---\n"
      ]
    },
    {
      "cell_type": "markdown",
      "metadata": {
        "id": "11DDdAsDV87b"
      },
      "source": [
        "## **Aula 02 - Métricas de Avaliação**\n",
        "---\n"
      ]
    },
    {
      "cell_type": "markdown",
      "metadata": {
        "id": "6LlxgIK9V8iy"
      },
      "source": [
        "### Vídeo 01 - Matriz de Confusão\n",
        "\n",
        "Antes de entrar na aula propriamente dita foi lançado um novo desafio que está ao final dessa aula.\n",
        "\n",
        "Na sequência, vamos trabalhar com um novo tipo de modelo, de **Árvore de Decisão**."
      ]
    },
    {
      "cell_type": "code",
      "metadata": {
        "colab": {
          "base_uri": "https://localhost:8080/"
        },
        "id": "jkxavTnsXXis",
        "outputId": "828b64d2-4d9e-4d4f-d95f-afbd7de867b6"
      },
      "source": [
        "#np.random.seed(73246)\n",
        "\n",
        "modelo_arvore = DecisionTreeClassifier()\n",
        "modelo_arvore.fit(x_train, y_train)\n",
        "predicao_arvore = modelo_arvore.predict(x_test)\n",
        "accuracy_score(y_test, predicao_arvore)"
      ],
      "execution_count": 15,
      "outputs": [
        {
          "output_type": "execute_result",
          "data": {
            "text/plain": [
              "0.6590909090909091"
            ]
          },
          "metadata": {
            "tags": []
          },
          "execution_count": 15
        }
      ]
    },
    {
      "cell_type": "code",
      "metadata": {
        "colab": {
          "base_uri": "https://localhost:8080/",
          "height": 483
        },
        "id": "XJ8PFOL8sYLl",
        "outputId": "1de592b3-6cfe-4428-dd25-5f07c73009c0"
      },
      "source": [
        "fig, ax = plt.subplots(figsize=(8, 8))\n",
        "plot_confusion_matrix(modelo_arvore, x_test, y_test, ax=ax)"
      ],
      "execution_count": 16,
      "outputs": [
        {
          "output_type": "execute_result",
          "data": {
            "text/plain": [
              "<sklearn.metrics._plot.confusion_matrix.ConfusionMatrixDisplay at 0x7f47c0fe16d0>"
            ]
          },
          "metadata": {
            "tags": []
          },
          "execution_count": 16
        },
        {
          "output_type": "display_data",
          "data": {
            "image/png": "[encoded data removed]",
            "text/plain": [
              "<Figure size 576x576 with 2 Axes>"
            ]
          },
          "metadata": {
            "tags": [],
            "needs_background": "light"
          }
        }
      ]
    },
    {
      "cell_type": "markdown",
      "metadata": {
        "id": "HffwcZnXXcgo"
      },
      "source": [
        "Vamos ao entendimento da matriz de confusão que foi plotada.\n",
        "\n",
        "Ela nos indica no eixo **X** quais foram as previsões do nosso modelo e no eixo **Y** quais eram os reais valores da base de teste.\n",
        "\n",
        "Sendo assim, tivemos os seguintes resultados:\n",
        "* **Verdadeiro Positivo:** 24 pacientes\n",
        "* **Verdadeiro Negativo:** 34 pacientes\n",
        "* **Falso Positivo:** 13 pacientes\n",
        "* **Falso Negativo:** 17 pacientes"
      ]
    },
    {
      "cell_type": "code",
      "metadata": {
        "colab": {
          "base_uri": "https://localhost:8080/"
        },
        "id": "u4EDj_k7uoeI",
        "outputId": "7af44653-540e-45cd-a637-1f20d5c2b816"
      },
      "source": [
        "print(classification_report(y_test, predicao_arvore))"
      ],
      "execution_count": 17,
      "outputs": [
        {
          "output_type": "stream",
          "text": [
            "              precision    recall  f1-score   support\n",
            "\n",
            "           0       0.67      0.72      0.69        47\n",
            "           1       0.65      0.59      0.62        41\n",
            "\n",
            "    accuracy                           0.66        88\n",
            "   macro avg       0.66      0.65      0.65        88\n",
            "weighted avg       0.66      0.66      0.66        88\n",
            "\n"
          ],
          "name": "stdout"
        }
      ]
    },
    {
      "cell_type": "markdown",
      "metadata": {
        "id": "-1MaX1-UvzwI"
      },
      "source": [
        "Vamos ao entendimento das colunas do **```classification_report```**:\n",
        "* ***precision:*** utilizado em casos em que o falso positivo é pior que o falso negativo, indica a precisão com que acertamos o resultado. Dos 51 casos que o modelo previu ZERO (34 + 17), tivemos 34 acertos (66,7%). Dos 37 casos que o modelo previu UM (24 + 13), tivemos 24 acertos (64,9%). É indicado para um caso de análise de investimentos, por exemplo.\n",
        "* ***recall:*** é indicado para casos em que o falso negativo é muito pior que o falso positivo, como no exemplo de previsão da necessidade de internação em UTI que estamos trabalhando no presente estudo. Dos 47 casos negativos (34 + 13) o modelo acertou 34 (72,3%). Dos 41 casos positivos (17 + 24) o modelo acertou 24 (58,5%).\n",
        "* ***f1-score:*** é uma média harmônica das métricas anteriores. Isso faz com que tenhamos um peso maior caso haja um desbalanço entre as duas métricas. A fórmula para calculá-lo é:\n",
        " * **f1-score = 2 * (precisão * recall) / (precisão + recall)**"
      ]
    },
    {
      "cell_type": "markdown",
      "metadata": {
        "id": "3CLZ9Hd1XgU_"
      },
      "source": [
        "#### **Desafio - Verificar o Impacto da Mudança da Coluna ```AGE_PERCENTIL``` nos Resultados**\n",
        "---\n",
        "\n",
        "Eui já havia feito essa avaliação no final da aula passada, inclusive achei estranho o fato da eficácia do modelo ter caído depois da alteração.\n",
        "\n",
        "Outro ponto que foi levantado é a possibilidade de estarmos atribuindo um peso maior a essa variável, pois enquanto a maioria das demais variáveis variam entre -1 e 1, essa categoria vai de 0 até 9. A diferença não é significativa, isso poderia ser um ponto importante se a categoria variasse na casa dos milhares ou valores maiores.\n",
        "\n",
        "De qualquer forma, pretendo fazer esse desafio alterando os valores da variável para o *range* de -1 a 1 e avaliar o novo resultado.\n",
        "\n",
        "Como temos 10 possíveis valores, acredito que a maneira mais simples é fazer a alteração via dicionário, atribuindo valores -1 para 0 e 1 para 9. Com isso, os demais números vão variar a cada 0,22.\n"
      ]
    },
    {
      "cell_type": "code",
      "metadata": {
        "id": "0VOEhDXciozk"
      },
      "source": [
        "dict_age = {0:-1, 1:-0.78, 2:-0.56,\n",
        "            3:-0.34, 4:-0.12, 5:0.1,\n",
        "            6:0.32, 7:0.54, 8:0.76, 9:1}\n",
        "\n",
        "dados_limpos_desafio = preenche_tabela(dados)\n",
        "a_remover = dados_limpos_desafio.query('WINDOW==\"0-2\" and ICU==1')['PATIENT_VISIT_IDENTIFIER'].values\n",
        "dados_limpos_desafio = dados_limpos_desafio.query('PATIENT_VISIT_IDENTIFIER not in @a_remover')\n",
        "dados_limpos_desafio = dados_limpos_desafio.dropna()\n",
        "\n",
        "dados_limpos_desafio = dados_limpos_desafio.groupby(\"PATIENT_VISIT_IDENTIFIER\").apply(prepare_window)\n",
        "le = preprocessing.LabelEncoder()\n",
        "dados_limpos_desafio.AGE_PERCENTIL = le.fit_transform(dados_limpos_desafio.AGE_PERCENTIL)\n",
        "dados_limpos_desafio.AGE_PERCENTIL = dados_limpos_desafio.AGE_PERCENTIL.map(dict_age)"
      ],
      "execution_count": 18,
      "outputs": []
    },
    {
      "cell_type": "code",
      "metadata": {
        "colab": {
          "base_uri": "https://localhost:8080/"
        },
        "id": "Z9Gt6BgNmf4c",
        "outputId": "89b13f97-f118-41d6-dcdf-103cb5261d76"
      },
      "source": [
        "np.random.seed(73246)\n",
        "\n",
        "x_columns = dados_limpos_desafio.columns\n",
        "y = dados_limpos_desafio['ICU']\n",
        "x = dados_limpos_desafio[x_columns].drop(['ICU','WINDOW'], axis=1)\n",
        "x_train, x_test, y_train, y_test = train_test_split(x, y, stratify=y)\n",
        "modelo = DummyClassifier()\n",
        "#modelo = DummyClassifier(strategy='prior')\n",
        "modelo.fit(x_train, y_train)\n",
        "\n",
        "y_prediction = modelo.predict(x_test)\n",
        "accuracy_score(y_test, y_prediction)"
      ],
      "execution_count": 19,
      "outputs": [
        {
          "output_type": "stream",
          "text": [
            "/usr/local/lib/python3.7/dist-packages/sklearn/dummy.py:132: FutureWarning: The default value of strategy will change from stratified to prior in 0.24.\n",
            "  \"stratified to prior in 0.24.\", FutureWarning)\n"
          ],
          "name": "stderr"
        },
        {
          "output_type": "execute_result",
          "data": {
            "text/plain": [
              "0.48863636363636365"
            ]
          },
          "metadata": {
            "tags": []
          },
          "execution_count": 19
        }
      ]
    },
    {
      "cell_type": "code",
      "metadata": {
        "colab": {
          "base_uri": "https://localhost:8080/"
        },
        "id": "-zft--1bmnwJ",
        "outputId": "684bb74b-dcb6-472f-8026-d6be64e4d95e"
      },
      "source": [
        "modelo = LogisticRegression(max_iter=10000)\n",
        "modelo.fit(x_train, y_train)\n",
        "\n",
        "y_prediction = modelo.predict(x_test)\n",
        "accuracy_score(y_test, y_prediction)"
      ],
      "execution_count": 20,
      "outputs": [
        {
          "output_type": "execute_result",
          "data": {
            "text/plain": [
              "0.6818181818181818"
            ]
          },
          "metadata": {
            "tags": []
          },
          "execution_count": 20
        }
      ]
    },
    {
      "cell_type": "markdown",
      "metadata": {
        "id": "hSoe6A9vnT4F"
      },
      "source": [
        "Como pode ser visto, a troca dos dados categóricos da coluna **```AGE_PERCENTIL```** que variavam entre 0 e 9 para o intervalo de -1 a 1 não alterou a acurácia dos modelos."
      ]
    },
    {
      "cell_type": "markdown",
      "metadata": {
        "id": "3qcz5ZrR4Owf"
      },
      "source": [
        "#### **Desafio - Pesquisar Sobre o** ***F-Score***\n",
        "---"
      ]
    },
    {
      "cell_type": "markdown",
      "metadata": {
        "id": "3wwsUZvjvFOu"
      },
      "source": [
        "O ***F-Score*** é uma medida de acurácia que combina os resultados de ***precision*** e ***recall*** na forma de média harmônica.\n",
        "\n",
        "Usualmente (e é o caso que pode ser visto no **`classification_report`**), utilizamos o ***F1-Score***, que traz um resultado mais equilibrado entre as duas métricas.\n",
        "\n",
        "Caso o objetivo seja dar ênfase ao resultado de ***precision*** pode-se usar o ***F0,5-Score***. Se o objetivo é dar ênfase ao resultado de ***recall***, usamos o ***F2-Score***.\n",
        "\n",
        "A fórmula do ***F-Score*** é:\n",
        "$$ F(\\beta) = \\frac{(1 + \\beta^2) * precision * recall}{(\\beta^2 * precision) + recall} $$\n",
        "\n",
        "A maneira mais fácil de identificar essa relação é com exemplos. Se temos um modelo que apresenta um resultado de ***precision*** de 0,5 e ***recall*** de 1, teremos os seguintes ***F-Scores***:\n",
        "* **F1-Score** = 0,667 ==> média harmônica das métricas\n",
        "* **F2-Score** = 0,833 ==> ênfase em ***recall***\n",
        "* **F0,5-Score** = 0,555 ==> ênfase em ***precision***\n",
        "\n",
        "Fontes:\n",
        "* [Wikipedia](https://en.wikipedia.org/wiki/F-score)\n",
        "* [Towards Data Science](https://towardsdatascience.com/accuracy-precision-recall-or-f1-331fb37c5cb9)\n",
        "* [Machine Learning Mastery](https://machinelearningmastery.com/fbeta-measure-for-machine-learning/)\n",
        "* [DeepAI](https://deepai.org/machine-learning-glossary-and-terms/f-score)\n"
      ]
    },
    {
      "cell_type": "markdown",
      "metadata": {
        "id": "6Q6mp73k4qKA"
      },
      "source": [
        "#### **Desafio - Pesquisar e Plotar a Árvore de Decisão Criada pelo Modelo**\n",
        "---"
      ]
    },
    {
      "cell_type": "markdown",
      "metadata": {
        "id": "0ybI9kNTPWKY"
      },
      "source": [
        "Primeiramente da maneira mais simples (e com uma apresentação mais pobre)."
      ]
    },
    {
      "cell_type": "code",
      "metadata": {
        "colab": {
          "base_uri": "https://localhost:8080/",
          "height": 0
        },
        "id": "zKfIiyrMOzVd",
        "outputId": "8c72e921-488b-4987-e280-f1a79315200c"
      },
      "source": [
        "fig = plt.figure(figsize = (25,20))\n",
        "\n",
        "plot_tree(modelo_arvore,fontsize= 10)\n",
        "\n",
        "plt.show()"
      ],
      "execution_count": 21,
      "outputs": [
        {
          "output_type": "display_data",
          "data": {
            "image/png": "[encoded data removed]",
            "text/plain": [
              "<Figure size 1800x1440 with 1 Axes>"
            ]
          },
          "metadata": {
            "tags": [],
            "needs_background": "light"
          }
        }
      ]
    },
    {
      "cell_type": "markdown",
      "metadata": {
        "id": "jCBEngvxPhmA"
      },
      "source": [
        "Agora vamos passar para uma apresentação mais rica visualmente, onde temos os nomes das variáveis, o percentual de amostras que seguiu por cada galho e cores indicando p resultado predominante nos caminhos seguidos ."
      ]
    },
    {
      "cell_type": "code",
      "metadata": {
        "colab": {
          "base_uri": "https://localhost:8080/",
          "height": 0
        },
        "id": "P5e94bjOKAa3",
        "outputId": "c06dde20-88f9-4e2a-8e3c-919d331f958b"
      },
      "source": [
        "arvore = export_graphviz(modelo_arvore,\n",
        "                         out_file = None, max_depth = None,\n",
        "                         feature_names = x.columns,\n",
        "                         class_names = ['Alta', 'UTI'], label = 'all',\n",
        "                         filled = True, leaves_parallel = False,\n",
        "                         impurity = True, node_ids = True,\n",
        "                         proportion = True, rotate = False,\n",
        "                         rounded = True, special_characters = True,\n",
        "                         precision = 3)\n",
        "plot_arvore = graphviz.Source(arvore, format='png')\n",
        "plot_arvore"
      ],
      "execution_count": 22,
      "outputs": [
        {
          "output_type": "execute_result",
          "data": {
            "text/plain": [
              "<graphviz.files.Source at 0x7f47c10abf10>"
            ],
            "image/svg+xml": "<?xml version=\"1.0\" encoding=\"UTF-8\" standalone=\"no\"?>\n<!DOCTYPE svg PUBLIC \"-//W3C//DTD SVG 1.1//EN\"\n \"http://www.w3.org/Graphics/SVG/1.1/DTD/svg11.dtd\">\n<!-- Generated by graphviz version 2.40.1 (20161225.0304)\n -->\n<!-- Title: Tree Pages: 1 -->\n<svg width=\"3224pt\" height=\"1833pt\"\n viewBox=\"0.00 0.00 3224.00 1833.00\" xmlns=\"http://www.w3.org/2000/svg\" xmlns:xlink=\"http://www.w3.org/1999/xlink\">\n<g id=\"graph0\" class=\"graph\" transform=\"scale(1 1) rotate(0) translate(4 1829)\">\n<title>Tree</title>\n<polygon fill=\"#ffffff\" stroke=\"transparent\" points=\"-4,4 -4,-1829 3220,-1829 3220,4 -4,4\"/>\n<!-- 0 -->\n<g id=\"node1\" class=\"node\">\n<title>0</title>\n<path fill=\"#fbede3\" stroke=\"#000000\" d=\"M2455.5,-1825C2455.5,-1825 2307.5,-1825 2307.5,-1825 2301.5,-1825 2295.5,-1819 2295.5,-1813 2295.5,-1813 2295.5,-1739 2295.5,-1739 2295.5,-1733 2301.5,-1727 2307.5,-1727 2307.5,-1727 2455.5,-1727 2455.5,-1727 2461.5,-1727 2467.5,-1733 2467.5,-1739 2467.5,-1739 2467.5,-1813 2467.5,-1813 2467.5,-1819 2461.5,-1825 2455.5,-1825\"/>\n<text text-anchor=\"start\" x=\"2354.5\" y=\"-1809.8\" font-family=\"Helvetica,sans-Serif\" font-size=\"14.00\" fill=\"#000000\">node #0</text>\n<text text-anchor=\"start\" x=\"2303.5\" y=\"-1794.8\" font-family=\"Helvetica,sans-Serif\" font-size=\"14.00\" fill=\"#000000\">AGE_PERCENTIL ≤ 6.5</text>\n<text text-anchor=\"start\" x=\"2343.5\" y=\"-1779.8\" font-family=\"Helvetica,sans-Serif\" font-size=\"14.00\" fill=\"#000000\">gini = 0.497</text>\n<text text-anchor=\"start\" x=\"2321\" y=\"-1764.8\" font-family=\"Helvetica,sans-Serif\" font-size=\"14.00\" fill=\"#000000\">samples = 100.0%</text>\n<text text-anchor=\"start\" x=\"2311.5\" y=\"-1749.8\" font-family=\"Helvetica,sans-Serif\" font-size=\"14.00\" fill=\"#000000\">value = [0.538, 0.462]</text>\n<text text-anchor=\"start\" x=\"2344.5\" y=\"-1734.8\" font-family=\"Helvetica,sans-Serif\" font-size=\"14.00\" fill=\"#000000\">class = Alta</text>\n</g>\n<!-- 1 -->\n<g id=\"node2\" class=\"node\">\n<title>1</title>\n<path fill=\"#f3c4a2\" stroke=\"#000000\" d=\"M2217.5,-1691C2217.5,-1691 2073.5,-1691 2073.5,-1691 2067.5,-1691 2061.5,-1685 2061.5,-1679 2061.5,-1679 2061.5,-1605 2061.5,-1605 2061.5,-1599 2067.5,-1593 2073.5,-1593 2073.5,-1593 2217.5,-1593 2217.5,-1593 2223.5,-1593 2229.5,-1599 2229.5,-1605 2229.5,-1605 2229.5,-1679 2229.5,-1679 2229.5,-1685 2223.5,-1691 2217.5,-1691\"/>\n<text text-anchor=\"start\" x=\"2118.5\" y=\"-1675.8\" font-family=\"Helvetica,sans-Serif\" font-size=\"14.00\" fill=\"#000000\">node #1</text>\n<text text-anchor=\"start\" x=\"2069.5\" y=\"-1660.8\" font-family=\"Helvetica,sans-Serif\" font-size=\"14.00\" fill=\"#000000\">PCR_MEDIAN ≤ &#45;0.567</text>\n<text text-anchor=\"start\" x=\"2107.5\" y=\"-1645.8\" font-family=\"Helvetica,sans-Serif\" font-size=\"14.00\" fill=\"#000000\">gini = 0.453</text>\n<text text-anchor=\"start\" x=\"2089.5\" y=\"-1630.8\" font-family=\"Helvetica,sans-Serif\" font-size=\"14.00\" fill=\"#000000\">samples = 72.0%</text>\n<text text-anchor=\"start\" x=\"2075.5\" y=\"-1615.8\" font-family=\"Helvetica,sans-Serif\" font-size=\"14.00\" fill=\"#000000\">value = [0.653, 0.347]</text>\n<text text-anchor=\"start\" x=\"2108.5\" y=\"-1600.8\" font-family=\"Helvetica,sans-Serif\" font-size=\"14.00\" fill=\"#000000\">class = Alta</text>\n</g>\n<!-- 0&#45;&gt;1 -->\n<g id=\"edge1\" class=\"edge\">\n<title>0&#45;&gt;1</title>\n<path fill=\"none\" stroke=\"#000000\" d=\"M2295.2968,-1727.0541C2276.8821,-1716.5983 2257.351,-1705.5086 2238.6873,-1694.9114\"/>\n<polygon fill=\"#000000\" stroke=\"#000000\" points=\"2240.3172,-1691.8121 2229.893,-1689.9181 2236.8609,-1697.8993 2240.3172,-1691.8121\"/>\n<text text-anchor=\"middle\" x=\"2236.5371\" y=\"-1710.3191\" font-family=\"Helvetica,sans-Serif\" font-size=\"14.00\" fill=\"#000000\">True</text>\n</g>\n<!-- 52 -->\n<g id=\"node53\" class=\"node\">\n<title>52</title>\n<path fill=\"#79bced\" stroke=\"#000000\" d=\"M2649,-1691C2649,-1691 2324,-1691 2324,-1691 2318,-1691 2312,-1685 2312,-1679 2312,-1679 2312,-1605 2312,-1605 2312,-1599 2318,-1593 2324,-1593 2324,-1593 2649,-1593 2649,-1593 2655,-1593 2661,-1599 2661,-1605 2661,-1605 2661,-1679 2661,-1679 2661,-1685 2655,-1691 2649,-1691\"/>\n<text text-anchor=\"start\" x=\"2455.5\" y=\"-1675.8\" font-family=\"Helvetica,sans-Serif\" font-size=\"14.00\" fill=\"#000000\">node #52</text>\n<text text-anchor=\"start\" x=\"2320\" y=\"-1660.8\" font-family=\"Helvetica,sans-Serif\" font-size=\"14.00\" fill=\"#000000\">BLOODPRESSURE_DIASTOLIC_MEDIAN ≤ 0.148</text>\n<text text-anchor=\"start\" x=\"2448.5\" y=\"-1645.8\" font-family=\"Helvetica,sans-Serif\" font-size=\"14.00\" fill=\"#000000\">gini = 0.368</text>\n<text text-anchor=\"start\" x=\"2430.5\" y=\"-1630.8\" font-family=\"Helvetica,sans-Serif\" font-size=\"14.00\" fill=\"#000000\">samples = 28.0%</text>\n<text text-anchor=\"start\" x=\"2416.5\" y=\"-1615.8\" font-family=\"Helvetica,sans-Serif\" font-size=\"14.00\" fill=\"#000000\">value = [0.243, 0.757]</text>\n<text text-anchor=\"start\" x=\"2450\" y=\"-1600.8\" font-family=\"Helvetica,sans-Serif\" font-size=\"14.00\" fill=\"#000000\">class = UTI</text>\n</g>\n<!-- 0&#45;&gt;52 -->\n<g id=\"edge52\" class=\"edge\">\n<title>0&#45;&gt;52</title>\n<path fill=\"none\" stroke=\"#000000\" d=\"M2420.0019,-1726.8642C2427.0638,-1717.8519 2434.4903,-1708.3743 2441.7173,-1699.1513\"/>\n<polygon fill=\"#000000\" stroke=\"#000000\" points=\"2444.5898,-1701.1599 2448.0027,-1691.1298 2439.0799,-1696.8424 2444.5898,-1701.1599\"/>\n<text text-anchor=\"middle\" x=\"2451.0141\" y=\"-1712.2478\" font-family=\"Helvetica,sans-Serif\" font-size=\"14.00\" fill=\"#000000\">False</text>\n</g>\n<!-- 2 -->\n<g id=\"node3\" class=\"node\">\n<title>2</title>\n<path fill=\"#efb387\" stroke=\"#000000\" d=\"M1864,-1557C1864,-1557 1703,-1557 1703,-1557 1697,-1557 1691,-1551 1691,-1545 1691,-1545 1691,-1471 1691,-1471 1691,-1465 1697,-1459 1703,-1459 1703,-1459 1864,-1459 1864,-1459 1870,-1459 1876,-1465 1876,-1471 1876,-1471 1876,-1545 1876,-1545 1876,-1551 1870,-1557 1864,-1557\"/>\n<text text-anchor=\"start\" x=\"1756.5\" y=\"-1541.8\" font-family=\"Helvetica,sans-Serif\" font-size=\"14.00\" fill=\"#000000\">node #2</text>\n<text text-anchor=\"start\" x=\"1699\" y=\"-1526.8\" font-family=\"Helvetica,sans-Serif\" font-size=\"14.00\" fill=\"#000000\">CREATININ_MIN ≤ &#45;0.858</text>\n<text text-anchor=\"start\" x=\"1745.5\" y=\"-1511.8\" font-family=\"Helvetica,sans-Serif\" font-size=\"14.00\" fill=\"#000000\">gini = 0.405</text>\n<text text-anchor=\"start\" x=\"1727.5\" y=\"-1496.8\" font-family=\"Helvetica,sans-Serif\" font-size=\"14.00\" fill=\"#000000\">samples = 64.4%</text>\n<text text-anchor=\"start\" x=\"1713.5\" y=\"-1481.8\" font-family=\"Helvetica,sans-Serif\" font-size=\"14.00\" fill=\"#000000\">value = [0.718, 0.282]</text>\n<text text-anchor=\"start\" x=\"1746.5\" y=\"-1466.8\" font-family=\"Helvetica,sans-Serif\" font-size=\"14.00\" fill=\"#000000\">class = Alta</text>\n</g>\n<!-- 1&#45;&gt;2 -->\n<g id=\"edge2\" class=\"edge\">\n<title>1&#45;&gt;2</title>\n<path fill=\"none\" stroke=\"#000000\" d=\"M2061.0839,-1610.7521C2008.7473,-1591.3788 1941.1742,-1566.3656 1885.803,-1545.8691\"/>\n<polygon fill=\"#000000\" stroke=\"#000000\" points=\"1886.914,-1542.5483 1876.3209,-1542.3591 1884.484,-1549.113 1886.914,-1542.5483\"/>\n</g>\n<!-- 47 -->\n<g id=\"node48\" class=\"node\">\n<title>47</title>\n<path fill=\"#4fa8e8\" stroke=\"#000000\" d=\"M2245.5,-1557C2245.5,-1557 2045.5,-1557 2045.5,-1557 2039.5,-1557 2033.5,-1551 2033.5,-1545 2033.5,-1545 2033.5,-1471 2033.5,-1471 2033.5,-1465 2039.5,-1459 2045.5,-1459 2045.5,-1459 2245.5,-1459 2245.5,-1459 2251.5,-1459 2257.5,-1465 2257.5,-1471 2257.5,-1471 2257.5,-1545 2257.5,-1545 2257.5,-1551 2251.5,-1557 2245.5,-1557\"/>\n<text text-anchor=\"start\" x=\"2114.5\" y=\"-1541.8\" font-family=\"Helvetica,sans-Serif\" font-size=\"14.00\" fill=\"#000000\">node #47</text>\n<text text-anchor=\"start\" x=\"2041.5\" y=\"-1526.8\" font-family=\"Helvetica,sans-Serif\" font-size=\"14.00\" fill=\"#000000\">LINFOCITOS_MEDIAN ≤ &#45;0.901</text>\n<text text-anchor=\"start\" x=\"2112\" y=\"-1511.8\" font-family=\"Helvetica,sans-Serif\" font-size=\"14.00\" fill=\"#000000\">gini = 0.18</text>\n<text text-anchor=\"start\" x=\"2093.5\" y=\"-1496.8\" font-family=\"Helvetica,sans-Serif\" font-size=\"14.00\" fill=\"#000000\">samples = 7.6%</text>\n<text text-anchor=\"start\" x=\"2092\" y=\"-1481.8\" font-family=\"Helvetica,sans-Serif\" font-size=\"14.00\" fill=\"#000000\">value = [0.1, 0.9]</text>\n<text text-anchor=\"start\" x=\"2109\" y=\"-1466.8\" font-family=\"Helvetica,sans-Serif\" font-size=\"14.00\" fill=\"#000000\">class = UTI</text>\n</g>\n<!-- 1&#45;&gt;47 -->\n<g id=\"edge47\" class=\"edge\">\n<title>1&#45;&gt;47</title>\n<path fill=\"none\" stroke=\"#000000\" d=\"M2145.5,-1592.8642C2145.5,-1584.5802 2145.5,-1575.903 2145.5,-1567.3918\"/>\n<polygon fill=\"#000000\" stroke=\"#000000\" points=\"2149.0001,-1567.1298 2145.5,-1557.1298 2142.0001,-1567.1299 2149.0001,-1567.1298\"/>\n</g>\n<!-- 3 -->\n<g id=\"node4\" class=\"node\">\n<title>3</title>\n<path fill=\"#eca572\" stroke=\"#000000\" d=\"M1575,-1423C1575,-1423 1326,-1423 1326,-1423 1320,-1423 1314,-1417 1314,-1411 1314,-1411 1314,-1337 1314,-1337 1314,-1331 1320,-1325 1326,-1325 1326,-1325 1575,-1325 1575,-1325 1581,-1325 1587,-1331 1587,-1337 1587,-1337 1587,-1411 1587,-1411 1587,-1417 1581,-1423 1575,-1423\"/>\n<text text-anchor=\"start\" x=\"1423.5\" y=\"-1407.8\" font-family=\"Helvetica,sans-Serif\" font-size=\"14.00\" fill=\"#000000\">node #3</text>\n<text text-anchor=\"start\" x=\"1322\" y=\"-1392.8\" font-family=\"Helvetica,sans-Serif\" font-size=\"14.00\" fill=\"#000000\">RESPIRATORY_RATE_MEAN ≤ &#45;0.288</text>\n<text text-anchor=\"start\" x=\"1412.5\" y=\"-1377.8\" font-family=\"Helvetica,sans-Serif\" font-size=\"14.00\" fill=\"#000000\">gini = 0.346</text>\n<text text-anchor=\"start\" x=\"1394.5\" y=\"-1362.8\" font-family=\"Helvetica,sans-Serif\" font-size=\"14.00\" fill=\"#000000\">samples = 58.0%</text>\n<text text-anchor=\"start\" x=\"1380.5\" y=\"-1347.8\" font-family=\"Helvetica,sans-Serif\" font-size=\"14.00\" fill=\"#000000\">value = [0.778, 0.222]</text>\n<text text-anchor=\"start\" x=\"1413.5\" y=\"-1332.8\" font-family=\"Helvetica,sans-Serif\" font-size=\"14.00\" fill=\"#000000\">class = Alta</text>\n</g>\n<!-- 2&#45;&gt;3 -->\n<g id=\"edge3\" class=\"edge\">\n<title>2&#45;&gt;3</title>\n<path fill=\"none\" stroke=\"#000000\" d=\"M1690.7409,-1470.6735C1657.0874,-1457.1313 1618.3971,-1441.5622 1582.0365,-1426.9306\"/>\n<polygon fill=\"#000000\" stroke=\"#000000\" points=\"1582.9335,-1423.5188 1572.3498,-1423.0326 1580.3202,-1430.0128 1582.9335,-1423.5188\"/>\n</g>\n<!-- 42 -->\n<g id=\"node43\" class=\"node\">\n<title>42</title>\n<path fill=\"#63b2eb\" stroke=\"#000000\" d=\"M1901,-1423C1901,-1423 1666,-1423 1666,-1423 1660,-1423 1654,-1417 1654,-1411 1654,-1411 1654,-1337 1654,-1337 1654,-1331 1660,-1325 1666,-1325 1666,-1325 1901,-1325 1901,-1325 1907,-1325 1913,-1331 1913,-1337 1913,-1337 1913,-1411 1913,-1411 1913,-1417 1907,-1423 1901,-1423\"/>\n<text text-anchor=\"start\" x=\"1752.5\" y=\"-1407.8\" font-family=\"Helvetica,sans-Serif\" font-size=\"14.00\" fill=\"#000000\">node #42</text>\n<text text-anchor=\"start\" x=\"1662\" y=\"-1392.8\" font-family=\"Helvetica,sans-Serif\" font-size=\"14.00\" fill=\"#000000\">TEMPERATURE_DIFF_REL ≤ &#45;0.927</text>\n<text text-anchor=\"start\" x=\"1745.5\" y=\"-1377.8\" font-family=\"Helvetica,sans-Serif\" font-size=\"14.00\" fill=\"#000000\">gini = 0.291</text>\n<text text-anchor=\"start\" x=\"1731.5\" y=\"-1362.8\" font-family=\"Helvetica,sans-Serif\" font-size=\"14.00\" fill=\"#000000\">samples = 6.4%</text>\n<text text-anchor=\"start\" x=\"1713.5\" y=\"-1347.8\" font-family=\"Helvetica,sans-Serif\" font-size=\"14.00\" fill=\"#000000\">value = [0.176, 0.824]</text>\n<text text-anchor=\"start\" x=\"1747\" y=\"-1332.8\" font-family=\"Helvetica,sans-Serif\" font-size=\"14.00\" fill=\"#000000\">class = UTI</text>\n</g>\n<!-- 2&#45;&gt;42 -->\n<g id=\"edge42\" class=\"edge\">\n<title>2&#45;&gt;42</title>\n<path fill=\"none\" stroke=\"#000000\" d=\"M1783.5,-1458.8642C1783.5,-1450.5802 1783.5,-1441.903 1783.5,-1433.3918\"/>\n<polygon fill=\"#000000\" stroke=\"#000000\" points=\"1787.0001,-1433.1298 1783.5,-1423.1298 1780.0001,-1433.1299 1787.0001,-1433.1298\"/>\n</g>\n<!-- 4 -->\n<g id=\"node5\" class=\"node\">\n<title>4</title>\n<path fill=\"#eb9d64\" stroke=\"#000000\" d=\"M1296,-1289C1296,-1289 1033,-1289 1033,-1289 1027,-1289 1021,-1283 1021,-1277 1021,-1277 1021,-1203 1021,-1203 1021,-1197 1027,-1191 1033,-1191 1033,-1191 1296,-1191 1296,-1191 1302,-1191 1308,-1197 1308,-1203 1308,-1203 1308,-1277 1308,-1277 1308,-1283 1302,-1289 1296,-1289\"/>\n<text text-anchor=\"start\" x=\"1137.5\" y=\"-1273.8\" font-family=\"Helvetica,sans-Serif\" font-size=\"14.00\" fill=\"#000000\">node #4</text>\n<text text-anchor=\"start\" x=\"1029\" y=\"-1258.8\" font-family=\"Helvetica,sans-Serif\" font-size=\"14.00\" fill=\"#000000\">RESPIRATORY_RATE_MEDIAN ≤ &#45;0.862</text>\n<text text-anchor=\"start\" x=\"1126.5\" y=\"-1243.8\" font-family=\"Helvetica,sans-Serif\" font-size=\"14.00\" fill=\"#000000\">gini = 0.295</text>\n<text text-anchor=\"start\" x=\"1108.5\" y=\"-1228.8\" font-family=\"Helvetica,sans-Serif\" font-size=\"14.00\" fill=\"#000000\">samples = 52.7%</text>\n<text text-anchor=\"start\" x=\"1102.5\" y=\"-1213.8\" font-family=\"Helvetica,sans-Serif\" font-size=\"14.00\" fill=\"#000000\">value = [0.82, 0.18]</text>\n<text text-anchor=\"start\" x=\"1127.5\" y=\"-1198.8\" font-family=\"Helvetica,sans-Serif\" font-size=\"14.00\" fill=\"#000000\">class = Alta</text>\n</g>\n<!-- 3&#45;&gt;4 -->\n<g id=\"edge4\" class=\"edge\">\n<title>3&#45;&gt;4</title>\n<path fill=\"none\" stroke=\"#000000\" d=\"M1345.6281,-1324.8642C1323.7698,-1314.6229 1300.6293,-1303.7809 1278.4609,-1293.3943\"/>\n<polygon fill=\"#000000\" stroke=\"#000000\" points=\"1279.8995,-1290.2032 1269.3592,-1289.1298 1276.9296,-1296.542 1279.8995,-1290.2032\"/>\n</g>\n<!-- 37 -->\n<g id=\"node38\" class=\"node\">\n<title>37</title>\n<path fill=\"#a7d3f3\" stroke=\"#000000\" d=\"M1516.5,-1289C1516.5,-1289 1384.5,-1289 1384.5,-1289 1378.5,-1289 1372.5,-1283 1372.5,-1277 1372.5,-1277 1372.5,-1203 1372.5,-1203 1372.5,-1197 1378.5,-1191 1384.5,-1191 1384.5,-1191 1516.5,-1191 1516.5,-1191 1522.5,-1191 1528.5,-1197 1528.5,-1203 1528.5,-1203 1528.5,-1277 1528.5,-1277 1528.5,-1283 1522.5,-1289 1516.5,-1289\"/>\n<text text-anchor=\"start\" x=\"1419.5\" y=\"-1273.8\" font-family=\"Helvetica,sans-Serif\" font-size=\"14.00\" fill=\"#000000\">node #37</text>\n<text text-anchor=\"start\" x=\"1389.5\" y=\"-1258.8\" font-family=\"Helvetica,sans-Serif\" font-size=\"14.00\" fill=\"#000000\">PCR_MIN ≤ &#45;0.886</text>\n<text text-anchor=\"start\" x=\"1412.5\" y=\"-1243.8\" font-family=\"Helvetica,sans-Serif\" font-size=\"14.00\" fill=\"#000000\">gini = 0.459</text>\n<text text-anchor=\"start\" x=\"1398.5\" y=\"-1228.8\" font-family=\"Helvetica,sans-Serif\" font-size=\"14.00\" fill=\"#000000\">samples = 5.3%</text>\n<text text-anchor=\"start\" x=\"1380.5\" y=\"-1213.8\" font-family=\"Helvetica,sans-Serif\" font-size=\"14.00\" fill=\"#000000\">value = [0.357, 0.643]</text>\n<text text-anchor=\"start\" x=\"1414\" y=\"-1198.8\" font-family=\"Helvetica,sans-Serif\" font-size=\"14.00\" fill=\"#000000\">class = UTI</text>\n</g>\n<!-- 3&#45;&gt;37 -->\n<g id=\"edge37\" class=\"edge\">\n<title>3&#45;&gt;37</title>\n<path fill=\"none\" stroke=\"#000000\" d=\"M1450.5,-1324.8642C1450.5,-1316.5802 1450.5,-1307.903 1450.5,-1299.3918\"/>\n<polygon fill=\"#000000\" stroke=\"#000000\" points=\"1454.0001,-1299.1298 1450.5,-1289.1298 1447.0001,-1299.1299 1454.0001,-1299.1298\"/>\n</g>\n<!-- 5 -->\n<g id=\"node6\" class=\"node\">\n<title>5</title>\n<path fill=\"#399de5\" stroke=\"#000000\" d=\"M1042,-1147.5C1042,-1147.5 943,-1147.5 943,-1147.5 937,-1147.5 931,-1141.5 931,-1135.5 931,-1135.5 931,-1076.5 931,-1076.5 931,-1070.5 937,-1064.5 943,-1064.5 943,-1064.5 1042,-1064.5 1042,-1064.5 1048,-1064.5 1054,-1070.5 1054,-1076.5 1054,-1076.5 1054,-1135.5 1054,-1135.5 1054,-1141.5 1048,-1147.5 1042,-1147.5\"/>\n<text text-anchor=\"start\" x=\"965.5\" y=\"-1132.3\" font-family=\"Helvetica,sans-Serif\" font-size=\"14.00\" fill=\"#000000\">node #5</text>\n<text text-anchor=\"start\" x=\"963\" y=\"-1117.3\" font-family=\"Helvetica,sans-Serif\" font-size=\"14.00\" fill=\"#000000\">gini = 0.0</text>\n<text text-anchor=\"start\" x=\"940.5\" y=\"-1102.3\" font-family=\"Helvetica,sans-Serif\" font-size=\"14.00\" fill=\"#000000\">samples = 1.5%</text>\n<text text-anchor=\"start\" x=\"939\" y=\"-1087.3\" font-family=\"Helvetica,sans-Serif\" font-size=\"14.00\" fill=\"#000000\">value = [0.0, 1.0]</text>\n<text text-anchor=\"start\" x=\"956\" y=\"-1072.3\" font-family=\"Helvetica,sans-Serif\" font-size=\"14.00\" fill=\"#000000\">class = UTI</text>\n</g>\n<!-- 4&#45;&gt;5 -->\n<g id=\"edge5\" class=\"edge\">\n<title>4&#45;&gt;5</title>\n<path fill=\"none\" stroke=\"#000000\" d=\"M1101.4302,-1190.8642C1085.9177,-1178.7789 1069.3314,-1165.857 1053.8991,-1153.8342\"/>\n<polygon fill=\"#000000\" stroke=\"#000000\" points=\"1055.9856,-1151.0229 1045.946,-1147.6381 1051.6835,-1156.5449 1055.9856,-1151.0229\"/>\n</g>\n<!-- 6 -->\n<g id=\"node7\" class=\"node\">\n<title>6</title>\n<path fill=\"#ea985d\" stroke=\"#000000\" d=\"M1244.5,-1155C1244.5,-1155 1084.5,-1155 1084.5,-1155 1078.5,-1155 1072.5,-1149 1072.5,-1143 1072.5,-1143 1072.5,-1069 1072.5,-1069 1072.5,-1063 1078.5,-1057 1084.5,-1057 1084.5,-1057 1244.5,-1057 1244.5,-1057 1250.5,-1057 1256.5,-1063 1256.5,-1069 1256.5,-1069 1256.5,-1143 1256.5,-1143 1256.5,-1149 1250.5,-1155 1244.5,-1155\"/>\n<text text-anchor=\"start\" x=\"1137.5\" y=\"-1139.8\" font-family=\"Helvetica,sans-Serif\" font-size=\"14.00\" fill=\"#000000\">node #6</text>\n<text text-anchor=\"start\" x=\"1080.5\" y=\"-1124.8\" font-family=\"Helvetica,sans-Serif\" font-size=\"14.00\" fill=\"#000000\">GLUCOSE_MAX ≤ &#45;0.816</text>\n<text text-anchor=\"start\" x=\"1126.5\" y=\"-1109.8\" font-family=\"Helvetica,sans-Serif\" font-size=\"14.00\" fill=\"#000000\">gini = 0.263</text>\n<text text-anchor=\"start\" x=\"1108.5\" y=\"-1094.8\" font-family=\"Helvetica,sans-Serif\" font-size=\"14.00\" fill=\"#000000\">samples = 51.1%</text>\n<text text-anchor=\"start\" x=\"1094.5\" y=\"-1079.8\" font-family=\"Helvetica,sans-Serif\" font-size=\"14.00\" fill=\"#000000\">value = [0.844, 0.156]</text>\n<text text-anchor=\"start\" x=\"1127.5\" y=\"-1064.8\" font-family=\"Helvetica,sans-Serif\" font-size=\"14.00\" fill=\"#000000\">class = Alta</text>\n</g>\n<!-- 4&#45;&gt;6 -->\n<g id=\"edge6\" class=\"edge\">\n<title>4&#45;&gt;6</title>\n<path fill=\"none\" stroke=\"#000000\" d=\"M1164.5,-1190.8642C1164.5,-1182.5802 1164.5,-1173.903 1164.5,-1165.3918\"/>\n<polygon fill=\"#000000\" stroke=\"#000000\" points=\"1168.0001,-1165.1298 1164.5,-1155.1298 1161.0001,-1165.1299 1168.0001,-1165.1298\"/>\n</g>\n<!-- 7 -->\n<g id=\"node8\" class=\"node\">\n<title>7</title>\n<path fill=\"#e88f50\" stroke=\"#000000\" d=\"M1054.5,-1021C1054.5,-1021 904.5,-1021 904.5,-1021 898.5,-1021 892.5,-1015 892.5,-1009 892.5,-1009 892.5,-935 892.5,-935 892.5,-929 898.5,-923 904.5,-923 904.5,-923 1054.5,-923 1054.5,-923 1060.5,-923 1066.5,-929 1066.5,-935 1066.5,-935 1066.5,-1009 1066.5,-1009 1066.5,-1015 1060.5,-1021 1054.5,-1021\"/>\n<text text-anchor=\"start\" x=\"952.5\" y=\"-1005.8\" font-family=\"Helvetica,sans-Serif\" font-size=\"14.00\" fill=\"#000000\">node #7</text>\n<text text-anchor=\"start\" x=\"900.5\" y=\"-990.8\" font-family=\"Helvetica,sans-Serif\" font-size=\"14.00\" fill=\"#000000\">TTPA_MEDIAN ≤ &#45;0.774</text>\n<text text-anchor=\"start\" x=\"941.5\" y=\"-975.8\" font-family=\"Helvetica,sans-Serif\" font-size=\"14.00\" fill=\"#000000\">gini = 0.184</text>\n<text text-anchor=\"start\" x=\"923.5\" y=\"-960.8\" font-family=\"Helvetica,sans-Serif\" font-size=\"14.00\" fill=\"#000000\">samples = 44.3%</text>\n<text text-anchor=\"start\" x=\"909.5\" y=\"-945.8\" font-family=\"Helvetica,sans-Serif\" font-size=\"14.00\" fill=\"#000000\">value = [0.897, 0.103]</text>\n<text text-anchor=\"start\" x=\"942.5\" y=\"-930.8\" font-family=\"Helvetica,sans-Serif\" font-size=\"14.00\" fill=\"#000000\">class = Alta</text>\n</g>\n<!-- 6&#45;&gt;7 -->\n<g id=\"edge7\" class=\"edge\">\n<title>6&#45;&gt;7</title>\n<path fill=\"none\" stroke=\"#000000\" d=\"M1096.6633,-1056.8642C1083.3411,-1047.2147 1069.2826,-1037.0317 1055.7075,-1027.199\"/>\n<polygon fill=\"#000000\" stroke=\"#000000\" points=\"1057.4804,-1024.1614 1047.3285,-1021.1298 1053.3741,-1029.8305 1057.4804,-1024.1614\"/>\n</g>\n<!-- 32 -->\n<g id=\"node33\" class=\"node\">\n<title>32</title>\n<path fill=\"#ffffff\" stroke=\"#000000\" d=\"M1283,-1021C1283,-1021 1164,-1021 1164,-1021 1158,-1021 1152,-1015 1152,-1009 1152,-1009 1152,-935 1152,-935 1152,-929 1158,-923 1164,-923 1164,-923 1283,-923 1283,-923 1289,-923 1295,-929 1295,-935 1295,-935 1295,-1009 1295,-1009 1295,-1015 1289,-1021 1283,-1021\"/>\n<text text-anchor=\"start\" x=\"1192.5\" y=\"-1005.8\" font-family=\"Helvetica,sans-Serif\" font-size=\"14.00\" fill=\"#000000\">node #32</text>\n<text text-anchor=\"start\" x=\"1160\" y=\"-990.8\" font-family=\"Helvetica,sans-Serif\" font-size=\"14.00\" fill=\"#000000\">TGP_MAX ≤ &#45;0.987</text>\n<text text-anchor=\"start\" x=\"1194\" y=\"-975.8\" font-family=\"Helvetica,sans-Serif\" font-size=\"14.00\" fill=\"#000000\">gini = 0.5</text>\n<text text-anchor=\"start\" x=\"1171.5\" y=\"-960.8\" font-family=\"Helvetica,sans-Serif\" font-size=\"14.00\" fill=\"#000000\">samples = 6.8%</text>\n<text text-anchor=\"start\" x=\"1170\" y=\"-945.8\" font-family=\"Helvetica,sans-Serif\" font-size=\"14.00\" fill=\"#000000\">value = [0.5, 0.5]</text>\n<text text-anchor=\"start\" x=\"1186.5\" y=\"-930.8\" font-family=\"Helvetica,sans-Serif\" font-size=\"14.00\" fill=\"#000000\">class = Alta</text>\n</g>\n<!-- 6&#45;&gt;32 -->\n<g id=\"edge32\" class=\"edge\">\n<title>6&#45;&gt;32</title>\n<path fill=\"none\" stroke=\"#000000\" d=\"M1186.1344,-1056.8642C1189.9021,-1048.3071 1193.8545,-1039.3305 1197.7203,-1030.5506\"/>\n<polygon fill=\"#000000\" stroke=\"#000000\" points=\"1201.0417,-1031.6924 1201.8682,-1021.1298 1194.6352,-1028.8716 1201.0417,-1031.6924\"/>\n</g>\n<!-- 8 -->\n<g id=\"node9\" class=\"node\">\n<title>8</title>\n<path fill=\"#e78a47\" stroke=\"#000000\" d=\"M821,-887C821,-887 480,-887 480,-887 474,-887 468,-881 468,-875 468,-875 468,-801 468,-801 468,-795 474,-789 480,-789 480,-789 821,-789 821,-789 827,-789 833,-795 833,-801 833,-801 833,-875 833,-875 833,-881 827,-887 821,-887\"/>\n<text text-anchor=\"start\" x=\"623.5\" y=\"-871.8\" font-family=\"Helvetica,sans-Serif\" font-size=\"14.00\" fill=\"#000000\">node #8</text>\n<text text-anchor=\"start\" x=\"476\" y=\"-856.8\" font-family=\"Helvetica,sans-Serif\" font-size=\"14.00\" fill=\"#000000\">BLOODPRESSURE_DIASTOLIC_DIFF_REL ≤ &#45;0.724</text>\n<text text-anchor=\"start\" x=\"612.5\" y=\"-841.8\" font-family=\"Helvetica,sans-Serif\" font-size=\"14.00\" fill=\"#000000\">gini = 0.121</text>\n<text text-anchor=\"start\" x=\"594.5\" y=\"-826.8\" font-family=\"Helvetica,sans-Serif\" font-size=\"14.00\" fill=\"#000000\">samples = 40.9%</text>\n<text text-anchor=\"start\" x=\"580.5\" y=\"-811.8\" font-family=\"Helvetica,sans-Serif\" font-size=\"14.00\" fill=\"#000000\">value = [0.935, 0.065]</text>\n<text text-anchor=\"start\" x=\"613.5\" y=\"-796.8\" font-family=\"Helvetica,sans-Serif\" font-size=\"14.00\" fill=\"#000000\">class = Alta</text>\n</g>\n<!-- 7&#45;&gt;8 -->\n<g id=\"edge8\" class=\"edge\">\n<title>7&#45;&gt;8</title>\n<path fill=\"none\" stroke=\"#000000\" d=\"M892.1978,-936.4423C857.9764,-922.5041 817.9904,-906.218 780.5064,-890.9509\"/>\n<polygon fill=\"#000000\" stroke=\"#000000\" points=\"781.617,-887.6242 771.0355,-887.0935 778.9765,-894.1071 781.617,-887.6242\"/>\n</g>\n<!-- 27 -->\n<g id=\"node28\" class=\"node\">\n<title>27</title>\n<path fill=\"#d7ebfa\" stroke=\"#000000\" d=\"M1051,-887C1051,-887 908,-887 908,-887 902,-887 896,-881 896,-875 896,-875 896,-801 896,-801 896,-795 902,-789 908,-789 908,-789 1051,-789 1051,-789 1057,-789 1063,-795 1063,-801 1063,-801 1063,-875 1063,-875 1063,-881 1057,-887 1051,-887\"/>\n<text text-anchor=\"start\" x=\"948.5\" y=\"-871.8\" font-family=\"Helvetica,sans-Serif\" font-size=\"14.00\" fill=\"#000000\">node #27</text>\n<text text-anchor=\"start\" x=\"904\" y=\"-856.8\" font-family=\"Helvetica,sans-Serif\" font-size=\"14.00\" fill=\"#000000\">TGP_MEDIAN ≤ &#45;0.993</text>\n<text text-anchor=\"start\" x=\"941.5\" y=\"-841.8\" font-family=\"Helvetica,sans-Serif\" font-size=\"14.00\" fill=\"#000000\">gini = 0.494</text>\n<text text-anchor=\"start\" x=\"927.5\" y=\"-826.8\" font-family=\"Helvetica,sans-Serif\" font-size=\"14.00\" fill=\"#000000\">samples = 3.4%</text>\n<text text-anchor=\"start\" x=\"909.5\" y=\"-811.8\" font-family=\"Helvetica,sans-Serif\" font-size=\"14.00\" fill=\"#000000\">value = [0.444, 0.556]</text>\n<text text-anchor=\"start\" x=\"943\" y=\"-796.8\" font-family=\"Helvetica,sans-Serif\" font-size=\"14.00\" fill=\"#000000\">class = UTI</text>\n</g>\n<!-- 7&#45;&gt;27 -->\n<g id=\"edge27\" class=\"edge\">\n<title>7&#45;&gt;27</title>\n<path fill=\"none\" stroke=\"#000000\" d=\"M979.5,-922.8642C979.5,-914.5802 979.5,-905.903 979.5,-897.3918\"/>\n<polygon fill=\"#000000\" stroke=\"#000000\" points=\"983.0001,-897.1298 979.5,-887.1298 976.0001,-897.1299 983.0001,-897.1298\"/>\n</g>\n<!-- 9 -->\n<g id=\"node10\" class=\"node\">\n<title>9</title>\n<path fill=\"#e68743\" stroke=\"#000000\" d=\"M523.5,-753C523.5,-753 371.5,-753 371.5,-753 365.5,-753 359.5,-747 359.5,-741 359.5,-741 359.5,-667 359.5,-667 359.5,-661 365.5,-655 371.5,-655 371.5,-655 523.5,-655 523.5,-655 529.5,-655 535.5,-661 535.5,-667 535.5,-667 535.5,-741 535.5,-741 535.5,-747 529.5,-753 523.5,-753\"/>\n<text text-anchor=\"start\" x=\"420.5\" y=\"-737.8\" font-family=\"Helvetica,sans-Serif\" font-size=\"14.00\" fill=\"#000000\">node #9</text>\n<text text-anchor=\"start\" x=\"367.5\" y=\"-722.8\" font-family=\"Helvetica,sans-Serif\" font-size=\"14.00\" fill=\"#000000\">BLAST_MEDIAN ≤ &#45;0.87</text>\n<text text-anchor=\"start\" x=\"409.5\" y=\"-707.8\" font-family=\"Helvetica,sans-Serif\" font-size=\"14.00\" fill=\"#000000\">gini = 0.091</text>\n<text text-anchor=\"start\" x=\"391.5\" y=\"-692.8\" font-family=\"Helvetica,sans-Serif\" font-size=\"14.00\" fill=\"#000000\">samples = 39.8%</text>\n<text text-anchor=\"start\" x=\"377.5\" y=\"-677.8\" font-family=\"Helvetica,sans-Serif\" font-size=\"14.00\" fill=\"#000000\">value = [0.952, 0.048]</text>\n<text text-anchor=\"start\" x=\"410.5\" y=\"-662.8\" font-family=\"Helvetica,sans-Serif\" font-size=\"14.00\" fill=\"#000000\">class = Alta</text>\n</g>\n<!-- 8&#45;&gt;9 -->\n<g id=\"edge9\" class=\"edge\">\n<title>8&#45;&gt;9</title>\n<path fill=\"none\" stroke=\"#000000\" d=\"M576.063,-788.8642C561.1688,-779.0326 545.4358,-768.6473 530.2797,-758.6428\"/>\n<polygon fill=\"#000000\" stroke=\"#000000\" points=\"532.2019,-755.7179 521.928,-753.1298 528.3456,-761.5599 532.2019,-755.7179\"/>\n</g>\n<!-- 24 -->\n<g id=\"node25\" class=\"node\">\n<title>24</title>\n<path fill=\"#9ccef2\" stroke=\"#000000\" d=\"M736,-753C736,-753 565,-753 565,-753 559,-753 553,-747 553,-741 553,-741 553,-667 553,-667 553,-661 559,-655 565,-655 565,-655 736,-655 736,-655 742,-655 748,-661 748,-667 748,-667 748,-741 748,-741 748,-747 742,-753 736,-753\"/>\n<text text-anchor=\"start\" x=\"619.5\" y=\"-737.8\" font-family=\"Helvetica,sans-Serif\" font-size=\"14.00\" fill=\"#000000\">node #24</text>\n<text text-anchor=\"start\" x=\"561\" y=\"-722.8\" font-family=\"Helvetica,sans-Serif\" font-size=\"14.00\" fill=\"#000000\">PLATELETS_MAX ≤ &#45;0.534</text>\n<text text-anchor=\"start\" x=\"612.5\" y=\"-707.8\" font-family=\"Helvetica,sans-Serif\" font-size=\"14.00\" fill=\"#000000\">gini = 0.444</text>\n<text text-anchor=\"start\" x=\"598.5\" y=\"-692.8\" font-family=\"Helvetica,sans-Serif\" font-size=\"14.00\" fill=\"#000000\">samples = 1.1%</text>\n<text text-anchor=\"start\" x=\"580.5\" y=\"-677.8\" font-family=\"Helvetica,sans-Serif\" font-size=\"14.00\" fill=\"#000000\">value = [0.333, 0.667]</text>\n<text text-anchor=\"start\" x=\"614\" y=\"-662.8\" font-family=\"Helvetica,sans-Serif\" font-size=\"14.00\" fill=\"#000000\">class = UTI</text>\n</g>\n<!-- 8&#45;&gt;24 -->\n<g id=\"edge24\" class=\"edge\">\n<title>8&#45;&gt;24</title>\n<path fill=\"none\" stroke=\"#000000\" d=\"M650.5,-788.8642C650.5,-780.5802 650.5,-771.903 650.5,-763.3918\"/>\n<polygon fill=\"#000000\" stroke=\"#000000\" points=\"654.0001,-763.1298 650.5,-753.1298 647.0001,-763.1299 654.0001,-763.1298\"/>\n</g>\n<!-- 10 -->\n<g id=\"node11\" class=\"node\">\n<title>10</title>\n<path fill=\"#e68641\" stroke=\"#000000\" d=\"M371.5,-619C371.5,-619 239.5,-619 239.5,-619 233.5,-619 227.5,-613 227.5,-607 227.5,-607 227.5,-533 227.5,-533 227.5,-527 233.5,-521 239.5,-521 239.5,-521 371.5,-521 371.5,-521 377.5,-521 383.5,-527 383.5,-533 383.5,-533 383.5,-607 383.5,-607 383.5,-613 377.5,-619 371.5,-619\"/>\n<text text-anchor=\"start\" x=\"274.5\" y=\"-603.8\" font-family=\"Helvetica,sans-Serif\" font-size=\"14.00\" fill=\"#000000\">node #10</text>\n<text text-anchor=\"start\" x=\"242\" y=\"-588.8\" font-family=\"Helvetica,sans-Serif\" font-size=\"14.00\" fill=\"#000000\">PCR_MAX ≤ &#45;0.997</text>\n<text text-anchor=\"start\" x=\"267.5\" y=\"-573.8\" font-family=\"Helvetica,sans-Serif\" font-size=\"14.00\" fill=\"#000000\">gini = 0.074</text>\n<text text-anchor=\"start\" x=\"249.5\" y=\"-558.8\" font-family=\"Helvetica,sans-Serif\" font-size=\"14.00\" fill=\"#000000\">samples = 39.4%</text>\n<text text-anchor=\"start\" x=\"235.5\" y=\"-543.8\" font-family=\"Helvetica,sans-Serif\" font-size=\"14.00\" fill=\"#000000\">value = [0.962, 0.038]</text>\n<text text-anchor=\"start\" x=\"268.5\" y=\"-528.8\" font-family=\"Helvetica,sans-Serif\" font-size=\"14.00\" fill=\"#000000\">class = Alta</text>\n</g>\n<!-- 9&#45;&gt;10 -->\n<g id=\"edge10\" class=\"edge\">\n<title>9&#45;&gt;10</title>\n<path fill=\"none\" stroke=\"#000000\" d=\"M395.4308,-654.8642C385.4945,-645.4878 375.0246,-635.6077 364.88,-626.0346\"/>\n<polygon fill=\"#000000\" stroke=\"#000000\" points=\"367.2381,-623.4475 357.563,-619.1298 362.4338,-628.5386 367.2381,-623.4475\"/>\n</g>\n<!-- 23 -->\n<g id=\"node24\" class=\"node\">\n<title>23</title>\n<path fill=\"#399de5\" stroke=\"#000000\" d=\"M513,-611.5C513,-611.5 414,-611.5 414,-611.5 408,-611.5 402,-605.5 402,-599.5 402,-599.5 402,-540.5 402,-540.5 402,-534.5 408,-528.5 414,-528.5 414,-528.5 513,-528.5 513,-528.5 519,-528.5 525,-534.5 525,-540.5 525,-540.5 525,-599.5 525,-599.5 525,-605.5 519,-611.5 513,-611.5\"/>\n<text text-anchor=\"start\" x=\"432.5\" y=\"-596.3\" font-family=\"Helvetica,sans-Serif\" font-size=\"14.00\" fill=\"#000000\">node #23</text>\n<text text-anchor=\"start\" x=\"434\" y=\"-581.3\" font-family=\"Helvetica,sans-Serif\" font-size=\"14.00\" fill=\"#000000\">gini = 0.0</text>\n<text text-anchor=\"start\" x=\"411.5\" y=\"-566.3\" font-family=\"Helvetica,sans-Serif\" font-size=\"14.00\" fill=\"#000000\">samples = 0.4%</text>\n<text text-anchor=\"start\" x=\"410\" y=\"-551.3\" font-family=\"Helvetica,sans-Serif\" font-size=\"14.00\" fill=\"#000000\">value = [0.0, 1.0]</text>\n<text text-anchor=\"start\" x=\"427\" y=\"-536.3\" font-family=\"Helvetica,sans-Serif\" font-size=\"14.00\" fill=\"#000000\">class = UTI</text>\n</g>\n<!-- 9&#45;&gt;23 -->\n<g id=\"edge23\" class=\"edge\">\n<title>9&#45;&gt;23</title>\n<path fill=\"none\" stroke=\"#000000\" d=\"M453.367,-654.8642C454.6511,-644.1094 456.0144,-632.6921 457.3107,-621.8354\"/>\n<polygon fill=\"#000000\" stroke=\"#000000\" points=\"460.8179,-621.9826 458.5283,-611.6381 453.8673,-621.1526 460.8179,-621.9826\"/>\n</g>\n<!-- 11 -->\n<g id=\"node12\" class=\"node\">\n<title>11</title>\n<path fill=\"#efb388\" stroke=\"#000000\" d=\"M295.5,-485C295.5,-485 107.5,-485 107.5,-485 101.5,-485 95.5,-479 95.5,-473 95.5,-473 95.5,-399 95.5,-399 95.5,-393 101.5,-387 107.5,-387 107.5,-387 295.5,-387 295.5,-387 301.5,-387 307.5,-393 307.5,-399 307.5,-399 307.5,-473 307.5,-473 307.5,-479 301.5,-485 295.5,-485\"/>\n<text text-anchor=\"start\" x=\"170.5\" y=\"-469.8\" font-family=\"Helvetica,sans-Serif\" font-size=\"14.00\" fill=\"#000000\">node #11</text>\n<text text-anchor=\"start\" x=\"103.5\" y=\"-454.8\" font-family=\"Helvetica,sans-Serif\" font-size=\"14.00\" fill=\"#000000\">TEMPERATURE_MIN ≤ 0.462</text>\n<text text-anchor=\"start\" x=\"163.5\" y=\"-439.8\" font-family=\"Helvetica,sans-Serif\" font-size=\"14.00\" fill=\"#000000\">gini = 0.408</text>\n<text text-anchor=\"start\" x=\"149.5\" y=\"-424.8\" font-family=\"Helvetica,sans-Serif\" font-size=\"14.00\" fill=\"#000000\">samples = 2.7%</text>\n<text text-anchor=\"start\" x=\"131.5\" y=\"-409.8\" font-family=\"Helvetica,sans-Serif\" font-size=\"14.00\" fill=\"#000000\">value = [0.714, 0.286]</text>\n<text text-anchor=\"start\" x=\"164.5\" y=\"-394.8\" font-family=\"Helvetica,sans-Serif\" font-size=\"14.00\" fill=\"#000000\">class = Alta</text>\n</g>\n<!-- 10&#45;&gt;11 -->\n<g id=\"edge11\" class=\"edge\">\n<title>10&#45;&gt;11</title>\n<path fill=\"none\" stroke=\"#000000\" d=\"M267.3648,-520.8642C260.3701,-511.8519 253.0144,-502.3743 245.8562,-493.1513\"/>\n<polygon fill=\"#000000\" stroke=\"#000000\" points=\"248.5269,-490.8838 239.6306,-485.1298 242.9969,-495.1757 248.5269,-490.8838\"/>\n</g>\n<!-- 14 -->\n<g id=\"node15\" class=\"node\">\n<title>14</title>\n<path fill=\"#e6843d\" stroke=\"#000000\" d=\"M483.5,-485C483.5,-485 337.5,-485 337.5,-485 331.5,-485 325.5,-479 325.5,-473 325.5,-473 325.5,-399 325.5,-399 325.5,-393 331.5,-387 337.5,-387 337.5,-387 483.5,-387 483.5,-387 489.5,-387 495.5,-393 495.5,-399 495.5,-399 495.5,-473 495.5,-473 495.5,-479 489.5,-485 483.5,-485\"/>\n<text text-anchor=\"start\" x=\"379.5\" y=\"-469.8\" font-family=\"Helvetica,sans-Serif\" font-size=\"14.00\" fill=\"#000000\">node #14</text>\n<text text-anchor=\"start\" x=\"333.5\" y=\"-454.8\" font-family=\"Helvetica,sans-Serif\" font-size=\"14.00\" fill=\"#000000\">DIMER_MEAN ≤ &#45;0.863</text>\n<text text-anchor=\"start\" x=\"377\" y=\"-439.8\" font-family=\"Helvetica,sans-Serif\" font-size=\"14.00\" fill=\"#000000\">gini = 0.04</text>\n<text text-anchor=\"start\" x=\"354.5\" y=\"-424.8\" font-family=\"Helvetica,sans-Serif\" font-size=\"14.00\" fill=\"#000000\">samples = 36.7%</text>\n<text text-anchor=\"start\" x=\"340.5\" y=\"-409.8\" font-family=\"Helvetica,sans-Serif\" font-size=\"14.00\" fill=\"#000000\">value = [0.979, 0.021]</text>\n<text text-anchor=\"start\" x=\"373.5\" y=\"-394.8\" font-family=\"Helvetica,sans-Serif\" font-size=\"14.00\" fill=\"#000000\">class = Alta</text>\n</g>\n<!-- 10&#45;&gt;14 -->\n<g id=\"edge14\" class=\"edge\">\n<title>10&#45;&gt;14</title>\n<path fill=\"none\" stroke=\"#000000\" d=\"M344.0019,-520.8642C351.0638,-511.8519 358.4903,-502.3743 365.7173,-493.1513\"/>\n<polygon fill=\"#000000\" stroke=\"#000000\" points=\"368.5898,-495.1599 372.0027,-485.1298 363.0799,-490.8424 368.5898,-495.1599\"/>\n</g>\n<!-- 12 -->\n<g id=\"node13\" class=\"node\">\n<title>12</title>\n<path fill=\"#e58139\" stroke=\"#000000\" d=\"M111,-343.5C111,-343.5 12,-343.5 12,-343.5 6,-343.5 0,-337.5 0,-331.5 0,-331.5 0,-272.5 0,-272.5 0,-266.5 6,-260.5 12,-260.5 12,-260.5 111,-260.5 111,-260.5 117,-260.5 123,-266.5 123,-272.5 123,-272.5 123,-331.5 123,-331.5 123,-337.5 117,-343.5 111,-343.5\"/>\n<text text-anchor=\"start\" x=\"30.5\" y=\"-328.3\" font-family=\"Helvetica,sans-Serif\" font-size=\"14.00\" fill=\"#000000\">node #12</text>\n<text text-anchor=\"start\" x=\"32\" y=\"-313.3\" font-family=\"Helvetica,sans-Serif\" font-size=\"14.00\" fill=\"#000000\">gini = 0.0</text>\n<text text-anchor=\"start\" x=\"9.5\" y=\"-298.3\" font-family=\"Helvetica,sans-Serif\" font-size=\"14.00\" fill=\"#000000\">samples = 1.9%</text>\n<text text-anchor=\"start\" x=\"8\" y=\"-283.3\" font-family=\"Helvetica,sans-Serif\" font-size=\"14.00\" fill=\"#000000\">value = [1.0, 0.0]</text>\n<text text-anchor=\"start\" x=\"24.5\" y=\"-268.3\" font-family=\"Helvetica,sans-Serif\" font-size=\"14.00\" fill=\"#000000\">class = Alta</text>\n</g>\n<!-- 11&#45;&gt;12 -->\n<g id=\"edge12\" class=\"edge\">\n<title>11&#45;&gt;12</title>\n<path fill=\"none\" stroke=\"#000000\" d=\"M150.1641,-386.8642C137.8852,-375.1115 124.7797,-362.5677 112.5153,-350.8289\"/>\n<polygon fill=\"#000000\" stroke=\"#000000\" points=\"114.6468,-348.0243 105.0025,-343.6381 109.8066,-353.0812 114.6468,-348.0243\"/>\n</g>\n<!-- 13 -->\n<g id=\"node14\" class=\"node\">\n<title>13</title>\n<path fill=\"#399de5\" stroke=\"#000000\" d=\"M252,-343.5C252,-343.5 153,-343.5 153,-343.5 147,-343.5 141,-337.5 141,-331.5 141,-331.5 141,-272.5 141,-272.5 141,-266.5 147,-260.5 153,-260.5 153,-260.5 252,-260.5 252,-260.5 258,-260.5 264,-266.5 264,-272.5 264,-272.5 264,-331.5 264,-331.5 264,-337.5 258,-343.5 252,-343.5\"/>\n<text text-anchor=\"start\" x=\"171.5\" y=\"-328.3\" font-family=\"Helvetica,sans-Serif\" font-size=\"14.00\" fill=\"#000000\">node #13</text>\n<text text-anchor=\"start\" x=\"173\" y=\"-313.3\" font-family=\"Helvetica,sans-Serif\" font-size=\"14.00\" fill=\"#000000\">gini = 0.0</text>\n<text text-anchor=\"start\" x=\"150.5\" y=\"-298.3\" font-family=\"Helvetica,sans-Serif\" font-size=\"14.00\" fill=\"#000000\">samples = 0.8%</text>\n<text text-anchor=\"start\" x=\"149\" y=\"-283.3\" font-family=\"Helvetica,sans-Serif\" font-size=\"14.00\" fill=\"#000000\">value = [0.0, 1.0]</text>\n<text text-anchor=\"start\" x=\"166\" y=\"-268.3\" font-family=\"Helvetica,sans-Serif\" font-size=\"14.00\" fill=\"#000000\">class = UTI</text>\n</g>\n<!-- 11&#45;&gt;13 -->\n<g id=\"edge13\" class=\"edge\">\n<title>11&#45;&gt;13</title>\n<path fill=\"none\" stroke=\"#000000\" d=\"M201.8667,-386.8642C201.9469,-376.1094 202.0321,-364.6921 202.1132,-353.8354\"/>\n<polygon fill=\"#000000\" stroke=\"#000000\" points=\"205.6144,-353.664 202.1893,-343.6381 198.6146,-353.6117 205.6144,-353.664\"/>\n</g>\n<!-- 15 -->\n<g id=\"node16\" class=\"node\">\n<title>15</title>\n<path fill=\"#e5823b\" stroke=\"#000000\" d=\"M527,-351C527,-351 294,-351 294,-351 288,-351 282,-345 282,-339 282,-339 282,-265 282,-265 282,-259 288,-253 294,-253 294,-253 527,-253 527,-253 533,-253 539,-259 539,-265 539,-265 539,-339 539,-339 539,-345 533,-351 527,-351\"/>\n<text text-anchor=\"start\" x=\"379.5\" y=\"-335.8\" font-family=\"Helvetica,sans-Serif\" font-size=\"14.00\" fill=\"#000000\">node #15</text>\n<text text-anchor=\"start\" x=\"290\" y=\"-320.8\" font-family=\"Helvetica,sans-Serif\" font-size=\"14.00\" fill=\"#000000\">OXYGEN_SATURATION_MIN ≤ 0.97</text>\n<text text-anchor=\"start\" x=\"372.5\" y=\"-305.8\" font-family=\"Helvetica,sans-Serif\" font-size=\"14.00\" fill=\"#000000\">gini = 0.021</text>\n<text text-anchor=\"start\" x=\"354.5\" y=\"-290.8\" font-family=\"Helvetica,sans-Serif\" font-size=\"14.00\" fill=\"#000000\">samples = 35.2%</text>\n<text text-anchor=\"start\" x=\"340.5\" y=\"-275.8\" font-family=\"Helvetica,sans-Serif\" font-size=\"14.00\" fill=\"#000000\">value = [0.989, 0.011]</text>\n<text text-anchor=\"start\" x=\"373.5\" y=\"-260.8\" font-family=\"Helvetica,sans-Serif\" font-size=\"14.00\" fill=\"#000000\">class = Alta</text>\n</g>\n<!-- 14&#45;&gt;15 -->\n<g id=\"edge15\" class=\"edge\">\n<title>14&#45;&gt;15</title>\n<path fill=\"none\" stroke=\"#000000\" d=\"M410.5,-386.8642C410.5,-378.5802 410.5,-369.903 410.5,-361.3918\"/>\n<polygon fill=\"#000000\" stroke=\"#000000\" points=\"414.0001,-361.1298 410.5,-351.1298 407.0001,-361.1299 414.0001,-361.1298\"/>\n</g>\n<!-- 20 -->\n<g id=\"node21\" class=\"node\">\n<title>20</title>\n<path fill=\"#eeab7b\" stroke=\"#000000\" d=\"M717.5,-351C717.5,-351 569.5,-351 569.5,-351 563.5,-351 557.5,-345 557.5,-339 557.5,-339 557.5,-265 557.5,-265 557.5,-259 563.5,-253 569.5,-253 569.5,-253 717.5,-253 717.5,-253 723.5,-253 729.5,-259 729.5,-265 729.5,-265 729.5,-339 729.5,-339 729.5,-345 723.5,-351 717.5,-351\"/>\n<text text-anchor=\"start\" x=\"612.5\" y=\"-335.8\" font-family=\"Helvetica,sans-Serif\" font-size=\"14.00\" fill=\"#000000\">node #20</text>\n<text text-anchor=\"start\" x=\"565.5\" y=\"-320.8\" font-family=\"Helvetica,sans-Serif\" font-size=\"14.00\" fill=\"#000000\">AGE_PERCENTIL ≤ 5.0</text>\n<text text-anchor=\"start\" x=\"605.5\" y=\"-305.8\" font-family=\"Helvetica,sans-Serif\" font-size=\"14.00\" fill=\"#000000\">gini = 0.375</text>\n<text text-anchor=\"start\" x=\"591.5\" y=\"-290.8\" font-family=\"Helvetica,sans-Serif\" font-size=\"14.00\" fill=\"#000000\">samples = 1.5%</text>\n<text text-anchor=\"start\" x=\"581.5\" y=\"-275.8\" font-family=\"Helvetica,sans-Serif\" font-size=\"14.00\" fill=\"#000000\">value = [0.75, 0.25]</text>\n<text text-anchor=\"start\" x=\"606.5\" y=\"-260.8\" font-family=\"Helvetica,sans-Serif\" font-size=\"14.00\" fill=\"#000000\">class = Alta</text>\n</g>\n<!-- 14&#45;&gt;20 -->\n<g id=\"edge20\" class=\"edge\">\n<title>14&#45;&gt;20</title>\n<path fill=\"none\" stroke=\"#000000\" d=\"M495.6074,-387.0541C513.1471,-376.9669 531.7128,-366.2896 549.5456,-356.0338\"/>\n<polygon fill=\"#000000\" stroke=\"#000000\" points=\"551.3096,-359.057 558.2334,-351.0375 547.8198,-352.9889 551.3096,-359.057\"/>\n</g>\n<!-- 16 -->\n<g id=\"node17\" class=\"node\">\n<title>16</title>\n<path fill=\"#e58139\" stroke=\"#000000\" d=\"M286.5,-209.5C286.5,-209.5 182.5,-209.5 182.5,-209.5 176.5,-209.5 170.5,-203.5 170.5,-197.5 170.5,-197.5 170.5,-138.5 170.5,-138.5 170.5,-132.5 176.5,-126.5 182.5,-126.5 182.5,-126.5 286.5,-126.5 286.5,-126.5 292.5,-126.5 298.5,-132.5 298.5,-138.5 298.5,-138.5 298.5,-197.5 298.5,-197.5 298.5,-203.5 292.5,-209.5 286.5,-209.5\"/>\n<text text-anchor=\"start\" x=\"203.5\" y=\"-194.3\" font-family=\"Helvetica,sans-Serif\" font-size=\"14.00\" fill=\"#000000\">node #16</text>\n<text text-anchor=\"start\" x=\"205\" y=\"-179.3\" font-family=\"Helvetica,sans-Serif\" font-size=\"14.00\" fill=\"#000000\">gini = 0.0</text>\n<text text-anchor=\"start\" x=\"178.5\" y=\"-164.3\" font-family=\"Helvetica,sans-Serif\" font-size=\"14.00\" fill=\"#000000\">samples = 33.0%</text>\n<text text-anchor=\"start\" x=\"181\" y=\"-149.3\" font-family=\"Helvetica,sans-Serif\" font-size=\"14.00\" fill=\"#000000\">value = [1.0, 0.0]</text>\n<text text-anchor=\"start\" x=\"197.5\" y=\"-134.3\" font-family=\"Helvetica,sans-Serif\" font-size=\"14.00\" fill=\"#000000\">class = Alta</text>\n</g>\n<!-- 15&#45;&gt;16 -->\n<g id=\"edge16\" class=\"edge\">\n<title>15&#45;&gt;16</title>\n<path fill=\"none\" stroke=\"#000000\" d=\"M345.9635,-252.8642C330.0902,-240.7789 313.1182,-227.857 297.327,-215.8342\"/>\n<polygon fill=\"#000000\" stroke=\"#000000\" points=\"299.2655,-212.9111 289.1889,-209.6381 295.0251,-218.4806 299.2655,-212.9111\"/>\n</g>\n<!-- 17 -->\n<g id=\"node18\" class=\"node\">\n<title>17</title>\n<path fill=\"#ea9a61\" stroke=\"#000000\" d=\"M516.5,-217C516.5,-217 328.5,-217 328.5,-217 322.5,-217 316.5,-211 316.5,-205 316.5,-205 316.5,-131 316.5,-131 316.5,-125 322.5,-119 328.5,-119 328.5,-119 516.5,-119 516.5,-119 522.5,-119 528.5,-125 528.5,-131 528.5,-131 528.5,-205 528.5,-205 528.5,-211 522.5,-217 516.5,-217\"/>\n<text text-anchor=\"start\" x=\"391.5\" y=\"-201.8\" font-family=\"Helvetica,sans-Serif\" font-size=\"14.00\" fill=\"#000000\">node #17</text>\n<text text-anchor=\"start\" x=\"324.5\" y=\"-186.8\" font-family=\"Helvetica,sans-Serif\" font-size=\"14.00\" fill=\"#000000\">TEMPERATURE_MIN ≤ 0.451</text>\n<text text-anchor=\"start\" x=\"384.5\" y=\"-171.8\" font-family=\"Helvetica,sans-Serif\" font-size=\"14.00\" fill=\"#000000\">gini = 0.278</text>\n<text text-anchor=\"start\" x=\"370.5\" y=\"-156.8\" font-family=\"Helvetica,sans-Serif\" font-size=\"14.00\" fill=\"#000000\">samples = 2.3%</text>\n<text text-anchor=\"start\" x=\"352.5\" y=\"-141.8\" font-family=\"Helvetica,sans-Serif\" font-size=\"14.00\" fill=\"#000000\">value = [0.833, 0.167]</text>\n<text text-anchor=\"start\" x=\"385.5\" y=\"-126.8\" font-family=\"Helvetica,sans-Serif\" font-size=\"14.00\" fill=\"#000000\">class = Alta</text>\n</g>\n<!-- 15&#45;&gt;17 -->\n<g id=\"edge17\" class=\"edge\">\n<title>15&#45;&gt;17</title>\n<path fill=\"none\" stroke=\"#000000\" d=\"M414.9002,-252.8642C415.6502,-244.4891 416.4362,-235.7123 417.2065,-227.1113\"/>\n<polygon fill=\"#000000\" stroke=\"#000000\" points=\"420.6943,-227.4022 418.1003,-217.1298 413.7222,-226.7778 420.6943,-227.4022\"/>\n</g>\n<!-- 18 -->\n<g id=\"node19\" class=\"node\">\n<title>18</title>\n<path fill=\"#e58139\" stroke=\"#000000\" d=\"M402,-83C402,-83 303,-83 303,-83 297,-83 291,-77 291,-71 291,-71 291,-12 291,-12 291,-6 297,0 303,0 303,0 402,0 402,0 408,0 414,-6 414,-12 414,-12 414,-71 414,-71 414,-77 408,-83 402,-83\"/>\n<text text-anchor=\"start\" x=\"321.5\" y=\"-67.8\" font-family=\"Helvetica,sans-Serif\" font-size=\"14.00\" fill=\"#000000\">node #18</text>\n<text text-anchor=\"start\" x=\"323\" y=\"-52.8\" font-family=\"Helvetica,sans-Serif\" font-size=\"14.00\" fill=\"#000000\">gini = 0.0</text>\n<text text-anchor=\"start\" x=\"300.5\" y=\"-37.8\" font-family=\"Helvetica,sans-Serif\" font-size=\"14.00\" fill=\"#000000\">samples = 1.9%</text>\n<text text-anchor=\"start\" x=\"299\" y=\"-22.8\" font-family=\"Helvetica,sans-Serif\" font-size=\"14.00\" fill=\"#000000\">value = [1.0, 0.0]</text>\n<text text-anchor=\"start\" x=\"315.5\" y=\"-7.8\" font-family=\"Helvetica,sans-Serif\" font-size=\"14.00\" fill=\"#000000\">class = Alta</text>\n</g>\n<!-- 17&#45;&gt;18 -->\n<g id=\"edge18\" class=\"edge\">\n<title>17&#45;&gt;18</title>\n<path fill=\"none\" stroke=\"#000000\" d=\"M395.2357,-118.7296C390.3922,-109.9766 385.3406,-100.8477 380.4777,-92.0596\"/>\n<polygon fill=\"#000000\" stroke=\"#000000\" points=\"383.399,-90.1101 375.4948,-83.055 377.2742,-93.4993 383.399,-90.1101\"/>\n</g>\n<!-- 19 -->\n<g id=\"node20\" class=\"node\">\n<title>19</title>\n<path fill=\"#399de5\" stroke=\"#000000\" d=\"M543,-83C543,-83 444,-83 444,-83 438,-83 432,-77 432,-71 432,-71 432,-12 432,-12 432,-6 438,0 444,0 444,0 543,0 543,0 549,0 555,-6 555,-12 555,-12 555,-71 555,-71 555,-77 549,-83 543,-83\"/>\n<text text-anchor=\"start\" x=\"462.5\" y=\"-67.8\" font-family=\"Helvetica,sans-Serif\" font-size=\"14.00\" fill=\"#000000\">node #19</text>\n<text text-anchor=\"start\" x=\"464\" y=\"-52.8\" font-family=\"Helvetica,sans-Serif\" font-size=\"14.00\" fill=\"#000000\">gini = 0.0</text>\n<text text-anchor=\"start\" x=\"441.5\" y=\"-37.8\" font-family=\"Helvetica,sans-Serif\" font-size=\"14.00\" fill=\"#000000\">samples = 0.4%</text>\n<text text-anchor=\"start\" x=\"440\" y=\"-22.8\" font-family=\"Helvetica,sans-Serif\" font-size=\"14.00\" fill=\"#000000\">value = [0.0, 1.0]</text>\n<text text-anchor=\"start\" x=\"457\" y=\"-7.8\" font-family=\"Helvetica,sans-Serif\" font-size=\"14.00\" fill=\"#000000\">class = UTI</text>\n</g>\n<!-- 17&#45;&gt;19 -->\n<g id=\"edge19\" class=\"edge\">\n<title>17&#45;&gt;19</title>\n<path fill=\"none\" stroke=\"#000000\" d=\"M450.1538,-118.7296C455.1182,-109.8845 460.2981,-100.6555 465.2784,-91.7822\"/>\n<polygon fill=\"#000000\" stroke=\"#000000\" points=\"468.3343,-93.4884 470.1767,-83.055 462.2301,-90.0623 468.3343,-93.4884\"/>\n</g>\n<!-- 21 -->\n<g id=\"node22\" class=\"node\">\n<title>21</title>\n<path fill=\"#e58139\" stroke=\"#000000\" d=\"M681,-209.5C681,-209.5 582,-209.5 582,-209.5 576,-209.5 570,-203.5 570,-197.5 570,-197.5 570,-138.5 570,-138.5 570,-132.5 576,-126.5 582,-126.5 582,-126.5 681,-126.5 681,-126.5 687,-126.5 693,-132.5 693,-138.5 693,-138.5 693,-197.5 693,-197.5 693,-203.5 687,-209.5 681,-209.5\"/>\n<text text-anchor=\"start\" x=\"600.5\" y=\"-194.3\" font-family=\"Helvetica,sans-Serif\" font-size=\"14.00\" fill=\"#000000\">node #21</text>\n<text text-anchor=\"start\" x=\"602\" y=\"-179.3\" font-family=\"Helvetica,sans-Serif\" font-size=\"14.00\" fill=\"#000000\">gini = 0.0</text>\n<text text-anchor=\"start\" x=\"579.5\" y=\"-164.3\" font-family=\"Helvetica,sans-Serif\" font-size=\"14.00\" fill=\"#000000\">samples = 1.1%</text>\n<text text-anchor=\"start\" x=\"578\" y=\"-149.3\" font-family=\"Helvetica,sans-Serif\" font-size=\"14.00\" fill=\"#000000\">value = [1.0, 0.0]</text>\n<text text-anchor=\"start\" x=\"594.5\" y=\"-134.3\" font-family=\"Helvetica,sans-Serif\" font-size=\"14.00\" fill=\"#000000\">class = Alta</text>\n</g>\n<!-- 20&#45;&gt;21 -->\n<g id=\"edge21\" class=\"edge\">\n<title>20&#45;&gt;21</title>\n<path fill=\"none\" stroke=\"#000000\" d=\"M639.0998,-252.8642C638.1367,-242.1094 637.1142,-230.6921 636.142,-219.8354\"/>\n<polygon fill=\"#000000\" stroke=\"#000000\" points=\"639.6069,-219.2861 635.2288,-209.6381 632.6348,-219.9105 639.6069,-219.2861\"/>\n</g>\n<!-- 22 -->\n<g id=\"node23\" class=\"node\">\n<title>22</title>\n<path fill=\"#399de5\" stroke=\"#000000\" d=\"M822,-209.5C822,-209.5 723,-209.5 723,-209.5 717,-209.5 711,-203.5 711,-197.5 711,-197.5 711,-138.5 711,-138.5 711,-132.5 717,-126.5 723,-126.5 723,-126.5 822,-126.5 822,-126.5 828,-126.5 834,-132.5 834,-138.5 834,-138.5 834,-197.5 834,-197.5 834,-203.5 828,-209.5 822,-209.5\"/>\n<text text-anchor=\"start\" x=\"741.5\" y=\"-194.3\" font-family=\"Helvetica,sans-Serif\" font-size=\"14.00\" fill=\"#000000\">node #22</text>\n<text text-anchor=\"start\" x=\"743\" y=\"-179.3\" font-family=\"Helvetica,sans-Serif\" font-size=\"14.00\" fill=\"#000000\">gini = 0.0</text>\n<text text-anchor=\"start\" x=\"720.5\" y=\"-164.3\" font-family=\"Helvetica,sans-Serif\" font-size=\"14.00\" fill=\"#000000\">samples = 0.4%</text>\n<text text-anchor=\"start\" x=\"719\" y=\"-149.3\" font-family=\"Helvetica,sans-Serif\" font-size=\"14.00\" fill=\"#000000\">value = [0.0, 1.0]</text>\n<text text-anchor=\"start\" x=\"736\" y=\"-134.3\" font-family=\"Helvetica,sans-Serif\" font-size=\"14.00\" fill=\"#000000\">class = UTI</text>\n</g>\n<!-- 20&#45;&gt;22 -->\n<g id=\"edge22\" class=\"edge\">\n<title>20&#45;&gt;22</title>\n<path fill=\"none\" stroke=\"#000000\" d=\"M690.8023,-252.8642C702.0098,-241.2224 713.9645,-228.8043 725.173,-217.1613\"/>\n<polygon fill=\"#000000\" stroke=\"#000000\" points=\"728.0016,-219.2698 732.4155,-209.6381 722.9586,-214.415 728.0016,-219.2698\"/>\n</g>\n<!-- 25 -->\n<g id=\"node26\" class=\"node\">\n<title>25</title>\n<path fill=\"#e58139\" stroke=\"#000000\" d=\"M685,-611.5C685,-611.5 586,-611.5 586,-611.5 580,-611.5 574,-605.5 574,-599.5 574,-599.5 574,-540.5 574,-540.5 574,-534.5 580,-528.5 586,-528.5 586,-528.5 685,-528.5 685,-528.5 691,-528.5 697,-534.5 697,-540.5 697,-540.5 697,-599.5 697,-599.5 697,-605.5 691,-611.5 685,-611.5\"/>\n<text text-anchor=\"start\" x=\"604.5\" y=\"-596.3\" font-family=\"Helvetica,sans-Serif\" font-size=\"14.00\" fill=\"#000000\">node #25</text>\n<text text-anchor=\"start\" x=\"606\" y=\"-581.3\" font-family=\"Helvetica,sans-Serif\" font-size=\"14.00\" fill=\"#000000\">gini = 0.0</text>\n<text text-anchor=\"start\" x=\"583.5\" y=\"-566.3\" font-family=\"Helvetica,sans-Serif\" font-size=\"14.00\" fill=\"#000000\">samples = 0.4%</text>\n<text text-anchor=\"start\" x=\"582\" y=\"-551.3\" font-family=\"Helvetica,sans-Serif\" font-size=\"14.00\" fill=\"#000000\">value = [1.0, 0.0]</text>\n<text text-anchor=\"start\" x=\"598.5\" y=\"-536.3\" font-family=\"Helvetica,sans-Serif\" font-size=\"14.00\" fill=\"#000000\">class = Alta</text>\n</g>\n<!-- 24&#45;&gt;25 -->\n<g id=\"edge25\" class=\"edge\">\n<title>24&#45;&gt;25</title>\n<path fill=\"none\" stroke=\"#000000\" d=\"M644.9997,-654.8642C643.7958,-644.1094 642.5178,-632.6921 641.3025,-621.8354\"/>\n<polygon fill=\"#000000\" stroke=\"#000000\" points=\"644.7518,-621.1867 640.161,-611.6381 637.7953,-621.9655 644.7518,-621.1867\"/>\n</g>\n<!-- 26 -->\n<g id=\"node27\" class=\"node\">\n<title>26</title>\n<path fill=\"#399de5\" stroke=\"#000000\" d=\"M826,-611.5C826,-611.5 727,-611.5 727,-611.5 721,-611.5 715,-605.5 715,-599.5 715,-599.5 715,-540.5 715,-540.5 715,-534.5 721,-528.5 727,-528.5 727,-528.5 826,-528.5 826,-528.5 832,-528.5 838,-534.5 838,-540.5 838,-540.5 838,-599.5 838,-599.5 838,-605.5 832,-611.5 826,-611.5\"/>\n<text text-anchor=\"start\" x=\"745.5\" y=\"-596.3\" font-family=\"Helvetica,sans-Serif\" font-size=\"14.00\" fill=\"#000000\">node #26</text>\n<text text-anchor=\"start\" x=\"747\" y=\"-581.3\" font-family=\"Helvetica,sans-Serif\" font-size=\"14.00\" fill=\"#000000\">gini = 0.0</text>\n<text text-anchor=\"start\" x=\"724.5\" y=\"-566.3\" font-family=\"Helvetica,sans-Serif\" font-size=\"14.00\" fill=\"#000000\">samples = 0.8%</text>\n<text text-anchor=\"start\" x=\"723\" y=\"-551.3\" font-family=\"Helvetica,sans-Serif\" font-size=\"14.00\" fill=\"#000000\">value = [0.0, 1.0]</text>\n<text text-anchor=\"start\" x=\"740\" y=\"-536.3\" font-family=\"Helvetica,sans-Serif\" font-size=\"14.00\" fill=\"#000000\">class = UTI</text>\n</g>\n<!-- 24&#45;&gt;26 -->\n<g id=\"edge26\" class=\"edge\">\n<title>24&#45;&gt;26</title>\n<path fill=\"none\" stroke=\"#000000\" d=\"M696.7023,-654.8642C707.6491,-643.2224 719.3258,-630.8043 730.2737,-619.1613\"/>\n<polygon fill=\"#000000\" stroke=\"#000000\" points=\"733.0473,-621.321 737.3477,-611.6381 727.9476,-616.5258 733.0473,-621.321\"/>\n</g>\n<!-- 28 -->\n<g id=\"node29\" class=\"node\">\n<title>28</title>\n<path fill=\"#e58139\" stroke=\"#000000\" d=\"M877,-745.5C877,-745.5 778,-745.5 778,-745.5 772,-745.5 766,-739.5 766,-733.5 766,-733.5 766,-674.5 766,-674.5 766,-668.5 772,-662.5 778,-662.5 778,-662.5 877,-662.5 877,-662.5 883,-662.5 889,-668.5 889,-674.5 889,-674.5 889,-733.5 889,-733.5 889,-739.5 883,-745.5 877,-745.5\"/>\n<text text-anchor=\"start\" x=\"796.5\" y=\"-730.3\" font-family=\"Helvetica,sans-Serif\" font-size=\"14.00\" fill=\"#000000\">node #28</text>\n<text text-anchor=\"start\" x=\"798\" y=\"-715.3\" font-family=\"Helvetica,sans-Serif\" font-size=\"14.00\" fill=\"#000000\">gini = 0.0</text>\n<text text-anchor=\"start\" x=\"775.5\" y=\"-700.3\" font-family=\"Helvetica,sans-Serif\" font-size=\"14.00\" fill=\"#000000\">samples = 1.1%</text>\n<text text-anchor=\"start\" x=\"774\" y=\"-685.3\" font-family=\"Helvetica,sans-Serif\" font-size=\"14.00\" fill=\"#000000\">value = [1.0, 0.0]</text>\n<text text-anchor=\"start\" x=\"790.5\" y=\"-670.3\" font-family=\"Helvetica,sans-Serif\" font-size=\"14.00\" fill=\"#000000\">class = Alta</text>\n</g>\n<!-- 27&#45;&gt;28 -->\n<g id=\"edge28\" class=\"edge\">\n<title>27&#45;&gt;28</title>\n<path fill=\"none\" stroke=\"#000000\" d=\"M923.7639,-788.8642C910.3067,-777.0007 895.9351,-764.3309 882.5114,-752.4969\"/>\n<polygon fill=\"#000000\" stroke=\"#000000\" points=\"884.5471,-749.6257 874.7313,-745.6381 879.9181,-754.8766 884.5471,-749.6257\"/>\n</g>\n<!-- 29 -->\n<g id=\"node30\" class=\"node\">\n<title>29</title>\n<path fill=\"#61b1ea\" stroke=\"#000000\" d=\"M1131.5,-753C1131.5,-753 919.5,-753 919.5,-753 913.5,-753 907.5,-747 907.5,-741 907.5,-741 907.5,-667 907.5,-667 907.5,-661 913.5,-655 919.5,-655 919.5,-655 1131.5,-655 1131.5,-655 1137.5,-655 1143.5,-661 1143.5,-667 1143.5,-667 1143.5,-741 1143.5,-741 1143.5,-747 1137.5,-753 1131.5,-753\"/>\n<text text-anchor=\"start\" x=\"994.5\" y=\"-737.8\" font-family=\"Helvetica,sans-Serif\" font-size=\"14.00\" fill=\"#000000\">node #29</text>\n<text text-anchor=\"start\" x=\"915.5\" y=\"-722.8\" font-family=\"Helvetica,sans-Serif\" font-size=\"14.00\" fill=\"#000000\">LEUKOCYTES_MEDIAN ≤ &#45;0.866</text>\n<text text-anchor=\"start\" x=\"987.5\" y=\"-707.8\" font-family=\"Helvetica,sans-Serif\" font-size=\"14.00\" fill=\"#000000\">gini = 0.278</text>\n<text text-anchor=\"start\" x=\"973.5\" y=\"-692.8\" font-family=\"Helvetica,sans-Serif\" font-size=\"14.00\" fill=\"#000000\">samples = 2.3%</text>\n<text text-anchor=\"start\" x=\"955.5\" y=\"-677.8\" font-family=\"Helvetica,sans-Serif\" font-size=\"14.00\" fill=\"#000000\">value = [0.167, 0.833]</text>\n<text text-anchor=\"start\" x=\"989\" y=\"-662.8\" font-family=\"Helvetica,sans-Serif\" font-size=\"14.00\" fill=\"#000000\">class = UTI</text>\n</g>\n<!-- 27&#45;&gt;29 -->\n<g id=\"edge29\" class=\"edge\">\n<title>27&#45;&gt;29</title>\n<path fill=\"none\" stroke=\"#000000\" d=\"M996.3675,-788.8642C999.2738,-780.3981 1002.321,-771.5214 1005.3043,-762.8309\"/>\n<polygon fill=\"#000000\" stroke=\"#000000\" points=\"1008.698,-763.7245 1008.6345,-753.1298 1002.0772,-761.4516 1008.698,-763.7245\"/>\n</g>\n<!-- 30 -->\n<g id=\"node31\" class=\"node\">\n<title>30</title>\n<path fill=\"#e58139\" stroke=\"#000000\" d=\"M1013,-611.5C1013,-611.5 914,-611.5 914,-611.5 908,-611.5 902,-605.5 902,-599.5 902,-599.5 902,-540.5 902,-540.5 902,-534.5 908,-528.5 914,-528.5 914,-528.5 1013,-528.5 1013,-528.5 1019,-528.5 1025,-534.5 1025,-540.5 1025,-540.5 1025,-599.5 1025,-599.5 1025,-605.5 1019,-611.5 1013,-611.5\"/>\n<text text-anchor=\"start\" x=\"932.5\" y=\"-596.3\" font-family=\"Helvetica,sans-Serif\" font-size=\"14.00\" fill=\"#000000\">node #30</text>\n<text text-anchor=\"start\" x=\"934\" y=\"-581.3\" font-family=\"Helvetica,sans-Serif\" font-size=\"14.00\" fill=\"#000000\">gini = 0.0</text>\n<text text-anchor=\"start\" x=\"911.5\" y=\"-566.3\" font-family=\"Helvetica,sans-Serif\" font-size=\"14.00\" fill=\"#000000\">samples = 0.4%</text>\n<text text-anchor=\"start\" x=\"910\" y=\"-551.3\" font-family=\"Helvetica,sans-Serif\" font-size=\"14.00\" fill=\"#000000\">value = [1.0, 0.0]</text>\n<text text-anchor=\"start\" x=\"926.5\" y=\"-536.3\" font-family=\"Helvetica,sans-Serif\" font-size=\"14.00\" fill=\"#000000\">class = Alta</text>\n</g>\n<!-- 29&#45;&gt;30 -->\n<g id=\"edge30\" class=\"edge\">\n<title>29&#45;&gt;30</title>\n<path fill=\"none\" stroke=\"#000000\" d=\"M1002.7655,-654.8642C997.6355,-643.7768 992.1797,-631.9852 987.0182,-620.8297\"/>\n<polygon fill=\"#000000\" stroke=\"#000000\" points=\"990.1411,-619.244 982.7654,-611.6381 983.7882,-622.1835 990.1411,-619.244\"/>\n</g>\n<!-- 31 -->\n<g id=\"node32\" class=\"node\">\n<title>31</title>\n<path fill=\"#399de5\" stroke=\"#000000\" d=\"M1154,-611.5C1154,-611.5 1055,-611.5 1055,-611.5 1049,-611.5 1043,-605.5 1043,-599.5 1043,-599.5 1043,-540.5 1043,-540.5 1043,-534.5 1049,-528.5 1055,-528.5 1055,-528.5 1154,-528.5 1154,-528.5 1160,-528.5 1166,-534.5 1166,-540.5 1166,-540.5 1166,-599.5 1166,-599.5 1166,-605.5 1160,-611.5 1154,-611.5\"/>\n<text text-anchor=\"start\" x=\"1073.5\" y=\"-596.3\" font-family=\"Helvetica,sans-Serif\" font-size=\"14.00\" fill=\"#000000\">node #31</text>\n<text text-anchor=\"start\" x=\"1075\" y=\"-581.3\" font-family=\"Helvetica,sans-Serif\" font-size=\"14.00\" fill=\"#000000\">gini = 0.0</text>\n<text text-anchor=\"start\" x=\"1052.5\" y=\"-566.3\" font-family=\"Helvetica,sans-Serif\" font-size=\"14.00\" fill=\"#000000\">samples = 1.9%</text>\n<text text-anchor=\"start\" x=\"1051\" y=\"-551.3\" font-family=\"Helvetica,sans-Serif\" font-size=\"14.00\" fill=\"#000000\">value = [0.0, 1.0]</text>\n<text text-anchor=\"start\" x=\"1068\" y=\"-536.3\" font-family=\"Helvetica,sans-Serif\" font-size=\"14.00\" fill=\"#000000\">class = UTI</text>\n</g>\n<!-- 29&#45;&gt;31 -->\n<g id=\"edge31\" class=\"edge\">\n<title>29&#45;&gt;31</title>\n<path fill=\"none\" stroke=\"#000000\" d=\"M1054.4681,-654.8642C1061.0701,-643.6659 1068.0956,-631.7493 1074.7304,-620.4953\"/>\n<polygon fill=\"#000000\" stroke=\"#000000\" points=\"1077.8885,-622.0301 1079.9521,-611.6381 1071.8584,-618.475 1077.8885,-622.0301\"/>\n</g>\n<!-- 33 -->\n<g id=\"node34\" class=\"node\">\n<title>33</title>\n<path fill=\"#65b3eb\" stroke=\"#000000\" d=\"M1298.5,-887C1298.5,-887 1148.5,-887 1148.5,-887 1142.5,-887 1136.5,-881 1136.5,-875 1136.5,-875 1136.5,-801 1136.5,-801 1136.5,-795 1142.5,-789 1148.5,-789 1148.5,-789 1298.5,-789 1298.5,-789 1304.5,-789 1310.5,-795 1310.5,-801 1310.5,-801 1310.5,-875 1310.5,-875 1310.5,-881 1304.5,-887 1298.5,-887\"/>\n<text text-anchor=\"start\" x=\"1192.5\" y=\"-871.8\" font-family=\"Helvetica,sans-Serif\" font-size=\"14.00\" fill=\"#000000\">node #33</text>\n<text text-anchor=\"start\" x=\"1144.5\" y=\"-856.8\" font-family=\"Helvetica,sans-Serif\" font-size=\"14.00\" fill=\"#000000\">TTPA_MEDIAN ≤ &#45;0.828</text>\n<text text-anchor=\"start\" x=\"1185.5\" y=\"-841.8\" font-family=\"Helvetica,sans-Serif\" font-size=\"14.00\" fill=\"#000000\">gini = 0.298</text>\n<text text-anchor=\"start\" x=\"1171.5\" y=\"-826.8\" font-family=\"Helvetica,sans-Serif\" font-size=\"14.00\" fill=\"#000000\">samples = 4.2%</text>\n<text text-anchor=\"start\" x=\"1153.5\" y=\"-811.8\" font-family=\"Helvetica,sans-Serif\" font-size=\"14.00\" fill=\"#000000\">value = [0.182, 0.818]</text>\n<text text-anchor=\"start\" x=\"1187\" y=\"-796.8\" font-family=\"Helvetica,sans-Serif\" font-size=\"14.00\" fill=\"#000000\">class = UTI</text>\n</g>\n<!-- 32&#45;&gt;33 -->\n<g id=\"edge33\" class=\"edge\">\n<title>32&#45;&gt;33</title>\n<path fill=\"none\" stroke=\"#000000\" d=\"M1223.5,-922.8642C1223.5,-914.5802 1223.5,-905.903 1223.5,-897.3918\"/>\n<polygon fill=\"#000000\" stroke=\"#000000\" points=\"1227.0001,-897.1298 1223.5,-887.1298 1220.0001,-897.1299 1227.0001,-897.1298\"/>\n</g>\n<!-- 36 -->\n<g id=\"node37\" class=\"node\">\n<title>36</title>\n<path fill=\"#e58139\" stroke=\"#000000\" d=\"M1440,-879.5C1440,-879.5 1341,-879.5 1341,-879.5 1335,-879.5 1329,-873.5 1329,-867.5 1329,-867.5 1329,-808.5 1329,-808.5 1329,-802.5 1335,-796.5 1341,-796.5 1341,-796.5 1440,-796.5 1440,-796.5 1446,-796.5 1452,-802.5 1452,-808.5 1452,-808.5 1452,-867.5 1452,-867.5 1452,-873.5 1446,-879.5 1440,-879.5\"/>\n<text text-anchor=\"start\" x=\"1359.5\" y=\"-864.3\" font-family=\"Helvetica,sans-Serif\" font-size=\"14.00\" fill=\"#000000\">node #36</text>\n<text text-anchor=\"start\" x=\"1361\" y=\"-849.3\" font-family=\"Helvetica,sans-Serif\" font-size=\"14.00\" fill=\"#000000\">gini = 0.0</text>\n<text text-anchor=\"start\" x=\"1338.5\" y=\"-834.3\" font-family=\"Helvetica,sans-Serif\" font-size=\"14.00\" fill=\"#000000\">samples = 2.7%</text>\n<text text-anchor=\"start\" x=\"1337\" y=\"-819.3\" font-family=\"Helvetica,sans-Serif\" font-size=\"14.00\" fill=\"#000000\">value = [1.0, 0.0]</text>\n<text text-anchor=\"start\" x=\"1353.5\" y=\"-804.3\" font-family=\"Helvetica,sans-Serif\" font-size=\"14.00\" fill=\"#000000\">class = Alta</text>\n</g>\n<!-- 32&#45;&gt;36 -->\n<g id=\"edge36\" class=\"edge\">\n<title>32&#45;&gt;36</title>\n<path fill=\"none\" stroke=\"#000000\" d=\"M1284.7364,-922.8642C1299.6597,-910.8898 1315.6067,-898.0941 1330.4731,-886.1653\"/>\n<polygon fill=\"#000000\" stroke=\"#000000\" points=\"1332.9985,-888.6264 1338.6077,-879.6381 1328.6177,-883.1667 1332.9985,-888.6264\"/>\n</g>\n<!-- 34 -->\n<g id=\"node35\" class=\"node\">\n<title>34</title>\n<path fill=\"#399de5\" stroke=\"#000000\" d=\"M1273,-745.5C1273,-745.5 1174,-745.5 1174,-745.5 1168,-745.5 1162,-739.5 1162,-733.5 1162,-733.5 1162,-674.5 1162,-674.5 1162,-668.5 1168,-662.5 1174,-662.5 1174,-662.5 1273,-662.5 1273,-662.5 1279,-662.5 1285,-668.5 1285,-674.5 1285,-674.5 1285,-733.5 1285,-733.5 1285,-739.5 1279,-745.5 1273,-745.5\"/>\n<text text-anchor=\"start\" x=\"1192.5\" y=\"-730.3\" font-family=\"Helvetica,sans-Serif\" font-size=\"14.00\" fill=\"#000000\">node #34</text>\n<text text-anchor=\"start\" x=\"1194\" y=\"-715.3\" font-family=\"Helvetica,sans-Serif\" font-size=\"14.00\" fill=\"#000000\">gini = 0.0</text>\n<text text-anchor=\"start\" x=\"1171.5\" y=\"-700.3\" font-family=\"Helvetica,sans-Serif\" font-size=\"14.00\" fill=\"#000000\">samples = 3.4%</text>\n<text text-anchor=\"start\" x=\"1170\" y=\"-685.3\" font-family=\"Helvetica,sans-Serif\" font-size=\"14.00\" fill=\"#000000\">value = [0.0, 1.0]</text>\n<text text-anchor=\"start\" x=\"1187\" y=\"-670.3\" font-family=\"Helvetica,sans-Serif\" font-size=\"14.00\" fill=\"#000000\">class = UTI</text>\n</g>\n<!-- 33&#45;&gt;34 -->\n<g id=\"edge34\" class=\"edge\">\n<title>33&#45;&gt;34</title>\n<path fill=\"none\" stroke=\"#000000\" d=\"M1223.5,-788.8642C1223.5,-778.1094 1223.5,-766.6921 1223.5,-755.8354\"/>\n<polygon fill=\"#000000\" stroke=\"#000000\" points=\"1227.0001,-755.6381 1223.5,-745.6381 1220.0001,-755.6382 1227.0001,-755.6381\"/>\n</g>\n<!-- 35 -->\n<g id=\"node36\" class=\"node\">\n<title>35</title>\n<path fill=\"#e58139\" stroke=\"#000000\" d=\"M1414,-745.5C1414,-745.5 1315,-745.5 1315,-745.5 1309,-745.5 1303,-739.5 1303,-733.5 1303,-733.5 1303,-674.5 1303,-674.5 1303,-668.5 1309,-662.5 1315,-662.5 1315,-662.5 1414,-662.5 1414,-662.5 1420,-662.5 1426,-668.5 1426,-674.5 1426,-674.5 1426,-733.5 1426,-733.5 1426,-739.5 1420,-745.5 1414,-745.5\"/>\n<text text-anchor=\"start\" x=\"1333.5\" y=\"-730.3\" font-family=\"Helvetica,sans-Serif\" font-size=\"14.00\" fill=\"#000000\">node #35</text>\n<text text-anchor=\"start\" x=\"1335\" y=\"-715.3\" font-family=\"Helvetica,sans-Serif\" font-size=\"14.00\" fill=\"#000000\">gini = 0.0</text>\n<text text-anchor=\"start\" x=\"1312.5\" y=\"-700.3\" font-family=\"Helvetica,sans-Serif\" font-size=\"14.00\" fill=\"#000000\">samples = 0.8%</text>\n<text text-anchor=\"start\" x=\"1311\" y=\"-685.3\" font-family=\"Helvetica,sans-Serif\" font-size=\"14.00\" fill=\"#000000\">value = [1.0, 0.0]</text>\n<text text-anchor=\"start\" x=\"1327.5\" y=\"-670.3\" font-family=\"Helvetica,sans-Serif\" font-size=\"14.00\" fill=\"#000000\">class = Alta</text>\n</g>\n<!-- 33&#45;&gt;35 -->\n<g id=\"edge35\" class=\"edge\">\n<title>33&#45;&gt;35</title>\n<path fill=\"none\" stroke=\"#000000\" d=\"M1275.2026,-788.8642C1287.5692,-777.1115 1300.7683,-764.5677 1313.1203,-752.8289\"/>\n<polygon fill=\"#000000\" stroke=\"#000000\" points=\"1315.8491,-755.0641 1320.6867,-745.6381 1311.0269,-749.99 1315.8491,-755.0641\"/>\n</g>\n<!-- 38 -->\n<g id=\"node39\" class=\"node\">\n<title>38</title>\n<path fill=\"#399de5\" stroke=\"#000000\" d=\"M1386,-1147.5C1386,-1147.5 1287,-1147.5 1287,-1147.5 1281,-1147.5 1275,-1141.5 1275,-1135.5 1275,-1135.5 1275,-1076.5 1275,-1076.5 1275,-1070.5 1281,-1064.5 1287,-1064.5 1287,-1064.5 1386,-1064.5 1386,-1064.5 1392,-1064.5 1398,-1070.5 1398,-1076.5 1398,-1076.5 1398,-1135.5 1398,-1135.5 1398,-1141.5 1392,-1147.5 1386,-1147.5\"/>\n<text text-anchor=\"start\" x=\"1305.5\" y=\"-1132.3\" font-family=\"Helvetica,sans-Serif\" font-size=\"14.00\" fill=\"#000000\">node #38</text>\n<text text-anchor=\"start\" x=\"1307\" y=\"-1117.3\" font-family=\"Helvetica,sans-Serif\" font-size=\"14.00\" fill=\"#000000\">gini = 0.0</text>\n<text text-anchor=\"start\" x=\"1284.5\" y=\"-1102.3\" font-family=\"Helvetica,sans-Serif\" font-size=\"14.00\" fill=\"#000000\">samples = 2.7%</text>\n<text text-anchor=\"start\" x=\"1283\" y=\"-1087.3\" font-family=\"Helvetica,sans-Serif\" font-size=\"14.00\" fill=\"#000000\">value = [0.0, 1.0]</text>\n<text text-anchor=\"start\" x=\"1300\" y=\"-1072.3\" font-family=\"Helvetica,sans-Serif\" font-size=\"14.00\" fill=\"#000000\">class = UTI</text>\n</g>\n<!-- 37&#45;&gt;38 -->\n<g id=\"edge38\" class=\"edge\">\n<title>37&#45;&gt;38</title>\n<path fill=\"none\" stroke=\"#000000\" d=\"M1408.6979,-1190.8642C1398.888,-1179.3333 1388.4302,-1167.0408 1378.607,-1155.4942\"/>\n<polygon fill=\"#000000\" stroke=\"#000000\" points=\"1381.0691,-1152.9868 1371.9235,-1147.6381 1375.7375,-1157.5227 1381.0691,-1152.9868\"/>\n</g>\n<!-- 39 -->\n<g id=\"node40\" class=\"node\">\n<title>39</title>\n<path fill=\"#efb388\" stroke=\"#000000\" d=\"M1578.5,-1155C1578.5,-1155 1428.5,-1155 1428.5,-1155 1422.5,-1155 1416.5,-1149 1416.5,-1143 1416.5,-1143 1416.5,-1069 1416.5,-1069 1416.5,-1063 1422.5,-1057 1428.5,-1057 1428.5,-1057 1578.5,-1057 1578.5,-1057 1584.5,-1057 1590.5,-1063 1590.5,-1069 1590.5,-1069 1590.5,-1143 1590.5,-1143 1590.5,-1149 1584.5,-1155 1578.5,-1155\"/>\n<text text-anchor=\"start\" x=\"1472.5\" y=\"-1139.8\" font-family=\"Helvetica,sans-Serif\" font-size=\"14.00\" fill=\"#000000\">node #39</text>\n<text text-anchor=\"start\" x=\"1424.5\" y=\"-1124.8\" font-family=\"Helvetica,sans-Serif\" font-size=\"14.00\" fill=\"#000000\">TTPA_MEDIAN ≤ &#45;0.839</text>\n<text text-anchor=\"start\" x=\"1465.5\" y=\"-1109.8\" font-family=\"Helvetica,sans-Serif\" font-size=\"14.00\" fill=\"#000000\">gini = 0.408</text>\n<text text-anchor=\"start\" x=\"1451.5\" y=\"-1094.8\" font-family=\"Helvetica,sans-Serif\" font-size=\"14.00\" fill=\"#000000\">samples = 2.7%</text>\n<text text-anchor=\"start\" x=\"1433.5\" y=\"-1079.8\" font-family=\"Helvetica,sans-Serif\" font-size=\"14.00\" fill=\"#000000\">value = [0.714, 0.286]</text>\n<text text-anchor=\"start\" x=\"1466.5\" y=\"-1064.8\" font-family=\"Helvetica,sans-Serif\" font-size=\"14.00\" fill=\"#000000\">class = Alta</text>\n</g>\n<!-- 37&#45;&gt;39 -->\n<g id=\"edge39\" class=\"edge\">\n<title>37&#45;&gt;39</title>\n<path fill=\"none\" stroke=\"#000000\" d=\"M1469.9343,-1190.8642C1473.3188,-1182.3071 1476.8693,-1173.3305 1480.3419,-1164.5506\"/>\n<polygon fill=\"#000000\" stroke=\"#000000\" points=\"1483.6447,-1165.7162 1484.0681,-1155.1298 1477.1353,-1163.1416 1483.6447,-1165.7162\"/>\n</g>\n<!-- 40 -->\n<g id=\"node41\" class=\"node\">\n<title>40</title>\n<path fill=\"#e58139\" stroke=\"#000000\" d=\"M1483,-1013.5C1483,-1013.5 1384,-1013.5 1384,-1013.5 1378,-1013.5 1372,-1007.5 1372,-1001.5 1372,-1001.5 1372,-942.5 1372,-942.5 1372,-936.5 1378,-930.5 1384,-930.5 1384,-930.5 1483,-930.5 1483,-930.5 1489,-930.5 1495,-936.5 1495,-942.5 1495,-942.5 1495,-1001.5 1495,-1001.5 1495,-1007.5 1489,-1013.5 1483,-1013.5\"/>\n<text text-anchor=\"start\" x=\"1402.5\" y=\"-998.3\" font-family=\"Helvetica,sans-Serif\" font-size=\"14.00\" fill=\"#000000\">node #40</text>\n<text text-anchor=\"start\" x=\"1404\" y=\"-983.3\" font-family=\"Helvetica,sans-Serif\" font-size=\"14.00\" fill=\"#000000\">gini = 0.0</text>\n<text text-anchor=\"start\" x=\"1381.5\" y=\"-968.3\" font-family=\"Helvetica,sans-Serif\" font-size=\"14.00\" fill=\"#000000\">samples = 1.9%</text>\n<text text-anchor=\"start\" x=\"1380\" y=\"-953.3\" font-family=\"Helvetica,sans-Serif\" font-size=\"14.00\" fill=\"#000000\">value = [1.0, 0.0]</text>\n<text text-anchor=\"start\" x=\"1396.5\" y=\"-938.3\" font-family=\"Helvetica,sans-Serif\" font-size=\"14.00\" fill=\"#000000\">class = Alta</text>\n</g>\n<!-- 39&#45;&gt;40 -->\n<g id=\"edge40\" class=\"edge\">\n<title>39&#45;&gt;40</title>\n<path fill=\"none\" stroke=\"#000000\" d=\"M1477.8321,-1056.8642C1472.0401,-1045.7768 1465.8803,-1033.9852 1460.0528,-1022.8297\"/>\n<polygon fill=\"#000000\" stroke=\"#000000\" points=\"1462.9837,-1020.8811 1455.2513,-1013.6381 1456.7793,-1024.1222 1462.9837,-1020.8811\"/>\n</g>\n<!-- 41 -->\n<g id=\"node42\" class=\"node\">\n<title>41</title>\n<path fill=\"#399de5\" stroke=\"#000000\" d=\"M1624,-1013.5C1624,-1013.5 1525,-1013.5 1525,-1013.5 1519,-1013.5 1513,-1007.5 1513,-1001.5 1513,-1001.5 1513,-942.5 1513,-942.5 1513,-936.5 1519,-930.5 1525,-930.5 1525,-930.5 1624,-930.5 1624,-930.5 1630,-930.5 1636,-936.5 1636,-942.5 1636,-942.5 1636,-1001.5 1636,-1001.5 1636,-1007.5 1630,-1013.5 1624,-1013.5\"/>\n<text text-anchor=\"start\" x=\"1543.5\" y=\"-998.3\" font-family=\"Helvetica,sans-Serif\" font-size=\"14.00\" fill=\"#000000\">node #41</text>\n<text text-anchor=\"start\" x=\"1545\" y=\"-983.3\" font-family=\"Helvetica,sans-Serif\" font-size=\"14.00\" fill=\"#000000\">gini = 0.0</text>\n<text text-anchor=\"start\" x=\"1522.5\" y=\"-968.3\" font-family=\"Helvetica,sans-Serif\" font-size=\"14.00\" fill=\"#000000\">samples = 0.8%</text>\n<text text-anchor=\"start\" x=\"1521\" y=\"-953.3\" font-family=\"Helvetica,sans-Serif\" font-size=\"14.00\" fill=\"#000000\">value = [0.0, 1.0]</text>\n<text text-anchor=\"start\" x=\"1538\" y=\"-938.3\" font-family=\"Helvetica,sans-Serif\" font-size=\"14.00\" fill=\"#000000\">class = UTI</text>\n</g>\n<!-- 39&#45;&gt;41 -->\n<g id=\"edge41\" class=\"edge\">\n<title>39&#45;&gt;41</title>\n<path fill=\"none\" stroke=\"#000000\" d=\"M1529.5346,-1056.8642C1535.4681,-1045.6659 1541.7821,-1033.7493 1547.7451,-1022.4953\"/>\n<polygon fill=\"#000000\" stroke=\"#000000\" points=\"1550.8487,-1024.1131 1552.438,-1013.6381 1544.6633,-1020.8357 1550.8487,-1024.1131\"/>\n</g>\n<!-- 43 -->\n<g id=\"node44\" class=\"node\">\n<title>43</title>\n<path fill=\"#47a4e7\" stroke=\"#000000\" d=\"M1736.5,-1289C1736.5,-1289 1604.5,-1289 1604.5,-1289 1598.5,-1289 1592.5,-1283 1592.5,-1277 1592.5,-1277 1592.5,-1203 1592.5,-1203 1592.5,-1197 1598.5,-1191 1604.5,-1191 1604.5,-1191 1736.5,-1191 1736.5,-1191 1742.5,-1191 1748.5,-1197 1748.5,-1203 1748.5,-1203 1748.5,-1277 1748.5,-1277 1748.5,-1283 1742.5,-1289 1736.5,-1289\"/>\n<text text-anchor=\"start\" x=\"1639.5\" y=\"-1273.8\" font-family=\"Helvetica,sans-Serif\" font-size=\"14.00\" fill=\"#000000\">node #43</text>\n<text text-anchor=\"start\" x=\"1608.5\" y=\"-1258.8\" font-family=\"Helvetica,sans-Serif\" font-size=\"14.00\" fill=\"#000000\">FFA_MAX ≤ &#45;0.499</text>\n<text text-anchor=\"start\" x=\"1632.5\" y=\"-1243.8\" font-family=\"Helvetica,sans-Serif\" font-size=\"14.00\" fill=\"#000000\">gini = 0.124</text>\n<text text-anchor=\"start\" x=\"1618.5\" y=\"-1228.8\" font-family=\"Helvetica,sans-Serif\" font-size=\"14.00\" fill=\"#000000\">samples = 5.7%</text>\n<text text-anchor=\"start\" x=\"1600.5\" y=\"-1213.8\" font-family=\"Helvetica,sans-Serif\" font-size=\"14.00\" fill=\"#000000\">value = [0.067, 0.933]</text>\n<text text-anchor=\"start\" x=\"1634\" y=\"-1198.8\" font-family=\"Helvetica,sans-Serif\" font-size=\"14.00\" fill=\"#000000\">class = UTI</text>\n</g>\n<!-- 42&#45;&gt;43 -->\n<g id=\"edge43\" class=\"edge\">\n<title>42&#45;&gt;43</title>\n<path fill=\"none\" stroke=\"#000000\" d=\"M1742.0646,-1324.8642C1734.3879,-1315.7609 1726.3109,-1306.1828 1718.4591,-1296.8719\"/>\n<polygon fill=\"#000000\" stroke=\"#000000\" points=\"1721.0527,-1294.5182 1711.9304,-1289.1298 1715.7014,-1299.0309 1721.0527,-1294.5182\"/>\n</g>\n<!-- 46 -->\n<g id=\"node47\" class=\"node\">\n<title>46</title>\n<path fill=\"#e58139\" stroke=\"#000000\" d=\"M1878,-1281.5C1878,-1281.5 1779,-1281.5 1779,-1281.5 1773,-1281.5 1767,-1275.5 1767,-1269.5 1767,-1269.5 1767,-1210.5 1767,-1210.5 1767,-1204.5 1773,-1198.5 1779,-1198.5 1779,-1198.5 1878,-1198.5 1878,-1198.5 1884,-1198.5 1890,-1204.5 1890,-1210.5 1890,-1210.5 1890,-1269.5 1890,-1269.5 1890,-1275.5 1884,-1281.5 1878,-1281.5\"/>\n<text text-anchor=\"start\" x=\"1797.5\" y=\"-1266.3\" font-family=\"Helvetica,sans-Serif\" font-size=\"14.00\" fill=\"#000000\">node #46</text>\n<text text-anchor=\"start\" x=\"1799\" y=\"-1251.3\" font-family=\"Helvetica,sans-Serif\" font-size=\"14.00\" fill=\"#000000\">gini = 0.0</text>\n<text text-anchor=\"start\" x=\"1776.5\" y=\"-1236.3\" font-family=\"Helvetica,sans-Serif\" font-size=\"14.00\" fill=\"#000000\">samples = 0.8%</text>\n<text text-anchor=\"start\" x=\"1775\" y=\"-1221.3\" font-family=\"Helvetica,sans-Serif\" font-size=\"14.00\" fill=\"#000000\">value = [1.0, 0.0]</text>\n<text text-anchor=\"start\" x=\"1791.5\" y=\"-1206.3\" font-family=\"Helvetica,sans-Serif\" font-size=\"14.00\" fill=\"#000000\">class = Alta</text>\n</g>\n<!-- 42&#45;&gt;46 -->\n<g id=\"edge46\" class=\"edge\">\n<title>42&#45;&gt;46</title>\n<path fill=\"none\" stroke=\"#000000\" d=\"M1800.0008,-1324.8642C1803.687,-1313.8877 1807.6049,-1302.221 1811.3179,-1291.1646\"/>\n<polygon fill=\"#000000\" stroke=\"#000000\" points=\"1814.6514,-1292.2321 1814.517,-1281.6381 1808.0156,-1290.0036 1814.6514,-1292.2321\"/>\n</g>\n<!-- 44 -->\n<g id=\"node45\" class=\"node\">\n<title>44</title>\n<path fill=\"#399de5\" stroke=\"#000000\" d=\"M1720,-1147.5C1720,-1147.5 1621,-1147.5 1621,-1147.5 1615,-1147.5 1609,-1141.5 1609,-1135.5 1609,-1135.5 1609,-1076.5 1609,-1076.5 1609,-1070.5 1615,-1064.5 1621,-1064.5 1621,-1064.5 1720,-1064.5 1720,-1064.5 1726,-1064.5 1732,-1070.5 1732,-1076.5 1732,-1076.5 1732,-1135.5 1732,-1135.5 1732,-1141.5 1726,-1147.5 1720,-1147.5\"/>\n<text text-anchor=\"start\" x=\"1639.5\" y=\"-1132.3\" font-family=\"Helvetica,sans-Serif\" font-size=\"14.00\" fill=\"#000000\">node #44</text>\n<text text-anchor=\"start\" x=\"1641\" y=\"-1117.3\" font-family=\"Helvetica,sans-Serif\" font-size=\"14.00\" fill=\"#000000\">gini = 0.0</text>\n<text text-anchor=\"start\" x=\"1618.5\" y=\"-1102.3\" font-family=\"Helvetica,sans-Serif\" font-size=\"14.00\" fill=\"#000000\">samples = 5.3%</text>\n<text text-anchor=\"start\" x=\"1617\" y=\"-1087.3\" font-family=\"Helvetica,sans-Serif\" font-size=\"14.00\" fill=\"#000000\">value = [0.0, 1.0]</text>\n<text text-anchor=\"start\" x=\"1634\" y=\"-1072.3\" font-family=\"Helvetica,sans-Serif\" font-size=\"14.00\" fill=\"#000000\">class = UTI</text>\n</g>\n<!-- 43&#45;&gt;44 -->\n<g id=\"edge44\" class=\"edge\">\n<title>43&#45;&gt;44</title>\n<path fill=\"none\" stroke=\"#000000\" d=\"M1670.5,-1190.8642C1670.5,-1180.1094 1670.5,-1168.6921 1670.5,-1157.8354\"/>\n<polygon fill=\"#000000\" stroke=\"#000000\" points=\"1674.0001,-1157.6381 1670.5,-1147.6381 1667.0001,-1157.6382 1674.0001,-1157.6381\"/>\n</g>\n<!-- 45 -->\n<g id=\"node46\" class=\"node\">\n<title>45</title>\n<path fill=\"#e58139\" stroke=\"#000000\" d=\"M1861,-1147.5C1861,-1147.5 1762,-1147.5 1762,-1147.5 1756,-1147.5 1750,-1141.5 1750,-1135.5 1750,-1135.5 1750,-1076.5 1750,-1076.5 1750,-1070.5 1756,-1064.5 1762,-1064.5 1762,-1064.5 1861,-1064.5 1861,-1064.5 1867,-1064.5 1873,-1070.5 1873,-1076.5 1873,-1076.5 1873,-1135.5 1873,-1135.5 1873,-1141.5 1867,-1147.5 1861,-1147.5\"/>\n<text text-anchor=\"start\" x=\"1780.5\" y=\"-1132.3\" font-family=\"Helvetica,sans-Serif\" font-size=\"14.00\" fill=\"#000000\">node #45</text>\n<text text-anchor=\"start\" x=\"1782\" y=\"-1117.3\" font-family=\"Helvetica,sans-Serif\" font-size=\"14.00\" fill=\"#000000\">gini = 0.0</text>\n<text text-anchor=\"start\" x=\"1759.5\" y=\"-1102.3\" font-family=\"Helvetica,sans-Serif\" font-size=\"14.00\" fill=\"#000000\">samples = 0.4%</text>\n<text text-anchor=\"start\" x=\"1758\" y=\"-1087.3\" font-family=\"Helvetica,sans-Serif\" font-size=\"14.00\" fill=\"#000000\">value = [1.0, 0.0]</text>\n<text text-anchor=\"start\" x=\"1774.5\" y=\"-1072.3\" font-family=\"Helvetica,sans-Serif\" font-size=\"14.00\" fill=\"#000000\">class = Alta</text>\n</g>\n<!-- 43&#45;&gt;45 -->\n<g id=\"edge45\" class=\"edge\">\n<title>43&#45;&gt;45</title>\n<path fill=\"none\" stroke=\"#000000\" d=\"M1722.2026,-1190.8642C1734.5692,-1179.1115 1747.7683,-1166.5677 1760.1203,-1154.8289\"/>\n<polygon fill=\"#000000\" stroke=\"#000000\" points=\"1762.8491,-1157.0641 1767.6867,-1147.6381 1758.0269,-1151.99 1762.8491,-1157.0641\"/>\n</g>\n<!-- 48 -->\n<g id=\"node49\" class=\"node\">\n<title>48</title>\n<path fill=\"#f2c09c\" stroke=\"#000000\" d=\"M2147,-1423C2147,-1423 1960,-1423 1960,-1423 1954,-1423 1948,-1417 1948,-1411 1948,-1411 1948,-1337 1948,-1337 1948,-1331 1954,-1325 1960,-1325 1960,-1325 2147,-1325 2147,-1325 2153,-1325 2159,-1331 2159,-1337 2159,-1337 2159,-1411 2159,-1411 2159,-1417 2153,-1423 2147,-1423\"/>\n<text text-anchor=\"start\" x=\"2022.5\" y=\"-1407.8\" font-family=\"Helvetica,sans-Serif\" font-size=\"14.00\" fill=\"#000000\">node #48</text>\n<text text-anchor=\"start\" x=\"1956\" y=\"-1392.8\" font-family=\"Helvetica,sans-Serif\" font-size=\"14.00\" fill=\"#000000\">HEMOGLOBIN_MAX ≤ &#45;0.232</text>\n<text text-anchor=\"start\" x=\"2015.5\" y=\"-1377.8\" font-family=\"Helvetica,sans-Serif\" font-size=\"14.00\" fill=\"#000000\">gini = 0.444</text>\n<text text-anchor=\"start\" x=\"2001.5\" y=\"-1362.8\" font-family=\"Helvetica,sans-Serif\" font-size=\"14.00\" fill=\"#000000\">samples = 1.1%</text>\n<text text-anchor=\"start\" x=\"1983.5\" y=\"-1347.8\" font-family=\"Helvetica,sans-Serif\" font-size=\"14.00\" fill=\"#000000\">value = [0.667, 0.333]</text>\n<text text-anchor=\"start\" x=\"2016.5\" y=\"-1332.8\" font-family=\"Helvetica,sans-Serif\" font-size=\"14.00\" fill=\"#000000\">class = Alta</text>\n</g>\n<!-- 47&#45;&gt;48 -->\n<g id=\"edge48\" class=\"edge\">\n<title>47&#45;&gt;48</title>\n<path fill=\"none\" stroke=\"#000000\" d=\"M2111.765,-1458.8642C2105.6399,-1449.9429 2099.2019,-1440.5657 2092.9301,-1431.4309\"/>\n<polygon fill=\"#000000\" stroke=\"#000000\" points=\"2095.7764,-1429.3928 2087.2309,-1423.1298 2090.0056,-1433.3549 2095.7764,-1429.3928\"/>\n</g>\n<!-- 51 -->\n<g id=\"node52\" class=\"node\">\n<title>51</title>\n<path fill=\"#399de5\" stroke=\"#000000\" d=\"M2288,-1415.5C2288,-1415.5 2189,-1415.5 2189,-1415.5 2183,-1415.5 2177,-1409.5 2177,-1403.5 2177,-1403.5 2177,-1344.5 2177,-1344.5 2177,-1338.5 2183,-1332.5 2189,-1332.5 2189,-1332.5 2288,-1332.5 2288,-1332.5 2294,-1332.5 2300,-1338.5 2300,-1344.5 2300,-1344.5 2300,-1403.5 2300,-1403.5 2300,-1409.5 2294,-1415.5 2288,-1415.5\"/>\n<text text-anchor=\"start\" x=\"2207.5\" y=\"-1400.3\" font-family=\"Helvetica,sans-Serif\" font-size=\"14.00\" fill=\"#000000\">node #51</text>\n<text text-anchor=\"start\" x=\"2209\" y=\"-1385.3\" font-family=\"Helvetica,sans-Serif\" font-size=\"14.00\" fill=\"#000000\">gini = 0.0</text>\n<text text-anchor=\"start\" x=\"2186.5\" y=\"-1370.3\" font-family=\"Helvetica,sans-Serif\" font-size=\"14.00\" fill=\"#000000\">samples = 6.4%</text>\n<text text-anchor=\"start\" x=\"2185\" y=\"-1355.3\" font-family=\"Helvetica,sans-Serif\" font-size=\"14.00\" fill=\"#000000\">value = [0.0, 1.0]</text>\n<text text-anchor=\"start\" x=\"2202\" y=\"-1340.3\" font-family=\"Helvetica,sans-Serif\" font-size=\"14.00\" fill=\"#000000\">class = UTI</text>\n</g>\n<!-- 47&#45;&gt;51 -->\n<g id=\"edge51\" class=\"edge\">\n<title>47&#45;&gt;51</title>\n<path fill=\"none\" stroke=\"#000000\" d=\"M2179.6017,-1458.8642C2187.4506,-1447.555 2195.808,-1435.5133 2203.6867,-1424.1612\"/>\n<polygon fill=\"#000000\" stroke=\"#000000\" points=\"2206.7755,-1425.849 2209.6019,-1415.6381 2201.0248,-1421.8579 2206.7755,-1425.849\"/>\n</g>\n<!-- 49 -->\n<g id=\"node50\" class=\"node\">\n<title>49</title>\n<path fill=\"#399de5\" stroke=\"#000000\" d=\"M2019,-1281.5C2019,-1281.5 1920,-1281.5 1920,-1281.5 1914,-1281.5 1908,-1275.5 1908,-1269.5 1908,-1269.5 1908,-1210.5 1908,-1210.5 1908,-1204.5 1914,-1198.5 1920,-1198.5 1920,-1198.5 2019,-1198.5 2019,-1198.5 2025,-1198.5 2031,-1204.5 2031,-1210.5 2031,-1210.5 2031,-1269.5 2031,-1269.5 2031,-1275.5 2025,-1281.5 2019,-1281.5\"/>\n<text text-anchor=\"start\" x=\"1938.5\" y=\"-1266.3\" font-family=\"Helvetica,sans-Serif\" font-size=\"14.00\" fill=\"#000000\">node #49</text>\n<text text-anchor=\"start\" x=\"1940\" y=\"-1251.3\" font-family=\"Helvetica,sans-Serif\" font-size=\"14.00\" fill=\"#000000\">gini = 0.0</text>\n<text text-anchor=\"start\" x=\"1917.5\" y=\"-1236.3\" font-family=\"Helvetica,sans-Serif\" font-size=\"14.00\" fill=\"#000000\">samples = 0.4%</text>\n<text text-anchor=\"start\" x=\"1916\" y=\"-1221.3\" font-family=\"Helvetica,sans-Serif\" font-size=\"14.00\" fill=\"#000000\">value = [0.0, 1.0]</text>\n<text text-anchor=\"start\" x=\"1933\" y=\"-1206.3\" font-family=\"Helvetica,sans-Serif\" font-size=\"14.00\" fill=\"#000000\">class = UTI</text>\n</g>\n<!-- 48&#45;&gt;49 -->\n<g id=\"edge49\" class=\"edge\">\n<title>48&#45;&gt;49</title>\n<path fill=\"none\" stroke=\"#000000\" d=\"M2022.6985,-1324.8642C2015.6091,-1313.555 2008.0606,-1301.5133 2000.9443,-1290.1612\"/>\n<polygon fill=\"#000000\" stroke=\"#000000\" points=\"2003.8784,-1288.252 1995.6015,-1281.6381 1997.9474,-1291.97 2003.8784,-1288.252\"/>\n</g>\n<!-- 50 -->\n<g id=\"node51\" class=\"node\">\n<title>50</title>\n<path fill=\"#e58139\" stroke=\"#000000\" d=\"M2160,-1281.5C2160,-1281.5 2061,-1281.5 2061,-1281.5 2055,-1281.5 2049,-1275.5 2049,-1269.5 2049,-1269.5 2049,-1210.5 2049,-1210.5 2049,-1204.5 2055,-1198.5 2061,-1198.5 2061,-1198.5 2160,-1198.5 2160,-1198.5 2166,-1198.5 2172,-1204.5 2172,-1210.5 2172,-1210.5 2172,-1269.5 2172,-1269.5 2172,-1275.5 2166,-1281.5 2160,-1281.5\"/>\n<text text-anchor=\"start\" x=\"2079.5\" y=\"-1266.3\" font-family=\"Helvetica,sans-Serif\" font-size=\"14.00\" fill=\"#000000\">node #50</text>\n<text text-anchor=\"start\" x=\"2081\" y=\"-1251.3\" font-family=\"Helvetica,sans-Serif\" font-size=\"14.00\" fill=\"#000000\">gini = 0.0</text>\n<text text-anchor=\"start\" x=\"2058.5\" y=\"-1236.3\" font-family=\"Helvetica,sans-Serif\" font-size=\"14.00\" fill=\"#000000\">samples = 0.8%</text>\n<text text-anchor=\"start\" x=\"2057\" y=\"-1221.3\" font-family=\"Helvetica,sans-Serif\" font-size=\"14.00\" fill=\"#000000\">value = [1.0, 0.0]</text>\n<text text-anchor=\"start\" x=\"2073.5\" y=\"-1206.3\" font-family=\"Helvetica,sans-Serif\" font-size=\"14.00\" fill=\"#000000\">class = Alta</text>\n</g>\n<!-- 48&#45;&gt;50 -->\n<g id=\"edge50\" class=\"edge\">\n<title>48&#45;&gt;50</title>\n<path fill=\"none\" stroke=\"#000000\" d=\"M2074.401,-1324.8642C2079.0702,-1313.8877 2084.0329,-1302.221 2088.736,-1291.1646\"/>\n<polygon fill=\"#000000\" stroke=\"#000000\" points=\"2092.0946,-1292.2102 2092.7883,-1281.6381 2085.6532,-1289.4702 2092.0946,-1292.2102\"/>\n</g>\n<!-- 53 -->\n<g id=\"node54\" class=\"node\">\n<title>53</title>\n<path fill=\"#58ace9\" stroke=\"#000000\" d=\"M2552.5,-1557C2552.5,-1557 2420.5,-1557 2420.5,-1557 2414.5,-1557 2408.5,-1551 2408.5,-1545 2408.5,-1545 2408.5,-1471 2408.5,-1471 2408.5,-1465 2414.5,-1459 2420.5,-1459 2420.5,-1459 2552.5,-1459 2552.5,-1459 2558.5,-1459 2564.5,-1465 2564.5,-1471 2564.5,-1471 2564.5,-1545 2564.5,-1545 2564.5,-1551 2558.5,-1557 2552.5,-1557\"/>\n<text text-anchor=\"start\" x=\"2455.5\" y=\"-1541.8\" font-family=\"Helvetica,sans-Serif\" font-size=\"14.00\" fill=\"#000000\">node #53</text>\n<text text-anchor=\"start\" x=\"2419.5\" y=\"-1526.8\" font-family=\"Helvetica,sans-Serif\" font-size=\"14.00\" fill=\"#000000\">FFA_MEAN ≤ &#45;0.866</text>\n<text text-anchor=\"start\" x=\"2448.5\" y=\"-1511.8\" font-family=\"Helvetica,sans-Serif\" font-size=\"14.00\" fill=\"#000000\">gini = 0.234</text>\n<text text-anchor=\"start\" x=\"2430.5\" y=\"-1496.8\" font-family=\"Helvetica,sans-Serif\" font-size=\"14.00\" fill=\"#000000\">samples = 22.3%</text>\n<text text-anchor=\"start\" x=\"2416.5\" y=\"-1481.8\" font-family=\"Helvetica,sans-Serif\" font-size=\"14.00\" fill=\"#000000\">value = [0.136, 0.864]</text>\n<text text-anchor=\"start\" x=\"2450\" y=\"-1466.8\" font-family=\"Helvetica,sans-Serif\" font-size=\"14.00\" fill=\"#000000\">class = UTI</text>\n</g>\n<!-- 52&#45;&gt;53 -->\n<g id=\"edge53\" class=\"edge\">\n<title>52&#45;&gt;53</title>\n<path fill=\"none\" stroke=\"#000000\" d=\"M2486.5,-1592.8642C2486.5,-1584.5802 2486.5,-1575.903 2486.5,-1567.3918\"/>\n<polygon fill=\"#000000\" stroke=\"#000000\" points=\"2490.0001,-1567.1298 2486.5,-1557.1298 2483.0001,-1567.1299 2490.0001,-1567.1298\"/>\n</g>\n<!-- 68 -->\n<g id=\"node69\" class=\"node\">\n<title>68</title>\n<path fill=\"#f2c09c\" stroke=\"#000000\" d=\"M2880,-1557C2880,-1557 2647,-1557 2647,-1557 2641,-1557 2635,-1551 2635,-1545 2635,-1545 2635,-1471 2635,-1471 2635,-1465 2641,-1459 2647,-1459 2647,-1459 2880,-1459 2880,-1459 2886,-1459 2892,-1465 2892,-1471 2892,-1471 2892,-1545 2892,-1545 2892,-1551 2886,-1557 2880,-1557\"/>\n<text text-anchor=\"start\" x=\"2732.5\" y=\"-1541.8\" font-family=\"Helvetica,sans-Serif\" font-size=\"14.00\" fill=\"#000000\">node #68</text>\n<text text-anchor=\"start\" x=\"2643\" y=\"-1526.8\" font-family=\"Helvetica,sans-Serif\" font-size=\"14.00\" fill=\"#000000\">RESPIRATORY_RATE_MIN ≤ &#45;0.321</text>\n<text text-anchor=\"start\" x=\"2725.5\" y=\"-1511.8\" font-family=\"Helvetica,sans-Serif\" font-size=\"14.00\" fill=\"#000000\">gini = 0.444</text>\n<text text-anchor=\"start\" x=\"2711.5\" y=\"-1496.8\" font-family=\"Helvetica,sans-Serif\" font-size=\"14.00\" fill=\"#000000\">samples = 5.7%</text>\n<text text-anchor=\"start\" x=\"2693.5\" y=\"-1481.8\" font-family=\"Helvetica,sans-Serif\" font-size=\"14.00\" fill=\"#000000\">value = [0.667, 0.333]</text>\n<text text-anchor=\"start\" x=\"2726.5\" y=\"-1466.8\" font-family=\"Helvetica,sans-Serif\" font-size=\"14.00\" fill=\"#000000\">class = Alta</text>\n</g>\n<!-- 52&#45;&gt;68 -->\n<g id=\"edge68\" class=\"edge\">\n<title>52&#45;&gt;68</title>\n<path fill=\"none\" stroke=\"#000000\" d=\"M2588.0717,-1592.8642C2609.1481,-1582.6684 2631.4552,-1571.8772 2652.839,-1561.5328\"/>\n<polygon fill=\"#000000\" stroke=\"#000000\" points=\"2654.4628,-1564.6353 2661.9406,-1557.1298 2651.4144,-1558.3339 2654.4628,-1564.6353\"/>\n</g>\n<!-- 54 -->\n<g id=\"node55\" class=\"node\">\n<title>54</title>\n<path fill=\"#e58139\" stroke=\"#000000\" d=\"M2437,-1415.5C2437,-1415.5 2338,-1415.5 2338,-1415.5 2332,-1415.5 2326,-1409.5 2326,-1403.5 2326,-1403.5 2326,-1344.5 2326,-1344.5 2326,-1338.5 2332,-1332.5 2338,-1332.5 2338,-1332.5 2437,-1332.5 2437,-1332.5 2443,-1332.5 2449,-1338.5 2449,-1344.5 2449,-1344.5 2449,-1403.5 2449,-1403.5 2449,-1409.5 2443,-1415.5 2437,-1415.5\"/>\n<text text-anchor=\"start\" x=\"2356.5\" y=\"-1400.3\" font-family=\"Helvetica,sans-Serif\" font-size=\"14.00\" fill=\"#000000\">node #54</text>\n<text text-anchor=\"start\" x=\"2358\" y=\"-1385.3\" font-family=\"Helvetica,sans-Serif\" font-size=\"14.00\" fill=\"#000000\">gini = 0.0</text>\n<text text-anchor=\"start\" x=\"2335.5\" y=\"-1370.3\" font-family=\"Helvetica,sans-Serif\" font-size=\"14.00\" fill=\"#000000\">samples = 0.8%</text>\n<text text-anchor=\"start\" x=\"2334\" y=\"-1355.3\" font-family=\"Helvetica,sans-Serif\" font-size=\"14.00\" fill=\"#000000\">value = [1.0, 0.0]</text>\n<text text-anchor=\"start\" x=\"2350.5\" y=\"-1340.3\" font-family=\"Helvetica,sans-Serif\" font-size=\"14.00\" fill=\"#000000\">class = Alta</text>\n</g>\n<!-- 53&#45;&gt;54 -->\n<g id=\"edge54\" class=\"edge\">\n<title>53&#45;&gt;54</title>\n<path fill=\"none\" stroke=\"#000000\" d=\"M2450.1982,-1458.8642C2441.761,-1447.4442 2432.7719,-1435.2771 2424.3128,-1423.8275\"/>\n<polygon fill=\"#000000\" stroke=\"#000000\" points=\"2427.0198,-1421.6014 2418.2625,-1415.6381 2421.3897,-1425.761 2427.0198,-1421.6014\"/>\n</g>\n<!-- 55 -->\n<g id=\"node56\" class=\"node\">\n<title>55</title>\n<path fill=\"#50a9e8\" stroke=\"#000000\" d=\"M2611.5,-1423C2611.5,-1423 2479.5,-1423 2479.5,-1423 2473.5,-1423 2467.5,-1417 2467.5,-1411 2467.5,-1411 2467.5,-1337 2467.5,-1337 2467.5,-1331 2473.5,-1325 2479.5,-1325 2479.5,-1325 2611.5,-1325 2611.5,-1325 2617.5,-1325 2623.5,-1331 2623.5,-1337 2623.5,-1337 2623.5,-1411 2623.5,-1411 2623.5,-1417 2617.5,-1423 2611.5,-1423\"/>\n<text text-anchor=\"start\" x=\"2514.5\" y=\"-1407.8\" font-family=\"Helvetica,sans-Serif\" font-size=\"14.00\" fill=\"#000000\">node #55</text>\n<text text-anchor=\"start\" x=\"2483.5\" y=\"-1392.8\" font-family=\"Helvetica,sans-Serif\" font-size=\"14.00\" fill=\"#000000\">UREA_MIN ≤ &#45;0.72</text>\n<text text-anchor=\"start\" x=\"2507.5\" y=\"-1377.8\" font-family=\"Helvetica,sans-Serif\" font-size=\"14.00\" fill=\"#000000\">gini = 0.188</text>\n<text text-anchor=\"start\" x=\"2489.5\" y=\"-1362.8\" font-family=\"Helvetica,sans-Serif\" font-size=\"14.00\" fill=\"#000000\">samples = 21.6%</text>\n<text text-anchor=\"start\" x=\"2475.5\" y=\"-1347.8\" font-family=\"Helvetica,sans-Serif\" font-size=\"14.00\" fill=\"#000000\">value = [0.105, 0.895]</text>\n<text text-anchor=\"start\" x=\"2509\" y=\"-1332.8\" font-family=\"Helvetica,sans-Serif\" font-size=\"14.00\" fill=\"#000000\">class = UTI</text>\n</g>\n<!-- 53&#45;&gt;55 -->\n<g id=\"edge55\" class=\"edge\">\n<title>53&#45;&gt;55</title>\n<path fill=\"none\" stroke=\"#000000\" d=\"M2508.1344,-1458.8642C2511.9021,-1450.3071 2515.8545,-1441.3305 2519.7203,-1432.5506\"/>\n<polygon fill=\"#000000\" stroke=\"#000000\" points=\"2523.0417,-1433.6924 2523.8682,-1423.1298 2516.6352,-1430.8716 2523.0417,-1433.6924\"/>\n</g>\n<!-- 56 -->\n<g id=\"node57\" class=\"node\">\n<title>56</title>\n<path fill=\"#42a1e6\" stroke=\"#000000\" d=\"M2431,-1289C2431,-1289 2202,-1289 2202,-1289 2196,-1289 2190,-1283 2190,-1277 2190,-1277 2190,-1203 2190,-1203 2190,-1197 2196,-1191 2202,-1191 2202,-1191 2431,-1191 2431,-1191 2437,-1191 2443,-1197 2443,-1203 2443,-1203 2443,-1277 2443,-1277 2443,-1283 2437,-1289 2431,-1289\"/>\n<text text-anchor=\"start\" x=\"2285.5\" y=\"-1273.8\" font-family=\"Helvetica,sans-Serif\" font-size=\"14.00\" fill=\"#000000\">node #56</text>\n<text text-anchor=\"start\" x=\"2198\" y=\"-1258.8\" font-family=\"Helvetica,sans-Serif\" font-size=\"14.00\" fill=\"#000000\">PATIENT_VISIT_IDENTIFIER ≤ 41.0</text>\n<text text-anchor=\"start\" x=\"2278.5\" y=\"-1243.8\" font-family=\"Helvetica,sans-Serif\" font-size=\"14.00\" fill=\"#000000\">gini = 0.081</text>\n<text text-anchor=\"start\" x=\"2260.5\" y=\"-1228.8\" font-family=\"Helvetica,sans-Serif\" font-size=\"14.00\" fill=\"#000000\">samples = 17.8%</text>\n<text text-anchor=\"start\" x=\"2246.5\" y=\"-1213.8\" font-family=\"Helvetica,sans-Serif\" font-size=\"14.00\" fill=\"#000000\">value = [0.043, 0.957]</text>\n<text text-anchor=\"start\" x=\"2280\" y=\"-1198.8\" font-family=\"Helvetica,sans-Serif\" font-size=\"14.00\" fill=\"#000000\">class = UTI</text>\n</g>\n<!-- 55&#45;&gt;56 -->\n<g id=\"edge56\" class=\"edge\">\n<title>55&#45;&gt;56</title>\n<path fill=\"none\" stroke=\"#000000\" d=\"M2467.3317,-1328.2596C2448.6798,-1317.3454 2428.5929,-1305.5915 2409.3524,-1294.3328\"/>\n<polygon fill=\"#000000\" stroke=\"#000000\" points=\"2410.9785,-1291.2292 2400.5799,-1289.1996 2407.4432,-1297.2709 2410.9785,-1291.2292\"/>\n</g>\n<!-- 63 -->\n<g id=\"node64\" class=\"node\">\n<title>63</title>\n<path fill=\"#bddef6\" stroke=\"#000000\" d=\"M2639.5,-1289C2639.5,-1289 2473.5,-1289 2473.5,-1289 2467.5,-1289 2461.5,-1283 2461.5,-1277 2461.5,-1277 2461.5,-1203 2461.5,-1203 2461.5,-1197 2467.5,-1191 2473.5,-1191 2473.5,-1191 2639.5,-1191 2639.5,-1191 2645.5,-1191 2651.5,-1197 2651.5,-1203 2651.5,-1203 2651.5,-1277 2651.5,-1277 2651.5,-1283 2645.5,-1289 2639.5,-1289\"/>\n<text text-anchor=\"start\" x=\"2525.5\" y=\"-1273.8\" font-family=\"Helvetica,sans-Serif\" font-size=\"14.00\" fill=\"#000000\">node #63</text>\n<text text-anchor=\"start\" x=\"2469.5\" y=\"-1258.8\" font-family=\"Helvetica,sans-Serif\" font-size=\"14.00\" fill=\"#000000\">PLATELETS_MIN ≤ &#45;0.646</text>\n<text text-anchor=\"start\" x=\"2523\" y=\"-1243.8\" font-family=\"Helvetica,sans-Serif\" font-size=\"14.00\" fill=\"#000000\">gini = 0.48</text>\n<text text-anchor=\"start\" x=\"2504.5\" y=\"-1228.8\" font-family=\"Helvetica,sans-Serif\" font-size=\"14.00\" fill=\"#000000\">samples = 3.8%</text>\n<text text-anchor=\"start\" x=\"2503\" y=\"-1213.8\" font-family=\"Helvetica,sans-Serif\" font-size=\"14.00\" fill=\"#000000\">value = [0.4, 0.6]</text>\n<text text-anchor=\"start\" x=\"2520\" y=\"-1198.8\" font-family=\"Helvetica,sans-Serif\" font-size=\"14.00\" fill=\"#000000\">class = UTI</text>\n</g>\n<!-- 55&#45;&gt;63 -->\n<g id=\"edge63\" class=\"edge\">\n<title>55&#45;&gt;63</title>\n<path fill=\"none\" stroke=\"#000000\" d=\"M2549.5335,-1324.8642C2550.221,-1316.4891 2550.9415,-1307.7123 2551.6476,-1299.1113\"/>\n<polygon fill=\"#000000\" stroke=\"#000000\" points=\"2555.137,-1299.3827 2552.467,-1289.1298 2548.1605,-1298.8099 2555.137,-1299.3827\"/>\n</g>\n<!-- 57 -->\n<g id=\"node58\" class=\"node\">\n<title>57</title>\n<path fill=\"#e58139\" stroke=\"#000000\" d=\"M2240,-1147.5C2240,-1147.5 2141,-1147.5 2141,-1147.5 2135,-1147.5 2129,-1141.5 2129,-1135.5 2129,-1135.5 2129,-1076.5 2129,-1076.5 2129,-1070.5 2135,-1064.5 2141,-1064.5 2141,-1064.5 2240,-1064.5 2240,-1064.5 2246,-1064.5 2252,-1070.5 2252,-1076.5 2252,-1076.5 2252,-1135.5 2252,-1135.5 2252,-1141.5 2246,-1147.5 2240,-1147.5\"/>\n<text text-anchor=\"start\" x=\"2159.5\" y=\"-1132.3\" font-family=\"Helvetica,sans-Serif\" font-size=\"14.00\" fill=\"#000000\">node #57</text>\n<text text-anchor=\"start\" x=\"2161\" y=\"-1117.3\" font-family=\"Helvetica,sans-Serif\" font-size=\"14.00\" fill=\"#000000\">gini = 0.0</text>\n<text text-anchor=\"start\" x=\"2138.5\" y=\"-1102.3\" font-family=\"Helvetica,sans-Serif\" font-size=\"14.00\" fill=\"#000000\">samples = 0.4%</text>\n<text text-anchor=\"start\" x=\"2137\" y=\"-1087.3\" font-family=\"Helvetica,sans-Serif\" font-size=\"14.00\" fill=\"#000000\">value = [1.0, 0.0]</text>\n<text text-anchor=\"start\" x=\"2153.5\" y=\"-1072.3\" font-family=\"Helvetica,sans-Serif\" font-size=\"14.00\" fill=\"#000000\">class = Alta</text>\n</g>\n<!-- 56&#45;&gt;57 -->\n<g id=\"edge57\" class=\"edge\">\n<title>56&#45;&gt;57</title>\n<path fill=\"none\" stroke=\"#000000\" d=\"M2270.2977,-1190.8642C2259.3509,-1179.2224 2247.6742,-1166.8043 2236.7263,-1155.1613\"/>\n<polygon fill=\"#000000\" stroke=\"#000000\" points=\"2239.0524,-1152.5258 2229.6523,-1147.6381 2233.9527,-1157.321 2239.0524,-1152.5258\"/>\n</g>\n<!-- 58 -->\n<g id=\"node59\" class=\"node\">\n<title>58</title>\n<path fill=\"#3d9fe6\" stroke=\"#000000\" d=\"M2427,-1155C2427,-1155 2282,-1155 2282,-1155 2276,-1155 2270,-1149 2270,-1143 2270,-1143 2270,-1069 2270,-1069 2270,-1063 2276,-1057 2282,-1057 2282,-1057 2427,-1057 2427,-1057 2433,-1057 2439,-1063 2439,-1069 2439,-1069 2439,-1143 2439,-1143 2439,-1149 2433,-1155 2427,-1155\"/>\n<text text-anchor=\"start\" x=\"2323.5\" y=\"-1139.8\" font-family=\"Helvetica,sans-Serif\" font-size=\"14.00\" fill=\"#000000\">node #58</text>\n<text text-anchor=\"start\" x=\"2278\" y=\"-1124.8\" font-family=\"Helvetica,sans-Serif\" font-size=\"14.00\" fill=\"#000000\">GGT_MEDIAN ≤ &#45;0.988</text>\n<text text-anchor=\"start\" x=\"2316.5\" y=\"-1109.8\" font-family=\"Helvetica,sans-Serif\" font-size=\"14.00\" fill=\"#000000\">gini = 0.043</text>\n<text text-anchor=\"start\" x=\"2298.5\" y=\"-1094.8\" font-family=\"Helvetica,sans-Serif\" font-size=\"14.00\" fill=\"#000000\">samples = 17.4%</text>\n<text text-anchor=\"start\" x=\"2284.5\" y=\"-1079.8\" font-family=\"Helvetica,sans-Serif\" font-size=\"14.00\" fill=\"#000000\">value = [0.022, 0.978]</text>\n<text text-anchor=\"start\" x=\"2318\" y=\"-1064.8\" font-family=\"Helvetica,sans-Serif\" font-size=\"14.00\" fill=\"#000000\">class = UTI</text>\n</g>\n<!-- 56&#45;&gt;58 -->\n<g id=\"edge58\" class=\"edge\">\n<title>56&#45;&gt;58</title>\n<path fill=\"none\" stroke=\"#000000\" d=\"M2330.434,-1190.8642C2332.8349,-1182.3981 2335.3521,-1173.5214 2337.8166,-1164.8309\"/>\n<polygon fill=\"#000000\" stroke=\"#000000\" points=\"2341.2066,-1165.7054 2340.5677,-1155.1298 2334.4721,-1163.7956 2341.2066,-1165.7054\"/>\n</g>\n<!-- 59 -->\n<g id=\"node60\" class=\"node\">\n<title>59</title>\n<path fill=\"#ffffff\" stroke=\"#000000\" d=\"M2293.5,-1021C2293.5,-1021 2183.5,-1021 2183.5,-1021 2177.5,-1021 2171.5,-1015 2171.5,-1009 2171.5,-1009 2171.5,-935 2171.5,-935 2171.5,-929 2177.5,-923 2183.5,-923 2183.5,-923 2293.5,-923 2293.5,-923 2299.5,-923 2305.5,-929 2305.5,-935 2305.5,-935 2305.5,-1009 2305.5,-1009 2305.5,-1015 2299.5,-1021 2293.5,-1021\"/>\n<text text-anchor=\"start\" x=\"2207.5\" y=\"-1005.8\" font-family=\"Helvetica,sans-Serif\" font-size=\"14.00\" fill=\"#000000\">node #59</text>\n<text text-anchor=\"start\" x=\"2179.5\" y=\"-990.8\" font-family=\"Helvetica,sans-Serif\" font-size=\"14.00\" fill=\"#000000\">FFA_MIN ≤ &#45;0.695</text>\n<text text-anchor=\"start\" x=\"2209\" y=\"-975.8\" font-family=\"Helvetica,sans-Serif\" font-size=\"14.00\" fill=\"#000000\">gini = 0.5</text>\n<text text-anchor=\"start\" x=\"2186.5\" y=\"-960.8\" font-family=\"Helvetica,sans-Serif\" font-size=\"14.00\" fill=\"#000000\">samples = 0.8%</text>\n<text text-anchor=\"start\" x=\"2185\" y=\"-945.8\" font-family=\"Helvetica,sans-Serif\" font-size=\"14.00\" fill=\"#000000\">value = [0.5, 0.5]</text>\n<text text-anchor=\"start\" x=\"2201.5\" y=\"-930.8\" font-family=\"Helvetica,sans-Serif\" font-size=\"14.00\" fill=\"#000000\">class = Alta</text>\n</g>\n<!-- 58&#45;&gt;59 -->\n<g id=\"edge59\" class=\"edge\">\n<title>58&#45;&gt;59</title>\n<path fill=\"none\" stroke=\"#000000\" d=\"M2311.9646,-1056.8642C2304.084,-1047.7609 2295.7926,-1038.1828 2287.7324,-1028.8719\"/>\n<polygon fill=\"#000000\" stroke=\"#000000\" points=\"2290.2216,-1026.3997 2281.0303,-1021.1298 2284.9291,-1030.9812 2290.2216,-1026.3997\"/>\n</g>\n<!-- 62 -->\n<g id=\"node63\" class=\"node\">\n<title>62</title>\n<path fill=\"#399de5\" stroke=\"#000000\" d=\"M2439.5,-1013.5C2439.5,-1013.5 2335.5,-1013.5 2335.5,-1013.5 2329.5,-1013.5 2323.5,-1007.5 2323.5,-1001.5 2323.5,-1001.5 2323.5,-942.5 2323.5,-942.5 2323.5,-936.5 2329.5,-930.5 2335.5,-930.5 2335.5,-930.5 2439.5,-930.5 2439.5,-930.5 2445.5,-930.5 2451.5,-936.5 2451.5,-942.5 2451.5,-942.5 2451.5,-1001.5 2451.5,-1001.5 2451.5,-1007.5 2445.5,-1013.5 2439.5,-1013.5\"/>\n<text text-anchor=\"start\" x=\"2356.5\" y=\"-998.3\" font-family=\"Helvetica,sans-Serif\" font-size=\"14.00\" fill=\"#000000\">node #62</text>\n<text text-anchor=\"start\" x=\"2358\" y=\"-983.3\" font-family=\"Helvetica,sans-Serif\" font-size=\"14.00\" fill=\"#000000\">gini = 0.0</text>\n<text text-anchor=\"start\" x=\"2331.5\" y=\"-968.3\" font-family=\"Helvetica,sans-Serif\" font-size=\"14.00\" fill=\"#000000\">samples = 16.7%</text>\n<text text-anchor=\"start\" x=\"2334\" y=\"-953.3\" font-family=\"Helvetica,sans-Serif\" font-size=\"14.00\" fill=\"#000000\">value = [0.0, 1.0]</text>\n<text text-anchor=\"start\" x=\"2351\" y=\"-938.3\" font-family=\"Helvetica,sans-Serif\" font-size=\"14.00\" fill=\"#000000\">class = UTI</text>\n</g>\n<!-- 58&#45;&gt;62 -->\n<g id=\"edge62\" class=\"edge\">\n<title>58&#45;&gt;62</title>\n<path fill=\"none\" stroke=\"#000000\" d=\"M2366.6006,-1056.8642C2369.2765,-1045.9985 2372.1189,-1034.4566 2374.8172,-1023.4998\"/>\n<polygon fill=\"#000000\" stroke=\"#000000\" points=\"2378.253,-1024.185 2377.2458,-1013.6381 2371.4561,-1022.5111 2378.253,-1024.185\"/>\n</g>\n<!-- 60 -->\n<g id=\"node61\" class=\"node\">\n<title>60</title>\n<path fill=\"#e58139\" stroke=\"#000000\" d=\"M2217,-879.5C2217,-879.5 2118,-879.5 2118,-879.5 2112,-879.5 2106,-873.5 2106,-867.5 2106,-867.5 2106,-808.5 2106,-808.5 2106,-802.5 2112,-796.5 2118,-796.5 2118,-796.5 2217,-796.5 2217,-796.5 2223,-796.5 2229,-802.5 2229,-808.5 2229,-808.5 2229,-867.5 2229,-867.5 2229,-873.5 2223,-879.5 2217,-879.5\"/>\n<text text-anchor=\"start\" x=\"2136.5\" y=\"-864.3\" font-family=\"Helvetica,sans-Serif\" font-size=\"14.00\" fill=\"#000000\">node #60</text>\n<text text-anchor=\"start\" x=\"2138\" y=\"-849.3\" font-family=\"Helvetica,sans-Serif\" font-size=\"14.00\" fill=\"#000000\">gini = 0.0</text>\n<text text-anchor=\"start\" x=\"2115.5\" y=\"-834.3\" font-family=\"Helvetica,sans-Serif\" font-size=\"14.00\" fill=\"#000000\">samples = 0.4%</text>\n<text text-anchor=\"start\" x=\"2114\" y=\"-819.3\" font-family=\"Helvetica,sans-Serif\" font-size=\"14.00\" fill=\"#000000\">value = [1.0, 0.0]</text>\n<text text-anchor=\"start\" x=\"2130.5\" y=\"-804.3\" font-family=\"Helvetica,sans-Serif\" font-size=\"14.00\" fill=\"#000000\">class = Alta</text>\n</g>\n<!-- 59&#45;&gt;60 -->\n<g id=\"edge60\" class=\"edge\">\n<title>59&#45;&gt;60</title>\n<path fill=\"none\" stroke=\"#000000\" d=\"M2212.4654,-922.8642C2206.5319,-911.6659 2200.2179,-899.7493 2194.2549,-888.4953\"/>\n<polygon fill=\"#000000\" stroke=\"#000000\" points=\"2197.3367,-886.8357 2189.562,-879.6381 2191.1513,-890.1131 2197.3367,-886.8357\"/>\n</g>\n<!-- 61 -->\n<g id=\"node62\" class=\"node\">\n<title>61</title>\n<path fill=\"#399de5\" stroke=\"#000000\" d=\"M2358,-879.5C2358,-879.5 2259,-879.5 2259,-879.5 2253,-879.5 2247,-873.5 2247,-867.5 2247,-867.5 2247,-808.5 2247,-808.5 2247,-802.5 2253,-796.5 2259,-796.5 2259,-796.5 2358,-796.5 2358,-796.5 2364,-796.5 2370,-802.5 2370,-808.5 2370,-808.5 2370,-867.5 2370,-867.5 2370,-873.5 2364,-879.5 2358,-879.5\"/>\n<text text-anchor=\"start\" x=\"2277.5\" y=\"-864.3\" font-family=\"Helvetica,sans-Serif\" font-size=\"14.00\" fill=\"#000000\">node #61</text>\n<text text-anchor=\"start\" x=\"2279\" y=\"-849.3\" font-family=\"Helvetica,sans-Serif\" font-size=\"14.00\" fill=\"#000000\">gini = 0.0</text>\n<text text-anchor=\"start\" x=\"2256.5\" y=\"-834.3\" font-family=\"Helvetica,sans-Serif\" font-size=\"14.00\" fill=\"#000000\">samples = 0.4%</text>\n<text text-anchor=\"start\" x=\"2255\" y=\"-819.3\" font-family=\"Helvetica,sans-Serif\" font-size=\"14.00\" fill=\"#000000\">value = [0.0, 1.0]</text>\n<text text-anchor=\"start\" x=\"2272\" y=\"-804.3\" font-family=\"Helvetica,sans-Serif\" font-size=\"14.00\" fill=\"#000000\">class = UTI</text>\n</g>\n<!-- 59&#45;&gt;61 -->\n<g id=\"edge61\" class=\"edge\">\n<title>59&#45;&gt;61</title>\n<path fill=\"none\" stroke=\"#000000\" d=\"M2264.1679,-922.8642C2269.9599,-911.7768 2276.1197,-899.9852 2281.9472,-888.8297\"/>\n<polygon fill=\"#000000\" stroke=\"#000000\" points=\"2285.2207,-890.1222 2286.7487,-879.6381 2279.0163,-886.8811 2285.2207,-890.1222\"/>\n</g>\n<!-- 64 -->\n<g id=\"node65\" class=\"node\">\n<title>64</title>\n<path fill=\"#399de5\" stroke=\"#000000\" d=\"M2587,-1147.5C2587,-1147.5 2488,-1147.5 2488,-1147.5 2482,-1147.5 2476,-1141.5 2476,-1135.5 2476,-1135.5 2476,-1076.5 2476,-1076.5 2476,-1070.5 2482,-1064.5 2488,-1064.5 2488,-1064.5 2587,-1064.5 2587,-1064.5 2593,-1064.5 2599,-1070.5 2599,-1076.5 2599,-1076.5 2599,-1135.5 2599,-1135.5 2599,-1141.5 2593,-1147.5 2587,-1147.5\"/>\n<text text-anchor=\"start\" x=\"2506.5\" y=\"-1132.3\" font-family=\"Helvetica,sans-Serif\" font-size=\"14.00\" fill=\"#000000\">node #64</text>\n<text text-anchor=\"start\" x=\"2508\" y=\"-1117.3\" font-family=\"Helvetica,sans-Serif\" font-size=\"14.00\" fill=\"#000000\">gini = 0.0</text>\n<text text-anchor=\"start\" x=\"2485.5\" y=\"-1102.3\" font-family=\"Helvetica,sans-Serif\" font-size=\"14.00\" fill=\"#000000\">samples = 1.9%</text>\n<text text-anchor=\"start\" x=\"2484\" y=\"-1087.3\" font-family=\"Helvetica,sans-Serif\" font-size=\"14.00\" fill=\"#000000\">value = [0.0, 1.0]</text>\n<text text-anchor=\"start\" x=\"2501\" y=\"-1072.3\" font-family=\"Helvetica,sans-Serif\" font-size=\"14.00\" fill=\"#000000\">class = UTI</text>\n</g>\n<!-- 63&#45;&gt;64 -->\n<g id=\"edge64\" class=\"edge\">\n<title>63&#45;&gt;64</title>\n<path fill=\"none\" stroke=\"#000000\" d=\"M2549.533,-1190.8642C2548.0081,-1180.1094 2546.3892,-1168.6921 2544.8498,-1157.8354\"/>\n<polygon fill=\"#000000\" stroke=\"#000000\" points=\"2548.2732,-1157.0477 2543.4039,-1147.6381 2541.3425,-1158.0305 2548.2732,-1157.0477\"/>\n</g>\n<!-- 65 -->\n<g id=\"node66\" class=\"node\">\n<title>65</title>\n<path fill=\"#eca06a\" stroke=\"#000000\" d=\"M2821.5,-1155C2821.5,-1155 2629.5,-1155 2629.5,-1155 2623.5,-1155 2617.5,-1149 2617.5,-1143 2617.5,-1143 2617.5,-1069 2617.5,-1069 2617.5,-1063 2623.5,-1057 2629.5,-1057 2629.5,-1057 2821.5,-1057 2821.5,-1057 2827.5,-1057 2833.5,-1063 2833.5,-1069 2833.5,-1069 2833.5,-1143 2833.5,-1143 2833.5,-1149 2827.5,-1155 2821.5,-1155\"/>\n<text text-anchor=\"start\" x=\"2694.5\" y=\"-1139.8\" font-family=\"Helvetica,sans-Serif\" font-size=\"14.00\" fill=\"#000000\">node #65</text>\n<text text-anchor=\"start\" x=\"2625.5\" y=\"-1124.8\" font-family=\"Helvetica,sans-Serif\" font-size=\"14.00\" fill=\"#000000\">BILLIRUBIN_MEDIAN ≤ &#45;0.968</text>\n<text text-anchor=\"start\" x=\"2692\" y=\"-1109.8\" font-family=\"Helvetica,sans-Serif\" font-size=\"14.00\" fill=\"#000000\">gini = 0.32</text>\n<text text-anchor=\"start\" x=\"2673.5\" y=\"-1094.8\" font-family=\"Helvetica,sans-Serif\" font-size=\"14.00\" fill=\"#000000\">samples = 1.9%</text>\n<text text-anchor=\"start\" x=\"2672\" y=\"-1079.8\" font-family=\"Helvetica,sans-Serif\" font-size=\"14.00\" fill=\"#000000\">value = [0.8, 0.2]</text>\n<text text-anchor=\"start\" x=\"2688.5\" y=\"-1064.8\" font-family=\"Helvetica,sans-Serif\" font-size=\"14.00\" fill=\"#000000\">class = Alta</text>\n</g>\n<!-- 63&#45;&gt;65 -->\n<g id=\"edge65\" class=\"edge\">\n<title>63&#45;&gt;65</title>\n<path fill=\"none\" stroke=\"#000000\" d=\"M2618.4697,-1190.8642C2630.5249,-1181.3057 2643.2401,-1171.2238 2655.5323,-1161.4773\"/>\n<polygon fill=\"#000000\" stroke=\"#000000\" points=\"2657.8765,-1164.0854 2663.5378,-1155.1298 2653.5274,-1158.6003 2657.8765,-1164.0854\"/>\n</g>\n<!-- 66 -->\n<g id=\"node67\" class=\"node\">\n<title>66</title>\n<path fill=\"#399de5\" stroke=\"#000000\" d=\"M2704,-1013.5C2704,-1013.5 2605,-1013.5 2605,-1013.5 2599,-1013.5 2593,-1007.5 2593,-1001.5 2593,-1001.5 2593,-942.5 2593,-942.5 2593,-936.5 2599,-930.5 2605,-930.5 2605,-930.5 2704,-930.5 2704,-930.5 2710,-930.5 2716,-936.5 2716,-942.5 2716,-942.5 2716,-1001.5 2716,-1001.5 2716,-1007.5 2710,-1013.5 2704,-1013.5\"/>\n<text text-anchor=\"start\" x=\"2623.5\" y=\"-998.3\" font-family=\"Helvetica,sans-Serif\" font-size=\"14.00\" fill=\"#000000\">node #66</text>\n<text text-anchor=\"start\" x=\"2625\" y=\"-983.3\" font-family=\"Helvetica,sans-Serif\" font-size=\"14.00\" fill=\"#000000\">gini = 0.0</text>\n<text text-anchor=\"start\" x=\"2602.5\" y=\"-968.3\" font-family=\"Helvetica,sans-Serif\" font-size=\"14.00\" fill=\"#000000\">samples = 0.4%</text>\n<text text-anchor=\"start\" x=\"2601\" y=\"-953.3\" font-family=\"Helvetica,sans-Serif\" font-size=\"14.00\" fill=\"#000000\">value = [0.0, 1.0]</text>\n<text text-anchor=\"start\" x=\"2618\" y=\"-938.3\" font-family=\"Helvetica,sans-Serif\" font-size=\"14.00\" fill=\"#000000\">class = UTI</text>\n</g>\n<!-- 65&#45;&gt;66 -->\n<g id=\"edge66\" class=\"edge\">\n<title>65&#45;&gt;66</title>\n<path fill=\"none\" stroke=\"#000000\" d=\"M2699.4654,-1056.8642C2693.5319,-1045.6659 2687.2179,-1033.7493 2681.2549,-1022.4953\"/>\n<polygon fill=\"#000000\" stroke=\"#000000\" points=\"2684.3367,-1020.8357 2676.562,-1013.6381 2678.1513,-1024.1131 2684.3367,-1020.8357\"/>\n</g>\n<!-- 67 -->\n<g id=\"node68\" class=\"node\">\n<title>67</title>\n<path fill=\"#e58139\" stroke=\"#000000\" d=\"M2845,-1013.5C2845,-1013.5 2746,-1013.5 2746,-1013.5 2740,-1013.5 2734,-1007.5 2734,-1001.5 2734,-1001.5 2734,-942.5 2734,-942.5 2734,-936.5 2740,-930.5 2746,-930.5 2746,-930.5 2845,-930.5 2845,-930.5 2851,-930.5 2857,-936.5 2857,-942.5 2857,-942.5 2857,-1001.5 2857,-1001.5 2857,-1007.5 2851,-1013.5 2845,-1013.5\"/>\n<text text-anchor=\"start\" x=\"2764.5\" y=\"-998.3\" font-family=\"Helvetica,sans-Serif\" font-size=\"14.00\" fill=\"#000000\">node #67</text>\n<text text-anchor=\"start\" x=\"2766\" y=\"-983.3\" font-family=\"Helvetica,sans-Serif\" font-size=\"14.00\" fill=\"#000000\">gini = 0.0</text>\n<text text-anchor=\"start\" x=\"2743.5\" y=\"-968.3\" font-family=\"Helvetica,sans-Serif\" font-size=\"14.00\" fill=\"#000000\">samples = 1.5%</text>\n<text text-anchor=\"start\" x=\"2742\" y=\"-953.3\" font-family=\"Helvetica,sans-Serif\" font-size=\"14.00\" fill=\"#000000\">value = [1.0, 0.0]</text>\n<text text-anchor=\"start\" x=\"2758.5\" y=\"-938.3\" font-family=\"Helvetica,sans-Serif\" font-size=\"14.00\" fill=\"#000000\">class = Alta</text>\n</g>\n<!-- 65&#45;&gt;67 -->\n<g id=\"edge67\" class=\"edge\">\n<title>65&#45;&gt;67</title>\n<path fill=\"none\" stroke=\"#000000\" d=\"M2751.1679,-1056.8642C2756.9599,-1045.7768 2763.1197,-1033.9852 2768.9472,-1022.8297\"/>\n<polygon fill=\"#000000\" stroke=\"#000000\" points=\"2772.2207,-1024.1222 2773.7487,-1013.6381 2766.0163,-1020.8811 2772.2207,-1024.1222\"/>\n</g>\n<!-- 69 -->\n<g id=\"node70\" class=\"node\">\n<title>69</title>\n<path fill=\"#e88f4f\" stroke=\"#000000\" d=\"M2869.5,-1423C2869.5,-1423 2657.5,-1423 2657.5,-1423 2651.5,-1423 2645.5,-1417 2645.5,-1411 2645.5,-1411 2645.5,-1337 2645.5,-1337 2645.5,-1331 2651.5,-1325 2657.5,-1325 2657.5,-1325 2869.5,-1325 2869.5,-1325 2875.5,-1325 2881.5,-1331 2881.5,-1337 2881.5,-1337 2881.5,-1411 2881.5,-1411 2881.5,-1417 2875.5,-1423 2869.5,-1423\"/>\n<text text-anchor=\"start\" x=\"2732.5\" y=\"-1407.8\" font-family=\"Helvetica,sans-Serif\" font-size=\"14.00\" fill=\"#000000\">node #69</text>\n<text text-anchor=\"start\" x=\"2653.5\" y=\"-1392.8\" font-family=\"Helvetica,sans-Serif\" font-size=\"14.00\" fill=\"#000000\">NEUTROPHILES_MEAN ≤ &#45;0.889</text>\n<text text-anchor=\"start\" x=\"2730\" y=\"-1377.8\" font-family=\"Helvetica,sans-Serif\" font-size=\"14.00\" fill=\"#000000\">gini = 0.18</text>\n<text text-anchor=\"start\" x=\"2711.5\" y=\"-1362.8\" font-family=\"Helvetica,sans-Serif\" font-size=\"14.00\" fill=\"#000000\">samples = 3.8%</text>\n<text text-anchor=\"start\" x=\"2710\" y=\"-1347.8\" font-family=\"Helvetica,sans-Serif\" font-size=\"14.00\" fill=\"#000000\">value = [0.9, 0.1]</text>\n<text text-anchor=\"start\" x=\"2726.5\" y=\"-1332.8\" font-family=\"Helvetica,sans-Serif\" font-size=\"14.00\" fill=\"#000000\">class = Alta</text>\n</g>\n<!-- 68&#45;&gt;69 -->\n<g id=\"edge69\" class=\"edge\">\n<title>68&#45;&gt;69</title>\n<path fill=\"none\" stroke=\"#000000\" d=\"M2763.5,-1458.8642C2763.5,-1450.5802 2763.5,-1441.903 2763.5,-1433.3918\"/>\n<polygon fill=\"#000000\" stroke=\"#000000\" points=\"2767.0001,-1433.1298 2763.5,-1423.1298 2760.0001,-1433.1299 2767.0001,-1433.1298\"/>\n</g>\n<!-- 72 -->\n<g id=\"node73\" class=\"node\">\n<title>72</title>\n<path fill=\"#6ab6ec\" stroke=\"#000000\" d=\"M3113,-1423C3113,-1423 2914,-1423 2914,-1423 2908,-1423 2902,-1417 2902,-1411 2902,-1411 2902,-1337 2902,-1337 2902,-1331 2908,-1325 2914,-1325 2914,-1325 3113,-1325 3113,-1325 3119,-1325 3125,-1331 3125,-1337 3125,-1337 3125,-1411 3125,-1411 3125,-1417 3119,-1423 3113,-1423\"/>\n<text text-anchor=\"start\" x=\"2982.5\" y=\"-1407.8\" font-family=\"Helvetica,sans-Serif\" font-size=\"14.00\" fill=\"#000000\">node #72</text>\n<text text-anchor=\"start\" x=\"2910\" y=\"-1392.8\" font-family=\"Helvetica,sans-Serif\" font-size=\"14.00\" fill=\"#000000\">TEMPERATURE_DIFF ≤ &#45;0.964</text>\n<text text-anchor=\"start\" x=\"2980\" y=\"-1377.8\" font-family=\"Helvetica,sans-Serif\" font-size=\"14.00\" fill=\"#000000\">gini = 0.32</text>\n<text text-anchor=\"start\" x=\"2961.5\" y=\"-1362.8\" font-family=\"Helvetica,sans-Serif\" font-size=\"14.00\" fill=\"#000000\">samples = 1.9%</text>\n<text text-anchor=\"start\" x=\"2960\" y=\"-1347.8\" font-family=\"Helvetica,sans-Serif\" font-size=\"14.00\" fill=\"#000000\">value = [0.2, 0.8]</text>\n<text text-anchor=\"start\" x=\"2977\" y=\"-1332.8\" font-family=\"Helvetica,sans-Serif\" font-size=\"14.00\" fill=\"#000000\">class = UTI</text>\n</g>\n<!-- 68&#45;&gt;72 -->\n<g id=\"edge72\" class=\"edge\">\n<title>68&#45;&gt;72</title>\n<path fill=\"none\" stroke=\"#000000\" d=\"M2855.1712,-1458.8642C2873.9384,-1448.805 2893.787,-1438.1662 2912.8495,-1427.9486\"/>\n<polygon fill=\"#000000\" stroke=\"#000000\" points=\"2914.6796,-1430.9389 2921.8399,-1423.1298 2911.3726,-1424.7692 2914.6796,-1430.9389\"/>\n</g>\n<!-- 70 -->\n<g id=\"node71\" class=\"node\">\n<title>70</title>\n<path fill=\"#399de5\" stroke=\"#000000\" d=\"M2781,-1281.5C2781,-1281.5 2682,-1281.5 2682,-1281.5 2676,-1281.5 2670,-1275.5 2670,-1269.5 2670,-1269.5 2670,-1210.5 2670,-1210.5 2670,-1204.5 2676,-1198.5 2682,-1198.5 2682,-1198.5 2781,-1198.5 2781,-1198.5 2787,-1198.5 2793,-1204.5 2793,-1210.5 2793,-1210.5 2793,-1269.5 2793,-1269.5 2793,-1275.5 2787,-1281.5 2781,-1281.5\"/>\n<text text-anchor=\"start\" x=\"2700.5\" y=\"-1266.3\" font-family=\"Helvetica,sans-Serif\" font-size=\"14.00\" fill=\"#000000\">node #70</text>\n<text text-anchor=\"start\" x=\"2702\" y=\"-1251.3\" font-family=\"Helvetica,sans-Serif\" font-size=\"14.00\" fill=\"#000000\">gini = 0.0</text>\n<text text-anchor=\"start\" x=\"2679.5\" y=\"-1236.3\" font-family=\"Helvetica,sans-Serif\" font-size=\"14.00\" fill=\"#000000\">samples = 0.4%</text>\n<text text-anchor=\"start\" x=\"2678\" y=\"-1221.3\" font-family=\"Helvetica,sans-Serif\" font-size=\"14.00\" fill=\"#000000\">value = [0.0, 1.0]</text>\n<text text-anchor=\"start\" x=\"2695\" y=\"-1206.3\" font-family=\"Helvetica,sans-Serif\" font-size=\"14.00\" fill=\"#000000\">class = UTI</text>\n</g>\n<!-- 69&#45;&gt;70 -->\n<g id=\"edge70\" class=\"edge\">\n<title>69&#45;&gt;70</title>\n<path fill=\"none\" stroke=\"#000000\" d=\"M2751.7661,-1324.8642C2749.1713,-1313.9985 2746.415,-1302.4566 2743.7985,-1291.4998\"/>\n<polygon fill=\"#000000\" stroke=\"#000000\" points=\"2747.1705,-1290.5517 2741.4434,-1281.6381 2740.362,-1292.1776 2747.1705,-1290.5517\"/>\n</g>\n<!-- 71 -->\n<g id=\"node72\" class=\"node\">\n<title>71</title>\n<path fill=\"#e58139\" stroke=\"#000000\" d=\"M2922,-1281.5C2922,-1281.5 2823,-1281.5 2823,-1281.5 2817,-1281.5 2811,-1275.5 2811,-1269.5 2811,-1269.5 2811,-1210.5 2811,-1210.5 2811,-1204.5 2817,-1198.5 2823,-1198.5 2823,-1198.5 2922,-1198.5 2922,-1198.5 2928,-1198.5 2934,-1204.5 2934,-1210.5 2934,-1210.5 2934,-1269.5 2934,-1269.5 2934,-1275.5 2928,-1281.5 2922,-1281.5\"/>\n<text text-anchor=\"start\" x=\"2841.5\" y=\"-1266.3\" font-family=\"Helvetica,sans-Serif\" font-size=\"14.00\" fill=\"#000000\">node #71</text>\n<text text-anchor=\"start\" x=\"2843\" y=\"-1251.3\" font-family=\"Helvetica,sans-Serif\" font-size=\"14.00\" fill=\"#000000\">gini = 0.0</text>\n<text text-anchor=\"start\" x=\"2820.5\" y=\"-1236.3\" font-family=\"Helvetica,sans-Serif\" font-size=\"14.00\" fill=\"#000000\">samples = 3.4%</text>\n<text text-anchor=\"start\" x=\"2819\" y=\"-1221.3\" font-family=\"Helvetica,sans-Serif\" font-size=\"14.00\" fill=\"#000000\">value = [1.0, 0.0]</text>\n<text text-anchor=\"start\" x=\"2835.5\" y=\"-1206.3\" font-family=\"Helvetica,sans-Serif\" font-size=\"14.00\" fill=\"#000000\">class = Alta</text>\n</g>\n<!-- 69&#45;&gt;71 -->\n<g id=\"edge71\" class=\"edge\">\n<title>69&#45;&gt;71</title>\n<path fill=\"none\" stroke=\"#000000\" d=\"M2803.4686,-1324.8642C2812.8483,-1313.3333 2822.8474,-1301.0408 2832.2398,-1289.4942\"/>\n<polygon fill=\"#000000\" stroke=\"#000000\" points=\"2835.035,-1291.6044 2838.6302,-1281.6381 2829.6047,-1287.1871 2835.035,-1291.6044\"/>\n</g>\n<!-- 73 -->\n<g id=\"node74\" class=\"node\">\n<title>73</title>\n<path fill=\"#399de5\" stroke=\"#000000\" d=\"M3063,-1281.5C3063,-1281.5 2964,-1281.5 2964,-1281.5 2958,-1281.5 2952,-1275.5 2952,-1269.5 2952,-1269.5 2952,-1210.5 2952,-1210.5 2952,-1204.5 2958,-1198.5 2964,-1198.5 2964,-1198.5 3063,-1198.5 3063,-1198.5 3069,-1198.5 3075,-1204.5 3075,-1210.5 3075,-1210.5 3075,-1269.5 3075,-1269.5 3075,-1275.5 3069,-1281.5 3063,-1281.5\"/>\n<text text-anchor=\"start\" x=\"2982.5\" y=\"-1266.3\" font-family=\"Helvetica,sans-Serif\" font-size=\"14.00\" fill=\"#000000\">node #73</text>\n<text text-anchor=\"start\" x=\"2984\" y=\"-1251.3\" font-family=\"Helvetica,sans-Serif\" font-size=\"14.00\" fill=\"#000000\">gini = 0.0</text>\n<text text-anchor=\"start\" x=\"2961.5\" y=\"-1236.3\" font-family=\"Helvetica,sans-Serif\" font-size=\"14.00\" fill=\"#000000\">samples = 1.5%</text>\n<text text-anchor=\"start\" x=\"2960\" y=\"-1221.3\" font-family=\"Helvetica,sans-Serif\" font-size=\"14.00\" fill=\"#000000\">value = [0.0, 1.0]</text>\n<text text-anchor=\"start\" x=\"2977\" y=\"-1206.3\" font-family=\"Helvetica,sans-Serif\" font-size=\"14.00\" fill=\"#000000\">class = UTI</text>\n</g>\n<!-- 72&#45;&gt;73 -->\n<g id=\"edge73\" class=\"edge\">\n<title>72&#45;&gt;73</title>\n<path fill=\"none\" stroke=\"#000000\" d=\"M3013.5,-1324.8642C3013.5,-1314.1094 3013.5,-1302.6921 3013.5,-1291.8354\"/>\n<polygon fill=\"#000000\" stroke=\"#000000\" points=\"3017.0001,-1291.6381 3013.5,-1281.6381 3010.0001,-1291.6382 3017.0001,-1291.6381\"/>\n</g>\n<!-- 74 -->\n<g id=\"node75\" class=\"node\">\n<title>74</title>\n<path fill=\"#e58139\" stroke=\"#000000\" d=\"M3204,-1281.5C3204,-1281.5 3105,-1281.5 3105,-1281.5 3099,-1281.5 3093,-1275.5 3093,-1269.5 3093,-1269.5 3093,-1210.5 3093,-1210.5 3093,-1204.5 3099,-1198.5 3105,-1198.5 3105,-1198.5 3204,-1198.5 3204,-1198.5 3210,-1198.5 3216,-1204.5 3216,-1210.5 3216,-1210.5 3216,-1269.5 3216,-1269.5 3216,-1275.5 3210,-1281.5 3204,-1281.5\"/>\n<text text-anchor=\"start\" x=\"3123.5\" y=\"-1266.3\" font-family=\"Helvetica,sans-Serif\" font-size=\"14.00\" fill=\"#000000\">node #74</text>\n<text text-anchor=\"start\" x=\"3125\" y=\"-1251.3\" font-family=\"Helvetica,sans-Serif\" font-size=\"14.00\" fill=\"#000000\">gini = 0.0</text>\n<text text-anchor=\"start\" x=\"3102.5\" y=\"-1236.3\" font-family=\"Helvetica,sans-Serif\" font-size=\"14.00\" fill=\"#000000\">samples = 0.4%</text>\n<text text-anchor=\"start\" x=\"3101\" y=\"-1221.3\" font-family=\"Helvetica,sans-Serif\" font-size=\"14.00\" fill=\"#000000\">value = [1.0, 0.0]</text>\n<text text-anchor=\"start\" x=\"3117.5\" y=\"-1206.3\" font-family=\"Helvetica,sans-Serif\" font-size=\"14.00\" fill=\"#000000\">class = Alta</text>\n</g>\n<!-- 72&#45;&gt;74 -->\n<g id=\"edge74\" class=\"edge\">\n<title>72&#45;&gt;74</title>\n<path fill=\"none\" stroke=\"#000000\" d=\"M3065.2026,-1324.8642C3077.5692,-1313.1115 3090.7683,-1300.5677 3103.1203,-1288.8289\"/>\n<polygon fill=\"#000000\" stroke=\"#000000\" points=\"3105.8491,-1291.0641 3110.6867,-1281.6381 3101.0269,-1285.99 3105.8491,-1291.0641\"/>\n</g>\n</g>\n</svg>\n"
          },
          "metadata": {
            "tags": []
          },
          "execution_count": 22
        }
      ]
    },
    {
      "cell_type": "code",
      "metadata": {
        "colab": {
          "base_uri": "https://localhost:8080/"
        },
        "id": "pRL3y_nvShWl",
        "outputId": "bdb3a2c0-258a-406a-e595-2113c7db1727"
      },
      "source": [
        "lista = dados_limpos[x_columns].drop(['ICU','WINDOW'], axis=1).columns.tolist()\n",
        "\n",
        "arvore_texto = export_text(modelo_arvore, feature_names=lista,\n",
        "                           max_depth = 10, spacing = 3,\n",
        "                           decimals = 3, show_weights = True)\n",
        "print(arvore_texto)"
      ],
      "execution_count": 23,
      "outputs": [
        {
          "output_type": "stream",
          "text": [
            "|--- AGE_PERCENTIL <= 6.500\n",
            "|   |--- PCR_MEDIAN <= -0.567\n",
            "|   |   |--- CREATININ_MIN <= -0.858\n",
            "|   |   |   |--- RESPIRATORY_RATE_MEAN <= -0.288\n",
            "|   |   |   |   |--- RESPIRATORY_RATE_MEDIAN <= -0.862\n",
            "|   |   |   |   |   |--- weights: [0.000, 4.000] class: 1\n",
            "|   |   |   |   |--- RESPIRATORY_RATE_MEDIAN >  -0.862\n",
            "|   |   |   |   |   |--- GLUCOSE_MAX <= -0.816\n",
            "|   |   |   |   |   |   |--- TTPA_MEDIAN <= -0.774\n",
            "|   |   |   |   |   |   |   |--- BLOODPRESSURE_DIASTOLIC_DIFF_REL <= -0.724\n",
            "|   |   |   |   |   |   |   |   |--- BLAST_MEDIAN <= -0.870\n",
            "|   |   |   |   |   |   |   |   |   |--- PCR_MAX <= -0.997\n",
            "|   |   |   |   |   |   |   |   |   |   |--- TEMPERATURE_MIN <= 0.462\n",
            "|   |   |   |   |   |   |   |   |   |   |   |--- weights: [5.000, 0.000] class: 0\n",
            "|   |   |   |   |   |   |   |   |   |   |--- TEMPERATURE_MIN >  0.462\n",
            "|   |   |   |   |   |   |   |   |   |   |   |--- weights: [0.000, 2.000] class: 1\n",
            "|   |   |   |   |   |   |   |   |   |--- PCR_MAX >  -0.997\n",
            "|   |   |   |   |   |   |   |   |   |   |--- DIMER_MEAN <= -0.863\n",
            "|   |   |   |   |   |   |   |   |   |   |   |--- truncated branch of depth 3\n",
            "|   |   |   |   |   |   |   |   |   |   |--- DIMER_MEAN >  -0.863\n",
            "|   |   |   |   |   |   |   |   |   |   |   |--- truncated branch of depth 2\n",
            "|   |   |   |   |   |   |   |   |--- BLAST_MEDIAN >  -0.870\n",
            "|   |   |   |   |   |   |   |   |   |--- weights: [0.000, 1.000] class: 1\n",
            "|   |   |   |   |   |   |   |--- BLOODPRESSURE_DIASTOLIC_DIFF_REL >  -0.724\n",
            "|   |   |   |   |   |   |   |   |--- PLATELETS_MAX <= -0.534\n",
            "|   |   |   |   |   |   |   |   |   |--- weights: [1.000, 0.000] class: 0\n",
            "|   |   |   |   |   |   |   |   |--- PLATELETS_MAX >  -0.534\n",
            "|   |   |   |   |   |   |   |   |   |--- weights: [0.000, 2.000] class: 1\n",
            "|   |   |   |   |   |   |--- TTPA_MEDIAN >  -0.774\n",
            "|   |   |   |   |   |   |   |--- TGP_MEDIAN <= -0.993\n",
            "|   |   |   |   |   |   |   |   |--- weights: [3.000, 0.000] class: 0\n",
            "|   |   |   |   |   |   |   |--- TGP_MEDIAN >  -0.993\n",
            "|   |   |   |   |   |   |   |   |--- LEUKOCYTES_MEDIAN <= -0.866\n",
            "|   |   |   |   |   |   |   |   |   |--- weights: [1.000, 0.000] class: 0\n",
            "|   |   |   |   |   |   |   |   |--- LEUKOCYTES_MEDIAN >  -0.866\n",
            "|   |   |   |   |   |   |   |   |   |--- weights: [0.000, 5.000] class: 1\n",
            "|   |   |   |   |   |--- GLUCOSE_MAX >  -0.816\n",
            "|   |   |   |   |   |   |--- TGP_MAX <= -0.987\n",
            "|   |   |   |   |   |   |   |--- TTPA_MEDIAN <= -0.828\n",
            "|   |   |   |   |   |   |   |   |--- weights: [0.000, 9.000] class: 1\n",
            "|   |   |   |   |   |   |   |--- TTPA_MEDIAN >  -0.828\n",
            "|   |   |   |   |   |   |   |   |--- weights: [2.000, 0.000] class: 0\n",
            "|   |   |   |   |   |   |--- TGP_MAX >  -0.987\n",
            "|   |   |   |   |   |   |   |--- weights: [7.000, 0.000] class: 0\n",
            "|   |   |   |--- RESPIRATORY_RATE_MEAN >  -0.288\n",
            "|   |   |   |   |--- PCR_MIN <= -0.886\n",
            "|   |   |   |   |   |--- weights: [0.000, 7.000] class: 1\n",
            "|   |   |   |   |--- PCR_MIN >  -0.886\n",
            "|   |   |   |   |   |--- TTPA_MEDIAN <= -0.839\n",
            "|   |   |   |   |   |   |--- weights: [5.000, 0.000] class: 0\n",
            "|   |   |   |   |   |--- TTPA_MEDIAN >  -0.839\n",
            "|   |   |   |   |   |   |--- weights: [0.000, 2.000] class: 1\n",
            "|   |   |--- CREATININ_MIN >  -0.858\n",
            "|   |   |   |--- TEMPERATURE_DIFF_REL <= -0.927\n",
            "|   |   |   |   |--- FFA_MAX <= -0.499\n",
            "|   |   |   |   |   |--- weights: [0.000, 14.000] class: 1\n",
            "|   |   |   |   |--- FFA_MAX >  -0.499\n",
            "|   |   |   |   |   |--- weights: [1.000, 0.000] class: 0\n",
            "|   |   |   |--- TEMPERATURE_DIFF_REL >  -0.927\n",
            "|   |   |   |   |--- weights: [2.000, 0.000] class: 0\n",
            "|   |--- PCR_MEDIAN >  -0.567\n",
            "|   |   |--- LINFOCITOS_MEDIAN <= -0.901\n",
            "|   |   |   |--- HEMOGLOBIN_MAX <= -0.232\n",
            "|   |   |   |   |--- weights: [0.000, 1.000] class: 1\n",
            "|   |   |   |--- HEMOGLOBIN_MAX >  -0.232\n",
            "|   |   |   |   |--- weights: [2.000, 0.000] class: 0\n",
            "|   |   |--- LINFOCITOS_MEDIAN >  -0.901\n",
            "|   |   |   |--- weights: [0.000, 17.000] class: 1\n",
            "|--- AGE_PERCENTIL >  6.500\n",
            "|   |--- BLOODPRESSURE_DIASTOLIC_MEDIAN <= 0.148\n",
            "|   |   |--- FFA_MEAN <= -0.866\n",
            "|   |   |   |--- weights: [2.000, 0.000] class: 0\n",
            "|   |   |--- FFA_MEAN >  -0.866\n",
            "|   |   |   |--- UREA_MIN <= -0.720\n",
            "|   |   |   |   |--- PATIENT_VISIT_IDENTIFIER <= 41.000\n",
            "|   |   |   |   |   |--- weights: [1.000, 0.000] class: 0\n",
            "|   |   |   |   |--- PATIENT_VISIT_IDENTIFIER >  41.000\n",
            "|   |   |   |   |   |--- GGT_MEDIAN <= -0.988\n",
            "|   |   |   |   |   |   |--- FFA_MIN <= -0.695\n",
            "|   |   |   |   |   |   |   |--- weights: [1.000, 0.000] class: 0\n",
            "|   |   |   |   |   |   |--- FFA_MIN >  -0.695\n",
            "|   |   |   |   |   |   |   |--- weights: [0.000, 1.000] class: 1\n",
            "|   |   |   |   |   |--- GGT_MEDIAN >  -0.988\n",
            "|   |   |   |   |   |   |--- weights: [0.000, 44.000] class: 1\n",
            "|   |   |   |--- UREA_MIN >  -0.720\n",
            "|   |   |   |   |--- PLATELETS_MIN <= -0.646\n",
            "|   |   |   |   |   |--- weights: [0.000, 5.000] class: 1\n",
            "|   |   |   |   |--- PLATELETS_MIN >  -0.646\n",
            "|   |   |   |   |   |--- BILLIRUBIN_MEDIAN <= -0.968\n",
            "|   |   |   |   |   |   |--- weights: [0.000, 1.000] class: 1\n",
            "|   |   |   |   |   |--- BILLIRUBIN_MEDIAN >  -0.968\n",
            "|   |   |   |   |   |   |--- weights: [4.000, 0.000] class: 0\n",
            "|   |--- BLOODPRESSURE_DIASTOLIC_MEDIAN >  0.148\n",
            "|   |   |--- RESPIRATORY_RATE_MIN <= -0.321\n",
            "|   |   |   |--- NEUTROPHILES_MEAN <= -0.889\n",
            "|   |   |   |   |--- weights: [0.000, 1.000] class: 1\n",
            "|   |   |   |--- NEUTROPHILES_MEAN >  -0.889\n",
            "|   |   |   |   |--- weights: [9.000, 0.000] class: 0\n",
            "|   |   |--- RESPIRATORY_RATE_MIN >  -0.321\n",
            "|   |   |   |--- TEMPERATURE_DIFF <= -0.964\n",
            "|   |   |   |   |--- weights: [0.000, 4.000] class: 1\n",
            "|   |   |   |--- TEMPERATURE_DIFF >  -0.964\n",
            "|   |   |   |   |--- weights: [1.000, 0.000] class: 0\n",
            "\n"
          ],
          "name": "stdout"
        }
      ]
    },
    {
      "cell_type": "markdown",
      "metadata": {
        "id": "DVt7-x6M-NGG"
      },
      "source": [
        "### Vídeo 02 - Curva ROC e AUC\n",
        "\n",
        "Começamos com reforço de conceitos:\n",
        "* ***Precision*** ou Precisão: qual o percentual de realmente positivas dentro do total de classificações positivas feitas pelo modelo (VP / (VP+FP))\n",
        "* ***Recall*** ou Revocação: qual o percentual de realmente positivas dentro do total de casos positivos que realmente havia na base (VP / (VP+FN))\n",
        "\n",
        "Daí evoluímos para novos conceitos, da curva ROC e AUC.\n",
        "* **Curva ROC:** é a curva que plota a taxa de verdadeiros positivos (também chamada de *sensibilidade*) no eixo **Y** e a taxa de falsos positivos (ou *especificidade*) na forma de 1 - especificidade no eixo **X**. Com isso, como podemos ver na imagem abaixo, quanto mais próxima do canto superior esquerdo do gráfico, melhor a qualidade do modelo\n",
        "\n",
        "<img src='https://upload.wikimedia.org/wikipedia/commons/3/3d/Curva_ROC.svg' width='400px' height='300px'>\n",
        "\n",
        "* **AUC:** é a *Area Under the Curve*, ou seja, a área medida embaixo da curva ROC plotada. É uma forma objetiva de termos uma comparação entre modelos, o que pode ser difícil de avaliar visualmente no gráfico. Na imagem abaixo, é a área marcada em amarelo.\n",
        "\n",
        "<img src='https://miro.medium.com/max/700/1*2nd7NTEBosPakccmLVWy9A.png' width='400px' height='300px'>\n",
        "\n",
        "Em ambas imagens podemos ver uma linha pontilhada na diagonal do gráfico. Essa linha representa a performance esperada de um classificador aleatório. Podemos considerar que a performance de qualquer modelo precisa ser pelo menos superior a isso, ou seja, a curva ROC precisa estar acima dessa diagonal.\n",
        "\n",
        "Fontes:\n",
        "* [SANAR](https://www.sanarmed.com/curva-roc-isso-realmente-faz-diferenca-colunistas)\n",
        "* [Wikipedia](https://pt.wikipedia.org/wiki/Caracter%C3%ADstica_de_Opera%C3%A7%C3%A3o_do_Receptor)"
      ]
    },
    {
      "cell_type": "code",
      "metadata": {
        "colab": {
          "base_uri": "https://localhost:8080/"
        },
        "id": "B81lRc0zKBqe",
        "outputId": "8b1c6518-5b9e-49f1-810b-5ac447e8c5ec"
      },
      "source": [
        "#np.random.seed(73246)\n",
        "\n",
        "prob_arvore = modelo_arvore.predict_proba(x_test)\n",
        "roc_auc_score(y_test, prob_arvore[:,1])"
      ],
      "execution_count": 24,
      "outputs": [
        {
          "output_type": "execute_result",
          "data": {
            "text/plain": [
              "0.5812143227815256"
            ]
          },
          "metadata": {
            "tags": []
          },
          "execution_count": 24
        }
      ]
    },
    {
      "cell_type": "code",
      "metadata": {
        "id": "jCB1kK9dLFj8"
      },
      "source": [
        "def roda_modelo(modelo, dados):\n",
        "\n",
        "    x_columns = dados.columns\n",
        "    y = dados['ICU']\n",
        "    x = dados[x_columns].drop(['ICU','WINDOW'], axis=1)\n",
        "    \n",
        "    x_train, x_test, y_train, y_test = train_test_split(x, y, stratify=y)\n",
        "\n",
        "    modelo.fit(x_train, y_train)\n",
        "    predicao = modelo.predict(x_test)\n",
        "    prob_predic = modelo.predict_proba(x_test)\n",
        "\n",
        "    auc = roc_auc_score(y_test, prob_predic[:,1])\n",
        "    print(f'AUC {auc}')\n",
        "    print('\\nClassification Report')\n",
        "    print(classification_report(y_test, predicao))"
      ],
      "execution_count": 25,
      "outputs": []
    },
    {
      "cell_type": "code",
      "metadata": {
        "colab": {
          "base_uri": "https://localhost:8080/"
        },
        "id": "ifo0Eh8CSynq",
        "outputId": "26a71008-e7db-4ada-b803-b30c32b3afea"
      },
      "source": [
        "roda_modelo(modelo_arvore, dados_limpos)"
      ],
      "execution_count": 26,
      "outputs": [
        {
          "output_type": "stream",
          "text": [
            "AUC 0.6040477426050858\n",
            "\n",
            "Classification Report\n",
            "              precision    recall  f1-score   support\n",
            "\n",
            "           0       0.61      0.74      0.67        47\n",
            "           1       0.61      0.46      0.53        41\n",
            "\n",
            "    accuracy                           0.61        88\n",
            "   macro avg       0.61      0.60      0.60        88\n",
            "weighted avg       0.61      0.61      0.61        88\n",
            "\n"
          ],
          "name": "stdout"
        }
      ]
    },
    {
      "cell_type": "code",
      "metadata": {
        "colab": {
          "base_uri": "https://localhost:8080/"
        },
        "id": "NuW581LhS4-D",
        "outputId": "35f3a1a3-c99e-4e68-fb19-4730f7f95df5"
      },
      "source": [
        "roda_modelo(modelo, dados_limpos)"
      ],
      "execution_count": 27,
      "outputs": [
        {
          "output_type": "stream",
          "text": [
            "AUC 0.7410482615464452\n",
            "\n",
            "Classification Report\n",
            "              precision    recall  f1-score   support\n",
            "\n",
            "           0       0.64      0.81      0.72        47\n",
            "           1       0.69      0.49      0.57        41\n",
            "\n",
            "    accuracy                           0.66        88\n",
            "   macro avg       0.67      0.65      0.64        88\n",
            "weighted avg       0.67      0.66      0.65        88\n",
            "\n"
          ],
          "name": "stdout"
        }
      ]
    },
    {
      "cell_type": "markdown",
      "metadata": {
        "id": "awGP-F2BULxz"
      },
      "source": [
        "#### **Desafio - Desenvolver Função que Plote a Curva ROC**\n",
        "---\n",
        "\n",
        "Desafio Extra - Plotar as Curvas de Diversos Modelos para Comparação"
      ]
    },
    {
      "cell_type": "code",
      "metadata": {
        "colab": {
          "base_uri": "https://localhost:8080/",
          "height": 514
        },
        "id": "0IOmlZNxYsCr",
        "outputId": "42af8cd4-b6c7-4875-fcbc-c0c1b36c14ce"
      },
      "source": [
        "fig, ax = plt.subplots(figsize = (16,8))\n",
        "plot_roc_curve(modelo, x_test, y_test, ax=ax)\n",
        "plot_roc_curve(modelo_arvore, x_test, y_test, ax=ax)\n",
        "plot_roc_curve(modelo_dummy, x_test, y_test, ax=ax)"
      ],
      "execution_count": 28,
      "outputs": [
        {
          "output_type": "execute_result",
          "data": {
            "text/plain": [
              "<sklearn.metrics._plot.roc_curve.RocCurveDisplay at 0x7f47c108ba10>"
            ]
          },
          "metadata": {
            "tags": []
          },
          "execution_count": 28
        },
        {
          "output_type": "display_data",
          "data": {
            "image/png": "[encoded data removed]",
            "text/plain": [
              "<Figure size 1152x576 with 1 Axes>"
            ]
          },
          "metadata": {
            "tags": [],
            "needs_background": "light"
          }
        }
      ]
    },
    {
      "cell_type": "markdown",
      "metadata": {
        "id": "JXc75MH9UfVv"
      },
      "source": [
        "#### **Desafio - Como Reduzir o Efeito da Aleatoriedade no Comparativo Entre Modelos**\n",
        "---\n",
        "\n",
        "Foi solicitado que se trabalhasse uma maneira criativa de reduzir a aleatoriedade dos resultados, sem buscar a documentação, que deve sugerir a maneira mais tradicional que será vista na aula 03.\n",
        "\n",
        "Tinha pensado em usar o **`random_state`** ao executar o **`train_test_split`** mas pensando melhor acho que isso apenas resolve a questão de termos resultados diferentes a cada execução. Para um determinado **`random_state`** podemos ter um modelo que desempenha melhor e para outro **`random_state`**, uma resposta diferente.\n",
        "\n",
        "Entendo que o mais correto seria usar a metodologia de validação cruzada que vimos no módulo anterior, pois daí usaremos várias amostras diferentes de dados para treino e teste e teremos como medida final a média dos resultados obtidos."
      ]
    },
    {
      "cell_type": "markdown",
      "metadata": {
        "id": "d2AD78G4VEz_"
      },
      "source": [
        "### **O que aprendemos nessa aula?**\n",
        "---\n",
        "\n",
        ">* Como usar uma árvore de decisão;\n",
        ">\n",
        ">* Analisar a qualidade dos resultados com a matriz de confusão;\n",
        ">\n",
        ">* Gerar um relatório do resultado da classificação;\n",
        ">\n",
        ">* O que é *Recall*, *Precision*, *F-Score* e *AUC*.\n",
        "\n",
        "---\n"
      ]
    },
    {
      "cell_type": "markdown",
      "metadata": {
        "id": "36NNR-RRRfMp"
      },
      "source": [
        "## **Aula 03 - Aleatoriedade de Modelos**\n",
        "---\n"
      ]
    },
    {
      "cell_type": "markdown",
      "metadata": {
        "id": "OtZRj_Rgt8_D"
      },
      "source": [
        "A ideia dessa aula é tentar reduzir o impacto da aleatoriedade na escolha dos dados que irão treinar e testar os modelos.\n",
        "\n",
        "A solução indicada foi definir uma nova função que executa *n* vezes o processo de separação dos dados em treino e teste, treina os modelos e depois calcula a média e o desvio padrão das ***AUCs*** encontradas."
      ]
    },
    {
      "cell_type": "code",
      "metadata": {
        "id": "VIqVLZDfRhSg"
      },
      "source": [
        "def roda_n_modelos(modelo, dados, n):\n",
        "    x_columns = dados.columns\n",
        "    y = dados['ICU']\n",
        "    x = dados[x_columns].drop(['ICU', 'WINDOW'], axis = 1)\n",
        "\n",
        "    auc_lista = []\n",
        "\n",
        "    for _ in range(n):\n",
        "        x_train, x_test, y_train, y_test = train_test_split(x, y, stratify = y)\n",
        "\n",
        "        modelo.fit(x_train, y_train)\n",
        "        prob_predic = modelo.predict_proba(x_test)\n",
        "        auc = roc_auc_score(y_test, prob_predic[:,1])\n",
        "        auc_lista.append(auc)\n",
        "\n",
        "    auc_medio = np.mean(auc_lista)\n",
        "    auc_std = np.std(auc_lista)\n",
        "    print(f'Resultados após {n} execuções')\n",
        "    print(f'AUC Médio {auc_medio}')\n",
        "    print(f'Intervalo {auc_medio - 2 * auc_std} a {auc_medio + 2 * auc_std}')\n",
        "    print(f'Range     {2 * auc_std}')"
      ],
      "execution_count": 29,
      "outputs": []
    },
    {
      "cell_type": "code",
      "metadata": {
        "colab": {
          "base_uri": "https://localhost:8080/"
        },
        "id": "2PAnNHv_WNiC",
        "outputId": "fa00b472-17d9-4cf7-d687-a0373af56d03"
      },
      "source": [
        "roda_n_modelos(modelo_arvore, dados_limpos, 100)"
      ],
      "execution_count": 30,
      "outputs": [
        {
          "output_type": "stream",
          "text": [
            "Resultados após 100 execuções\n",
            "AUC Médio 0.6276440062272963\n",
            "Intervalo 0.5385560923038623 a 0.7167319201507304\n",
            "Range     0.08908791392343408\n"
          ],
          "name": "stdout"
        }
      ]
    },
    {
      "cell_type": "code",
      "metadata": {
        "colab": {
          "base_uri": "https://localhost:8080/"
        },
        "id": "8eg7xan6Wtsw",
        "outputId": "745a9468-66a9-4f5c-c2b1-efed551075e8"
      },
      "source": [
        "roda_n_modelos(modelo, dados_limpos, 100)"
      ],
      "execution_count": 31,
      "outputs": [
        {
          "output_type": "stream",
          "text": [
            "Resultados após 100 execuções\n",
            "AUC Médio 0.7575142708873897\n",
            "Intervalo 0.6621677125209211 a 0.8528608292538582\n",
            "Range     0.0953465583664685\n"
          ],
          "name": "stdout"
        }
      ]
    },
    {
      "cell_type": "markdown",
      "metadata": {
        "id": "SJeBxwp6ujKL"
      },
      "source": [
        "Com os resultados obtidos podemos ver que o modelo de Regressão Logística apresenta um desempenho melhor que o de Árvore de Decisão, mas me chamou a atenção também a diferença de performance dos modelos.\n",
        "\n",
        "Para executar 100 vezes o modelo de Árvore de Decisão precisou de aproximadamente 2,5 segundos, enquanto o modelo de Regressão Logística levou mais de 43 segundos. Essa diferença pode ser crítica em bases de dados maiores ou quando for necessário um maior número de execuções."
      ]
    },
    {
      "cell_type": "markdown",
      "metadata": {
        "id": "EZ3xPK40X5tz"
      },
      "source": [
        "#### **Desafio - Estudar a Documentação do `sklearn` e Testar Outros Modelos**\n",
        "---"
      ]
    },
    {
      "cell_type": "markdown",
      "metadata": {
        "id": "ca-QtMIhvTGP"
      },
      "source": [
        "Identifiquei na documentação do **```sklearn```** outros dois tipos de modelos que poderíamos aplicar ao nosso problema, o **SVC** (*Support Vector Classification*) e o **Random Forest Classifier**."
      ]
    },
    {
      "cell_type": "code",
      "metadata": {
        "id": "KM4fK4Q2d8Qj"
      },
      "source": [
        "from sklearn.svm import SVC"
      ],
      "execution_count": 32,
      "outputs": []
    },
    {
      "cell_type": "code",
      "metadata": {
        "id": "Gfxc8mmej2ay"
      },
      "source": [
        "mod_svc_linear = SVC(kernel = 'linear', probability = True)\n",
        "\n",
        "mod_svc_quadrado = SVC(kernel = 'poly', degree = 2, probability = True)\n",
        "\n",
        "mod_svc_5 = SVC(kernel = 'poly', degree = 5, probability = True)"
      ],
      "execution_count": 33,
      "outputs": []
    },
    {
      "cell_type": "code",
      "metadata": {
        "colab": {
          "base_uri": "https://localhost:8080/"
        },
        "id": "NT1dVCVVlHU7",
        "outputId": "5d08b709-6ef5-4c80-e463-127df52161f0"
      },
      "source": [
        "roda_n_modelos(mod_svc_linear, dados_limpos, 5)\n",
        "\n",
        "#roda_n_modelos(mod_svc_linear, dados_limpos, 50)"
      ],
      "execution_count": 34,
      "outputs": [
        {
          "output_type": "stream",
          "text": [
            "Resultados após 5 execuções\n",
            "AUC Médio 0.7558380902957965\n",
            "Intervalo 0.6239358952256842 a 0.8877402853659089\n",
            "Range     0.1319021950701123\n"
          ],
          "name": "stdout"
        }
      ]
    },
    {
      "cell_type": "markdown",
      "metadata": {
        "id": "RVDlw3Gju1GL"
      },
      "source": [
        "**Imagem do Resultado Obtido com 50 Execuções**\n",
        "\n",
        "![image.png](data:image/png;base64,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)"
      ]
    },
    {
      "cell_type": "code",
      "metadata": {
        "colab": {
          "base_uri": "https://localhost:8080/"
        },
        "id": "w_CINg9klkYx",
        "outputId": "96e56d14-206d-43b1-df4e-ae5977910513"
      },
      "source": [
        "#roda_n_modelos(mod_svc_quadrado, dados_limpos, 5)\n",
        "\n",
        "roda_n_modelos(mod_svc_quadrado, dados_limpos, 50)"
      ],
      "execution_count": 35,
      "outputs": [
        {
          "output_type": "stream",
          "text": [
            "Resultados após 50 execuções\n",
            "AUC Médio 0.4321224701608719\n",
            "Intervalo 0.07755744290085831 a 0.7866874974208855\n",
            "Range     0.3545650272600136\n"
          ],
          "name": "stdout"
        }
      ]
    },
    {
      "cell_type": "code",
      "metadata": {
        "colab": {
          "base_uri": "https://localhost:8080/"
        },
        "id": "dA4CrBdKlpI0",
        "outputId": "83835b45-c87e-4601-8e65-95d99ea07dbd"
      },
      "source": [
        "#roda_n_modelos(mod_svc_5, dados_limpos, 5)\n",
        "\n",
        "roda_n_modelos(mod_svc_5, dados_limpos, 50)"
      ],
      "execution_count": 36,
      "outputs": [
        {
          "output_type": "stream",
          "text": [
            "Resultados após 50 execuções\n",
            "AUC Médio 0.4190088220031136\n",
            "Intervalo 0.08037757513170929 a 0.757640068874518\n",
            "Range     0.33863124687140433\n"
          ],
          "name": "stdout"
        }
      ]
    },
    {
      "cell_type": "markdown",
      "metadata": {
        "id": "ek69T_Cov4sP"
      },
      "source": [
        "O modelo **SVC** apresentou um desempenho fraco de maneira geral. Apesar do **SVC Linear** ter chegado a resultados semelhantes ao da Regressão Logística, levou mais de 7 minutos sendo executado. Inclusive reduzi para execução de apenas 5 vezes, para quando for necessário rodar todo o notebook novamente.\n",
        "\n",
        "As variações (**SVC Quadrático** e **SVC Polinomial Grau 5**) foram de execução mais rápida mas apresentaram resultados inferiores a 50% com alto desvio padrão."
      ]
    },
    {
      "cell_type": "code",
      "metadata": {
        "id": "axzDm3Cjl0VD"
      },
      "source": [
        "from sklearn.ensemble import RandomForestClassifier"
      ],
      "execution_count": 37,
      "outputs": []
    },
    {
      "cell_type": "code",
      "metadata": {
        "id": "NncqXFNVl9i2"
      },
      "source": [
        "mod_RFC = RandomForestClassifier()"
      ],
      "execution_count": 38,
      "outputs": []
    },
    {
      "cell_type": "code",
      "metadata": {
        "colab": {
          "base_uri": "https://localhost:8080/"
        },
        "id": "PQ6eTieCmgmj",
        "outputId": "c0e22b54-63c5-421e-8ee1-32f178c965ae"
      },
      "source": [
        "roda_n_modelos(mod_RFC, dados_limpos, 100)"
      ],
      "execution_count": 39,
      "outputs": [
        {
          "output_type": "stream",
          "text": [
            "Resultados após 100 execuções\n",
            "AUC Médio 0.7861261027503892\n",
            "Intervalo 0.7042545924155176 a 0.8679976130852608\n",
            "Range     0.08187151033487158\n"
          ],
          "name": "stdout"
        }
      ]
    },
    {
      "cell_type": "markdown",
      "metadata": {
        "id": "s9Mzg-w3wy5Z"
      },
      "source": [
        "Considero que o ***Random Forest Classifier*** apresentou um bom desempenho, tanto em termos de tempo de execução quanto em termos de **AUC** encontrado.\n",
        "\n",
        "Até agora, foi o melhor desempenho obtido."
      ]
    },
    {
      "cell_type": "code",
      "metadata": {
        "id": "8nJLbhBmxf8Y"
      },
      "source": [
        "mod_svc_linear_b = SVC(kernel = 'linear', probability = True, C = 0.025)\n",
        "\n",
        "mod_svc_5b = SVC(kernel = 'poly', degree = 3, probability = True, gamma = 2, C = 0.025)\n",
        "\n",
        "#mod_svc_5b = SVC(kernel = 'poly', degree = 3, probability = True, gamma = 2, C = 1)"
      ],
      "execution_count": 40,
      "outputs": []
    },
    {
      "cell_type": "code",
      "metadata": {
        "colab": {
          "base_uri": "https://localhost:8080/"
        },
        "id": "JrfuC1qix1qE",
        "outputId": "094ac6af-74bc-411a-e2a8-5c7983eb3d60"
      },
      "source": [
        "roda_n_modelos(mod_svc_linear_b, dados_limpos, 50)"
      ],
      "execution_count": 41,
      "outputs": [
        {
          "output_type": "stream",
          "text": [
            "Resultados após 50 execuções\n",
            "AUC Médio 0.7759885832900882\n",
            "Intervalo 0.6921398883429932 a 0.8598372782371833\n",
            "Range     0.08384869494709503\n"
          ],
          "name": "stdout"
        }
      ]
    },
    {
      "cell_type": "code",
      "metadata": {
        "id": "3g6dGkd_x7Uo"
      },
      "source": [
        "#roda_n_modelos(mod_svc_5b, dados_limpos, 2)"
      ],
      "execution_count": 42,
      "outputs": []
    },
    {
      "cell_type": "markdown",
      "metadata": {
        "id": "JAlKOXMyzo79"
      },
      "source": [
        "Olhando nos exemplos da documentação do **SVC** eu vi esses parâmetros alterados para os modelos linear (`C`) e polinomial (`C` e `gamma`) e resolvi testar mais essas duas parametrizações.\n",
        "\n",
        "O modelo linear trouxe praticamente os mesmos resultados de **AUC** em apenas 11 segundos (contra os mais de 7 minutos anteriormente).\n",
        "\n",
        "Já o modelo polinomial, com esses parâmetros, não rodou. Tentei reduzir para rodar apenas 2 vezes e mesmo assim ele atingia o tempo limite de conexão e me derrubava do **Colab**. Não vou conseguir testar esse modelo."
      ]
    },
    {
      "cell_type": "markdown",
      "metadata": {
        "id": "CbrMV98lY0oE"
      },
      "source": [
        "### **O que aprendemos nessa aula?**\n",
        "---\n",
        "\n",
        ">* Como criar uma função para treinar N vezes seu modelo;\n",
        ">\n",
        ">* Como a aleatoriedade interfere na sua escolha;\n",
        ">\n",
        ">* Cálculo do intervalo mínimo e máximo para a métrica **AUC**;\n",
        ">\n",
        ">* Como reduzir o efeito de aleatoriedade na tomada de decisão.\n",
        "\n",
        "---\n"
      ]
    },
    {
      "cell_type": "markdown",
      "metadata": {
        "id": "krFT-aEVy4qF"
      },
      "source": [
        "## **Aula 04 - Validação Cruzada**\n",
        "---\n"
      ]
    },
    {
      "cell_type": "markdown",
      "metadata": {
        "id": "NxNfGyPm0S2X"
      },
      "source": [
        "Nessa aula vamos retomar a estratégia da validação cruzada que vimos no módulo 03. Nela nós separamos o nosso *dataset* em diversos pedaços e repetimos o *fit* do modelo diversas vezes, alternando os pedaços que usamos para teste, como podemos ver na figura abaixo.\n",
        "\n",
        "<img src='https://drive.google.com/uc?id=1mx-L_8WfwNYRKea5hWS8-LWQqfXrP91X' width='500px' height='300px'>\n",
        "\n",
        "No exemplo, a base de dados é dividida em 5 blocos e, a cada execução, o bloco em cinza é usado para testes, obtendo acurácias diferentes. O resultado do modelo será a média das acurácias obtidas."
      ]
    },
    {
      "cell_type": "code",
      "metadata": {
        "id": "y2qKmlOd1yRt"
      },
      "source": [
        "from sklearn.model_selection import cross_validate\n",
        "from sklearn.model_selection import StratifiedKFold"
      ],
      "execution_count": 43,
      "outputs": []
    },
    {
      "cell_type": "code",
      "metadata": {
        "colab": {
          "base_uri": "https://localhost:8080/"
        },
        "id": "WCEk0tjl12je",
        "outputId": "ea067fee-a3d8-4306-c6a9-79e70dd550dd"
      },
      "source": [
        "cv = StratifiedKFold(n_splits = 5, shuffle = True)\n",
        "\n",
        "result = cross_validate(modelo, x, y, cv = cv)\n",
        "result"
      ],
      "execution_count": 44,
      "outputs": [
        {
          "output_type": "execute_result",
          "data": {
            "text/plain": [
              "{'fit_time': array([0.19399142, 0.60844517, 0.52904177, 0.46822214, 0.50854588]),\n",
              " 'score_time': array([0.00215507, 0.00212312, 0.00212455, 0.00212145, 0.00213742]),\n",
              " 'test_score': array([0.70422535, 0.74647887, 0.7       , 0.74285714, 0.68571429])}"
            ]
          },
          "metadata": {
            "tags": []
          },
          "execution_count": 44
        }
      ]
    },
    {
      "cell_type": "code",
      "metadata": {
        "colab": {
          "base_uri": "https://localhost:8080/"
        },
        "id": "jD8rRMac6-SL",
        "outputId": "fdffc689-928e-4e9a-c4b6-f39f193fd802"
      },
      "source": [
        "cv = StratifiedKFold(n_splits = 5, shuffle = True)\n",
        "\n",
        "result = cross_validate(modelo_arvore, x, y, cv = cv)\n",
        "result"
      ],
      "execution_count": 45,
      "outputs": [
        {
          "output_type": "execute_result",
          "data": {
            "text/plain": [
              "{'fit_time': array([0.02831101, 0.02615476, 0.02589297, 0.02432323, 0.01709604]),\n",
              " 'score_time': array([0.00190139, 0.00182128, 0.00178909, 0.00121546, 0.00117683]),\n",
              " 'test_score': array([0.46478873, 0.61971831, 0.62857143, 0.65714286, 0.58571429])}"
            ]
          },
          "metadata": {
            "tags": []
          },
          "execution_count": 45
        }
      ]
    },
    {
      "cell_type": "code",
      "metadata": {
        "id": "-Ndlb_Tz7tEH"
      },
      "source": [
        "from sklearn.model_selection import RepeatedStratifiedKFold"
      ],
      "execution_count": 46,
      "outputs": []
    },
    {
      "cell_type": "code",
      "metadata": {
        "id": "hUXgpL5S7xXU",
        "colab": {
          "base_uri": "https://localhost:8080/"
        },
        "outputId": "6d78a4f0-27a8-41f8-d8f8-6393267b9ec1"
      },
      "source": [
        "cv = RepeatedStratifiedKFold(n_splits = 5, n_repeats = 10)\n",
        "\n",
        "result = cross_validate(modelo, x, y, cv = cv)\n",
        "result"
      ],
      "execution_count": 47,
      "outputs": [
        {
          "output_type": "execute_result",
          "data": {
            "text/plain": [
              "{'fit_time': array([0.61707425, 0.5097785 , 0.58063769, 0.27139878, 0.23765278,\n",
              "        0.13864207, 0.47961116, 0.49119329, 0.56550312, 0.43275928,\n",
              "        0.54978752, 0.55624771, 0.17558503, 0.53327131, 0.50319123,\n",
              "        0.52230191, 0.58933282, 0.25411367, 0.5851593 , 0.52120233,\n",
              "        0.1550703 , 0.54764771, 0.5055635 , 0.24653506, 0.50867677,\n",
              "        0.66844559, 0.18199086, 0.47042346, 0.54405904, 0.63929558,\n",
              "        0.17560291, 0.49385524, 0.5219965 , 0.55471301, 0.48780227,\n",
              "        0.50622296, 0.2615397 , 0.21615744, 0.19315052, 0.22302818,\n",
              "        0.54567146, 0.21919847, 0.20917749, 0.52199149, 0.17451239,\n",
              "        0.53180122, 0.52549815, 0.58402491, 0.2510848 , 0.54513812]),\n",
              " 'score_time': array([0.00214934, 0.00212359, 0.00211835, 0.00210142, 0.00212288,\n",
              "        0.00196075, 0.00211048, 0.00209284, 0.01014185, 0.00214887,\n",
              "        0.00213456, 0.00213861, 0.00206685, 0.00215983, 0.00212741,\n",
              "        0.00214911, 0.00215554, 0.00212288, 0.00212526, 0.00214624,\n",
              "        0.00211906, 0.00213552, 0.00214291, 0.00209451, 0.00520468,\n",
              "        0.00213075, 0.00206089, 0.00210595, 0.00212741, 0.00214529,\n",
              "        0.00208855, 0.00213385, 0.00213218, 0.00209451, 0.00213456,\n",
              "        0.00215793, 0.00213194, 0.00217032, 0.00211167, 0.00207376,\n",
              "        0.00215268, 0.00201297, 0.00209785, 0.00211358, 0.0019989 ,\n",
              "        0.00214529, 0.00212145, 0.00213838, 0.00209141, 0.00214314]),\n",
              " 'test_score': array([0.67605634, 0.69014085, 0.75714286, 0.74285714, 0.78571429,\n",
              "        0.77464789, 0.69014085, 0.72857143, 0.7       , 0.71428571,\n",
              "        0.69014085, 0.66197183, 0.77142857, 0.64285714, 0.7       ,\n",
              "        0.77464789, 0.70422535, 0.74285714, 0.62857143, 0.62857143,\n",
              "        0.66197183, 0.73239437, 0.74285714, 0.72857143, 0.77142857,\n",
              "        0.76056338, 0.64788732, 0.68571429, 0.8       , 0.68571429,\n",
              "        0.64788732, 0.74647887, 0.8       , 0.72857143, 0.74285714,\n",
              "        0.67605634, 0.74647887, 0.7       , 0.81428571, 0.62857143,\n",
              "        0.70422535, 0.67605634, 0.81428571, 0.7       , 0.67142857,\n",
              "        0.73239437, 0.64788732, 0.72857143, 0.7       , 0.71428571])}"
            ]
          },
          "metadata": {
            "tags": []
          },
          "execution_count": 47
        }
      ]
    },
    {
      "cell_type": "code",
      "metadata": {
        "colab": {
          "base_uri": "https://localhost:8080/"
        },
        "id": "JZVA9CL08SOZ",
        "outputId": "4cfd6662-781f-44c9-d0e0-52b1a16a435b"
      },
      "source": [
        "result['test_score'].std()"
      ],
      "execution_count": 48,
      "outputs": [
        {
          "output_type": "execute_result",
          "data": {
            "text/plain": [
              "0.04920465096515651"
            ]
          },
          "metadata": {
            "tags": []
          },
          "execution_count": 48
        }
      ]
    },
    {
      "cell_type": "code",
      "metadata": {
        "id": "ccO3G6Eb8vNB"
      },
      "source": [
        "def roda_modelo_cv(modelo, dados, n_splits, n_repeats):\n",
        "\n",
        "    np.random.seed(1231234)\n",
        "\n",
        "    dados = dados.sample(frac = 1).reset_index(drop = True)\n",
        "    x_columns = dados.columns\n",
        "    y = dados['ICU']\n",
        "    x = dados[x_columns].drop(['ICU','WINDOW'], axis=1)\n",
        "    \n",
        "    cv = RepeatedStratifiedKFold(n_splits = n_splits, n_repeats = n_repeats)\n",
        "    result = cross_validate(modelo, x, y, cv = cv, scoring = 'roc_auc')\n",
        "\n",
        "    auc_medio = result['test_score'].mean()\n",
        "    auc_std = result['test_score'].std()\n",
        "\n",
        "    print(f'AUC Médio {auc_medio}')\n",
        "    print(f'Intervalo {auc_medio - 2 * auc_std} a {auc_medio + 2 * auc_std}')\n",
        "    print(f'Range     {2 * auc_std}')"
      ],
      "execution_count": 49,
      "outputs": []
    },
    {
      "cell_type": "code",
      "metadata": {
        "colab": {
          "base_uri": "https://localhost:8080/"
        },
        "id": "mz-pLi2z-VzM",
        "outputId": "6a373d57-3700-4e27-f7c2-66d7b4182a1b"
      },
      "source": [
        "roda_modelo_cv(modelo, dados_limpos, 5, 10)"
      ],
      "execution_count": 50,
      "outputs": [
        {
          "output_type": "stream",
          "text": [
            "AUC Médio 0.757641695223932\n",
            "Intervalo 0.6355431542339184 a 0.8797402362139456\n",
            "Range     0.12209854099001365\n"
          ],
          "name": "stdout"
        }
      ]
    },
    {
      "cell_type": "code",
      "metadata": {
        "colab": {
          "base_uri": "https://localhost:8080/"
        },
        "id": "E29TWExCATdq",
        "outputId": "923ab3ee-8d2a-4ad5-e88b-678ae2ca3e35"
      },
      "source": [
        "roda_modelo_cv(modelo_arvore, dados_limpos, 5, 10)"
      ],
      "execution_count": 51,
      "outputs": [
        {
          "output_type": "stream",
          "text": [
            "AUC Médio 0.6279279683391525\n",
            "Intervalo 0.4988394445682657 a 0.7570164921100394\n",
            "Range     0.12908852377088686\n"
          ],
          "name": "stdout"
        }
      ]
    },
    {
      "cell_type": "code",
      "metadata": {
        "colab": {
          "base_uri": "https://localhost:8080/"
        },
        "id": "D7Qim_4zAeRp",
        "outputId": "046a1dfb-9504-4b4f-c243-c133d46799e4"
      },
      "source": [
        "roda_modelo_cv(mod_RFC, dados_limpos, 5, 10)"
      ],
      "execution_count": 52,
      "outputs": [
        {
          "output_type": "stream",
          "text": [
            "AUC Médio 0.7939557739557739\n",
            "Intervalo 0.7055497813730257 a 0.882361766538522\n",
            "Range     0.08840599258274821\n"
          ],
          "name": "stdout"
        }
      ]
    },
    {
      "cell_type": "markdown",
      "metadata": {
        "id": "I4XH4VpS5ZaW"
      },
      "source": [
        "#### **Desafio - Testar Outras `splitter_classes` e Observar as Diferenças**\n",
        "---\n"
      ]
    },
    {
      "cell_type": "markdown",
      "metadata": {
        "id": "2zqf2nIrwTU1"
      },
      "source": [
        "##### ***StratifiedShuffleSplit***\n",
        "---\n"
      ]
    },
    {
      "cell_type": "code",
      "metadata": {
        "id": "Njbe2spu2tgx"
      },
      "source": [
        "from sklearn.model_selection import StratifiedShuffleSplit"
      ],
      "execution_count": 53,
      "outputs": []
    },
    {
      "cell_type": "code",
      "metadata": {
        "colab": {
          "base_uri": "https://localhost:8080/"
        },
        "id": "iIBzP5wa5Cww",
        "outputId": "42085b3f-1e79-4055-a18a-5752b4d87f8f"
      },
      "source": [
        "cv = StratifiedShuffleSplit(n_splits = 5)\n",
        "\n",
        "result = cross_validate(modelo, x, y, cv = cv, scoring = 'roc_auc')\n",
        "auc_medio = result['test_score'].mean()\n",
        "auc_std = result['test_score'].std()\n",
        "\n",
        "print(f'AUC Médio {auc_medio}')\n",
        "print(f'Intervalo {auc_medio - 2 * auc_std} a {auc_medio + 2 * auc_std}')\n",
        "print(f'Range     {2 * auc_std}')"
      ],
      "execution_count": 54,
      "outputs": [
        {
          "output_type": "stream",
          "text": [
            "AUC Médio 0.8334365325077397\n",
            "Intervalo 0.7122640011651014 a 0.9546090638503781\n",
            "Range     0.12117253134263843\n"
          ],
          "name": "stdout"
        }
      ]
    },
    {
      "cell_type": "code",
      "metadata": {
        "colab": {
          "base_uri": "https://localhost:8080/"
        },
        "id": "mWW3QoLY5RFK",
        "outputId": "351f8236-386e-4c10-e9ca-94325342ce9b"
      },
      "source": [
        "cv = StratifiedShuffleSplit(n_splits = 5)\n",
        "\n",
        "result = cross_validate(modelo_arvore, x, y, cv = cv, scoring = 'roc_auc')\n",
        "auc_medio = result['test_score'].mean()\n",
        "auc_std = result['test_score'].std()\n",
        "\n",
        "print(f'AUC Médio {auc_medio}')\n",
        "print(f'Intervalo {auc_medio - 2 * auc_std} a {auc_medio + 2 * auc_std}')\n",
        "print(f'Range     {2 * auc_std}')"
      ],
      "execution_count": 55,
      "outputs": [
        {
          "output_type": "stream",
          "text": [
            "AUC Médio 0.609907120743034\n",
            "Intervalo 0.44510349975087904 a 0.774710741735189\n",
            "Range     0.16480362099215498\n"
          ],
          "name": "stdout"
        }
      ]
    },
    {
      "cell_type": "markdown",
      "metadata": {
        "id": "zmciUJPgBcvQ"
      },
      "source": [
        "### **O que aprendemos nessa aula?**\n",
        "---\n",
        "\n",
        ">* O que é Validação Cruzada;\n",
        ">\n",
        ">* Como usar a Validação Cruzada do **`Sci-Kit Learn`**;\n",
        ">\n",
        ">* Qual Validação Cruzada usar no nosso caso de estudo.\n",
        "\n",
        "---\n"
      ]
    },
    {
      "cell_type": "markdown",
      "metadata": {
        "id": "_dJq0m0Hfk1b"
      },
      "source": [
        "## **Aula 05 - Desafios em** ***Machine Learning***\n",
        "---\n"
      ]
    },
    {
      "cell_type": "markdown",
      "metadata": {
        "id": "8gmJ7nXFhUE5"
      },
      "source": [
        "Um dos pontos a ser analisado nessa aula é o *overfitting*, em que o modelo fica muito bem adaptado aos dados de treino mas não consegue fazer um bom trabalho de previsão para dados novos.\n",
        "\n",
        "Vamos alterar alguns parâmetros do nosso modelo de Árvore de Decisão, consultando a documentação.\n",
        "[***Decision Tree***](https://scikit-learn.org/stable/modules/tree.html)\n",
        "\n",
        "Um dos primeiros parâmetros que pode ser alterado é o **`max_depth`**, que determina a profundidade máxima que nossa árvore vai atingir."
      ]
    },
    {
      "cell_type": "code",
      "metadata": {
        "id": "ojxyZQ5Qk8ql"
      },
      "source": [
        "modelo_arvore_d3 = DecisionTreeClassifier(max_depth=3)\n",
        "modelo_arvore_d4 = DecisionTreeClassifier(max_depth=4)\n",
        "modelo_arvore_d5 = DecisionTreeClassifier(max_depth=5)\n",
        "modelo_arvore_d6 = DecisionTreeClassifier(max_depth=6)"
      ],
      "execution_count": 56,
      "outputs": []
    },
    {
      "cell_type": "code",
      "metadata": {
        "colab": {
          "base_uri": "https://localhost:8080/"
        },
        "id": "6wTQmsxOlNH7",
        "outputId": "594ecfdd-28e4-4c81-b133-d1fe19fa7622"
      },
      "source": [
        "print('\\nModelo Árvore - Depth = 3')\n",
        "roda_modelo_cv(modelo_arvore_d3, dados_limpos, 5, 10)\n",
        "print('\\nModelo Árvore - Depth = 4')\n",
        "roda_modelo_cv(modelo_arvore_d4, dados_limpos, 5, 10)\n",
        "print('\\nModelo Árvore - Depth = 5')\n",
        "roda_modelo_cv(modelo_arvore_d5, dados_limpos, 5, 10)\n",
        "print('\\nModelo Árvore - Depth = 6')\n",
        "roda_modelo_cv(modelo_arvore_d6, dados_limpos, 5, 10)"
      ],
      "execution_count": 57,
      "outputs": [
        {
          "output_type": "stream",
          "text": [
            "\n",
            "Modelo Árvore - Depth = 3\n",
            "AUC Médio 0.6643847795163584\n",
            "Intervalo 0.5408496038380549 a 0.787919955194662\n",
            "Range     0.1235351756783035\n",
            "\n",
            "Modelo Árvore - Depth = 4\n",
            "AUC Médio 0.6554932930837536\n",
            "Intervalo 0.5297661979528577 a 0.7812203882146495\n",
            "Range     0.1257270951308959\n",
            "\n",
            "Modelo Árvore - Depth = 5\n",
            "AUC Médio 0.6475058192163456\n",
            "Intervalo 0.5011322213480258 a 0.7938794170846655\n",
            "Range     0.14637359786831977\n",
            "\n",
            "Modelo Árvore - Depth = 6\n",
            "AUC Médio 0.6239047951959137\n",
            "Intervalo 0.46637314891829074 a 0.7814364414735366\n",
            "Range     0.15753164627762292\n"
          ],
          "name": "stdout"
        }
      ]
    },
    {
      "cell_type": "markdown",
      "metadata": {
        "id": "pt7V9nnFli81"
      },
      "source": [
        "Podemos ver que, após uma melhora inicial em relação ao modelo em que não havíamos passado o parâmetro, a partir de **`max_depth = 5`** a acurácia volta a cair...\n",
        "\n",
        "Vamos alterar nossa função **`roda_modelo_cv`** para nos fornecer também o **AUC** dos dados de treinamento, para entender melhor o comportamento dos modelos."
      ]
    },
    {
      "cell_type": "code",
      "metadata": {
        "id": "OshwxZkBmPDi"
      },
      "source": [
        "def roda_modelo_cv_v2(modelo, dados, n_splits, n_repeats):\n",
        "\n",
        "    np.random.seed(1231234)\n",
        "\n",
        "    dados = dados.sample(frac = 1).reset_index(drop = True)\n",
        "    x_columns = dados.columns\n",
        "    y = dados['ICU']\n",
        "    x = dados[x_columns].drop(['ICU','WINDOW'], axis=1)\n",
        "    \n",
        "    cv = RepeatedStratifiedKFold(n_splits = n_splits, n_repeats = n_repeats)\n",
        "    result = cross_validate(modelo, x, y, cv = cv, scoring = 'roc_auc', return_train_score = True)\n",
        "\n",
        "    auc_medio = result['test_score'].mean()\n",
        "    auc_medio_treino = result['train_score'].mean()\n",
        "    auc_std = result['test_score'].std()\n",
        "    auc_std_treino = result['train_score'].std()\n",
        "\n",
        "    print(f'==AUC Médio {auc_medio}')\n",
        "    print(f'==Intervalo {auc_medio - 2 * auc_std} a {auc_medio + 2 * auc_std}')\n",
        "    print(f'==Range     {2 * auc_std}')\n",
        "    print(f'\\n===AUC Médio de Treino {auc_medio_treino}')\n",
        "    print(f'===Intervalo {auc_medio_treino - 2 * auc_std_treino} a {auc_medio_treino + 2 * auc_std_treino}')\n",
        "    print(f'===Range     {2 * auc_std_treino}')"
      ],
      "execution_count": 58,
      "outputs": []
    },
    {
      "cell_type": "code",
      "metadata": {
        "colab": {
          "base_uri": "https://localhost:8080/"
        },
        "id": "39T2EYkknEQh",
        "outputId": "9679a3d0-237d-4431-e07d-93cde559f034"
      },
      "source": [
        "print('\\nModelo Árvore - Depth = 3')\n",
        "roda_modelo_cv_v2(modelo_arvore_d3, dados_limpos, 5, 10)\n",
        "print('\\nModelo Árvore - Depth = 4')\n",
        "roda_modelo_cv_v2(modelo_arvore_d4, dados_limpos, 5, 10)\n",
        "print('\\nModelo Árvore - Depth = 5')\n",
        "roda_modelo_cv_v2(modelo_arvore_d5, dados_limpos, 5, 10)\n",
        "print('\\nModelo Árvore - Depth = 6')\n",
        "roda_modelo_cv_v2(modelo_arvore_d6, dados_limpos, 5, 10)"
      ],
      "execution_count": 59,
      "outputs": [
        {
          "output_type": "stream",
          "text": [
            "\n",
            "Modelo Árvore - Depth = 3\n",
            "==AUC Médio 0.6643847795163584\n",
            "==Intervalo 0.5408496038380549 a 0.787919955194662\n",
            "==Range     0.1235351756783035\n",
            "\n",
            "===AUC Médio de Treino 0.8243714304989842\n",
            "===Intervalo 0.7927219045021597 a 0.8560209564958087\n",
            "===Range     0.031649525996824475\n",
            "\n",
            "Modelo Árvore - Depth = 4\n",
            "==AUC Médio 0.6554932930837536\n",
            "==Intervalo 0.5297661979528577 a 0.7812203882146495\n",
            "==Range     0.1257270951308959\n",
            "\n",
            "===AUC Médio de Treino 0.8832038893699776\n",
            "===Intervalo 0.8487939503147206 a 0.9176138284252346\n",
            "===Range     0.03440993905525705\n",
            "\n",
            "Modelo Árvore - Depth = 5\n",
            "==AUC Médio 0.6475058192163456\n",
            "==Intervalo 0.5011322213480258 a 0.7938794170846655\n",
            "==Range     0.14637359786831977\n",
            "\n",
            "===AUC Médio de Treino 0.9275331115338461\n",
            "===Intervalo 0.8963003095675415 a 0.9587659135001507\n",
            "===Range     0.031232801966304676\n",
            "\n",
            "Modelo Árvore - Depth = 6\n",
            "==AUC Médio 0.6239047951959137\n",
            "==Intervalo 0.46637314891829074 a 0.7814364414735366\n",
            "==Range     0.15753164627762292\n",
            "\n",
            "===AUC Médio de Treino 0.9567921210944048\n",
            "===Intervalo 0.9299022025208 a 0.9836820396680096\n",
            "===Range     0.02688991857360474\n"
          ],
          "name": "stdout"
        }
      ]
    },
    {
      "cell_type": "markdown",
      "metadata": {
        "id": "JRfOsOpEqBk9"
      },
      "source": [
        "Podemos ver que o **AUC** de nossos dados de treino vão aumentando cada vez mais, enquanto o **AUC** geral do modelo começa a cair.\n",
        "\n",
        "Isso é um indicativo de ***overfitting***, ou seja, nosso modelo está ficando extremamente aderente aos dados de treino, mas com isso reduz a possibilidade de fazer previsões para os dados de teste e dados futuros.\n",
        "\n",
        "Vamos fazer uma iteração para rodar o modelo com várias profundidades e plotar os resultados de **AUC**."
      ]
    },
    {
      "cell_type": "code",
      "metadata": {
        "id": "Pr-ZxppHnbx5"
      },
      "source": [
        "def roda_modelo_cv_v3(modelo, dados, n_splits, n_repeats):\n",
        "\n",
        "    np.random.seed(1231234)\n",
        "\n",
        "    dados = dados.sample(frac = 1).reset_index(drop = True)\n",
        "    x_columns = dados.columns\n",
        "    y = dados['ICU']\n",
        "    x = dados[x_columns].drop(['ICU','WINDOW'], axis=1)\n",
        "    \n",
        "    cv = RepeatedStratifiedKFold(n_splits = n_splits, n_repeats = n_repeats)\n",
        "    result = cross_validate(modelo, x, y, cv = cv, scoring = 'roc_auc', return_train_score = True)\n",
        "\n",
        "    auc_medio = result['test_score'].mean()\n",
        "    auc_medio_treino = result['train_score'].mean()\n",
        "\n",
        "    return auc_medio, auc_medio_treino"
      ],
      "execution_count": 60,
      "outputs": []
    },
    {
      "cell_type": "code",
      "metadata": {
        "id": "Rdn0Gm4QurgC"
      },
      "source": [
        "teste_lista = []\n",
        "treino_lista = []\n",
        "\n",
        "for i in range(1,15):\n",
        "    modelo_arvore_i = DecisionTreeClassifier(max_depth=i)\n",
        "    teste, treino = roda_modelo_cv_v3(modelo_arvore_i, dados_limpos, 5, 10)\n",
        "    teste_lista.append(teste)\n",
        "    treino_lista.append(treino)"
      ],
      "execution_count": 61,
      "outputs": []
    },
    {
      "cell_type": "code",
      "metadata": {
        "colab": {
          "base_uri": "https://localhost:8080/",
          "height": 282
        },
        "id": "FAclllNFvZC2",
        "outputId": "46a598bf-0757-431e-c64e-71d635d8bc7c"
      },
      "source": [
        "x = range(1,15)\n",
        "plt.plot(x, teste_lista, color = 'darkblue', lw = 2)\n",
        "plt.plot(x, treino_lista, color = 'orange', lw = 2)"
      ],
      "execution_count": 62,
      "outputs": [
        {
          "output_type": "execute_result",
          "data": {
            "text/plain": [
              "[<matplotlib.lines.Line2D at 0x7f47c08f10d0>]"
            ]
          },
          "metadata": {
            "tags": []
          },
          "execution_count": 62
        },
        {
          "output_type": "display_data",
          "data": {
            "image/png": "[encoded data removed]",
            "text/plain": [
              "<Figure size 432x288 with 1 Axes>"
            ]
          },
          "metadata": {
            "tags": [],
            "needs_background": "light"
          }
        }
      ]
    },
    {
      "cell_type": "markdown",
      "metadata": {
        "id": "1VdVK32uwuRx"
      },
      "source": [
        "Podemos ver que a linha laranja, que representa o **AUC** dos nossos dadso de treino se aproxima rapidamente dos 100%. Enquanto isso, a performance do modelo com os dados de teste cai. Isso não ocorre na mesma proporção, mas mostra a piora do modelo de predição.\n",
        "\n",
        "Nesse caso, temos ***overfitting***."
      ]
    },
    {
      "cell_type": "markdown",
      "metadata": {
        "id": "6BnyhASAxKDp"
      },
      "source": [
        "#### **Desafio - Deixar o Gráfico Bonitão**\n",
        "---\n"
      ]
    },
    {
      "cell_type": "code",
      "metadata": {
        "colab": {
          "base_uri": "https://localhost:8080/",
          "height": 436
        },
        "id": "_zQRxvewrTf1",
        "outputId": "eaf22caf-6fac-4b10-f4f3-c07a26b6764c"
      },
      "source": [
        "import matplotlib.ticker as ticker\n",
        "\n",
        "fig, ax = plt.subplots(figsize=(12,6))\n",
        "\n",
        "plt.suptitle('Comparação AUC Médio Previsão x Treino - Decision Tree', fontsize = 25, fontweight='bold')\n",
        "plt.plot(x, teste_lista, color = 'darkblue', lw = 2, label='Dados de Teste')\n",
        "plt.plot(x, treino_lista, color = 'orange', lw = 2, label='Dados de Treino')\n",
        "\n",
        "plt.xlabel('Nº de Iterações',\n",
        "             fontsize=15, fontweight = 'bold')\n",
        "plt.ylabel('AUC Médio',\n",
        "             fontsize=15, fontweight = 'bold')\n",
        "ax.yaxis.set_major_formatter(ticker.StrMethodFormatter('{x:,.00%}'))\n",
        "plt.legend(fontsize = 15, loc='upper right',bbox_to_anchor=(1.3, 1))\n",
        "plt.ylim(0,1.1)\n",
        "ax.xaxis.set_major_locator(ticker.MultipleLocator(1))\n",
        "plt.show()"
      ],
      "execution_count": 63,
      "outputs": [
        {
          "output_type": "display_data",
          "data": {
            "image/png": "[encoded data removed]",
            "text/plain": [
              "<Figure size 864x432 with 1 Axes>"
            ]
          },
          "metadata": {
            "tags": [],
            "needs_background": "light"
          }
        }
      ]
    },
    {
      "cell_type": "markdown",
      "metadata": {
        "id": "sHoRCDqJxlCo"
      },
      "source": [
        "#### **Desafio - Criar Forçadamente um *Overfit* com Outra Base de Dados e Outro Modelo de *Machine Learning*, Plotar Gráficos e Analisar**\n",
        "---\n",
        "\n",
        "Sugestão: Base de Dados Titanic do ***Kaggle***"
      ]
    },
    {
      "cell_type": "markdown",
      "metadata": {
        "id": "pj3Y_V8zxlIN"
      },
      "source": [
        "#### **Desafio - Estudar Mais Sobre *Overfit* e *Underfit***\n",
        "---\n"
      ]
    },
    {
      "cell_type": "markdown",
      "metadata": {
        "id": "UiuOPGuGYRyo"
      },
      "source": [
        "Li alguns artigos a respeito, seguem os *links* abaixo.\n",
        "\n",
        "[IBM.com](https://www.ibm.com/cloud/learn/underfitting)\n",
        "\n",
        "[Geeks For Geeks](https://www.geeksforgeeks.org/underfitting-and-overfitting-in-machine-learning/)\n",
        "\n",
        "[Medium - ITBodhi](https://medium.com/@itbodhi/overfitting-and-underfitting-in-machine-learning-models-76cb60dbdaf6)\n",
        "\n",
        "<img src='https://miro.medium.com/max/560/1*67HOjsCZVzE6FFM7TuSBmw.jpeg'>\n",
        "\n",
        "<img src='https://miro.medium.com/max/1920/1*Lsg_bRYztO3D19w36_g7BQ.jpeg' width='550px' height='400px'>\n",
        "\n",
        "\n"
      ]
    },
    {
      "cell_type": "markdown",
      "metadata": {
        "id": "sJzXG0l4z21o"
      },
      "source": [
        "#### **De Volta à Aula**\n",
        "---\n"
      ]
    },
    {
      "cell_type": "markdown",
      "metadata": {
        "id": "nbc6UDFHz8re"
      },
      "source": [
        "O modelo de Árvore de Decisão é poderoso e simples de ser implementado, mas tende a ser suscetível a ***overfit***.\n",
        "\n",
        "Um modelo alternativo, menos suscetível a ***overfit*** é o **`RandomForestClassifier`**, que simula uma floresta de árvores de decisão.\n",
        "\n",
        "Enquanto o ***Decision Tree*** busca selecionar os dados que vão ser usados para fazer os *splits* de forma a manter o equilíbrio da árvore, olhando para todas as variáveis, o modelo de ***Random Forest*** monta grupos menores de variáveis de forma aleatória e prepara várias árvores a partir desses grupos diferentes."
      ]
    },
    {
      "cell_type": "code",
      "metadata": {
        "id": "B_gIC46v2rzg"
      },
      "source": [
        "teste_lista = []\n",
        "treino_lista = []\n",
        "\n",
        "for i in range(1,15):\n",
        "    modelo_arvore_i = RandomForestClassifier(max_depth=i)\n",
        "    teste, treino = roda_modelo_cv_v3(modelo_arvore_i, dados_limpos, 5, 10)\n",
        "    teste_lista.append(teste)\n",
        "    treino_lista.append(treino)"
      ],
      "execution_count": 71,
      "outputs": []
    },
    {
      "cell_type": "code",
      "metadata": {
        "colab": {
          "base_uri": "https://localhost:8080/",
          "height": 436
        },
        "id": "mwCjTNFu25lQ",
        "outputId": "bafc80ca-a38c-489b-efce-2569bd5a27f7"
      },
      "source": [
        "x = range(1,15)\n",
        "fig, ax = plt.subplots(figsize=(12,6))\n",
        "plt.suptitle('Comparação AUC Médio Previsão x Treino - Random Forest', fontsize = 25, fontweight='bold')\n",
        "plt.plot(x, teste_lista, color = 'darkblue', lw = 2, label='Dados de Teste')\n",
        "plt.plot(x, treino_lista, color = 'orange', lw = 2, label='Dados de Treino')\n",
        "plt.xlabel('Nº de Iterações',\n",
        "             fontsize=15, fontweight = 'bold')\n",
        "plt.ylabel('AUC Médio',\n",
        "             fontsize=15, fontweight = 'bold')\n",
        "ax.yaxis.set_major_formatter(ticker.StrMethodFormatter('{x:,.00%}'))\n",
        "plt.legend(fontsize = 15, loc='upper right',bbox_to_anchor=(1.3, 1))\n",
        "plt.ylim(0,1.1)\n",
        "ax.xaxis.set_major_locator(ticker.MultipleLocator(1))\n",
        "plt.show()"
      ],
      "execution_count": 73,
      "outputs": [
        {
          "output_type": "display_data",
          "data": {
            "image/png": "[encoded data removed]",
            "text/plain": [
              "<Figure size 864x432 with 1 Axes>"
            ]
          },
          "metadata": {
            "tags": [],
            "needs_background": "light"
          }
        }
      ]
    },
    {
      "cell_type": "markdown",
      "metadata": {
        "id": "AV7ushGo36Cp"
      },
      "source": [
        "No caso do **Random Forest**, temos um outro parâmetro que é bem importante para a realização de iterações que é o **`n_estimators`**, que dá o número de árvores da floresta. Quanto mais árvores, mais difícil de termos ***overfit***, mas mais demorado fica o treinamento do modelo.\n",
        "\n",
        "O valor *default* é 100, mas vamos fazer alguns testes para verificar o impacto."
      ]
    },
    {
      "cell_type": "code",
      "metadata": {
        "id": "qwHWG6KR4zSy"
      },
      "source": [
        "teste_lista = []\n",
        "treino_lista = []\n",
        "\n",
        "x = [10, 50, 100, 200]\n",
        "\n",
        "for i in x:\n",
        "    modelo_arvore_i = RandomForestClassifier(n_estimators=i)\n",
        "    teste, treino = roda_modelo_cv_v3(modelo_arvore_i, dados_limpos, 5, 10)\n",
        "    teste_lista.append(teste)\n",
        "    treino_lista.append(treino)\n"
      ],
      "execution_count": 74,
      "outputs": []
    },
    {
      "cell_type": "code",
      "metadata": {
        "colab": {
          "base_uri": "https://localhost:8080/",
          "height": 437
        },
        "id": "FxrWdf_OXpWK",
        "outputId": "8b1fe4ec-a7e0-48f8-9d63-0962dba037c6"
      },
      "source": [
        "fig, ax = plt.subplots(figsize=(12,6))\n",
        "plt.suptitle('Comparação AUC Médio Previsão x Treino - Random Forest variando n_estimators', fontsize = 25, fontweight='bold')\n",
        "plt.plot(x, teste_lista, color = 'darkblue', lw = 2, label='Dados de Teste')\n",
        "plt.plot(x, treino_lista, color = 'orange', lw = 2, label='Dados de Treino')\n",
        "plt.xlabel('n_estimators',\n",
        "             fontsize=15, fontweight = 'bold')\n",
        "plt.ylabel('AUC Médio',\n",
        "             fontsize=15, fontweight = 'bold')\n",
        "ax.yaxis.set_major_formatter(ticker.StrMethodFormatter('{x:,.00%}'))\n",
        "plt.legend(fontsize = 15, loc='upper right',bbox_to_anchor=(1.3, 1))\n",
        "plt.ylim(0,1.1)\n",
        "ax.xaxis.set_major_locator(ticker.FixedLocator(x))\n",
        "plt.show()"
      ],
      "execution_count": 75,
      "outputs": [
        {
          "output_type": "display_data",
          "data": {
            "image/png": "[encoded data removed]",
            "text/plain": [
              "<Figure size 864x432 with 1 Axes>"
            ]
          },
          "metadata": {
            "tags": [],
            "needs_background": "light"
          }
        }
      ]
    },
    {
      "cell_type": "markdown",
      "metadata": {
        "id": "8WZMe5ir5Ux7"
      },
      "source": [
        "#### **Desafio - Escolher um Modelo de *Machine Learning*, Estudar Seus Hiperparâmetros e Testar com Vários Valores**\n",
        "---\n",
        "\n",
        "Thiago comentou que dentro da documentação do **`sklearn`** tem maneiras de encontrar os melhores parâmetros para o modelo, em vez de ficar rodando repetidas vezes."
      ]
    },
    {
      "cell_type": "markdown",
      "metadata": {
        "id": "UMl0kz876y-W"
      },
      "source": [
        "#### **Desafio - Pesquisar Como Salvar um Modelo Treinado**\n",
        "---\n"
      ]
    },
    {
      "cell_type": "markdown",
      "metadata": {
        "id": "AomWFsumRFUC"
      },
      "source": [
        "Encontrei duas maneiras [aqui](https://machinelearningmastery.com/save-load-machine-learning-models-python-scikit-learn/).\n",
        "\n",
        "Usando o ***pickle***:"
      ]
    },
    {
      "cell_type": "code",
      "metadata": {
        "id": "n-uQ3VX6RQe7"
      },
      "source": [
        "import pickle\n",
        "\n",
        "filename = 'modelo_arvore_final_pi.sav'\n",
        "pickle.dump(modelo_arvore, open(filename, 'wb'))"
      ],
      "execution_count": 67,
      "outputs": []
    },
    {
      "cell_type": "markdown",
      "metadata": {
        "id": "DKc0entgRm5v"
      },
      "source": [
        "Ou usando o ***joblib***:"
      ]
    },
    {
      "cell_type": "code",
      "metadata": {
        "colab": {
          "base_uri": "https://localhost:8080/"
        },
        "id": "2RLetYGDRwih",
        "outputId": "0b46aada-e6ea-4f01-bf7c-71763955866e"
      },
      "source": [
        "import joblib\n",
        "\n",
        "filename = 'modelo_arvore_final_jl.sav'\n",
        "joblib.dump(modelo_arvore, filename)"
      ],
      "execution_count": 68,
      "outputs": [
        {
          "output_type": "execute_result",
          "data": {
            "text/plain": [
              "['modelo_arvore_final_jl.sav']"
            ]
          },
          "metadata": {
            "tags": []
          },
          "execution_count": 68
        }
      ]
    },
    {
      "cell_type": "markdown",
      "metadata": {
        "id": "aNofNMtT7X_i"
      },
      "source": [
        "### **O que aprendemos nessa aula?**\n",
        "---\n",
        "\n",
        ">* O que é ***Overfit***;\n",
        ">\n",
        ">* Como Verificar o ***Overfit***;\n",
        ">\n",
        ">* Usar o Algoritmo de ***RandomForest***.\n",
        "\n",
        "---\n"
      ]
    }
  ]
}