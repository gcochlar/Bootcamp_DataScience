{
  "nbformat": 4,
  "nbformat_minor": 0,
  "metadata": {
    "colab": {
      "name": "Bootcamp - Mod6 - Aula02.ipynb",
      "provenance": [],
      "collapsed_sections": [],
      "toc_visible": true,
      "authorship_tag": "ABX9TyPth3yoxDja9Dv4oROiqFNx",
      "include_colab_link": true
    },
    "kernelspec": {
      "name": "python3",
      "display_name": "Python 3"
    },
    "language_info": {
      "name": "python"
    }
  },
  "cells": [
    {
      "cell_type": "markdown",
      "metadata": {
        "id": "view-in-github",
        "colab_type": "text"
      },
      "source": [
        "<a href=\"https://colab.research.google.com/github/gcochlar/Bootcamp_DataScience/blob/main/Modulo_06/Bootcamp_Mod6_Aula02.ipynb\" target=\"_parent\"><img src=\"https://colab.research.google.com/assets/colab-badge.svg\" alt=\"Open In Colab\"/></a>"
      ]
    },
    {
      "cell_type": "markdown",
      "metadata": {
        "id": "BZKKSXVwpVfu"
      },
      "source": [
        "<img src='https://drive.google.com/uc?id=16O9eMrtSeRDnDpZgmneXj34eIClCntvg'>"
      ]
    },
    {
      "cell_type": "markdown",
      "metadata": {
        "id": "tKeX4KHBZUkZ"
      },
      "source": [
        "# ***Data Science*** **Aplicado em Finanças**\n",
        "\n",
        "---\n",
        "\n",
        "Esse notebook servirá para o acompanhamento das aulas do Módulo 06 do ***Bootcamp de Data Science Aplicada*** realizado pela Alura.\n",
        "\n",
        "O Módulo 6 é um módulo extra especialmente desenvolvido para este *Bootcamp* e é voltado para a área financeira, mais especificamente para a área de análise de crédito.\n",
        "\n",
        "Além do desenvolvimento do modelo de *machine learning* em si, também está no escopo o *deploy* através do *streamlit*.\n",
        "\n",
        "---\n",
        "\n",
        ">Agora chegou o momento de consolidar seu conhecimento em uma nova área. Vamos sair do assunto saúde e desenvolver um projeto completo de Data Science aplicado a finanças. Será mais um projeto incrível para complementar seu portfólio e principalmente para te ensinar assuntos específicos desta área tão relevante.\n",
        ">\n",
        ">Então prepare os equipamentos porque nosso mergulho será em outros mares!\n",
        "---"
      ]
    },
    {
      "cell_type": "markdown",
      "metadata": {
        "id": "IOJYQLwvbh7E"
      },
      "source": [
        "## **Aula 01 - Contextualização do Mercado Financeiro**\n",
        "---\n"
      ]
    },
    {
      "cell_type": "markdown",
      "metadata": {
        "id": "3rE6zLwZEBKa"
      },
      "source": [
        "A aula começou falando dos pilares que temos na cadeia de crédito. São eles:\n",
        "\n",
        "* Prospecção\n",
        "* Concessão\n",
        "* Gestão de Risco\n",
        "* Recuperação\n",
        "\n",
        "O modelo que iremos trabalhar estará no pilar **CONCESSÃO**. Vamos trabalhar o modelo de decisão que irá avaliar a concessão ou não do crédito solicitado.\n",
        "\n",
        "Na sequência fomos informados que a base que iremos usar é uma adaptação de uma base que foi disponibilizada em um desafio do **Kaggle**.\n",
        "\n",
        "São duas bases de dados, com os clientes cadastrados e com os empréstimos aprovados.\n",
        "\n",
        "Baixei as bases e fiz *upload* para o meu repositório do **GitHub**."
      ]
    },
    {
      "cell_type": "code",
      "metadata": {
        "id": "bnkFSRniaFYT"
      },
      "source": [
        "import pandas as pd\n",
        "import numpy as np\n",
        "import seaborn as sns\n",
        "import matplotlib.pyplot as plt\n",
        "sns.set()"
      ],
      "execution_count": 1,
      "outputs": []
    },
    {
      "cell_type": "code",
      "metadata": {
        "id": "9Ei98MiwRvWH"
      },
      "source": [
        "url_cadastrados = 'https://github.com/gcochlar/Bootcamp_DataScience/blob/main/Modulo_06/dados/clientes_cadastrados.zip?raw=true'\n",
        "url_aprovados = 'https://github.com/gcochlar/Bootcamp_DataScience/blob/main/Modulo_06/dados/clientes_aprovados.zip?raw=true'"
      ],
      "execution_count": 2,
      "outputs": []
    },
    {
      "cell_type": "markdown",
      "metadata": {
        "id": "wcFjAfxUFawX"
      },
      "source": [
        "Vamos começar importando a base de clientes cadastrados."
      ]
    },
    {
      "cell_type": "code",
      "metadata": {
        "id": "AgHJeIs0aIcb",
        "colab": {
          "base_uri": "https://localhost:8080/",
          "height": 277
        },
        "outputId": "5499bfc4-964a-4ecf-b277-dd36367ff565"
      },
      "source": [
        "dados_cadastrados = pd.read_csv(url_cadastrados, compression='zip')\n",
        "dados_cadastrados.head()"
      ],
      "execution_count": 3,
      "outputs": [
        {
          "output_type": "execute_result",
          "data": {
            "text/html": [
              "<div>\n",
              "<style scoped>\n",
              "    .dataframe tbody tr th:only-of-type {\n",
              "        vertical-align: middle;\n",
              "    }\n",
              "\n",
              "    .dataframe tbody tr th {\n",
              "        vertical-align: top;\n",
              "    }\n",
              "\n",
              "    .dataframe thead th {\n",
              "        text-align: right;\n",
              "    }\n",
              "</style>\n",
              "<table border=\"1\" class=\"dataframe\">\n",
              "  <thead>\n",
              "    <tr style=\"text-align: right;\">\n",
              "      <th></th>\n",
              "      <th>ID_Cliente</th>\n",
              "      <th>Genero</th>\n",
              "      <th>Tem_Carro</th>\n",
              "      <th>Tem_Casa_Propria</th>\n",
              "      <th>Qtd_Filhos</th>\n",
              "      <th>Rendimento_Anual</th>\n",
              "      <th>Categoria_de_renda</th>\n",
              "      <th>Grau_Escolaridade</th>\n",
              "      <th>Estado_Civil</th>\n",
              "      <th>Moradia</th>\n",
              "      <th>Idade</th>\n",
              "      <th>Tem_Celular</th>\n",
              "      <th>Tem_telefone_trabalho</th>\n",
              "      <th>Tem_telefone_fixo</th>\n",
              "      <th>Tem_email</th>\n",
              "      <th>Ocupacao</th>\n",
              "      <th>Tamanho_Familia</th>\n",
              "      <th>Anos_empregado</th>\n",
              "    </tr>\n",
              "  </thead>\n",
              "  <tbody>\n",
              "    <tr>\n",
              "      <th>0</th>\n",
              "      <td>5008804</td>\n",
              "      <td>H</td>\n",
              "      <td>1</td>\n",
              "      <td>1</td>\n",
              "      <td>0</td>\n",
              "      <td>427500.0</td>\n",
              "      <td>Empregado</td>\n",
              "      <td>Ensino superior</td>\n",
              "      <td>Uniao estavel</td>\n",
              "      <td>Alugado</td>\n",
              "      <td>33.0</td>\n",
              "      <td>1</td>\n",
              "      <td>1</td>\n",
              "      <td>0</td>\n",
              "      <td>0</td>\n",
              "      <td>Outros</td>\n",
              "      <td>2.0</td>\n",
              "      <td>12.4</td>\n",
              "    </tr>\n",
              "    <tr>\n",
              "      <th>1</th>\n",
              "      <td>5008805</td>\n",
              "      <td>H</td>\n",
              "      <td>1</td>\n",
              "      <td>1</td>\n",
              "      <td>0</td>\n",
              "      <td>427500.0</td>\n",
              "      <td>Empregado</td>\n",
              "      <td>Ensino superior</td>\n",
              "      <td>Uniao estavel</td>\n",
              "      <td>Alugado</td>\n",
              "      <td>33.0</td>\n",
              "      <td>1</td>\n",
              "      <td>1</td>\n",
              "      <td>0</td>\n",
              "      <td>0</td>\n",
              "      <td>Outros</td>\n",
              "      <td>2.0</td>\n",
              "      <td>12.4</td>\n",
              "    </tr>\n",
              "    <tr>\n",
              "      <th>2</th>\n",
              "      <td>5008806</td>\n",
              "      <td>H</td>\n",
              "      <td>1</td>\n",
              "      <td>1</td>\n",
              "      <td>0</td>\n",
              "      <td>112500.0</td>\n",
              "      <td>Empregado</td>\n",
              "      <td>Ensino medio</td>\n",
              "      <td>Casado</td>\n",
              "      <td>Casa propria</td>\n",
              "      <td>59.0</td>\n",
              "      <td>1</td>\n",
              "      <td>0</td>\n",
              "      <td>0</td>\n",
              "      <td>0</td>\n",
              "      <td>Seguranca</td>\n",
              "      <td>2.0</td>\n",
              "      <td>3.1</td>\n",
              "    </tr>\n",
              "    <tr>\n",
              "      <th>3</th>\n",
              "      <td>5008808</td>\n",
              "      <td>M</td>\n",
              "      <td>0</td>\n",
              "      <td>1</td>\n",
              "      <td>0</td>\n",
              "      <td>270000.0</td>\n",
              "      <td>Associado comercial</td>\n",
              "      <td>Ensino medio</td>\n",
              "      <td>Solteiro</td>\n",
              "      <td>Casa propria</td>\n",
              "      <td>52.0</td>\n",
              "      <td>1</td>\n",
              "      <td>0</td>\n",
              "      <td>1</td>\n",
              "      <td>1</td>\n",
              "      <td>Venda</td>\n",
              "      <td>1.0</td>\n",
              "      <td>8.4</td>\n",
              "    </tr>\n",
              "    <tr>\n",
              "      <th>4</th>\n",
              "      <td>5008809</td>\n",
              "      <td>M</td>\n",
              "      <td>0</td>\n",
              "      <td>1</td>\n",
              "      <td>0</td>\n",
              "      <td>270000.0</td>\n",
              "      <td>Associado comercial</td>\n",
              "      <td>Ensino medio</td>\n",
              "      <td>Solteiro</td>\n",
              "      <td>Casa propria</td>\n",
              "      <td>52.0</td>\n",
              "      <td>1</td>\n",
              "      <td>0</td>\n",
              "      <td>1</td>\n",
              "      <td>1</td>\n",
              "      <td>Venda</td>\n",
              "      <td>1.0</td>\n",
              "      <td>8.4</td>\n",
              "    </tr>\n",
              "  </tbody>\n",
              "</table>\n",
              "</div>"
            ],
            "text/plain": [
              "   ID_Cliente Genero  Tem_Carro  ...   Ocupacao  Tamanho_Familia  Anos_empregado\n",
              "0     5008804      H          1  ...     Outros              2.0            12.4\n",
              "1     5008805      H          1  ...     Outros              2.0            12.4\n",
              "2     5008806      H          1  ...  Seguranca              2.0             3.1\n",
              "3     5008808      M          0  ...      Venda              1.0             8.4\n",
              "4     5008809      M          0  ...      Venda              1.0             8.4\n",
              "\n",
              "[5 rows x 18 columns]"
            ]
          },
          "metadata": {
            "tags": []
          },
          "execution_count": 3
        }
      ]
    },
    {
      "cell_type": "code",
      "metadata": {
        "colab": {
          "base_uri": "https://localhost:8080/"
        },
        "id": "mTA8tV6Vwo6O",
        "outputId": "216589c5-8e00-4265-ae77-ddfa42413554"
      },
      "source": [
        "dados_cadastrados.shape"
      ],
      "execution_count": 4,
      "outputs": [
        {
          "output_type": "execute_result",
          "data": {
            "text/plain": [
              "(438557, 18)"
            ]
          },
          "metadata": {
            "tags": []
          },
          "execution_count": 4
        }
      ]
    },
    {
      "cell_type": "markdown",
      "metadata": {
        "id": "GStb4LzRExrI"
      },
      "source": [
        "Essa primeira base, de clientes cadastrados, é bem extensa.\n",
        "\n",
        "Tem quase 440 mil registros com 18 variáveis diferentes.\n",
        "\n",
        "Imediatamente chama a atenção a coluna **`ID_Cliente`** que deve servir como chave de identificação de cada cliente, mas isso precisa ser confirmado.\n",
        "\n",
        "Também chama a atenção o fato de termos linhas aparentemente duplicadas (0 e 1 ou 3 e 4, por exemplo).\n",
        "\n",
        "Vamos importar e olhar também nossa base de empréstimos aprovados."
      ]
    },
    {
      "cell_type": "code",
      "metadata": {
        "colab": {
          "base_uri": "https://localhost:8080/",
          "height": 205
        },
        "id": "fqWOfRZfJ9qZ",
        "outputId": "c3c5322b-8107-4e18-a356-5a45af99c02e"
      },
      "source": [
        "dados_aprovados = pd.read_csv(url_aprovados, compression='zip')\n",
        "dados_aprovados.head()"
      ],
      "execution_count": 5,
      "outputs": [
        {
          "output_type": "execute_result",
          "data": {
            "text/html": [
              "<div>\n",
              "<style scoped>\n",
              "    .dataframe tbody tr th:only-of-type {\n",
              "        vertical-align: middle;\n",
              "    }\n",
              "\n",
              "    .dataframe tbody tr th {\n",
              "        vertical-align: top;\n",
              "    }\n",
              "\n",
              "    .dataframe thead th {\n",
              "        text-align: right;\n",
              "    }\n",
              "</style>\n",
              "<table border=\"1\" class=\"dataframe\">\n",
              "  <thead>\n",
              "    <tr style=\"text-align: right;\">\n",
              "      <th></th>\n",
              "      <th>ID_Cliente</th>\n",
              "      <th>Mes_referencia</th>\n",
              "      <th>Faixa_atraso</th>\n",
              "    </tr>\n",
              "  </thead>\n",
              "  <tbody>\n",
              "    <tr>\n",
              "      <th>0</th>\n",
              "      <td>5001711</td>\n",
              "      <td>0</td>\n",
              "      <td>nenhum empréstimo</td>\n",
              "    </tr>\n",
              "    <tr>\n",
              "      <th>1</th>\n",
              "      <td>5001711</td>\n",
              "      <td>-1</td>\n",
              "      <td>1-29 dias</td>\n",
              "    </tr>\n",
              "    <tr>\n",
              "      <th>2</th>\n",
              "      <td>5001711</td>\n",
              "      <td>-2</td>\n",
              "      <td>1-29 dias</td>\n",
              "    </tr>\n",
              "    <tr>\n",
              "      <th>3</th>\n",
              "      <td>5001711</td>\n",
              "      <td>-3</td>\n",
              "      <td>1-29 dias</td>\n",
              "    </tr>\n",
              "    <tr>\n",
              "      <th>4</th>\n",
              "      <td>5001712</td>\n",
              "      <td>0</td>\n",
              "      <td>pagamento realizado</td>\n",
              "    </tr>\n",
              "  </tbody>\n",
              "</table>\n",
              "</div>"
            ],
            "text/plain": [
              "   ID_Cliente  Mes_referencia         Faixa_atraso\n",
              "0     5001711               0    nenhum empréstimo\n",
              "1     5001711              -1            1-29 dias\n",
              "2     5001711              -2            1-29 dias\n",
              "3     5001711              -3            1-29 dias\n",
              "4     5001712               0  pagamento realizado"
            ]
          },
          "metadata": {
            "tags": []
          },
          "execution_count": 5
        }
      ]
    },
    {
      "cell_type": "code",
      "metadata": {
        "colab": {
          "base_uri": "https://localhost:8080/"
        },
        "id": "lQvVGrWx4dYc",
        "outputId": "64f64ba8-3293-40da-caa6-4d414ad3582c"
      },
      "source": [
        "dados_aprovados.shape"
      ],
      "execution_count": 6,
      "outputs": [
        {
          "output_type": "execute_result",
          "data": {
            "text/plain": [
              "(1048575, 3)"
            ]
          },
          "metadata": {
            "tags": []
          },
          "execution_count": 6
        }
      ]
    },
    {
      "cell_type": "markdown",
      "metadata": {
        "id": "rKIHzlipFk6g"
      },
      "source": [
        "A base de empréstimos aprovados também é bem extensa, com mais de 1 milhão de registros, apesar de contar com apenas 3 variáveis.\n",
        "\n",
        "Também conta com uma coluna **`ID_Cliente`** mas que já podemos ver que apresenta duplicidades. Deverá servir para conectar as duas bases de dados.\n",
        "\n",
        "Vamos focar, inicialmente, na análise exploratória da base de clientes cadastrados."
      ]
    },
    {
      "cell_type": "code",
      "metadata": {
        "colab": {
          "base_uri": "https://localhost:8080/"
        },
        "id": "sSqdQ6M7wuc2",
        "outputId": "ccd99854-1d36-42a6-c667-e5385ccf3eec"
      },
      "source": [
        "dados_cadastrados.info()"
      ],
      "execution_count": 7,
      "outputs": [
        {
          "output_type": "stream",
          "text": [
            "<class 'pandas.core.frame.DataFrame'>\n",
            "RangeIndex: 438557 entries, 0 to 438556\n",
            "Data columns (total 18 columns):\n",
            " #   Column                 Non-Null Count   Dtype  \n",
            "---  ------                 --------------   -----  \n",
            " 0   ID_Cliente             438557 non-null  int64  \n",
            " 1   Genero                 438557 non-null  object \n",
            " 2   Tem_Carro              438557 non-null  int64  \n",
            " 3   Tem_Casa_Propria       438557 non-null  int64  \n",
            " 4   Qtd_Filhos             438557 non-null  int64  \n",
            " 5   Rendimento_Anual       438557 non-null  float64\n",
            " 6   Categoria_de_renda     438557 non-null  object \n",
            " 7   Grau_Escolaridade      438557 non-null  object \n",
            " 8   Estado_Civil           438557 non-null  object \n",
            " 9   Moradia                438557 non-null  object \n",
            " 10  Idade                  438557 non-null  float64\n",
            " 11  Tem_Celular            438557 non-null  int64  \n",
            " 12  Tem_telefone_trabalho  438557 non-null  int64  \n",
            " 13  Tem_telefone_fixo      438557 non-null  int64  \n",
            " 14  Tem_email              438557 non-null  int64  \n",
            " 15  Ocupacao               438557 non-null  object \n",
            " 16  Tamanho_Familia        438557 non-null  float64\n",
            " 17  Anos_empregado         438557 non-null  float64\n",
            "dtypes: float64(4), int64(8), object(6)\n",
            "memory usage: 60.2+ MB\n"
          ],
          "name": "stdout"
        }
      ]
    },
    {
      "cell_type": "markdown",
      "metadata": {
        "id": "VNQGELsZGXhe"
      },
      "source": [
        "Vamos tentar confirmar nossa ideia de que a coluna **`ID_Cliente`** pode ser usada como identificador único de nossos clientes."
      ]
    },
    {
      "cell_type": "code",
      "metadata": {
        "colab": {
          "base_uri": "https://localhost:8080/"
        },
        "id": "ZUkYJDxOxIW-",
        "outputId": "43c006f0-75c5-42ea-d2ae-1be6d4c8a8fe"
      },
      "source": [
        "dados_cadastrados.ID_Cliente.value_counts()"
      ],
      "execution_count": 8,
      "outputs": [
        {
          "output_type": "execute_result",
          "data": {
            "text/plain": [
              "7603224    2\n",
              "7742853    2\n",
              "7836711    2\n",
              "7091721    2\n",
              "7022327    2\n",
              "          ..\n",
              "5372264    1\n",
              "6412652    1\n",
              "6410605    1\n",
              "6367602    1\n",
              "6291456    1\n",
              "Name: ID_Cliente, Length: 438510, dtype: int64"
            ]
          },
          "metadata": {
            "tags": []
          },
          "execution_count": 8
        }
      ]
    },
    {
      "cell_type": "markdown",
      "metadata": {
        "id": "0--YI5B_GpEu"
      },
      "source": [
        "O fato de termos ocorrências duplas de alguns **IDs** indica algum problema em nossa base de dados.\n",
        "\n",
        "Vamos verificar se temos registros duplicados, ou seja, linhas completamente iguais."
      ]
    },
    {
      "cell_type": "code",
      "metadata": {
        "colab": {
          "base_uri": "https://localhost:8080/"
        },
        "id": "2mqWUWxsxIUR",
        "outputId": "035a2bc8-facb-4579-acc1-fd1b732eed9b"
      },
      "source": [
        "dados_cadastrados.duplicated().sum()"
      ],
      "execution_count": 9,
      "outputs": [
        {
          "output_type": "execute_result",
          "data": {
            "text/plain": [
              "0"
            ]
          },
          "metadata": {
            "tags": []
          },
          "execution_count": 9
        }
      ]
    },
    {
      "cell_type": "markdown",
      "metadata": {
        "id": "TUVN8KtDG7hj"
      },
      "source": [
        "Não temos linhas duplicadas, mas a duplicidade de **IDs** irá nos atrapalhar mais adiante.\n",
        "\n",
        "Precisamos verificar qual o tamanho do nosso problema. Em uma base de quase 440 mil registros, quantos estão duplicados?"
      ]
    },
    {
      "cell_type": "code",
      "metadata": {
        "colab": {
          "base_uri": "https://localhost:8080/",
          "height": 615
        },
        "id": "kCVfbM6JxIRp",
        "outputId": "8cb12386-4722-4211-86e1-202cc9105558"
      },
      "source": [
        "dados_cadastrados[dados_cadastrados.ID_Cliente.duplicated(keep=False)].sort_values(by='ID_Cliente')"
      ],
      "execution_count": 10,
      "outputs": [
        {
          "output_type": "execute_result",
          "data": {
            "text/html": [
              "<div>\n",
              "<style scoped>\n",
              "    .dataframe tbody tr th:only-of-type {\n",
              "        vertical-align: middle;\n",
              "    }\n",
              "\n",
              "    .dataframe tbody tr th {\n",
              "        vertical-align: top;\n",
              "    }\n",
              "\n",
              "    .dataframe thead th {\n",
              "        text-align: right;\n",
              "    }\n",
              "</style>\n",
              "<table border=\"1\" class=\"dataframe\">\n",
              "  <thead>\n",
              "    <tr style=\"text-align: right;\">\n",
              "      <th></th>\n",
              "      <th>ID_Cliente</th>\n",
              "      <th>Genero</th>\n",
              "      <th>Tem_Carro</th>\n",
              "      <th>Tem_Casa_Propria</th>\n",
              "      <th>Qtd_Filhos</th>\n",
              "      <th>Rendimento_Anual</th>\n",
              "      <th>Categoria_de_renda</th>\n",
              "      <th>Grau_Escolaridade</th>\n",
              "      <th>Estado_Civil</th>\n",
              "      <th>Moradia</th>\n",
              "      <th>Idade</th>\n",
              "      <th>Tem_Celular</th>\n",
              "      <th>Tem_telefone_trabalho</th>\n",
              "      <th>Tem_telefone_fixo</th>\n",
              "      <th>Tem_email</th>\n",
              "      <th>Ocupacao</th>\n",
              "      <th>Tamanho_Familia</th>\n",
              "      <th>Anos_empregado</th>\n",
              "    </tr>\n",
              "  </thead>\n",
              "  <tbody>\n",
              "    <tr>\n",
              "      <th>426818</th>\n",
              "      <td>7022197</td>\n",
              "      <td>H</td>\n",
              "      <td>1</td>\n",
              "      <td>1</td>\n",
              "      <td>3</td>\n",
              "      <td>135000.0</td>\n",
              "      <td>Empregado</td>\n",
              "      <td>Ensino medio</td>\n",
              "      <td>Casado</td>\n",
              "      <td>Casa propria</td>\n",
              "      <td>33.0</td>\n",
              "      <td>1</td>\n",
              "      <td>0</td>\n",
              "      <td>0</td>\n",
              "      <td>1</td>\n",
              "      <td>Construcao Civil</td>\n",
              "      <td>5.0</td>\n",
              "      <td>2.0</td>\n",
              "    </tr>\n",
              "    <tr>\n",
              "      <th>425023</th>\n",
              "      <td>7022197</td>\n",
              "      <td>M</td>\n",
              "      <td>0</td>\n",
              "      <td>1</td>\n",
              "      <td>0</td>\n",
              "      <td>450000.0</td>\n",
              "      <td>Associado comercial</td>\n",
              "      <td>Ensino superior</td>\n",
              "      <td>Separado</td>\n",
              "      <td>Casa propria</td>\n",
              "      <td>54.0</td>\n",
              "      <td>1</td>\n",
              "      <td>0</td>\n",
              "      <td>0</td>\n",
              "      <td>1</td>\n",
              "      <td>Outros</td>\n",
              "      <td>1.0</td>\n",
              "      <td>4.9</td>\n",
              "    </tr>\n",
              "    <tr>\n",
              "      <th>431545</th>\n",
              "      <td>7022327</td>\n",
              "      <td>M</td>\n",
              "      <td>0</td>\n",
              "      <td>1</td>\n",
              "      <td>0</td>\n",
              "      <td>135000.0</td>\n",
              "      <td>Associado comercial</td>\n",
              "      <td>Ensino medio</td>\n",
              "      <td>Solteiro</td>\n",
              "      <td>Casa propria</td>\n",
              "      <td>40.0</td>\n",
              "      <td>1</td>\n",
              "      <td>0</td>\n",
              "      <td>0</td>\n",
              "      <td>0</td>\n",
              "      <td>Alta tecnologia</td>\n",
              "      <td>1.0</td>\n",
              "      <td>14.5</td>\n",
              "    </tr>\n",
              "    <tr>\n",
              "      <th>431911</th>\n",
              "      <td>7022327</td>\n",
              "      <td>H</td>\n",
              "      <td>1</td>\n",
              "      <td>1</td>\n",
              "      <td>0</td>\n",
              "      <td>256500.0</td>\n",
              "      <td>Associado comercial</td>\n",
              "      <td>Ensino superior</td>\n",
              "      <td>Casado</td>\n",
              "      <td>Casa propria</td>\n",
              "      <td>59.0</td>\n",
              "      <td>1</td>\n",
              "      <td>0</td>\n",
              "      <td>0</td>\n",
              "      <td>1</td>\n",
              "      <td>Equipe principal</td>\n",
              "      <td>2.0</td>\n",
              "      <td>4.6</td>\n",
              "    </tr>\n",
              "    <tr>\n",
              "      <th>425486</th>\n",
              "      <td>7023108</td>\n",
              "      <td>H</td>\n",
              "      <td>1</td>\n",
              "      <td>1</td>\n",
              "      <td>1</td>\n",
              "      <td>67500.0</td>\n",
              "      <td>Empregado</td>\n",
              "      <td>Ensino medio</td>\n",
              "      <td>Casado</td>\n",
              "      <td>Casa propria</td>\n",
              "      <td>42.0</td>\n",
              "      <td>1</td>\n",
              "      <td>1</td>\n",
              "      <td>0</td>\n",
              "      <td>0</td>\n",
              "      <td>Equipe principal</td>\n",
              "      <td>3.0</td>\n",
              "      <td>4.6</td>\n",
              "    </tr>\n",
              "    <tr>\n",
              "      <th>...</th>\n",
              "      <td>...</td>\n",
              "      <td>...</td>\n",
              "      <td>...</td>\n",
              "      <td>...</td>\n",
              "      <td>...</td>\n",
              "      <td>...</td>\n",
              "      <td>...</td>\n",
              "      <td>...</td>\n",
              "      <td>...</td>\n",
              "      <td>...</td>\n",
              "      <td>...</td>\n",
              "      <td>...</td>\n",
              "      <td>...</td>\n",
              "      <td>...</td>\n",
              "      <td>...</td>\n",
              "      <td>...</td>\n",
              "      <td>...</td>\n",
              "      <td>...</td>\n",
              "    </tr>\n",
              "    <tr>\n",
              "      <th>426563</th>\n",
              "      <td>7836711</td>\n",
              "      <td>M</td>\n",
              "      <td>0</td>\n",
              "      <td>1</td>\n",
              "      <td>2</td>\n",
              "      <td>292500.0</td>\n",
              "      <td>Empregado</td>\n",
              "      <td>Ensino superior</td>\n",
              "      <td>Casado</td>\n",
              "      <td>Casa propria</td>\n",
              "      <td>38.0</td>\n",
              "      <td>1</td>\n",
              "      <td>0</td>\n",
              "      <td>1</td>\n",
              "      <td>0</td>\n",
              "      <td>Contabilidade</td>\n",
              "      <td>4.0</td>\n",
              "      <td>12.0</td>\n",
              "    </tr>\n",
              "    <tr>\n",
              "      <th>421464</th>\n",
              "      <td>7836971</td>\n",
              "      <td>H</td>\n",
              "      <td>1</td>\n",
              "      <td>0</td>\n",
              "      <td>1</td>\n",
              "      <td>157500.0</td>\n",
              "      <td>Empregado</td>\n",
              "      <td>Ensino medio</td>\n",
              "      <td>Casado</td>\n",
              "      <td>Casa propria</td>\n",
              "      <td>38.0</td>\n",
              "      <td>1</td>\n",
              "      <td>0</td>\n",
              "      <td>0</td>\n",
              "      <td>0</td>\n",
              "      <td>Outros</td>\n",
              "      <td>3.0</td>\n",
              "      <td>15.1</td>\n",
              "    </tr>\n",
              "    <tr>\n",
              "      <th>428620</th>\n",
              "      <td>7836971</td>\n",
              "      <td>M</td>\n",
              "      <td>0</td>\n",
              "      <td>1</td>\n",
              "      <td>0</td>\n",
              "      <td>103500.0</td>\n",
              "      <td>Empregado</td>\n",
              "      <td>Ensino medio</td>\n",
              "      <td>Uniao estavel</td>\n",
              "      <td>Casa propria</td>\n",
              "      <td>37.0</td>\n",
              "      <td>1</td>\n",
              "      <td>0</td>\n",
              "      <td>1</td>\n",
              "      <td>0</td>\n",
              "      <td>Venda</td>\n",
              "      <td>2.0</td>\n",
              "      <td>7.7</td>\n",
              "    </tr>\n",
              "    <tr>\n",
              "      <th>422068</th>\n",
              "      <td>7838075</td>\n",
              "      <td>H</td>\n",
              "      <td>0</td>\n",
              "      <td>1</td>\n",
              "      <td>0</td>\n",
              "      <td>337500.0</td>\n",
              "      <td>Associado comercial</td>\n",
              "      <td>Ensino medio</td>\n",
              "      <td>Casado</td>\n",
              "      <td>Casa propria</td>\n",
              "      <td>50.0</td>\n",
              "      <td>1</td>\n",
              "      <td>0</td>\n",
              "      <td>0</td>\n",
              "      <td>1</td>\n",
              "      <td>Motorista</td>\n",
              "      <td>2.0</td>\n",
              "      <td>3.5</td>\n",
              "    </tr>\n",
              "    <tr>\n",
              "      <th>423702</th>\n",
              "      <td>7838075</td>\n",
              "      <td>M</td>\n",
              "      <td>1</td>\n",
              "      <td>1</td>\n",
              "      <td>0</td>\n",
              "      <td>315000.0</td>\n",
              "      <td>Associado comercial</td>\n",
              "      <td>Ensino superior</td>\n",
              "      <td>Solteiro</td>\n",
              "      <td>Casa propria</td>\n",
              "      <td>29.0</td>\n",
              "      <td>1</td>\n",
              "      <td>0</td>\n",
              "      <td>0</td>\n",
              "      <td>1</td>\n",
              "      <td>Outros</td>\n",
              "      <td>1.0</td>\n",
              "      <td>4.5</td>\n",
              "    </tr>\n",
              "  </tbody>\n",
              "</table>\n",
              "<p>94 rows × 18 columns</p>\n",
              "</div>"
            ],
            "text/plain": [
              "        ID_Cliente Genero  ...  Tamanho_Familia  Anos_empregado\n",
              "426818     7022197      H  ...              5.0             2.0\n",
              "425023     7022197      M  ...              1.0             4.9\n",
              "431545     7022327      M  ...              1.0            14.5\n",
              "431911     7022327      H  ...              2.0             4.6\n",
              "425486     7023108      H  ...              3.0             4.6\n",
              "...            ...    ...  ...              ...             ...\n",
              "426563     7836711      M  ...              4.0            12.0\n",
              "421464     7836971      H  ...              3.0            15.1\n",
              "428620     7836971      M  ...              2.0             7.7\n",
              "422068     7838075      H  ...              2.0             3.5\n",
              "423702     7838075      M  ...              1.0             4.5\n",
              "\n",
              "[94 rows x 18 columns]"
            ]
          },
          "metadata": {
            "tags": []
          },
          "execution_count": 10
        }
      ]
    },
    {
      "cell_type": "markdown",
      "metadata": {
        "id": "esQgg__RHhCJ"
      },
      "source": [
        "Temos 94 registros duplicados. Isso representa em torno de 0,02% de nossa base.\n",
        "\n",
        "Inicialmente, podemos desprezar esses registros para avançarmos em nossa análise."
      ]
    },
    {
      "cell_type": "code",
      "metadata": {
        "colab": {
          "base_uri": "https://localhost:8080/"
        },
        "id": "EJBAy98DxIJd",
        "outputId": "ea948abb-1c43-4d4e-8ba2-4785ae7b3d3f"
      },
      "source": [
        "id_repetidos = dados_cadastrados[dados_cadastrados.ID_Cliente.duplicated(keep=False)].sort_values(by='ID_Cliente')['ID_Cliente']\n",
        "id_repetidos"
      ],
      "execution_count": 11,
      "outputs": [
        {
          "output_type": "execute_result",
          "data": {
            "text/plain": [
              "426818    7022197\n",
              "425023    7022197\n",
              "431545    7022327\n",
              "431911    7022327\n",
              "425486    7023108\n",
              "           ...   \n",
              "426563    7836711\n",
              "421464    7836971\n",
              "428620    7836971\n",
              "422068    7838075\n",
              "423702    7838075\n",
              "Name: ID_Cliente, Length: 94, dtype: int64"
            ]
          },
          "metadata": {
            "tags": []
          },
          "execution_count": 11
        }
      ]
    },
    {
      "cell_type": "code",
      "metadata": {
        "colab": {
          "base_uri": "https://localhost:8080/",
          "height": 597
        },
        "id": "BweVA3gXxIHB",
        "outputId": "700c1448-acf5-46e2-fbd9-fa48ec5d9ffb"
      },
      "source": [
        "dados_cad_id_unicos = dados_cadastrados.drop(id_repetidos.index)\n",
        "dados_cad_id_unicos"
      ],
      "execution_count": 12,
      "outputs": [
        {
          "output_type": "execute_result",
          "data": {
            "text/html": [
              "<div>\n",
              "<style scoped>\n",
              "    .dataframe tbody tr th:only-of-type {\n",
              "        vertical-align: middle;\n",
              "    }\n",
              "\n",
              "    .dataframe tbody tr th {\n",
              "        vertical-align: top;\n",
              "    }\n",
              "\n",
              "    .dataframe thead th {\n",
              "        text-align: right;\n",
              "    }\n",
              "</style>\n",
              "<table border=\"1\" class=\"dataframe\">\n",
              "  <thead>\n",
              "    <tr style=\"text-align: right;\">\n",
              "      <th></th>\n",
              "      <th>ID_Cliente</th>\n",
              "      <th>Genero</th>\n",
              "      <th>Tem_Carro</th>\n",
              "      <th>Tem_Casa_Propria</th>\n",
              "      <th>Qtd_Filhos</th>\n",
              "      <th>Rendimento_Anual</th>\n",
              "      <th>Categoria_de_renda</th>\n",
              "      <th>Grau_Escolaridade</th>\n",
              "      <th>Estado_Civil</th>\n",
              "      <th>Moradia</th>\n",
              "      <th>Idade</th>\n",
              "      <th>Tem_Celular</th>\n",
              "      <th>Tem_telefone_trabalho</th>\n",
              "      <th>Tem_telefone_fixo</th>\n",
              "      <th>Tem_email</th>\n",
              "      <th>Ocupacao</th>\n",
              "      <th>Tamanho_Familia</th>\n",
              "      <th>Anos_empregado</th>\n",
              "    </tr>\n",
              "  </thead>\n",
              "  <tbody>\n",
              "    <tr>\n",
              "      <th>0</th>\n",
              "      <td>5008804</td>\n",
              "      <td>H</td>\n",
              "      <td>1</td>\n",
              "      <td>1</td>\n",
              "      <td>0</td>\n",
              "      <td>427500.0</td>\n",
              "      <td>Empregado</td>\n",
              "      <td>Ensino superior</td>\n",
              "      <td>Uniao estavel</td>\n",
              "      <td>Alugado</td>\n",
              "      <td>33.0</td>\n",
              "      <td>1</td>\n",
              "      <td>1</td>\n",
              "      <td>0</td>\n",
              "      <td>0</td>\n",
              "      <td>Outros</td>\n",
              "      <td>2.0</td>\n",
              "      <td>12.4</td>\n",
              "    </tr>\n",
              "    <tr>\n",
              "      <th>1</th>\n",
              "      <td>5008805</td>\n",
              "      <td>H</td>\n",
              "      <td>1</td>\n",
              "      <td>1</td>\n",
              "      <td>0</td>\n",
              "      <td>427500.0</td>\n",
              "      <td>Empregado</td>\n",
              "      <td>Ensino superior</td>\n",
              "      <td>Uniao estavel</td>\n",
              "      <td>Alugado</td>\n",
              "      <td>33.0</td>\n",
              "      <td>1</td>\n",
              "      <td>1</td>\n",
              "      <td>0</td>\n",
              "      <td>0</td>\n",
              "      <td>Outros</td>\n",
              "      <td>2.0</td>\n",
              "      <td>12.4</td>\n",
              "    </tr>\n",
              "    <tr>\n",
              "      <th>2</th>\n",
              "      <td>5008806</td>\n",
              "      <td>H</td>\n",
              "      <td>1</td>\n",
              "      <td>1</td>\n",
              "      <td>0</td>\n",
              "      <td>112500.0</td>\n",
              "      <td>Empregado</td>\n",
              "      <td>Ensino medio</td>\n",
              "      <td>Casado</td>\n",
              "      <td>Casa propria</td>\n",
              "      <td>59.0</td>\n",
              "      <td>1</td>\n",
              "      <td>0</td>\n",
              "      <td>0</td>\n",
              "      <td>0</td>\n",
              "      <td>Seguranca</td>\n",
              "      <td>2.0</td>\n",
              "      <td>3.1</td>\n",
              "    </tr>\n",
              "    <tr>\n",
              "      <th>3</th>\n",
              "      <td>5008808</td>\n",
              "      <td>M</td>\n",
              "      <td>0</td>\n",
              "      <td>1</td>\n",
              "      <td>0</td>\n",
              "      <td>270000.0</td>\n",
              "      <td>Associado comercial</td>\n",
              "      <td>Ensino medio</td>\n",
              "      <td>Solteiro</td>\n",
              "      <td>Casa propria</td>\n",
              "      <td>52.0</td>\n",
              "      <td>1</td>\n",
              "      <td>0</td>\n",
              "      <td>1</td>\n",
              "      <td>1</td>\n",
              "      <td>Venda</td>\n",
              "      <td>1.0</td>\n",
              "      <td>8.4</td>\n",
              "    </tr>\n",
              "    <tr>\n",
              "      <th>4</th>\n",
              "      <td>5008809</td>\n",
              "      <td>M</td>\n",
              "      <td>0</td>\n",
              "      <td>1</td>\n",
              "      <td>0</td>\n",
              "      <td>270000.0</td>\n",
              "      <td>Associado comercial</td>\n",
              "      <td>Ensino medio</td>\n",
              "      <td>Solteiro</td>\n",
              "      <td>Casa propria</td>\n",
              "      <td>52.0</td>\n",
              "      <td>1</td>\n",
              "      <td>0</td>\n",
              "      <td>1</td>\n",
              "      <td>1</td>\n",
              "      <td>Venda</td>\n",
              "      <td>1.0</td>\n",
              "      <td>8.4</td>\n",
              "    </tr>\n",
              "    <tr>\n",
              "      <th>...</th>\n",
              "      <td>...</td>\n",
              "      <td>...</td>\n",
              "      <td>...</td>\n",
              "      <td>...</td>\n",
              "      <td>...</td>\n",
              "      <td>...</td>\n",
              "      <td>...</td>\n",
              "      <td>...</td>\n",
              "      <td>...</td>\n",
              "      <td>...</td>\n",
              "      <td>...</td>\n",
              "      <td>...</td>\n",
              "      <td>...</td>\n",
              "      <td>...</td>\n",
              "      <td>...</td>\n",
              "      <td>...</td>\n",
              "      <td>...</td>\n",
              "      <td>...</td>\n",
              "    </tr>\n",
              "    <tr>\n",
              "      <th>438552</th>\n",
              "      <td>6840104</td>\n",
              "      <td>H</td>\n",
              "      <td>0</td>\n",
              "      <td>1</td>\n",
              "      <td>0</td>\n",
              "      <td>135000.0</td>\n",
              "      <td>Pensionista</td>\n",
              "      <td>Ensino medio</td>\n",
              "      <td>Separado</td>\n",
              "      <td>Casa propria</td>\n",
              "      <td>62.0</td>\n",
              "      <td>1</td>\n",
              "      <td>0</td>\n",
              "      <td>0</td>\n",
              "      <td>0</td>\n",
              "      <td>Outros</td>\n",
              "      <td>1.0</td>\n",
              "      <td>-1000.7</td>\n",
              "    </tr>\n",
              "    <tr>\n",
              "      <th>438553</th>\n",
              "      <td>6840222</td>\n",
              "      <td>M</td>\n",
              "      <td>0</td>\n",
              "      <td>0</td>\n",
              "      <td>0</td>\n",
              "      <td>103500.0</td>\n",
              "      <td>Empregado</td>\n",
              "      <td>Ensino medio</td>\n",
              "      <td>Solteiro</td>\n",
              "      <td>Casa propria</td>\n",
              "      <td>44.0</td>\n",
              "      <td>1</td>\n",
              "      <td>0</td>\n",
              "      <td>0</td>\n",
              "      <td>0</td>\n",
              "      <td>Construcao Civil</td>\n",
              "      <td>1.0</td>\n",
              "      <td>8.2</td>\n",
              "    </tr>\n",
              "    <tr>\n",
              "      <th>438554</th>\n",
              "      <td>6841878</td>\n",
              "      <td>M</td>\n",
              "      <td>0</td>\n",
              "      <td>0</td>\n",
              "      <td>0</td>\n",
              "      <td>54000.0</td>\n",
              "      <td>Associado comercial</td>\n",
              "      <td>Ensino superior</td>\n",
              "      <td>Solteiro</td>\n",
              "      <td>Mora com os pais</td>\n",
              "      <td>22.0</td>\n",
              "      <td>1</td>\n",
              "      <td>1</td>\n",
              "      <td>0</td>\n",
              "      <td>0</td>\n",
              "      <td>Venda</td>\n",
              "      <td>1.0</td>\n",
              "      <td>1.0</td>\n",
              "    </tr>\n",
              "    <tr>\n",
              "      <th>438555</th>\n",
              "      <td>6842765</td>\n",
              "      <td>M</td>\n",
              "      <td>0</td>\n",
              "      <td>1</td>\n",
              "      <td>0</td>\n",
              "      <td>72000.0</td>\n",
              "      <td>Pensionista</td>\n",
              "      <td>Ensino medio</td>\n",
              "      <td>Casado</td>\n",
              "      <td>Casa propria</td>\n",
              "      <td>59.0</td>\n",
              "      <td>1</td>\n",
              "      <td>0</td>\n",
              "      <td>0</td>\n",
              "      <td>0</td>\n",
              "      <td>Outros</td>\n",
              "      <td>2.0</td>\n",
              "      <td>-1000.7</td>\n",
              "    </tr>\n",
              "    <tr>\n",
              "      <th>438556</th>\n",
              "      <td>6842885</td>\n",
              "      <td>M</td>\n",
              "      <td>0</td>\n",
              "      <td>1</td>\n",
              "      <td>0</td>\n",
              "      <td>121500.0</td>\n",
              "      <td>Empregado</td>\n",
              "      <td>Ensino medio</td>\n",
              "      <td>Casado</td>\n",
              "      <td>Casa propria</td>\n",
              "      <td>52.0</td>\n",
              "      <td>1</td>\n",
              "      <td>0</td>\n",
              "      <td>1</td>\n",
              "      <td>0</td>\n",
              "      <td>Venda</td>\n",
              "      <td>2.0</td>\n",
              "      <td>3.3</td>\n",
              "    </tr>\n",
              "  </tbody>\n",
              "</table>\n",
              "<p>438463 rows × 18 columns</p>\n",
              "</div>"
            ],
            "text/plain": [
              "        ID_Cliente Genero  ...  Tamanho_Familia  Anos_empregado\n",
              "0          5008804      H  ...              2.0            12.4\n",
              "1          5008805      H  ...              2.0            12.4\n",
              "2          5008806      H  ...              2.0             3.1\n",
              "3          5008808      M  ...              1.0             8.4\n",
              "4          5008809      M  ...              1.0             8.4\n",
              "...            ...    ...  ...              ...             ...\n",
              "438552     6840104      H  ...              1.0         -1000.7\n",
              "438553     6840222      M  ...              1.0             8.2\n",
              "438554     6841878      M  ...              1.0             1.0\n",
              "438555     6842765      M  ...              2.0         -1000.7\n",
              "438556     6842885      M  ...              2.0             3.3\n",
              "\n",
              "[438463 rows x 18 columns]"
            ]
          },
          "metadata": {
            "tags": []
          },
          "execution_count": 12
        }
      ]
    },
    {
      "cell_type": "code",
      "metadata": {
        "colab": {
          "base_uri": "https://localhost:8080/"
        },
        "id": "ruq-dnKNxIEU",
        "outputId": "69daab50-5438-4fb9-8053-ed74386a7bfa"
      },
      "source": [
        "(dados_cad_id_unicos.ID_Cliente.value_counts() > 1).sum()"
      ],
      "execution_count": 13,
      "outputs": [
        {
          "output_type": "execute_result",
          "data": {
            "text/plain": [
              "0"
            ]
          },
          "metadata": {
            "tags": []
          },
          "execution_count": 13
        }
      ]
    },
    {
      "cell_type": "markdown",
      "metadata": {
        "id": "EcRD8GH1IPih"
      },
      "source": [
        "Agora estamos com um novo *dataframe*, sem nenhum **ID** duplicado.\n",
        "\n",
        "Conforme mencionado antes, nossa base aparentava ter dados em duplicidade também nas demais colunas, ou seja, clientes com vários **IDs** diferentes.\n",
        "\n",
        "Vamos verificar qual o impacto disso em nosso *dataset*."
      ]
    },
    {
      "cell_type": "code",
      "metadata": {
        "colab": {
          "base_uri": "https://localhost:8080/"
        },
        "id": "b9ti0wOsxIO5",
        "outputId": "6aaf5de4-e97a-4b34-e83f-203af8fe0045"
      },
      "source": [
        "dados_cadastrados.drop(['ID_Cliente'], axis=1).duplicated().sum()"
      ],
      "execution_count": 14,
      "outputs": [
        {
          "output_type": "execute_result",
          "data": {
            "text/plain": [
              "353636"
            ]
          },
          "metadata": {
            "tags": []
          },
          "execution_count": 14
        }
      ]
    },
    {
      "cell_type": "markdown",
      "metadata": {
        "id": "Wqi6m4lIKhJy"
      },
      "source": [
        "Aqui a situação é mais complexa.\n",
        "\n",
        "Temos mais de 350 mil registros idênticos em nossa base, mais de 80%.\n",
        "\n",
        "Não podemos desprezar esses dados sem investigar melhor o que pode ter acontecido em nossa base.\n",
        "\n",
        "Vamos prosseguir com a base que fizemos apenas retirando os **IDs** duplicados e verificar a existência de dados nulos em alguma coluna."
      ]
    },
    {
      "cell_type": "code",
      "metadata": {
        "colab": {
          "base_uri": "https://localhost:8080/"
        },
        "id": "eTSeG7i6xH_r",
        "outputId": "9b92bcaa-b16d-4112-fc72-fd83e992e61b"
      },
      "source": [
        "# Verificação de dados nulos na base\n",
        "\n",
        "dados_cad_id_unicos.isnull().sum()"
      ],
      "execution_count": 15,
      "outputs": [
        {
          "output_type": "execute_result",
          "data": {
            "text/plain": [
              "ID_Cliente               0\n",
              "Genero                   0\n",
              "Tem_Carro                0\n",
              "Tem_Casa_Propria         0\n",
              "Qtd_Filhos               0\n",
              "Rendimento_Anual         0\n",
              "Categoria_de_renda       0\n",
              "Grau_Escolaridade        0\n",
              "Estado_Civil             0\n",
              "Moradia                  0\n",
              "Idade                    0\n",
              "Tem_Celular              0\n",
              "Tem_telefone_trabalho    0\n",
              "Tem_telefone_fixo        0\n",
              "Tem_email                0\n",
              "Ocupacao                 0\n",
              "Tamanho_Familia          0\n",
              "Anos_empregado           0\n",
              "dtype: int64"
            ]
          },
          "metadata": {
            "tags": []
          },
          "execution_count": 15
        }
      ]
    },
    {
      "cell_type": "markdown",
      "metadata": {
        "id": "U78w8RwALTFV"
      },
      "source": [
        "Não temos dados nulos, podemos prosseguir."
      ]
    },
    {
      "cell_type": "code",
      "metadata": {
        "colab": {
          "base_uri": "https://localhost:8080/"
        },
        "id": "-TvkCkicxH9L",
        "outputId": "d57dc8d0-ade4-460f-a829-65fe3e7d1bc5"
      },
      "source": [
        "dados_cad_id_unicos.info()"
      ],
      "execution_count": 16,
      "outputs": [
        {
          "output_type": "stream",
          "text": [
            "<class 'pandas.core.frame.DataFrame'>\n",
            "Int64Index: 438463 entries, 0 to 438556\n",
            "Data columns (total 18 columns):\n",
            " #   Column                 Non-Null Count   Dtype  \n",
            "---  ------                 --------------   -----  \n",
            " 0   ID_Cliente             438463 non-null  int64  \n",
            " 1   Genero                 438463 non-null  object \n",
            " 2   Tem_Carro              438463 non-null  int64  \n",
            " 3   Tem_Casa_Propria       438463 non-null  int64  \n",
            " 4   Qtd_Filhos             438463 non-null  int64  \n",
            " 5   Rendimento_Anual       438463 non-null  float64\n",
            " 6   Categoria_de_renda     438463 non-null  object \n",
            " 7   Grau_Escolaridade      438463 non-null  object \n",
            " 8   Estado_Civil           438463 non-null  object \n",
            " 9   Moradia                438463 non-null  object \n",
            " 10  Idade                  438463 non-null  float64\n",
            " 11  Tem_Celular            438463 non-null  int64  \n",
            " 12  Tem_telefone_trabalho  438463 non-null  int64  \n",
            " 13  Tem_telefone_fixo      438463 non-null  int64  \n",
            " 14  Tem_email              438463 non-null  int64  \n",
            " 15  Ocupacao               438463 non-null  object \n",
            " 16  Tamanho_Familia        438463 non-null  float64\n",
            " 17  Anos_empregado         438463 non-null  float64\n",
            "dtypes: float64(4), int64(8), object(6)\n",
            "memory usage: 63.6+ MB\n"
          ],
          "name": "stdout"
        }
      ]
    },
    {
      "cell_type": "markdown",
      "metadata": {
        "id": "rUIEN22E4H0y"
      },
      "source": [
        "#### **Desafio 1 - Explorar IDs Repetidos (Atualização de Cadastro? Erro?)**\n",
        "---\n",
        "\n"
      ]
    },
    {
      "cell_type": "markdown",
      "metadata": {
        "id": "NtwlpnaO-Z7Y"
      },
      "source": [
        "Primeiro vamos gerar um *dataframe* só com os 94 clientes que foram desconsiderados da nossa base acima."
      ]
    },
    {
      "cell_type": "code",
      "metadata": {
        "colab": {
          "base_uri": "https://localhost:8080/",
          "height": 615
        },
        "id": "QYuavS9f4zZl",
        "outputId": "ce039723-4d54-4c6d-b228-9272ef70199d"
      },
      "source": [
        "dados_cad_id_repetidos = dados_cadastrados[dados_cadastrados.ID_Cliente.isin(id_repetidos)].sort_values(by='ID_Cliente')\n",
        "dados_cad_id_repetidos"
      ],
      "execution_count": 17,
      "outputs": [
        {
          "output_type": "execute_result",
          "data": {
            "text/html": [
              "<div>\n",
              "<style scoped>\n",
              "    .dataframe tbody tr th:only-of-type {\n",
              "        vertical-align: middle;\n",
              "    }\n",
              "\n",
              "    .dataframe tbody tr th {\n",
              "        vertical-align: top;\n",
              "    }\n",
              "\n",
              "    .dataframe thead th {\n",
              "        text-align: right;\n",
              "    }\n",
              "</style>\n",
              "<table border=\"1\" class=\"dataframe\">\n",
              "  <thead>\n",
              "    <tr style=\"text-align: right;\">\n",
              "      <th></th>\n",
              "      <th>ID_Cliente</th>\n",
              "      <th>Genero</th>\n",
              "      <th>Tem_Carro</th>\n",
              "      <th>Tem_Casa_Propria</th>\n",
              "      <th>Qtd_Filhos</th>\n",
              "      <th>Rendimento_Anual</th>\n",
              "      <th>Categoria_de_renda</th>\n",
              "      <th>Grau_Escolaridade</th>\n",
              "      <th>Estado_Civil</th>\n",
              "      <th>Moradia</th>\n",
              "      <th>Idade</th>\n",
              "      <th>Tem_Celular</th>\n",
              "      <th>Tem_telefone_trabalho</th>\n",
              "      <th>Tem_telefone_fixo</th>\n",
              "      <th>Tem_email</th>\n",
              "      <th>Ocupacao</th>\n",
              "      <th>Tamanho_Familia</th>\n",
              "      <th>Anos_empregado</th>\n",
              "    </tr>\n",
              "  </thead>\n",
              "  <tbody>\n",
              "    <tr>\n",
              "      <th>426818</th>\n",
              "      <td>7022197</td>\n",
              "      <td>H</td>\n",
              "      <td>1</td>\n",
              "      <td>1</td>\n",
              "      <td>3</td>\n",
              "      <td>135000.0</td>\n",
              "      <td>Empregado</td>\n",
              "      <td>Ensino medio</td>\n",
              "      <td>Casado</td>\n",
              "      <td>Casa propria</td>\n",
              "      <td>33.0</td>\n",
              "      <td>1</td>\n",
              "      <td>0</td>\n",
              "      <td>0</td>\n",
              "      <td>1</td>\n",
              "      <td>Construcao Civil</td>\n",
              "      <td>5.0</td>\n",
              "      <td>2.0</td>\n",
              "    </tr>\n",
              "    <tr>\n",
              "      <th>425023</th>\n",
              "      <td>7022197</td>\n",
              "      <td>M</td>\n",
              "      <td>0</td>\n",
              "      <td>1</td>\n",
              "      <td>0</td>\n",
              "      <td>450000.0</td>\n",
              "      <td>Associado comercial</td>\n",
              "      <td>Ensino superior</td>\n",
              "      <td>Separado</td>\n",
              "      <td>Casa propria</td>\n",
              "      <td>54.0</td>\n",
              "      <td>1</td>\n",
              "      <td>0</td>\n",
              "      <td>0</td>\n",
              "      <td>1</td>\n",
              "      <td>Outros</td>\n",
              "      <td>1.0</td>\n",
              "      <td>4.9</td>\n",
              "    </tr>\n",
              "    <tr>\n",
              "      <th>431545</th>\n",
              "      <td>7022327</td>\n",
              "      <td>M</td>\n",
              "      <td>0</td>\n",
              "      <td>1</td>\n",
              "      <td>0</td>\n",
              "      <td>135000.0</td>\n",
              "      <td>Associado comercial</td>\n",
              "      <td>Ensino medio</td>\n",
              "      <td>Solteiro</td>\n",
              "      <td>Casa propria</td>\n",
              "      <td>40.0</td>\n",
              "      <td>1</td>\n",
              "      <td>0</td>\n",
              "      <td>0</td>\n",
              "      <td>0</td>\n",
              "      <td>Alta tecnologia</td>\n",
              "      <td>1.0</td>\n",
              "      <td>14.5</td>\n",
              "    </tr>\n",
              "    <tr>\n",
              "      <th>431911</th>\n",
              "      <td>7022327</td>\n",
              "      <td>H</td>\n",
              "      <td>1</td>\n",
              "      <td>1</td>\n",
              "      <td>0</td>\n",
              "      <td>256500.0</td>\n",
              "      <td>Associado comercial</td>\n",
              "      <td>Ensino superior</td>\n",
              "      <td>Casado</td>\n",
              "      <td>Casa propria</td>\n",
              "      <td>59.0</td>\n",
              "      <td>1</td>\n",
              "      <td>0</td>\n",
              "      <td>0</td>\n",
              "      <td>1</td>\n",
              "      <td>Equipe principal</td>\n",
              "      <td>2.0</td>\n",
              "      <td>4.6</td>\n",
              "    </tr>\n",
              "    <tr>\n",
              "      <th>425486</th>\n",
              "      <td>7023108</td>\n",
              "      <td>H</td>\n",
              "      <td>1</td>\n",
              "      <td>1</td>\n",
              "      <td>1</td>\n",
              "      <td>67500.0</td>\n",
              "      <td>Empregado</td>\n",
              "      <td>Ensino medio</td>\n",
              "      <td>Casado</td>\n",
              "      <td>Casa propria</td>\n",
              "      <td>42.0</td>\n",
              "      <td>1</td>\n",
              "      <td>1</td>\n",
              "      <td>0</td>\n",
              "      <td>0</td>\n",
              "      <td>Equipe principal</td>\n",
              "      <td>3.0</td>\n",
              "      <td>4.6</td>\n",
              "    </tr>\n",
              "    <tr>\n",
              "      <th>...</th>\n",
              "      <td>...</td>\n",
              "      <td>...</td>\n",
              "      <td>...</td>\n",
              "      <td>...</td>\n",
              "      <td>...</td>\n",
              "      <td>...</td>\n",
              "      <td>...</td>\n",
              "      <td>...</td>\n",
              "      <td>...</td>\n",
              "      <td>...</td>\n",
              "      <td>...</td>\n",
              "      <td>...</td>\n",
              "      <td>...</td>\n",
              "      <td>...</td>\n",
              "      <td>...</td>\n",
              "      <td>...</td>\n",
              "      <td>...</td>\n",
              "      <td>...</td>\n",
              "    </tr>\n",
              "    <tr>\n",
              "      <th>426563</th>\n",
              "      <td>7836711</td>\n",
              "      <td>M</td>\n",
              "      <td>0</td>\n",
              "      <td>1</td>\n",
              "      <td>2</td>\n",
              "      <td>292500.0</td>\n",
              "      <td>Empregado</td>\n",
              "      <td>Ensino superior</td>\n",
              "      <td>Casado</td>\n",
              "      <td>Casa propria</td>\n",
              "      <td>38.0</td>\n",
              "      <td>1</td>\n",
              "      <td>0</td>\n",
              "      <td>1</td>\n",
              "      <td>0</td>\n",
              "      <td>Contabilidade</td>\n",
              "      <td>4.0</td>\n",
              "      <td>12.0</td>\n",
              "    </tr>\n",
              "    <tr>\n",
              "      <th>421464</th>\n",
              "      <td>7836971</td>\n",
              "      <td>H</td>\n",
              "      <td>1</td>\n",
              "      <td>0</td>\n",
              "      <td>1</td>\n",
              "      <td>157500.0</td>\n",
              "      <td>Empregado</td>\n",
              "      <td>Ensino medio</td>\n",
              "      <td>Casado</td>\n",
              "      <td>Casa propria</td>\n",
              "      <td>38.0</td>\n",
              "      <td>1</td>\n",
              "      <td>0</td>\n",
              "      <td>0</td>\n",
              "      <td>0</td>\n",
              "      <td>Outros</td>\n",
              "      <td>3.0</td>\n",
              "      <td>15.1</td>\n",
              "    </tr>\n",
              "    <tr>\n",
              "      <th>428620</th>\n",
              "      <td>7836971</td>\n",
              "      <td>M</td>\n",
              "      <td>0</td>\n",
              "      <td>1</td>\n",
              "      <td>0</td>\n",
              "      <td>103500.0</td>\n",
              "      <td>Empregado</td>\n",
              "      <td>Ensino medio</td>\n",
              "      <td>Uniao estavel</td>\n",
              "      <td>Casa propria</td>\n",
              "      <td>37.0</td>\n",
              "      <td>1</td>\n",
              "      <td>0</td>\n",
              "      <td>1</td>\n",
              "      <td>0</td>\n",
              "      <td>Venda</td>\n",
              "      <td>2.0</td>\n",
              "      <td>7.7</td>\n",
              "    </tr>\n",
              "    <tr>\n",
              "      <th>422068</th>\n",
              "      <td>7838075</td>\n",
              "      <td>H</td>\n",
              "      <td>0</td>\n",
              "      <td>1</td>\n",
              "      <td>0</td>\n",
              "      <td>337500.0</td>\n",
              "      <td>Associado comercial</td>\n",
              "      <td>Ensino medio</td>\n",
              "      <td>Casado</td>\n",
              "      <td>Casa propria</td>\n",
              "      <td>50.0</td>\n",
              "      <td>1</td>\n",
              "      <td>0</td>\n",
              "      <td>0</td>\n",
              "      <td>1</td>\n",
              "      <td>Motorista</td>\n",
              "      <td>2.0</td>\n",
              "      <td>3.5</td>\n",
              "    </tr>\n",
              "    <tr>\n",
              "      <th>423702</th>\n",
              "      <td>7838075</td>\n",
              "      <td>M</td>\n",
              "      <td>1</td>\n",
              "      <td>1</td>\n",
              "      <td>0</td>\n",
              "      <td>315000.0</td>\n",
              "      <td>Associado comercial</td>\n",
              "      <td>Ensino superior</td>\n",
              "      <td>Solteiro</td>\n",
              "      <td>Casa propria</td>\n",
              "      <td>29.0</td>\n",
              "      <td>1</td>\n",
              "      <td>0</td>\n",
              "      <td>0</td>\n",
              "      <td>1</td>\n",
              "      <td>Outros</td>\n",
              "      <td>1.0</td>\n",
              "      <td>4.5</td>\n",
              "    </tr>\n",
              "  </tbody>\n",
              "</table>\n",
              "<p>94 rows × 18 columns</p>\n",
              "</div>"
            ],
            "text/plain": [
              "        ID_Cliente Genero  ...  Tamanho_Familia  Anos_empregado\n",
              "426818     7022197      H  ...              5.0             2.0\n",
              "425023     7022197      M  ...              1.0             4.9\n",
              "431545     7022327      M  ...              1.0            14.5\n",
              "431911     7022327      H  ...              2.0             4.6\n",
              "425486     7023108      H  ...              3.0             4.6\n",
              "...            ...    ...  ...              ...             ...\n",
              "426563     7836711      M  ...              4.0            12.0\n",
              "421464     7836971      H  ...              3.0            15.1\n",
              "428620     7836971      M  ...              2.0             7.7\n",
              "422068     7838075      H  ...              2.0             3.5\n",
              "423702     7838075      M  ...              1.0             4.5\n",
              "\n",
              "[94 rows x 18 columns]"
            ]
          },
          "metadata": {
            "tags": []
          },
          "execution_count": 17
        }
      ]
    },
    {
      "cell_type": "code",
      "metadata": {
        "colab": {
          "base_uri": "https://localhost:8080/"
        },
        "id": "08rZ_PUF55mA",
        "outputId": "a18e05a4-59a5-4901-ca4c-34a545f4a68d"
      },
      "source": [
        "dados_cad_id_repetidos.drop('ID_Cliente', axis=1).duplicated().sum()"
      ],
      "execution_count": 18,
      "outputs": [
        {
          "output_type": "execute_result",
          "data": {
            "text/plain": [
              "0"
            ]
          },
          "metadata": {
            "tags": []
          },
          "execution_count": 18
        }
      ]
    },
    {
      "cell_type": "markdown",
      "metadata": {
        "id": "PKVMIDrg9zAp"
      },
      "source": [
        "Desprezando o **```ID_Cliente```** desses 94 registros com **ID** duplicado, podemos ver que não temos nenhuma duplicidade do restante dos dados.\n",
        "\n",
        "Isso indica que temos algum tipo de erro na atribuição desses **IDs**, permitindo que não seja uma chave única em nossa base.\n",
        "\n",
        "É necessário verificar se foi um erro na extração ou se o erro também está presente no sistema de foram extraídos os dados."
      ]
    },
    {
      "cell_type": "markdown",
      "metadata": {
        "id": "_LJ6XbHX28d-"
      },
      "source": [
        "#### **Desafio 2 - Explorar as Colunas (*features*) e Identificar se são Contínuas, Categóricas, Binárias**\n",
        "---\n",
        "\n"
      ]
    },
    {
      "cell_type": "code",
      "metadata": {
        "id": "2eanOyOD-tBt"
      },
      "source": [
        "cols_int64 = dados_cad_id_unicos.select_dtypes('int64').columns\n",
        "cols_float64 = dados_cad_id_unicos.select_dtypes('float64').columns\n",
        "cols_object = var_float64 = dados_cad_id_unicos.select_dtypes('object').columns"
      ],
      "execution_count": 19,
      "outputs": []
    },
    {
      "cell_type": "code",
      "metadata": {
        "colab": {
          "base_uri": "https://localhost:8080/"
        },
        "id": "mvma-bJj-s-_",
        "outputId": "31933b20-5162-4a30-df88-2a2aa386342e"
      },
      "source": [
        "for var in cols_int64:\n",
        "    print(var,'- Valores Únicos:', str(np.sort(dados_cad_id_unicos[var].unique())))"
      ],
      "execution_count": 20,
      "outputs": [
        {
          "output_type": "stream",
          "text": [
            "ID_Cliente - Valores Únicos: [5008804 5008805 5008806 ... 7999738 7999784 7999952]\n",
            "Tem_Carro - Valores Únicos: [0 1]\n",
            "Tem_Casa_Propria - Valores Únicos: [0 1]\n",
            "Qtd_Filhos - Valores Únicos: [ 0  1  2  3  4  5  6  7  9 12 14 19]\n",
            "Tem_Celular - Valores Únicos: [1]\n",
            "Tem_telefone_trabalho - Valores Únicos: [0 1]\n",
            "Tem_telefone_fixo - Valores Únicos: [0 1]\n",
            "Tem_email - Valores Únicos: [0 1]\n"
          ],
          "name": "stdout"
        }
      ]
    },
    {
      "cell_type": "code",
      "metadata": {
        "colab": {
          "base_uri": "https://localhost:8080/"
        },
        "id": "9-hX_bAtClII",
        "outputId": "211f3014-f566-445b-e836-25b50163671f"
      },
      "source": [
        "dados_cad_id_unicos[dados_cad_id_unicos.Qtd_Filhos.isin([12,14,19])].shape[0]"
      ],
      "execution_count": 119,
      "outputs": [
        {
          "output_type": "execute_result",
          "data": {
            "text/plain": [
              "8"
            ]
          },
          "metadata": {
            "tags": []
          },
          "execution_count": 119
        }
      ]
    },
    {
      "cell_type": "markdown",
      "metadata": {
        "id": "fq7wkbxrB7vc"
      },
      "source": [
        "As colunas que estão com o tipo **`int64`** são, em sua maioria, binárias.\n",
        "\n",
        "As exceções são:\n",
        "* **ID_Cliente:** que já vimos que é o identificador de cliente\n",
        "* **Qtd_Filhos:** que varia de 0 à 19 (e esses números excessivamente altos podem indicar erros de preenchimento, mas temos 8 clientes com 12 ou mais filhos)\n",
        "* **Tem_Celular:** que é igual a 1 para todos, podendo ser desconsiderada"
      ]
    },
    {
      "cell_type": "code",
      "metadata": {
        "colab": {
          "base_uri": "https://localhost:8080/"
        },
        "id": "SiKDs2xM-s8Z",
        "outputId": "3de1166d-d5bc-4f07-dd36-53007e440dae"
      },
      "source": [
        "for var in cols_float64:\n",
        "    print(var,'- Range:', str(dados_cad_id_unicos[var].min()), 'à', str(dados_cad_id_unicos[var].max()))\n",
        "    print('          - Média e Desvio Padrão:', str(dados_cad_id_unicos[var].mean()), 'e', str(dados_cad_id_unicos[var].std()))"
      ],
      "execution_count": 22,
      "outputs": [
        {
          "output_type": "stream",
          "text": [
            "Rendimento_Anual - Range: 26100.0 à 6750000.0\n",
            "          - Média e Desvio Padrão: 187522.009381567 e 110083.15376904178\n",
            "Idade - Range: 21.0 à 69.0\n",
            "          - Média e Desvio Padrão: 43.83403160585956 e 11.472814834775818\n",
            "Tamanho_Familia - Range: 1.0 à 20.0\n",
            "          - Média e Desvio Padrão: 2.1944611061822776 e 0.8971944827602194\n",
            "Anos_empregado - Range: -1000.7 à 48.0\n",
            "          - Média e Desvio Padrão: -165.9360358800694 e 380.20113080357845\n"
          ],
          "name": "stdout"
        }
      ]
    },
    {
      "cell_type": "code",
      "metadata": {
        "colab": {
          "base_uri": "https://localhost:8080/"
        },
        "id": "w8g5vk3FBQiX",
        "outputId": "02e6c48a-d481-4878-c175-11f9de69bd3a"
      },
      "source": [
        "dados_cad_id_unicos[dados_cad_id_unicos.Anos_empregado == dados_cad_id_unicos.Anos_empregado.min()].shape"
      ],
      "execution_count": 23,
      "outputs": [
        {
          "output_type": "execute_result",
          "data": {
            "text/plain": [
              "(75314, 18)"
            ]
          },
          "metadata": {
            "tags": []
          },
          "execution_count": 23
        }
      ]
    },
    {
      "cell_type": "code",
      "metadata": {
        "colab": {
          "base_uri": "https://localhost:8080/"
        },
        "id": "n_PPDOQSEIB-",
        "outputId": "7fa77a30-017b-48b9-98e4-b22c7ee47f66"
      },
      "source": [
        "dados_cad_id_unicos[dados_cad_id_unicos.Anos_empregado < 0].shape"
      ],
      "execution_count": 24,
      "outputs": [
        {
          "output_type": "execute_result",
          "data": {
            "text/plain": [
              "(75314, 18)"
            ]
          },
          "metadata": {
            "tags": []
          },
          "execution_count": 24
        }
      ]
    },
    {
      "cell_type": "markdown",
      "metadata": {
        "id": "mEVPeZJZDg-u"
      },
      "source": [
        "As colunas com o tipo **`float64`** parecem estar classificadas corretamente, mas a variável **`Anos_empregado`** está com um erro de preenchimento, onde temos 75.314 registros com o valor de -1000,7, chegando a distorcer a média geral do *dataset*.\n",
        "\n",
        "Chama a atenção também que temos um *range* muito grande na variável **`Rendimento_Anual`**, variando de R\\$ 26 mil à R\\$ 6,75 milhões. Precisamos avaliar a existência de *outliers*.\n",
        "\n",
        "Isso precisa ser tratado antes de prosseguirmos."
      ]
    },
    {
      "cell_type": "code",
      "metadata": {
        "colab": {
          "base_uri": "https://localhost:8080/"
        },
        "id": "GKNvN6d8-s51",
        "outputId": "862c86b2-b156-4093-dcee-3ebdd135364d"
      },
      "source": [
        "for var in cols_object:\n",
        "    print(var,'- Valores:', str(np.sort(dados_cad_id_unicos[var].unique())))"
      ],
      "execution_count": 25,
      "outputs": [
        {
          "output_type": "stream",
          "text": [
            "Genero - Valores: ['H' 'M']\n",
            "Categoria_de_renda - Valores: ['Associado comercial' 'Empregado' 'Estudante' 'Pensionista'\n",
            " 'Servidor publico']\n",
            "Grau_Escolaridade - Valores: ['Ensino fundamental' 'Ensino medio' 'Ensino superior'\n",
            " 'Ensino superior incompleto' 'Pos graduacao']\n",
            "Estado_Civil - Valores: ['Casado' 'Separado' 'Solteiro' 'Uniao estavel' 'Viuvo']\n",
            "Moradia - Valores: ['Alugado' 'Apartamento comercial' 'Casa propria'\n",
            " 'Cooperativa habitacional' 'Habitacao publica' 'Mora com os pais']\n",
            "Ocupacao - Valores: ['Alta tecnologia' 'Baixa qualificacao' 'Construcao Civil' 'Contabilidade'\n",
            " 'Corretor imobiliario' 'Cozinha' 'Equipe principal' 'Garcom' 'Gerencia'\n",
            " 'Limpeza' 'Medicina' 'Motorista' 'Outros' 'RH' 'Secretariado' 'Seguranca'\n",
            " 'Servico privado' 'TI' 'Venda']\n"
          ],
          "name": "stdout"
        }
      ]
    },
    {
      "cell_type": "markdown",
      "metadata": {
        "id": "NNwnmYPrESlt"
      },
      "source": [
        "Entre as colunas com o tipo **`object`** temos apenas um ajuste que poderia ser feito, já pensando na futura utilização de *Machine Learning*, que é transformar a variável **`Genero`** em numérica binária."
      ]
    },
    {
      "cell_type": "markdown",
      "metadata": {
        "id": "03D-rOIN5dKM"
      },
      "source": [
        "#### **O que aprendemos nessa aula?**\n",
        "---\n",
        "\n",
        ">* **Mercado financeiro:**\n",
        ">\n",
        ">  * Pilares da cadeia de crédito;\n",
        ">  * Fluxo de um pedido de crédito.\n",
        ">\n",
        ">* **Base de dados:**\n",
        ">\n",
        ">  * Exploração da base de clientes cadastrados e suas *features*;\n",
        ">  * Verificação de dados duplicados e tratamento;\n",
        ">  * Verificação de dados nulos.\n",
        "---\n"
      ]
    },
    {
      "cell_type": "markdown",
      "metadata": {
        "id": "sMzKyn81L0PT"
      },
      "source": [
        "## **Aula 02 - Analisando a Base de Cadastro de Clientes**\n",
        "---\n"
      ]
    },
    {
      "cell_type": "markdown",
      "metadata": {
        "id": "Zt6qha7GuN4i"
      },
      "source": [
        "### **Vídeo 1 - Variáveis Contínuas / Quantitativas**"
      ]
    },
    {
      "cell_type": "markdown",
      "metadata": {
        "id": "j0MUSRgEqOkb"
      },
      "source": [
        ">Falamos no vídeo sobre dois tipos de variáveis, sendo elas as **categóricas** e as **contínuas**.\n",
        ">\n",
        ">As **variáveis contínuas** são variáveis quantitativas, que representam uma mensuração. Variáveis contínuas assumem valores em uma escala contínua (números reais), ou seja, são variáveis numéricas que podem assumir um número infinito de valores dentro de um intervalo.\n",
        ">\n",
        ">No nosso caso, as variáveis que no vídeo chamamos de contínuas são na verdade variáveis quantitativas já que contém tanto as variáveis discretas quanto as contínuas.\n",
        ">\n",
        ">Ao ver o vídeo, lembre-se dessas informações. Elas são muito importantes.\n",
        "---\n",
        "\n",
        "Vamos começar separando as colunas que contém variáveis quantitativas."
      ]
    },
    {
      "cell_type": "code",
      "metadata": {
        "id": "g0Jn7DyAMCav"
      },
      "source": [
        "cols_quantitativas = ['Idade', 'Qtd_Filhos', 'Anos_empregado', 'Tamanho_Familia', 'Rendimento_Anual']"
      ],
      "execution_count": 69,
      "outputs": []
    },
    {
      "cell_type": "code",
      "metadata": {
        "colab": {
          "base_uri": "https://localhost:8080/",
          "height": 205
        },
        "id": "AxzMQEWEgTli",
        "outputId": "17fe1107-ee3c-48ee-a552-86fda1d3d9fa"
      },
      "source": [
        "dados_cad_id_unicos[cols_quantitativas].describe().T"
      ],
      "execution_count": 27,
      "outputs": [
        {
          "output_type": "execute_result",
          "data": {
            "text/html": [
              "<div>\n",
              "<style scoped>\n",
              "    .dataframe tbody tr th:only-of-type {\n",
              "        vertical-align: middle;\n",
              "    }\n",
              "\n",
              "    .dataframe tbody tr th {\n",
              "        vertical-align: top;\n",
              "    }\n",
              "\n",
              "    .dataframe thead th {\n",
              "        text-align: right;\n",
              "    }\n",
              "</style>\n",
              "<table border=\"1\" class=\"dataframe\">\n",
              "  <thead>\n",
              "    <tr style=\"text-align: right;\">\n",
              "      <th></th>\n",
              "      <th>count</th>\n",
              "      <th>mean</th>\n",
              "      <th>std</th>\n",
              "      <th>min</th>\n",
              "      <th>25%</th>\n",
              "      <th>50%</th>\n",
              "      <th>75%</th>\n",
              "      <th>max</th>\n",
              "    </tr>\n",
              "  </thead>\n",
              "  <tbody>\n",
              "    <tr>\n",
              "      <th>Idade</th>\n",
              "      <td>438463.0</td>\n",
              "      <td>43.834032</td>\n",
              "      <td>11.472815</td>\n",
              "      <td>21.0</td>\n",
              "      <td>34.0</td>\n",
              "      <td>43.0</td>\n",
              "      <td>53.0</td>\n",
              "      <td>69.0</td>\n",
              "    </tr>\n",
              "    <tr>\n",
              "      <th>Qtd_Filhos</th>\n",
              "      <td>438463.0</td>\n",
              "      <td>0.427384</td>\n",
              "      <td>0.724879</td>\n",
              "      <td>0.0</td>\n",
              "      <td>0.0</td>\n",
              "      <td>0.0</td>\n",
              "      <td>1.0</td>\n",
              "      <td>19.0</td>\n",
              "    </tr>\n",
              "    <tr>\n",
              "      <th>Rendimento_Anual</th>\n",
              "      <td>438463.0</td>\n",
              "      <td>187522.009382</td>\n",
              "      <td>110083.153769</td>\n",
              "      <td>26100.0</td>\n",
              "      <td>121500.0</td>\n",
              "      <td>161100.0</td>\n",
              "      <td>225000.0</td>\n",
              "      <td>6750000.0</td>\n",
              "    </tr>\n",
              "    <tr>\n",
              "      <th>Anos_empregado</th>\n",
              "      <td>438463.0</td>\n",
              "      <td>-165.936036</td>\n",
              "      <td>380.201131</td>\n",
              "      <td>-1000.7</td>\n",
              "      <td>1.0</td>\n",
              "      <td>4.0</td>\n",
              "      <td>8.5</td>\n",
              "      <td>48.0</td>\n",
              "    </tr>\n",
              "    <tr>\n",
              "      <th>Tamanho_Familia</th>\n",
              "      <td>438463.0</td>\n",
              "      <td>2.194461</td>\n",
              "      <td>0.897194</td>\n",
              "      <td>1.0</td>\n",
              "      <td>2.0</td>\n",
              "      <td>2.0</td>\n",
              "      <td>3.0</td>\n",
              "      <td>20.0</td>\n",
              "    </tr>\n",
              "  </tbody>\n",
              "</table>\n",
              "</div>"
            ],
            "text/plain": [
              "                     count           mean  ...       75%        max\n",
              "Idade             438463.0      43.834032  ...      53.0       69.0\n",
              "Qtd_Filhos        438463.0       0.427384  ...       1.0       19.0\n",
              "Rendimento_Anual  438463.0  187522.009382  ...  225000.0  6750000.0\n",
              "Anos_empregado    438463.0    -165.936036  ...       8.5       48.0\n",
              "Tamanho_Familia   438463.0       2.194461  ...       3.0       20.0\n",
              "\n",
              "[5 rows x 8 columns]"
            ]
          },
          "metadata": {
            "tags": []
          },
          "execution_count": 27
        }
      ]
    },
    {
      "cell_type": "markdown",
      "metadata": {
        "id": "KlCGY_FDqwAS"
      },
      "source": [
        "Conforme já tinha identificado no desafio da aula anterior, temos um possível problema na variável **`Anos_empregado`**, onde temos diversas linhas com valor negativo.\n",
        "\n",
        "Vamos verificar qual a **`Categoria_de_renda`** dos clientes que estão com essa variável zerada ou negativa."
      ]
    },
    {
      "cell_type": "code",
      "metadata": {
        "colab": {
          "base_uri": "https://localhost:8080/"
        },
        "id": "ZIWJ3UFemC4U",
        "outputId": "b8992fde-da86-42a2-d0d2-7caef18ebfe1"
      },
      "source": [
        "dados_cad_id_unicos.query('Anos_empregado <= 0')[['Anos_empregado', 'Categoria_de_renda']].value_counts()"
      ],
      "execution_count": 28,
      "outputs": [
        {
          "output_type": "execute_result",
          "data": {
            "text/plain": [
              "Anos_empregado  Categoria_de_renda \n",
              "-1000.7         Pensionista            75314\n",
              " 0.0            Empregado                 26\n",
              "                Servidor publico          11\n",
              "                Associado comercial        7\n",
              "dtype: int64"
            ]
          },
          "metadata": {
            "tags": []
          },
          "execution_count": 28
        }
      ]
    },
    {
      "cell_type": "markdown",
      "metadata": {
        "id": "__s_lkSLrGF8"
      },
      "source": [
        "Como podemos observar, todos os clientes que constam como **Pensionista** na variável **`Categoria_de_renda`** estão com o mesmo valor (1000.7) negativo na variável **`Anos_empregado`**.\n",
        "\n",
        "Diferente da situação em que tínhamos alguns (poucos) **IDs** duplicados, agora temos uma grande quantidade de clientes com esse valor distorcido. Além disso, pertencem à categoria de **Pensionistas**, que normalmente é de interesse de empresas de crédito.\n",
        "\n",
        "Mas não podemos deixar os dados assim, até porque estão gerando uma distorção grande nas informações de tempo de emprego. Por isso, vamos alterar os valores para -1. Assim, não perdemos a informação mas vamos atenuar a distorção."
      ]
    },
    {
      "cell_type": "code",
      "metadata": {
        "colab": {
          "base_uri": "https://localhost:8080/"
        },
        "id": "3VTYizwStFRV",
        "outputId": "a304954a-9e54-4d66-ccb0-474412c73e3f"
      },
      "source": [
        "dados_cad_id_unicos.query('Categoria_de_renda == \"Pensionista\"')[['Anos_empregado', 'Categoria_de_renda']].value_counts()"
      ],
      "execution_count": 29,
      "outputs": [
        {
          "output_type": "execute_result",
          "data": {
            "text/plain": [
              "Anos_empregado  Categoria_de_renda\n",
              "-1000.7         Pensionista           75314\n",
              " 4.5            Pensionista               5\n",
              " 8.6            Pensionista               5\n",
              " 3.0            Pensionista               5\n",
              " 0.8            Pensionista               4\n",
              "                                      ...  \n",
              " 9.2            Pensionista               1\n",
              " 9.5            Pensionista               1\n",
              " 10.1           Pensionista               1\n",
              " 10.4           Pensionista               1\n",
              " 7.2            Pensionista               1\n",
              "Length: 98, dtype: int64"
            ]
          },
          "metadata": {
            "tags": []
          },
          "execution_count": 29
        }
      ]
    },
    {
      "cell_type": "markdown",
      "metadata": {
        "id": "YlbXvz0dtcyu"
      },
      "source": [
        "Não podemos fazer a alteração para todos os pensionistas, pois temos alguns com outros tempos de emprego. Vamos fazer a alteração especificamente daqueles que tem o valor de -1000,7."
      ]
    },
    {
      "cell_type": "code",
      "metadata": {
        "id": "BJKIJXyCtpa2"
      },
      "source": [
        "dados_cad_id_unicos['Anos_empregado'] = dados_cad_id_unicos['Anos_empregado'].replace(-1000.7, -1)"
      ],
      "execution_count": 30,
      "outputs": []
    },
    {
      "cell_type": "code",
      "metadata": {
        "colab": {
          "base_uri": "https://localhost:8080/",
          "height": 205
        },
        "id": "AGnGl81iuAu4",
        "outputId": "f5cbb745-0a1f-4aec-c70f-6853955ef82b"
      },
      "source": [
        "dados_cad_id_unicos[cols_quantitativas].describe().T"
      ],
      "execution_count": 31,
      "outputs": [
        {
          "output_type": "execute_result",
          "data": {
            "text/html": [
              "<div>\n",
              "<style scoped>\n",
              "    .dataframe tbody tr th:only-of-type {\n",
              "        vertical-align: middle;\n",
              "    }\n",
              "\n",
              "    .dataframe tbody tr th {\n",
              "        vertical-align: top;\n",
              "    }\n",
              "\n",
              "    .dataframe thead th {\n",
              "        text-align: right;\n",
              "    }\n",
              "</style>\n",
              "<table border=\"1\" class=\"dataframe\">\n",
              "  <thead>\n",
              "    <tr style=\"text-align: right;\">\n",
              "      <th></th>\n",
              "      <th>count</th>\n",
              "      <th>mean</th>\n",
              "      <th>std</th>\n",
              "      <th>min</th>\n",
              "      <th>25%</th>\n",
              "      <th>50%</th>\n",
              "      <th>75%</th>\n",
              "      <th>max</th>\n",
              "    </tr>\n",
              "  </thead>\n",
              "  <tbody>\n",
              "    <tr>\n",
              "      <th>Idade</th>\n",
              "      <td>438463.0</td>\n",
              "      <td>43.834032</td>\n",
              "      <td>11.472815</td>\n",
              "      <td>21.0</td>\n",
              "      <td>34.0</td>\n",
              "      <td>43.0</td>\n",
              "      <td>53.0</td>\n",
              "      <td>69.0</td>\n",
              "    </tr>\n",
              "    <tr>\n",
              "      <th>Qtd_Filhos</th>\n",
              "      <td>438463.0</td>\n",
              "      <td>0.427384</td>\n",
              "      <td>0.724879</td>\n",
              "      <td>0.0</td>\n",
              "      <td>0.0</td>\n",
              "      <td>0.0</td>\n",
              "      <td>1.0</td>\n",
              "      <td>19.0</td>\n",
              "    </tr>\n",
              "    <tr>\n",
              "      <th>Rendimento_Anual</th>\n",
              "      <td>438463.0</td>\n",
              "      <td>187522.009382</td>\n",
              "      <td>110083.153769</td>\n",
              "      <td>26100.0</td>\n",
              "      <td>121500.0</td>\n",
              "      <td>161100.0</td>\n",
              "      <td>225000.0</td>\n",
              "      <td>6750000.0</td>\n",
              "    </tr>\n",
              "    <tr>\n",
              "      <th>Anos_empregado</th>\n",
              "      <td>438463.0</td>\n",
              "      <td>5.780633</td>\n",
              "      <td>6.733151</td>\n",
              "      <td>-1.0</td>\n",
              "      <td>1.0</td>\n",
              "      <td>4.0</td>\n",
              "      <td>8.5</td>\n",
              "      <td>48.0</td>\n",
              "    </tr>\n",
              "    <tr>\n",
              "      <th>Tamanho_Familia</th>\n",
              "      <td>438463.0</td>\n",
              "      <td>2.194461</td>\n",
              "      <td>0.897194</td>\n",
              "      <td>1.0</td>\n",
              "      <td>2.0</td>\n",
              "      <td>2.0</td>\n",
              "      <td>3.0</td>\n",
              "      <td>20.0</td>\n",
              "    </tr>\n",
              "  </tbody>\n",
              "</table>\n",
              "</div>"
            ],
            "text/plain": [
              "                     count           mean  ...       75%        max\n",
              "Idade             438463.0      43.834032  ...      53.0       69.0\n",
              "Qtd_Filhos        438463.0       0.427384  ...       1.0       19.0\n",
              "Rendimento_Anual  438463.0  187522.009382  ...  225000.0  6750000.0\n",
              "Anos_empregado    438463.0       5.780633  ...       8.5       48.0\n",
              "Tamanho_Familia   438463.0       2.194461  ...       3.0       20.0\n",
              "\n",
              "[5 rows x 8 columns]"
            ]
          },
          "metadata": {
            "tags": []
          },
          "execution_count": 31
        }
      ]
    },
    {
      "cell_type": "markdown",
      "metadata": {
        "id": "A4ZHVfXlufZ_"
      },
      "source": [
        "### **Vídeo 2 -** ***Outliers***"
      ]
    },
    {
      "cell_type": "markdown",
      "metadata": {
        "id": "r56MyS-_ure3"
      },
      "source": [
        "Vamos analisar maneiras de tratar *outliers*.\n",
        "\n",
        "Podemos utilizar *boxplots* para identificar os *outliers* de nossos dados, mas vamos começar usando um histograma para verificar os dados de renda anual."
      ]
    },
    {
      "cell_type": "code",
      "metadata": {
        "colab": {
          "base_uri": "https://localhost:8080/",
          "height": 287
        },
        "id": "zLs6QFaHvE03",
        "outputId": "da9bcc03-b92f-40d8-e461-291876fef011"
      },
      "source": [
        "sns.histplot(data=dados_cad_id_unicos, x='Rendimento_Anual', bins=10)\n",
        "plt.xticks(rotation=45)\n",
        "plt.show()"
      ],
      "execution_count": 32,
      "outputs": [
        {
          "output_type": "display_data",
          "data": {
            "image/png": "[encoded data removed]",
            "text/plain": [
              "<Figure size 432x288 with 1 Axes>"
            ]
          },
          "metadata": {
            "tags": [],
            "needs_background": "light"
          }
        }
      ]
    },
    {
      "cell_type": "markdown",
      "metadata": {
        "id": "A3r8vHbsxWz5"
      },
      "source": [
        "Os *outliers* (para cima) distorcem nossa informação de tal maneira que o restante dos dados ficam concentrados em uma barra única.\n",
        "\n",
        "Vamos verificar como fica o *boxplot* dessa mesma variável."
      ]
    },
    {
      "cell_type": "code",
      "metadata": {
        "colab": {
          "base_uri": "https://localhost:8080/",
          "height": 303
        },
        "id": "XY8f3AyOw-LG",
        "outputId": "d27647d9-38ea-40e7-e070-b1354bd4c0c9"
      },
      "source": [
        "sns.boxplot(x=dados_cad_id_unicos.Rendimento_Anual)"
      ],
      "execution_count": 33,
      "outputs": [
        {
          "output_type": "execute_result",
          "data": {
            "text/plain": [
              "<matplotlib.axes._subplots.AxesSubplot at 0x7f2ebce96710>"
            ]
          },
          "metadata": {
            "tags": []
          },
          "execution_count": 33
        },
        {
          "output_type": "display_data",
          "data": {
            "image/png": "[encoded data removed]",
            "text/plain": [
              "<Figure size 432x288 with 1 Axes>"
            ]
          },
          "metadata": {
            "tags": [],
            "needs_background": "light"
          }
        }
      ]
    },
    {
      "cell_type": "markdown",
      "metadata": {
        "id": "PgrdE_zRxqBJ"
      },
      "source": [
        "Claramente precisamos tratar esses *outliers* para não penalizar o nosso futuro modelo de decisão. Se trabalhamos com dados com muitos *outliers* vamos tender a ter *overfit*, ou seja, um modelo que vai funcionar muito bem no treino mas terá uma performance fraca em produção.\n",
        "\n",
        "Vamos estabelecer o limite para separar os *outliers* como sendo a média e dois desvios-padrão para cada lado."
      ]
    },
    {
      "cell_type": "code",
      "metadata": {
        "colab": {
          "base_uri": "https://localhost:8080/"
        },
        "id": "n_MiShxUxEKA",
        "outputId": "c2502f91-c56d-48ea-c01f-2395c3bfb2a6"
      },
      "source": [
        "renda = dados_cad_id_unicos.Rendimento_Anual\n",
        "renda_med = renda.mean()\n",
        "renda_std = renda.std()\n",
        "\n",
        "renda_lim_sup = renda_med + 2 * renda_std\n",
        "renda_lim_inf = renda_med - 2 * renda_std\n",
        "\n",
        "renda_outliers = []\n",
        "\n",
        "for index, valor in renda.items():\n",
        "    if valor > renda_lim_sup or valor < renda_lim_inf:\n",
        "        renda_outliers.append(index)\n",
        "\n",
        "len(renda_outliers)"
      ],
      "execution_count": 34,
      "outputs": [
        {
          "output_type": "execute_result",
          "data": {
            "text/plain": [
              "12641"
            ]
          },
          "metadata": {
            "tags": []
          },
          "execution_count": 34
        }
      ]
    },
    {
      "cell_type": "code",
      "metadata": {
        "colab": {
          "base_uri": "https://localhost:8080/"
        },
        "id": "NLfHbn0R4ghH",
        "outputId": "4c631cbe-7c0e-4052-b983-1046b8327e06"
      },
      "source": [
        "dados_cad_sem_outliers = dados_cad_id_unicos.drop(renda_outliers)\n",
        "dados_cad_sem_outliers.shape"
      ],
      "execution_count": 35,
      "outputs": [
        {
          "output_type": "execute_result",
          "data": {
            "text/plain": [
              "(425822, 18)"
            ]
          },
          "metadata": {
            "tags": []
          },
          "execution_count": 35
        }
      ]
    },
    {
      "cell_type": "code",
      "metadata": {
        "colab": {
          "base_uri": "https://localhost:8080/"
        },
        "id": "tOtfwnrKzkbE",
        "outputId": "e86ae1cb-5421-464a-d993-ff9ec6de1ac3"
      },
      "source": [
        "# Maneira Alternativa\n",
        "# Já gera os dataframes separados sem outliers e só de outliers\n",
        "\n",
        "df_renda_outliers = dados_cad_id_unicos.query('Rendimento_Anual > @renda_lim_sup or Rendimento_Anual < @renda_lim_inf')\n",
        "print(df_renda_outliers.shape)\n",
        "\n",
        "df_renda_sem_outliers = dados_cad_id_unicos.query('Rendimento_Anual <= @renda_lim_sup and Rendimento_Anual >= @renda_lim_inf')\n",
        "print(df_renda_sem_outliers.shape)"
      ],
      "execution_count": 36,
      "outputs": [
        {
          "output_type": "stream",
          "text": [
            "(12641, 18)\n",
            "(425822, 18)\n"
          ],
          "name": "stdout"
        }
      ]
    },
    {
      "cell_type": "code",
      "metadata": {
        "colab": {
          "base_uri": "https://localhost:8080/",
          "height": 299
        },
        "id": "ZV9pNrUG5VKo",
        "outputId": "c8abf1ff-b3a7-4a25-c3cb-fc271f6e14be"
      },
      "source": [
        "dados_cad_sem_outliers[cols_quantitativas].describe()"
      ],
      "execution_count": 37,
      "outputs": [
        {
          "output_type": "execute_result",
          "data": {
            "text/html": [
              "<div>\n",
              "<style scoped>\n",
              "    .dataframe tbody tr th:only-of-type {\n",
              "        vertical-align: middle;\n",
              "    }\n",
              "\n",
              "    .dataframe tbody tr th {\n",
              "        vertical-align: top;\n",
              "    }\n",
              "\n",
              "    .dataframe thead th {\n",
              "        text-align: right;\n",
              "    }\n",
              "</style>\n",
              "<table border=\"1\" class=\"dataframe\">\n",
              "  <thead>\n",
              "    <tr style=\"text-align: right;\">\n",
              "      <th></th>\n",
              "      <th>Idade</th>\n",
              "      <th>Qtd_Filhos</th>\n",
              "      <th>Rendimento_Anual</th>\n",
              "      <th>Anos_empregado</th>\n",
              "      <th>Tamanho_Familia</th>\n",
              "    </tr>\n",
              "  </thead>\n",
              "  <tbody>\n",
              "    <tr>\n",
              "      <th>count</th>\n",
              "      <td>425822.000000</td>\n",
              "      <td>425822.000000</td>\n",
              "      <td>425822.000000</td>\n",
              "      <td>425822.000000</td>\n",
              "      <td>425822.000000</td>\n",
              "    </tr>\n",
              "    <tr>\n",
              "      <th>mean</th>\n",
              "      <td>43.838707</td>\n",
              "      <td>0.425314</td>\n",
              "      <td>176384.728083</td>\n",
              "      <td>5.744956</td>\n",
              "      <td>2.191683</td>\n",
              "    </tr>\n",
              "    <tr>\n",
              "      <th>std</th>\n",
              "      <td>11.525400</td>\n",
              "      <td>0.723577</td>\n",
              "      <td>75033.530551</td>\n",
              "      <td>6.736649</td>\n",
              "      <td>0.896300</td>\n",
              "    </tr>\n",
              "    <tr>\n",
              "      <th>min</th>\n",
              "      <td>21.000000</td>\n",
              "      <td>0.000000</td>\n",
              "      <td>26100.000000</td>\n",
              "      <td>-1.000000</td>\n",
              "      <td>1.000000</td>\n",
              "    </tr>\n",
              "    <tr>\n",
              "      <th>25%</th>\n",
              "      <td>34.000000</td>\n",
              "      <td>0.000000</td>\n",
              "      <td>117000.000000</td>\n",
              "      <td>1.000000</td>\n",
              "      <td>2.000000</td>\n",
              "    </tr>\n",
              "    <tr>\n",
              "      <th>50%</th>\n",
              "      <td>43.000000</td>\n",
              "      <td>0.000000</td>\n",
              "      <td>157500.000000</td>\n",
              "      <td>4.000000</td>\n",
              "      <td>2.000000</td>\n",
              "    </tr>\n",
              "    <tr>\n",
              "      <th>75%</th>\n",
              "      <td>53.000000</td>\n",
              "      <td>1.000000</td>\n",
              "      <td>225000.000000</td>\n",
              "      <td>8.500000</td>\n",
              "      <td>3.000000</td>\n",
              "    </tr>\n",
              "    <tr>\n",
              "      <th>max</th>\n",
              "      <td>69.000000</td>\n",
              "      <td>19.000000</td>\n",
              "      <td>405000.000000</td>\n",
              "      <td>48.000000</td>\n",
              "      <td>20.000000</td>\n",
              "    </tr>\n",
              "  </tbody>\n",
              "</table>\n",
              "</div>"
            ],
            "text/plain": [
              "               Idade     Qtd_Filhos  ...  Anos_empregado  Tamanho_Familia\n",
              "count  425822.000000  425822.000000  ...   425822.000000    425822.000000\n",
              "mean       43.838707       0.425314  ...        5.744956         2.191683\n",
              "std        11.525400       0.723577  ...        6.736649         0.896300\n",
              "min        21.000000       0.000000  ...       -1.000000         1.000000\n",
              "25%        34.000000       0.000000  ...        1.000000         2.000000\n",
              "50%        43.000000       0.000000  ...        4.000000         2.000000\n",
              "75%        53.000000       1.000000  ...        8.500000         3.000000\n",
              "max        69.000000      19.000000  ...       48.000000        20.000000\n",
              "\n",
              "[8 rows x 5 columns]"
            ]
          },
          "metadata": {
            "tags": []
          },
          "execution_count": 37
        }
      ]
    },
    {
      "cell_type": "markdown",
      "metadata": {
        "id": "8xG-oJuJ6Wej"
      },
      "source": [
        "Rodando agora o **`describe`** de nosso *dataset* podemos observar que as informações de rendimento anual não estão mais em notação científica, já estão sendo apresentados como números com formatação normal.\n",
        "\n",
        "Vamos verificar como fica o histograma desses dados."
      ]
    },
    {
      "cell_type": "code",
      "metadata": {
        "colab": {
          "base_uri": "https://localhost:8080/",
          "height": 312
        },
        "id": "NwrmaAcr5gZW",
        "outputId": "ac3d05af-3b2f-4e48-b29d-33444f3381af"
      },
      "source": [
        "sns.histplot(data=dados_cad_sem_outliers, x='Rendimento_Anual', bins=10)\n",
        "plt.xticks(rotation=45)\n",
        "plt.show()"
      ],
      "execution_count": 38,
      "outputs": [
        {
          "output_type": "display_data",
          "data": {
            "image/png": "[encoded data removed]",
            "text/plain": [
              "<Figure size 432x288 with 1 Axes>"
            ]
          },
          "metadata": {
            "tags": [],
            "needs_background": "light"
          }
        }
      ]
    },
    {
      "cell_type": "markdown",
      "metadata": {
        "id": "SL58jNDP6tBq"
      },
      "source": [
        "Temos agora uma melhor distribuição dos clientes nas 10 barras do histograma, com uma certa concentração mais à esquerda do gráfico. Isso já é esperado, pois normalmente temos mais pessoas ganhando menos e poucas pessoas com maiores rendimentos.\n",
        "\n",
        "Vamos analisar da mesma forma a idade dos nossos clientes."
      ]
    },
    {
      "cell_type": "code",
      "metadata": {
        "colab": {
          "base_uri": "https://localhost:8080/",
          "height": 292
        },
        "id": "BOVnErJv6KUd",
        "outputId": "13f984f9-5adb-44cd-96ff-746f81c3f5b4"
      },
      "source": [
        "sns.histplot(data=dados_cad_sem_outliers, x='Idade', bins=10)\n",
        "plt.xticks(rotation=45)\n",
        "plt.show()"
      ],
      "execution_count": 39,
      "outputs": [
        {
          "output_type": "display_data",
          "data": {
            "image/png": "[encoded data removed]",
            "text/plain": [
              "<Figure size 432x288 with 1 Axes>"
            ]
          },
          "metadata": {
            "tags": [],
            "needs_background": "light"
          }
        }
      ]
    },
    {
      "cell_type": "markdown",
      "metadata": {
        "id": "C3BoS8un7WOv"
      },
      "source": [
        "Podemos perceber uma distribuição regular das idades dos clientes, sem concentrações significativas em nenhuma faixa etária específica. Temos apenas um pouco mais de clientes entre os 30 e 40 anos, mas isso está de acordo com a pirâmide populacional.\n",
        "\n",
        "Vamos analisar o tempo de empresa, mas para isso vamos desconsiderar aqueles clientes pensionistas que deixamos com o valor de -1."
      ]
    },
    {
      "cell_type": "code",
      "metadata": {
        "colab": {
          "base_uri": "https://localhost:8080/",
          "height": 292
        },
        "id": "1pz26Vkx6Jh8",
        "outputId": "8f04be56-d1ae-4a0a-ddb7-6355e0a81d72"
      },
      "source": [
        "sns.histplot(data=dados_cad_sem_outliers.query('Anos_empregado >=0'), x='Anos_empregado')\n",
        "plt.xticks(rotation=45)\n",
        "plt.show()"
      ],
      "execution_count": 40,
      "outputs": [
        {
          "output_type": "display_data",
          "data": {
            "image/png": "[encoded data removed]",
            "text/plain": [
              "<Figure size 432x288 with 1 Axes>"
            ]
          },
          "metadata": {
            "tags": [],
            "needs_background": "light"
          }
        }
      ]
    },
    {
      "cell_type": "markdown",
      "metadata": {
        "id": "gqLpQjzL3YDv"
      },
      "source": [
        "Podemos observar que a grande maioria dos clientes está na faixa de 0 - 10 anos de empresa."
      ]
    },
    {
      "cell_type": "markdown",
      "metadata": {
        "id": "F5QXNTHo3YPj"
      },
      "source": [
        "#### **Desafio 3 - Explorar Outras Técnicas de Identificar e Tratar** ***Outliers***\n",
        "---\n",
        "\n",
        "> z-score\n",
        "> \n"
      ]
    },
    {
      "cell_type": "markdown",
      "metadata": {
        "id": "x7QzKXCgFnD2"
      },
      "source": [
        "Uma das maneiras de se identificar *outliers* é usando o **`zscore`**, presente na biblioteca **`scipy.stats`**.\n",
        "\n",
        "O [**`zscore`**](https://docs.scipy.org/doc/scipy/reference/generated/scipy.stats.zscore.html) nos retorna quantos desvios-padrão o nosso dado está da média de valores do nosso conjunto de dados. Para obter o mesmo efeito que tivemos acima, deveríamos desprezar todos os dados que tivessem valor absoluto acima de 2."
      ]
    },
    {
      "cell_type": "code",
      "metadata": {
        "colab": {
          "base_uri": "https://localhost:8080/"
        },
        "id": "sIFfDJoxGTLk",
        "outputId": "496dc381-f948-496d-d351-efbd24685fbf"
      },
      "source": [
        "from scipy import stats\n",
        "stats.zscore(dados_cad_id_unicos.Rendimento_Anual)"
      ],
      "execution_count": 41,
      "outputs": [
        {
          "output_type": "execute_result",
          "data": {
            "text/plain": [
              "array([ 2.17997265,  2.17997265, -0.68150387, ..., -1.21292093,\n",
              "       -1.04940799, -0.59974739])"
            ]
          },
          "metadata": {
            "tags": []
          },
          "execution_count": 41
        }
      ]
    },
    {
      "cell_type": "code",
      "metadata": {
        "colab": {
          "base_uri": "https://localhost:8080/"
        },
        "id": "AHW5lCb8GlPS",
        "outputId": "740cf891-bbbb-4423-a23d-26a5810a726b"
      },
      "source": [
        "dados_desafio_3 = dados_cad_id_unicos.copy()\n",
        "dados_desafio_3['zscore_renda'] = abs(stats.zscore(dados_cad_id_unicos.Rendimento_Anual))\n",
        "dados_desafio_3_sem_outliers = dados_desafio_3[dados_desafio_3.zscore_renda <= 2].drop('zscore_renda', axis=1)\n",
        "dados_desafio_3_sem_outliers.shape"
      ],
      "execution_count": 42,
      "outputs": [
        {
          "output_type": "execute_result",
          "data": {
            "text/plain": [
              "(425822, 18)"
            ]
          },
          "metadata": {
            "tags": []
          },
          "execution_count": 42
        }
      ]
    },
    {
      "cell_type": "markdown",
      "metadata": {
        "id": "VGzec3vvHfYW"
      },
      "source": [
        "Como pode ser visto pelas dimensões do *dataset* resultante, o resultado foi o mesmo do obtido anteriormente, durante a aula.\n",
        "\n",
        "Encontrei também algumas funções para tratamento de *outliers* que copiei abaixo.\n",
        "\n",
        "Essa primeira deve ser executada para cada coluna que desejamos limpar de nosso *dataframe*. Ela considera como limites para tratar um dado como *outlier* os extremos de um *boxplot* e exclui da base todas as linhas que contiverem *outliers*."
      ]
    },
    {
      "cell_type": "code",
      "metadata": {
        "id": "8Krh3GIJ_ofX"
      },
      "source": [
        "# https://www.ti-enxame.com/pt/python/detectar-e-excluir-outliers-no-dataframe-do-pandas/1046331960/\n",
        "#------------------------------------------------------------------------------\n",
        "# accept a dataframe, remove outliers, return cleaned data in a new dataframe\n",
        "# see http://www.itl.nist.gov/div898/handbook/prc/section1/prc16.htm\n",
        "# Deve ser executada para cada coluna que desejamos limpar\n",
        "#------------------------------------------------------------------------------\n",
        "def remove_outlier(df_in, col_name):\n",
        "    q1 = df_in[col_name].quantile(0.25)\n",
        "    q3 = df_in[col_name].quantile(0.75)\n",
        "    iqr = q3-q1 #Interquartile range\n",
        "    fence_low  = q1-1.5*iqr\n",
        "    fence_high = q3+1.5*iqr\n",
        "    df_out = df_in.loc[(df_in[col_name] > fence_low) & (df_in[col_name] < fence_high)]\n",
        "    return df_out"
      ],
      "execution_count": 43,
      "outputs": []
    },
    {
      "cell_type": "markdown",
      "metadata": {
        "id": "E05ej7dYIHkA"
      },
      "source": [
        "Essa segunda função é executada uma única vez para todo o *dataframe*. A diferença aqui é no tratamento dado. Caso ela encontre algum *outlier*, a função substitui o valor pela mediana daquela coluna."
      ]
    },
    {
      "cell_type": "code",
      "metadata": {
        "id": "vOeHNXvpBF7N"
      },
      "source": [
        "# https://www.ti-enxame.com/pt/python/detectar-e-excluir-outliers-no-dataframe-do-pandas/1046331960/\n",
        "#------------------------------------------------------------------------------\n",
        "# Outlier Treatment\n",
        "# Substitui os dados outliers pela mediana\n",
        "# Executa para todas as colunas do dataframe\n",
        "#------------------------------------------------------------------------------\n",
        "def outlier_detect(df):\n",
        "    for i in df.describe().columns:\n",
        "        Q1=df.describe().at['25%',i]\n",
        "        Q3=df.describe().at['75%',i]\n",
        "        IQR=Q3 - Q1\n",
        "        LTV=Q1 - 1.5 * IQR\n",
        "        UTV=Q3 + 1.5 * IQR\n",
        "        x=np.array(df[i])\n",
        "        p=[]\n",
        "        for j in x:\n",
        "            if j < LTV or j>UTV:\n",
        "                p.append(df[i].median())\n",
        "            else:\n",
        "                p.append(j)\n",
        "        df[i]=p\n",
        "    return df"
      ],
      "execution_count": 44,
      "outputs": []
    },
    {
      "cell_type": "markdown",
      "metadata": {
        "id": "Cgd5YRb_QNuM"
      },
      "source": [
        "Por último, [aqui](https://towardsdatascience.com/ways-to-detect-and-remove-the-outliers-404d16608dba) temos um artigo interessante sobre o assunto."
      ]
    },
    {
      "cell_type": "markdown",
      "metadata": {
        "id": "NDkxYH1JQY1o"
      },
      "source": [
        "### **Vídeo 3 - Variáveis Categóricas**"
      ]
    },
    {
      "cell_type": "markdown",
      "metadata": {
        "id": "_TvVGuA2QuYE"
      },
      "source": [
        "Vamos agora analisar as variáveis categóricas de nosso *dataset*."
      ]
    },
    {
      "cell_type": "code",
      "metadata": {
        "id": "B-S2zBUUWe-7"
      },
      "source": [
        "cols_categoricas = ['Genero', 'Tem_Carro', 'Tem_Casa_Propria', 'Tem_email',\n",
        "                    'Estado_Civil', 'Tem_Celular','Tem_telefone_trabalho',\n",
        "                    'Tem_telefone_fixo','Categoria_de_renda', 'Ocupacao',\n",
        "                    'Grau_Escolaridade','Moradia']"
      ],
      "execution_count": 110,
      "outputs": []
    },
    {
      "cell_type": "code",
      "metadata": {
        "colab": {
          "base_uri": "https://localhost:8080/",
          "height": 335
        },
        "id": "Hf9ef6gPWgEp",
        "outputId": "c5fb3bbb-7f1b-4005-fcec-1bbd7e84d8a4"
      },
      "source": [
        "sns.countplot(x = 'Estado_Civil', data=dados_cad_sem_outliers)\n",
        "plt.xticks(rotation=45, ha='right')\n",
        "plt.show()"
      ],
      "execution_count": 46,
      "outputs": [
        {
          "output_type": "display_data",
          "data": {
            "image/png": "[encoded data removed]",
            "text/plain": [
              "<Figure size 432x288 with 1 Axes>"
            ]
          },
          "metadata": {
            "tags": [],
            "needs_background": "light"
          }
        }
      ]
    },
    {
      "cell_type": "markdown",
      "metadata": {
        "id": "K9d9aobsdnEn"
      },
      "source": [
        "Temos uma forte predominância de **Casados**, mas ainda temos uma certa participação dos demais tipos de estado civil em nossa base."
      ]
    },
    {
      "cell_type": "code",
      "metadata": {
        "colab": {
          "base_uri": "https://localhost:8080/",
          "height": 287
        },
        "id": "3CfMpfoVX1L2",
        "outputId": "7aab085a-2479-40ca-f505-959f47b2eb2a"
      },
      "source": [
        "sns.countplot(x = 'Tem_Celular', data=dados_cad_sem_outliers)\n",
        "plt.xticks(rotation=45, ha='right')\n",
        "plt.show()"
      ],
      "execution_count": 47,
      "outputs": [
        {
          "output_type": "display_data",
          "data": {
            "image/png": "[encoded data removed]",
            "text/plain": [
              "<Figure size 432x288 with 1 Axes>"
            ]
          },
          "metadata": {
            "tags": [],
            "needs_background": "light"
          }
        }
      ]
    },
    {
      "cell_type": "markdown",
      "metadata": {
        "id": "ZoDZsByFdM1n"
      },
      "source": [
        "Como já tínhamos visto no desafio da aula anterior, 100% de nossos clientes declararam ter celular, tornando essa variável irrelevante para o nosso modelo.\n",
        "\n",
        "Assim, ela pode ser descartada e simplificar o treinamento do modelo mais adiante."
      ]
    },
    {
      "cell_type": "code",
      "metadata": {
        "colab": {
          "base_uri": "https://localhost:8080/",
          "height": 358
        },
        "id": "6axW3AbXX7fO",
        "outputId": "b7c3d5aa-c894-4b24-a134-cc96ff4d57bf"
      },
      "source": [
        "sns.countplot(x = 'Ocupacao', data=dados_cad_sem_outliers,\n",
        "              order=dados_cad_sem_outliers['Ocupacao'].value_counts().index,\n",
        "              palette = 'crest_r')\n",
        "plt.xticks(rotation=45, ha='right')\n",
        "plt.show()"
      ],
      "execution_count": 120,
      "outputs": [
        {
          "output_type": "display_data",
          "data": {
            "image/png": "[encoded data removed]",
            "text/plain": [
              "<Figure size 432x288 with 1 Axes>"
            ]
          },
          "metadata": {
            "tags": [],
            "needs_background": "light"
          }
        }
      ]
    },
    {
      "cell_type": "markdown",
      "metadata": {
        "id": "4PLMCPxlYTzf"
      },
      "source": [
        "Muitos clientes declararam a ocupação como **Outros**, isso chama a atenção.\n",
        "\n",
        "Para analisar esse grupo, podemos verificar como eles se comportam em relação à renda anual."
      ]
    },
    {
      "cell_type": "code",
      "metadata": {
        "colab": {
          "base_uri": "https://localhost:8080/",
          "height": 312
        },
        "id": "Co8Yy3TkYv-m",
        "outputId": "b7dc54ef-a872-4c59-98ee-9a06f98f115f"
      },
      "source": [
        "sns.histplot(data=dados_cad_sem_outliers.query('Ocupacao == \"Outros\"'), x='Rendimento_Anual', bins=10)\n",
        "plt.xticks(rotation=45, ha='right')\n",
        "plt.show()"
      ],
      "execution_count": 49,
      "outputs": [
        {
          "output_type": "display_data",
          "data": {
            "image/png": "[encoded data removed]",
            "text/plain": [
              "<Figure size 432x288 with 1 Axes>"
            ]
          },
          "metadata": {
            "tags": [],
            "needs_background": "light"
          }
        }
      ]
    },
    {
      "cell_type": "markdown",
      "metadata": {
        "id": "Gq3ljQn7aG0_"
      },
      "source": [
        " A distribuição da renda é muito semelhante à que obtivemos quando analisamos o *dataset* inteiro, apenas em uma escala de quantidades diferentes. Isso nos indica que não há uma concentração em alguma categoria que foi esquecida de relacionar nas opções de ocupação de nossa base de dados.\n",
        "\n",
        " Tenho uma suspeita de que a maior parte desses outros devem ser os pensionistas que já vimos anteriormente, vamos confirmar."
      ]
    },
    {
      "cell_type": "code",
      "metadata": {
        "colab": {
          "base_uri": "https://localhost:8080/"
        },
        "id": "hfp8UUzEZZqW",
        "outputId": "4cca2b5e-478f-4cf7-e48d-f1078a59db2e"
      },
      "source": [
        "dados_cad_sem_outliers.query('Ocupacao == \"Outros\"')['Categoria_de_renda'].value_counts()"
      ],
      "execution_count": 50,
      "outputs": [
        {
          "output_type": "execute_result",
          "data": {
            "text/plain": [
              "Pensionista            74479\n",
              "Empregado              35178\n",
              "Associado comercial    15762\n",
              "Servidor publico        5971\n",
              "Estudante                  5\n",
              "Name: Categoria_de_renda, dtype: int64"
            ]
          },
          "metadata": {
            "tags": []
          },
          "execution_count": 50
        }
      ]
    },
    {
      "cell_type": "code",
      "metadata": {
        "colab": {
          "base_uri": "https://localhost:8080/",
          "height": 374
        },
        "id": "m5cURXbnbxiH",
        "outputId": "cd9dd331-58a2-4952-ffd3-18924ae03d34"
      },
      "source": [
        "pie, ax = plt.subplots(figsize=[10,6])\n",
        "labels = dados_cad_sem_outliers.query('Ocupacao == \"Outros\"')['Categoria_de_renda'].value_counts().keys()\n",
        "plt.pie(x=dados_cad_sem_outliers.query('Ocupacao == \"Outros\"')['Categoria_de_renda'].value_counts(), autopct=\"%.1f%%\", explode=[0.05]*5, labels=labels, pctdistance=0.5)\n",
        "plt.title('Categorias de Renda para Ocupação = \"Outros\"', fontsize=14);"
      ],
      "execution_count": 51,
      "outputs": [
        {
          "output_type": "display_data",
          "data": {
            "image/png": "[encoded data removed]",
            "text/plain": [
              "<Figure size 720x432 with 1 Axes>"
            ]
          },
          "metadata": {
            "tags": []
          }
        }
      ]
    },
    {
      "cell_type": "code",
      "metadata": {
        "colab": {
          "base_uri": "https://localhost:8080/"
        },
        "id": "r-V6PVH5bTQ6",
        "outputId": "4fe97282-851d-4d2e-b903-717dfeedeb90"
      },
      "source": [
        "dados_cad_sem_outliers.query('Categoria_de_renda == \"Pensionista\"')['Ocupacao'].value_counts()"
      ],
      "execution_count": 52,
      "outputs": [
        {
          "output_type": "execute_result",
          "data": {
            "text/plain": [
              "Outros                74479\n",
              "Equipe principal         31\n",
              "Construcao Civil         31\n",
              "Gerencia                 15\n",
              "Motorista                11\n",
              "Medicina                 10\n",
              "Venda                     8\n",
              "Alta tecnologia           6\n",
              "Cozinha                   5\n",
              "Contabilidade             5\n",
              "Seguranca                 2\n",
              "Secretariado              2\n",
              "Baixa qualificacao        1\n",
              "Name: Ocupacao, dtype: int64"
            ]
          },
          "metadata": {
            "tags": []
          },
          "execution_count": 52
        }
      ]
    },
    {
      "cell_type": "code",
      "metadata": {
        "colab": {
          "base_uri": "https://localhost:8080/",
          "height": 374
        },
        "id": "jXi1BoZ0csNi",
        "outputId": "acc6a701-f960-4ccf-e6b2-047ba04bf590"
      },
      "source": [
        "pie, ax = plt.subplots(figsize=[10,6])\n",
        "labels = dados_cad_sem_outliers.query('Categoria_de_renda == \"Pensionista\"')['Ocupacao'].value_counts().keys()\n",
        "plt.pie(x=dados_cad_sem_outliers.query('Categoria_de_renda == \"Pensionista\"')['Ocupacao'].value_counts(),\n",
        "        autopct=\"%.1f%%\", explode=[0.05]*len(dados_cad_sem_outliers.query('Categoria_de_renda == \"Pensionista\"')['Ocupacao'].value_counts()),\n",
        "        labels=labels, pctdistance=0.5)\n",
        "plt.title('Ocupações para Categoria de Renda = \"Pensionista\"', fontsize=14);"
      ],
      "execution_count": 53,
      "outputs": [
        {
          "output_type": "display_data",
          "data": {
            "image/png": "[encoded data removed]",
            "text/plain": [
              "<Figure size 720x432 with 1 Axes>"
            ]
          },
          "metadata": {
            "tags": []
          }
        }
      ]
    },
    {
      "cell_type": "markdown",
      "metadata": {
        "id": "7Hd3rnoibdcq"
      },
      "source": [
        "Como podemos ver acima, mais da metade dos **Outros** são **Pensionistas**. E praticamente todos os **Pensionistas** estão classificados como **Outros**, confirmando parcialmente minha hipótese."
      ]
    },
    {
      "cell_type": "markdown",
      "metadata": {
        "id": "GFxt6NH2gfgp"
      },
      "source": [
        "---\n",
        "Nesse momento a Karol fez uma explanação a respeito da regulamentação que o Banco Central (BaCen) impõe sobre os modelos de *credit score*.\n",
        "\n",
        "Dentro dessa regulamentação o BaCen determina algumas informações que não podem ser consideradas, as chamadas **Informações Sensíveis**. São elas:\n",
        "* Origem Social e Étnica\n",
        "* Condições de Saúde\n",
        "* Informação Genética\n",
        "* Orientação Sexual\n",
        "* Convicções Políticas, Religiosas e Filosóficas\n",
        "---\n",
        "\n",
        "Em função disso, além da coluna **`Tem_Celular`** que já havíamos decidido eliminar por não influenciar nosso modelo, por uma exigência legal também precisamos eliminar a coluna **`Genero`**."
      ]
    },
    {
      "cell_type": "code",
      "metadata": {
        "colab": {
          "base_uri": "https://localhost:8080/"
        },
        "id": "dpJw0GJliMcV",
        "outputId": "1d452093-9588-416c-8e73-85128d66a646"
      },
      "source": [
        "dados_cad_tratamento1 = dados_cad_sem_outliers.drop(['Genero', 'Tem_Celular'], axis=1)\n",
        "dados_cad_tratamento1.shape"
      ],
      "execution_count": 54,
      "outputs": [
        {
          "output_type": "execute_result",
          "data": {
            "text/plain": [
              "(425822, 16)"
            ]
          },
          "metadata": {
            "tags": []
          },
          "execution_count": 54
        }
      ]
    },
    {
      "cell_type": "code",
      "metadata": {
        "colab": {
          "base_uri": "https://localhost:8080/"
        },
        "id": "EQSFXFnOjHlz",
        "outputId": "1bc398da-4c10-45bf-8796-5ac582d7297c"
      },
      "source": [
        "cols_categoricas.remove('Genero')\n",
        "cols_categoricas.remove('Tem_Celular')\n",
        "cols_categoricas"
      ],
      "execution_count": 111,
      "outputs": [
        {
          "output_type": "execute_result",
          "data": {
            "text/plain": [
              "['Tem_Carro',\n",
              " 'Tem_Casa_Propria',\n",
              " 'Tem_email',\n",
              " 'Estado_Civil',\n",
              " 'Tem_telefone_trabalho',\n",
              " 'Tem_telefone_fixo',\n",
              " 'Categoria_de_renda',\n",
              " 'Ocupacao',\n",
              " 'Grau_Escolaridade',\n",
              " 'Moradia']"
            ]
          },
          "metadata": {
            "tags": []
          },
          "execution_count": 111
        }
      ]
    },
    {
      "cell_type": "markdown",
      "metadata": {
        "id": "Ax9D8J7Kj29p"
      },
      "source": [
        "#### **Desafio 4 - Criar uma Função para Gerar os Gráficos**\n",
        "---\n"
      ]
    },
    {
      "cell_type": "code",
      "metadata": {
        "id": "jPgaVB5AUDE5"
      },
      "source": [
        "def graf_quants(dados, lista):\n",
        "    linhas = round((len(lista)+ 0.45) / 2 )\n",
        "    fig, ax = plt.subplots(nrows=linhas, ncols=2, figsize=(12,8))\n",
        "    fig.suptitle('Variáveis Quantitativas', fontsize=20, fontweight='bold')\n",
        "    loc_graf_x = 0\n",
        "    loc_graf_y = 0\n",
        "    for var in lista:\n",
        "        ax[loc_graf_x, loc_graf_y] = sns.boxplot(x=dados[var], ax=ax[loc_graf_x, loc_graf_y])\n",
        "        ax[loc_graf_x, loc_graf_y].set_title(var, fontsize=16, fontweight='bold')\n",
        "        ax[loc_graf_x, loc_graf_y].set_xlabel('')\n",
        "\n",
        "        plt.draw()\n",
        "        xlabels = ax[loc_graf_x, loc_graf_y].get_xticklabels()\n",
        "        ax[loc_graf_x, loc_graf_y].set_xticklabels(xlabels, rotation=45, ha='right')\n",
        "        \n",
        "        # Alternativa para rotacionar os ticks, mas não consegue alinhar\n",
        "        # Também pode alterar outros parâmetros\n",
        "        #ax[loc_graf_x, loc_graf_y].tick_params(direction='out', length=6, width=2, colors='r',\n",
        "        #       grid_color='r', grid_alpha=0.5)\n",
        "        #ax[loc_graf_x, loc_graf_y].tick_params(labelrotation=45)\n",
        "\n",
        "        # Outra alternativa para rotacionar os ticks\n",
        "        # Deve ter pior performance por ter que fazer um a um\n",
        "        #for tick in ax[loc_graf_x, loc_graf_y].get_xticklabels():\n",
        "        #    tick.set_rotation(45)\n",
        "        #    tick.set_ha('right')\n",
        "\n",
        "        if loc_graf_y == 0:\n",
        "            loc_graf_y = 1\n",
        "        else:\n",
        "            loc_graf_y = 0\n",
        "            loc_graf_x += 1\n",
        "    plt.subplots_adjust(wspace=0.2,\n",
        "                        hspace=0.65)"
      ],
      "execution_count": 102,
      "outputs": []
    },
    {
      "cell_type": "code",
      "metadata": {
        "colab": {
          "base_uri": "https://localhost:8080/",
          "height": 570
        },
        "id": "K0kXdzl-WP7h",
        "outputId": "145a20cb-a957-4e8a-ba6e-cc99274d3dbd"
      },
      "source": [
        "graf_quants(dados_cad_sem_outliers, cols_quantitativas)"
      ],
      "execution_count": 103,
      "outputs": [
        {
          "output_type": "display_data",
          "data": {
            "image/png": "[encoded data removed]",
            "text/plain": [
              "<Figure size 864x576 with 6 Axes>"
            ]
          },
          "metadata": {
            "tags": [],
            "needs_background": "light"
          }
        }
      ]
    },
    {
      "cell_type": "code",
      "metadata": {
        "id": "l50lhg5ElARL"
      },
      "source": [
        "def graf_categs(dados, lista):\n",
        "    #linhas = round((len(lista)+ 0.5) / 3 )\n",
        "    linhas = round((len(lista)+ 0.45) / 4 )\n",
        "    #fig, ax = plt.subplots(nrows=linhas, ncols=3, figsize=(21,10))\n",
        "    fig, ax = plt.subplots(nrows=linhas, ncols=4, figsize=(21,10))\n",
        "    fig.suptitle('Variáveis Categóricas', fontsize=20, fontweight='bold')\n",
        "    loc_graf_x = 0\n",
        "    loc_graf_y = 0\n",
        "    for var in lista:\n",
        "        ax[loc_graf_x, loc_graf_y] = sns.countplot(x=dados[var], ax=ax[loc_graf_x, loc_graf_y],\n",
        "                                                   order=dados[var].value_counts().index,\n",
        "                                                   palette='crest_r')\n",
        "        ax[loc_graf_x, loc_graf_y].set_title(var, fontsize=16, fontweight='bold')\n",
        "        ax[loc_graf_x, loc_graf_y].set_xlabel('')\n",
        "\n",
        "        plt.draw()\n",
        "        xlabels = ax[loc_graf_x, loc_graf_y].get_xticklabels()\n",
        "        ax[loc_graf_x, loc_graf_y].set_xticklabels(xlabels, rotation=45, ha='right', fontsize=10)\n",
        "        \n",
        "        if loc_graf_y != 3:\n",
        "            loc_graf_y += 1\n",
        "        else:\n",
        "            loc_graf_y = 0\n",
        "            loc_graf_x += 1\n",
        "\n",
        "    plt.subplots_adjust(wspace=0.3,\n",
        "                        hspace=1.)"
      ],
      "execution_count": 117,
      "outputs": []
    },
    {
      "cell_type": "code",
      "metadata": {
        "colab": {
          "base_uri": "https://localhost:8080/",
          "height": 759
        },
        "id": "9UvfWtC5mQQX",
        "outputId": "970db85d-41c6-4998-8aae-d94aab05393d"
      },
      "source": [
        "graf_categs(dados_cad_sem_outliers, cols_categoricas)"
      ],
      "execution_count": 118,
      "outputs": [
        {
          "output_type": "display_data",
          "data": {
            "image/png": "[encoded data removed]",
            "text/plain": [
              "<Figure size 1512x720 with 12 Axes>"
            ]
          },
          "metadata": {
            "tags": [],
            "needs_background": "light"
          }
        }
      ]
    },
    {
      "cell_type": "markdown",
      "metadata": {
        "id": "VJMIWKZ-kGzX"
      },
      "source": [
        "#### **Desafio 5 - Continuar a Análise Exploratória**\n",
        "---\n",
        "\n",
        "Complementei a análise exploratória ao longo do *notebook*, para ficar mais fácil de pegar o contexto."
      ]
    },
    {
      "cell_type": "markdown",
      "metadata": {
        "id": "Fj0pElJVkns5"
      },
      "source": [
        "#### **O que aprendemos nessa aula?**\n",
        "---\n",
        "\n",
        ">* **Variáveis Contínuas:**\n",
        ">\n",
        ">  * Identificar e Diferenciar Variáveis Contínuas, Categóricas Binárias e Categóricas Não Binárias;\n",
        ">  * Tratamento de *Outliers*.\n",
        ">\n",
        ">* **Variáveis Categóricas:**\n",
        ">\n",
        ">  * Visualizar a distribuição de algumas variáveis categóricas através de histogramas;\n",
        ">  * Limitações legais para um modelo de crédito.\n",
        "---\n",
        "\n",
        "\n",
        "\n",
        "\n",
        "\n",
        "\n",
        "\n",
        "\n",
        "\n",
        "\n"
      ]
    }
  ]
}