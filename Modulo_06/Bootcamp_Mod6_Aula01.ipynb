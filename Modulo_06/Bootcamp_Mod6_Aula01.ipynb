{
  "nbformat": 4,
  "nbformat_minor": 0,
  "metadata": {
    "colab": {
      "name": "Bootcamp - Mod6 - Aula01.ipynb",
      "provenance": [],
      "collapsed_sections": [],
      "toc_visible": true,
      "authorship_tag": "ABX9TyMDhCX/SdOBaAE7kvx3tF0c",
      "include_colab_link": true
    },
    "kernelspec": {
      "name": "python3",
      "display_name": "Python 3"
    },
    "language_info": {
      "name": "python"
    }
  },
  "cells": [
    {
      "cell_type": "markdown",
      "metadata": {
        "id": "view-in-github",
        "colab_type": "text"
      },
      "source": [
        "<a href=\"https://colab.research.google.com/github/gcochlar/Bootcamp_DataScience/blob/main/Modulo_06/Bootcamp_Mod6_Aula01.ipynb\" target=\"_parent\"><img src=\"https://colab.research.google.com/assets/colab-badge.svg\" alt=\"Open In Colab\"/></a>"
      ]
    },
    {
      "cell_type": "markdown",
      "metadata": {
        "id": "BZKKSXVwpVfu"
      },
      "source": [
        "<img src='https://drive.google.com/uc?id=16O9eMrtSeRDnDpZgmneXj34eIClCntvg'>"
      ]
    },
    {
      "cell_type": "markdown",
      "metadata": {
        "id": "tKeX4KHBZUkZ"
      },
      "source": [
        "# ***Data Science*** **Aplicado em Finanças**\n",
        "\n",
        "---\n",
        "\n",
        "Esse notebook servirá para o acompanhamento das aulas do Módulo 06 do ***Bootcamp de Data Science Aplicada*** realizado pela Alura.\n",
        "\n",
        "O Módulo 6 é um módulo extra especialmente desenvolvido para este *Bootcamp* e é voltado para a área financeira, mais especificamente para a área de análise de crédito.\n",
        "\n",
        "Além do desenvolvimento do modelo de *machine learning* em si, também está no escopo o *deploy* através do *streamlit*.\n",
        "\n",
        "---\n",
        "\n",
        ">Agora chegou o momento de consolidar seu conhecimento em uma nova área. Vamos sair do assunto saúde e desenvolver um projeto completo de Data Science aplicado a finanças. Será mais um projeto incrível para complementar seu portfólio e principalmente para te ensinar assuntos específicos desta área tão relevante.\n",
        ">\n",
        ">Então prepare os equipamentos porque nosso mergulho será em outros mares!\n",
        "---"
      ]
    },
    {
      "cell_type": "markdown",
      "metadata": {
        "id": "IOJYQLwvbh7E"
      },
      "source": [
        "## **Aula 01 - Contextualização do Mercado Financeiro**\n",
        "---\n"
      ]
    },
    {
      "cell_type": "markdown",
      "metadata": {
        "id": "3rE6zLwZEBKa"
      },
      "source": [
        "A aula começou falando dos pilares que temos na cadeia de crédito. São eles:\n",
        "\n",
        "* Prospecção\n",
        "* Concessão\n",
        "* Gestão de Risco\n",
        "* Recuperação\n",
        "\n",
        "O modelo que iremos trabalhar estará no pilar **CONCESSÃO**. Vamos trabalhar o modelo de decisão que irá avaliar a concessão ou não do crédito solicitado.\n",
        "\n",
        "Na sequência fomos informados que a base que iremos usar é uma adaptação de uma base que foi disponibilizada em um desafio do **Kaggle**.\n",
        "\n",
        "São duas bases de dados, com os clientes cadastrados e com os empréstimos aprovados.\n",
        "\n",
        "Baixei as bases e fiz *upload* para o meu repositório do **GitHub**."
      ]
    },
    {
      "cell_type": "code",
      "metadata": {
        "id": "bnkFSRniaFYT"
      },
      "source": [
        "import pandas as pd\n",
        "import numpy as np\n"
      ],
      "execution_count": 1,
      "outputs": []
    },
    {
      "cell_type": "code",
      "metadata": {
        "id": "9Ei98MiwRvWH"
      },
      "source": [
        "url_cadastrados = 'https://github.com/gcochlar/Bootcamp_DataScience/blob/main/Modulo_06/dados/clientes_cadastrados.zip?raw=true'\n",
        "url_aprovados = 'https://github.com/gcochlar/Bootcamp_DataScience/blob/main/Modulo_06/dados/clientes_aprovados.zip?raw=true'"
      ],
      "execution_count": 2,
      "outputs": []
    },
    {
      "cell_type": "markdown",
      "metadata": {
        "id": "wcFjAfxUFawX"
      },
      "source": [
        "Vamos começar importando a base de clientes cadastrados."
      ]
    },
    {
      "cell_type": "code",
      "metadata": {
        "id": "AgHJeIs0aIcb",
        "colab": {
          "base_uri": "https://localhost:8080/",
          "height": 277
        },
        "outputId": "ba0204ad-dfc9-4eb1-9f49-91bb11fd950a"
      },
      "source": [
        "dados_cadastrados = pd.read_csv(url_cadastrados, compression='zip')\n",
        "dados_cadastrados.head()"
      ],
      "execution_count": 3,
      "outputs": [
        {
          "output_type": "execute_result",
          "data": {
            "text/html": [
              "<div>\n",
              "<style scoped>\n",
              "    .dataframe tbody tr th:only-of-type {\n",
              "        vertical-align: middle;\n",
              "    }\n",
              "\n",
              "    .dataframe tbody tr th {\n",
              "        vertical-align: top;\n",
              "    }\n",
              "\n",
              "    .dataframe thead th {\n",
              "        text-align: right;\n",
              "    }\n",
              "</style>\n",
              "<table border=\"1\" class=\"dataframe\">\n",
              "  <thead>\n",
              "    <tr style=\"text-align: right;\">\n",
              "      <th></th>\n",
              "      <th>ID_Cliente</th>\n",
              "      <th>Genero</th>\n",
              "      <th>Tem_Carro</th>\n",
              "      <th>Tem_Casa_Propria</th>\n",
              "      <th>Qtd_Filhos</th>\n",
              "      <th>Rendimento_Anual</th>\n",
              "      <th>Categoria_de_renda</th>\n",
              "      <th>Grau_Escolaridade</th>\n",
              "      <th>Estado_Civil</th>\n",
              "      <th>Moradia</th>\n",
              "      <th>Idade</th>\n",
              "      <th>Tem_Celular</th>\n",
              "      <th>Tem_telefone_trabalho</th>\n",
              "      <th>Tem_telefone_fixo</th>\n",
              "      <th>Tem_email</th>\n",
              "      <th>Ocupacao</th>\n",
              "      <th>Tamanho_Familia</th>\n",
              "      <th>Anos_empregado</th>\n",
              "    </tr>\n",
              "  </thead>\n",
              "  <tbody>\n",
              "    <tr>\n",
              "      <th>0</th>\n",
              "      <td>5008804</td>\n",
              "      <td>H</td>\n",
              "      <td>1</td>\n",
              "      <td>1</td>\n",
              "      <td>0</td>\n",
              "      <td>427500.0</td>\n",
              "      <td>Empregado</td>\n",
              "      <td>Ensino superior</td>\n",
              "      <td>Uniao estavel</td>\n",
              "      <td>Alugado</td>\n",
              "      <td>33.0</td>\n",
              "      <td>1</td>\n",
              "      <td>1</td>\n",
              "      <td>0</td>\n",
              "      <td>0</td>\n",
              "      <td>Outros</td>\n",
              "      <td>2.0</td>\n",
              "      <td>12.4</td>\n",
              "    </tr>\n",
              "    <tr>\n",
              "      <th>1</th>\n",
              "      <td>5008805</td>\n",
              "      <td>H</td>\n",
              "      <td>1</td>\n",
              "      <td>1</td>\n",
              "      <td>0</td>\n",
              "      <td>427500.0</td>\n",
              "      <td>Empregado</td>\n",
              "      <td>Ensino superior</td>\n",
              "      <td>Uniao estavel</td>\n",
              "      <td>Alugado</td>\n",
              "      <td>33.0</td>\n",
              "      <td>1</td>\n",
              "      <td>1</td>\n",
              "      <td>0</td>\n",
              "      <td>0</td>\n",
              "      <td>Outros</td>\n",
              "      <td>2.0</td>\n",
              "      <td>12.4</td>\n",
              "    </tr>\n",
              "    <tr>\n",
              "      <th>2</th>\n",
              "      <td>5008806</td>\n",
              "      <td>H</td>\n",
              "      <td>1</td>\n",
              "      <td>1</td>\n",
              "      <td>0</td>\n",
              "      <td>112500.0</td>\n",
              "      <td>Empregado</td>\n",
              "      <td>Ensino medio</td>\n",
              "      <td>Casado</td>\n",
              "      <td>Casa propria</td>\n",
              "      <td>59.0</td>\n",
              "      <td>1</td>\n",
              "      <td>0</td>\n",
              "      <td>0</td>\n",
              "      <td>0</td>\n",
              "      <td>Seguranca</td>\n",
              "      <td>2.0</td>\n",
              "      <td>3.1</td>\n",
              "    </tr>\n",
              "    <tr>\n",
              "      <th>3</th>\n",
              "      <td>5008808</td>\n",
              "      <td>M</td>\n",
              "      <td>0</td>\n",
              "      <td>1</td>\n",
              "      <td>0</td>\n",
              "      <td>270000.0</td>\n",
              "      <td>Associado comercial</td>\n",
              "      <td>Ensino medio</td>\n",
              "      <td>Solteiro</td>\n",
              "      <td>Casa propria</td>\n",
              "      <td>52.0</td>\n",
              "      <td>1</td>\n",
              "      <td>0</td>\n",
              "      <td>1</td>\n",
              "      <td>1</td>\n",
              "      <td>Venda</td>\n",
              "      <td>1.0</td>\n",
              "      <td>8.4</td>\n",
              "    </tr>\n",
              "    <tr>\n",
              "      <th>4</th>\n",
              "      <td>5008809</td>\n",
              "      <td>M</td>\n",
              "      <td>0</td>\n",
              "      <td>1</td>\n",
              "      <td>0</td>\n",
              "      <td>270000.0</td>\n",
              "      <td>Associado comercial</td>\n",
              "      <td>Ensino medio</td>\n",
              "      <td>Solteiro</td>\n",
              "      <td>Casa propria</td>\n",
              "      <td>52.0</td>\n",
              "      <td>1</td>\n",
              "      <td>0</td>\n",
              "      <td>1</td>\n",
              "      <td>1</td>\n",
              "      <td>Venda</td>\n",
              "      <td>1.0</td>\n",
              "      <td>8.4</td>\n",
              "    </tr>\n",
              "  </tbody>\n",
              "</table>\n",
              "</div>"
            ],
            "text/plain": [
              "   ID_Cliente Genero  Tem_Carro  ...   Ocupacao  Tamanho_Familia  Anos_empregado\n",
              "0     5008804      H          1  ...     Outros              2.0            12.4\n",
              "1     5008805      H          1  ...     Outros              2.0            12.4\n",
              "2     5008806      H          1  ...  Seguranca              2.0             3.1\n",
              "3     5008808      M          0  ...      Venda              1.0             8.4\n",
              "4     5008809      M          0  ...      Venda              1.0             8.4\n",
              "\n",
              "[5 rows x 18 columns]"
            ]
          },
          "metadata": {
            "tags": []
          },
          "execution_count": 3
        }
      ]
    },
    {
      "cell_type": "code",
      "metadata": {
        "colab": {
          "base_uri": "https://localhost:8080/"
        },
        "id": "mTA8tV6Vwo6O",
        "outputId": "edef7e7f-a246-4cbb-d8b1-28a8a3c8034c"
      },
      "source": [
        "dados_cadastrados.shape"
      ],
      "execution_count": 5,
      "outputs": [
        {
          "output_type": "execute_result",
          "data": {
            "text/plain": [
              "(438557, 18)"
            ]
          },
          "metadata": {
            "tags": []
          },
          "execution_count": 5
        }
      ]
    },
    {
      "cell_type": "markdown",
      "metadata": {
        "id": "GStb4LzRExrI"
      },
      "source": [
        "Essa primeira base, de clientes cadastrados, é bem extensa.\n",
        "\n",
        "Tem quase 440 mil registros com 18 variáveis diferentes.\n",
        "\n",
        "Imediatamente chama a atenção a coluna **`ID_Cliente`** que deve servir como chave de identificação de cada cliente, mas isso precisa ser confirmado.\n",
        "\n",
        "Também chama a atenção o fato de termos linhas aparentemente duplicadas (0 e 1 ou 3 e 4, por exemplo).\n",
        "\n",
        "Vamos importar e olhar também nossa base de empréstimos aprovados."
      ]
    },
    {
      "cell_type": "code",
      "metadata": {
        "colab": {
          "base_uri": "https://localhost:8080/",
          "height": 205
        },
        "id": "fqWOfRZfJ9qZ",
        "outputId": "d5f0a8c2-885a-41f9-a06e-7b41dcce1197"
      },
      "source": [
        "dados_aprovados = pd.read_csv(url_aprovados, compression='zip')\n",
        "dados_aprovados.head()"
      ],
      "execution_count": 4,
      "outputs": [
        {
          "output_type": "execute_result",
          "data": {
            "text/html": [
              "<div>\n",
              "<style scoped>\n",
              "    .dataframe tbody tr th:only-of-type {\n",
              "        vertical-align: middle;\n",
              "    }\n",
              "\n",
              "    .dataframe tbody tr th {\n",
              "        vertical-align: top;\n",
              "    }\n",
              "\n",
              "    .dataframe thead th {\n",
              "        text-align: right;\n",
              "    }\n",
              "</style>\n",
              "<table border=\"1\" class=\"dataframe\">\n",
              "  <thead>\n",
              "    <tr style=\"text-align: right;\">\n",
              "      <th></th>\n",
              "      <th>ID_Cliente</th>\n",
              "      <th>Mes_referencia</th>\n",
              "      <th>Faixa_atraso</th>\n",
              "    </tr>\n",
              "  </thead>\n",
              "  <tbody>\n",
              "    <tr>\n",
              "      <th>0</th>\n",
              "      <td>5001711</td>\n",
              "      <td>0</td>\n",
              "      <td>nenhum empréstimo</td>\n",
              "    </tr>\n",
              "    <tr>\n",
              "      <th>1</th>\n",
              "      <td>5001711</td>\n",
              "      <td>-1</td>\n",
              "      <td>1-29 dias</td>\n",
              "    </tr>\n",
              "    <tr>\n",
              "      <th>2</th>\n",
              "      <td>5001711</td>\n",
              "      <td>-2</td>\n",
              "      <td>1-29 dias</td>\n",
              "    </tr>\n",
              "    <tr>\n",
              "      <th>3</th>\n",
              "      <td>5001711</td>\n",
              "      <td>-3</td>\n",
              "      <td>1-29 dias</td>\n",
              "    </tr>\n",
              "    <tr>\n",
              "      <th>4</th>\n",
              "      <td>5001712</td>\n",
              "      <td>0</td>\n",
              "      <td>pagamento realizado</td>\n",
              "    </tr>\n",
              "  </tbody>\n",
              "</table>\n",
              "</div>"
            ],
            "text/plain": [
              "   ID_Cliente  Mes_referencia         Faixa_atraso\n",
              "0     5001711               0    nenhum empréstimo\n",
              "1     5001711              -1            1-29 dias\n",
              "2     5001711              -2            1-29 dias\n",
              "3     5001711              -3            1-29 dias\n",
              "4     5001712               0  pagamento realizado"
            ]
          },
          "metadata": {
            "tags": []
          },
          "execution_count": 4
        }
      ]
    },
    {
      "cell_type": "code",
      "metadata": {
        "colab": {
          "base_uri": "https://localhost:8080/"
        },
        "id": "lQvVGrWx4dYc",
        "outputId": "c4350e84-04a7-4f9f-9120-b6a50273697b"
      },
      "source": [
        "dados_aprovados.shape"
      ],
      "execution_count": 33,
      "outputs": [
        {
          "output_type": "execute_result",
          "data": {
            "text/plain": [
              "(1048575, 3)"
            ]
          },
          "metadata": {
            "tags": []
          },
          "execution_count": 33
        }
      ]
    },
    {
      "cell_type": "markdown",
      "metadata": {
        "id": "rKIHzlipFk6g"
      },
      "source": [
        "A base de empréstimos aprovados também é bem extensa, com mais de 1 milhão de registros, apesar de contar com apenas 3 variáveis.\n",
        "\n",
        "Também conta com uma coluna **`ID_Cliente`** mas que já podemos ver que apresenta duplicidades. Deverá servir para conectar as duas bases de dados.\n",
        "\n",
        "Vamos focar, inicialmente, na análise exploratória da base de clientes cadastrados."
      ]
    },
    {
      "cell_type": "code",
      "metadata": {
        "colab": {
          "base_uri": "https://localhost:8080/"
        },
        "id": "sSqdQ6M7wuc2",
        "outputId": "ccabb7e0-0d45-4173-fb0d-a08b095a4a76"
      },
      "source": [
        "dados_cadastrados.info()"
      ],
      "execution_count": 8,
      "outputs": [
        {
          "output_type": "stream",
          "text": [
            "<class 'pandas.core.frame.DataFrame'>\n",
            "RangeIndex: 438557 entries, 0 to 438556\n",
            "Data columns (total 18 columns):\n",
            " #   Column                 Non-Null Count   Dtype  \n",
            "---  ------                 --------------   -----  \n",
            " 0   ID_Cliente             438557 non-null  int64  \n",
            " 1   Genero                 438557 non-null  object \n",
            " 2   Tem_Carro              438557 non-null  int64  \n",
            " 3   Tem_Casa_Propria       438557 non-null  int64  \n",
            " 4   Qtd_Filhos             438557 non-null  int64  \n",
            " 5   Rendimento_Anual       438557 non-null  float64\n",
            " 6   Categoria_de_renda     438557 non-null  object \n",
            " 7   Grau_Escolaridade      438557 non-null  object \n",
            " 8   Estado_Civil           438557 non-null  object \n",
            " 9   Moradia                438557 non-null  object \n",
            " 10  Idade                  438557 non-null  float64\n",
            " 11  Tem_Celular            438557 non-null  int64  \n",
            " 12  Tem_telefone_trabalho  438557 non-null  int64  \n",
            " 13  Tem_telefone_fixo      438557 non-null  int64  \n",
            " 14  Tem_email              438557 non-null  int64  \n",
            " 15  Ocupacao               438557 non-null  object \n",
            " 16  Tamanho_Familia        438557 non-null  float64\n",
            " 17  Anos_empregado         438557 non-null  float64\n",
            "dtypes: float64(4), int64(8), object(6)\n",
            "memory usage: 60.2+ MB\n"
          ],
          "name": "stdout"
        }
      ]
    },
    {
      "cell_type": "markdown",
      "metadata": {
        "id": "VNQGELsZGXhe"
      },
      "source": [
        "Vamos tentar confirmar nossa ideia de que a coluna **`ID_Cliente`** pode ser usada como identificador único de nossos clientes."
      ]
    },
    {
      "cell_type": "code",
      "metadata": {
        "colab": {
          "base_uri": "https://localhost:8080/"
        },
        "id": "ZUkYJDxOxIW-",
        "outputId": "0ea48cb4-12e7-4c7d-91f6-871dc9a27c2d"
      },
      "source": [
        "dados_cadastrados.ID_Cliente.value_counts()"
      ],
      "execution_count": 9,
      "outputs": [
        {
          "output_type": "execute_result",
          "data": {
            "text/plain": [
              "7603224    2\n",
              "7742853    2\n",
              "7836711    2\n",
              "7091721    2\n",
              "7022327    2\n",
              "          ..\n",
              "5372264    1\n",
              "6412652    1\n",
              "6410605    1\n",
              "6367602    1\n",
              "6291456    1\n",
              "Name: ID_Cliente, Length: 438510, dtype: int64"
            ]
          },
          "metadata": {
            "tags": []
          },
          "execution_count": 9
        }
      ]
    },
    {
      "cell_type": "markdown",
      "metadata": {
        "id": "0--YI5B_GpEu"
      },
      "source": [
        "O fato de termos ocorrências duplas de alguns **IDs** indica algum problema em nossa base de dados.\n",
        "\n",
        "Vamos verificar se temos registros duplicados, ou seja, linhas completamente iguais."
      ]
    },
    {
      "cell_type": "code",
      "metadata": {
        "colab": {
          "base_uri": "https://localhost:8080/"
        },
        "id": "2mqWUWxsxIUR",
        "outputId": "9144b8ab-62db-41d8-dd8a-066ae22fbbba"
      },
      "source": [
        "dados_cadastrados.duplicated().sum()"
      ],
      "execution_count": 10,
      "outputs": [
        {
          "output_type": "execute_result",
          "data": {
            "text/plain": [
              "0"
            ]
          },
          "metadata": {
            "tags": []
          },
          "execution_count": 10
        }
      ]
    },
    {
      "cell_type": "markdown",
      "metadata": {
        "id": "TUVN8KtDG7hj"
      },
      "source": [
        "Não temos linhas duplicadas, mas a duplicidade de **IDs** irá nos atrapalhar mais adiante.\n",
        "\n",
        "Precisamos verificar qual o tamanho do nosso problema. Em uma base de quase 440 mil registros, quantos estão duplicados?"
      ]
    },
    {
      "cell_type": "code",
      "metadata": {
        "colab": {
          "base_uri": "https://localhost:8080/",
          "height": 615
        },
        "id": "kCVfbM6JxIRp",
        "outputId": "ff373d63-49b2-4040-9be2-830a5fa63a66"
      },
      "source": [
        "dados_cadastrados[dados_cadastrados.ID_Cliente.duplicated(keep=False)].sort_values(by='ID_Cliente')"
      ],
      "execution_count": 16,
      "outputs": [
        {
          "output_type": "execute_result",
          "data": {
            "text/html": [
              "<div>\n",
              "<style scoped>\n",
              "    .dataframe tbody tr th:only-of-type {\n",
              "        vertical-align: middle;\n",
              "    }\n",
              "\n",
              "    .dataframe tbody tr th {\n",
              "        vertical-align: top;\n",
              "    }\n",
              "\n",
              "    .dataframe thead th {\n",
              "        text-align: right;\n",
              "    }\n",
              "</style>\n",
              "<table border=\"1\" class=\"dataframe\">\n",
              "  <thead>\n",
              "    <tr style=\"text-align: right;\">\n",
              "      <th></th>\n",
              "      <th>ID_Cliente</th>\n",
              "      <th>Genero</th>\n",
              "      <th>Tem_Carro</th>\n",
              "      <th>Tem_Casa_Propria</th>\n",
              "      <th>Qtd_Filhos</th>\n",
              "      <th>Rendimento_Anual</th>\n",
              "      <th>Categoria_de_renda</th>\n",
              "      <th>Grau_Escolaridade</th>\n",
              "      <th>Estado_Civil</th>\n",
              "      <th>Moradia</th>\n",
              "      <th>Idade</th>\n",
              "      <th>Tem_Celular</th>\n",
              "      <th>Tem_telefone_trabalho</th>\n",
              "      <th>Tem_telefone_fixo</th>\n",
              "      <th>Tem_email</th>\n",
              "      <th>Ocupacao</th>\n",
              "      <th>Tamanho_Familia</th>\n",
              "      <th>Anos_empregado</th>\n",
              "    </tr>\n",
              "  </thead>\n",
              "  <tbody>\n",
              "    <tr>\n",
              "      <th>426818</th>\n",
              "      <td>7022197</td>\n",
              "      <td>H</td>\n",
              "      <td>1</td>\n",
              "      <td>1</td>\n",
              "      <td>3</td>\n",
              "      <td>135000.0</td>\n",
              "      <td>Empregado</td>\n",
              "      <td>Ensino medio</td>\n",
              "      <td>Casado</td>\n",
              "      <td>Casa propria</td>\n",
              "      <td>33.0</td>\n",
              "      <td>1</td>\n",
              "      <td>0</td>\n",
              "      <td>0</td>\n",
              "      <td>1</td>\n",
              "      <td>Construcao Civil</td>\n",
              "      <td>5.0</td>\n",
              "      <td>2.0</td>\n",
              "    </tr>\n",
              "    <tr>\n",
              "      <th>425023</th>\n",
              "      <td>7022197</td>\n",
              "      <td>M</td>\n",
              "      <td>0</td>\n",
              "      <td>1</td>\n",
              "      <td>0</td>\n",
              "      <td>450000.0</td>\n",
              "      <td>Associado comercial</td>\n",
              "      <td>Ensino superior</td>\n",
              "      <td>Separado</td>\n",
              "      <td>Casa propria</td>\n",
              "      <td>54.0</td>\n",
              "      <td>1</td>\n",
              "      <td>0</td>\n",
              "      <td>0</td>\n",
              "      <td>1</td>\n",
              "      <td>Outros</td>\n",
              "      <td>1.0</td>\n",
              "      <td>4.9</td>\n",
              "    </tr>\n",
              "    <tr>\n",
              "      <th>431545</th>\n",
              "      <td>7022327</td>\n",
              "      <td>M</td>\n",
              "      <td>0</td>\n",
              "      <td>1</td>\n",
              "      <td>0</td>\n",
              "      <td>135000.0</td>\n",
              "      <td>Associado comercial</td>\n",
              "      <td>Ensino medio</td>\n",
              "      <td>Solteiro</td>\n",
              "      <td>Casa propria</td>\n",
              "      <td>40.0</td>\n",
              "      <td>1</td>\n",
              "      <td>0</td>\n",
              "      <td>0</td>\n",
              "      <td>0</td>\n",
              "      <td>Alta tecnologia</td>\n",
              "      <td>1.0</td>\n",
              "      <td>14.5</td>\n",
              "    </tr>\n",
              "    <tr>\n",
              "      <th>431911</th>\n",
              "      <td>7022327</td>\n",
              "      <td>H</td>\n",
              "      <td>1</td>\n",
              "      <td>1</td>\n",
              "      <td>0</td>\n",
              "      <td>256500.0</td>\n",
              "      <td>Associado comercial</td>\n",
              "      <td>Ensino superior</td>\n",
              "      <td>Casado</td>\n",
              "      <td>Casa propria</td>\n",
              "      <td>59.0</td>\n",
              "      <td>1</td>\n",
              "      <td>0</td>\n",
              "      <td>0</td>\n",
              "      <td>1</td>\n",
              "      <td>Equipe principal</td>\n",
              "      <td>2.0</td>\n",
              "      <td>4.6</td>\n",
              "    </tr>\n",
              "    <tr>\n",
              "      <th>425486</th>\n",
              "      <td>7023108</td>\n",
              "      <td>H</td>\n",
              "      <td>1</td>\n",
              "      <td>1</td>\n",
              "      <td>1</td>\n",
              "      <td>67500.0</td>\n",
              "      <td>Empregado</td>\n",
              "      <td>Ensino medio</td>\n",
              "      <td>Casado</td>\n",
              "      <td>Casa propria</td>\n",
              "      <td>42.0</td>\n",
              "      <td>1</td>\n",
              "      <td>1</td>\n",
              "      <td>0</td>\n",
              "      <td>0</td>\n",
              "      <td>Equipe principal</td>\n",
              "      <td>3.0</td>\n",
              "      <td>4.6</td>\n",
              "    </tr>\n",
              "    <tr>\n",
              "      <th>...</th>\n",
              "      <td>...</td>\n",
              "      <td>...</td>\n",
              "      <td>...</td>\n",
              "      <td>...</td>\n",
              "      <td>...</td>\n",
              "      <td>...</td>\n",
              "      <td>...</td>\n",
              "      <td>...</td>\n",
              "      <td>...</td>\n",
              "      <td>...</td>\n",
              "      <td>...</td>\n",
              "      <td>...</td>\n",
              "      <td>...</td>\n",
              "      <td>...</td>\n",
              "      <td>...</td>\n",
              "      <td>...</td>\n",
              "      <td>...</td>\n",
              "      <td>...</td>\n",
              "    </tr>\n",
              "    <tr>\n",
              "      <th>426563</th>\n",
              "      <td>7836711</td>\n",
              "      <td>M</td>\n",
              "      <td>0</td>\n",
              "      <td>1</td>\n",
              "      <td>2</td>\n",
              "      <td>292500.0</td>\n",
              "      <td>Empregado</td>\n",
              "      <td>Ensino superior</td>\n",
              "      <td>Casado</td>\n",
              "      <td>Casa propria</td>\n",
              "      <td>38.0</td>\n",
              "      <td>1</td>\n",
              "      <td>0</td>\n",
              "      <td>1</td>\n",
              "      <td>0</td>\n",
              "      <td>Contabilidade</td>\n",
              "      <td>4.0</td>\n",
              "      <td>12.0</td>\n",
              "    </tr>\n",
              "    <tr>\n",
              "      <th>421464</th>\n",
              "      <td>7836971</td>\n",
              "      <td>H</td>\n",
              "      <td>1</td>\n",
              "      <td>0</td>\n",
              "      <td>1</td>\n",
              "      <td>157500.0</td>\n",
              "      <td>Empregado</td>\n",
              "      <td>Ensino medio</td>\n",
              "      <td>Casado</td>\n",
              "      <td>Casa propria</td>\n",
              "      <td>38.0</td>\n",
              "      <td>1</td>\n",
              "      <td>0</td>\n",
              "      <td>0</td>\n",
              "      <td>0</td>\n",
              "      <td>Outros</td>\n",
              "      <td>3.0</td>\n",
              "      <td>15.1</td>\n",
              "    </tr>\n",
              "    <tr>\n",
              "      <th>428620</th>\n",
              "      <td>7836971</td>\n",
              "      <td>M</td>\n",
              "      <td>0</td>\n",
              "      <td>1</td>\n",
              "      <td>0</td>\n",
              "      <td>103500.0</td>\n",
              "      <td>Empregado</td>\n",
              "      <td>Ensino medio</td>\n",
              "      <td>Uniao estavel</td>\n",
              "      <td>Casa propria</td>\n",
              "      <td>37.0</td>\n",
              "      <td>1</td>\n",
              "      <td>0</td>\n",
              "      <td>1</td>\n",
              "      <td>0</td>\n",
              "      <td>Venda</td>\n",
              "      <td>2.0</td>\n",
              "      <td>7.7</td>\n",
              "    </tr>\n",
              "    <tr>\n",
              "      <th>422068</th>\n",
              "      <td>7838075</td>\n",
              "      <td>H</td>\n",
              "      <td>0</td>\n",
              "      <td>1</td>\n",
              "      <td>0</td>\n",
              "      <td>337500.0</td>\n",
              "      <td>Associado comercial</td>\n",
              "      <td>Ensino medio</td>\n",
              "      <td>Casado</td>\n",
              "      <td>Casa propria</td>\n",
              "      <td>50.0</td>\n",
              "      <td>1</td>\n",
              "      <td>0</td>\n",
              "      <td>0</td>\n",
              "      <td>1</td>\n",
              "      <td>Motorista</td>\n",
              "      <td>2.0</td>\n",
              "      <td>3.5</td>\n",
              "    </tr>\n",
              "    <tr>\n",
              "      <th>423702</th>\n",
              "      <td>7838075</td>\n",
              "      <td>M</td>\n",
              "      <td>1</td>\n",
              "      <td>1</td>\n",
              "      <td>0</td>\n",
              "      <td>315000.0</td>\n",
              "      <td>Associado comercial</td>\n",
              "      <td>Ensino superior</td>\n",
              "      <td>Solteiro</td>\n",
              "      <td>Casa propria</td>\n",
              "      <td>29.0</td>\n",
              "      <td>1</td>\n",
              "      <td>0</td>\n",
              "      <td>0</td>\n",
              "      <td>1</td>\n",
              "      <td>Outros</td>\n",
              "      <td>1.0</td>\n",
              "      <td>4.5</td>\n",
              "    </tr>\n",
              "  </tbody>\n",
              "</table>\n",
              "<p>94 rows × 18 columns</p>\n",
              "</div>"
            ],
            "text/plain": [
              "        ID_Cliente Genero  ...  Tamanho_Familia  Anos_empregado\n",
              "426818     7022197      H  ...              5.0             2.0\n",
              "425023     7022197      M  ...              1.0             4.9\n",
              "431545     7022327      M  ...              1.0            14.5\n",
              "431911     7022327      H  ...              2.0             4.6\n",
              "425486     7023108      H  ...              3.0             4.6\n",
              "...            ...    ...  ...              ...             ...\n",
              "426563     7836711      M  ...              4.0            12.0\n",
              "421464     7836971      H  ...              3.0            15.1\n",
              "428620     7836971      M  ...              2.0             7.7\n",
              "422068     7838075      H  ...              2.0             3.5\n",
              "423702     7838075      M  ...              1.0             4.5\n",
              "\n",
              "[94 rows x 18 columns]"
            ]
          },
          "metadata": {
            "tags": []
          },
          "execution_count": 16
        }
      ]
    },
    {
      "cell_type": "markdown",
      "metadata": {
        "id": "esQgg__RHhCJ"
      },
      "source": [
        "Temos 94 registros duplicados. Isso representa em torno de 0,02% de nossa base.\n",
        "\n",
        "Inicialmente, podemos desprezar esses registros para avançarmos em nossa análise."
      ]
    },
    {
      "cell_type": "code",
      "metadata": {
        "colab": {
          "base_uri": "https://localhost:8080/"
        },
        "id": "EJBAy98DxIJd",
        "outputId": "804e1e30-9e72-420e-cc42-4885f45b7abe"
      },
      "source": [
        "id_repetidos = dados_cadastrados[dados_cadastrados.ID_Cliente.duplicated(keep=False)].sort_values(by='ID_Cliente')['ID_Cliente']\n",
        "id_repetidos"
      ],
      "execution_count": 27,
      "outputs": [
        {
          "output_type": "execute_result",
          "data": {
            "text/plain": [
              "426818    7022197\n",
              "425023    7022197\n",
              "431545    7022327\n",
              "431911    7022327\n",
              "425486    7023108\n",
              "           ...   \n",
              "426563    7836711\n",
              "421464    7836971\n",
              "428620    7836971\n",
              "422068    7838075\n",
              "423702    7838075\n",
              "Name: ID_Cliente, Length: 94, dtype: int64"
            ]
          },
          "metadata": {
            "tags": []
          },
          "execution_count": 27
        }
      ]
    },
    {
      "cell_type": "code",
      "metadata": {
        "colab": {
          "base_uri": "https://localhost:8080/",
          "height": 597
        },
        "id": "BweVA3gXxIHB",
        "outputId": "7572cace-4491-433c-96c3-c2fbedf9f353"
      },
      "source": [
        "dados_cad_id_unicos = dados_cadastrados.drop(id_repetidos.index)\n",
        "dados_cad_id_unicos"
      ],
      "execution_count": 28,
      "outputs": [
        {
          "output_type": "execute_result",
          "data": {
            "text/html": [
              "<div>\n",
              "<style scoped>\n",
              "    .dataframe tbody tr th:only-of-type {\n",
              "        vertical-align: middle;\n",
              "    }\n",
              "\n",
              "    .dataframe tbody tr th {\n",
              "        vertical-align: top;\n",
              "    }\n",
              "\n",
              "    .dataframe thead th {\n",
              "        text-align: right;\n",
              "    }\n",
              "</style>\n",
              "<table border=\"1\" class=\"dataframe\">\n",
              "  <thead>\n",
              "    <tr style=\"text-align: right;\">\n",
              "      <th></th>\n",
              "      <th>ID_Cliente</th>\n",
              "      <th>Genero</th>\n",
              "      <th>Tem_Carro</th>\n",
              "      <th>Tem_Casa_Propria</th>\n",
              "      <th>Qtd_Filhos</th>\n",
              "      <th>Rendimento_Anual</th>\n",
              "      <th>Categoria_de_renda</th>\n",
              "      <th>Grau_Escolaridade</th>\n",
              "      <th>Estado_Civil</th>\n",
              "      <th>Moradia</th>\n",
              "      <th>Idade</th>\n",
              "      <th>Tem_Celular</th>\n",
              "      <th>Tem_telefone_trabalho</th>\n",
              "      <th>Tem_telefone_fixo</th>\n",
              "      <th>Tem_email</th>\n",
              "      <th>Ocupacao</th>\n",
              "      <th>Tamanho_Familia</th>\n",
              "      <th>Anos_empregado</th>\n",
              "    </tr>\n",
              "  </thead>\n",
              "  <tbody>\n",
              "    <tr>\n",
              "      <th>0</th>\n",
              "      <td>5008804</td>\n",
              "      <td>H</td>\n",
              "      <td>1</td>\n",
              "      <td>1</td>\n",
              "      <td>0</td>\n",
              "      <td>427500.0</td>\n",
              "      <td>Empregado</td>\n",
              "      <td>Ensino superior</td>\n",
              "      <td>Uniao estavel</td>\n",
              "      <td>Alugado</td>\n",
              "      <td>33.0</td>\n",
              "      <td>1</td>\n",
              "      <td>1</td>\n",
              "      <td>0</td>\n",
              "      <td>0</td>\n",
              "      <td>Outros</td>\n",
              "      <td>2.0</td>\n",
              "      <td>12.4</td>\n",
              "    </tr>\n",
              "    <tr>\n",
              "      <th>1</th>\n",
              "      <td>5008805</td>\n",
              "      <td>H</td>\n",
              "      <td>1</td>\n",
              "      <td>1</td>\n",
              "      <td>0</td>\n",
              "      <td>427500.0</td>\n",
              "      <td>Empregado</td>\n",
              "      <td>Ensino superior</td>\n",
              "      <td>Uniao estavel</td>\n",
              "      <td>Alugado</td>\n",
              "      <td>33.0</td>\n",
              "      <td>1</td>\n",
              "      <td>1</td>\n",
              "      <td>0</td>\n",
              "      <td>0</td>\n",
              "      <td>Outros</td>\n",
              "      <td>2.0</td>\n",
              "      <td>12.4</td>\n",
              "    </tr>\n",
              "    <tr>\n",
              "      <th>2</th>\n",
              "      <td>5008806</td>\n",
              "      <td>H</td>\n",
              "      <td>1</td>\n",
              "      <td>1</td>\n",
              "      <td>0</td>\n",
              "      <td>112500.0</td>\n",
              "      <td>Empregado</td>\n",
              "      <td>Ensino medio</td>\n",
              "      <td>Casado</td>\n",
              "      <td>Casa propria</td>\n",
              "      <td>59.0</td>\n",
              "      <td>1</td>\n",
              "      <td>0</td>\n",
              "      <td>0</td>\n",
              "      <td>0</td>\n",
              "      <td>Seguranca</td>\n",
              "      <td>2.0</td>\n",
              "      <td>3.1</td>\n",
              "    </tr>\n",
              "    <tr>\n",
              "      <th>3</th>\n",
              "      <td>5008808</td>\n",
              "      <td>M</td>\n",
              "      <td>0</td>\n",
              "      <td>1</td>\n",
              "      <td>0</td>\n",
              "      <td>270000.0</td>\n",
              "      <td>Associado comercial</td>\n",
              "      <td>Ensino medio</td>\n",
              "      <td>Solteiro</td>\n",
              "      <td>Casa propria</td>\n",
              "      <td>52.0</td>\n",
              "      <td>1</td>\n",
              "      <td>0</td>\n",
              "      <td>1</td>\n",
              "      <td>1</td>\n",
              "      <td>Venda</td>\n",
              "      <td>1.0</td>\n",
              "      <td>8.4</td>\n",
              "    </tr>\n",
              "    <tr>\n",
              "      <th>4</th>\n",
              "      <td>5008809</td>\n",
              "      <td>M</td>\n",
              "      <td>0</td>\n",
              "      <td>1</td>\n",
              "      <td>0</td>\n",
              "      <td>270000.0</td>\n",
              "      <td>Associado comercial</td>\n",
              "      <td>Ensino medio</td>\n",
              "      <td>Solteiro</td>\n",
              "      <td>Casa propria</td>\n",
              "      <td>52.0</td>\n",
              "      <td>1</td>\n",
              "      <td>0</td>\n",
              "      <td>1</td>\n",
              "      <td>1</td>\n",
              "      <td>Venda</td>\n",
              "      <td>1.0</td>\n",
              "      <td>8.4</td>\n",
              "    </tr>\n",
              "    <tr>\n",
              "      <th>...</th>\n",
              "      <td>...</td>\n",
              "      <td>...</td>\n",
              "      <td>...</td>\n",
              "      <td>...</td>\n",
              "      <td>...</td>\n",
              "      <td>...</td>\n",
              "      <td>...</td>\n",
              "      <td>...</td>\n",
              "      <td>...</td>\n",
              "      <td>...</td>\n",
              "      <td>...</td>\n",
              "      <td>...</td>\n",
              "      <td>...</td>\n",
              "      <td>...</td>\n",
              "      <td>...</td>\n",
              "      <td>...</td>\n",
              "      <td>...</td>\n",
              "      <td>...</td>\n",
              "    </tr>\n",
              "    <tr>\n",
              "      <th>438552</th>\n",
              "      <td>6840104</td>\n",
              "      <td>H</td>\n",
              "      <td>0</td>\n",
              "      <td>1</td>\n",
              "      <td>0</td>\n",
              "      <td>135000.0</td>\n",
              "      <td>Pensionista</td>\n",
              "      <td>Ensino medio</td>\n",
              "      <td>Separado</td>\n",
              "      <td>Casa propria</td>\n",
              "      <td>62.0</td>\n",
              "      <td>1</td>\n",
              "      <td>0</td>\n",
              "      <td>0</td>\n",
              "      <td>0</td>\n",
              "      <td>Outros</td>\n",
              "      <td>1.0</td>\n",
              "      <td>-1000.7</td>\n",
              "    </tr>\n",
              "    <tr>\n",
              "      <th>438553</th>\n",
              "      <td>6840222</td>\n",
              "      <td>M</td>\n",
              "      <td>0</td>\n",
              "      <td>0</td>\n",
              "      <td>0</td>\n",
              "      <td>103500.0</td>\n",
              "      <td>Empregado</td>\n",
              "      <td>Ensino medio</td>\n",
              "      <td>Solteiro</td>\n",
              "      <td>Casa propria</td>\n",
              "      <td>44.0</td>\n",
              "      <td>1</td>\n",
              "      <td>0</td>\n",
              "      <td>0</td>\n",
              "      <td>0</td>\n",
              "      <td>Construcao Civil</td>\n",
              "      <td>1.0</td>\n",
              "      <td>8.2</td>\n",
              "    </tr>\n",
              "    <tr>\n",
              "      <th>438554</th>\n",
              "      <td>6841878</td>\n",
              "      <td>M</td>\n",
              "      <td>0</td>\n",
              "      <td>0</td>\n",
              "      <td>0</td>\n",
              "      <td>54000.0</td>\n",
              "      <td>Associado comercial</td>\n",
              "      <td>Ensino superior</td>\n",
              "      <td>Solteiro</td>\n",
              "      <td>Mora com os pais</td>\n",
              "      <td>22.0</td>\n",
              "      <td>1</td>\n",
              "      <td>1</td>\n",
              "      <td>0</td>\n",
              "      <td>0</td>\n",
              "      <td>Venda</td>\n",
              "      <td>1.0</td>\n",
              "      <td>1.0</td>\n",
              "    </tr>\n",
              "    <tr>\n",
              "      <th>438555</th>\n",
              "      <td>6842765</td>\n",
              "      <td>M</td>\n",
              "      <td>0</td>\n",
              "      <td>1</td>\n",
              "      <td>0</td>\n",
              "      <td>72000.0</td>\n",
              "      <td>Pensionista</td>\n",
              "      <td>Ensino medio</td>\n",
              "      <td>Casado</td>\n",
              "      <td>Casa propria</td>\n",
              "      <td>59.0</td>\n",
              "      <td>1</td>\n",
              "      <td>0</td>\n",
              "      <td>0</td>\n",
              "      <td>0</td>\n",
              "      <td>Outros</td>\n",
              "      <td>2.0</td>\n",
              "      <td>-1000.7</td>\n",
              "    </tr>\n",
              "    <tr>\n",
              "      <th>438556</th>\n",
              "      <td>6842885</td>\n",
              "      <td>M</td>\n",
              "      <td>0</td>\n",
              "      <td>1</td>\n",
              "      <td>0</td>\n",
              "      <td>121500.0</td>\n",
              "      <td>Empregado</td>\n",
              "      <td>Ensino medio</td>\n",
              "      <td>Casado</td>\n",
              "      <td>Casa propria</td>\n",
              "      <td>52.0</td>\n",
              "      <td>1</td>\n",
              "      <td>0</td>\n",
              "      <td>1</td>\n",
              "      <td>0</td>\n",
              "      <td>Venda</td>\n",
              "      <td>2.0</td>\n",
              "      <td>3.3</td>\n",
              "    </tr>\n",
              "  </tbody>\n",
              "</table>\n",
              "<p>438463 rows × 18 columns</p>\n",
              "</div>"
            ],
            "text/plain": [
              "        ID_Cliente Genero  ...  Tamanho_Familia  Anos_empregado\n",
              "0          5008804      H  ...              2.0            12.4\n",
              "1          5008805      H  ...              2.0            12.4\n",
              "2          5008806      H  ...              2.0             3.1\n",
              "3          5008808      M  ...              1.0             8.4\n",
              "4          5008809      M  ...              1.0             8.4\n",
              "...            ...    ...  ...              ...             ...\n",
              "438552     6840104      H  ...              1.0         -1000.7\n",
              "438553     6840222      M  ...              1.0             8.2\n",
              "438554     6841878      M  ...              1.0             1.0\n",
              "438555     6842765      M  ...              2.0         -1000.7\n",
              "438556     6842885      M  ...              2.0             3.3\n",
              "\n",
              "[438463 rows x 18 columns]"
            ]
          },
          "metadata": {
            "tags": []
          },
          "execution_count": 28
        }
      ]
    },
    {
      "cell_type": "code",
      "metadata": {
        "colab": {
          "base_uri": "https://localhost:8080/"
        },
        "id": "ruq-dnKNxIEU",
        "outputId": "bac60348-2173-4c69-9f12-5c6376f0f726"
      },
      "source": [
        "(dados_cad_id_unicos.ID_Cliente.value_counts() > 1).sum()"
      ],
      "execution_count": 82,
      "outputs": [
        {
          "output_type": "execute_result",
          "data": {
            "text/plain": [
              "0"
            ]
          },
          "metadata": {
            "tags": []
          },
          "execution_count": 82
        }
      ]
    },
    {
      "cell_type": "markdown",
      "metadata": {
        "id": "EcRD8GH1IPih"
      },
      "source": [
        "Agora estamos com um novo *dataframe*, sem nenhum **ID** duplicado.\n",
        "\n",
        "Conforme mencionado antes, nossa base aparentava ter dados em duplicidade também nas demais colunas, ou seja, clientes com vários **IDs** diferentes.\n",
        "\n",
        "Vamos verificar qual o impacto disso em nosso *dataset*."
      ]
    },
    {
      "cell_type": "code",
      "metadata": {
        "colab": {
          "base_uri": "https://localhost:8080/"
        },
        "id": "b9ti0wOsxIO5",
        "outputId": "d0647a11-292a-4145-c78e-27f607551552"
      },
      "source": [
        "dados_cadastrados.drop(['ID_Cliente'], axis=1).duplicated().sum()"
      ],
      "execution_count": 25,
      "outputs": [
        {
          "output_type": "execute_result",
          "data": {
            "text/plain": [
              "353636"
            ]
          },
          "metadata": {
            "tags": []
          },
          "execution_count": 25
        }
      ]
    },
    {
      "cell_type": "markdown",
      "metadata": {
        "id": "Wqi6m4lIKhJy"
      },
      "source": [
        "Aqui a situação é mais complexa.\n",
        "\n",
        "Temos mais de 350 mil registros idênticos em nossa base, mais de 80%.\n",
        "\n",
        "Não podemos desprezar esses dados sem investigar melhor o que pode ter acontecido em nossa base.\n",
        "\n",
        "Vamos prosseguir com a base que fizemos apenas retirando os **IDs** duplicados e verificar a existência de dados nulos em alguma coluna."
      ]
    },
    {
      "cell_type": "code",
      "metadata": {
        "colab": {
          "base_uri": "https://localhost:8080/"
        },
        "id": "eTSeG7i6xH_r",
        "outputId": "50617949-42f4-49e3-b000-e27938779ee3"
      },
      "source": [
        "# Verificação de dados nulos na base\n",
        "\n",
        "dados_cad_id_unicos.isnull().sum()"
      ],
      "execution_count": 30,
      "outputs": [
        {
          "output_type": "execute_result",
          "data": {
            "text/plain": [
              "ID_Cliente               0\n",
              "Genero                   0\n",
              "Tem_Carro                0\n",
              "Tem_Casa_Propria         0\n",
              "Qtd_Filhos               0\n",
              "Rendimento_Anual         0\n",
              "Categoria_de_renda       0\n",
              "Grau_Escolaridade        0\n",
              "Estado_Civil             0\n",
              "Moradia                  0\n",
              "Idade                    0\n",
              "Tem_Celular              0\n",
              "Tem_telefone_trabalho    0\n",
              "Tem_telefone_fixo        0\n",
              "Tem_email                0\n",
              "Ocupacao                 0\n",
              "Tamanho_Familia          0\n",
              "Anos_empregado           0\n",
              "dtype: int64"
            ]
          },
          "metadata": {
            "tags": []
          },
          "execution_count": 30
        }
      ]
    },
    {
      "cell_type": "markdown",
      "metadata": {
        "id": "U78w8RwALTFV"
      },
      "source": [
        "Não temos dados nulos, podemos prosseguir."
      ]
    },
    {
      "cell_type": "code",
      "metadata": {
        "colab": {
          "base_uri": "https://localhost:8080/"
        },
        "id": "-TvkCkicxH9L",
        "outputId": "e17ee1b8-cc1e-469b-8218-6526685bc9d1"
      },
      "source": [
        "dados_cad_id_unicos.info()"
      ],
      "execution_count": 31,
      "outputs": [
        {
          "output_type": "stream",
          "text": [
            "<class 'pandas.core.frame.DataFrame'>\n",
            "Int64Index: 438463 entries, 0 to 438556\n",
            "Data columns (total 18 columns):\n",
            " #   Column                 Non-Null Count   Dtype  \n",
            "---  ------                 --------------   -----  \n",
            " 0   ID_Cliente             438463 non-null  int64  \n",
            " 1   Genero                 438463 non-null  object \n",
            " 2   Tem_Carro              438463 non-null  int64  \n",
            " 3   Tem_Casa_Propria       438463 non-null  int64  \n",
            " 4   Qtd_Filhos             438463 non-null  int64  \n",
            " 5   Rendimento_Anual       438463 non-null  float64\n",
            " 6   Categoria_de_renda     438463 non-null  object \n",
            " 7   Grau_Escolaridade      438463 non-null  object \n",
            " 8   Estado_Civil           438463 non-null  object \n",
            " 9   Moradia                438463 non-null  object \n",
            " 10  Idade                  438463 non-null  float64\n",
            " 11  Tem_Celular            438463 non-null  int64  \n",
            " 12  Tem_telefone_trabalho  438463 non-null  int64  \n",
            " 13  Tem_telefone_fixo      438463 non-null  int64  \n",
            " 14  Tem_email              438463 non-null  int64  \n",
            " 15  Ocupacao               438463 non-null  object \n",
            " 16  Tamanho_Familia        438463 non-null  float64\n",
            " 17  Anos_empregado         438463 non-null  float64\n",
            "dtypes: float64(4), int64(8), object(6)\n",
            "memory usage: 63.6+ MB\n"
          ],
          "name": "stdout"
        }
      ]
    },
    {
      "cell_type": "markdown",
      "metadata": {
        "id": "rUIEN22E4H0y"
      },
      "source": [
        "### **Desafio 1 - Explorar IDs Repetidos (Atualização de Cadastro? Erro?)**\n",
        "---\n",
        "\n"
      ]
    },
    {
      "cell_type": "markdown",
      "metadata": {
        "id": "NtwlpnaO-Z7Y"
      },
      "source": [
        "Primeiro vamos gerar um *dataframe* só com os 94 clientes que foram desconsiderados da nossa base acima."
      ]
    },
    {
      "cell_type": "code",
      "metadata": {
        "colab": {
          "base_uri": "https://localhost:8080/",
          "height": 615
        },
        "id": "QYuavS9f4zZl",
        "outputId": "f89eda18-414e-4c2b-c2f9-6519bb72a3f8"
      },
      "source": [
        "dados_cad_id_repetidos = dados_cadastrados[dados_cadastrados.ID_Cliente.isin(id_repetidos)].sort_values(by='ID_Cliente')\n",
        "dados_cad_id_repetidos"
      ],
      "execution_count": 44,
      "outputs": [
        {
          "output_type": "execute_result",
          "data": {
            "text/html": [
              "<div>\n",
              "<style scoped>\n",
              "    .dataframe tbody tr th:only-of-type {\n",
              "        vertical-align: middle;\n",
              "    }\n",
              "\n",
              "    .dataframe tbody tr th {\n",
              "        vertical-align: top;\n",
              "    }\n",
              "\n",
              "    .dataframe thead th {\n",
              "        text-align: right;\n",
              "    }\n",
              "</style>\n",
              "<table border=\"1\" class=\"dataframe\">\n",
              "  <thead>\n",
              "    <tr style=\"text-align: right;\">\n",
              "      <th></th>\n",
              "      <th>ID_Cliente</th>\n",
              "      <th>Genero</th>\n",
              "      <th>Tem_Carro</th>\n",
              "      <th>Tem_Casa_Propria</th>\n",
              "      <th>Qtd_Filhos</th>\n",
              "      <th>Rendimento_Anual</th>\n",
              "      <th>Categoria_de_renda</th>\n",
              "      <th>Grau_Escolaridade</th>\n",
              "      <th>Estado_Civil</th>\n",
              "      <th>Moradia</th>\n",
              "      <th>Idade</th>\n",
              "      <th>Tem_Celular</th>\n",
              "      <th>Tem_telefone_trabalho</th>\n",
              "      <th>Tem_telefone_fixo</th>\n",
              "      <th>Tem_email</th>\n",
              "      <th>Ocupacao</th>\n",
              "      <th>Tamanho_Familia</th>\n",
              "      <th>Anos_empregado</th>\n",
              "    </tr>\n",
              "  </thead>\n",
              "  <tbody>\n",
              "    <tr>\n",
              "      <th>426818</th>\n",
              "      <td>7022197</td>\n",
              "      <td>H</td>\n",
              "      <td>1</td>\n",
              "      <td>1</td>\n",
              "      <td>3</td>\n",
              "      <td>135000.0</td>\n",
              "      <td>Empregado</td>\n",
              "      <td>Ensino medio</td>\n",
              "      <td>Casado</td>\n",
              "      <td>Casa propria</td>\n",
              "      <td>33.0</td>\n",
              "      <td>1</td>\n",
              "      <td>0</td>\n",
              "      <td>0</td>\n",
              "      <td>1</td>\n",
              "      <td>Construcao Civil</td>\n",
              "      <td>5.0</td>\n",
              "      <td>2.0</td>\n",
              "    </tr>\n",
              "    <tr>\n",
              "      <th>425023</th>\n",
              "      <td>7022197</td>\n",
              "      <td>M</td>\n",
              "      <td>0</td>\n",
              "      <td>1</td>\n",
              "      <td>0</td>\n",
              "      <td>450000.0</td>\n",
              "      <td>Associado comercial</td>\n",
              "      <td>Ensino superior</td>\n",
              "      <td>Separado</td>\n",
              "      <td>Casa propria</td>\n",
              "      <td>54.0</td>\n",
              "      <td>1</td>\n",
              "      <td>0</td>\n",
              "      <td>0</td>\n",
              "      <td>1</td>\n",
              "      <td>Outros</td>\n",
              "      <td>1.0</td>\n",
              "      <td>4.9</td>\n",
              "    </tr>\n",
              "    <tr>\n",
              "      <th>431545</th>\n",
              "      <td>7022327</td>\n",
              "      <td>M</td>\n",
              "      <td>0</td>\n",
              "      <td>1</td>\n",
              "      <td>0</td>\n",
              "      <td>135000.0</td>\n",
              "      <td>Associado comercial</td>\n",
              "      <td>Ensino medio</td>\n",
              "      <td>Solteiro</td>\n",
              "      <td>Casa propria</td>\n",
              "      <td>40.0</td>\n",
              "      <td>1</td>\n",
              "      <td>0</td>\n",
              "      <td>0</td>\n",
              "      <td>0</td>\n",
              "      <td>Alta tecnologia</td>\n",
              "      <td>1.0</td>\n",
              "      <td>14.5</td>\n",
              "    </tr>\n",
              "    <tr>\n",
              "      <th>431911</th>\n",
              "      <td>7022327</td>\n",
              "      <td>H</td>\n",
              "      <td>1</td>\n",
              "      <td>1</td>\n",
              "      <td>0</td>\n",
              "      <td>256500.0</td>\n",
              "      <td>Associado comercial</td>\n",
              "      <td>Ensino superior</td>\n",
              "      <td>Casado</td>\n",
              "      <td>Casa propria</td>\n",
              "      <td>59.0</td>\n",
              "      <td>1</td>\n",
              "      <td>0</td>\n",
              "      <td>0</td>\n",
              "      <td>1</td>\n",
              "      <td>Equipe principal</td>\n",
              "      <td>2.0</td>\n",
              "      <td>4.6</td>\n",
              "    </tr>\n",
              "    <tr>\n",
              "      <th>425486</th>\n",
              "      <td>7023108</td>\n",
              "      <td>H</td>\n",
              "      <td>1</td>\n",
              "      <td>1</td>\n",
              "      <td>1</td>\n",
              "      <td>67500.0</td>\n",
              "      <td>Empregado</td>\n",
              "      <td>Ensino medio</td>\n",
              "      <td>Casado</td>\n",
              "      <td>Casa propria</td>\n",
              "      <td>42.0</td>\n",
              "      <td>1</td>\n",
              "      <td>1</td>\n",
              "      <td>0</td>\n",
              "      <td>0</td>\n",
              "      <td>Equipe principal</td>\n",
              "      <td>3.0</td>\n",
              "      <td>4.6</td>\n",
              "    </tr>\n",
              "    <tr>\n",
              "      <th>...</th>\n",
              "      <td>...</td>\n",
              "      <td>...</td>\n",
              "      <td>...</td>\n",
              "      <td>...</td>\n",
              "      <td>...</td>\n",
              "      <td>...</td>\n",
              "      <td>...</td>\n",
              "      <td>...</td>\n",
              "      <td>...</td>\n",
              "      <td>...</td>\n",
              "      <td>...</td>\n",
              "      <td>...</td>\n",
              "      <td>...</td>\n",
              "      <td>...</td>\n",
              "      <td>...</td>\n",
              "      <td>...</td>\n",
              "      <td>...</td>\n",
              "      <td>...</td>\n",
              "    </tr>\n",
              "    <tr>\n",
              "      <th>426563</th>\n",
              "      <td>7836711</td>\n",
              "      <td>M</td>\n",
              "      <td>0</td>\n",
              "      <td>1</td>\n",
              "      <td>2</td>\n",
              "      <td>292500.0</td>\n",
              "      <td>Empregado</td>\n",
              "      <td>Ensino superior</td>\n",
              "      <td>Casado</td>\n",
              "      <td>Casa propria</td>\n",
              "      <td>38.0</td>\n",
              "      <td>1</td>\n",
              "      <td>0</td>\n",
              "      <td>1</td>\n",
              "      <td>0</td>\n",
              "      <td>Contabilidade</td>\n",
              "      <td>4.0</td>\n",
              "      <td>12.0</td>\n",
              "    </tr>\n",
              "    <tr>\n",
              "      <th>421464</th>\n",
              "      <td>7836971</td>\n",
              "      <td>H</td>\n",
              "      <td>1</td>\n",
              "      <td>0</td>\n",
              "      <td>1</td>\n",
              "      <td>157500.0</td>\n",
              "      <td>Empregado</td>\n",
              "      <td>Ensino medio</td>\n",
              "      <td>Casado</td>\n",
              "      <td>Casa propria</td>\n",
              "      <td>38.0</td>\n",
              "      <td>1</td>\n",
              "      <td>0</td>\n",
              "      <td>0</td>\n",
              "      <td>0</td>\n",
              "      <td>Outros</td>\n",
              "      <td>3.0</td>\n",
              "      <td>15.1</td>\n",
              "    </tr>\n",
              "    <tr>\n",
              "      <th>428620</th>\n",
              "      <td>7836971</td>\n",
              "      <td>M</td>\n",
              "      <td>0</td>\n",
              "      <td>1</td>\n",
              "      <td>0</td>\n",
              "      <td>103500.0</td>\n",
              "      <td>Empregado</td>\n",
              "      <td>Ensino medio</td>\n",
              "      <td>Uniao estavel</td>\n",
              "      <td>Casa propria</td>\n",
              "      <td>37.0</td>\n",
              "      <td>1</td>\n",
              "      <td>0</td>\n",
              "      <td>1</td>\n",
              "      <td>0</td>\n",
              "      <td>Venda</td>\n",
              "      <td>2.0</td>\n",
              "      <td>7.7</td>\n",
              "    </tr>\n",
              "    <tr>\n",
              "      <th>422068</th>\n",
              "      <td>7838075</td>\n",
              "      <td>H</td>\n",
              "      <td>0</td>\n",
              "      <td>1</td>\n",
              "      <td>0</td>\n",
              "      <td>337500.0</td>\n",
              "      <td>Associado comercial</td>\n",
              "      <td>Ensino medio</td>\n",
              "      <td>Casado</td>\n",
              "      <td>Casa propria</td>\n",
              "      <td>50.0</td>\n",
              "      <td>1</td>\n",
              "      <td>0</td>\n",
              "      <td>0</td>\n",
              "      <td>1</td>\n",
              "      <td>Motorista</td>\n",
              "      <td>2.0</td>\n",
              "      <td>3.5</td>\n",
              "    </tr>\n",
              "    <tr>\n",
              "      <th>423702</th>\n",
              "      <td>7838075</td>\n",
              "      <td>M</td>\n",
              "      <td>1</td>\n",
              "      <td>1</td>\n",
              "      <td>0</td>\n",
              "      <td>315000.0</td>\n",
              "      <td>Associado comercial</td>\n",
              "      <td>Ensino superior</td>\n",
              "      <td>Solteiro</td>\n",
              "      <td>Casa propria</td>\n",
              "      <td>29.0</td>\n",
              "      <td>1</td>\n",
              "      <td>0</td>\n",
              "      <td>0</td>\n",
              "      <td>1</td>\n",
              "      <td>Outros</td>\n",
              "      <td>1.0</td>\n",
              "      <td>4.5</td>\n",
              "    </tr>\n",
              "  </tbody>\n",
              "</table>\n",
              "<p>94 rows × 18 columns</p>\n",
              "</div>"
            ],
            "text/plain": [
              "        ID_Cliente Genero  ...  Tamanho_Familia  Anos_empregado\n",
              "426818     7022197      H  ...              5.0             2.0\n",
              "425023     7022197      M  ...              1.0             4.9\n",
              "431545     7022327      M  ...              1.0            14.5\n",
              "431911     7022327      H  ...              2.0             4.6\n",
              "425486     7023108      H  ...              3.0             4.6\n",
              "...            ...    ...  ...              ...             ...\n",
              "426563     7836711      M  ...              4.0            12.0\n",
              "421464     7836971      H  ...              3.0            15.1\n",
              "428620     7836971      M  ...              2.0             7.7\n",
              "422068     7838075      H  ...              2.0             3.5\n",
              "423702     7838075      M  ...              1.0             4.5\n",
              "\n",
              "[94 rows x 18 columns]"
            ]
          },
          "metadata": {
            "tags": []
          },
          "execution_count": 44
        }
      ]
    },
    {
      "cell_type": "code",
      "metadata": {
        "colab": {
          "base_uri": "https://localhost:8080/"
        },
        "id": "08rZ_PUF55mA",
        "outputId": "66dab452-def7-4ee8-f7b0-a39d7bb72e4a"
      },
      "source": [
        "dados_cad_id_repetidos.drop('ID_Cliente', axis=1).duplicated().sum()"
      ],
      "execution_count": 46,
      "outputs": [
        {
          "output_type": "execute_result",
          "data": {
            "text/plain": [
              "0"
            ]
          },
          "metadata": {
            "tags": []
          },
          "execution_count": 46
        }
      ]
    },
    {
      "cell_type": "markdown",
      "metadata": {
        "id": "PKVMIDrg9zAp"
      },
      "source": [
        "Desprezando o **```ID_Cliente```** desses 94 registros com **ID** duplicado, podemos ver que não temos nenhuma duplicidade do restante dos dados.\n",
        "\n",
        "Isso indica que temos algum tipo de erro na atribuição desses **IDs**, permitindo que não seja uma chave única em nossa base.\n",
        "\n",
        "É necessário verificar se foi um erro na extração ou se o erro também está presente no sistema de foram extraídos os dados."
      ]
    },
    {
      "cell_type": "markdown",
      "metadata": {
        "id": "_LJ6XbHX28d-"
      },
      "source": [
        "### **Desafio 2 - Explorar as Colunas (*features*) e Identificar se são Contínuas, Categóricas, Binárias**\n",
        "---\n",
        "\n"
      ]
    },
    {
      "cell_type": "code",
      "metadata": {
        "id": "2eanOyOD-tBt"
      },
      "source": [
        "cols_int64 = dados_cad_id_unicos.select_dtypes('int64').columns\n",
        "cols_float64 = dados_cad_id_unicos.select_dtypes('float64').columns\n",
        "cols_object = var_float64 = dados_cad_id_unicos.select_dtypes('object').columns"
      ],
      "execution_count": 47,
      "outputs": []
    },
    {
      "cell_type": "code",
      "metadata": {
        "colab": {
          "base_uri": "https://localhost:8080/"
        },
        "id": "mvma-bJj-s-_",
        "outputId": "cdd91b6f-e106-4c83-a51a-4f1afde4b3d8"
      },
      "source": [
        "for var in cols_int64:\n",
        "    print(var,'- Valores Únicos:', str(np.sort(dados_cad_id_unicos[var].unique())))"
      ],
      "execution_count": 55,
      "outputs": [
        {
          "output_type": "stream",
          "text": [
            "ID_Cliente - Valores Únicos: [5008804 5008805 5008806 ... 7999738 7999784 7999952]\n",
            "Tem_Carro - Valores Únicos: [0 1]\n",
            "Tem_Casa_Propria - Valores Únicos: [0 1]\n",
            "Qtd_Filhos - Valores Únicos: [ 0  1  2  3  4  5  6  7  9 12 14 19]\n",
            "Tem_Celular - Valores Únicos: [1]\n",
            "Tem_telefone_trabalho - Valores Únicos: [0 1]\n",
            "Tem_telefone_fixo - Valores Únicos: [0 1]\n",
            "Tem_email - Valores Únicos: [0 1]\n"
          ],
          "name": "stdout"
        }
      ]
    },
    {
      "cell_type": "code",
      "metadata": {
        "colab": {
          "base_uri": "https://localhost:8080/"
        },
        "id": "9-hX_bAtClII",
        "outputId": "5a519181-4282-4df6-dc87-74eb5f3c6fba"
      },
      "source": [
        "dados_cad_id_unicos[dados_cad_id_unicos.Qtd_Filhos.isin([12,14,19])].shape"
      ],
      "execution_count": 78,
      "outputs": [
        {
          "output_type": "execute_result",
          "data": {
            "text/plain": [
              "(8, 18)"
            ]
          },
          "metadata": {
            "tags": []
          },
          "execution_count": 78
        }
      ]
    },
    {
      "cell_type": "markdown",
      "metadata": {
        "id": "fq7wkbxrB7vc"
      },
      "source": [
        "As colunas que estão com o tipo **`int64`** são, em sua maioria, binárias.\n",
        "\n",
        "As exceções são:\n",
        "* **ID_Cliente:** que já vimos que é o identificador de cliente\n",
        "* **Qtd_Filhos:** que varia de 0 à 19 (e esses números excessivamente altos podem indicar erros de preenchimento)\n",
        "* **Tem_Celular:** que é igual a 1 para todos, podendo ser desconsiderada"
      ]
    },
    {
      "cell_type": "code",
      "metadata": {
        "colab": {
          "base_uri": "https://localhost:8080/"
        },
        "id": "SiKDs2xM-s8Z",
        "outputId": "c8d24df1-303b-4a0e-b4a5-38ce3902fb75"
      },
      "source": [
        "for var in cols_float64:\n",
        "    print(var,'- Range:', str(dados_cad_id_unicos[var].min()), 'à', str(dados_cad_id_unicos[var].max()))\n",
        "    print('          - Média e Desvio Padrão:', str(dados_cad_id_unicos[var].mean()), 'e', str(dados_cad_id_unicos[var].std()))"
      ],
      "execution_count": 58,
      "outputs": [
        {
          "output_type": "stream",
          "text": [
            "Rendimento_Anual - Range: 26100.0 à 6750000.0\n",
            "          - Média e Desvio Padrão: 187522.009381567 e 110083.15376904178\n",
            "Idade - Range: 21.0 à 69.0\n",
            "          - Média e Desvio Padrão: 43.83403160585956 e 11.472814834775818\n",
            "Tamanho_Familia - Range: 1.0 à 20.0\n",
            "          - Média e Desvio Padrão: 2.1944611061822776 e 0.8971944827602194\n",
            "Anos_empregado - Range: -1000.7 à 48.0\n",
            "          - Média e Desvio Padrão: -165.9360358800694 e 380.20113080357845\n"
          ],
          "name": "stdout"
        }
      ]
    },
    {
      "cell_type": "code",
      "metadata": {
        "colab": {
          "base_uri": "https://localhost:8080/"
        },
        "id": "w8g5vk3FBQiX",
        "outputId": "41e48709-18fa-4005-e313-7e9053d896c2"
      },
      "source": [
        "dados_cad_id_unicos[dados_cad_id_unicos.Anos_empregado == dados_cad_id_unicos.Anos_empregado.min()].shape"
      ],
      "execution_count": 66,
      "outputs": [
        {
          "output_type": "execute_result",
          "data": {
            "text/plain": [
              "(75314, 18)"
            ]
          },
          "metadata": {
            "tags": []
          },
          "execution_count": 66
        }
      ]
    },
    {
      "cell_type": "code",
      "metadata": {
        "colab": {
          "base_uri": "https://localhost:8080/"
        },
        "id": "n_PPDOQSEIB-",
        "outputId": "db9ae957-6af7-42fb-95f9-7a68a01d4526"
      },
      "source": [
        "dados_cad_id_unicos[dados_cad_id_unicos.Anos_empregado < 0].shape"
      ],
      "execution_count": 79,
      "outputs": [
        {
          "output_type": "execute_result",
          "data": {
            "text/plain": [
              "(75314, 18)"
            ]
          },
          "metadata": {
            "tags": []
          },
          "execution_count": 79
        }
      ]
    },
    {
      "cell_type": "markdown",
      "metadata": {
        "id": "mEVPeZJZDg-u"
      },
      "source": [
        "As colunas com o tipo **`float64`** parecem estar classificadas corretamente, mas a variável **`Anos_empregado`** está com um erro de preenchimento, onde temos 75.314 registros com o valor de -1000,7, chegando a distorcer a média geral do *dataset*.\n",
        "\n",
        "Isso precisa ser tratado antes de prosseguirmos."
      ]
    },
    {
      "cell_type": "code",
      "metadata": {
        "colab": {
          "base_uri": "https://localhost:8080/"
        },
        "id": "GKNvN6d8-s51",
        "outputId": "7ee66e10-a430-4f1f-9dd7-da7f91598c9f"
      },
      "source": [
        "for var in cols_object:\n",
        "    print(var,'- Valores:', str(np.sort(dados_cad_id_unicos[var].unique())))"
      ],
      "execution_count": 60,
      "outputs": [
        {
          "output_type": "stream",
          "text": [
            "Genero - Valores: ['H' 'M']\n",
            "Categoria_de_renda - Valores: ['Associado comercial' 'Empregado' 'Estudante' 'Pensionista'\n",
            " 'Servidor publico']\n",
            "Grau_Escolaridade - Valores: ['Ensino fundamental' 'Ensino medio' 'Ensino superior'\n",
            " 'Ensino superior incompleto' 'Pos graduacao']\n",
            "Estado_Civil - Valores: ['Casado' 'Separado' 'Solteiro' 'Uniao estavel' 'Viuvo']\n",
            "Moradia - Valores: ['Alugado' 'Apartamento comercial' 'Casa propria'\n",
            " 'Cooperativa habitacional' 'Habitacao publica' 'Mora com os pais']\n",
            "Ocupacao - Valores: ['Alta tecnologia' 'Baixa qualificacao' 'Construcao Civil' 'Contabilidade'\n",
            " 'Corretor imobiliario' 'Cozinha' 'Equipe principal' 'Garcom' 'Gerencia'\n",
            " 'Limpeza' 'Medicina' 'Motorista' 'Outros' 'RH' 'Secretariado' 'Seguranca'\n",
            " 'Servico privado' 'TI' 'Venda']\n"
          ],
          "name": "stdout"
        }
      ]
    },
    {
      "cell_type": "markdown",
      "metadata": {
        "id": "NNwnmYPrESlt"
      },
      "source": [
        "Entre as colunas com o tipo **`object`** temos apenas um ajuste que poderia ser feito, já pensando na futura utilização de *Machine Learning*, que é transformar a variável **`Genero`** em numérica binária."
      ]
    },
    {
      "cell_type": "markdown",
      "metadata": {
        "id": "03D-rOIN5dKM"
      },
      "source": [
        "### **O que aprendemos nessa aula?**\n",
        "---\n",
        "\n",
        ">* **Mercado financeiro:**\n",
        ">\n",
        ">  * Pilares da cadeia de crédito;\n",
        ">  * Fluxo de um pedido de crédito.\n",
        ">\n",
        ">* **Base de dados:**\n",
        ">\n",
        ">  * Exploração da base de clientes cadastrados e suas features;\n",
        ">  * Verificação de dados duplicados e tratamento;\n",
        ">  * Verificação de dados nulos.\n",
        "---\n"
      ]
    }
  ]
}