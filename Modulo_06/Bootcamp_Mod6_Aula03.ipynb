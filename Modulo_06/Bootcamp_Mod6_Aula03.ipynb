{
  "nbformat": 4,
  "nbformat_minor": 0,
  "metadata": {
    "colab": {
      "name": "Bootcamp - Mod6 - Aula03.ipynb",
      "provenance": [],
      "collapsed_sections": [],
      "toc_visible": true,
      "authorship_tag": "ABX9TyMRxSMMHbhoC3+b9OHraPn2",
      "include_colab_link": true
    },
    "kernelspec": {
      "name": "python3",
      "display_name": "Python 3"
    },
    "language_info": {
      "name": "python"
    }
  },
  "cells": [
    {
      "cell_type": "markdown",
      "metadata": {
        "id": "view-in-github",
        "colab_type": "text"
      },
      "source": [
        "<a href=\"https://colab.research.google.com/github/gcochlar/Bootcamp_DataScience/blob/main/Modulo_06/Bootcamp_Mod6_Aula03.ipynb\" target=\"_parent\"><img src=\"https://colab.research.google.com/assets/colab-badge.svg\" alt=\"Open In Colab\"/></a>"
      ]
    },
    {
      "cell_type": "markdown",
      "metadata": {
        "id": "BZKKSXVwpVfu"
      },
      "source": [
        "<img src='https://drive.google.com/uc?id=16O9eMrtSeRDnDpZgmneXj34eIClCntvg'>"
      ]
    },
    {
      "cell_type": "markdown",
      "metadata": {
        "id": "tKeX4KHBZUkZ"
      },
      "source": [
        "# ***Data Science*** **Aplicado em Finanças**\n",
        "\n",
        "---\n",
        "\n",
        "Esse notebook servirá para o acompanhamento das aulas do Módulo 06 do ***Bootcamp de Data Science Aplicada*** realizado pela Alura.\n",
        "\n",
        "O Módulo 6 é um módulo extra especialmente desenvolvido para este *Bootcamp* e é voltado para a área financeira, mais especificamente para a área de análise de crédito.\n",
        "\n",
        "Além do desenvolvimento do modelo de *machine learning* em si, também está no escopo o *deploy* através do *streamlit*.\n",
        "\n",
        "---\n",
        "\n",
        ">Agora chegou o momento de consolidar seu conhecimento em uma nova área. Vamos sair do assunto saúde e desenvolver um projeto completo de Data Science aplicado a finanças. Será mais um projeto incrível para complementar seu portfólio e principalmente para te ensinar assuntos específicos desta área tão relevante.\n",
        ">\n",
        ">Então prepare os equipamentos porque nosso mergulho será em outros mares!\n",
        "---"
      ]
    },
    {
      "cell_type": "markdown",
      "metadata": {
        "id": "IOJYQLwvbh7E"
      },
      "source": [
        "## **Aula 01 - Contextualização do Mercado Financeiro**\n",
        "---\n"
      ]
    },
    {
      "cell_type": "markdown",
      "metadata": {
        "id": "3rE6zLwZEBKa"
      },
      "source": [
        "A aula começou falando dos pilares que temos na cadeia de crédito. São eles:\n",
        "\n",
        "* Prospecção\n",
        "* Concessão\n",
        "* Gestão de Risco\n",
        "* Recuperação\n",
        "\n",
        "O modelo que iremos trabalhar estará no pilar **CONCESSÃO**. Vamos trabalhar o modelo de decisão que irá avaliar a concessão ou não do crédito solicitado.\n",
        "\n",
        "Na sequência fomos informados que a base que iremos usar é uma adaptação de uma base que foi disponibilizada em um desafio do **Kaggle**.\n",
        "\n",
        "São duas bases de dados, com os clientes cadastrados e com os empréstimos aprovados.\n",
        "\n",
        "Baixei as bases e fiz *upload* para o meu repositório do **GitHub**."
      ]
    },
    {
      "cell_type": "code",
      "metadata": {
        "id": "bnkFSRniaFYT"
      },
      "source": [
        "import pandas as pd\n",
        "import numpy as np\n",
        "import seaborn as sns\n",
        "import matplotlib.pyplot as plt\n",
        "\n",
        "pd.options.display.float_format = '{:,.2f}'.format\n",
        "sns.set()\n",
        "\n",
        "class color:\n",
        "   PURPLE = '\\033[95m'\n",
        "   CYAN = '\\033[96m'\n",
        "   DARKCYAN = '\\033[36m'\n",
        "   BLUE = '\\033[94m'\n",
        "   GREEN = '\\033[92m'\n",
        "   YELLOW = '\\033[93m'\n",
        "   RED = '\\033[91m'\n",
        "   BOLD = '\\033[1m'\n",
        "   ITALIC = '\\033[3m'\n",
        "   UNDERLINE = '\\033[4m'\n",
        "   END = '\\033[0m'"
      ],
      "execution_count": 1,
      "outputs": []
    },
    {
      "cell_type": "code",
      "metadata": {
        "id": "9Ei98MiwRvWH"
      },
      "source": [
        "url_cadastrados = 'https://github.com/gcochlar/Bootcamp_DataScience/blob/main/Modulo_06/dados/clientes_cadastrados.zip?raw=true'\n",
        "url_aprovados = 'https://github.com/gcochlar/Bootcamp_DataScience/blob/main/Modulo_06/dados/clientes_aprovados.zip?raw=true'"
      ],
      "execution_count": 2,
      "outputs": []
    },
    {
      "cell_type": "markdown",
      "metadata": {
        "id": "wcFjAfxUFawX"
      },
      "source": [
        "Vamos começar importando a base de clientes cadastrados."
      ]
    },
    {
      "cell_type": "code",
      "metadata": {
        "id": "AgHJeIs0aIcb",
        "colab": {
          "base_uri": "https://localhost:8080/",
          "height": 277
        },
        "outputId": "0d338108-06da-47f7-8a70-2d22c8caab69"
      },
      "source": [
        "dados_cadastrados = pd.read_csv(url_cadastrados, compression='zip')\n",
        "dados_cadastrados.head()"
      ],
      "execution_count": 3,
      "outputs": [
        {
          "output_type": "execute_result",
          "data": {
            "text/html": [
              "<div>\n",
              "<style scoped>\n",
              "    .dataframe tbody tr th:only-of-type {\n",
              "        vertical-align: middle;\n",
              "    }\n",
              "\n",
              "    .dataframe tbody tr th {\n",
              "        vertical-align: top;\n",
              "    }\n",
              "\n",
              "    .dataframe thead th {\n",
              "        text-align: right;\n",
              "    }\n",
              "</style>\n",
              "<table border=\"1\" class=\"dataframe\">\n",
              "  <thead>\n",
              "    <tr style=\"text-align: right;\">\n",
              "      <th></th>\n",
              "      <th>ID_Cliente</th>\n",
              "      <th>Genero</th>\n",
              "      <th>Tem_Carro</th>\n",
              "      <th>Tem_Casa_Propria</th>\n",
              "      <th>Qtd_Filhos</th>\n",
              "      <th>Rendimento_Anual</th>\n",
              "      <th>Categoria_de_renda</th>\n",
              "      <th>Grau_Escolaridade</th>\n",
              "      <th>Estado_Civil</th>\n",
              "      <th>Moradia</th>\n",
              "      <th>Idade</th>\n",
              "      <th>Tem_Celular</th>\n",
              "      <th>Tem_telefone_trabalho</th>\n",
              "      <th>Tem_telefone_fixo</th>\n",
              "      <th>Tem_email</th>\n",
              "      <th>Ocupacao</th>\n",
              "      <th>Tamanho_Familia</th>\n",
              "      <th>Anos_empregado</th>\n",
              "    </tr>\n",
              "  </thead>\n",
              "  <tbody>\n",
              "    <tr>\n",
              "      <th>0</th>\n",
              "      <td>5008804</td>\n",
              "      <td>H</td>\n",
              "      <td>1</td>\n",
              "      <td>1</td>\n",
              "      <td>0</td>\n",
              "      <td>427,500.00</td>\n",
              "      <td>Empregado</td>\n",
              "      <td>Ensino superior</td>\n",
              "      <td>Uniao estavel</td>\n",
              "      <td>Alugado</td>\n",
              "      <td>33.00</td>\n",
              "      <td>1</td>\n",
              "      <td>1</td>\n",
              "      <td>0</td>\n",
              "      <td>0</td>\n",
              "      <td>Outros</td>\n",
              "      <td>2.00</td>\n",
              "      <td>12.40</td>\n",
              "    </tr>\n",
              "    <tr>\n",
              "      <th>1</th>\n",
              "      <td>5008805</td>\n",
              "      <td>H</td>\n",
              "      <td>1</td>\n",
              "      <td>1</td>\n",
              "      <td>0</td>\n",
              "      <td>427,500.00</td>\n",
              "      <td>Empregado</td>\n",
              "      <td>Ensino superior</td>\n",
              "      <td>Uniao estavel</td>\n",
              "      <td>Alugado</td>\n",
              "      <td>33.00</td>\n",
              "      <td>1</td>\n",
              "      <td>1</td>\n",
              "      <td>0</td>\n",
              "      <td>0</td>\n",
              "      <td>Outros</td>\n",
              "      <td>2.00</td>\n",
              "      <td>12.40</td>\n",
              "    </tr>\n",
              "    <tr>\n",
              "      <th>2</th>\n",
              "      <td>5008806</td>\n",
              "      <td>H</td>\n",
              "      <td>1</td>\n",
              "      <td>1</td>\n",
              "      <td>0</td>\n",
              "      <td>112,500.00</td>\n",
              "      <td>Empregado</td>\n",
              "      <td>Ensino medio</td>\n",
              "      <td>Casado</td>\n",
              "      <td>Casa propria</td>\n",
              "      <td>59.00</td>\n",
              "      <td>1</td>\n",
              "      <td>0</td>\n",
              "      <td>0</td>\n",
              "      <td>0</td>\n",
              "      <td>Seguranca</td>\n",
              "      <td>2.00</td>\n",
              "      <td>3.10</td>\n",
              "    </tr>\n",
              "    <tr>\n",
              "      <th>3</th>\n",
              "      <td>5008808</td>\n",
              "      <td>M</td>\n",
              "      <td>0</td>\n",
              "      <td>1</td>\n",
              "      <td>0</td>\n",
              "      <td>270,000.00</td>\n",
              "      <td>Associado comercial</td>\n",
              "      <td>Ensino medio</td>\n",
              "      <td>Solteiro</td>\n",
              "      <td>Casa propria</td>\n",
              "      <td>52.00</td>\n",
              "      <td>1</td>\n",
              "      <td>0</td>\n",
              "      <td>1</td>\n",
              "      <td>1</td>\n",
              "      <td>Venda</td>\n",
              "      <td>1.00</td>\n",
              "      <td>8.40</td>\n",
              "    </tr>\n",
              "    <tr>\n",
              "      <th>4</th>\n",
              "      <td>5008809</td>\n",
              "      <td>M</td>\n",
              "      <td>0</td>\n",
              "      <td>1</td>\n",
              "      <td>0</td>\n",
              "      <td>270,000.00</td>\n",
              "      <td>Associado comercial</td>\n",
              "      <td>Ensino medio</td>\n",
              "      <td>Solteiro</td>\n",
              "      <td>Casa propria</td>\n",
              "      <td>52.00</td>\n",
              "      <td>1</td>\n",
              "      <td>0</td>\n",
              "      <td>1</td>\n",
              "      <td>1</td>\n",
              "      <td>Venda</td>\n",
              "      <td>1.00</td>\n",
              "      <td>8.40</td>\n",
              "    </tr>\n",
              "  </tbody>\n",
              "</table>\n",
              "</div>"
            ],
            "text/plain": [
              "   ID_Cliente Genero  Tem_Carro  ...   Ocupacao  Tamanho_Familia  Anos_empregado\n",
              "0     5008804      H          1  ...     Outros             2.00           12.40\n",
              "1     5008805      H          1  ...     Outros             2.00           12.40\n",
              "2     5008806      H          1  ...  Seguranca             2.00            3.10\n",
              "3     5008808      M          0  ...      Venda             1.00            8.40\n",
              "4     5008809      M          0  ...      Venda             1.00            8.40\n",
              "\n",
              "[5 rows x 18 columns]"
            ]
          },
          "metadata": {},
          "execution_count": 3
        }
      ]
    },
    {
      "cell_type": "code",
      "metadata": {
        "colab": {
          "base_uri": "https://localhost:8080/"
        },
        "id": "mTA8tV6Vwo6O",
        "outputId": "28627629-f91b-4426-a4fa-28a52ed21376"
      },
      "source": [
        "dados_cadastrados.shape"
      ],
      "execution_count": 4,
      "outputs": [
        {
          "output_type": "execute_result",
          "data": {
            "text/plain": [
              "(438557, 18)"
            ]
          },
          "metadata": {},
          "execution_count": 4
        }
      ]
    },
    {
      "cell_type": "markdown",
      "metadata": {
        "id": "GStb4LzRExrI"
      },
      "source": [
        "Essa primeira base, de clientes cadastrados, é bem extensa.\n",
        "\n",
        "Tem quase 440 mil registros com 18 variáveis diferentes.\n",
        "\n",
        "Imediatamente chama a atenção a coluna **`ID_Cliente`** que deve servir como chave de identificação de cada cliente, mas isso precisa ser confirmado.\n",
        "\n",
        "Também chama a atenção o fato de termos linhas aparentemente duplicadas (0 e 1 ou 3 e 4, por exemplo).\n",
        "\n",
        "Vamos importar e olhar também nossa base de empréstimos aprovados."
      ]
    },
    {
      "cell_type": "code",
      "metadata": {
        "colab": {
          "base_uri": "https://localhost:8080/",
          "height": 205
        },
        "id": "fqWOfRZfJ9qZ",
        "outputId": "1573bafd-2059-42ee-e807-935d8e290b95"
      },
      "source": [
        "dados_aprovados = pd.read_csv(url_aprovados, compression='zip')\n",
        "dados_aprovados.head()"
      ],
      "execution_count": 5,
      "outputs": [
        {
          "output_type": "execute_result",
          "data": {
            "text/html": [
              "<div>\n",
              "<style scoped>\n",
              "    .dataframe tbody tr th:only-of-type {\n",
              "        vertical-align: middle;\n",
              "    }\n",
              "\n",
              "    .dataframe tbody tr th {\n",
              "        vertical-align: top;\n",
              "    }\n",
              "\n",
              "    .dataframe thead th {\n",
              "        text-align: right;\n",
              "    }\n",
              "</style>\n",
              "<table border=\"1\" class=\"dataframe\">\n",
              "  <thead>\n",
              "    <tr style=\"text-align: right;\">\n",
              "      <th></th>\n",
              "      <th>ID_Cliente</th>\n",
              "      <th>Mes_referencia</th>\n",
              "      <th>Faixa_atraso</th>\n",
              "    </tr>\n",
              "  </thead>\n",
              "  <tbody>\n",
              "    <tr>\n",
              "      <th>0</th>\n",
              "      <td>5001711</td>\n",
              "      <td>0</td>\n",
              "      <td>nenhum empréstimo</td>\n",
              "    </tr>\n",
              "    <tr>\n",
              "      <th>1</th>\n",
              "      <td>5001711</td>\n",
              "      <td>-1</td>\n",
              "      <td>1-29 dias</td>\n",
              "    </tr>\n",
              "    <tr>\n",
              "      <th>2</th>\n",
              "      <td>5001711</td>\n",
              "      <td>-2</td>\n",
              "      <td>1-29 dias</td>\n",
              "    </tr>\n",
              "    <tr>\n",
              "      <th>3</th>\n",
              "      <td>5001711</td>\n",
              "      <td>-3</td>\n",
              "      <td>1-29 dias</td>\n",
              "    </tr>\n",
              "    <tr>\n",
              "      <th>4</th>\n",
              "      <td>5001712</td>\n",
              "      <td>0</td>\n",
              "      <td>pagamento realizado</td>\n",
              "    </tr>\n",
              "  </tbody>\n",
              "</table>\n",
              "</div>"
            ],
            "text/plain": [
              "   ID_Cliente  Mes_referencia         Faixa_atraso\n",
              "0     5001711               0    nenhum empréstimo\n",
              "1     5001711              -1            1-29 dias\n",
              "2     5001711              -2            1-29 dias\n",
              "3     5001711              -3            1-29 dias\n",
              "4     5001712               0  pagamento realizado"
            ]
          },
          "metadata": {},
          "execution_count": 5
        }
      ]
    },
    {
      "cell_type": "code",
      "metadata": {
        "colab": {
          "base_uri": "https://localhost:8080/"
        },
        "id": "lQvVGrWx4dYc",
        "outputId": "f2c5fd5b-d688-4705-a9e2-328d5c541368"
      },
      "source": [
        "dados_aprovados.shape"
      ],
      "execution_count": 6,
      "outputs": [
        {
          "output_type": "execute_result",
          "data": {
            "text/plain": [
              "(1048575, 3)"
            ]
          },
          "metadata": {},
          "execution_count": 6
        }
      ]
    },
    {
      "cell_type": "markdown",
      "metadata": {
        "id": "rKIHzlipFk6g"
      },
      "source": [
        "A base de empréstimos aprovados também é bem extensa, com mais de 1 milhão de registros, apesar de contar com apenas 3 variáveis.\n",
        "\n",
        "Também conta com uma coluna **`ID_Cliente`** mas que já podemos ver que apresenta duplicidades. Deverá servir para conectar as duas bases de dados.\n",
        "\n",
        "Vamos focar, inicialmente, na análise exploratória da base de clientes cadastrados."
      ]
    },
    {
      "cell_type": "code",
      "metadata": {
        "colab": {
          "base_uri": "https://localhost:8080/"
        },
        "id": "sSqdQ6M7wuc2",
        "outputId": "e2ac6d73-e6b6-4f51-f02d-b0ad331c3d27"
      },
      "source": [
        "dados_cadastrados.info()"
      ],
      "execution_count": 7,
      "outputs": [
        {
          "output_type": "stream",
          "text": [
            "<class 'pandas.core.frame.DataFrame'>\n",
            "RangeIndex: 438557 entries, 0 to 438556\n",
            "Data columns (total 18 columns):\n",
            " #   Column                 Non-Null Count   Dtype  \n",
            "---  ------                 --------------   -----  \n",
            " 0   ID_Cliente             438557 non-null  int64  \n",
            " 1   Genero                 438557 non-null  object \n",
            " 2   Tem_Carro              438557 non-null  int64  \n",
            " 3   Tem_Casa_Propria       438557 non-null  int64  \n",
            " 4   Qtd_Filhos             438557 non-null  int64  \n",
            " 5   Rendimento_Anual       438557 non-null  float64\n",
            " 6   Categoria_de_renda     438557 non-null  object \n",
            " 7   Grau_Escolaridade      438557 non-null  object \n",
            " 8   Estado_Civil           438557 non-null  object \n",
            " 9   Moradia                438557 non-null  object \n",
            " 10  Idade                  438557 non-null  float64\n",
            " 11  Tem_Celular            438557 non-null  int64  \n",
            " 12  Tem_telefone_trabalho  438557 non-null  int64  \n",
            " 13  Tem_telefone_fixo      438557 non-null  int64  \n",
            " 14  Tem_email              438557 non-null  int64  \n",
            " 15  Ocupacao               438557 non-null  object \n",
            " 16  Tamanho_Familia        438557 non-null  float64\n",
            " 17  Anos_empregado         438557 non-null  float64\n",
            "dtypes: float64(4), int64(8), object(6)\n",
            "memory usage: 60.2+ MB\n"
          ],
          "name": "stdout"
        }
      ]
    },
    {
      "cell_type": "markdown",
      "metadata": {
        "id": "VNQGELsZGXhe"
      },
      "source": [
        "Vamos tentar confirmar nossa ideia de que a coluna **`ID_Cliente`** pode ser usada como identificador único de nossos clientes."
      ]
    },
    {
      "cell_type": "code",
      "metadata": {
        "colab": {
          "base_uri": "https://localhost:8080/"
        },
        "id": "ZUkYJDxOxIW-",
        "outputId": "3191c7f3-6f20-4de4-aff5-2622da63abc7"
      },
      "source": [
        "dados_cadastrados.ID_Cliente.value_counts()"
      ],
      "execution_count": 8,
      "outputs": [
        {
          "output_type": "execute_result",
          "data": {
            "text/plain": [
              "7603224    2\n",
              "7742853    2\n",
              "7836711    2\n",
              "7091721    2\n",
              "7022327    2\n",
              "          ..\n",
              "5372264    1\n",
              "6412652    1\n",
              "6410605    1\n",
              "6367602    1\n",
              "6291456    1\n",
              "Name: ID_Cliente, Length: 438510, dtype: int64"
            ]
          },
          "metadata": {},
          "execution_count": 8
        }
      ]
    },
    {
      "cell_type": "markdown",
      "metadata": {
        "id": "0--YI5B_GpEu"
      },
      "source": [
        "O fato de termos ocorrências duplas de alguns **IDs** indica algum problema em nossa base de dados.\n",
        "\n",
        "Vamos verificar se temos registros duplicados, ou seja, linhas completamente iguais."
      ]
    },
    {
      "cell_type": "code",
      "metadata": {
        "colab": {
          "base_uri": "https://localhost:8080/"
        },
        "id": "2mqWUWxsxIUR",
        "outputId": "526b0a0f-d4f8-4d0b-b5b7-ab3109669ad3"
      },
      "source": [
        "dados_cadastrados.duplicated().sum()"
      ],
      "execution_count": 9,
      "outputs": [
        {
          "output_type": "execute_result",
          "data": {
            "text/plain": [
              "0"
            ]
          },
          "metadata": {},
          "execution_count": 9
        }
      ]
    },
    {
      "cell_type": "markdown",
      "metadata": {
        "id": "TUVN8KtDG7hj"
      },
      "source": [
        "Não temos linhas duplicadas, mas a duplicidade de **IDs** irá nos atrapalhar mais adiante.\n",
        "\n",
        "Precisamos verificar qual o tamanho do nosso problema. Em uma base de quase 440 mil registros, quantos estão duplicados?"
      ]
    },
    {
      "cell_type": "code",
      "metadata": {
        "colab": {
          "base_uri": "https://localhost:8080/",
          "height": 615
        },
        "id": "kCVfbM6JxIRp",
        "outputId": "6f4de42c-c66b-4d8f-a12c-1dacaa92bd53"
      },
      "source": [
        "dados_cadastrados[dados_cadastrados.ID_Cliente.duplicated(keep=False)].sort_values(by='ID_Cliente')"
      ],
      "execution_count": 10,
      "outputs": [
        {
          "output_type": "execute_result",
          "data": {
            "text/html": [
              "<div>\n",
              "<style scoped>\n",
              "    .dataframe tbody tr th:only-of-type {\n",
              "        vertical-align: middle;\n",
              "    }\n",
              "\n",
              "    .dataframe tbody tr th {\n",
              "        vertical-align: top;\n",
              "    }\n",
              "\n",
              "    .dataframe thead th {\n",
              "        text-align: right;\n",
              "    }\n",
              "</style>\n",
              "<table border=\"1\" class=\"dataframe\">\n",
              "  <thead>\n",
              "    <tr style=\"text-align: right;\">\n",
              "      <th></th>\n",
              "      <th>ID_Cliente</th>\n",
              "      <th>Genero</th>\n",
              "      <th>Tem_Carro</th>\n",
              "      <th>Tem_Casa_Propria</th>\n",
              "      <th>Qtd_Filhos</th>\n",
              "      <th>Rendimento_Anual</th>\n",
              "      <th>Categoria_de_renda</th>\n",
              "      <th>Grau_Escolaridade</th>\n",
              "      <th>Estado_Civil</th>\n",
              "      <th>Moradia</th>\n",
              "      <th>Idade</th>\n",
              "      <th>Tem_Celular</th>\n",
              "      <th>Tem_telefone_trabalho</th>\n",
              "      <th>Tem_telefone_fixo</th>\n",
              "      <th>Tem_email</th>\n",
              "      <th>Ocupacao</th>\n",
              "      <th>Tamanho_Familia</th>\n",
              "      <th>Anos_empregado</th>\n",
              "    </tr>\n",
              "  </thead>\n",
              "  <tbody>\n",
              "    <tr>\n",
              "      <th>426818</th>\n",
              "      <td>7022197</td>\n",
              "      <td>H</td>\n",
              "      <td>1</td>\n",
              "      <td>1</td>\n",
              "      <td>3</td>\n",
              "      <td>135,000.00</td>\n",
              "      <td>Empregado</td>\n",
              "      <td>Ensino medio</td>\n",
              "      <td>Casado</td>\n",
              "      <td>Casa propria</td>\n",
              "      <td>33.00</td>\n",
              "      <td>1</td>\n",
              "      <td>0</td>\n",
              "      <td>0</td>\n",
              "      <td>1</td>\n",
              "      <td>Construcao Civil</td>\n",
              "      <td>5.00</td>\n",
              "      <td>2.00</td>\n",
              "    </tr>\n",
              "    <tr>\n",
              "      <th>425023</th>\n",
              "      <td>7022197</td>\n",
              "      <td>M</td>\n",
              "      <td>0</td>\n",
              "      <td>1</td>\n",
              "      <td>0</td>\n",
              "      <td>450,000.00</td>\n",
              "      <td>Associado comercial</td>\n",
              "      <td>Ensino superior</td>\n",
              "      <td>Separado</td>\n",
              "      <td>Casa propria</td>\n",
              "      <td>54.00</td>\n",
              "      <td>1</td>\n",
              "      <td>0</td>\n",
              "      <td>0</td>\n",
              "      <td>1</td>\n",
              "      <td>Outros</td>\n",
              "      <td>1.00</td>\n",
              "      <td>4.90</td>\n",
              "    </tr>\n",
              "    <tr>\n",
              "      <th>431545</th>\n",
              "      <td>7022327</td>\n",
              "      <td>M</td>\n",
              "      <td>0</td>\n",
              "      <td>1</td>\n",
              "      <td>0</td>\n",
              "      <td>135,000.00</td>\n",
              "      <td>Associado comercial</td>\n",
              "      <td>Ensino medio</td>\n",
              "      <td>Solteiro</td>\n",
              "      <td>Casa propria</td>\n",
              "      <td>40.00</td>\n",
              "      <td>1</td>\n",
              "      <td>0</td>\n",
              "      <td>0</td>\n",
              "      <td>0</td>\n",
              "      <td>Alta tecnologia</td>\n",
              "      <td>1.00</td>\n",
              "      <td>14.50</td>\n",
              "    </tr>\n",
              "    <tr>\n",
              "      <th>431911</th>\n",
              "      <td>7022327</td>\n",
              "      <td>H</td>\n",
              "      <td>1</td>\n",
              "      <td>1</td>\n",
              "      <td>0</td>\n",
              "      <td>256,500.00</td>\n",
              "      <td>Associado comercial</td>\n",
              "      <td>Ensino superior</td>\n",
              "      <td>Casado</td>\n",
              "      <td>Casa propria</td>\n",
              "      <td>59.00</td>\n",
              "      <td>1</td>\n",
              "      <td>0</td>\n",
              "      <td>0</td>\n",
              "      <td>1</td>\n",
              "      <td>Equipe principal</td>\n",
              "      <td>2.00</td>\n",
              "      <td>4.60</td>\n",
              "    </tr>\n",
              "    <tr>\n",
              "      <th>425486</th>\n",
              "      <td>7023108</td>\n",
              "      <td>H</td>\n",
              "      <td>1</td>\n",
              "      <td>1</td>\n",
              "      <td>1</td>\n",
              "      <td>67,500.00</td>\n",
              "      <td>Empregado</td>\n",
              "      <td>Ensino medio</td>\n",
              "      <td>Casado</td>\n",
              "      <td>Casa propria</td>\n",
              "      <td>42.00</td>\n",
              "      <td>1</td>\n",
              "      <td>1</td>\n",
              "      <td>0</td>\n",
              "      <td>0</td>\n",
              "      <td>Equipe principal</td>\n",
              "      <td>3.00</td>\n",
              "      <td>4.60</td>\n",
              "    </tr>\n",
              "    <tr>\n",
              "      <th>...</th>\n",
              "      <td>...</td>\n",
              "      <td>...</td>\n",
              "      <td>...</td>\n",
              "      <td>...</td>\n",
              "      <td>...</td>\n",
              "      <td>...</td>\n",
              "      <td>...</td>\n",
              "      <td>...</td>\n",
              "      <td>...</td>\n",
              "      <td>...</td>\n",
              "      <td>...</td>\n",
              "      <td>...</td>\n",
              "      <td>...</td>\n",
              "      <td>...</td>\n",
              "      <td>...</td>\n",
              "      <td>...</td>\n",
              "      <td>...</td>\n",
              "      <td>...</td>\n",
              "    </tr>\n",
              "    <tr>\n",
              "      <th>426563</th>\n",
              "      <td>7836711</td>\n",
              "      <td>M</td>\n",
              "      <td>0</td>\n",
              "      <td>1</td>\n",
              "      <td>2</td>\n",
              "      <td>292,500.00</td>\n",
              "      <td>Empregado</td>\n",
              "      <td>Ensino superior</td>\n",
              "      <td>Casado</td>\n",
              "      <td>Casa propria</td>\n",
              "      <td>38.00</td>\n",
              "      <td>1</td>\n",
              "      <td>0</td>\n",
              "      <td>1</td>\n",
              "      <td>0</td>\n",
              "      <td>Contabilidade</td>\n",
              "      <td>4.00</td>\n",
              "      <td>12.00</td>\n",
              "    </tr>\n",
              "    <tr>\n",
              "      <th>421464</th>\n",
              "      <td>7836971</td>\n",
              "      <td>H</td>\n",
              "      <td>1</td>\n",
              "      <td>0</td>\n",
              "      <td>1</td>\n",
              "      <td>157,500.00</td>\n",
              "      <td>Empregado</td>\n",
              "      <td>Ensino medio</td>\n",
              "      <td>Casado</td>\n",
              "      <td>Casa propria</td>\n",
              "      <td>38.00</td>\n",
              "      <td>1</td>\n",
              "      <td>0</td>\n",
              "      <td>0</td>\n",
              "      <td>0</td>\n",
              "      <td>Outros</td>\n",
              "      <td>3.00</td>\n",
              "      <td>15.10</td>\n",
              "    </tr>\n",
              "    <tr>\n",
              "      <th>428620</th>\n",
              "      <td>7836971</td>\n",
              "      <td>M</td>\n",
              "      <td>0</td>\n",
              "      <td>1</td>\n",
              "      <td>0</td>\n",
              "      <td>103,500.00</td>\n",
              "      <td>Empregado</td>\n",
              "      <td>Ensino medio</td>\n",
              "      <td>Uniao estavel</td>\n",
              "      <td>Casa propria</td>\n",
              "      <td>37.00</td>\n",
              "      <td>1</td>\n",
              "      <td>0</td>\n",
              "      <td>1</td>\n",
              "      <td>0</td>\n",
              "      <td>Venda</td>\n",
              "      <td>2.00</td>\n",
              "      <td>7.70</td>\n",
              "    </tr>\n",
              "    <tr>\n",
              "      <th>422068</th>\n",
              "      <td>7838075</td>\n",
              "      <td>H</td>\n",
              "      <td>0</td>\n",
              "      <td>1</td>\n",
              "      <td>0</td>\n",
              "      <td>337,500.00</td>\n",
              "      <td>Associado comercial</td>\n",
              "      <td>Ensino medio</td>\n",
              "      <td>Casado</td>\n",
              "      <td>Casa propria</td>\n",
              "      <td>50.00</td>\n",
              "      <td>1</td>\n",
              "      <td>0</td>\n",
              "      <td>0</td>\n",
              "      <td>1</td>\n",
              "      <td>Motorista</td>\n",
              "      <td>2.00</td>\n",
              "      <td>3.50</td>\n",
              "    </tr>\n",
              "    <tr>\n",
              "      <th>423702</th>\n",
              "      <td>7838075</td>\n",
              "      <td>M</td>\n",
              "      <td>1</td>\n",
              "      <td>1</td>\n",
              "      <td>0</td>\n",
              "      <td>315,000.00</td>\n",
              "      <td>Associado comercial</td>\n",
              "      <td>Ensino superior</td>\n",
              "      <td>Solteiro</td>\n",
              "      <td>Casa propria</td>\n",
              "      <td>29.00</td>\n",
              "      <td>1</td>\n",
              "      <td>0</td>\n",
              "      <td>0</td>\n",
              "      <td>1</td>\n",
              "      <td>Outros</td>\n",
              "      <td>1.00</td>\n",
              "      <td>4.50</td>\n",
              "    </tr>\n",
              "  </tbody>\n",
              "</table>\n",
              "<p>94 rows × 18 columns</p>\n",
              "</div>"
            ],
            "text/plain": [
              "        ID_Cliente Genero  ...  Tamanho_Familia  Anos_empregado\n",
              "426818     7022197      H  ...             5.00            2.00\n",
              "425023     7022197      M  ...             1.00            4.90\n",
              "431545     7022327      M  ...             1.00           14.50\n",
              "431911     7022327      H  ...             2.00            4.60\n",
              "425486     7023108      H  ...             3.00            4.60\n",
              "...            ...    ...  ...              ...             ...\n",
              "426563     7836711      M  ...             4.00           12.00\n",
              "421464     7836971      H  ...             3.00           15.10\n",
              "428620     7836971      M  ...             2.00            7.70\n",
              "422068     7838075      H  ...             2.00            3.50\n",
              "423702     7838075      M  ...             1.00            4.50\n",
              "\n",
              "[94 rows x 18 columns]"
            ]
          },
          "metadata": {},
          "execution_count": 10
        }
      ]
    },
    {
      "cell_type": "markdown",
      "metadata": {
        "id": "esQgg__RHhCJ"
      },
      "source": [
        "Temos 94 registros duplicados. Isso representa em torno de 0,02% de nossa base.\n",
        "\n",
        "Inicialmente, podemos desprezar esses registros para avançarmos em nossa análise."
      ]
    },
    {
      "cell_type": "code",
      "metadata": {
        "colab": {
          "base_uri": "https://localhost:8080/"
        },
        "id": "EJBAy98DxIJd",
        "outputId": "86e61dfb-56fc-4d86-adb0-e238fa1aa9d7"
      },
      "source": [
        "id_repetidos = dados_cadastrados[dados_cadastrados.ID_Cliente.duplicated(keep=False)].sort_values(by='ID_Cliente')['ID_Cliente']\n",
        "id_repetidos"
      ],
      "execution_count": 11,
      "outputs": [
        {
          "output_type": "execute_result",
          "data": {
            "text/plain": [
              "426818    7022197\n",
              "425023    7022197\n",
              "431545    7022327\n",
              "431911    7022327\n",
              "425486    7023108\n",
              "           ...   \n",
              "426563    7836711\n",
              "421464    7836971\n",
              "428620    7836971\n",
              "422068    7838075\n",
              "423702    7838075\n",
              "Name: ID_Cliente, Length: 94, dtype: int64"
            ]
          },
          "metadata": {},
          "execution_count": 11
        }
      ]
    },
    {
      "cell_type": "code",
      "metadata": {
        "colab": {
          "base_uri": "https://localhost:8080/",
          "height": 597
        },
        "id": "BweVA3gXxIHB",
        "outputId": "1a365a38-a130-4d3a-e2b2-9f79657adc52"
      },
      "source": [
        "dados_cad_id_unicos = dados_cadastrados.drop(id_repetidos.index)\n",
        "dados_cad_id_unicos"
      ],
      "execution_count": 12,
      "outputs": [
        {
          "output_type": "execute_result",
          "data": {
            "text/html": [
              "<div>\n",
              "<style scoped>\n",
              "    .dataframe tbody tr th:only-of-type {\n",
              "        vertical-align: middle;\n",
              "    }\n",
              "\n",
              "    .dataframe tbody tr th {\n",
              "        vertical-align: top;\n",
              "    }\n",
              "\n",
              "    .dataframe thead th {\n",
              "        text-align: right;\n",
              "    }\n",
              "</style>\n",
              "<table border=\"1\" class=\"dataframe\">\n",
              "  <thead>\n",
              "    <tr style=\"text-align: right;\">\n",
              "      <th></th>\n",
              "      <th>ID_Cliente</th>\n",
              "      <th>Genero</th>\n",
              "      <th>Tem_Carro</th>\n",
              "      <th>Tem_Casa_Propria</th>\n",
              "      <th>Qtd_Filhos</th>\n",
              "      <th>Rendimento_Anual</th>\n",
              "      <th>Categoria_de_renda</th>\n",
              "      <th>Grau_Escolaridade</th>\n",
              "      <th>Estado_Civil</th>\n",
              "      <th>Moradia</th>\n",
              "      <th>Idade</th>\n",
              "      <th>Tem_Celular</th>\n",
              "      <th>Tem_telefone_trabalho</th>\n",
              "      <th>Tem_telefone_fixo</th>\n",
              "      <th>Tem_email</th>\n",
              "      <th>Ocupacao</th>\n",
              "      <th>Tamanho_Familia</th>\n",
              "      <th>Anos_empregado</th>\n",
              "    </tr>\n",
              "  </thead>\n",
              "  <tbody>\n",
              "    <tr>\n",
              "      <th>0</th>\n",
              "      <td>5008804</td>\n",
              "      <td>H</td>\n",
              "      <td>1</td>\n",
              "      <td>1</td>\n",
              "      <td>0</td>\n",
              "      <td>427,500.00</td>\n",
              "      <td>Empregado</td>\n",
              "      <td>Ensino superior</td>\n",
              "      <td>Uniao estavel</td>\n",
              "      <td>Alugado</td>\n",
              "      <td>33.00</td>\n",
              "      <td>1</td>\n",
              "      <td>1</td>\n",
              "      <td>0</td>\n",
              "      <td>0</td>\n",
              "      <td>Outros</td>\n",
              "      <td>2.00</td>\n",
              "      <td>12.40</td>\n",
              "    </tr>\n",
              "    <tr>\n",
              "      <th>1</th>\n",
              "      <td>5008805</td>\n",
              "      <td>H</td>\n",
              "      <td>1</td>\n",
              "      <td>1</td>\n",
              "      <td>0</td>\n",
              "      <td>427,500.00</td>\n",
              "      <td>Empregado</td>\n",
              "      <td>Ensino superior</td>\n",
              "      <td>Uniao estavel</td>\n",
              "      <td>Alugado</td>\n",
              "      <td>33.00</td>\n",
              "      <td>1</td>\n",
              "      <td>1</td>\n",
              "      <td>0</td>\n",
              "      <td>0</td>\n",
              "      <td>Outros</td>\n",
              "      <td>2.00</td>\n",
              "      <td>12.40</td>\n",
              "    </tr>\n",
              "    <tr>\n",
              "      <th>2</th>\n",
              "      <td>5008806</td>\n",
              "      <td>H</td>\n",
              "      <td>1</td>\n",
              "      <td>1</td>\n",
              "      <td>0</td>\n",
              "      <td>112,500.00</td>\n",
              "      <td>Empregado</td>\n",
              "      <td>Ensino medio</td>\n",
              "      <td>Casado</td>\n",
              "      <td>Casa propria</td>\n",
              "      <td>59.00</td>\n",
              "      <td>1</td>\n",
              "      <td>0</td>\n",
              "      <td>0</td>\n",
              "      <td>0</td>\n",
              "      <td>Seguranca</td>\n",
              "      <td>2.00</td>\n",
              "      <td>3.10</td>\n",
              "    </tr>\n",
              "    <tr>\n",
              "      <th>3</th>\n",
              "      <td>5008808</td>\n",
              "      <td>M</td>\n",
              "      <td>0</td>\n",
              "      <td>1</td>\n",
              "      <td>0</td>\n",
              "      <td>270,000.00</td>\n",
              "      <td>Associado comercial</td>\n",
              "      <td>Ensino medio</td>\n",
              "      <td>Solteiro</td>\n",
              "      <td>Casa propria</td>\n",
              "      <td>52.00</td>\n",
              "      <td>1</td>\n",
              "      <td>0</td>\n",
              "      <td>1</td>\n",
              "      <td>1</td>\n",
              "      <td>Venda</td>\n",
              "      <td>1.00</td>\n",
              "      <td>8.40</td>\n",
              "    </tr>\n",
              "    <tr>\n",
              "      <th>4</th>\n",
              "      <td>5008809</td>\n",
              "      <td>M</td>\n",
              "      <td>0</td>\n",
              "      <td>1</td>\n",
              "      <td>0</td>\n",
              "      <td>270,000.00</td>\n",
              "      <td>Associado comercial</td>\n",
              "      <td>Ensino medio</td>\n",
              "      <td>Solteiro</td>\n",
              "      <td>Casa propria</td>\n",
              "      <td>52.00</td>\n",
              "      <td>1</td>\n",
              "      <td>0</td>\n",
              "      <td>1</td>\n",
              "      <td>1</td>\n",
              "      <td>Venda</td>\n",
              "      <td>1.00</td>\n",
              "      <td>8.40</td>\n",
              "    </tr>\n",
              "    <tr>\n",
              "      <th>...</th>\n",
              "      <td>...</td>\n",
              "      <td>...</td>\n",
              "      <td>...</td>\n",
              "      <td>...</td>\n",
              "      <td>...</td>\n",
              "      <td>...</td>\n",
              "      <td>...</td>\n",
              "      <td>...</td>\n",
              "      <td>...</td>\n",
              "      <td>...</td>\n",
              "      <td>...</td>\n",
              "      <td>...</td>\n",
              "      <td>...</td>\n",
              "      <td>...</td>\n",
              "      <td>...</td>\n",
              "      <td>...</td>\n",
              "      <td>...</td>\n",
              "      <td>...</td>\n",
              "    </tr>\n",
              "    <tr>\n",
              "      <th>438552</th>\n",
              "      <td>6840104</td>\n",
              "      <td>H</td>\n",
              "      <td>0</td>\n",
              "      <td>1</td>\n",
              "      <td>0</td>\n",
              "      <td>135,000.00</td>\n",
              "      <td>Pensionista</td>\n",
              "      <td>Ensino medio</td>\n",
              "      <td>Separado</td>\n",
              "      <td>Casa propria</td>\n",
              "      <td>62.00</td>\n",
              "      <td>1</td>\n",
              "      <td>0</td>\n",
              "      <td>0</td>\n",
              "      <td>0</td>\n",
              "      <td>Outros</td>\n",
              "      <td>1.00</td>\n",
              "      <td>-1,000.70</td>\n",
              "    </tr>\n",
              "    <tr>\n",
              "      <th>438553</th>\n",
              "      <td>6840222</td>\n",
              "      <td>M</td>\n",
              "      <td>0</td>\n",
              "      <td>0</td>\n",
              "      <td>0</td>\n",
              "      <td>103,500.00</td>\n",
              "      <td>Empregado</td>\n",
              "      <td>Ensino medio</td>\n",
              "      <td>Solteiro</td>\n",
              "      <td>Casa propria</td>\n",
              "      <td>44.00</td>\n",
              "      <td>1</td>\n",
              "      <td>0</td>\n",
              "      <td>0</td>\n",
              "      <td>0</td>\n",
              "      <td>Construcao Civil</td>\n",
              "      <td>1.00</td>\n",
              "      <td>8.20</td>\n",
              "    </tr>\n",
              "    <tr>\n",
              "      <th>438554</th>\n",
              "      <td>6841878</td>\n",
              "      <td>M</td>\n",
              "      <td>0</td>\n",
              "      <td>0</td>\n",
              "      <td>0</td>\n",
              "      <td>54,000.00</td>\n",
              "      <td>Associado comercial</td>\n",
              "      <td>Ensino superior</td>\n",
              "      <td>Solteiro</td>\n",
              "      <td>Mora com os pais</td>\n",
              "      <td>22.00</td>\n",
              "      <td>1</td>\n",
              "      <td>1</td>\n",
              "      <td>0</td>\n",
              "      <td>0</td>\n",
              "      <td>Venda</td>\n",
              "      <td>1.00</td>\n",
              "      <td>1.00</td>\n",
              "    </tr>\n",
              "    <tr>\n",
              "      <th>438555</th>\n",
              "      <td>6842765</td>\n",
              "      <td>M</td>\n",
              "      <td>0</td>\n",
              "      <td>1</td>\n",
              "      <td>0</td>\n",
              "      <td>72,000.00</td>\n",
              "      <td>Pensionista</td>\n",
              "      <td>Ensino medio</td>\n",
              "      <td>Casado</td>\n",
              "      <td>Casa propria</td>\n",
              "      <td>59.00</td>\n",
              "      <td>1</td>\n",
              "      <td>0</td>\n",
              "      <td>0</td>\n",
              "      <td>0</td>\n",
              "      <td>Outros</td>\n",
              "      <td>2.00</td>\n",
              "      <td>-1,000.70</td>\n",
              "    </tr>\n",
              "    <tr>\n",
              "      <th>438556</th>\n",
              "      <td>6842885</td>\n",
              "      <td>M</td>\n",
              "      <td>0</td>\n",
              "      <td>1</td>\n",
              "      <td>0</td>\n",
              "      <td>121,500.00</td>\n",
              "      <td>Empregado</td>\n",
              "      <td>Ensino medio</td>\n",
              "      <td>Casado</td>\n",
              "      <td>Casa propria</td>\n",
              "      <td>52.00</td>\n",
              "      <td>1</td>\n",
              "      <td>0</td>\n",
              "      <td>1</td>\n",
              "      <td>0</td>\n",
              "      <td>Venda</td>\n",
              "      <td>2.00</td>\n",
              "      <td>3.30</td>\n",
              "    </tr>\n",
              "  </tbody>\n",
              "</table>\n",
              "<p>438463 rows × 18 columns</p>\n",
              "</div>"
            ],
            "text/plain": [
              "        ID_Cliente Genero  ...  Tamanho_Familia  Anos_empregado\n",
              "0          5008804      H  ...             2.00           12.40\n",
              "1          5008805      H  ...             2.00           12.40\n",
              "2          5008806      H  ...             2.00            3.10\n",
              "3          5008808      M  ...             1.00            8.40\n",
              "4          5008809      M  ...             1.00            8.40\n",
              "...            ...    ...  ...              ...             ...\n",
              "438552     6840104      H  ...             1.00       -1,000.70\n",
              "438553     6840222      M  ...             1.00            8.20\n",
              "438554     6841878      M  ...             1.00            1.00\n",
              "438555     6842765      M  ...             2.00       -1,000.70\n",
              "438556     6842885      M  ...             2.00            3.30\n",
              "\n",
              "[438463 rows x 18 columns]"
            ]
          },
          "metadata": {},
          "execution_count": 12
        }
      ]
    },
    {
      "cell_type": "code",
      "metadata": {
        "colab": {
          "base_uri": "https://localhost:8080/"
        },
        "id": "ruq-dnKNxIEU",
        "outputId": "e71307a8-f9c3-4388-ac89-a20517baa91c"
      },
      "source": [
        "(dados_cad_id_unicos.ID_Cliente.value_counts() > 1).sum()"
      ],
      "execution_count": 13,
      "outputs": [
        {
          "output_type": "execute_result",
          "data": {
            "text/plain": [
              "0"
            ]
          },
          "metadata": {},
          "execution_count": 13
        }
      ]
    },
    {
      "cell_type": "markdown",
      "metadata": {
        "id": "EcRD8GH1IPih"
      },
      "source": [
        "Agora estamos com um novo *dataframe*, sem nenhum **ID** duplicado.\n",
        "\n",
        "Conforme mencionado antes, nossa base aparentava ter dados em duplicidade também nas demais colunas, ou seja, clientes com vários **IDs** diferentes.\n",
        "\n",
        "Vamos verificar qual o impacto disso em nosso *dataset*."
      ]
    },
    {
      "cell_type": "code",
      "metadata": {
        "colab": {
          "base_uri": "https://localhost:8080/"
        },
        "id": "b9ti0wOsxIO5",
        "outputId": "751c26b6-53b7-45ea-e992-2dcd5af663e5"
      },
      "source": [
        "dados_cadastrados.drop(['ID_Cliente'], axis=1).duplicated().sum()"
      ],
      "execution_count": 14,
      "outputs": [
        {
          "output_type": "execute_result",
          "data": {
            "text/plain": [
              "353636"
            ]
          },
          "metadata": {},
          "execution_count": 14
        }
      ]
    },
    {
      "cell_type": "markdown",
      "metadata": {
        "id": "Wqi6m4lIKhJy"
      },
      "source": [
        "Aqui a situação é mais complexa.\n",
        "\n",
        "Temos mais de 350 mil registros idênticos em nossa base, mais de 80%.\n",
        "\n",
        "Não podemos desprezar esses dados sem investigar melhor o que pode ter acontecido em nossa base.\n",
        "\n",
        "Vamos prosseguir com a base que fizemos apenas retirando os **IDs** duplicados e verificar a existência de dados nulos em alguma coluna."
      ]
    },
    {
      "cell_type": "code",
      "metadata": {
        "colab": {
          "base_uri": "https://localhost:8080/"
        },
        "id": "eTSeG7i6xH_r",
        "outputId": "8de433ec-3456-4d14-865d-584387b9abc9"
      },
      "source": [
        "# Verificação de dados nulos na base\n",
        "\n",
        "dados_cad_id_unicos.isnull().sum()"
      ],
      "execution_count": 15,
      "outputs": [
        {
          "output_type": "execute_result",
          "data": {
            "text/plain": [
              "ID_Cliente               0\n",
              "Genero                   0\n",
              "Tem_Carro                0\n",
              "Tem_Casa_Propria         0\n",
              "Qtd_Filhos               0\n",
              "Rendimento_Anual         0\n",
              "Categoria_de_renda       0\n",
              "Grau_Escolaridade        0\n",
              "Estado_Civil             0\n",
              "Moradia                  0\n",
              "Idade                    0\n",
              "Tem_Celular              0\n",
              "Tem_telefone_trabalho    0\n",
              "Tem_telefone_fixo        0\n",
              "Tem_email                0\n",
              "Ocupacao                 0\n",
              "Tamanho_Familia          0\n",
              "Anos_empregado           0\n",
              "dtype: int64"
            ]
          },
          "metadata": {},
          "execution_count": 15
        }
      ]
    },
    {
      "cell_type": "markdown",
      "metadata": {
        "id": "U78w8RwALTFV"
      },
      "source": [
        "Não temos dados nulos, podemos prosseguir."
      ]
    },
    {
      "cell_type": "code",
      "metadata": {
        "colab": {
          "base_uri": "https://localhost:8080/"
        },
        "id": "-TvkCkicxH9L",
        "outputId": "ce39c74d-21e2-4c08-a3e0-35a4c5f07170"
      },
      "source": [
        "dados_cad_id_unicos.info()"
      ],
      "execution_count": 16,
      "outputs": [
        {
          "output_type": "stream",
          "text": [
            "<class 'pandas.core.frame.DataFrame'>\n",
            "Int64Index: 438463 entries, 0 to 438556\n",
            "Data columns (total 18 columns):\n",
            " #   Column                 Non-Null Count   Dtype  \n",
            "---  ------                 --------------   -----  \n",
            " 0   ID_Cliente             438463 non-null  int64  \n",
            " 1   Genero                 438463 non-null  object \n",
            " 2   Tem_Carro              438463 non-null  int64  \n",
            " 3   Tem_Casa_Propria       438463 non-null  int64  \n",
            " 4   Qtd_Filhos             438463 non-null  int64  \n",
            " 5   Rendimento_Anual       438463 non-null  float64\n",
            " 6   Categoria_de_renda     438463 non-null  object \n",
            " 7   Grau_Escolaridade      438463 non-null  object \n",
            " 8   Estado_Civil           438463 non-null  object \n",
            " 9   Moradia                438463 non-null  object \n",
            " 10  Idade                  438463 non-null  float64\n",
            " 11  Tem_Celular            438463 non-null  int64  \n",
            " 12  Tem_telefone_trabalho  438463 non-null  int64  \n",
            " 13  Tem_telefone_fixo      438463 non-null  int64  \n",
            " 14  Tem_email              438463 non-null  int64  \n",
            " 15  Ocupacao               438463 non-null  object \n",
            " 16  Tamanho_Familia        438463 non-null  float64\n",
            " 17  Anos_empregado         438463 non-null  float64\n",
            "dtypes: float64(4), int64(8), object(6)\n",
            "memory usage: 63.6+ MB\n"
          ],
          "name": "stdout"
        }
      ]
    },
    {
      "cell_type": "markdown",
      "metadata": {
        "id": "rUIEN22E4H0y"
      },
      "source": [
        "#### **Desafio 1 - Explorar IDs Repetidos (Atualização de Cadastro? Erro?)**\n",
        "---\n",
        "\n"
      ]
    },
    {
      "cell_type": "markdown",
      "metadata": {
        "id": "NtwlpnaO-Z7Y"
      },
      "source": [
        "Primeiro vamos gerar um *dataframe* só com os 94 clientes que foram desconsiderados da nossa base acima."
      ]
    },
    {
      "cell_type": "code",
      "metadata": {
        "colab": {
          "base_uri": "https://localhost:8080/",
          "height": 615
        },
        "id": "QYuavS9f4zZl",
        "outputId": "ea347377-1532-46b1-eda6-43eabf6adb48"
      },
      "source": [
        "dados_cad_id_repetidos = dados_cadastrados[dados_cadastrados.ID_Cliente.isin(id_repetidos)].sort_values(by='ID_Cliente')\n",
        "dados_cad_id_repetidos"
      ],
      "execution_count": 17,
      "outputs": [
        {
          "output_type": "execute_result",
          "data": {
            "text/html": [
              "<div>\n",
              "<style scoped>\n",
              "    .dataframe tbody tr th:only-of-type {\n",
              "        vertical-align: middle;\n",
              "    }\n",
              "\n",
              "    .dataframe tbody tr th {\n",
              "        vertical-align: top;\n",
              "    }\n",
              "\n",
              "    .dataframe thead th {\n",
              "        text-align: right;\n",
              "    }\n",
              "</style>\n",
              "<table border=\"1\" class=\"dataframe\">\n",
              "  <thead>\n",
              "    <tr style=\"text-align: right;\">\n",
              "      <th></th>\n",
              "      <th>ID_Cliente</th>\n",
              "      <th>Genero</th>\n",
              "      <th>Tem_Carro</th>\n",
              "      <th>Tem_Casa_Propria</th>\n",
              "      <th>Qtd_Filhos</th>\n",
              "      <th>Rendimento_Anual</th>\n",
              "      <th>Categoria_de_renda</th>\n",
              "      <th>Grau_Escolaridade</th>\n",
              "      <th>Estado_Civil</th>\n",
              "      <th>Moradia</th>\n",
              "      <th>Idade</th>\n",
              "      <th>Tem_Celular</th>\n",
              "      <th>Tem_telefone_trabalho</th>\n",
              "      <th>Tem_telefone_fixo</th>\n",
              "      <th>Tem_email</th>\n",
              "      <th>Ocupacao</th>\n",
              "      <th>Tamanho_Familia</th>\n",
              "      <th>Anos_empregado</th>\n",
              "    </tr>\n",
              "  </thead>\n",
              "  <tbody>\n",
              "    <tr>\n",
              "      <th>426818</th>\n",
              "      <td>7022197</td>\n",
              "      <td>H</td>\n",
              "      <td>1</td>\n",
              "      <td>1</td>\n",
              "      <td>3</td>\n",
              "      <td>135,000.00</td>\n",
              "      <td>Empregado</td>\n",
              "      <td>Ensino medio</td>\n",
              "      <td>Casado</td>\n",
              "      <td>Casa propria</td>\n",
              "      <td>33.00</td>\n",
              "      <td>1</td>\n",
              "      <td>0</td>\n",
              "      <td>0</td>\n",
              "      <td>1</td>\n",
              "      <td>Construcao Civil</td>\n",
              "      <td>5.00</td>\n",
              "      <td>2.00</td>\n",
              "    </tr>\n",
              "    <tr>\n",
              "      <th>425023</th>\n",
              "      <td>7022197</td>\n",
              "      <td>M</td>\n",
              "      <td>0</td>\n",
              "      <td>1</td>\n",
              "      <td>0</td>\n",
              "      <td>450,000.00</td>\n",
              "      <td>Associado comercial</td>\n",
              "      <td>Ensino superior</td>\n",
              "      <td>Separado</td>\n",
              "      <td>Casa propria</td>\n",
              "      <td>54.00</td>\n",
              "      <td>1</td>\n",
              "      <td>0</td>\n",
              "      <td>0</td>\n",
              "      <td>1</td>\n",
              "      <td>Outros</td>\n",
              "      <td>1.00</td>\n",
              "      <td>4.90</td>\n",
              "    </tr>\n",
              "    <tr>\n",
              "      <th>431545</th>\n",
              "      <td>7022327</td>\n",
              "      <td>M</td>\n",
              "      <td>0</td>\n",
              "      <td>1</td>\n",
              "      <td>0</td>\n",
              "      <td>135,000.00</td>\n",
              "      <td>Associado comercial</td>\n",
              "      <td>Ensino medio</td>\n",
              "      <td>Solteiro</td>\n",
              "      <td>Casa propria</td>\n",
              "      <td>40.00</td>\n",
              "      <td>1</td>\n",
              "      <td>0</td>\n",
              "      <td>0</td>\n",
              "      <td>0</td>\n",
              "      <td>Alta tecnologia</td>\n",
              "      <td>1.00</td>\n",
              "      <td>14.50</td>\n",
              "    </tr>\n",
              "    <tr>\n",
              "      <th>431911</th>\n",
              "      <td>7022327</td>\n",
              "      <td>H</td>\n",
              "      <td>1</td>\n",
              "      <td>1</td>\n",
              "      <td>0</td>\n",
              "      <td>256,500.00</td>\n",
              "      <td>Associado comercial</td>\n",
              "      <td>Ensino superior</td>\n",
              "      <td>Casado</td>\n",
              "      <td>Casa propria</td>\n",
              "      <td>59.00</td>\n",
              "      <td>1</td>\n",
              "      <td>0</td>\n",
              "      <td>0</td>\n",
              "      <td>1</td>\n",
              "      <td>Equipe principal</td>\n",
              "      <td>2.00</td>\n",
              "      <td>4.60</td>\n",
              "    </tr>\n",
              "    <tr>\n",
              "      <th>425486</th>\n",
              "      <td>7023108</td>\n",
              "      <td>H</td>\n",
              "      <td>1</td>\n",
              "      <td>1</td>\n",
              "      <td>1</td>\n",
              "      <td>67,500.00</td>\n",
              "      <td>Empregado</td>\n",
              "      <td>Ensino medio</td>\n",
              "      <td>Casado</td>\n",
              "      <td>Casa propria</td>\n",
              "      <td>42.00</td>\n",
              "      <td>1</td>\n",
              "      <td>1</td>\n",
              "      <td>0</td>\n",
              "      <td>0</td>\n",
              "      <td>Equipe principal</td>\n",
              "      <td>3.00</td>\n",
              "      <td>4.60</td>\n",
              "    </tr>\n",
              "    <tr>\n",
              "      <th>...</th>\n",
              "      <td>...</td>\n",
              "      <td>...</td>\n",
              "      <td>...</td>\n",
              "      <td>...</td>\n",
              "      <td>...</td>\n",
              "      <td>...</td>\n",
              "      <td>...</td>\n",
              "      <td>...</td>\n",
              "      <td>...</td>\n",
              "      <td>...</td>\n",
              "      <td>...</td>\n",
              "      <td>...</td>\n",
              "      <td>...</td>\n",
              "      <td>...</td>\n",
              "      <td>...</td>\n",
              "      <td>...</td>\n",
              "      <td>...</td>\n",
              "      <td>...</td>\n",
              "    </tr>\n",
              "    <tr>\n",
              "      <th>426563</th>\n",
              "      <td>7836711</td>\n",
              "      <td>M</td>\n",
              "      <td>0</td>\n",
              "      <td>1</td>\n",
              "      <td>2</td>\n",
              "      <td>292,500.00</td>\n",
              "      <td>Empregado</td>\n",
              "      <td>Ensino superior</td>\n",
              "      <td>Casado</td>\n",
              "      <td>Casa propria</td>\n",
              "      <td>38.00</td>\n",
              "      <td>1</td>\n",
              "      <td>0</td>\n",
              "      <td>1</td>\n",
              "      <td>0</td>\n",
              "      <td>Contabilidade</td>\n",
              "      <td>4.00</td>\n",
              "      <td>12.00</td>\n",
              "    </tr>\n",
              "    <tr>\n",
              "      <th>421464</th>\n",
              "      <td>7836971</td>\n",
              "      <td>H</td>\n",
              "      <td>1</td>\n",
              "      <td>0</td>\n",
              "      <td>1</td>\n",
              "      <td>157,500.00</td>\n",
              "      <td>Empregado</td>\n",
              "      <td>Ensino medio</td>\n",
              "      <td>Casado</td>\n",
              "      <td>Casa propria</td>\n",
              "      <td>38.00</td>\n",
              "      <td>1</td>\n",
              "      <td>0</td>\n",
              "      <td>0</td>\n",
              "      <td>0</td>\n",
              "      <td>Outros</td>\n",
              "      <td>3.00</td>\n",
              "      <td>15.10</td>\n",
              "    </tr>\n",
              "    <tr>\n",
              "      <th>428620</th>\n",
              "      <td>7836971</td>\n",
              "      <td>M</td>\n",
              "      <td>0</td>\n",
              "      <td>1</td>\n",
              "      <td>0</td>\n",
              "      <td>103,500.00</td>\n",
              "      <td>Empregado</td>\n",
              "      <td>Ensino medio</td>\n",
              "      <td>Uniao estavel</td>\n",
              "      <td>Casa propria</td>\n",
              "      <td>37.00</td>\n",
              "      <td>1</td>\n",
              "      <td>0</td>\n",
              "      <td>1</td>\n",
              "      <td>0</td>\n",
              "      <td>Venda</td>\n",
              "      <td>2.00</td>\n",
              "      <td>7.70</td>\n",
              "    </tr>\n",
              "    <tr>\n",
              "      <th>422068</th>\n",
              "      <td>7838075</td>\n",
              "      <td>H</td>\n",
              "      <td>0</td>\n",
              "      <td>1</td>\n",
              "      <td>0</td>\n",
              "      <td>337,500.00</td>\n",
              "      <td>Associado comercial</td>\n",
              "      <td>Ensino medio</td>\n",
              "      <td>Casado</td>\n",
              "      <td>Casa propria</td>\n",
              "      <td>50.00</td>\n",
              "      <td>1</td>\n",
              "      <td>0</td>\n",
              "      <td>0</td>\n",
              "      <td>1</td>\n",
              "      <td>Motorista</td>\n",
              "      <td>2.00</td>\n",
              "      <td>3.50</td>\n",
              "    </tr>\n",
              "    <tr>\n",
              "      <th>423702</th>\n",
              "      <td>7838075</td>\n",
              "      <td>M</td>\n",
              "      <td>1</td>\n",
              "      <td>1</td>\n",
              "      <td>0</td>\n",
              "      <td>315,000.00</td>\n",
              "      <td>Associado comercial</td>\n",
              "      <td>Ensino superior</td>\n",
              "      <td>Solteiro</td>\n",
              "      <td>Casa propria</td>\n",
              "      <td>29.00</td>\n",
              "      <td>1</td>\n",
              "      <td>0</td>\n",
              "      <td>0</td>\n",
              "      <td>1</td>\n",
              "      <td>Outros</td>\n",
              "      <td>1.00</td>\n",
              "      <td>4.50</td>\n",
              "    </tr>\n",
              "  </tbody>\n",
              "</table>\n",
              "<p>94 rows × 18 columns</p>\n",
              "</div>"
            ],
            "text/plain": [
              "        ID_Cliente Genero  ...  Tamanho_Familia  Anos_empregado\n",
              "426818     7022197      H  ...             5.00            2.00\n",
              "425023     7022197      M  ...             1.00            4.90\n",
              "431545     7022327      M  ...             1.00           14.50\n",
              "431911     7022327      H  ...             2.00            4.60\n",
              "425486     7023108      H  ...             3.00            4.60\n",
              "...            ...    ...  ...              ...             ...\n",
              "426563     7836711      M  ...             4.00           12.00\n",
              "421464     7836971      H  ...             3.00           15.10\n",
              "428620     7836971      M  ...             2.00            7.70\n",
              "422068     7838075      H  ...             2.00            3.50\n",
              "423702     7838075      M  ...             1.00            4.50\n",
              "\n",
              "[94 rows x 18 columns]"
            ]
          },
          "metadata": {},
          "execution_count": 17
        }
      ]
    },
    {
      "cell_type": "code",
      "metadata": {
        "colab": {
          "base_uri": "https://localhost:8080/"
        },
        "id": "08rZ_PUF55mA",
        "outputId": "40a450ba-af70-4560-932a-2cb5c09c804f"
      },
      "source": [
        "dados_cad_id_repetidos.drop('ID_Cliente', axis=1).duplicated().sum()"
      ],
      "execution_count": 18,
      "outputs": [
        {
          "output_type": "execute_result",
          "data": {
            "text/plain": [
              "0"
            ]
          },
          "metadata": {},
          "execution_count": 18
        }
      ]
    },
    {
      "cell_type": "markdown",
      "metadata": {
        "id": "PKVMIDrg9zAp"
      },
      "source": [
        "Desprezando o **```ID_Cliente```** desses 94 registros com **ID** duplicado, podemos ver que não temos nenhuma duplicidade do restante dos dados.\n",
        "\n",
        "Isso indica que temos algum tipo de erro na atribuição desses **IDs**, permitindo que não seja uma chave única em nossa base.\n",
        "\n",
        "É necessário verificar se foi um erro na extração ou se o erro também está presente no sistema de foram extraídos os dados."
      ]
    },
    {
      "cell_type": "markdown",
      "metadata": {
        "id": "_LJ6XbHX28d-"
      },
      "source": [
        "#### **Desafio 2 - Explorar as Colunas (*features*) e Identificar se são Contínuas, Categóricas, Binárias**\n",
        "---\n",
        "\n"
      ]
    },
    {
      "cell_type": "code",
      "metadata": {
        "id": "2eanOyOD-tBt"
      },
      "source": [
        "cols_int64 = dados_cad_id_unicos.select_dtypes('int64').columns\n",
        "cols_float64 = dados_cad_id_unicos.select_dtypes('float64').columns\n",
        "cols_object = var_float64 = dados_cad_id_unicos.select_dtypes('object').columns"
      ],
      "execution_count": 19,
      "outputs": []
    },
    {
      "cell_type": "code",
      "metadata": {
        "colab": {
          "base_uri": "https://localhost:8080/"
        },
        "id": "mvma-bJj-s-_",
        "outputId": "36e4130f-4acd-49b8-9d51-863aca4505b5"
      },
      "source": [
        "for var in cols_int64:\n",
        "    print(var,'- Valores Únicos:', str(np.sort(dados_cad_id_unicos[var].unique())))"
      ],
      "execution_count": 20,
      "outputs": [
        {
          "output_type": "stream",
          "text": [
            "ID_Cliente - Valores Únicos: [5008804 5008805 5008806 ... 7999738 7999784 7999952]\n",
            "Tem_Carro - Valores Únicos: [0 1]\n",
            "Tem_Casa_Propria - Valores Únicos: [0 1]\n",
            "Qtd_Filhos - Valores Únicos: [ 0  1  2  3  4  5  6  7  9 12 14 19]\n",
            "Tem_Celular - Valores Únicos: [1]\n",
            "Tem_telefone_trabalho - Valores Únicos: [0 1]\n",
            "Tem_telefone_fixo - Valores Únicos: [0 1]\n",
            "Tem_email - Valores Únicos: [0 1]\n"
          ],
          "name": "stdout"
        }
      ]
    },
    {
      "cell_type": "code",
      "metadata": {
        "colab": {
          "base_uri": "https://localhost:8080/"
        },
        "id": "9-hX_bAtClII",
        "outputId": "d239fdc2-deb6-402b-c28c-53a01cfe6ee2"
      },
      "source": [
        "dados_cad_id_unicos[dados_cad_id_unicos.Qtd_Filhos.isin([12,14,19])].shape[0]"
      ],
      "execution_count": 21,
      "outputs": [
        {
          "output_type": "execute_result",
          "data": {
            "text/plain": [
              "8"
            ]
          },
          "metadata": {},
          "execution_count": 21
        }
      ]
    },
    {
      "cell_type": "markdown",
      "metadata": {
        "id": "fq7wkbxrB7vc"
      },
      "source": [
        "As colunas que estão com o tipo **`int64`** são, em sua maioria, binárias.\n",
        "\n",
        "As exceções são:\n",
        "* **ID_Cliente:** que já vimos que é o identificador de cliente\n",
        "* **Qtd_Filhos:** que varia de 0 à 19 (e esses números excessivamente altos podem indicar erros de preenchimento, mas temos 8 clientes com 12 ou mais filhos)\n",
        "* **Tem_Celular:** que é igual a 1 para todos, podendo ser desconsiderada"
      ]
    },
    {
      "cell_type": "code",
      "metadata": {
        "colab": {
          "base_uri": "https://localhost:8080/"
        },
        "id": "SiKDs2xM-s8Z",
        "outputId": "39b5fd42-7923-42be-f27b-d076cd2bf2d1"
      },
      "source": [
        "for var in cols_float64:\n",
        "    print(var,'- Range:', str(dados_cad_id_unicos[var].min()), 'à', str(dados_cad_id_unicos[var].max()))\n",
        "    print('          - Média e Desvio Padrão:', str(dados_cad_id_unicos[var].mean()), 'e', str(dados_cad_id_unicos[var].std()))"
      ],
      "execution_count": 22,
      "outputs": [
        {
          "output_type": "stream",
          "text": [
            "Rendimento_Anual - Range: 26100.0 à 6750000.0\n",
            "          - Média e Desvio Padrão: 187522.009381567 e 110083.15376904178\n",
            "Idade - Range: 21.0 à 69.0\n",
            "          - Média e Desvio Padrão: 43.83403160585956 e 11.472814834775818\n",
            "Tamanho_Familia - Range: 1.0 à 20.0\n",
            "          - Média e Desvio Padrão: 2.1944611061822776 e 0.8971944827602194\n",
            "Anos_empregado - Range: -1000.7 à 48.0\n",
            "          - Média e Desvio Padrão: -165.9360358800694 e 380.20113080357845\n"
          ],
          "name": "stdout"
        }
      ]
    },
    {
      "cell_type": "code",
      "metadata": {
        "colab": {
          "base_uri": "https://localhost:8080/"
        },
        "id": "w8g5vk3FBQiX",
        "outputId": "529b6e33-2103-420c-b5ee-fdbf62f83045"
      },
      "source": [
        "dados_cad_id_unicos[dados_cad_id_unicos.Anos_empregado == dados_cad_id_unicos.Anos_empregado.min()].shape"
      ],
      "execution_count": 23,
      "outputs": [
        {
          "output_type": "execute_result",
          "data": {
            "text/plain": [
              "(75314, 18)"
            ]
          },
          "metadata": {},
          "execution_count": 23
        }
      ]
    },
    {
      "cell_type": "code",
      "metadata": {
        "colab": {
          "base_uri": "https://localhost:8080/"
        },
        "id": "n_PPDOQSEIB-",
        "outputId": "df42e4dc-90ef-4621-900b-177082c6f59d"
      },
      "source": [
        "dados_cad_id_unicos[dados_cad_id_unicos.Anos_empregado < 0].shape"
      ],
      "execution_count": 24,
      "outputs": [
        {
          "output_type": "execute_result",
          "data": {
            "text/plain": [
              "(75314, 18)"
            ]
          },
          "metadata": {},
          "execution_count": 24
        }
      ]
    },
    {
      "cell_type": "markdown",
      "metadata": {
        "id": "mEVPeZJZDg-u"
      },
      "source": [
        "As colunas com o tipo **`float64`** parecem estar classificadas corretamente, mas a variável **`Anos_empregado`** está com um erro de preenchimento, onde temos 75.314 registros com o valor de -1000,7, chegando a distorcer a média geral do *dataset*.\n",
        "\n",
        "Chama a atenção também que temos um *range* muito grande na variável **`Rendimento_Anual`**, variando de R\\$ 26 mil à R\\$ 6,75 milhões. Precisamos avaliar a existência de *outliers*.\n",
        "\n",
        "Isso precisa ser tratado antes de prosseguirmos."
      ]
    },
    {
      "cell_type": "code",
      "metadata": {
        "colab": {
          "base_uri": "https://localhost:8080/"
        },
        "id": "GKNvN6d8-s51",
        "outputId": "fca4ff61-269f-47ed-b79e-73ce832552a1"
      },
      "source": [
        "for var in cols_object:\n",
        "    print(var,'- Valores:', str(np.sort(dados_cad_id_unicos[var].unique())))"
      ],
      "execution_count": 25,
      "outputs": [
        {
          "output_type": "stream",
          "text": [
            "Genero - Valores: ['H' 'M']\n",
            "Categoria_de_renda - Valores: ['Associado comercial' 'Empregado' 'Estudante' 'Pensionista'\n",
            " 'Servidor publico']\n",
            "Grau_Escolaridade - Valores: ['Ensino fundamental' 'Ensino medio' 'Ensino superior'\n",
            " 'Ensino superior incompleto' 'Pos graduacao']\n",
            "Estado_Civil - Valores: ['Casado' 'Separado' 'Solteiro' 'Uniao estavel' 'Viuvo']\n",
            "Moradia - Valores: ['Alugado' 'Apartamento comercial' 'Casa propria'\n",
            " 'Cooperativa habitacional' 'Habitacao publica' 'Mora com os pais']\n",
            "Ocupacao - Valores: ['Alta tecnologia' 'Baixa qualificacao' 'Construcao Civil' 'Contabilidade'\n",
            " 'Corretor imobiliario' 'Cozinha' 'Equipe principal' 'Garcom' 'Gerencia'\n",
            " 'Limpeza' 'Medicina' 'Motorista' 'Outros' 'RH' 'Secretariado' 'Seguranca'\n",
            " 'Servico privado' 'TI' 'Venda']\n"
          ],
          "name": "stdout"
        }
      ]
    },
    {
      "cell_type": "markdown",
      "metadata": {
        "id": "NNwnmYPrESlt"
      },
      "source": [
        "Entre as colunas com o tipo **`object`** temos apenas um ajuste que poderia ser feito, já pensando na futura utilização de *Machine Learning*, que é transformar a variável **`Genero`** em numérica binária."
      ]
    },
    {
      "cell_type": "markdown",
      "metadata": {
        "id": "03D-rOIN5dKM"
      },
      "source": [
        "#### **O que aprendemos nessa aula?**\n",
        "---\n",
        "\n",
        ">* **Mercado financeiro:**\n",
        ">\n",
        ">  * Pilares da cadeia de crédito;\n",
        ">  * Fluxo de um pedido de crédito.\n",
        ">\n",
        ">* **Base de dados:**\n",
        ">\n",
        ">  * Exploração da base de clientes cadastrados e suas *features*;\n",
        ">  * Verificação de dados duplicados e tratamento;\n",
        ">  * Verificação de dados nulos.\n",
        "---\n"
      ]
    },
    {
      "cell_type": "markdown",
      "metadata": {
        "id": "sMzKyn81L0PT"
      },
      "source": [
        "## **Aula 02 - Analisando a Base de Cadastro de Clientes**\n",
        "---\n"
      ]
    },
    {
      "cell_type": "markdown",
      "metadata": {
        "id": "Zt6qha7GuN4i"
      },
      "source": [
        "### **Vídeo 1 - Variáveis Contínuas / Quantitativas**"
      ]
    },
    {
      "cell_type": "markdown",
      "metadata": {
        "id": "j0MUSRgEqOkb"
      },
      "source": [
        ">Falamos no vídeo sobre dois tipos de variáveis, sendo elas as **categóricas** e as **contínuas**.\n",
        ">\n",
        ">As **variáveis contínuas** são variáveis quantitativas, que representam uma mensuração. Variáveis contínuas assumem valores em uma escala contínua (números reais), ou seja, são variáveis numéricas que podem assumir um número infinito de valores dentro de um intervalo.\n",
        ">\n",
        ">No nosso caso, as variáveis que no vídeo chamamos de contínuas são na verdade variáveis quantitativas já que contém tanto as variáveis discretas quanto as contínuas.\n",
        ">\n",
        ">Ao ver o vídeo, lembre-se dessas informações. Elas são muito importantes.\n",
        "---\n",
        "\n",
        "Vamos começar separando as colunas que contém variáveis quantitativas."
      ]
    },
    {
      "cell_type": "code",
      "metadata": {
        "id": "g0Jn7DyAMCav"
      },
      "source": [
        "cols_quantitativas = ['Idade', 'Qtd_Filhos', 'Anos_empregado', 'Tamanho_Familia', 'Rendimento_Anual']"
      ],
      "execution_count": 26,
      "outputs": []
    },
    {
      "cell_type": "code",
      "metadata": {
        "colab": {
          "base_uri": "https://localhost:8080/",
          "height": 205
        },
        "id": "AxzMQEWEgTli",
        "outputId": "e0e80e02-00c0-4529-dab8-75176b17310e"
      },
      "source": [
        "dados_cad_id_unicos[cols_quantitativas].describe().T"
      ],
      "execution_count": 27,
      "outputs": [
        {
          "output_type": "execute_result",
          "data": {
            "text/html": [
              "<div>\n",
              "<style scoped>\n",
              "    .dataframe tbody tr th:only-of-type {\n",
              "        vertical-align: middle;\n",
              "    }\n",
              "\n",
              "    .dataframe tbody tr th {\n",
              "        vertical-align: top;\n",
              "    }\n",
              "\n",
              "    .dataframe thead th {\n",
              "        text-align: right;\n",
              "    }\n",
              "</style>\n",
              "<table border=\"1\" class=\"dataframe\">\n",
              "  <thead>\n",
              "    <tr style=\"text-align: right;\">\n",
              "      <th></th>\n",
              "      <th>count</th>\n",
              "      <th>mean</th>\n",
              "      <th>std</th>\n",
              "      <th>min</th>\n",
              "      <th>25%</th>\n",
              "      <th>50%</th>\n",
              "      <th>75%</th>\n",
              "      <th>max</th>\n",
              "    </tr>\n",
              "  </thead>\n",
              "  <tbody>\n",
              "    <tr>\n",
              "      <th>Idade</th>\n",
              "      <td>438,463.00</td>\n",
              "      <td>43.83</td>\n",
              "      <td>11.47</td>\n",
              "      <td>21.00</td>\n",
              "      <td>34.00</td>\n",
              "      <td>43.00</td>\n",
              "      <td>53.00</td>\n",
              "      <td>69.00</td>\n",
              "    </tr>\n",
              "    <tr>\n",
              "      <th>Qtd_Filhos</th>\n",
              "      <td>438,463.00</td>\n",
              "      <td>0.43</td>\n",
              "      <td>0.72</td>\n",
              "      <td>0.00</td>\n",
              "      <td>0.00</td>\n",
              "      <td>0.00</td>\n",
              "      <td>1.00</td>\n",
              "      <td>19.00</td>\n",
              "    </tr>\n",
              "    <tr>\n",
              "      <th>Anos_empregado</th>\n",
              "      <td>438,463.00</td>\n",
              "      <td>-165.94</td>\n",
              "      <td>380.20</td>\n",
              "      <td>-1,000.70</td>\n",
              "      <td>1.00</td>\n",
              "      <td>4.00</td>\n",
              "      <td>8.50</td>\n",
              "      <td>48.00</td>\n",
              "    </tr>\n",
              "    <tr>\n",
              "      <th>Tamanho_Familia</th>\n",
              "      <td>438,463.00</td>\n",
              "      <td>2.19</td>\n",
              "      <td>0.90</td>\n",
              "      <td>1.00</td>\n",
              "      <td>2.00</td>\n",
              "      <td>2.00</td>\n",
              "      <td>3.00</td>\n",
              "      <td>20.00</td>\n",
              "    </tr>\n",
              "    <tr>\n",
              "      <th>Rendimento_Anual</th>\n",
              "      <td>438,463.00</td>\n",
              "      <td>187,522.01</td>\n",
              "      <td>110,083.15</td>\n",
              "      <td>26,100.00</td>\n",
              "      <td>121,500.00</td>\n",
              "      <td>161,100.00</td>\n",
              "      <td>225,000.00</td>\n",
              "      <td>6,750,000.00</td>\n",
              "    </tr>\n",
              "  </tbody>\n",
              "</table>\n",
              "</div>"
            ],
            "text/plain": [
              "                      count       mean  ...        75%          max\n",
              "Idade            438,463.00      43.83  ...      53.00        69.00\n",
              "Qtd_Filhos       438,463.00       0.43  ...       1.00        19.00\n",
              "Anos_empregado   438,463.00    -165.94  ...       8.50        48.00\n",
              "Tamanho_Familia  438,463.00       2.19  ...       3.00        20.00\n",
              "Rendimento_Anual 438,463.00 187,522.01  ... 225,000.00 6,750,000.00\n",
              "\n",
              "[5 rows x 8 columns]"
            ]
          },
          "metadata": {},
          "execution_count": 27
        }
      ]
    },
    {
      "cell_type": "markdown",
      "metadata": {
        "id": "KlCGY_FDqwAS"
      },
      "source": [
        "Conforme já tinha identificado no desafio da aula anterior, temos um possível problema na variável **`Anos_empregado`**, onde temos diversas linhas com valor negativo.\n",
        "\n",
        "Vamos verificar qual a **`Categoria_de_renda`** dos clientes que estão com essa variável zerada ou negativa."
      ]
    },
    {
      "cell_type": "code",
      "metadata": {
        "colab": {
          "base_uri": "https://localhost:8080/"
        },
        "id": "ZIWJ3UFemC4U",
        "outputId": "c12e5fab-7f9c-4bc3-e0d3-db51b6f21d65"
      },
      "source": [
        "dados_cad_id_unicos.query('Anos_empregado <= 0')[['Anos_empregado', 'Categoria_de_renda']].value_counts()"
      ],
      "execution_count": 28,
      "outputs": [
        {
          "output_type": "execute_result",
          "data": {
            "text/plain": [
              "Anos_empregado  Categoria_de_renda \n",
              "-1,000.70       Pensionista            75314\n",
              "0.00            Empregado                 26\n",
              "                Servidor publico          11\n",
              "                Associado comercial        7\n",
              "dtype: int64"
            ]
          },
          "metadata": {},
          "execution_count": 28
        }
      ]
    },
    {
      "cell_type": "markdown",
      "metadata": {
        "id": "__s_lkSLrGF8"
      },
      "source": [
        "Como podemos observar, todos os clientes que constam como **Pensionista** na variável **`Categoria_de_renda`** estão com o mesmo valor (1000.7) negativo na variável **`Anos_empregado`**.\n",
        "\n",
        "Diferente da situação em que tínhamos alguns (poucos) **IDs** duplicados, agora temos uma grande quantidade de clientes com esse valor distorcido. Além disso, pertencem à categoria de **Pensionistas**, que normalmente é de interesse de empresas de crédito.\n",
        "\n",
        "Mas não podemos deixar os dados assim, até porque estão gerando uma distorção grande nas informações de tempo de emprego. Por isso, vamos alterar os valores para -1. Assim, não perdemos a informação mas vamos atenuar a distorção."
      ]
    },
    {
      "cell_type": "code",
      "metadata": {
        "colab": {
          "base_uri": "https://localhost:8080/"
        },
        "id": "3VTYizwStFRV",
        "outputId": "7b8e19b8-8ab3-4c5c-dea7-2b693d65d5e0"
      },
      "source": [
        "dados_cad_id_unicos.query('Categoria_de_renda == \"Pensionista\"')[['Anos_empregado', 'Categoria_de_renda']].value_counts()"
      ],
      "execution_count": 29,
      "outputs": [
        {
          "output_type": "execute_result",
          "data": {
            "text/plain": [
              "Anos_empregado  Categoria_de_renda\n",
              "-1,000.70       Pensionista           75314\n",
              "4.50            Pensionista               5\n",
              "8.60            Pensionista               5\n",
              "3.00            Pensionista               5\n",
              "0.80            Pensionista               4\n",
              "                                      ...  \n",
              "9.20            Pensionista               1\n",
              "9.50            Pensionista               1\n",
              "10.10           Pensionista               1\n",
              "10.40           Pensionista               1\n",
              "7.20            Pensionista               1\n",
              "Length: 98, dtype: int64"
            ]
          },
          "metadata": {},
          "execution_count": 29
        }
      ]
    },
    {
      "cell_type": "markdown",
      "metadata": {
        "id": "YlbXvz0dtcyu"
      },
      "source": [
        "Não podemos fazer a alteração para todos os pensionistas, pois temos alguns com outros tempos de emprego. Vamos fazer a alteração especificamente daqueles que tem o valor de -1000,7."
      ]
    },
    {
      "cell_type": "code",
      "metadata": {
        "id": "BJKIJXyCtpa2"
      },
      "source": [
        "dados_cad_id_unicos['Anos_empregado'] = dados_cad_id_unicos['Anos_empregado'].replace(-1000.7, -1)"
      ],
      "execution_count": 30,
      "outputs": []
    },
    {
      "cell_type": "code",
      "metadata": {
        "colab": {
          "base_uri": "https://localhost:8080/",
          "height": 205
        },
        "id": "AGnGl81iuAu4",
        "outputId": "abc16b66-7a5b-4332-e188-8405b7404620"
      },
      "source": [
        "dados_cad_id_unicos[cols_quantitativas].describe().T"
      ],
      "execution_count": 31,
      "outputs": [
        {
          "output_type": "execute_result",
          "data": {
            "text/html": [
              "<div>\n",
              "<style scoped>\n",
              "    .dataframe tbody tr th:only-of-type {\n",
              "        vertical-align: middle;\n",
              "    }\n",
              "\n",
              "    .dataframe tbody tr th {\n",
              "        vertical-align: top;\n",
              "    }\n",
              "\n",
              "    .dataframe thead th {\n",
              "        text-align: right;\n",
              "    }\n",
              "</style>\n",
              "<table border=\"1\" class=\"dataframe\">\n",
              "  <thead>\n",
              "    <tr style=\"text-align: right;\">\n",
              "      <th></th>\n",
              "      <th>count</th>\n",
              "      <th>mean</th>\n",
              "      <th>std</th>\n",
              "      <th>min</th>\n",
              "      <th>25%</th>\n",
              "      <th>50%</th>\n",
              "      <th>75%</th>\n",
              "      <th>max</th>\n",
              "    </tr>\n",
              "  </thead>\n",
              "  <tbody>\n",
              "    <tr>\n",
              "      <th>Idade</th>\n",
              "      <td>438,463.00</td>\n",
              "      <td>43.83</td>\n",
              "      <td>11.47</td>\n",
              "      <td>21.00</td>\n",
              "      <td>34.00</td>\n",
              "      <td>43.00</td>\n",
              "      <td>53.00</td>\n",
              "      <td>69.00</td>\n",
              "    </tr>\n",
              "    <tr>\n",
              "      <th>Qtd_Filhos</th>\n",
              "      <td>438,463.00</td>\n",
              "      <td>0.43</td>\n",
              "      <td>0.72</td>\n",
              "      <td>0.00</td>\n",
              "      <td>0.00</td>\n",
              "      <td>0.00</td>\n",
              "      <td>1.00</td>\n",
              "      <td>19.00</td>\n",
              "    </tr>\n",
              "    <tr>\n",
              "      <th>Anos_empregado</th>\n",
              "      <td>438,463.00</td>\n",
              "      <td>5.78</td>\n",
              "      <td>6.73</td>\n",
              "      <td>-1.00</td>\n",
              "      <td>1.00</td>\n",
              "      <td>4.00</td>\n",
              "      <td>8.50</td>\n",
              "      <td>48.00</td>\n",
              "    </tr>\n",
              "    <tr>\n",
              "      <th>Tamanho_Familia</th>\n",
              "      <td>438,463.00</td>\n",
              "      <td>2.19</td>\n",
              "      <td>0.90</td>\n",
              "      <td>1.00</td>\n",
              "      <td>2.00</td>\n",
              "      <td>2.00</td>\n",
              "      <td>3.00</td>\n",
              "      <td>20.00</td>\n",
              "    </tr>\n",
              "    <tr>\n",
              "      <th>Rendimento_Anual</th>\n",
              "      <td>438,463.00</td>\n",
              "      <td>187,522.01</td>\n",
              "      <td>110,083.15</td>\n",
              "      <td>26,100.00</td>\n",
              "      <td>121,500.00</td>\n",
              "      <td>161,100.00</td>\n",
              "      <td>225,000.00</td>\n",
              "      <td>6,750,000.00</td>\n",
              "    </tr>\n",
              "  </tbody>\n",
              "</table>\n",
              "</div>"
            ],
            "text/plain": [
              "                      count       mean  ...        75%          max\n",
              "Idade            438,463.00      43.83  ...      53.00        69.00\n",
              "Qtd_Filhos       438,463.00       0.43  ...       1.00        19.00\n",
              "Anos_empregado   438,463.00       5.78  ...       8.50        48.00\n",
              "Tamanho_Familia  438,463.00       2.19  ...       3.00        20.00\n",
              "Rendimento_Anual 438,463.00 187,522.01  ... 225,000.00 6,750,000.00\n",
              "\n",
              "[5 rows x 8 columns]"
            ]
          },
          "metadata": {},
          "execution_count": 31
        }
      ]
    },
    {
      "cell_type": "markdown",
      "metadata": {
        "id": "A4ZHVfXlufZ_"
      },
      "source": [
        "### **Vídeo 2 -** ***Outliers***"
      ]
    },
    {
      "cell_type": "markdown",
      "metadata": {
        "id": "r56MyS-_ure3"
      },
      "source": [
        "Vamos analisar maneiras de tratar *outliers*.\n",
        "\n",
        "Podemos utilizar *boxplots* para identificar os *outliers* de nossos dados, mas vamos começar usando um histograma para verificar os dados de renda anual."
      ]
    },
    {
      "cell_type": "code",
      "metadata": {
        "colab": {
          "base_uri": "https://localhost:8080/",
          "height": 287
        },
        "id": "zLs6QFaHvE03",
        "outputId": "f72770e7-334e-40c6-ce39-25a34e673ae3"
      },
      "source": [
        "sns.histplot(data=dados_cad_id_unicos, x='Rendimento_Anual', bins=10)\n",
        "plt.xticks(rotation=45)\n",
        "plt.show()"
      ],
      "execution_count": 32,
      "outputs": [
        {
          "output_type": "display_data",
          "data": {
            "image/png": "[encoded data removed]",
            "text/plain": [
              "<Figure size 432x288 with 1 Axes>"
            ]
          },
          "metadata": {
            "needs_background": "light"
          }
        }
      ]
    },
    {
      "cell_type": "markdown",
      "metadata": {
        "id": "A3r8vHbsxWz5"
      },
      "source": [
        "Os *outliers* (para cima) distorcem nossa informação de tal maneira que o restante dos dados ficam concentrados em uma barra única.\n",
        "\n",
        "Vamos verificar como fica o *boxplot* dessa mesma variável."
      ]
    },
    {
      "cell_type": "code",
      "metadata": {
        "colab": {
          "base_uri": "https://localhost:8080/",
          "height": 303
        },
        "id": "XY8f3AyOw-LG",
        "outputId": "66718799-16ef-444c-bf0d-2daa7349f12b"
      },
      "source": [
        "sns.boxplot(x=dados_cad_id_unicos.Rendimento_Anual)"
      ],
      "execution_count": 33,
      "outputs": [
        {
          "output_type": "execute_result",
          "data": {
            "text/plain": [
              "<matplotlib.axes._subplots.AxesSubplot at 0x7ff8f2f8bb90>"
            ]
          },
          "metadata": {},
          "execution_count": 33
        },
        {
          "output_type": "display_data",
          "data": {
            "image/png": "[encoded data removed]",
            "text/plain": [
              "<Figure size 432x288 with 1 Axes>"
            ]
          },
          "metadata": {
            "needs_background": "light"
          }
        }
      ]
    },
    {
      "cell_type": "markdown",
      "metadata": {
        "id": "PgrdE_zRxqBJ"
      },
      "source": [
        "Claramente precisamos tratar esses *outliers* para não penalizar o nosso futuro modelo de decisão. Se trabalhamos com dados com muitos *outliers* vamos tender a ter *overfit*, ou seja, um modelo que vai funcionar muito bem no treino mas terá uma performance fraca em produção.\n",
        "\n",
        "Vamos estabelecer o limite para separar os *outliers* como sendo a média e dois desvios-padrão para cada lado."
      ]
    },
    {
      "cell_type": "code",
      "metadata": {
        "colab": {
          "base_uri": "https://localhost:8080/"
        },
        "id": "n_MiShxUxEKA",
        "outputId": "bea4bab3-8d43-4b7f-ccae-69a0e47ad257"
      },
      "source": [
        "renda = dados_cad_id_unicos.Rendimento_Anual\n",
        "renda_med = renda.mean()\n",
        "renda_std = renda.std()\n",
        "\n",
        "renda_lim_sup = renda_med + 2 * renda_std\n",
        "renda_lim_inf = renda_med - 2 * renda_std\n",
        "\n",
        "renda_outliers = []\n",
        "\n",
        "for index, valor in renda.items():\n",
        "    if valor > renda_lim_sup or valor < renda_lim_inf:\n",
        "        renda_outliers.append(index)\n",
        "\n",
        "len(renda_outliers)"
      ],
      "execution_count": 34,
      "outputs": [
        {
          "output_type": "execute_result",
          "data": {
            "text/plain": [
              "12641"
            ]
          },
          "metadata": {},
          "execution_count": 34
        }
      ]
    },
    {
      "cell_type": "code",
      "metadata": {
        "colab": {
          "base_uri": "https://localhost:8080/"
        },
        "id": "NLfHbn0R4ghH",
        "outputId": "aee7cf90-1bcb-41f0-ca56-806161f29e1e"
      },
      "source": [
        "dados_cad_sem_outliers = dados_cad_id_unicos.drop(renda_outliers)\n",
        "dados_cad_sem_outliers.shape"
      ],
      "execution_count": 35,
      "outputs": [
        {
          "output_type": "execute_result",
          "data": {
            "text/plain": [
              "(425822, 18)"
            ]
          },
          "metadata": {},
          "execution_count": 35
        }
      ]
    },
    {
      "cell_type": "code",
      "metadata": {
        "colab": {
          "base_uri": "https://localhost:8080/"
        },
        "id": "tOtfwnrKzkbE",
        "outputId": "27799947-00c8-4f1e-a8cc-5c77be3200cd"
      },
      "source": [
        "# Maneira Alternativa\n",
        "# Já gera os dataframes separados sem outliers e só de outliers\n",
        "\n",
        "df_renda_outliers = dados_cad_id_unicos.query('Rendimento_Anual > @renda_lim_sup or Rendimento_Anual < @renda_lim_inf')\n",
        "print(df_renda_outliers.shape)\n",
        "\n",
        "df_renda_sem_outliers = dados_cad_id_unicos.query('Rendimento_Anual <= @renda_lim_sup and Rendimento_Anual >= @renda_lim_inf')\n",
        "print(df_renda_sem_outliers.shape)"
      ],
      "execution_count": 36,
      "outputs": [
        {
          "output_type": "stream",
          "text": [
            "(12641, 18)\n",
            "(425822, 18)\n"
          ],
          "name": "stdout"
        }
      ]
    },
    {
      "cell_type": "code",
      "metadata": {
        "colab": {
          "base_uri": "https://localhost:8080/",
          "height": 299
        },
        "id": "ZV9pNrUG5VKo",
        "outputId": "6be3203e-7ead-487a-e41e-b41ab8532a59"
      },
      "source": [
        "dados_cad_sem_outliers[cols_quantitativas].describe()"
      ],
      "execution_count": 37,
      "outputs": [
        {
          "output_type": "execute_result",
          "data": {
            "text/html": [
              "<div>\n",
              "<style scoped>\n",
              "    .dataframe tbody tr th:only-of-type {\n",
              "        vertical-align: middle;\n",
              "    }\n",
              "\n",
              "    .dataframe tbody tr th {\n",
              "        vertical-align: top;\n",
              "    }\n",
              "\n",
              "    .dataframe thead th {\n",
              "        text-align: right;\n",
              "    }\n",
              "</style>\n",
              "<table border=\"1\" class=\"dataframe\">\n",
              "  <thead>\n",
              "    <tr style=\"text-align: right;\">\n",
              "      <th></th>\n",
              "      <th>Idade</th>\n",
              "      <th>Qtd_Filhos</th>\n",
              "      <th>Anos_empregado</th>\n",
              "      <th>Tamanho_Familia</th>\n",
              "      <th>Rendimento_Anual</th>\n",
              "    </tr>\n",
              "  </thead>\n",
              "  <tbody>\n",
              "    <tr>\n",
              "      <th>count</th>\n",
              "      <td>425,822.00</td>\n",
              "      <td>425,822.00</td>\n",
              "      <td>425,822.00</td>\n",
              "      <td>425,822.00</td>\n",
              "      <td>425,822.00</td>\n",
              "    </tr>\n",
              "    <tr>\n",
              "      <th>mean</th>\n",
              "      <td>43.84</td>\n",
              "      <td>0.43</td>\n",
              "      <td>5.74</td>\n",
              "      <td>2.19</td>\n",
              "      <td>176,384.73</td>\n",
              "    </tr>\n",
              "    <tr>\n",
              "      <th>std</th>\n",
              "      <td>11.53</td>\n",
              "      <td>0.72</td>\n",
              "      <td>6.74</td>\n",
              "      <td>0.90</td>\n",
              "      <td>75,033.53</td>\n",
              "    </tr>\n",
              "    <tr>\n",
              "      <th>min</th>\n",
              "      <td>21.00</td>\n",
              "      <td>0.00</td>\n",
              "      <td>-1.00</td>\n",
              "      <td>1.00</td>\n",
              "      <td>26,100.00</td>\n",
              "    </tr>\n",
              "    <tr>\n",
              "      <th>25%</th>\n",
              "      <td>34.00</td>\n",
              "      <td>0.00</td>\n",
              "      <td>1.00</td>\n",
              "      <td>2.00</td>\n",
              "      <td>117,000.00</td>\n",
              "    </tr>\n",
              "    <tr>\n",
              "      <th>50%</th>\n",
              "      <td>43.00</td>\n",
              "      <td>0.00</td>\n",
              "      <td>4.00</td>\n",
              "      <td>2.00</td>\n",
              "      <td>157,500.00</td>\n",
              "    </tr>\n",
              "    <tr>\n",
              "      <th>75%</th>\n",
              "      <td>53.00</td>\n",
              "      <td>1.00</td>\n",
              "      <td>8.50</td>\n",
              "      <td>3.00</td>\n",
              "      <td>225,000.00</td>\n",
              "    </tr>\n",
              "    <tr>\n",
              "      <th>max</th>\n",
              "      <td>69.00</td>\n",
              "      <td>19.00</td>\n",
              "      <td>48.00</td>\n",
              "      <td>20.00</td>\n",
              "      <td>405,000.00</td>\n",
              "    </tr>\n",
              "  </tbody>\n",
              "</table>\n",
              "</div>"
            ],
            "text/plain": [
              "           Idade  Qtd_Filhos  Anos_empregado  Tamanho_Familia  Rendimento_Anual\n",
              "count 425,822.00  425,822.00      425,822.00       425,822.00        425,822.00\n",
              "mean       43.84        0.43            5.74             2.19        176,384.73\n",
              "std        11.53        0.72            6.74             0.90         75,033.53\n",
              "min        21.00        0.00           -1.00             1.00         26,100.00\n",
              "25%        34.00        0.00            1.00             2.00        117,000.00\n",
              "50%        43.00        0.00            4.00             2.00        157,500.00\n",
              "75%        53.00        1.00            8.50             3.00        225,000.00\n",
              "max        69.00       19.00           48.00            20.00        405,000.00"
            ]
          },
          "metadata": {},
          "execution_count": 37
        }
      ]
    },
    {
      "cell_type": "markdown",
      "metadata": {
        "id": "8xG-oJuJ6Wej"
      },
      "source": [
        "Rodando agora o **`describe`** de nosso *dataset* podemos observar que as informações de rendimento anual não estão mais em notação científica, já estão sendo apresentados como números com formatação normal.\n",
        "\n",
        "Vamos verificar como fica o histograma desses dados."
      ]
    },
    {
      "cell_type": "code",
      "metadata": {
        "colab": {
          "base_uri": "https://localhost:8080/",
          "height": 312
        },
        "id": "NwrmaAcr5gZW",
        "outputId": "1e4dc8b4-543a-421c-b67a-3c9c252f1719"
      },
      "source": [
        "sns.histplot(data=dados_cad_sem_outliers, x='Rendimento_Anual', bins=10)\n",
        "plt.xticks(rotation=45)\n",
        "plt.show()"
      ],
      "execution_count": 38,
      "outputs": [
        {
          "output_type": "display_data",
          "data": {
            "image/png": "[encoded data removed]",
            "text/plain": [
              "<Figure size 432x288 with 1 Axes>"
            ]
          },
          "metadata": {
            "needs_background": "light"
          }
        }
      ]
    },
    {
      "cell_type": "markdown",
      "metadata": {
        "id": "SL58jNDP6tBq"
      },
      "source": [
        "Temos agora uma melhor distribuição dos clientes nas 10 barras do histograma, com uma certa concentração mais à esquerda do gráfico. Isso já é esperado, pois normalmente temos mais pessoas ganhando menos e poucas pessoas com maiores rendimentos.\n",
        "\n",
        "Vamos analisar da mesma forma a idade dos nossos clientes."
      ]
    },
    {
      "cell_type": "code",
      "metadata": {
        "colab": {
          "base_uri": "https://localhost:8080/",
          "height": 292
        },
        "id": "BOVnErJv6KUd",
        "outputId": "4ba38ecf-dce1-4139-d01d-ff35dcc42b9a"
      },
      "source": [
        "sns.histplot(data=dados_cad_sem_outliers, x='Idade', bins=10)\n",
        "plt.xticks(rotation=45)\n",
        "plt.show()"
      ],
      "execution_count": 39,
      "outputs": [
        {
          "output_type": "display_data",
          "data": {
            "image/png": "[encoded data removed]",
            "text/plain": [
              "<Figure size 432x288 with 1 Axes>"
            ]
          },
          "metadata": {
            "needs_background": "light"
          }
        }
      ]
    },
    {
      "cell_type": "markdown",
      "metadata": {
        "id": "C3BoS8un7WOv"
      },
      "source": [
        "Podemos perceber uma distribuição regular das idades dos clientes, sem concentrações significativas em nenhuma faixa etária específica. Temos apenas um pouco mais de clientes entre os 30 e 40 anos, mas isso está de acordo com a pirâmide populacional.\n",
        "\n",
        "Vamos analisar o tempo de empresa, mas para isso vamos desconsiderar aqueles clientes pensionistas que deixamos com o valor de -1."
      ]
    },
    {
      "cell_type": "code",
      "metadata": {
        "colab": {
          "base_uri": "https://localhost:8080/",
          "height": 292
        },
        "id": "1pz26Vkx6Jh8",
        "outputId": "bc265461-fe7b-4439-8978-0300f319a4d7"
      },
      "source": [
        "sns.histplot(data=dados_cad_sem_outliers.query('Anos_empregado >=0'), x='Anos_empregado')\n",
        "plt.xticks(rotation=45)\n",
        "plt.show()"
      ],
      "execution_count": 40,
      "outputs": [
        {
          "output_type": "display_data",
          "data": {
            "image/png": "[encoded data removed]",
            "text/plain": [
              "<Figure size 432x288 with 1 Axes>"
            ]
          },
          "metadata": {
            "needs_background": "light"
          }
        }
      ]
    },
    {
      "cell_type": "markdown",
      "metadata": {
        "id": "gqLpQjzL3YDv"
      },
      "source": [
        "Podemos observar que a grande maioria dos clientes está na faixa de 0 - 10 anos de empresa."
      ]
    },
    {
      "cell_type": "markdown",
      "metadata": {
        "id": "F5QXNTHo3YPj"
      },
      "source": [
        "#### **Desafio 3 - Explorar Outras Técnicas de Identificar e Tratar** ***Outliers***\n",
        "---\n",
        "\n",
        "> z-score\n",
        "> \n"
      ]
    },
    {
      "cell_type": "markdown",
      "metadata": {
        "id": "x7QzKXCgFnD2"
      },
      "source": [
        "Uma das maneiras de se identificar *outliers* é usando o **`zscore`**, presente na biblioteca **`scipy.stats`**.\n",
        "\n",
        "O [**`zscore`**](https://docs.scipy.org/doc/scipy/reference/generated/scipy.stats.zscore.html) nos retorna quantos desvios-padrão o nosso dado está da média de valores do nosso conjunto de dados. Para obter o mesmo efeito que tivemos acima, deveríamos desprezar todos os dados que tivessem valor absoluto acima de 2."
      ]
    },
    {
      "cell_type": "code",
      "metadata": {
        "colab": {
          "base_uri": "https://localhost:8080/"
        },
        "id": "sIFfDJoxGTLk",
        "outputId": "fa24b846-c567-47ab-9bb0-e97debec7e50"
      },
      "source": [
        "from scipy import stats\n",
        "stats.zscore(dados_cad_id_unicos.Rendimento_Anual)"
      ],
      "execution_count": 41,
      "outputs": [
        {
          "output_type": "execute_result",
          "data": {
            "text/plain": [
              "array([ 2.17997265,  2.17997265, -0.68150387, ..., -1.21292093,\n",
              "       -1.04940799, -0.59974739])"
            ]
          },
          "metadata": {},
          "execution_count": 41
        }
      ]
    },
    {
      "cell_type": "code",
      "metadata": {
        "colab": {
          "base_uri": "https://localhost:8080/"
        },
        "id": "AHW5lCb8GlPS",
        "outputId": "ad795fdb-41f7-4530-eb75-0170dccd5f1f"
      },
      "source": [
        "dados_desafio_3 = dados_cad_id_unicos.copy()\n",
        "dados_desafio_3['zscore_renda'] = abs(stats.zscore(dados_cad_id_unicos.Rendimento_Anual))\n",
        "dados_desafio_3_sem_outliers = dados_desafio_3[dados_desafio_3.zscore_renda <= 2].drop('zscore_renda', axis=1)\n",
        "dados_desafio_3_sem_outliers.shape"
      ],
      "execution_count": 42,
      "outputs": [
        {
          "output_type": "execute_result",
          "data": {
            "text/plain": [
              "(425822, 18)"
            ]
          },
          "metadata": {},
          "execution_count": 42
        }
      ]
    },
    {
      "cell_type": "markdown",
      "metadata": {
        "id": "VGzec3vvHfYW"
      },
      "source": [
        "Como pode ser visto pelas dimensões do *dataset* resultante, o resultado foi o mesmo do obtido anteriormente, durante a aula.\n",
        "\n",
        "Encontrei também algumas funções para tratamento de *outliers* que copiei abaixo.\n",
        "\n",
        "Essa primeira deve ser executada para cada coluna que desejamos limpar de nosso *dataframe*. Ela considera como limites para tratar um dado como *outlier* os extremos de um *boxplot* e exclui da base todas as linhas que contiverem *outliers*."
      ]
    },
    {
      "cell_type": "code",
      "metadata": {
        "id": "8Krh3GIJ_ofX"
      },
      "source": [
        "# https://www.ti-enxame.com/pt/python/detectar-e-excluir-outliers-no-dataframe-do-pandas/1046331960/\n",
        "#------------------------------------------------------------------------------\n",
        "# accept a dataframe, remove outliers, return cleaned data in a new dataframe\n",
        "# see http://www.itl.nist.gov/div898/handbook/prc/section1/prc16.htm\n",
        "# Deve ser executada para cada coluna que desejamos limpar\n",
        "#------------------------------------------------------------------------------\n",
        "def remove_outlier(df_in, col_name):\n",
        "    q1 = df_in[col_name].quantile(0.25)\n",
        "    q3 = df_in[col_name].quantile(0.75)\n",
        "    iqr = q3-q1 #Interquartile range\n",
        "    fence_low  = q1-1.5*iqr\n",
        "    fence_high = q3+1.5*iqr\n",
        "    df_out = df_in.loc[(df_in[col_name] > fence_low) & (df_in[col_name] < fence_high)]\n",
        "    return df_out"
      ],
      "execution_count": 43,
      "outputs": []
    },
    {
      "cell_type": "markdown",
      "metadata": {
        "id": "E05ej7dYIHkA"
      },
      "source": [
        "Essa segunda função é executada uma única vez para todo o *dataframe*. A diferença aqui é no tratamento dado. Caso ela encontre algum *outlier*, a função substitui o valor pela mediana daquela coluna."
      ]
    },
    {
      "cell_type": "code",
      "metadata": {
        "id": "vOeHNXvpBF7N"
      },
      "source": [
        "# https://www.ti-enxame.com/pt/python/detectar-e-excluir-outliers-no-dataframe-do-pandas/1046331960/\n",
        "#------------------------------------------------------------------------------\n",
        "# Outlier Treatment\n",
        "# Substitui os dados outliers pela mediana\n",
        "# Executa para todas as colunas do dataframe\n",
        "#------------------------------------------------------------------------------\n",
        "def outlier_detect(df):\n",
        "    for i in df.describe().columns:\n",
        "        Q1=df.describe().at['25%',i]\n",
        "        Q3=df.describe().at['75%',i]\n",
        "        IQR=Q3 - Q1\n",
        "        LTV=Q1 - 1.5 * IQR\n",
        "        UTV=Q3 + 1.5 * IQR\n",
        "        x=np.array(df[i])\n",
        "        p=[]\n",
        "        for j in x:\n",
        "            if j < LTV or j>UTV:\n",
        "                p.append(df[i].median())\n",
        "            else:\n",
        "                p.append(j)\n",
        "        df[i]=p\n",
        "    return df"
      ],
      "execution_count": 44,
      "outputs": []
    },
    {
      "cell_type": "markdown",
      "metadata": {
        "id": "Cgd5YRb_QNuM"
      },
      "source": [
        "Por último, [aqui](https://towardsdatascience.com/ways-to-detect-and-remove-the-outliers-404d16608dba) temos um artigo interessante sobre o assunto."
      ]
    },
    {
      "cell_type": "markdown",
      "metadata": {
        "id": "NDkxYH1JQY1o"
      },
      "source": [
        "### **Vídeo 3 - Variáveis Categóricas**"
      ]
    },
    {
      "cell_type": "markdown",
      "metadata": {
        "id": "_TvVGuA2QuYE"
      },
      "source": [
        "Vamos agora analisar as variáveis categóricas de nosso *dataset*."
      ]
    },
    {
      "cell_type": "code",
      "metadata": {
        "id": "B-S2zBUUWe-7"
      },
      "source": [
        "cols_categoricas = ['Genero', 'Tem_Carro', 'Tem_Casa_Propria', 'Tem_email',\n",
        "                    'Estado_Civil', 'Tem_Celular','Tem_telefone_trabalho',\n",
        "                    'Tem_telefone_fixo','Categoria_de_renda', 'Ocupacao',\n",
        "                    'Grau_Escolaridade','Moradia']"
      ],
      "execution_count": 45,
      "outputs": []
    },
    {
      "cell_type": "code",
      "metadata": {
        "colab": {
          "base_uri": "https://localhost:8080/",
          "height": 335
        },
        "id": "Hf9ef6gPWgEp",
        "outputId": "d230c9bf-d9c8-4331-af8e-0d52bfe56268"
      },
      "source": [
        "sns.countplot(x = 'Estado_Civil', data=dados_cad_sem_outliers)\n",
        "plt.xticks(rotation=45, ha='right')\n",
        "plt.show()"
      ],
      "execution_count": 46,
      "outputs": [
        {
          "output_type": "display_data",
          "data": {
            "image/png": "[encoded data removed]",
            "text/plain": [
              "<Figure size 432x288 with 1 Axes>"
            ]
          },
          "metadata": {
            "needs_background": "light"
          }
        }
      ]
    },
    {
      "cell_type": "markdown",
      "metadata": {
        "id": "K9d9aobsdnEn"
      },
      "source": [
        "Temos uma forte predominância de **Casados**, mas ainda temos uma certa participação dos demais tipos de estado civil em nossa base."
      ]
    },
    {
      "cell_type": "code",
      "metadata": {
        "colab": {
          "base_uri": "https://localhost:8080/",
          "height": 287
        },
        "id": "3CfMpfoVX1L2",
        "outputId": "fdd9c1bf-a12e-401d-e5f2-8a81dd948e9f"
      },
      "source": [
        "sns.countplot(x = 'Tem_Celular', data=dados_cad_sem_outliers)\n",
        "plt.xticks(rotation=45, ha='right')\n",
        "plt.show()"
      ],
      "execution_count": 47,
      "outputs": [
        {
          "output_type": "display_data",
          "data": {
            "image/png": "[encoded data removed]",
            "text/plain": [
              "<Figure size 432x288 with 1 Axes>"
            ]
          },
          "metadata": {
            "needs_background": "light"
          }
        }
      ]
    },
    {
      "cell_type": "markdown",
      "metadata": {
        "id": "ZoDZsByFdM1n"
      },
      "source": [
        "Como já tínhamos visto no desafio da aula anterior, 100% de nossos clientes declararam ter celular, tornando essa variável irrelevante para o nosso modelo.\n",
        "\n",
        "Assim, ela pode ser descartada e simplificar o treinamento do modelo mais adiante."
      ]
    },
    {
      "cell_type": "code",
      "metadata": {
        "colab": {
          "base_uri": "https://localhost:8080/",
          "height": 358
        },
        "id": "6axW3AbXX7fO",
        "outputId": "66821284-21e1-4c57-c7b9-c6e819b7bc99"
      },
      "source": [
        "sns.countplot(x = 'Ocupacao', data=dados_cad_sem_outliers,\n",
        "              order=dados_cad_sem_outliers['Ocupacao'].value_counts().index,\n",
        "              palette = 'crest_r')\n",
        "plt.xticks(rotation=45, ha='right')\n",
        "plt.show()"
      ],
      "execution_count": 48,
      "outputs": [
        {
          "output_type": "display_data",
          "data": {
            "image/png": "[encoded data removed]",
            "text/plain": [
              "<Figure size 432x288 with 1 Axes>"
            ]
          },
          "metadata": {
            "needs_background": "light"
          }
        }
      ]
    },
    {
      "cell_type": "markdown",
      "metadata": {
        "id": "4PLMCPxlYTzf"
      },
      "source": [
        "Muitos clientes declararam a ocupação como **Outros**, isso chama a atenção.\n",
        "\n",
        "Para analisar esse grupo, podemos verificar como eles se comportam em relação à renda anual."
      ]
    },
    {
      "cell_type": "code",
      "metadata": {
        "colab": {
          "base_uri": "https://localhost:8080/",
          "height": 312
        },
        "id": "Co8Yy3TkYv-m",
        "outputId": "6f3cd997-726c-474e-adbb-347311551409"
      },
      "source": [
        "sns.histplot(data=dados_cad_sem_outliers.query('Ocupacao == \"Outros\"'), x='Rendimento_Anual', bins=10)\n",
        "plt.xticks(rotation=45, ha='right')\n",
        "plt.show()"
      ],
      "execution_count": 49,
      "outputs": [
        {
          "output_type": "display_data",
          "data": {
            "image/png": "[encoded data removed]",
            "text/plain": [
              "<Figure size 432x288 with 1 Axes>"
            ]
          },
          "metadata": {
            "needs_background": "light"
          }
        }
      ]
    },
    {
      "cell_type": "markdown",
      "metadata": {
        "id": "Gq3ljQn7aG0_"
      },
      "source": [
        " A distribuição da renda é muito semelhante à que obtivemos quando analisamos o *dataset* inteiro, apenas em uma escala de quantidades diferentes. Isso nos indica que não há uma concentração em alguma categoria que foi esquecida de relacionar nas opções de ocupação de nossa base de dados.\n",
        "\n",
        " Tenho uma suspeita de que a maior parte desses outros devem ser os pensionistas que já vimos anteriormente, vamos confirmar."
      ]
    },
    {
      "cell_type": "code",
      "metadata": {
        "colab": {
          "base_uri": "https://localhost:8080/"
        },
        "id": "hfp8UUzEZZqW",
        "outputId": "3e8206fe-853f-483e-a813-5894692c17cf"
      },
      "source": [
        "dados_cad_sem_outliers.query('Ocupacao == \"Outros\"')['Categoria_de_renda'].value_counts()"
      ],
      "execution_count": 50,
      "outputs": [
        {
          "output_type": "execute_result",
          "data": {
            "text/plain": [
              "Pensionista            74479\n",
              "Empregado              35178\n",
              "Associado comercial    15762\n",
              "Servidor publico        5971\n",
              "Estudante                  5\n",
              "Name: Categoria_de_renda, dtype: int64"
            ]
          },
          "metadata": {},
          "execution_count": 50
        }
      ]
    },
    {
      "cell_type": "code",
      "metadata": {
        "colab": {
          "base_uri": "https://localhost:8080/",
          "height": 374
        },
        "id": "m5cURXbnbxiH",
        "outputId": "bc684d00-4ec2-44fd-9352-3fd52ba84e99"
      },
      "source": [
        "pie, ax = plt.subplots(figsize=[10,6])\n",
        "labels = dados_cad_sem_outliers.query('Ocupacao == \"Outros\"')['Categoria_de_renda'].value_counts().keys()\n",
        "plt.pie(x=dados_cad_sem_outliers.query('Ocupacao == \"Outros\"')['Categoria_de_renda'].value_counts(), autopct=\"%.1f%%\", explode=[0.05]*5, labels=labels, pctdistance=0.5)\n",
        "plt.title('Categorias de Renda para Ocupação = \"Outros\"', fontsize=14);"
      ],
      "execution_count": 51,
      "outputs": [
        {
          "output_type": "display_data",
          "data": {
            "image/png": "[encoded data removed]",
            "text/plain": [
              "<Figure size 720x432 with 1 Axes>"
            ]
          },
          "metadata": {}
        }
      ]
    },
    {
      "cell_type": "code",
      "metadata": {
        "colab": {
          "base_uri": "https://localhost:8080/"
        },
        "id": "r-V6PVH5bTQ6",
        "outputId": "4e98b49c-39f5-4ca8-820d-aeeff649c2f1"
      },
      "source": [
        "dados_cad_sem_outliers.query('Categoria_de_renda == \"Pensionista\"')['Ocupacao'].value_counts()"
      ],
      "execution_count": 52,
      "outputs": [
        {
          "output_type": "execute_result",
          "data": {
            "text/plain": [
              "Outros                74479\n",
              "Construcao Civil         31\n",
              "Equipe principal         31\n",
              "Gerencia                 15\n",
              "Motorista                11\n",
              "Medicina                 10\n",
              "Venda                     8\n",
              "Alta tecnologia           6\n",
              "Cozinha                   5\n",
              "Contabilidade             5\n",
              "Secretariado              2\n",
              "Seguranca                 2\n",
              "Baixa qualificacao        1\n",
              "Name: Ocupacao, dtype: int64"
            ]
          },
          "metadata": {},
          "execution_count": 52
        }
      ]
    },
    {
      "cell_type": "code",
      "metadata": {
        "colab": {
          "base_uri": "https://localhost:8080/",
          "height": 374
        },
        "id": "jXi1BoZ0csNi",
        "outputId": "f5103a3b-3cc4-4cb2-aa34-6b4c0b43dae6"
      },
      "source": [
        "pie, ax = plt.subplots(figsize=[10,6])\n",
        "labels = dados_cad_sem_outliers.query('Categoria_de_renda == \"Pensionista\"')['Ocupacao'].value_counts().keys()\n",
        "plt.pie(x=dados_cad_sem_outliers.query('Categoria_de_renda == \"Pensionista\"')['Ocupacao'].value_counts(),\n",
        "        autopct=\"%.1f%%\", explode=[0.05]*len(dados_cad_sem_outliers.query('Categoria_de_renda == \"Pensionista\"')['Ocupacao'].value_counts()),\n",
        "        labels=labels, pctdistance=0.5)\n",
        "plt.title('Ocupações para Categoria de Renda = \"Pensionista\"', fontsize=14);"
      ],
      "execution_count": 53,
      "outputs": [
        {
          "output_type": "display_data",
          "data": {
            "image/png": "[encoded data removed]",
            "text/plain": [
              "<Figure size 720x432 with 1 Axes>"
            ]
          },
          "metadata": {}
        }
      ]
    },
    {
      "cell_type": "markdown",
      "metadata": {
        "id": "7Hd3rnoibdcq"
      },
      "source": [
        "Como podemos ver acima, mais da metade dos **Outros** são **Pensionistas**. E praticamente todos os **Pensionistas** estão classificados como **Outros**, confirmando parcialmente minha hipótese."
      ]
    },
    {
      "cell_type": "markdown",
      "metadata": {
        "id": "GFxt6NH2gfgp"
      },
      "source": [
        "---\n",
        "Nesse momento a Karol fez uma explanação a respeito da regulamentação que o Banco Central (BaCen) impõe sobre os modelos de *credit score*.\n",
        "\n",
        "Dentro dessa regulamentação o BaCen determina algumas informações que não podem ser consideradas, as chamadas **Informações Sensíveis**. São elas:\n",
        "* Origem Social e Étnica\n",
        "* Condições de Saúde\n",
        "* Informação Genética\n",
        "* Orientação Sexual\n",
        "* Convicções Políticas, Religiosas e Filosóficas\n",
        "---\n",
        "\n",
        "Em função disso, além da coluna **`Tem_Celular`** que já havíamos decidido eliminar por não influenciar nosso modelo, por uma exigência legal também precisamos eliminar a coluna **`Genero`**."
      ]
    },
    {
      "cell_type": "code",
      "metadata": {
        "colab": {
          "base_uri": "https://localhost:8080/"
        },
        "id": "dpJw0GJliMcV",
        "outputId": "13ccc33e-2293-473e-e02b-f7aa46c4fb8a"
      },
      "source": [
        "dados_cad_tratamento1 = dados_cad_sem_outliers.drop(['Genero', 'Tem_Celular'], axis=1)\n",
        "dados_cad_tratamento1.shape"
      ],
      "execution_count": 54,
      "outputs": [
        {
          "output_type": "execute_result",
          "data": {
            "text/plain": [
              "(425822, 16)"
            ]
          },
          "metadata": {},
          "execution_count": 54
        }
      ]
    },
    {
      "cell_type": "code",
      "metadata": {
        "colab": {
          "base_uri": "https://localhost:8080/"
        },
        "id": "EQSFXFnOjHlz",
        "outputId": "89d93580-966a-41c5-9e60-4ce0fda3fd28"
      },
      "source": [
        "cols_categoricas.remove('Genero')\n",
        "cols_categoricas.remove('Tem_Celular')\n",
        "cols_categoricas"
      ],
      "execution_count": 55,
      "outputs": [
        {
          "output_type": "execute_result",
          "data": {
            "text/plain": [
              "['Tem_Carro',\n",
              " 'Tem_Casa_Propria',\n",
              " 'Tem_email',\n",
              " 'Estado_Civil',\n",
              " 'Tem_telefone_trabalho',\n",
              " 'Tem_telefone_fixo',\n",
              " 'Categoria_de_renda',\n",
              " 'Ocupacao',\n",
              " 'Grau_Escolaridade',\n",
              " 'Moradia']"
            ]
          },
          "metadata": {},
          "execution_count": 55
        }
      ]
    },
    {
      "cell_type": "markdown",
      "metadata": {
        "id": "Ax9D8J7Kj29p"
      },
      "source": [
        "#### **Desafio 4 - Criar uma Função para Gerar os Gráficos**\n",
        "---\n"
      ]
    },
    {
      "cell_type": "code",
      "metadata": {
        "id": "jPgaVB5AUDE5"
      },
      "source": [
        "def graf_quants(dados, lista):\n",
        "    linhas = round((len(lista)+ 0.45) / 2 )\n",
        "    fig, ax = plt.subplots(nrows=linhas, ncols=2, figsize=(12,8))\n",
        "    fig.suptitle('Variáveis Quantitativas', fontsize=20, fontweight='bold')\n",
        "    loc_graf_x = 0\n",
        "    loc_graf_y = 0\n",
        "    for var in lista:\n",
        "        ax[loc_graf_x, loc_graf_y] = sns.boxplot(x=dados[var], ax=ax[loc_graf_x, loc_graf_y])\n",
        "        ax[loc_graf_x, loc_graf_y].set_title(var, fontsize=16, fontweight='bold')\n",
        "        ax[loc_graf_x, loc_graf_y].set_xlabel('')\n",
        "\n",
        "        plt.draw()\n",
        "        xlabels = ax[loc_graf_x, loc_graf_y].get_xticklabels()\n",
        "        ax[loc_graf_x, loc_graf_y].set_xticklabels(xlabels, rotation=45, ha='right')\n",
        "        \n",
        "        # Alternativa para rotacionar os ticks, mas não consegue alinhar\n",
        "        # Também pode alterar outros parâmetros\n",
        "        #ax[loc_graf_x, loc_graf_y].tick_params(direction='out', length=6, width=2, colors='r',\n",
        "        #       grid_color='r', grid_alpha=0.5)\n",
        "        #ax[loc_graf_x, loc_graf_y].tick_params(labelrotation=45)\n",
        "\n",
        "        # Outra alternativa para rotacionar os ticks\n",
        "        # Deve ter pior performance por ter que fazer um a um\n",
        "        #for tick in ax[loc_graf_x, loc_graf_y].get_xticklabels():\n",
        "        #    tick.set_rotation(45)\n",
        "        #    tick.set_ha('right')\n",
        "\n",
        "        if loc_graf_y == 0:\n",
        "            loc_graf_y = 1\n",
        "        else:\n",
        "            loc_graf_y = 0\n",
        "            loc_graf_x += 1\n",
        "    plt.subplots_adjust(wspace=0.2,\n",
        "                        hspace=0.65)"
      ],
      "execution_count": 56,
      "outputs": []
    },
    {
      "cell_type": "code",
      "metadata": {
        "colab": {
          "base_uri": "https://localhost:8080/",
          "height": 570
        },
        "id": "K0kXdzl-WP7h",
        "outputId": "ecbbc321-810b-4f3d-a1b6-e5ca9549cfea"
      },
      "source": [
        "graf_quants(dados_cad_sem_outliers, cols_quantitativas)"
      ],
      "execution_count": 57,
      "outputs": [
        {
          "output_type": "display_data",
          "data": {
            "image/png": "[encoded data removed]",
            "text/plain": [
              "<Figure size 864x576 with 6 Axes>"
            ]
          },
          "metadata": {
            "needs_background": "light"
          }
        }
      ]
    },
    {
      "cell_type": "code",
      "metadata": {
        "id": "l50lhg5ElARL"
      },
      "source": [
        "def graf_categs(dados, lista):\n",
        "    #linhas = round((len(lista)+ 0.5) / 3 )\n",
        "    linhas = round((len(lista)+ 0.45) / 4 )\n",
        "    #fig, ax = plt.subplots(nrows=linhas, ncols=3, figsize=(21,10))\n",
        "    fig, ax = plt.subplots(nrows=linhas, ncols=4, figsize=(21,10))\n",
        "    fig.suptitle('Variáveis Categóricas', fontsize=20, fontweight='bold')\n",
        "    loc_graf_x = 0\n",
        "    loc_graf_y = 0\n",
        "    for var in lista:\n",
        "        ax[loc_graf_x, loc_graf_y] = sns.countplot(x=dados[var], ax=ax[loc_graf_x, loc_graf_y],\n",
        "                                                   order=dados[var].value_counts().index,\n",
        "                                                   palette='crest_r')\n",
        "        ax[loc_graf_x, loc_graf_y].set_title(var, fontsize=16, fontweight='bold')\n",
        "        ax[loc_graf_x, loc_graf_y].set_xlabel('')\n",
        "\n",
        "        plt.draw()\n",
        "        xlabels = ax[loc_graf_x, loc_graf_y].get_xticklabels()\n",
        "        ax[loc_graf_x, loc_graf_y].set_xticklabels(xlabels, rotation=45, ha='right', fontsize=10)\n",
        "        \n",
        "        if loc_graf_y != 3:\n",
        "            loc_graf_y += 1\n",
        "        else:\n",
        "            loc_graf_y = 0\n",
        "            loc_graf_x += 1\n",
        "\n",
        "    plt.subplots_adjust(wspace=0.3,\n",
        "                        hspace=1.)"
      ],
      "execution_count": 58,
      "outputs": []
    },
    {
      "cell_type": "code",
      "metadata": {
        "colab": {
          "base_uri": "https://localhost:8080/",
          "height": 759
        },
        "id": "9UvfWtC5mQQX",
        "outputId": "2353349c-20f0-4e20-f371-7afb83949e89"
      },
      "source": [
        "graf_categs(dados_cad_sem_outliers, cols_categoricas)"
      ],
      "execution_count": 59,
      "outputs": [
        {
          "output_type": "display_data",
          "data": {
            "image/png": "[encoded data removed]",
            "text/plain": [
              "<Figure size 1512x720 with 12 Axes>"
            ]
          },
          "metadata": {
            "needs_background": "light"
          }
        }
      ]
    },
    {
      "cell_type": "markdown",
      "metadata": {
        "id": "VJMIWKZ-kGzX"
      },
      "source": [
        "#### **Desafio 5 - Continuar a Análise Exploratória**\n",
        "---\n",
        "\n",
        "Complementei a análise exploratória ao longo do *notebook*, para ficar mais fácil de pegar o contexto."
      ]
    },
    {
      "cell_type": "code",
      "metadata": {
        "colab": {
          "base_uri": "https://localhost:8080/",
          "height": 724
        },
        "id": "_gZ5OC8kcEXZ",
        "outputId": "dc8aa903-f789-4729-d9be-35f59ba78ca2"
      },
      "source": [
        "print(color.BOLD+color.BLUE+color.UNDERLINE+'--- Rendimento Médio por Ocupação e Escolaridade ---'+color.END)\n",
        "\n",
        "dados_cad_sem_outliers.pivot_table(values='Rendimento_Anual', index=['Ocupacao'],\n",
        "               columns=['Grau_Escolaridade'], aggfunc=lambda x: round(x.mean()),\n",
        "               fill_value=0, margins='All', margins_name='TOTAL').astype(float)"
      ],
      "execution_count": 60,
      "outputs": [
        {
          "output_type": "stream",
          "text": [
            "\u001b[1m\u001b[94m\u001b[4m--- Rendimento Médio por Ocupação e Escolaridade ---\u001b[0m\n"
          ],
          "name": "stdout"
        },
        {
          "output_type": "execute_result",
          "data": {
            "text/html": [
              "<div>\n",
              "<style scoped>\n",
              "    .dataframe tbody tr th:only-of-type {\n",
              "        vertical-align: middle;\n",
              "    }\n",
              "\n",
              "    .dataframe tbody tr th {\n",
              "        vertical-align: top;\n",
              "    }\n",
              "\n",
              "    .dataframe thead th {\n",
              "        text-align: right;\n",
              "    }\n",
              "</style>\n",
              "<table border=\"1\" class=\"dataframe\">\n",
              "  <thead>\n",
              "    <tr style=\"text-align: right;\">\n",
              "      <th>Grau_Escolaridade</th>\n",
              "      <th>Ensino fundamental</th>\n",
              "      <th>Ensino medio</th>\n",
              "      <th>Ensino superior</th>\n",
              "      <th>Ensino superior incompleto</th>\n",
              "      <th>Pos graduacao</th>\n",
              "      <th>TOTAL</th>\n",
              "    </tr>\n",
              "    <tr>\n",
              "      <th>Ocupacao</th>\n",
              "      <th></th>\n",
              "      <th></th>\n",
              "      <th></th>\n",
              "      <th></th>\n",
              "      <th></th>\n",
              "      <th></th>\n",
              "    </tr>\n",
              "  </thead>\n",
              "  <tbody>\n",
              "    <tr>\n",
              "      <th>Alta tecnologia</th>\n",
              "      <td>190,446.00</td>\n",
              "      <td>173,075.00</td>\n",
              "      <td>202,409.00</td>\n",
              "      <td>199,563.00</td>\n",
              "      <td>0.00</td>\n",
              "      <td>185,909.00</td>\n",
              "    </tr>\n",
              "    <tr>\n",
              "      <th>Baixa qualificacao</th>\n",
              "      <td>130,623.00</td>\n",
              "      <td>149,050.00</td>\n",
              "      <td>184,100.00</td>\n",
              "      <td>131,344.00</td>\n",
              "      <td>0.00</td>\n",
              "      <td>149,633.00</td>\n",
              "    </tr>\n",
              "    <tr>\n",
              "      <th>Construcao Civil</th>\n",
              "      <td>173,317.00</td>\n",
              "      <td>172,738.00</td>\n",
              "      <td>192,990.00</td>\n",
              "      <td>187,695.00</td>\n",
              "      <td>220,109.00</td>\n",
              "      <td>175,829.00</td>\n",
              "    </tr>\n",
              "    <tr>\n",
              "      <th>Contabilidade</th>\n",
              "      <td>169,296.00</td>\n",
              "      <td>181,211.00</td>\n",
              "      <td>206,130.00</td>\n",
              "      <td>200,204.00</td>\n",
              "      <td>236,250.00</td>\n",
              "      <td>197,032.00</td>\n",
              "    </tr>\n",
              "    <tr>\n",
              "      <th>Corretor imobiliario</th>\n",
              "      <td>0.00</td>\n",
              "      <td>219,106.00</td>\n",
              "      <td>222,983.00</td>\n",
              "      <td>190,000.00</td>\n",
              "      <td>0.00</td>\n",
              "      <td>218,561.00</td>\n",
              "    </tr>\n",
              "    <tr>\n",
              "      <th>Cozinha</th>\n",
              "      <td>130,271.00</td>\n",
              "      <td>152,875.00</td>\n",
              "      <td>175,514.00</td>\n",
              "      <td>165,125.00</td>\n",
              "      <td>0.00</td>\n",
              "      <td>154,713.00</td>\n",
              "    </tr>\n",
              "    <tr>\n",
              "      <th>Equipe principal</th>\n",
              "      <td>167,042.00</td>\n",
              "      <td>167,711.00</td>\n",
              "      <td>191,913.00</td>\n",
              "      <td>179,923.00</td>\n",
              "      <td>232,816.00</td>\n",
              "      <td>180,334.00</td>\n",
              "    </tr>\n",
              "    <tr>\n",
              "      <th>Garcom</th>\n",
              "      <td>156,150.00</td>\n",
              "      <td>150,481.00</td>\n",
              "      <td>173,543.00</td>\n",
              "      <td>165,205.00</td>\n",
              "      <td>0.00</td>\n",
              "      <td>154,328.00</td>\n",
              "    </tr>\n",
              "    <tr>\n",
              "      <th>Gerencia</th>\n",
              "      <td>200,212.00</td>\n",
              "      <td>215,691.00</td>\n",
              "      <td>244,182.00</td>\n",
              "      <td>236,969.00</td>\n",
              "      <td>198,519.00</td>\n",
              "      <td>231,583.00</td>\n",
              "    </tr>\n",
              "    <tr>\n",
              "      <th>Limpeza</th>\n",
              "      <td>150,033.00</td>\n",
              "      <td>142,155.00</td>\n",
              "      <td>167,328.00</td>\n",
              "      <td>148,756.00</td>\n",
              "      <td>0.00</td>\n",
              "      <td>144,020.00</td>\n",
              "    </tr>\n",
              "    <tr>\n",
              "      <th>Medicina</th>\n",
              "      <td>152,305.00</td>\n",
              "      <td>160,859.00</td>\n",
              "      <td>186,558.00</td>\n",
              "      <td>171,175.00</td>\n",
              "      <td>0.00</td>\n",
              "      <td>164,231.00</td>\n",
              "    </tr>\n",
              "    <tr>\n",
              "      <th>Motorista</th>\n",
              "      <td>178,483.00</td>\n",
              "      <td>193,706.00</td>\n",
              "      <td>206,975.00</td>\n",
              "      <td>192,602.00</td>\n",
              "      <td>120,000.00</td>\n",
              "      <td>195,109.00</td>\n",
              "    </tr>\n",
              "    <tr>\n",
              "      <th>Outros</th>\n",
              "      <td>118,608.00</td>\n",
              "      <td>154,149.00</td>\n",
              "      <td>193,207.00</td>\n",
              "      <td>190,149.00</td>\n",
              "      <td>209,470.00</td>\n",
              "      <td>163,514.00</td>\n",
              "    </tr>\n",
              "    <tr>\n",
              "      <th>RH</th>\n",
              "      <td>0.00</td>\n",
              "      <td>171,871.00</td>\n",
              "      <td>199,963.00</td>\n",
              "      <td>191,068.00</td>\n",
              "      <td>0.00</td>\n",
              "      <td>191,327.00</td>\n",
              "    </tr>\n",
              "    <tr>\n",
              "      <th>Secretariado</th>\n",
              "      <td>101,250.00</td>\n",
              "      <td>147,097.00</td>\n",
              "      <td>168,265.00</td>\n",
              "      <td>165,925.00</td>\n",
              "      <td>0.00</td>\n",
              "      <td>156,126.00</td>\n",
              "    </tr>\n",
              "    <tr>\n",
              "      <th>Seguranca</th>\n",
              "      <td>170,629.00</td>\n",
              "      <td>159,420.00</td>\n",
              "      <td>194,393.00</td>\n",
              "      <td>200,119.00</td>\n",
              "      <td>218,500.00</td>\n",
              "      <td>165,502.00</td>\n",
              "    </tr>\n",
              "    <tr>\n",
              "      <th>Servico privado</th>\n",
              "      <td>157,500.00</td>\n",
              "      <td>187,281.00</td>\n",
              "      <td>205,316.00</td>\n",
              "      <td>185,274.00</td>\n",
              "      <td>225,000.00</td>\n",
              "      <td>191,037.00</td>\n",
              "    </tr>\n",
              "    <tr>\n",
              "      <th>TI</th>\n",
              "      <td>0.00</td>\n",
              "      <td>191,859.00</td>\n",
              "      <td>200,934.00</td>\n",
              "      <td>164,605.00</td>\n",
              "      <td>0.00</td>\n",
              "      <td>197,037.00</td>\n",
              "    </tr>\n",
              "    <tr>\n",
              "      <th>Venda</th>\n",
              "      <td>138,156.00</td>\n",
              "      <td>157,375.00</td>\n",
              "      <td>193,877.00</td>\n",
              "      <td>182,555.00</td>\n",
              "      <td>265,000.00</td>\n",
              "      <td>165,252.00</td>\n",
              "    </tr>\n",
              "    <tr>\n",
              "      <th>TOTAL</th>\n",
              "      <td>142,144.00</td>\n",
              "      <td>166,490.00</td>\n",
              "      <td>202,203.00</td>\n",
              "      <td>191,955.00</td>\n",
              "      <td>212,970.00</td>\n",
              "      <td>176,385.00</td>\n",
              "    </tr>\n",
              "  </tbody>\n",
              "</table>\n",
              "</div>"
            ],
            "text/plain": [
              "Grau_Escolaridade     Ensino fundamental  ...      TOTAL\n",
              "Ocupacao                                  ...           \n",
              "Alta tecnologia               190,446.00  ... 185,909.00\n",
              "Baixa qualificacao            130,623.00  ... 149,633.00\n",
              "Construcao Civil              173,317.00  ... 175,829.00\n",
              "Contabilidade                 169,296.00  ... 197,032.00\n",
              "Corretor imobiliario                0.00  ... 218,561.00\n",
              "Cozinha                       130,271.00  ... 154,713.00\n",
              "Equipe principal              167,042.00  ... 180,334.00\n",
              "Garcom                        156,150.00  ... 154,328.00\n",
              "Gerencia                      200,212.00  ... 231,583.00\n",
              "Limpeza                       150,033.00  ... 144,020.00\n",
              "Medicina                      152,305.00  ... 164,231.00\n",
              "Motorista                     178,483.00  ... 195,109.00\n",
              "Outros                        118,608.00  ... 163,514.00\n",
              "RH                                  0.00  ... 191,327.00\n",
              "Secretariado                  101,250.00  ... 156,126.00\n",
              "Seguranca                     170,629.00  ... 165,502.00\n",
              "Servico privado               157,500.00  ... 191,037.00\n",
              "TI                                  0.00  ... 197,037.00\n",
              "Venda                         138,156.00  ... 165,252.00\n",
              "TOTAL                         142,144.00  ... 176,385.00\n",
              "\n",
              "[20 rows x 6 columns]"
            ]
          },
          "metadata": {},
          "execution_count": 60
        }
      ]
    },
    {
      "cell_type": "markdown",
      "metadata": {
        "id": "Y5FtXIz1l-Gf"
      },
      "source": [
        "É interessante observar a variação do rendimento médio de acordo com o aumento do grau de escolaridade.\n",
        "\n",
        "Apesar de, em média, termos o crescimento do rendimento com o aumento do grau de escolaridade, isso não é a regra para todas as ocupações, como podemos ver em ***TI*** e ***Alta Tecnologia***, por exemplo."
      ]
    },
    {
      "cell_type": "code",
      "metadata": {
        "colab": {
          "base_uri": "https://localhost:8080/",
          "height": 724
        },
        "id": "pdZnkffpeQeh",
        "outputId": "2d163a55-1bba-4a1c-ae02-446f9fab3acb"
      },
      "source": [
        "print(color.BOLD+color.BLUE+color.UNDERLINE+'--- Rendimento Médio por Ocupação e Categoria de Renda ---'+color.END)\n",
        "\n",
        "dados_cad_sem_outliers.pivot_table(values='Rendimento_Anual', index=['Ocupacao'],\n",
        "               columns=['Categoria_de_renda'], aggfunc=lambda x: round(x.mean()),\n",
        "               fill_value=0, margins='All').astype(float)"
      ],
      "execution_count": 61,
      "outputs": [
        {
          "output_type": "stream",
          "text": [
            "\u001b[1m\u001b[94m\u001b[4m--- Rendimento Médio por Ocupação e Categoria de Renda ---\u001b[0m\n"
          ],
          "name": "stdout"
        },
        {
          "output_type": "execute_result",
          "data": {
            "text/html": [
              "<div>\n",
              "<style scoped>\n",
              "    .dataframe tbody tr th:only-of-type {\n",
              "        vertical-align: middle;\n",
              "    }\n",
              "\n",
              "    .dataframe tbody tr th {\n",
              "        vertical-align: top;\n",
              "    }\n",
              "\n",
              "    .dataframe thead th {\n",
              "        text-align: right;\n",
              "    }\n",
              "</style>\n",
              "<table border=\"1\" class=\"dataframe\">\n",
              "  <thead>\n",
              "    <tr style=\"text-align: right;\">\n",
              "      <th>Categoria_de_renda</th>\n",
              "      <th>Associado comercial</th>\n",
              "      <th>Empregado</th>\n",
              "      <th>Estudante</th>\n",
              "      <th>Pensionista</th>\n",
              "      <th>Servidor publico</th>\n",
              "      <th>All</th>\n",
              "    </tr>\n",
              "    <tr>\n",
              "      <th>Ocupacao</th>\n",
              "      <th></th>\n",
              "      <th></th>\n",
              "      <th></th>\n",
              "      <th></th>\n",
              "      <th></th>\n",
              "      <th></th>\n",
              "    </tr>\n",
              "  </thead>\n",
              "  <tbody>\n",
              "    <tr>\n",
              "      <th>Alta tecnologia</th>\n",
              "      <td>201,859.00</td>\n",
              "      <td>177,002.00</td>\n",
              "      <td>0.00</td>\n",
              "      <td>187,500.00</td>\n",
              "      <td>193,840.00</td>\n",
              "      <td>185,909.00</td>\n",
              "    </tr>\n",
              "    <tr>\n",
              "      <th>Baixa qualificacao</th>\n",
              "      <td>161,410.00</td>\n",
              "      <td>146,898.00</td>\n",
              "      <td>0.00</td>\n",
              "      <td>157,500.00</td>\n",
              "      <td>195,000.00</td>\n",
              "      <td>149,633.00</td>\n",
              "    </tr>\n",
              "    <tr>\n",
              "      <th>Construcao Civil</th>\n",
              "      <td>186,751.00</td>\n",
              "      <td>171,763.00</td>\n",
              "      <td>133,500.00</td>\n",
              "      <td>170,565.00</td>\n",
              "      <td>188,218.00</td>\n",
              "      <td>175,829.00</td>\n",
              "    </tr>\n",
              "    <tr>\n",
              "      <th>Contabilidade</th>\n",
              "      <td>209,948.00</td>\n",
              "      <td>190,000.00</td>\n",
              "      <td>0.00</td>\n",
              "      <td>211,500.00</td>\n",
              "      <td>182,659.00</td>\n",
              "      <td>197,032.00</td>\n",
              "    </tr>\n",
              "    <tr>\n",
              "      <th>Corretor imobiliario</th>\n",
              "      <td>224,024.00</td>\n",
              "      <td>213,063.00</td>\n",
              "      <td>0.00</td>\n",
              "      <td>0.00</td>\n",
              "      <td>237,500.00</td>\n",
              "      <td>218,561.00</td>\n",
              "    </tr>\n",
              "    <tr>\n",
              "      <th>Cozinha</th>\n",
              "      <td>177,382.00</td>\n",
              "      <td>148,545.00</td>\n",
              "      <td>0.00</td>\n",
              "      <td>127,615.00</td>\n",
              "      <td>143,573.00</td>\n",
              "      <td>154,713.00</td>\n",
              "    </tr>\n",
              "    <tr>\n",
              "      <th>Equipe principal</th>\n",
              "      <td>193,653.00</td>\n",
              "      <td>170,294.00</td>\n",
              "      <td>177,000.00</td>\n",
              "      <td>199,887.00</td>\n",
              "      <td>188,241.00</td>\n",
              "      <td>180,334.00</td>\n",
              "    </tr>\n",
              "    <tr>\n",
              "      <th>Garcom</th>\n",
              "      <td>178,607.00</td>\n",
              "      <td>143,530.00</td>\n",
              "      <td>0.00</td>\n",
              "      <td>0.00</td>\n",
              "      <td>140,972.00</td>\n",
              "      <td>154,328.00</td>\n",
              "    </tr>\n",
              "    <tr>\n",
              "      <th>Gerencia</th>\n",
              "      <td>249,036.00</td>\n",
              "      <td>219,331.00</td>\n",
              "      <td>0.00</td>\n",
              "      <td>230,700.00</td>\n",
              "      <td>226,645.00</td>\n",
              "      <td>231,583.00</td>\n",
              "    </tr>\n",
              "    <tr>\n",
              "      <th>Limpeza</th>\n",
              "      <td>166,818.00</td>\n",
              "      <td>136,937.00</td>\n",
              "      <td>0.00</td>\n",
              "      <td>0.00</td>\n",
              "      <td>154,689.00</td>\n",
              "      <td>144,020.00</td>\n",
              "    </tr>\n",
              "    <tr>\n",
              "      <th>Medicina</th>\n",
              "      <td>181,402.00</td>\n",
              "      <td>156,242.00</td>\n",
              "      <td>0.00</td>\n",
              "      <td>183,600.00</td>\n",
              "      <td>171,684.00</td>\n",
              "      <td>164,231.00</td>\n",
              "    </tr>\n",
              "    <tr>\n",
              "      <th>Motorista</th>\n",
              "      <td>211,406.00</td>\n",
              "      <td>189,439.00</td>\n",
              "      <td>0.00</td>\n",
              "      <td>172,227.00</td>\n",
              "      <td>193,065.00</td>\n",
              "      <td>195,109.00</td>\n",
              "    </tr>\n",
              "    <tr>\n",
              "      <th>Outros</th>\n",
              "      <td>200,283.00</td>\n",
              "      <td>172,073.00</td>\n",
              "      <td>144,000.00</td>\n",
              "      <td>149,396.00</td>\n",
              "      <td>192,150.00</td>\n",
              "      <td>163,514.00</td>\n",
              "    </tr>\n",
              "    <tr>\n",
              "      <th>RH</th>\n",
              "      <td>197,708.00</td>\n",
              "      <td>186,114.00</td>\n",
              "      <td>0.00</td>\n",
              "      <td>0.00</td>\n",
              "      <td>197,379.00</td>\n",
              "      <td>191,327.00</td>\n",
              "    </tr>\n",
              "    <tr>\n",
              "      <th>Secretariado</th>\n",
              "      <td>176,547.00</td>\n",
              "      <td>149,307.00</td>\n",
              "      <td>0.00</td>\n",
              "      <td>135,000.00</td>\n",
              "      <td>152,362.00</td>\n",
              "      <td>156,126.00</td>\n",
              "    </tr>\n",
              "    <tr>\n",
              "      <th>Seguranca</th>\n",
              "      <td>178,580.00</td>\n",
              "      <td>159,903.00</td>\n",
              "      <td>0.00</td>\n",
              "      <td>225,000.00</td>\n",
              "      <td>182,115.00</td>\n",
              "      <td>165,502.00</td>\n",
              "    </tr>\n",
              "    <tr>\n",
              "      <th>Servico privado</th>\n",
              "      <td>218,187.00</td>\n",
              "      <td>174,125.00</td>\n",
              "      <td>0.00</td>\n",
              "      <td>0.00</td>\n",
              "      <td>183,031.00</td>\n",
              "      <td>191,037.00</td>\n",
              "    </tr>\n",
              "    <tr>\n",
              "      <th>TI</th>\n",
              "      <td>221,887.00</td>\n",
              "      <td>189,064.00</td>\n",
              "      <td>0.00</td>\n",
              "      <td>0.00</td>\n",
              "      <td>172,712.00</td>\n",
              "      <td>197,037.00</td>\n",
              "    </tr>\n",
              "    <tr>\n",
              "      <th>Venda</th>\n",
              "      <td>179,621.00</td>\n",
              "      <td>158,005.00</td>\n",
              "      <td>0.00</td>\n",
              "      <td>193,648.00</td>\n",
              "      <td>162,227.00</td>\n",
              "      <td>165,252.00</td>\n",
              "    </tr>\n",
              "    <tr>\n",
              "      <th>All</th>\n",
              "      <td>200,101.00</td>\n",
              "      <td>173,306.00</td>\n",
              "      <td>159,618.00</td>\n",
              "      <td>149,462.00</td>\n",
              "      <td>189,059.00</td>\n",
              "      <td>176,385.00</td>\n",
              "    </tr>\n",
              "  </tbody>\n",
              "</table>\n",
              "</div>"
            ],
            "text/plain": [
              "Categoria_de_renda    Associado comercial  ...        All\n",
              "Ocupacao                                   ...           \n",
              "Alta tecnologia                201,859.00  ... 185,909.00\n",
              "Baixa qualificacao             161,410.00  ... 149,633.00\n",
              "Construcao Civil               186,751.00  ... 175,829.00\n",
              "Contabilidade                  209,948.00  ... 197,032.00\n",
              "Corretor imobiliario           224,024.00  ... 218,561.00\n",
              "Cozinha                        177,382.00  ... 154,713.00\n",
              "Equipe principal               193,653.00  ... 180,334.00\n",
              "Garcom                         178,607.00  ... 154,328.00\n",
              "Gerencia                       249,036.00  ... 231,583.00\n",
              "Limpeza                        166,818.00  ... 144,020.00\n",
              "Medicina                       181,402.00  ... 164,231.00\n",
              "Motorista                      211,406.00  ... 195,109.00\n",
              "Outros                         200,283.00  ... 163,514.00\n",
              "RH                             197,708.00  ... 191,327.00\n",
              "Secretariado                   176,547.00  ... 156,126.00\n",
              "Seguranca                      178,580.00  ... 165,502.00\n",
              "Servico privado                218,187.00  ... 191,037.00\n",
              "TI                             221,887.00  ... 197,037.00\n",
              "Venda                          179,621.00  ... 165,252.00\n",
              "All                            200,101.00  ... 176,385.00\n",
              "\n",
              "[20 rows x 6 columns]"
            ]
          },
          "metadata": {},
          "execution_count": 61
        }
      ]
    },
    {
      "cell_type": "code",
      "metadata": {
        "colab": {
          "base_uri": "https://localhost:8080/",
          "height": 317
        },
        "id": "7GwosQYAd59A",
        "outputId": "5105a81d-4970-485f-8e5e-68ef3cf413f6"
      },
      "source": [
        "print(color.BOLD+color.BLUE+color.UNDERLINE+'--- Rendimento Médio por Tipo de Moradia ---'+color.END)\n",
        "\n",
        "dados_cad_sem_outliers.pivot_table(values='Rendimento_Anual', index=['Moradia'],\n",
        "               columns=['Tem_Casa_Propria'], aggfunc=lambda x: round(x.mean()),\n",
        "               fill_value=0, margins='All').astype(float)"
      ],
      "execution_count": 62,
      "outputs": [
        {
          "output_type": "stream",
          "text": [
            "\u001b[1m\u001b[94m\u001b[4m--- Rendimento Médio por Tipo de Moradia ---\u001b[0m\n"
          ],
          "name": "stdout"
        },
        {
          "output_type": "execute_result",
          "data": {
            "text/html": [
              "<div>\n",
              "<style scoped>\n",
              "    .dataframe tbody tr th:only-of-type {\n",
              "        vertical-align: middle;\n",
              "    }\n",
              "\n",
              "    .dataframe tbody tr th {\n",
              "        vertical-align: top;\n",
              "    }\n",
              "\n",
              "    .dataframe thead th {\n",
              "        text-align: right;\n",
              "    }\n",
              "</style>\n",
              "<table border=\"1\" class=\"dataframe\">\n",
              "  <thead>\n",
              "    <tr style=\"text-align: right;\">\n",
              "      <th>Tem_Casa_Propria</th>\n",
              "      <th>0</th>\n",
              "      <th>1</th>\n",
              "      <th>All</th>\n",
              "    </tr>\n",
              "    <tr>\n",
              "      <th>Moradia</th>\n",
              "      <th></th>\n",
              "      <th></th>\n",
              "      <th></th>\n",
              "    </tr>\n",
              "  </thead>\n",
              "  <tbody>\n",
              "    <tr>\n",
              "      <th>Alugado</th>\n",
              "      <td>179,300.00</td>\n",
              "      <td>184,951.00</td>\n",
              "      <td>181,885.00</td>\n",
              "    </tr>\n",
              "    <tr>\n",
              "      <th>Apartamento comercial</th>\n",
              "      <td>194,221.00</td>\n",
              "      <td>194,669.00</td>\n",
              "      <td>194,454.00</td>\n",
              "    </tr>\n",
              "    <tr>\n",
              "      <th>Casa propria</th>\n",
              "      <td>173,108.00</td>\n",
              "      <td>177,564.00</td>\n",
              "      <td>176,329.00</td>\n",
              "    </tr>\n",
              "    <tr>\n",
              "      <th>Cooperativa habitacional</th>\n",
              "      <td>177,821.00</td>\n",
              "      <td>176,608.00</td>\n",
              "      <td>177,034.00</td>\n",
              "    </tr>\n",
              "    <tr>\n",
              "      <th>Habitacao publica</th>\n",
              "      <td>176,610.00</td>\n",
              "      <td>184,176.00</td>\n",
              "      <td>179,725.00</td>\n",
              "    </tr>\n",
              "    <tr>\n",
              "      <th>Mora com os pais</th>\n",
              "      <td>167,031.00</td>\n",
              "      <td>173,899.00</td>\n",
              "      <td>169,711.00</td>\n",
              "    </tr>\n",
              "    <tr>\n",
              "      <th>All</th>\n",
              "      <td>173,251.00</td>\n",
              "      <td>177,777.00</td>\n",
              "      <td>176,385.00</td>\n",
              "    </tr>\n",
              "  </tbody>\n",
              "</table>\n",
              "</div>"
            ],
            "text/plain": [
              "Tem_Casa_Propria                  0          1        All\n",
              "Moradia                                                  \n",
              "Alugado                  179,300.00 184,951.00 181,885.00\n",
              "Apartamento comercial    194,221.00 194,669.00 194,454.00\n",
              "Casa propria             173,108.00 177,564.00 176,329.00\n",
              "Cooperativa habitacional 177,821.00 176,608.00 177,034.00\n",
              "Habitacao publica        176,610.00 184,176.00 179,725.00\n",
              "Mora com os pais         167,031.00 173,899.00 169,711.00\n",
              "All                      173,251.00 177,777.00 176,385.00"
            ]
          },
          "metadata": {},
          "execution_count": 62
        }
      ]
    },
    {
      "cell_type": "code",
      "metadata": {
        "colab": {
          "base_uri": "https://localhost:8080/",
          "height": 317
        },
        "id": "s6JK_cYOdMDs",
        "outputId": "519cde8c-b9aa-4782-bd26-b8ebd1544743"
      },
      "source": [
        "print(color.BOLD+color.BLUE+color.UNDERLINE+'--- Quantidade de Clientes por Tipo de Moradia ---'+color.END)\n",
        "\n",
        "dados_cad_sem_outliers.pivot_table(values='ID_Cliente', index=['Moradia'],\n",
        "               columns=['Tem_Casa_Propria'], aggfunc='count',\n",
        "               fill_value=0, margins='All').astype(float)"
      ],
      "execution_count": 63,
      "outputs": [
        {
          "output_type": "stream",
          "text": [
            "\u001b[1m\u001b[94m\u001b[4m--- Quantidade de Clientes por Tipo de Moradia ---\u001b[0m\n"
          ],
          "name": "stdout"
        },
        {
          "output_type": "execute_result",
          "data": {
            "text/html": [
              "<div>\n",
              "<style scoped>\n",
              "    .dataframe tbody tr th:only-of-type {\n",
              "        vertical-align: middle;\n",
              "    }\n",
              "\n",
              "    .dataframe tbody tr th {\n",
              "        vertical-align: top;\n",
              "    }\n",
              "\n",
              "    .dataframe thead th {\n",
              "        text-align: right;\n",
              "    }\n",
              "</style>\n",
              "<table border=\"1\" class=\"dataframe\">\n",
              "  <thead>\n",
              "    <tr style=\"text-align: right;\">\n",
              "      <th>Tem_Casa_Propria</th>\n",
              "      <th>0</th>\n",
              "      <th>1</th>\n",
              "      <th>All</th>\n",
              "    </tr>\n",
              "    <tr>\n",
              "      <th>Moradia</th>\n",
              "      <th></th>\n",
              "      <th></th>\n",
              "      <th></th>\n",
              "    </tr>\n",
              "  </thead>\n",
              "  <tbody>\n",
              "    <tr>\n",
              "      <th>Alugado</th>\n",
              "      <td>3,163.00</td>\n",
              "      <td>2,667.00</td>\n",
              "      <td>5,830.00</td>\n",
              "    </tr>\n",
              "    <tr>\n",
              "      <th>Apartamento comercial</th>\n",
              "      <td>1,766.00</td>\n",
              "      <td>1,922.00</td>\n",
              "      <td>3,688.00</td>\n",
              "    </tr>\n",
              "    <tr>\n",
              "      <th>Casa propria</th>\n",
              "      <td>106,005.00</td>\n",
              "      <td>276,329.00</td>\n",
              "      <td>382,334.00</td>\n",
              "    </tr>\n",
              "    <tr>\n",
              "      <th>Cooperativa habitacional</th>\n",
              "      <td>523.00</td>\n",
              "      <td>964.00</td>\n",
              "      <td>1,487.00</td>\n",
              "    </tr>\n",
              "    <tr>\n",
              "      <th>Habitacao publica</th>\n",
              "      <td>8,135.00</td>\n",
              "      <td>5,693.00</td>\n",
              "      <td>13,828.00</td>\n",
              "    </tr>\n",
              "    <tr>\n",
              "      <th>Mora com os pais</th>\n",
              "      <td>11,376.00</td>\n",
              "      <td>7,279.00</td>\n",
              "      <td>18,655.00</td>\n",
              "    </tr>\n",
              "    <tr>\n",
              "      <th>All</th>\n",
              "      <td>130,968.00</td>\n",
              "      <td>294,854.00</td>\n",
              "      <td>425,822.00</td>\n",
              "    </tr>\n",
              "  </tbody>\n",
              "</table>\n",
              "</div>"
            ],
            "text/plain": [
              "Tem_Casa_Propria                  0          1        All\n",
              "Moradia                                                  \n",
              "Alugado                    3,163.00   2,667.00   5,830.00\n",
              "Apartamento comercial      1,766.00   1,922.00   3,688.00\n",
              "Casa propria             106,005.00 276,329.00 382,334.00\n",
              "Cooperativa habitacional     523.00     964.00   1,487.00\n",
              "Habitacao publica          8,135.00   5,693.00  13,828.00\n",
              "Mora com os pais          11,376.00   7,279.00  18,655.00\n",
              "All                      130,968.00 294,854.00 425,822.00"
            ]
          },
          "metadata": {},
          "execution_count": 63
        }
      ]
    },
    {
      "cell_type": "markdown",
      "metadata": {
        "id": "TKDjVmHtpafN"
      },
      "source": [
        "As duas últimas tabelas chamam a atenção para uma aparente contradição.\n",
        "\n",
        "Vários clientes (quase 20 mil) que declararam possuir casa própria também declararam que moram em local alugado, com os pais ou outras modalidades diferentes de casa própria.\n",
        "\n",
        "E vários clientes (mais de 100 mil) que declararam morar em casa própria mas também declararam que não a possuem."
      ]
    },
    {
      "cell_type": "markdown",
      "metadata": {
        "id": "Fj0pElJVkns5"
      },
      "source": [
        "#### **O que aprendemos nessa aula?**\n",
        "---\n",
        "\n",
        ">* **Variáveis Contínuas:**\n",
        ">\n",
        ">  * Identificar e Diferenciar Variáveis Contínuas, Categóricas Binárias e Categóricas Não Binárias;\n",
        ">  * Tratamento de *Outliers*.\n",
        ">\n",
        ">* **Variáveis Categóricas:**\n",
        ">\n",
        ">  * Visualizar a distribuição de algumas variáveis categóricas através de histogramas;\n",
        ">  * Limitações legais para um modelo de crédito.\n",
        "---\n",
        "\n",
        "\n",
        "\n",
        "\n",
        "\n",
        "\n",
        "\n",
        "\n",
        "\n",
        "\n"
      ]
    },
    {
      "cell_type": "markdown",
      "metadata": {
        "id": "0WIrvwWHyINt"
      },
      "source": [
        "## **Aula 03 - Definindo a Classificação de Clientes**\n",
        "---\n"
      ]
    },
    {
      "cell_type": "markdown",
      "metadata": {
        "id": "kjuhjdiV3CO_"
      },
      "source": [
        "### **Vídeo 1 - Conhecendo a Base** ***Target***"
      ]
    },
    {
      "cell_type": "markdown",
      "metadata": {
        "id": "wnSzanCovIVo"
      },
      "source": [
        "Vamos começar a analisar agora a base de clientes aprovados."
      ]
    },
    {
      "cell_type": "code",
      "metadata": {
        "colab": {
          "base_uri": "https://localhost:8080/",
          "height": 205
        },
        "id": "aaZFY8bcvM9N",
        "outputId": "f9f5814a-f8e7-46b5-8df7-fbfc334feb08"
      },
      "source": [
        "dados_aprovados.head()"
      ],
      "execution_count": 64,
      "outputs": [
        {
          "output_type": "execute_result",
          "data": {
            "text/html": [
              "<div>\n",
              "<style scoped>\n",
              "    .dataframe tbody tr th:only-of-type {\n",
              "        vertical-align: middle;\n",
              "    }\n",
              "\n",
              "    .dataframe tbody tr th {\n",
              "        vertical-align: top;\n",
              "    }\n",
              "\n",
              "    .dataframe thead th {\n",
              "        text-align: right;\n",
              "    }\n",
              "</style>\n",
              "<table border=\"1\" class=\"dataframe\">\n",
              "  <thead>\n",
              "    <tr style=\"text-align: right;\">\n",
              "      <th></th>\n",
              "      <th>ID_Cliente</th>\n",
              "      <th>Mes_referencia</th>\n",
              "      <th>Faixa_atraso</th>\n",
              "    </tr>\n",
              "  </thead>\n",
              "  <tbody>\n",
              "    <tr>\n",
              "      <th>0</th>\n",
              "      <td>5001711</td>\n",
              "      <td>0</td>\n",
              "      <td>nenhum empréstimo</td>\n",
              "    </tr>\n",
              "    <tr>\n",
              "      <th>1</th>\n",
              "      <td>5001711</td>\n",
              "      <td>-1</td>\n",
              "      <td>1-29 dias</td>\n",
              "    </tr>\n",
              "    <tr>\n",
              "      <th>2</th>\n",
              "      <td>5001711</td>\n",
              "      <td>-2</td>\n",
              "      <td>1-29 dias</td>\n",
              "    </tr>\n",
              "    <tr>\n",
              "      <th>3</th>\n",
              "      <td>5001711</td>\n",
              "      <td>-3</td>\n",
              "      <td>1-29 dias</td>\n",
              "    </tr>\n",
              "    <tr>\n",
              "      <th>4</th>\n",
              "      <td>5001712</td>\n",
              "      <td>0</td>\n",
              "      <td>pagamento realizado</td>\n",
              "    </tr>\n",
              "  </tbody>\n",
              "</table>\n",
              "</div>"
            ],
            "text/plain": [
              "   ID_Cliente  Mes_referencia         Faixa_atraso\n",
              "0     5001711               0    nenhum empréstimo\n",
              "1     5001711              -1            1-29 dias\n",
              "2     5001711              -2            1-29 dias\n",
              "3     5001711              -3            1-29 dias\n",
              "4     5001712               0  pagamento realizado"
            ]
          },
          "metadata": {},
          "execution_count": 64
        }
      ]
    },
    {
      "cell_type": "code",
      "metadata": {
        "colab": {
          "base_uri": "https://localhost:8080/"
        },
        "id": "dH4T3epnvO_-",
        "outputId": "b6d5be61-dee9-4a46-c407-6d8257160dc3"
      },
      "source": [
        "dados_aprovados.info()"
      ],
      "execution_count": 65,
      "outputs": [
        {
          "output_type": "stream",
          "text": [
            "<class 'pandas.core.frame.DataFrame'>\n",
            "RangeIndex: 1048575 entries, 0 to 1048574\n",
            "Data columns (total 3 columns):\n",
            " #   Column          Non-Null Count    Dtype \n",
            "---  ------          --------------    ----- \n",
            " 0   ID_Cliente      1048575 non-null  int64 \n",
            " 1   Mes_referencia  1048575 non-null  int64 \n",
            " 2   Faixa_atraso    1048575 non-null  object\n",
            "dtypes: int64(2), object(1)\n",
            "memory usage: 24.0+ MB\n"
          ],
          "name": "stdout"
        }
      ]
    },
    {
      "cell_type": "code",
      "metadata": {
        "colab": {
          "base_uri": "https://localhost:8080/"
        },
        "id": "c0xdzPnywl6h",
        "outputId": "ddcb61e5-e295-4c5d-8f9d-12c01bd8f759"
      },
      "source": [
        "for var in dados_aprovados.columns:\n",
        "    print(color.BOLD+var,'-',len(np.sort(dados_aprovados[var].unique())),\n",
        "          'Valores Únicos:'+color.END, str(np.sort(dados_aprovados[var].unique()))+'\\n')"
      ],
      "execution_count": 66,
      "outputs": [
        {
          "output_type": "stream",
          "text": [
            "\u001b[1mID_Cliente - 45985 Valores Únicos:\u001b[0m [5001711 5001712 5001713 ... 5150484 5150485 5150487]\n",
            "\n",
            "\u001b[1mMes_referencia - 61 Valores Únicos:\u001b[0m [-60 -59 -58 -57 -56 -55 -54 -53 -52 -51 -50 -49 -48 -47 -46 -45 -44 -43\n",
            " -42 -41 -40 -39 -38 -37 -36 -35 -34 -33 -32 -31 -30 -29 -28 -27 -26 -25\n",
            " -24 -23 -22 -21 -20 -19 -18 -17 -16 -15 -14 -13 -12 -11 -10  -9  -8  -7\n",
            "  -6  -5  -4  -3  -2  -1   0]\n",
            "\n",
            "\u001b[1mFaixa_atraso - 8 Valores Únicos:\u001b[0m ['1-29 dias' '120-149 dias' '30-59 dias' '60-89 dias' '90-119 dias'\n",
            " '>150 dias' 'nenhum empréstimo' 'pagamento realizado']\n",
            "\n"
          ],
          "name": "stdout"
        }
      ]
    },
    {
      "cell_type": "markdown",
      "metadata": {
        "id": "jXjfrFwp0GIP"
      },
      "source": [
        "Podemos observar que temos pouco menos de 46 mil clientes (enquanto na base de cadastrados temos mais de 425 mil), ou seja, nem todos os clientes cadastrados tiveram empréstimos aprovados (ou nem solicitaram).\n",
        "\n",
        "Em relação ao **`Mes_referencia`** temos os valores variando entre 0 e -60.\n",
        "\n",
        "Em relação à **`Faixa_atraso`** temos 8 classificações, sendo 6 relacionadas a pagamento em atraso (1 a 5 meses e acima de 5 meses), uma de pagamento realizado e uma de \"nenhum empréstimo\".\n",
        "\n",
        "Vamos investigar um cliente único para ver como os dados se comportam."
      ]
    },
    {
      "cell_type": "code",
      "metadata": {
        "colab": {
          "base_uri": "https://localhost:8080/",
          "height": 643
        },
        "id": "2IEB83FRwrSv",
        "outputId": "45b97100-d908-40fe-badd-02c994c0b587"
      },
      "source": [
        "dados_aprovados.query('ID_Cliente == 5001712')"
      ],
      "execution_count": 67,
      "outputs": [
        {
          "output_type": "execute_result",
          "data": {
            "text/html": [
              "<div>\n",
              "<style scoped>\n",
              "    .dataframe tbody tr th:only-of-type {\n",
              "        vertical-align: middle;\n",
              "    }\n",
              "\n",
              "    .dataframe tbody tr th {\n",
              "        vertical-align: top;\n",
              "    }\n",
              "\n",
              "    .dataframe thead th {\n",
              "        text-align: right;\n",
              "    }\n",
              "</style>\n",
              "<table border=\"1\" class=\"dataframe\">\n",
              "  <thead>\n",
              "    <tr style=\"text-align: right;\">\n",
              "      <th></th>\n",
              "      <th>ID_Cliente</th>\n",
              "      <th>Mes_referencia</th>\n",
              "      <th>Faixa_atraso</th>\n",
              "    </tr>\n",
              "  </thead>\n",
              "  <tbody>\n",
              "    <tr>\n",
              "      <th>4</th>\n",
              "      <td>5001712</td>\n",
              "      <td>0</td>\n",
              "      <td>pagamento realizado</td>\n",
              "    </tr>\n",
              "    <tr>\n",
              "      <th>5</th>\n",
              "      <td>5001712</td>\n",
              "      <td>-1</td>\n",
              "      <td>pagamento realizado</td>\n",
              "    </tr>\n",
              "    <tr>\n",
              "      <th>6</th>\n",
              "      <td>5001712</td>\n",
              "      <td>-2</td>\n",
              "      <td>pagamento realizado</td>\n",
              "    </tr>\n",
              "    <tr>\n",
              "      <th>7</th>\n",
              "      <td>5001712</td>\n",
              "      <td>-3</td>\n",
              "      <td>pagamento realizado</td>\n",
              "    </tr>\n",
              "    <tr>\n",
              "      <th>8</th>\n",
              "      <td>5001712</td>\n",
              "      <td>-4</td>\n",
              "      <td>pagamento realizado</td>\n",
              "    </tr>\n",
              "    <tr>\n",
              "      <th>9</th>\n",
              "      <td>5001712</td>\n",
              "      <td>-5</td>\n",
              "      <td>pagamento realizado</td>\n",
              "    </tr>\n",
              "    <tr>\n",
              "      <th>10</th>\n",
              "      <td>5001712</td>\n",
              "      <td>-6</td>\n",
              "      <td>pagamento realizado</td>\n",
              "    </tr>\n",
              "    <tr>\n",
              "      <th>11</th>\n",
              "      <td>5001712</td>\n",
              "      <td>-7</td>\n",
              "      <td>pagamento realizado</td>\n",
              "    </tr>\n",
              "    <tr>\n",
              "      <th>12</th>\n",
              "      <td>5001712</td>\n",
              "      <td>-8</td>\n",
              "      <td>pagamento realizado</td>\n",
              "    </tr>\n",
              "    <tr>\n",
              "      <th>13</th>\n",
              "      <td>5001712</td>\n",
              "      <td>-9</td>\n",
              "      <td>1-29 dias</td>\n",
              "    </tr>\n",
              "    <tr>\n",
              "      <th>14</th>\n",
              "      <td>5001712</td>\n",
              "      <td>-10</td>\n",
              "      <td>1-29 dias</td>\n",
              "    </tr>\n",
              "    <tr>\n",
              "      <th>15</th>\n",
              "      <td>5001712</td>\n",
              "      <td>-11</td>\n",
              "      <td>1-29 dias</td>\n",
              "    </tr>\n",
              "    <tr>\n",
              "      <th>16</th>\n",
              "      <td>5001712</td>\n",
              "      <td>-12</td>\n",
              "      <td>1-29 dias</td>\n",
              "    </tr>\n",
              "    <tr>\n",
              "      <th>17</th>\n",
              "      <td>5001712</td>\n",
              "      <td>-13</td>\n",
              "      <td>1-29 dias</td>\n",
              "    </tr>\n",
              "    <tr>\n",
              "      <th>18</th>\n",
              "      <td>5001712</td>\n",
              "      <td>-14</td>\n",
              "      <td>1-29 dias</td>\n",
              "    </tr>\n",
              "    <tr>\n",
              "      <th>19</th>\n",
              "      <td>5001712</td>\n",
              "      <td>-15</td>\n",
              "      <td>1-29 dias</td>\n",
              "    </tr>\n",
              "    <tr>\n",
              "      <th>20</th>\n",
              "      <td>5001712</td>\n",
              "      <td>-16</td>\n",
              "      <td>1-29 dias</td>\n",
              "    </tr>\n",
              "    <tr>\n",
              "      <th>21</th>\n",
              "      <td>5001712</td>\n",
              "      <td>-17</td>\n",
              "      <td>1-29 dias</td>\n",
              "    </tr>\n",
              "    <tr>\n",
              "      <th>22</th>\n",
              "      <td>5001712</td>\n",
              "      <td>-18</td>\n",
              "      <td>1-29 dias</td>\n",
              "    </tr>\n",
              "  </tbody>\n",
              "</table>\n",
              "</div>"
            ],
            "text/plain": [
              "    ID_Cliente  Mes_referencia         Faixa_atraso\n",
              "4      5001712               0  pagamento realizado\n",
              "5      5001712              -1  pagamento realizado\n",
              "6      5001712              -2  pagamento realizado\n",
              "7      5001712              -3  pagamento realizado\n",
              "8      5001712              -4  pagamento realizado\n",
              "9      5001712              -5  pagamento realizado\n",
              "10     5001712              -6  pagamento realizado\n",
              "11     5001712              -7  pagamento realizado\n",
              "12     5001712              -8  pagamento realizado\n",
              "13     5001712              -9            1-29 dias\n",
              "14     5001712             -10            1-29 dias\n",
              "15     5001712             -11            1-29 dias\n",
              "16     5001712             -12            1-29 dias\n",
              "17     5001712             -13            1-29 dias\n",
              "18     5001712             -14            1-29 dias\n",
              "19     5001712             -15            1-29 dias\n",
              "20     5001712             -16            1-29 dias\n",
              "21     5001712             -17            1-29 dias\n",
              "22     5001712             -18            1-29 dias"
            ]
          },
          "metadata": {},
          "execution_count": 67
        }
      ]
    },
    {
      "cell_type": "markdown",
      "metadata": {
        "id": "i_hvRAnP3L3g"
      },
      "source": [
        "Temos um bom histórico, de mais de um ano de pagamento de parcelas. Algumas foram pagas em dia e outras, em atraso.\n",
        "\n",
        "Vamos analisar um outro cliente, o **5001711**."
      ]
    },
    {
      "cell_type": "code",
      "metadata": {
        "colab": {
          "base_uri": "https://localhost:8080/",
          "height": 175
        },
        "id": "IS5m0Ooo1NK6",
        "outputId": "b5a43808-8c06-485a-aff8-7c900dd1e7ee"
      },
      "source": [
        "dados_aprovados.query('ID_Cliente == 5001711')"
      ],
      "execution_count": 68,
      "outputs": [
        {
          "output_type": "execute_result",
          "data": {
            "text/html": [
              "<div>\n",
              "<style scoped>\n",
              "    .dataframe tbody tr th:only-of-type {\n",
              "        vertical-align: middle;\n",
              "    }\n",
              "\n",
              "    .dataframe tbody tr th {\n",
              "        vertical-align: top;\n",
              "    }\n",
              "\n",
              "    .dataframe thead th {\n",
              "        text-align: right;\n",
              "    }\n",
              "</style>\n",
              "<table border=\"1\" class=\"dataframe\">\n",
              "  <thead>\n",
              "    <tr style=\"text-align: right;\">\n",
              "      <th></th>\n",
              "      <th>ID_Cliente</th>\n",
              "      <th>Mes_referencia</th>\n",
              "      <th>Faixa_atraso</th>\n",
              "    </tr>\n",
              "  </thead>\n",
              "  <tbody>\n",
              "    <tr>\n",
              "      <th>0</th>\n",
              "      <td>5001711</td>\n",
              "      <td>0</td>\n",
              "      <td>nenhum empréstimo</td>\n",
              "    </tr>\n",
              "    <tr>\n",
              "      <th>1</th>\n",
              "      <td>5001711</td>\n",
              "      <td>-1</td>\n",
              "      <td>1-29 dias</td>\n",
              "    </tr>\n",
              "    <tr>\n",
              "      <th>2</th>\n",
              "      <td>5001711</td>\n",
              "      <td>-2</td>\n",
              "      <td>1-29 dias</td>\n",
              "    </tr>\n",
              "    <tr>\n",
              "      <th>3</th>\n",
              "      <td>5001711</td>\n",
              "      <td>-3</td>\n",
              "      <td>1-29 dias</td>\n",
              "    </tr>\n",
              "  </tbody>\n",
              "</table>\n",
              "</div>"
            ],
            "text/plain": [
              "   ID_Cliente  Mes_referencia       Faixa_atraso\n",
              "0     5001711               0  nenhum empréstimo\n",
              "1     5001711              -1          1-29 dias\n",
              "2     5001711              -2          1-29 dias\n",
              "3     5001711              -3          1-29 dias"
            ]
          },
          "metadata": {},
          "execution_count": 68
        }
      ]
    },
    {
      "cell_type": "markdown",
      "metadata": {
        "id": "F3OLymIp3d-l"
      },
      "source": [
        "Nesse caso nosso histórico é bem menor, apenas 4 meses.\n",
        "\n",
        "Além disso, não fica claro se a parcela do mês -1 já foi paga ou ainda está em aberto.\n",
        "\n",
        "De qualquer forma, as informações ainda são insuficientes para classificar um cliente como bom ou mau pagador."
      ]
    },
    {
      "cell_type": "markdown",
      "metadata": {
        "id": "DHlLtIK14KVf"
      },
      "source": [
        "### **Vídeo 2 - Criando Medidas Auxiliares**"
      ]
    },
    {
      "cell_type": "markdown",
      "metadata": {
        "id": "ntaTaEBL-x2H"
      },
      "source": [
        "A partir dos dados que temos nesse *dataset* vamos criar algumas variáveis auxiliares que irão nos ajudar a montar o modelo de decisão mais adiante.\n",
        "\n",
        "A primeira variável é o mês de abertura do crédito, que vai ser o menor valor encontrado na variável **`Mes_referencia`** de cada cliente."
      ]
    },
    {
      "cell_type": "code",
      "metadata": {
        "id": "5q7XMp1U3dAC"
      },
      "source": [
        "ser_abertura = dados_aprovados.groupby('ID_Cliente').apply(lambda x: min(x['Mes_referencia']))\n",
        "ser_abertura.name = 'Abertura'"
      ],
      "execution_count": 69,
      "outputs": []
    },
    {
      "cell_type": "code",
      "metadata": {
        "colab": {
          "base_uri": "https://localhost:8080/",
          "height": 205
        },
        "id": "CTQ39kbs6Y_n",
        "outputId": "8bed1623-7839-43d9-e622-71f3646acb8c"
      },
      "source": [
        "dados_aprovados = dados_aprovados.merge(ser_abertura, on='ID_Cliente')\n",
        "dados_aprovados.head()"
      ],
      "execution_count": 70,
      "outputs": [
        {
          "output_type": "execute_result",
          "data": {
            "text/html": [
              "<div>\n",
              "<style scoped>\n",
              "    .dataframe tbody tr th:only-of-type {\n",
              "        vertical-align: middle;\n",
              "    }\n",
              "\n",
              "    .dataframe tbody tr th {\n",
              "        vertical-align: top;\n",
              "    }\n",
              "\n",
              "    .dataframe thead th {\n",
              "        text-align: right;\n",
              "    }\n",
              "</style>\n",
              "<table border=\"1\" class=\"dataframe\">\n",
              "  <thead>\n",
              "    <tr style=\"text-align: right;\">\n",
              "      <th></th>\n",
              "      <th>ID_Cliente</th>\n",
              "      <th>Mes_referencia</th>\n",
              "      <th>Faixa_atraso</th>\n",
              "      <th>Abertura</th>\n",
              "    </tr>\n",
              "  </thead>\n",
              "  <tbody>\n",
              "    <tr>\n",
              "      <th>0</th>\n",
              "      <td>5001711</td>\n",
              "      <td>0</td>\n",
              "      <td>nenhum empréstimo</td>\n",
              "      <td>-3</td>\n",
              "    </tr>\n",
              "    <tr>\n",
              "      <th>1</th>\n",
              "      <td>5001711</td>\n",
              "      <td>-1</td>\n",
              "      <td>1-29 dias</td>\n",
              "      <td>-3</td>\n",
              "    </tr>\n",
              "    <tr>\n",
              "      <th>2</th>\n",
              "      <td>5001711</td>\n",
              "      <td>-2</td>\n",
              "      <td>1-29 dias</td>\n",
              "      <td>-3</td>\n",
              "    </tr>\n",
              "    <tr>\n",
              "      <th>3</th>\n",
              "      <td>5001711</td>\n",
              "      <td>-3</td>\n",
              "      <td>1-29 dias</td>\n",
              "      <td>-3</td>\n",
              "    </tr>\n",
              "    <tr>\n",
              "      <th>4</th>\n",
              "      <td>5001712</td>\n",
              "      <td>0</td>\n",
              "      <td>pagamento realizado</td>\n",
              "      <td>-18</td>\n",
              "    </tr>\n",
              "  </tbody>\n",
              "</table>\n",
              "</div>"
            ],
            "text/plain": [
              "   ID_Cliente  Mes_referencia         Faixa_atraso  Abertura\n",
              "0     5001711               0    nenhum empréstimo        -3\n",
              "1     5001711              -1            1-29 dias        -3\n",
              "2     5001711              -2            1-29 dias        -3\n",
              "3     5001711              -3            1-29 dias        -3\n",
              "4     5001712               0  pagamento realizado       -18"
            ]
          },
          "metadata": {},
          "execution_count": 70
        }
      ]
    },
    {
      "cell_type": "markdown",
      "metadata": {
        "id": "i4qMGqcm_I9S"
      },
      "source": [
        "A próxima variável que iremos criar é a data final do empréstimo, que para a grande maioria deverá ser o mês atual (0), mas podemos ter clientes que já quitaram seu empréstimo e pararam de ter atualizações.\n",
        "\n",
        "Para isso vamos buscar o maior valor de cada cliente para a variável **`Mes_referencia`**."
      ]
    },
    {
      "cell_type": "code",
      "metadata": {
        "id": "czw2w-l363VK"
      },
      "source": [
        "ser_final = dados_aprovados.groupby('ID_Cliente').apply(lambda x: max(x['Mes_referencia']))\n",
        "ser_final.name = 'Final'"
      ],
      "execution_count": 71,
      "outputs": []
    },
    {
      "cell_type": "code",
      "metadata": {
        "colab": {
          "base_uri": "https://localhost:8080/",
          "height": 205
        },
        "id": "eIx7a02_8VIE",
        "outputId": "9b11601a-75d4-4e91-98e6-2b5a181a8af7"
      },
      "source": [
        "dados_aprovados = dados_aprovados.merge(ser_final, on='ID_Cliente')\n",
        "dados_aprovados.head()"
      ],
      "execution_count": 72,
      "outputs": [
        {
          "output_type": "execute_result",
          "data": {
            "text/html": [
              "<div>\n",
              "<style scoped>\n",
              "    .dataframe tbody tr th:only-of-type {\n",
              "        vertical-align: middle;\n",
              "    }\n",
              "\n",
              "    .dataframe tbody tr th {\n",
              "        vertical-align: top;\n",
              "    }\n",
              "\n",
              "    .dataframe thead th {\n",
              "        text-align: right;\n",
              "    }\n",
              "</style>\n",
              "<table border=\"1\" class=\"dataframe\">\n",
              "  <thead>\n",
              "    <tr style=\"text-align: right;\">\n",
              "      <th></th>\n",
              "      <th>ID_Cliente</th>\n",
              "      <th>Mes_referencia</th>\n",
              "      <th>Faixa_atraso</th>\n",
              "      <th>Abertura</th>\n",
              "      <th>Final</th>\n",
              "    </tr>\n",
              "  </thead>\n",
              "  <tbody>\n",
              "    <tr>\n",
              "      <th>0</th>\n",
              "      <td>5001711</td>\n",
              "      <td>0</td>\n",
              "      <td>nenhum empréstimo</td>\n",
              "      <td>-3</td>\n",
              "      <td>0</td>\n",
              "    </tr>\n",
              "    <tr>\n",
              "      <th>1</th>\n",
              "      <td>5001711</td>\n",
              "      <td>-1</td>\n",
              "      <td>1-29 dias</td>\n",
              "      <td>-3</td>\n",
              "      <td>0</td>\n",
              "    </tr>\n",
              "    <tr>\n",
              "      <th>2</th>\n",
              "      <td>5001711</td>\n",
              "      <td>-2</td>\n",
              "      <td>1-29 dias</td>\n",
              "      <td>-3</td>\n",
              "      <td>0</td>\n",
              "    </tr>\n",
              "    <tr>\n",
              "      <th>3</th>\n",
              "      <td>5001711</td>\n",
              "      <td>-3</td>\n",
              "      <td>1-29 dias</td>\n",
              "      <td>-3</td>\n",
              "      <td>0</td>\n",
              "    </tr>\n",
              "    <tr>\n",
              "      <th>4</th>\n",
              "      <td>5001712</td>\n",
              "      <td>0</td>\n",
              "      <td>pagamento realizado</td>\n",
              "      <td>-18</td>\n",
              "      <td>0</td>\n",
              "    </tr>\n",
              "  </tbody>\n",
              "</table>\n",
              "</div>"
            ],
            "text/plain": [
              "   ID_Cliente  Mes_referencia         Faixa_atraso  Abertura  Final\n",
              "0     5001711               0    nenhum empréstimo        -3      0\n",
              "1     5001711              -1            1-29 dias        -3      0\n",
              "2     5001711              -2            1-29 dias        -3      0\n",
              "3     5001711              -3            1-29 dias        -3      0\n",
              "4     5001712               0  pagamento realizado       -18      0"
            ]
          },
          "metadata": {},
          "execution_count": 72
        }
      ]
    },
    {
      "cell_type": "markdown",
      "metadata": {
        "id": "zEaImYuy_oFF"
      },
      "source": [
        "Tendo os meses de abertura e final de cada cliente, vamos calcular a janela de acompanhamento, ou seja, quantos meses de informações temos de cada cliente."
      ]
    },
    {
      "cell_type": "code",
      "metadata": {
        "colab": {
          "base_uri": "https://localhost:8080/",
          "height": 205
        },
        "id": "QJYtt2Os8xUA",
        "outputId": "2e673a1a-77bf-476b-d7c6-687c13bd90f5"
      },
      "source": [
        "dados_aprovados['Janela'] = dados_aprovados['Final'] - dados_aprovados['Abertura']\n",
        "dados_aprovados.head()"
      ],
      "execution_count": 73,
      "outputs": [
        {
          "output_type": "execute_result",
          "data": {
            "text/html": [
              "<div>\n",
              "<style scoped>\n",
              "    .dataframe tbody tr th:only-of-type {\n",
              "        vertical-align: middle;\n",
              "    }\n",
              "\n",
              "    .dataframe tbody tr th {\n",
              "        vertical-align: top;\n",
              "    }\n",
              "\n",
              "    .dataframe thead th {\n",
              "        text-align: right;\n",
              "    }\n",
              "</style>\n",
              "<table border=\"1\" class=\"dataframe\">\n",
              "  <thead>\n",
              "    <tr style=\"text-align: right;\">\n",
              "      <th></th>\n",
              "      <th>ID_Cliente</th>\n",
              "      <th>Mes_referencia</th>\n",
              "      <th>Faixa_atraso</th>\n",
              "      <th>Abertura</th>\n",
              "      <th>Final</th>\n",
              "      <th>Janela</th>\n",
              "    </tr>\n",
              "  </thead>\n",
              "  <tbody>\n",
              "    <tr>\n",
              "      <th>0</th>\n",
              "      <td>5001711</td>\n",
              "      <td>0</td>\n",
              "      <td>nenhum empréstimo</td>\n",
              "      <td>-3</td>\n",
              "      <td>0</td>\n",
              "      <td>3</td>\n",
              "    </tr>\n",
              "    <tr>\n",
              "      <th>1</th>\n",
              "      <td>5001711</td>\n",
              "      <td>-1</td>\n",
              "      <td>1-29 dias</td>\n",
              "      <td>-3</td>\n",
              "      <td>0</td>\n",
              "      <td>3</td>\n",
              "    </tr>\n",
              "    <tr>\n",
              "      <th>2</th>\n",
              "      <td>5001711</td>\n",
              "      <td>-2</td>\n",
              "      <td>1-29 dias</td>\n",
              "      <td>-3</td>\n",
              "      <td>0</td>\n",
              "      <td>3</td>\n",
              "    </tr>\n",
              "    <tr>\n",
              "      <th>3</th>\n",
              "      <td>5001711</td>\n",
              "      <td>-3</td>\n",
              "      <td>1-29 dias</td>\n",
              "      <td>-3</td>\n",
              "      <td>0</td>\n",
              "      <td>3</td>\n",
              "    </tr>\n",
              "    <tr>\n",
              "      <th>4</th>\n",
              "      <td>5001712</td>\n",
              "      <td>0</td>\n",
              "      <td>pagamento realizado</td>\n",
              "      <td>-18</td>\n",
              "      <td>0</td>\n",
              "      <td>18</td>\n",
              "    </tr>\n",
              "  </tbody>\n",
              "</table>\n",
              "</div>"
            ],
            "text/plain": [
              "   ID_Cliente  Mes_referencia         Faixa_atraso  Abertura  Final  Janela\n",
              "0     5001711               0    nenhum empréstimo        -3      0       3\n",
              "1     5001711              -1            1-29 dias        -3      0       3\n",
              "2     5001711              -2            1-29 dias        -3      0       3\n",
              "3     5001711              -3            1-29 dias        -3      0       3\n",
              "4     5001712               0  pagamento realizado       -18      0      18"
            ]
          },
          "metadata": {},
          "execution_count": 73
        }
      ]
    },
    {
      "cell_type": "markdown",
      "metadata": {
        "id": "nrV2ff2nBWTp"
      },
      "source": [
        "Vamos agora criar uma variável para armazenar a informação de *Months on Book* (MOB), que é uma métrica utilizada para acompanhar o número de meses que um empréstimo consta na contabilidade do banco que o concedeu."
      ]
    },
    {
      "cell_type": "code",
      "metadata": {
        "colab": {
          "base_uri": "https://localhost:8080/",
          "height": 205
        },
        "id": "I4lWWJKfBryF",
        "outputId": "c892d18b-606a-406a-fa41-add0e3130cd6"
      },
      "source": [
        "dados_aprovados['MOB'] = dados_aprovados['Mes_referencia'] - dados_aprovados['Abertura']\n",
        "dados_aprovados.head()"
      ],
      "execution_count": 74,
      "outputs": [
        {
          "output_type": "execute_result",
          "data": {
            "text/html": [
              "<div>\n",
              "<style scoped>\n",
              "    .dataframe tbody tr th:only-of-type {\n",
              "        vertical-align: middle;\n",
              "    }\n",
              "\n",
              "    .dataframe tbody tr th {\n",
              "        vertical-align: top;\n",
              "    }\n",
              "\n",
              "    .dataframe thead th {\n",
              "        text-align: right;\n",
              "    }\n",
              "</style>\n",
              "<table border=\"1\" class=\"dataframe\">\n",
              "  <thead>\n",
              "    <tr style=\"text-align: right;\">\n",
              "      <th></th>\n",
              "      <th>ID_Cliente</th>\n",
              "      <th>Mes_referencia</th>\n",
              "      <th>Faixa_atraso</th>\n",
              "      <th>Abertura</th>\n",
              "      <th>Final</th>\n",
              "      <th>Janela</th>\n",
              "      <th>MOB</th>\n",
              "    </tr>\n",
              "  </thead>\n",
              "  <tbody>\n",
              "    <tr>\n",
              "      <th>0</th>\n",
              "      <td>5001711</td>\n",
              "      <td>0</td>\n",
              "      <td>nenhum empréstimo</td>\n",
              "      <td>-3</td>\n",
              "      <td>0</td>\n",
              "      <td>3</td>\n",
              "      <td>3</td>\n",
              "    </tr>\n",
              "    <tr>\n",
              "      <th>1</th>\n",
              "      <td>5001711</td>\n",
              "      <td>-1</td>\n",
              "      <td>1-29 dias</td>\n",
              "      <td>-3</td>\n",
              "      <td>0</td>\n",
              "      <td>3</td>\n",
              "      <td>2</td>\n",
              "    </tr>\n",
              "    <tr>\n",
              "      <th>2</th>\n",
              "      <td>5001711</td>\n",
              "      <td>-2</td>\n",
              "      <td>1-29 dias</td>\n",
              "      <td>-3</td>\n",
              "      <td>0</td>\n",
              "      <td>3</td>\n",
              "      <td>1</td>\n",
              "    </tr>\n",
              "    <tr>\n",
              "      <th>3</th>\n",
              "      <td>5001711</td>\n",
              "      <td>-3</td>\n",
              "      <td>1-29 dias</td>\n",
              "      <td>-3</td>\n",
              "      <td>0</td>\n",
              "      <td>3</td>\n",
              "      <td>0</td>\n",
              "    </tr>\n",
              "    <tr>\n",
              "      <th>4</th>\n",
              "      <td>5001712</td>\n",
              "      <td>0</td>\n",
              "      <td>pagamento realizado</td>\n",
              "      <td>-18</td>\n",
              "      <td>0</td>\n",
              "      <td>18</td>\n",
              "      <td>18</td>\n",
              "    </tr>\n",
              "  </tbody>\n",
              "</table>\n",
              "</div>"
            ],
            "text/plain": [
              "   ID_Cliente  Mes_referencia         Faixa_atraso  ...  Final  Janela  MOB\n",
              "0     5001711               0    nenhum empréstimo  ...      0       3    3\n",
              "1     5001711              -1            1-29 dias  ...      0       3    2\n",
              "2     5001711              -2            1-29 dias  ...      0       3    1\n",
              "3     5001711              -3            1-29 dias  ...      0       3    0\n",
              "4     5001712               0  pagamento realizado  ...      0      18   18\n",
              "\n",
              "[5 rows x 7 columns]"
            ]
          },
          "metadata": {},
          "execution_count": 74
        }
      ]
    },
    {
      "cell_type": "markdown",
      "metadata": {
        "id": "XKwZuqJA7dI6"
      },
      "source": [
        "Vamos converter os dados referentes à faixa de atraso de cada parcela para dados numéricos, de forma a permitir o uso por modelos de *machine learning*."
      ]
    },
    {
      "cell_type": "code",
      "metadata": {
        "id": "6sSnS0w49myS"
      },
      "source": [
        "dict_faixa_atraso_ind ={'nenhum empréstimo': 0, 'pagamento realizado': 1,\n",
        "                        '1-29 dias': 2, '30-59 dias': 3, '60-89 dias': 4,\n",
        "                        '90-119 dias': 5, '120-149 dias': 6, '>150 dias': 7}"
      ],
      "execution_count": 75,
      "outputs": []
    },
    {
      "cell_type": "code",
      "metadata": {
        "colab": {
          "base_uri": "https://localhost:8080/",
          "height": 205
        },
        "id": "j0sqlrbk9y8d",
        "outputId": "e66832a6-dae9-430b-9fac-f5938c514904"
      },
      "source": [
        "dados_aprovados['Ind_Faixa_atraso'] = dados_aprovados['Faixa_atraso'].map(dict_faixa_atraso_ind)\n",
        "dados_aprovados.head()"
      ],
      "execution_count": 76,
      "outputs": [
        {
          "output_type": "execute_result",
          "data": {
            "text/html": [
              "<div>\n",
              "<style scoped>\n",
              "    .dataframe tbody tr th:only-of-type {\n",
              "        vertical-align: middle;\n",
              "    }\n",
              "\n",
              "    .dataframe tbody tr th {\n",
              "        vertical-align: top;\n",
              "    }\n",
              "\n",
              "    .dataframe thead th {\n",
              "        text-align: right;\n",
              "    }\n",
              "</style>\n",
              "<table border=\"1\" class=\"dataframe\">\n",
              "  <thead>\n",
              "    <tr style=\"text-align: right;\">\n",
              "      <th></th>\n",
              "      <th>ID_Cliente</th>\n",
              "      <th>Mes_referencia</th>\n",
              "      <th>Faixa_atraso</th>\n",
              "      <th>Abertura</th>\n",
              "      <th>Final</th>\n",
              "      <th>Janela</th>\n",
              "      <th>MOB</th>\n",
              "      <th>Ind_Faixa_atraso</th>\n",
              "    </tr>\n",
              "  </thead>\n",
              "  <tbody>\n",
              "    <tr>\n",
              "      <th>0</th>\n",
              "      <td>5001711</td>\n",
              "      <td>0</td>\n",
              "      <td>nenhum empréstimo</td>\n",
              "      <td>-3</td>\n",
              "      <td>0</td>\n",
              "      <td>3</td>\n",
              "      <td>3</td>\n",
              "      <td>0</td>\n",
              "    </tr>\n",
              "    <tr>\n",
              "      <th>1</th>\n",
              "      <td>5001711</td>\n",
              "      <td>-1</td>\n",
              "      <td>1-29 dias</td>\n",
              "      <td>-3</td>\n",
              "      <td>0</td>\n",
              "      <td>3</td>\n",
              "      <td>2</td>\n",
              "      <td>2</td>\n",
              "    </tr>\n",
              "    <tr>\n",
              "      <th>2</th>\n",
              "      <td>5001711</td>\n",
              "      <td>-2</td>\n",
              "      <td>1-29 dias</td>\n",
              "      <td>-3</td>\n",
              "      <td>0</td>\n",
              "      <td>3</td>\n",
              "      <td>1</td>\n",
              "      <td>2</td>\n",
              "    </tr>\n",
              "    <tr>\n",
              "      <th>3</th>\n",
              "      <td>5001711</td>\n",
              "      <td>-3</td>\n",
              "      <td>1-29 dias</td>\n",
              "      <td>-3</td>\n",
              "      <td>0</td>\n",
              "      <td>3</td>\n",
              "      <td>0</td>\n",
              "      <td>2</td>\n",
              "    </tr>\n",
              "    <tr>\n",
              "      <th>4</th>\n",
              "      <td>5001712</td>\n",
              "      <td>0</td>\n",
              "      <td>pagamento realizado</td>\n",
              "      <td>-18</td>\n",
              "      <td>0</td>\n",
              "      <td>18</td>\n",
              "      <td>18</td>\n",
              "      <td>1</td>\n",
              "    </tr>\n",
              "  </tbody>\n",
              "</table>\n",
              "</div>"
            ],
            "text/plain": [
              "   ID_Cliente  Mes_referencia  ... MOB  Ind_Faixa_atraso\n",
              "0     5001711               0  ...   3                 0\n",
              "1     5001711              -1  ...   2                 2\n",
              "2     5001711              -2  ...   1                 2\n",
              "3     5001711              -3  ...   0                 2\n",
              "4     5001712               0  ...  18                 1\n",
              "\n",
              "[5 rows x 8 columns]"
            ]
          },
          "metadata": {},
          "execution_count": 76
        }
      ]
    },
    {
      "cell_type": "markdown",
      "metadata": {
        "id": "o0ANocm47p_b"
      },
      "source": [
        "Agora vamos criar uma classificação inicial do que seria um mau pagador e armazenar essa informação em uma coluna **`Mau`**.\n",
        "\n",
        "Inicialmente vamos classificar como mau pagador aquelas parcelas que tiverem 60 ou mais dias de atraso, ou seja, o indicador de faixa de atraso superior a 3."
      ]
    },
    {
      "cell_type": "code",
      "metadata": {
        "colab": {
          "base_uri": "https://localhost:8080/",
          "height": 205
        },
        "id": "dnVwnXV1HOnN",
        "outputId": "1b8d0041-6843-46af-84b5-2d1efa9f7d37"
      },
      "source": [
        "dados_aprovados['Mau'] = dados_aprovados.apply(lambda x: 1 if x['Ind_Faixa_atraso'] > 3 else 0, axis=1)\n",
        "dados_aprovados.head()"
      ],
      "execution_count": 77,
      "outputs": [
        {
          "output_type": "execute_result",
          "data": {
            "text/html": [
              "<div>\n",
              "<style scoped>\n",
              "    .dataframe tbody tr th:only-of-type {\n",
              "        vertical-align: middle;\n",
              "    }\n",
              "\n",
              "    .dataframe tbody tr th {\n",
              "        vertical-align: top;\n",
              "    }\n",
              "\n",
              "    .dataframe thead th {\n",
              "        text-align: right;\n",
              "    }\n",
              "</style>\n",
              "<table border=\"1\" class=\"dataframe\">\n",
              "  <thead>\n",
              "    <tr style=\"text-align: right;\">\n",
              "      <th></th>\n",
              "      <th>ID_Cliente</th>\n",
              "      <th>Mes_referencia</th>\n",
              "      <th>Faixa_atraso</th>\n",
              "      <th>Abertura</th>\n",
              "      <th>Final</th>\n",
              "      <th>Janela</th>\n",
              "      <th>MOB</th>\n",
              "      <th>Ind_Faixa_atraso</th>\n",
              "      <th>Mau</th>\n",
              "    </tr>\n",
              "  </thead>\n",
              "  <tbody>\n",
              "    <tr>\n",
              "      <th>0</th>\n",
              "      <td>5001711</td>\n",
              "      <td>0</td>\n",
              "      <td>nenhum empréstimo</td>\n",
              "      <td>-3</td>\n",
              "      <td>0</td>\n",
              "      <td>3</td>\n",
              "      <td>3</td>\n",
              "      <td>0</td>\n",
              "      <td>0</td>\n",
              "    </tr>\n",
              "    <tr>\n",
              "      <th>1</th>\n",
              "      <td>5001711</td>\n",
              "      <td>-1</td>\n",
              "      <td>1-29 dias</td>\n",
              "      <td>-3</td>\n",
              "      <td>0</td>\n",
              "      <td>3</td>\n",
              "      <td>2</td>\n",
              "      <td>2</td>\n",
              "      <td>0</td>\n",
              "    </tr>\n",
              "    <tr>\n",
              "      <th>2</th>\n",
              "      <td>5001711</td>\n",
              "      <td>-2</td>\n",
              "      <td>1-29 dias</td>\n",
              "      <td>-3</td>\n",
              "      <td>0</td>\n",
              "      <td>3</td>\n",
              "      <td>1</td>\n",
              "      <td>2</td>\n",
              "      <td>0</td>\n",
              "    </tr>\n",
              "    <tr>\n",
              "      <th>3</th>\n",
              "      <td>5001711</td>\n",
              "      <td>-3</td>\n",
              "      <td>1-29 dias</td>\n",
              "      <td>-3</td>\n",
              "      <td>0</td>\n",
              "      <td>3</td>\n",
              "      <td>0</td>\n",
              "      <td>2</td>\n",
              "      <td>0</td>\n",
              "    </tr>\n",
              "    <tr>\n",
              "      <th>4</th>\n",
              "      <td>5001712</td>\n",
              "      <td>0</td>\n",
              "      <td>pagamento realizado</td>\n",
              "      <td>-18</td>\n",
              "      <td>0</td>\n",
              "      <td>18</td>\n",
              "      <td>18</td>\n",
              "      <td>1</td>\n",
              "      <td>0</td>\n",
              "    </tr>\n",
              "  </tbody>\n",
              "</table>\n",
              "</div>"
            ],
            "text/plain": [
              "   ID_Cliente  Mes_referencia         Faixa_atraso  ...  MOB  Ind_Faixa_atraso  Mau\n",
              "0     5001711               0    nenhum empréstimo  ...    3                 0    0\n",
              "1     5001711              -1            1-29 dias  ...    2                 2    0\n",
              "2     5001711              -2            1-29 dias  ...    1                 2    0\n",
              "3     5001711              -3            1-29 dias  ...    0                 2    0\n",
              "4     5001712               0  pagamento realizado  ...   18                 1    0\n",
              "\n",
              "[5 rows x 9 columns]"
            ]
          },
          "metadata": {},
          "execution_count": 77
        }
      ]
    },
    {
      "cell_type": "markdown",
      "metadata": {
        "id": "jTTkAEmt8XSK"
      },
      "source": [
        "### **Vídeo 3 - Análise** ***Vintage***"
      ]
    },
    {
      "cell_type": "markdown",
      "metadata": {
        "id": "KibYMgfB83f-"
      },
      "source": [
        "Agora vamos utilizar as variáveis auxiliares que foram criadas no vídeo anterior para gerar uma série de *dataframes* que nos possibilitarão analisar melhor nossos dados.\n",
        "\n",
        "Primeiro vamos isolar as variáveis que são iguais para todas as parcelas dos empréstimos de cada cliente, as que são referente a informações cadastrais.\n",
        "* **`Abertura:`** quantos meses atrás foi aberta a conta\n",
        "* **`Final:`** quantos meses atrás foi encerrada a conta\n",
        "* **`Janela:`** tempo de permanência da conta"
      ]
    },
    {
      "cell_type": "code",
      "metadata": {
        "id": "uujZJ1i_HY_u",
        "colab": {
          "base_uri": "https://localhost:8080/",
          "height": 422
        },
        "outputId": "c53d0e83-dd24-4b60-8a6e-689671e39570"
      },
      "source": [
        "dados_creditos_id = dados_aprovados[['ID_Cliente', 'Abertura', 'Final', 'Janela']].groupby('ID_Cliente').apply(lambda x: x.iloc[0]).reset_index(drop=True)\n",
        "dados_creditos_id"
      ],
      "execution_count": 78,
      "outputs": [
        {
          "output_type": "execute_result",
          "data": {
            "text/html": [
              "<div>\n",
              "<style scoped>\n",
              "    .dataframe tbody tr th:only-of-type {\n",
              "        vertical-align: middle;\n",
              "    }\n",
              "\n",
              "    .dataframe tbody tr th {\n",
              "        vertical-align: top;\n",
              "    }\n",
              "\n",
              "    .dataframe thead th {\n",
              "        text-align: right;\n",
              "    }\n",
              "</style>\n",
              "<table border=\"1\" class=\"dataframe\">\n",
              "  <thead>\n",
              "    <tr style=\"text-align: right;\">\n",
              "      <th></th>\n",
              "      <th>ID_Cliente</th>\n",
              "      <th>Abertura</th>\n",
              "      <th>Final</th>\n",
              "      <th>Janela</th>\n",
              "    </tr>\n",
              "  </thead>\n",
              "  <tbody>\n",
              "    <tr>\n",
              "      <th>0</th>\n",
              "      <td>5001711</td>\n",
              "      <td>-3</td>\n",
              "      <td>0</td>\n",
              "      <td>3</td>\n",
              "    </tr>\n",
              "    <tr>\n",
              "      <th>1</th>\n",
              "      <td>5001712</td>\n",
              "      <td>-18</td>\n",
              "      <td>0</td>\n",
              "      <td>18</td>\n",
              "    </tr>\n",
              "    <tr>\n",
              "      <th>2</th>\n",
              "      <td>5001713</td>\n",
              "      <td>-21</td>\n",
              "      <td>0</td>\n",
              "      <td>21</td>\n",
              "    </tr>\n",
              "    <tr>\n",
              "      <th>3</th>\n",
              "      <td>5001714</td>\n",
              "      <td>-14</td>\n",
              "      <td>0</td>\n",
              "      <td>14</td>\n",
              "    </tr>\n",
              "    <tr>\n",
              "      <th>4</th>\n",
              "      <td>5001715</td>\n",
              "      <td>-59</td>\n",
              "      <td>0</td>\n",
              "      <td>59</td>\n",
              "    </tr>\n",
              "    <tr>\n",
              "      <th>...</th>\n",
              "      <td>...</td>\n",
              "      <td>...</td>\n",
              "      <td>...</td>\n",
              "      <td>...</td>\n",
              "    </tr>\n",
              "    <tr>\n",
              "      <th>45980</th>\n",
              "      <td>5150482</td>\n",
              "      <td>-28</td>\n",
              "      <td>-11</td>\n",
              "      <td>17</td>\n",
              "    </tr>\n",
              "    <tr>\n",
              "      <th>45981</th>\n",
              "      <td>5150483</td>\n",
              "      <td>-17</td>\n",
              "      <td>0</td>\n",
              "      <td>17</td>\n",
              "    </tr>\n",
              "    <tr>\n",
              "      <th>45982</th>\n",
              "      <td>5150484</td>\n",
              "      <td>-12</td>\n",
              "      <td>0</td>\n",
              "      <td>12</td>\n",
              "    </tr>\n",
              "    <tr>\n",
              "      <th>45983</th>\n",
              "      <td>5150485</td>\n",
              "      <td>-1</td>\n",
              "      <td>0</td>\n",
              "      <td>1</td>\n",
              "    </tr>\n",
              "    <tr>\n",
              "      <th>45984</th>\n",
              "      <td>5150487</td>\n",
              "      <td>-29</td>\n",
              "      <td>0</td>\n",
              "      <td>29</td>\n",
              "    </tr>\n",
              "  </tbody>\n",
              "</table>\n",
              "<p>45985 rows × 4 columns</p>\n",
              "</div>"
            ],
            "text/plain": [
              "       ID_Cliente  Abertura  Final  Janela\n",
              "0         5001711        -3      0       3\n",
              "1         5001712       -18      0      18\n",
              "2         5001713       -21      0      21\n",
              "3         5001714       -14      0      14\n",
              "4         5001715       -59      0      59\n",
              "...           ...       ...    ...     ...\n",
              "45980     5150482       -28    -11      17\n",
              "45981     5150483       -17      0      17\n",
              "45982     5150484       -12      0      12\n",
              "45983     5150485        -1      0       1\n",
              "45984     5150487       -29      0      29\n",
              "\n",
              "[45985 rows x 4 columns]"
            ]
          },
          "metadata": {},
          "execution_count": 78
        }
      ]
    },
    {
      "cell_type": "markdown",
      "metadata": {
        "id": "QJPlPywT_jTW"
      },
      "source": [
        "Usando o *dataframe* criado, vamos contar quantos clientes abriram conta em cada mês, para depois poder criar estatísticas de quantos desses clientes se tornaram maus pagadores."
      ]
    },
    {
      "cell_type": "code",
      "metadata": {
        "id": "e1R4DYaNHY77",
        "colab": {
          "base_uri": "https://localhost:8080/",
          "height": 422
        },
        "outputId": "4a172a55-29a1-436a-d4af-4157b01032af"
      },
      "source": [
        "df_denominador = dados_creditos_id.groupby('Abertura').apply(lambda x: x['ID_Cliente'].count()).reset_index()\n",
        "df_denominador.columns = ['Abertura', 'Qtd_Clientes']\n",
        "df_denominador"
      ],
      "execution_count": 79,
      "outputs": [
        {
          "output_type": "execute_result",
          "data": {
            "text/html": [
              "<div>\n",
              "<style scoped>\n",
              "    .dataframe tbody tr th:only-of-type {\n",
              "        vertical-align: middle;\n",
              "    }\n",
              "\n",
              "    .dataframe tbody tr th {\n",
              "        vertical-align: top;\n",
              "    }\n",
              "\n",
              "    .dataframe thead th {\n",
              "        text-align: right;\n",
              "    }\n",
              "</style>\n",
              "<table border=\"1\" class=\"dataframe\">\n",
              "  <thead>\n",
              "    <tr style=\"text-align: right;\">\n",
              "      <th></th>\n",
              "      <th>Abertura</th>\n",
              "      <th>Qtd_Clientes</th>\n",
              "    </tr>\n",
              "  </thead>\n",
              "  <tbody>\n",
              "    <tr>\n",
              "      <th>0</th>\n",
              "      <td>-60</td>\n",
              "      <td>415</td>\n",
              "    </tr>\n",
              "    <tr>\n",
              "      <th>1</th>\n",
              "      <td>-59</td>\n",
              "      <td>406</td>\n",
              "    </tr>\n",
              "    <tr>\n",
              "      <th>2</th>\n",
              "      <td>-58</td>\n",
              "      <td>440</td>\n",
              "    </tr>\n",
              "    <tr>\n",
              "      <th>3</th>\n",
              "      <td>-57</td>\n",
              "      <td>400</td>\n",
              "    </tr>\n",
              "    <tr>\n",
              "      <th>4</th>\n",
              "      <td>-56</td>\n",
              "      <td>470</td>\n",
              "    </tr>\n",
              "    <tr>\n",
              "      <th>...</th>\n",
              "      <td>...</td>\n",
              "      <td>...</td>\n",
              "    </tr>\n",
              "    <tr>\n",
              "      <th>56</th>\n",
              "      <td>-4</td>\n",
              "      <td>874</td>\n",
              "    </tr>\n",
              "    <tr>\n",
              "      <th>57</th>\n",
              "      <td>-3</td>\n",
              "      <td>919</td>\n",
              "    </tr>\n",
              "    <tr>\n",
              "      <th>58</th>\n",
              "      <td>-2</td>\n",
              "      <td>771</td>\n",
              "    </tr>\n",
              "    <tr>\n",
              "      <th>59</th>\n",
              "      <td>-1</td>\n",
              "      <td>686</td>\n",
              "    </tr>\n",
              "    <tr>\n",
              "      <th>60</th>\n",
              "      <td>0</td>\n",
              "      <td>370</td>\n",
              "    </tr>\n",
              "  </tbody>\n",
              "</table>\n",
              "<p>61 rows × 2 columns</p>\n",
              "</div>"
            ],
            "text/plain": [
              "    Abertura  Qtd_Clientes\n",
              "0        -60           415\n",
              "1        -59           406\n",
              "2        -58           440\n",
              "3        -57           400\n",
              "4        -56           470\n",
              "..       ...           ...\n",
              "56        -4           874\n",
              "57        -3           919\n",
              "58        -2           771\n",
              "59        -1           686\n",
              "60         0           370\n",
              "\n",
              "[61 rows x 2 columns]"
            ]
          },
          "metadata": {},
          "execution_count": 79
        }
      ]
    },
    {
      "cell_type": "markdown",
      "metadata": {
        "id": "LOpfhDMyG-wu"
      },
      "source": [
        "Precisamos criar a estrutura do *dataframe vintage* que também será usado para analisar estatísticas de maus pagadores.\n",
        "\n",
        "Precisamos da **`Abertura`** e **`MOB`** para depois aproveitarmos as quantidades de clientes que abriram a conta em cada mês de abertura que calculamos acima."
      ]
    },
    {
      "cell_type": "code",
      "metadata": {
        "id": "uqZScPSJHY4f",
        "colab": {
          "base_uri": "https://localhost:8080/",
          "height": 422
        },
        "outputId": "0e96322a-40b0-42b4-d2db-a380e4ecac1c"
      },
      "source": [
        "df_vintage = dados_aprovados.groupby(['Abertura','MOB']).apply(lambda x: x['ID_Cliente'].count()).reset_index()\n",
        "df_vintage.columns = ['Abertura', 'MOB', 'Qtd_Clientes']\n",
        "df_vintage"
      ],
      "execution_count": 80,
      "outputs": [
        {
          "output_type": "execute_result",
          "data": {
            "text/html": [
              "<div>\n",
              "<style scoped>\n",
              "    .dataframe tbody tr th:only-of-type {\n",
              "        vertical-align: middle;\n",
              "    }\n",
              "\n",
              "    .dataframe tbody tr th {\n",
              "        vertical-align: top;\n",
              "    }\n",
              "\n",
              "    .dataframe thead th {\n",
              "        text-align: right;\n",
              "    }\n",
              "</style>\n",
              "<table border=\"1\" class=\"dataframe\">\n",
              "  <thead>\n",
              "    <tr style=\"text-align: right;\">\n",
              "      <th></th>\n",
              "      <th>Abertura</th>\n",
              "      <th>MOB</th>\n",
              "      <th>Qtd_Clientes</th>\n",
              "    </tr>\n",
              "  </thead>\n",
              "  <tbody>\n",
              "    <tr>\n",
              "      <th>0</th>\n",
              "      <td>-60</td>\n",
              "      <td>0</td>\n",
              "      <td>415</td>\n",
              "    </tr>\n",
              "    <tr>\n",
              "      <th>1</th>\n",
              "      <td>-60</td>\n",
              "      <td>1</td>\n",
              "      <td>414</td>\n",
              "    </tr>\n",
              "    <tr>\n",
              "      <th>2</th>\n",
              "      <td>-60</td>\n",
              "      <td>2</td>\n",
              "      <td>410</td>\n",
              "    </tr>\n",
              "    <tr>\n",
              "      <th>3</th>\n",
              "      <td>-60</td>\n",
              "      <td>3</td>\n",
              "      <td>408</td>\n",
              "    </tr>\n",
              "    <tr>\n",
              "      <th>4</th>\n",
              "      <td>-60</td>\n",
              "      <td>4</td>\n",
              "      <td>403</td>\n",
              "    </tr>\n",
              "    <tr>\n",
              "      <th>...</th>\n",
              "      <td>...</td>\n",
              "      <td>...</td>\n",
              "      <td>...</td>\n",
              "    </tr>\n",
              "    <tr>\n",
              "      <th>1886</th>\n",
              "      <td>-2</td>\n",
              "      <td>1</td>\n",
              "      <td>770</td>\n",
              "    </tr>\n",
              "    <tr>\n",
              "      <th>1887</th>\n",
              "      <td>-2</td>\n",
              "      <td>2</td>\n",
              "      <td>750</td>\n",
              "    </tr>\n",
              "    <tr>\n",
              "      <th>1888</th>\n",
              "      <td>-1</td>\n",
              "      <td>0</td>\n",
              "      <td>686</td>\n",
              "    </tr>\n",
              "    <tr>\n",
              "      <th>1889</th>\n",
              "      <td>-1</td>\n",
              "      <td>1</td>\n",
              "      <td>682</td>\n",
              "    </tr>\n",
              "    <tr>\n",
              "      <th>1890</th>\n",
              "      <td>0</td>\n",
              "      <td>0</td>\n",
              "      <td>370</td>\n",
              "    </tr>\n",
              "  </tbody>\n",
              "</table>\n",
              "<p>1891 rows × 3 columns</p>\n",
              "</div>"
            ],
            "text/plain": [
              "      Abertura  MOB  Qtd_Clientes\n",
              "0          -60    0           415\n",
              "1          -60    1           414\n",
              "2          -60    2           410\n",
              "3          -60    3           408\n",
              "4          -60    4           403\n",
              "...        ...  ...           ...\n",
              "1886        -2    1           770\n",
              "1887        -2    2           750\n",
              "1888        -1    0           686\n",
              "1889        -1    1           682\n",
              "1890         0    0           370\n",
              "\n",
              "[1891 rows x 3 columns]"
            ]
          },
          "metadata": {},
          "execution_count": 80
        }
      ]
    },
    {
      "cell_type": "markdown",
      "metadata": {
        "id": "q7WwS2B0Ioe9"
      },
      "source": [
        "Com a estrutura montada, vamos buscar as quantidades de contas abertas em cada mês de abertura para usar como denominador na nossa divisão que irá calcular a taxa de maus pagadores. Essas quantidades já foram calculadas no **`df_denominador`**, vamos substituir na coluna **`Qtd_Clientes`**."
      ]
    },
    {
      "cell_type": "code",
      "metadata": {
        "colab": {
          "base_uri": "https://localhost:8080/",
          "height": 422
        },
        "id": "_f8Q6Fz7GIlq",
        "outputId": "a27cea10-4173-40e3-8886-e60836b0a3d9"
      },
      "source": [
        "df_vintage = pd.merge(df_vintage[['Abertura', 'MOB']], df_denominador, on = ['Abertura'], how='left')\n",
        "df_vintage"
      ],
      "execution_count": 82,
      "outputs": [
        {
          "output_type": "execute_result",
          "data": {
            "text/html": [
              "<div>\n",
              "<style scoped>\n",
              "    .dataframe tbody tr th:only-of-type {\n",
              "        vertical-align: middle;\n",
              "    }\n",
              "\n",
              "    .dataframe tbody tr th {\n",
              "        vertical-align: top;\n",
              "    }\n",
              "\n",
              "    .dataframe thead th {\n",
              "        text-align: right;\n",
              "    }\n",
              "</style>\n",
              "<table border=\"1\" class=\"dataframe\">\n",
              "  <thead>\n",
              "    <tr style=\"text-align: right;\">\n",
              "      <th></th>\n",
              "      <th>Abertura</th>\n",
              "      <th>MOB</th>\n",
              "      <th>Qtd_Clientes</th>\n",
              "    </tr>\n",
              "  </thead>\n",
              "  <tbody>\n",
              "    <tr>\n",
              "      <th>0</th>\n",
              "      <td>-60</td>\n",
              "      <td>0</td>\n",
              "      <td>415</td>\n",
              "    </tr>\n",
              "    <tr>\n",
              "      <th>1</th>\n",
              "      <td>-60</td>\n",
              "      <td>1</td>\n",
              "      <td>415</td>\n",
              "    </tr>\n",
              "    <tr>\n",
              "      <th>2</th>\n",
              "      <td>-60</td>\n",
              "      <td>2</td>\n",
              "      <td>415</td>\n",
              "    </tr>\n",
              "    <tr>\n",
              "      <th>3</th>\n",
              "      <td>-60</td>\n",
              "      <td>3</td>\n",
              "      <td>415</td>\n",
              "    </tr>\n",
              "    <tr>\n",
              "      <th>4</th>\n",
              "      <td>-60</td>\n",
              "      <td>4</td>\n",
              "      <td>415</td>\n",
              "    </tr>\n",
              "    <tr>\n",
              "      <th>...</th>\n",
              "      <td>...</td>\n",
              "      <td>...</td>\n",
              "      <td>...</td>\n",
              "    </tr>\n",
              "    <tr>\n",
              "      <th>1886</th>\n",
              "      <td>-2</td>\n",
              "      <td>1</td>\n",
              "      <td>771</td>\n",
              "    </tr>\n",
              "    <tr>\n",
              "      <th>1887</th>\n",
              "      <td>-2</td>\n",
              "      <td>2</td>\n",
              "      <td>771</td>\n",
              "    </tr>\n",
              "    <tr>\n",
              "      <th>1888</th>\n",
              "      <td>-1</td>\n",
              "      <td>0</td>\n",
              "      <td>686</td>\n",
              "    </tr>\n",
              "    <tr>\n",
              "      <th>1889</th>\n",
              "      <td>-1</td>\n",
              "      <td>1</td>\n",
              "      <td>686</td>\n",
              "    </tr>\n",
              "    <tr>\n",
              "      <th>1890</th>\n",
              "      <td>0</td>\n",
              "      <td>0</td>\n",
              "      <td>370</td>\n",
              "    </tr>\n",
              "  </tbody>\n",
              "</table>\n",
              "<p>1891 rows × 3 columns</p>\n",
              "</div>"
            ],
            "text/plain": [
              "      Abertura  MOB  Qtd_Clientes\n",
              "0          -60    0           415\n",
              "1          -60    1           415\n",
              "2          -60    2           415\n",
              "3          -60    3           415\n",
              "4          -60    4           415\n",
              "...        ...  ...           ...\n",
              "1886        -2    1           771\n",
              "1887        -2    2           771\n",
              "1888        -1    0           686\n",
              "1889        -1    1           686\n",
              "1890         0    0           370\n",
              "\n",
              "[1891 rows x 3 columns]"
            ]
          },
          "metadata": {},
          "execution_count": 82
        }
      ]
    },
    {
      "cell_type": "markdown",
      "metadata": {
        "id": "odj2cGDcLoZt"
      },
      "source": [
        "Agora vamos buscar em nosso *dataset* de créditos aprovados quantos mau pagadores tivemos em cada combinação de **`Abertura`** e **`MOB`** e calcular a taxa de maus pagadores dividindo esse número pela quantidade de clientes que abriram a conta naquele mês.\n",
        "\n",
        "Essa parte do código é um pouco mais complexa, por isso vou explicar passoa a passo o que está sendo feito.\n",
        "\n",
        "1. Como estaremos visualizando números percentuais bem baixos, vamos voltar o formato de exibição para números de ponto flutuante para 6 dígitos depois da vírgula\n",
        "1. Vamos criar a coluna **`Qtd_Mau`** onde armazenaremos a quantidade de maus pagadores únicos, acumulando a cada mês que passa. Na criação preenchemos todas as linhas com *NaN* (*Not A Number*)\n",
        "1. Vamos passar por todos os registros de nossa base de créditos aprovados, variando o **`j`** (que vai ser a **`Abertura`**) de -60 até 0 e variando o **`i`** (que vai ser o **`MOB`**) de 0 até 60\n",
        "1. A cada combinação de **`Abertura`** e **`MOB`** o *loop* vai colocar a lista de maus pagadores na lista **`ls`**, verificar quais são os clientes únicos e colocar em nosso *dataset* **`df_vintage`**\n",
        " * é necessário verificar os clientes únicos pois um cliente pode ter pago em atraso 2 parcelas diferentes mas só deve ser contado uma vez\n",
        " * a contagem é cumulativa para uma mesma **`Abertura`**, para que tenhamos ao final do último **`MOB`** a quantidade de clientes que, em algum momento, atrasou uma parcela\n",
        "1. A cada troca de **`j`** (ou **`Abertura`**) a lista é reiniciada\n",
        "1. Ao final do *loop* criamos uma nova coluna, **`Taxa_de_Mau`**, que é a divisão da quantidade de clientes considerados maus pagadores pela quantidade total de clientes naquela combinação de **`Abertura`** e **`MOB`**"
      ]
    },
    {
      "cell_type": "code",
      "metadata": {
        "colab": {
          "base_uri": "https://localhost:8080/",
          "height": 422
        },
        "id": "hxOqsREzGIhw",
        "outputId": "9defab20-7e9e-4ae1-c829-34386e191bf3"
      },
      "source": [
        "pd.options.display.float_format = '{:,.6f}'.format\n",
        "\n",
        "df_vintage['Qtd_Mau'] = np.nan\n",
        "\n",
        "for j in range(-60,1):\n",
        "    ls = [] # reinicia a lista de clientes maus pagadores para uma nova Abertura\n",
        "    for i in range(0,61):\n",
        "        due = list(dados_aprovados.query('Mau == 1 and MOB == @i and Abertura == @j')['ID_Cliente']) # armazena os IDs dos clientes maus pagadores\n",
        "        ls.extend(due) # agrega à lista acumulada de maus pagadores\n",
        "        df_vintage.loc[(df_vintage['MOB'] == i) & (df_vintage['Abertura'] == j), 'Qtd_Mau'] = len(set(ls)) # conta quantos IDs únicos temos na lista e coloca na coluna Qtd_Mau\n",
        "\n",
        "df_vintage['Taxa_de_Mau'] = df_vintage['Qtd_Mau'] / df_vintage['Qtd_Clientes']\n",
        "df_vintage"
      ],
      "execution_count": 84,
      "outputs": [
        {
          "output_type": "execute_result",
          "data": {
            "text/html": [
              "<div>\n",
              "<style scoped>\n",
              "    .dataframe tbody tr th:only-of-type {\n",
              "        vertical-align: middle;\n",
              "    }\n",
              "\n",
              "    .dataframe tbody tr th {\n",
              "        vertical-align: top;\n",
              "    }\n",
              "\n",
              "    .dataframe thead th {\n",
              "        text-align: right;\n",
              "    }\n",
              "</style>\n",
              "<table border=\"1\" class=\"dataframe\">\n",
              "  <thead>\n",
              "    <tr style=\"text-align: right;\">\n",
              "      <th></th>\n",
              "      <th>Abertura</th>\n",
              "      <th>MOB</th>\n",
              "      <th>Qtd_Clientes</th>\n",
              "      <th>Qtd_Mau</th>\n",
              "      <th>Taxa_de_Mau</th>\n",
              "    </tr>\n",
              "  </thead>\n",
              "  <tbody>\n",
              "    <tr>\n",
              "      <th>0</th>\n",
              "      <td>-60</td>\n",
              "      <td>0</td>\n",
              "      <td>415</td>\n",
              "      <td>0.000000</td>\n",
              "      <td>0.000000</td>\n",
              "    </tr>\n",
              "    <tr>\n",
              "      <th>1</th>\n",
              "      <td>-60</td>\n",
              "      <td>1</td>\n",
              "      <td>415</td>\n",
              "      <td>0.000000</td>\n",
              "      <td>0.000000</td>\n",
              "    </tr>\n",
              "    <tr>\n",
              "      <th>2</th>\n",
              "      <td>-60</td>\n",
              "      <td>2</td>\n",
              "      <td>415</td>\n",
              "      <td>0.000000</td>\n",
              "      <td>0.000000</td>\n",
              "    </tr>\n",
              "    <tr>\n",
              "      <th>3</th>\n",
              "      <td>-60</td>\n",
              "      <td>3</td>\n",
              "      <td>415</td>\n",
              "      <td>0.000000</td>\n",
              "      <td>0.000000</td>\n",
              "    </tr>\n",
              "    <tr>\n",
              "      <th>4</th>\n",
              "      <td>-60</td>\n",
              "      <td>4</td>\n",
              "      <td>415</td>\n",
              "      <td>0.000000</td>\n",
              "      <td>0.000000</td>\n",
              "    </tr>\n",
              "    <tr>\n",
              "      <th>...</th>\n",
              "      <td>...</td>\n",
              "      <td>...</td>\n",
              "      <td>...</td>\n",
              "      <td>...</td>\n",
              "      <td>...</td>\n",
              "    </tr>\n",
              "    <tr>\n",
              "      <th>1886</th>\n",
              "      <td>-2</td>\n",
              "      <td>1</td>\n",
              "      <td>771</td>\n",
              "      <td>0.000000</td>\n",
              "      <td>0.000000</td>\n",
              "    </tr>\n",
              "    <tr>\n",
              "      <th>1887</th>\n",
              "      <td>-2</td>\n",
              "      <td>2</td>\n",
              "      <td>771</td>\n",
              "      <td>1.000000</td>\n",
              "      <td>0.001297</td>\n",
              "    </tr>\n",
              "    <tr>\n",
              "      <th>1888</th>\n",
              "      <td>-1</td>\n",
              "      <td>0</td>\n",
              "      <td>686</td>\n",
              "      <td>0.000000</td>\n",
              "      <td>0.000000</td>\n",
              "    </tr>\n",
              "    <tr>\n",
              "      <th>1889</th>\n",
              "      <td>-1</td>\n",
              "      <td>1</td>\n",
              "      <td>686</td>\n",
              "      <td>0.000000</td>\n",
              "      <td>0.000000</td>\n",
              "    </tr>\n",
              "    <tr>\n",
              "      <th>1890</th>\n",
              "      <td>0</td>\n",
              "      <td>0</td>\n",
              "      <td>370</td>\n",
              "      <td>0.000000</td>\n",
              "      <td>0.000000</td>\n",
              "    </tr>\n",
              "  </tbody>\n",
              "</table>\n",
              "<p>1891 rows × 5 columns</p>\n",
              "</div>"
            ],
            "text/plain": [
              "      Abertura  MOB  Qtd_Clientes  Qtd_Mau  Taxa_de_Mau\n",
              "0          -60    0           415 0.000000     0.000000\n",
              "1          -60    1           415 0.000000     0.000000\n",
              "2          -60    2           415 0.000000     0.000000\n",
              "3          -60    3           415 0.000000     0.000000\n",
              "4          -60    4           415 0.000000     0.000000\n",
              "...        ...  ...           ...      ...          ...\n",
              "1886        -2    1           771 0.000000     0.000000\n",
              "1887        -2    2           771 1.000000     0.001297\n",
              "1888        -1    0           686 0.000000     0.000000\n",
              "1889        -1    1           686 0.000000     0.000000\n",
              "1890         0    0           370 0.000000     0.000000\n",
              "\n",
              "[1891 rows x 5 columns]"
            ]
          },
          "metadata": {},
          "execution_count": 84
        }
      ]
    },
    {
      "cell_type": "markdown",
      "metadata": {
        "id": "l7fMTmrMOYAZ"
      },
      "source": [
        "Para facilitar a visualização e o entendimento de nossos dados, vamos transformar nosso *dataframe* em uma tabela, com os meses de abertura de contas nas linhas e os MOBs nas colunas, com nossa taxa de maus pagadores como dados dessa tabela."
      ]
    },
    {
      "cell_type": "code",
      "metadata": {
        "colab": {
          "base_uri": "https://localhost:8080/",
          "height": 474
        },
        "id": "jUsHAZjzGIfD",
        "outputId": "2dc2c7d9-7fab-49e5-fc06-bacc5341f2ef"
      },
      "source": [
        "df_vintage_pivot = df_vintage.pivot(index='Abertura',\n",
        "                                    columns = 'MOB',\n",
        "                                    values='Taxa_de_Mau')\n",
        "df_vintage_pivot"
      ],
      "execution_count": 87,
      "outputs": [
        {
          "output_type": "execute_result",
          "data": {
            "text/html": [
              "<div>\n",
              "<style scoped>\n",
              "    .dataframe tbody tr th:only-of-type {\n",
              "        vertical-align: middle;\n",
              "    }\n",
              "\n",
              "    .dataframe tbody tr th {\n",
              "        vertical-align: top;\n",
              "    }\n",
              "\n",
              "    .dataframe thead th {\n",
              "        text-align: right;\n",
              "    }\n",
              "</style>\n",
              "<table border=\"1\" class=\"dataframe\">\n",
              "  <thead>\n",
              "    <tr style=\"text-align: right;\">\n",
              "      <th>MOB</th>\n",
              "      <th>0</th>\n",
              "      <th>1</th>\n",
              "      <th>2</th>\n",
              "      <th>3</th>\n",
              "      <th>4</th>\n",
              "      <th>5</th>\n",
              "      <th>6</th>\n",
              "      <th>7</th>\n",
              "      <th>8</th>\n",
              "      <th>9</th>\n",
              "      <th>10</th>\n",
              "      <th>11</th>\n",
              "      <th>12</th>\n",
              "      <th>13</th>\n",
              "      <th>14</th>\n",
              "      <th>15</th>\n",
              "      <th>16</th>\n",
              "      <th>17</th>\n",
              "      <th>18</th>\n",
              "      <th>19</th>\n",
              "      <th>20</th>\n",
              "      <th>21</th>\n",
              "      <th>22</th>\n",
              "      <th>23</th>\n",
              "      <th>24</th>\n",
              "      <th>25</th>\n",
              "      <th>26</th>\n",
              "      <th>27</th>\n",
              "      <th>28</th>\n",
              "      <th>29</th>\n",
              "      <th>30</th>\n",
              "      <th>31</th>\n",
              "      <th>32</th>\n",
              "      <th>33</th>\n",
              "      <th>34</th>\n",
              "      <th>35</th>\n",
              "      <th>36</th>\n",
              "      <th>37</th>\n",
              "      <th>38</th>\n",
              "      <th>39</th>\n",
              "      <th>40</th>\n",
              "      <th>41</th>\n",
              "      <th>42</th>\n",
              "      <th>43</th>\n",
              "      <th>44</th>\n",
              "      <th>45</th>\n",
              "      <th>46</th>\n",
              "      <th>47</th>\n",
              "      <th>48</th>\n",
              "      <th>49</th>\n",
              "      <th>50</th>\n",
              "      <th>51</th>\n",
              "      <th>52</th>\n",
              "      <th>53</th>\n",
              "      <th>54</th>\n",
              "      <th>55</th>\n",
              "      <th>56</th>\n",
              "      <th>57</th>\n",
              "      <th>58</th>\n",
              "      <th>59</th>\n",
              "      <th>60</th>\n",
              "    </tr>\n",
              "    <tr>\n",
              "      <th>Abertura</th>\n",
              "      <th></th>\n",
              "      <th></th>\n",
              "      <th></th>\n",
              "      <th></th>\n",
              "      <th></th>\n",
              "      <th></th>\n",
              "      <th></th>\n",
              "      <th></th>\n",
              "      <th></th>\n",
              "      <th></th>\n",
              "      <th></th>\n",
              "      <th></th>\n",
              "      <th></th>\n",
              "      <th></th>\n",
              "      <th></th>\n",
              "      <th></th>\n",
              "      <th></th>\n",
              "      <th></th>\n",
              "      <th></th>\n",
              "      <th></th>\n",
              "      <th></th>\n",
              "      <th></th>\n",
              "      <th></th>\n",
              "      <th></th>\n",
              "      <th></th>\n",
              "      <th></th>\n",
              "      <th></th>\n",
              "      <th></th>\n",
              "      <th></th>\n",
              "      <th></th>\n",
              "      <th></th>\n",
              "      <th></th>\n",
              "      <th></th>\n",
              "      <th></th>\n",
              "      <th></th>\n",
              "      <th></th>\n",
              "      <th></th>\n",
              "      <th></th>\n",
              "      <th></th>\n",
              "      <th></th>\n",
              "      <th></th>\n",
              "      <th></th>\n",
              "      <th></th>\n",
              "      <th></th>\n",
              "      <th></th>\n",
              "      <th></th>\n",
              "      <th></th>\n",
              "      <th></th>\n",
              "      <th></th>\n",
              "      <th></th>\n",
              "      <th></th>\n",
              "      <th></th>\n",
              "      <th></th>\n",
              "      <th></th>\n",
              "      <th></th>\n",
              "      <th></th>\n",
              "      <th></th>\n",
              "      <th></th>\n",
              "      <th></th>\n",
              "      <th></th>\n",
              "      <th></th>\n",
              "    </tr>\n",
              "  </thead>\n",
              "  <tbody>\n",
              "    <tr>\n",
              "      <th>-60</th>\n",
              "      <td>0.000000</td>\n",
              "      <td>0.000000</td>\n",
              "      <td>0.000000</td>\n",
              "      <td>0.000000</td>\n",
              "      <td>0.000000</td>\n",
              "      <td>0.002410</td>\n",
              "      <td>0.002410</td>\n",
              "      <td>0.007229</td>\n",
              "      <td>0.007229</td>\n",
              "      <td>0.009639</td>\n",
              "      <td>0.009639</td>\n",
              "      <td>0.012048</td>\n",
              "      <td>0.014458</td>\n",
              "      <td>0.016867</td>\n",
              "      <td>0.016867</td>\n",
              "      <td>0.016867</td>\n",
              "      <td>0.016867</td>\n",
              "      <td>0.016867</td>\n",
              "      <td>0.016867</td>\n",
              "      <td>0.016867</td>\n",
              "      <td>0.016867</td>\n",
              "      <td>0.019277</td>\n",
              "      <td>0.019277</td>\n",
              "      <td>0.019277</td>\n",
              "      <td>0.019277</td>\n",
              "      <td>0.021687</td>\n",
              "      <td>0.021687</td>\n",
              "      <td>0.021687</td>\n",
              "      <td>0.021687</td>\n",
              "      <td>0.024096</td>\n",
              "      <td>0.026506</td>\n",
              "      <td>0.026506</td>\n",
              "      <td>0.026506</td>\n",
              "      <td>0.026506</td>\n",
              "      <td>0.026506</td>\n",
              "      <td>0.026506</td>\n",
              "      <td>0.026506</td>\n",
              "      <td>0.026506</td>\n",
              "      <td>0.026506</td>\n",
              "      <td>0.026506</td>\n",
              "      <td>0.026506</td>\n",
              "      <td>0.026506</td>\n",
              "      <td>0.026506</td>\n",
              "      <td>0.026506</td>\n",
              "      <td>0.026506</td>\n",
              "      <td>0.026506</td>\n",
              "      <td>0.026506</td>\n",
              "      <td>0.026506</td>\n",
              "      <td>0.026506</td>\n",
              "      <td>0.026506</td>\n",
              "      <td>0.028916</td>\n",
              "      <td>0.028916</td>\n",
              "      <td>0.028916</td>\n",
              "      <td>0.028916</td>\n",
              "      <td>0.028916</td>\n",
              "      <td>0.028916</td>\n",
              "      <td>0.028916</td>\n",
              "      <td>0.028916</td>\n",
              "      <td>0.031325</td>\n",
              "      <td>0.031325</td>\n",
              "      <td>0.031325</td>\n",
              "    </tr>\n",
              "    <tr>\n",
              "      <th>-59</th>\n",
              "      <td>0.000000</td>\n",
              "      <td>0.000000</td>\n",
              "      <td>0.000000</td>\n",
              "      <td>0.004926</td>\n",
              "      <td>0.004926</td>\n",
              "      <td>0.004926</td>\n",
              "      <td>0.007389</td>\n",
              "      <td>0.007389</td>\n",
              "      <td>0.007389</td>\n",
              "      <td>0.012315</td>\n",
              "      <td>0.012315</td>\n",
              "      <td>0.019704</td>\n",
              "      <td>0.019704</td>\n",
              "      <td>0.019704</td>\n",
              "      <td>0.019704</td>\n",
              "      <td>0.019704</td>\n",
              "      <td>0.019704</td>\n",
              "      <td>0.019704</td>\n",
              "      <td>0.022167</td>\n",
              "      <td>0.024631</td>\n",
              "      <td>0.024631</td>\n",
              "      <td>0.027094</td>\n",
              "      <td>0.027094</td>\n",
              "      <td>0.027094</td>\n",
              "      <td>0.027094</td>\n",
              "      <td>0.029557</td>\n",
              "      <td>0.029557</td>\n",
              "      <td>0.029557</td>\n",
              "      <td>0.029557</td>\n",
              "      <td>0.029557</td>\n",
              "      <td>0.029557</td>\n",
              "      <td>0.029557</td>\n",
              "      <td>0.029557</td>\n",
              "      <td>0.029557</td>\n",
              "      <td>0.029557</td>\n",
              "      <td>0.029557</td>\n",
              "      <td>0.029557</td>\n",
              "      <td>0.029557</td>\n",
              "      <td>0.029557</td>\n",
              "      <td>0.029557</td>\n",
              "      <td>0.029557</td>\n",
              "      <td>0.029557</td>\n",
              "      <td>0.029557</td>\n",
              "      <td>0.029557</td>\n",
              "      <td>0.029557</td>\n",
              "      <td>0.029557</td>\n",
              "      <td>0.029557</td>\n",
              "      <td>0.029557</td>\n",
              "      <td>0.029557</td>\n",
              "      <td>0.029557</td>\n",
              "      <td>0.029557</td>\n",
              "      <td>0.029557</td>\n",
              "      <td>0.029557</td>\n",
              "      <td>0.029557</td>\n",
              "      <td>0.032020</td>\n",
              "      <td>0.032020</td>\n",
              "      <td>0.032020</td>\n",
              "      <td>0.032020</td>\n",
              "      <td>0.032020</td>\n",
              "      <td>0.032020</td>\n",
              "      <td>nan</td>\n",
              "    </tr>\n",
              "    <tr>\n",
              "      <th>-58</th>\n",
              "      <td>0.000000</td>\n",
              "      <td>0.000000</td>\n",
              "      <td>0.000000</td>\n",
              "      <td>0.000000</td>\n",
              "      <td>0.000000</td>\n",
              "      <td>0.000000</td>\n",
              "      <td>0.000000</td>\n",
              "      <td>0.004545</td>\n",
              "      <td>0.006818</td>\n",
              "      <td>0.006818</td>\n",
              "      <td>0.011364</td>\n",
              "      <td>0.013636</td>\n",
              "      <td>0.013636</td>\n",
              "      <td>0.013636</td>\n",
              "      <td>0.013636</td>\n",
              "      <td>0.013636</td>\n",
              "      <td>0.013636</td>\n",
              "      <td>0.015909</td>\n",
              "      <td>0.018182</td>\n",
              "      <td>0.018182</td>\n",
              "      <td>0.018182</td>\n",
              "      <td>0.022727</td>\n",
              "      <td>0.022727</td>\n",
              "      <td>0.022727</td>\n",
              "      <td>0.022727</td>\n",
              "      <td>0.022727</td>\n",
              "      <td>0.022727</td>\n",
              "      <td>0.022727</td>\n",
              "      <td>0.022727</td>\n",
              "      <td>0.022727</td>\n",
              "      <td>0.022727</td>\n",
              "      <td>0.022727</td>\n",
              "      <td>0.022727</td>\n",
              "      <td>0.022727</td>\n",
              "      <td>0.025000</td>\n",
              "      <td>0.025000</td>\n",
              "      <td>0.025000</td>\n",
              "      <td>0.025000</td>\n",
              "      <td>0.025000</td>\n",
              "      <td>0.025000</td>\n",
              "      <td>0.025000</td>\n",
              "      <td>0.025000</td>\n",
              "      <td>0.025000</td>\n",
              "      <td>0.025000</td>\n",
              "      <td>0.025000</td>\n",
              "      <td>0.025000</td>\n",
              "      <td>0.025000</td>\n",
              "      <td>0.025000</td>\n",
              "      <td>0.025000</td>\n",
              "      <td>0.025000</td>\n",
              "      <td>0.025000</td>\n",
              "      <td>0.025000</td>\n",
              "      <td>0.025000</td>\n",
              "      <td>0.025000</td>\n",
              "      <td>0.025000</td>\n",
              "      <td>0.025000</td>\n",
              "      <td>0.025000</td>\n",
              "      <td>0.025000</td>\n",
              "      <td>0.025000</td>\n",
              "      <td>nan</td>\n",
              "      <td>nan</td>\n",
              "    </tr>\n",
              "    <tr>\n",
              "      <th>-57</th>\n",
              "      <td>0.000000</td>\n",
              "      <td>0.000000</td>\n",
              "      <td>0.000000</td>\n",
              "      <td>0.000000</td>\n",
              "      <td>0.002500</td>\n",
              "      <td>0.002500</td>\n",
              "      <td>0.002500</td>\n",
              "      <td>0.007500</td>\n",
              "      <td>0.007500</td>\n",
              "      <td>0.007500</td>\n",
              "      <td>0.007500</td>\n",
              "      <td>0.007500</td>\n",
              "      <td>0.010000</td>\n",
              "      <td>0.017500</td>\n",
              "      <td>0.017500</td>\n",
              "      <td>0.017500</td>\n",
              "      <td>0.017500</td>\n",
              "      <td>0.017500</td>\n",
              "      <td>0.017500</td>\n",
              "      <td>0.017500</td>\n",
              "      <td>0.017500</td>\n",
              "      <td>0.017500</td>\n",
              "      <td>0.017500</td>\n",
              "      <td>0.017500</td>\n",
              "      <td>0.020000</td>\n",
              "      <td>0.020000</td>\n",
              "      <td>0.020000</td>\n",
              "      <td>0.020000</td>\n",
              "      <td>0.020000</td>\n",
              "      <td>0.020000</td>\n",
              "      <td>0.020000</td>\n",
              "      <td>0.020000</td>\n",
              "      <td>0.020000</td>\n",
              "      <td>0.020000</td>\n",
              "      <td>0.020000</td>\n",
              "      <td>0.022500</td>\n",
              "      <td>0.022500</td>\n",
              "      <td>0.022500</td>\n",
              "      <td>0.022500</td>\n",
              "      <td>0.022500</td>\n",
              "      <td>0.022500</td>\n",
              "      <td>0.025000</td>\n",
              "      <td>0.025000</td>\n",
              "      <td>0.025000</td>\n",
              "      <td>0.025000</td>\n",
              "      <td>0.025000</td>\n",
              "      <td>0.025000</td>\n",
              "      <td>0.025000</td>\n",
              "      <td>0.025000</td>\n",
              "      <td>0.025000</td>\n",
              "      <td>0.025000</td>\n",
              "      <td>0.025000</td>\n",
              "      <td>0.025000</td>\n",
              "      <td>0.025000</td>\n",
              "      <td>0.025000</td>\n",
              "      <td>0.025000</td>\n",
              "      <td>0.025000</td>\n",
              "      <td>0.025000</td>\n",
              "      <td>nan</td>\n",
              "      <td>nan</td>\n",
              "      <td>nan</td>\n",
              "    </tr>\n",
              "    <tr>\n",
              "      <th>-56</th>\n",
              "      <td>0.000000</td>\n",
              "      <td>0.000000</td>\n",
              "      <td>0.004255</td>\n",
              "      <td>0.004255</td>\n",
              "      <td>0.008511</td>\n",
              "      <td>0.010638</td>\n",
              "      <td>0.010638</td>\n",
              "      <td>0.017021</td>\n",
              "      <td>0.017021</td>\n",
              "      <td>0.021277</td>\n",
              "      <td>0.021277</td>\n",
              "      <td>0.025532</td>\n",
              "      <td>0.029787</td>\n",
              "      <td>0.034043</td>\n",
              "      <td>0.034043</td>\n",
              "      <td>0.034043</td>\n",
              "      <td>0.034043</td>\n",
              "      <td>0.034043</td>\n",
              "      <td>0.034043</td>\n",
              "      <td>0.034043</td>\n",
              "      <td>0.034043</td>\n",
              "      <td>0.034043</td>\n",
              "      <td>0.034043</td>\n",
              "      <td>0.034043</td>\n",
              "      <td>0.034043</td>\n",
              "      <td>0.034043</td>\n",
              "      <td>0.034043</td>\n",
              "      <td>0.034043</td>\n",
              "      <td>0.034043</td>\n",
              "      <td>0.034043</td>\n",
              "      <td>0.034043</td>\n",
              "      <td>0.034043</td>\n",
              "      <td>0.034043</td>\n",
              "      <td>0.034043</td>\n",
              "      <td>0.034043</td>\n",
              "      <td>0.034043</td>\n",
              "      <td>0.034043</td>\n",
              "      <td>0.034043</td>\n",
              "      <td>0.034043</td>\n",
              "      <td>0.034043</td>\n",
              "      <td>0.034043</td>\n",
              "      <td>0.034043</td>\n",
              "      <td>0.034043</td>\n",
              "      <td>0.034043</td>\n",
              "      <td>0.034043</td>\n",
              "      <td>0.034043</td>\n",
              "      <td>0.034043</td>\n",
              "      <td>0.034043</td>\n",
              "      <td>0.034043</td>\n",
              "      <td>0.034043</td>\n",
              "      <td>0.034043</td>\n",
              "      <td>0.036170</td>\n",
              "      <td>0.036170</td>\n",
              "      <td>0.036170</td>\n",
              "      <td>0.036170</td>\n",
              "      <td>0.038298</td>\n",
              "      <td>0.038298</td>\n",
              "      <td>nan</td>\n",
              "      <td>nan</td>\n",
              "      <td>nan</td>\n",
              "      <td>nan</td>\n",
              "    </tr>\n",
              "    <tr>\n",
              "      <th>...</th>\n",
              "      <td>...</td>\n",
              "      <td>...</td>\n",
              "      <td>...</td>\n",
              "      <td>...</td>\n",
              "      <td>...</td>\n",
              "      <td>...</td>\n",
              "      <td>...</td>\n",
              "      <td>...</td>\n",
              "      <td>...</td>\n",
              "      <td>...</td>\n",
              "      <td>...</td>\n",
              "      <td>...</td>\n",
              "      <td>...</td>\n",
              "      <td>...</td>\n",
              "      <td>...</td>\n",
              "      <td>...</td>\n",
              "      <td>...</td>\n",
              "      <td>...</td>\n",
              "      <td>...</td>\n",
              "      <td>...</td>\n",
              "      <td>...</td>\n",
              "      <td>...</td>\n",
              "      <td>...</td>\n",
              "      <td>...</td>\n",
              "      <td>...</td>\n",
              "      <td>...</td>\n",
              "      <td>...</td>\n",
              "      <td>...</td>\n",
              "      <td>...</td>\n",
              "      <td>...</td>\n",
              "      <td>...</td>\n",
              "      <td>...</td>\n",
              "      <td>...</td>\n",
              "      <td>...</td>\n",
              "      <td>...</td>\n",
              "      <td>...</td>\n",
              "      <td>...</td>\n",
              "      <td>...</td>\n",
              "      <td>...</td>\n",
              "      <td>...</td>\n",
              "      <td>...</td>\n",
              "      <td>...</td>\n",
              "      <td>...</td>\n",
              "      <td>...</td>\n",
              "      <td>...</td>\n",
              "      <td>...</td>\n",
              "      <td>...</td>\n",
              "      <td>...</td>\n",
              "      <td>...</td>\n",
              "      <td>...</td>\n",
              "      <td>...</td>\n",
              "      <td>...</td>\n",
              "      <td>...</td>\n",
              "      <td>...</td>\n",
              "      <td>...</td>\n",
              "      <td>...</td>\n",
              "      <td>...</td>\n",
              "      <td>...</td>\n",
              "      <td>...</td>\n",
              "      <td>...</td>\n",
              "      <td>...</td>\n",
              "    </tr>\n",
              "    <tr>\n",
              "      <th>-4</th>\n",
              "      <td>0.000000</td>\n",
              "      <td>0.000000</td>\n",
              "      <td>0.000000</td>\n",
              "      <td>0.003432</td>\n",
              "      <td>0.003432</td>\n",
              "      <td>nan</td>\n",
              "      <td>nan</td>\n",
              "      <td>nan</td>\n",
              "      <td>nan</td>\n",
              "      <td>nan</td>\n",
              "      <td>nan</td>\n",
              "      <td>nan</td>\n",
              "      <td>nan</td>\n",
              "      <td>nan</td>\n",
              "      <td>nan</td>\n",
              "      <td>nan</td>\n",
              "      <td>nan</td>\n",
              "      <td>nan</td>\n",
              "      <td>nan</td>\n",
              "      <td>nan</td>\n",
              "      <td>nan</td>\n",
              "      <td>nan</td>\n",
              "      <td>nan</td>\n",
              "      <td>nan</td>\n",
              "      <td>nan</td>\n",
              "      <td>nan</td>\n",
              "      <td>nan</td>\n",
              "      <td>nan</td>\n",
              "      <td>nan</td>\n",
              "      <td>nan</td>\n",
              "      <td>nan</td>\n",
              "      <td>nan</td>\n",
              "      <td>nan</td>\n",
              "      <td>nan</td>\n",
              "      <td>nan</td>\n",
              "      <td>nan</td>\n",
              "      <td>nan</td>\n",
              "      <td>nan</td>\n",
              "      <td>nan</td>\n",
              "      <td>nan</td>\n",
              "      <td>nan</td>\n",
              "      <td>nan</td>\n",
              "      <td>nan</td>\n",
              "      <td>nan</td>\n",
              "      <td>nan</td>\n",
              "      <td>nan</td>\n",
              "      <td>nan</td>\n",
              "      <td>nan</td>\n",
              "      <td>nan</td>\n",
              "      <td>nan</td>\n",
              "      <td>nan</td>\n",
              "      <td>nan</td>\n",
              "      <td>nan</td>\n",
              "      <td>nan</td>\n",
              "      <td>nan</td>\n",
              "      <td>nan</td>\n",
              "      <td>nan</td>\n",
              "      <td>nan</td>\n",
              "      <td>nan</td>\n",
              "      <td>nan</td>\n",
              "      <td>nan</td>\n",
              "    </tr>\n",
              "    <tr>\n",
              "      <th>-3</th>\n",
              "      <td>0.000000</td>\n",
              "      <td>0.000000</td>\n",
              "      <td>0.001088</td>\n",
              "      <td>0.001088</td>\n",
              "      <td>nan</td>\n",
              "      <td>nan</td>\n",
              "      <td>nan</td>\n",
              "      <td>nan</td>\n",
              "      <td>nan</td>\n",
              "      <td>nan</td>\n",
              "      <td>nan</td>\n",
              "      <td>nan</td>\n",
              "      <td>nan</td>\n",
              "      <td>nan</td>\n",
              "      <td>nan</td>\n",
              "      <td>nan</td>\n",
              "      <td>nan</td>\n",
              "      <td>nan</td>\n",
              "      <td>nan</td>\n",
              "      <td>nan</td>\n",
              "      <td>nan</td>\n",
              "      <td>nan</td>\n",
              "      <td>nan</td>\n",
              "      <td>nan</td>\n",
              "      <td>nan</td>\n",
              "      <td>nan</td>\n",
              "      <td>nan</td>\n",
              "      <td>nan</td>\n",
              "      <td>nan</td>\n",
              "      <td>nan</td>\n",
              "      <td>nan</td>\n",
              "      <td>nan</td>\n",
              "      <td>nan</td>\n",
              "      <td>nan</td>\n",
              "      <td>nan</td>\n",
              "      <td>nan</td>\n",
              "      <td>nan</td>\n",
              "      <td>nan</td>\n",
              "      <td>nan</td>\n",
              "      <td>nan</td>\n",
              "      <td>nan</td>\n",
              "      <td>nan</td>\n",
              "      <td>nan</td>\n",
              "      <td>nan</td>\n",
              "      <td>nan</td>\n",
              "      <td>nan</td>\n",
              "      <td>nan</td>\n",
              "      <td>nan</td>\n",
              "      <td>nan</td>\n",
              "      <td>nan</td>\n",
              "      <td>nan</td>\n",
              "      <td>nan</td>\n",
              "      <td>nan</td>\n",
              "      <td>nan</td>\n",
              "      <td>nan</td>\n",
              "      <td>nan</td>\n",
              "      <td>nan</td>\n",
              "      <td>nan</td>\n",
              "      <td>nan</td>\n",
              "      <td>nan</td>\n",
              "      <td>nan</td>\n",
              "    </tr>\n",
              "    <tr>\n",
              "      <th>-2</th>\n",
              "      <td>0.000000</td>\n",
              "      <td>0.000000</td>\n",
              "      <td>0.001297</td>\n",
              "      <td>nan</td>\n",
              "      <td>nan</td>\n",
              "      <td>nan</td>\n",
              "      <td>nan</td>\n",
              "      <td>nan</td>\n",
              "      <td>nan</td>\n",
              "      <td>nan</td>\n",
              "      <td>nan</td>\n",
              "      <td>nan</td>\n",
              "      <td>nan</td>\n",
              "      <td>nan</td>\n",
              "      <td>nan</td>\n",
              "      <td>nan</td>\n",
              "      <td>nan</td>\n",
              "      <td>nan</td>\n",
              "      <td>nan</td>\n",
              "      <td>nan</td>\n",
              "      <td>nan</td>\n",
              "      <td>nan</td>\n",
              "      <td>nan</td>\n",
              "      <td>nan</td>\n",
              "      <td>nan</td>\n",
              "      <td>nan</td>\n",
              "      <td>nan</td>\n",
              "      <td>nan</td>\n",
              "      <td>nan</td>\n",
              "      <td>nan</td>\n",
              "      <td>nan</td>\n",
              "      <td>nan</td>\n",
              "      <td>nan</td>\n",
              "      <td>nan</td>\n",
              "      <td>nan</td>\n",
              "      <td>nan</td>\n",
              "      <td>nan</td>\n",
              "      <td>nan</td>\n",
              "      <td>nan</td>\n",
              "      <td>nan</td>\n",
              "      <td>nan</td>\n",
              "      <td>nan</td>\n",
              "      <td>nan</td>\n",
              "      <td>nan</td>\n",
              "      <td>nan</td>\n",
              "      <td>nan</td>\n",
              "      <td>nan</td>\n",
              "      <td>nan</td>\n",
              "      <td>nan</td>\n",
              "      <td>nan</td>\n",
              "      <td>nan</td>\n",
              "      <td>nan</td>\n",
              "      <td>nan</td>\n",
              "      <td>nan</td>\n",
              "      <td>nan</td>\n",
              "      <td>nan</td>\n",
              "      <td>nan</td>\n",
              "      <td>nan</td>\n",
              "      <td>nan</td>\n",
              "      <td>nan</td>\n",
              "      <td>nan</td>\n",
              "    </tr>\n",
              "    <tr>\n",
              "      <th>-1</th>\n",
              "      <td>0.000000</td>\n",
              "      <td>0.000000</td>\n",
              "      <td>nan</td>\n",
              "      <td>nan</td>\n",
              "      <td>nan</td>\n",
              "      <td>nan</td>\n",
              "      <td>nan</td>\n",
              "      <td>nan</td>\n",
              "      <td>nan</td>\n",
              "      <td>nan</td>\n",
              "      <td>nan</td>\n",
              "      <td>nan</td>\n",
              "      <td>nan</td>\n",
              "      <td>nan</td>\n",
              "      <td>nan</td>\n",
              "      <td>nan</td>\n",
              "      <td>nan</td>\n",
              "      <td>nan</td>\n",
              "      <td>nan</td>\n",
              "      <td>nan</td>\n",
              "      <td>nan</td>\n",
              "      <td>nan</td>\n",
              "      <td>nan</td>\n",
              "      <td>nan</td>\n",
              "      <td>nan</td>\n",
              "      <td>nan</td>\n",
              "      <td>nan</td>\n",
              "      <td>nan</td>\n",
              "      <td>nan</td>\n",
              "      <td>nan</td>\n",
              "      <td>nan</td>\n",
              "      <td>nan</td>\n",
              "      <td>nan</td>\n",
              "      <td>nan</td>\n",
              "      <td>nan</td>\n",
              "      <td>nan</td>\n",
              "      <td>nan</td>\n",
              "      <td>nan</td>\n",
              "      <td>nan</td>\n",
              "      <td>nan</td>\n",
              "      <td>nan</td>\n",
              "      <td>nan</td>\n",
              "      <td>nan</td>\n",
              "      <td>nan</td>\n",
              "      <td>nan</td>\n",
              "      <td>nan</td>\n",
              "      <td>nan</td>\n",
              "      <td>nan</td>\n",
              "      <td>nan</td>\n",
              "      <td>nan</td>\n",
              "      <td>nan</td>\n",
              "      <td>nan</td>\n",
              "      <td>nan</td>\n",
              "      <td>nan</td>\n",
              "      <td>nan</td>\n",
              "      <td>nan</td>\n",
              "      <td>nan</td>\n",
              "      <td>nan</td>\n",
              "      <td>nan</td>\n",
              "      <td>nan</td>\n",
              "      <td>nan</td>\n",
              "    </tr>\n",
              "    <tr>\n",
              "      <th>0</th>\n",
              "      <td>0.000000</td>\n",
              "      <td>nan</td>\n",
              "      <td>nan</td>\n",
              "      <td>nan</td>\n",
              "      <td>nan</td>\n",
              "      <td>nan</td>\n",
              "      <td>nan</td>\n",
              "      <td>nan</td>\n",
              "      <td>nan</td>\n",
              "      <td>nan</td>\n",
              "      <td>nan</td>\n",
              "      <td>nan</td>\n",
              "      <td>nan</td>\n",
              "      <td>nan</td>\n",
              "      <td>nan</td>\n",
              "      <td>nan</td>\n",
              "      <td>nan</td>\n",
              "      <td>nan</td>\n",
              "      <td>nan</td>\n",
              "      <td>nan</td>\n",
              "      <td>nan</td>\n",
              "      <td>nan</td>\n",
              "      <td>nan</td>\n",
              "      <td>nan</td>\n",
              "      <td>nan</td>\n",
              "      <td>nan</td>\n",
              "      <td>nan</td>\n",
              "      <td>nan</td>\n",
              "      <td>nan</td>\n",
              "      <td>nan</td>\n",
              "      <td>nan</td>\n",
              "      <td>nan</td>\n",
              "      <td>nan</td>\n",
              "      <td>nan</td>\n",
              "      <td>nan</td>\n",
              "      <td>nan</td>\n",
              "      <td>nan</td>\n",
              "      <td>nan</td>\n",
              "      <td>nan</td>\n",
              "      <td>nan</td>\n",
              "      <td>nan</td>\n",
              "      <td>nan</td>\n",
              "      <td>nan</td>\n",
              "      <td>nan</td>\n",
              "      <td>nan</td>\n",
              "      <td>nan</td>\n",
              "      <td>nan</td>\n",
              "      <td>nan</td>\n",
              "      <td>nan</td>\n",
              "      <td>nan</td>\n",
              "      <td>nan</td>\n",
              "      <td>nan</td>\n",
              "      <td>nan</td>\n",
              "      <td>nan</td>\n",
              "      <td>nan</td>\n",
              "      <td>nan</td>\n",
              "      <td>nan</td>\n",
              "      <td>nan</td>\n",
              "      <td>nan</td>\n",
              "      <td>nan</td>\n",
              "      <td>nan</td>\n",
              "    </tr>\n",
              "  </tbody>\n",
              "</table>\n",
              "<p>61 rows × 61 columns</p>\n",
              "</div>"
            ],
            "text/plain": [
              "MOB            0        1        2   ...       58       59       60\n",
              "Abertura                             ...                           \n",
              "-60      0.000000 0.000000 0.000000  ... 0.031325 0.031325 0.031325\n",
              "-59      0.000000 0.000000 0.000000  ... 0.032020 0.032020      nan\n",
              "-58      0.000000 0.000000 0.000000  ... 0.025000      nan      nan\n",
              "-57      0.000000 0.000000 0.000000  ...      nan      nan      nan\n",
              "-56      0.000000 0.000000 0.004255  ...      nan      nan      nan\n",
              "...           ...      ...      ...  ...      ...      ...      ...\n",
              "-4       0.000000 0.000000 0.000000  ...      nan      nan      nan\n",
              "-3       0.000000 0.000000 0.001088  ...      nan      nan      nan\n",
              "-2       0.000000 0.000000 0.001297  ...      nan      nan      nan\n",
              "-1       0.000000 0.000000      nan  ...      nan      nan      nan\n",
              " 0       0.000000      nan      nan  ...      nan      nan      nan\n",
              "\n",
              "[61 rows x 61 columns]"
            ]
          },
          "metadata": {},
          "execution_count": 87
        }
      ]
    },
    {
      "cell_type": "markdown",
      "metadata": {
        "id": "7N2icAJKzkXG"
      },
      "source": [
        "Podemos perceber que a diagonal inferior direita da tabela permanece com valores *NaN*, uma vez que são referentes a períodos dos quais não temos informações. Por exemplo, o 3º mês de uma conta que foi aberta há 2 meses.\n",
        "\n",
        "Vamos agora plotar as informações dessa tabela para visualizar o comportamento desses clientes inadimplentes. Como o gráfico com 60 linhas ficaria muito poluído, vamos selecionar apenas 10 meses de abertura para essa visualização."
      ]
    },
    {
      "cell_type": "code",
      "metadata": {
        "colab": {
          "base_uri": "https://localhost:8080/",
          "height": 301
        },
        "id": "P0ztv2W3GIaz",
        "outputId": "6d1220e7-0b2c-4d5e-a934-6a454f6c12c1"
      },
      "source": [
        "lst = [i for i in range(0,61)]\n",
        "df_vintage_pivot[lst].T.iloc[:,:10].plot(legend = True, grid = True, title = '% acumulado de maus clientes (Atraso > que 60 dias)')\n",
        "\n",
        "plt.xlabel('MOB')\n",
        "plt.ylabel('% acumulado de maus')\n",
        "plt.legend(bbox_to_anchor=(1.25, 1), title='Abertura')\n",
        "plt.show()"
      ],
      "execution_count": 91,
      "outputs": [
        {
          "output_type": "display_data",
          "data": {
            "image/png": "[encoded data removed]",
            "text/plain": [
              "<Figure size 432x288 with 1 Axes>"
            ]
          },
          "metadata": {
            "needs_background": "light"
          }
        }
      ]
    },
    {
      "cell_type": "markdown",
      "metadata": {
        "id": "6m6H09UmMC-o"
      },
      "source": [
        "Podemos perceber que os gráficos se comportam de maneira semelhante para os diferentes períodos de abertura das contas.\n",
        "\n",
        "Temos um aumento rápido inicial que perdura até por volta do 12º mês e depois os percentuais de maus pagadores se comportam de maneira mais horizontal, com pequenos degraus em pontos específicos.\n",
        "\n",
        "Isso indica que temos a definição do comportamento de um cliente (se ele é um mau pagador ou não), geralmente, até o final do primeiro ano.\n",
        "\n",
        "Vamos verificar agora se temos pelo menos um ano de informações de clientes para saber se poderemos levar nossa análise adiante de forma consistente."
      ]
    },
    {
      "cell_type": "code",
      "metadata": {
        "colab": {
          "base_uri": "https://localhost:8080/",
          "height": 301
        },
        "id": "yPjh_cx2GIZP",
        "outputId": "41ed0e81-352a-41bb-bf84-db7d11fe3618"
      },
      "source": [
        "sns.histplot(data=dados_creditos_id, x='Janela', cumulative=True, stat='density', kde=True)\n",
        "plt.hlines(y=0.5, xmin=0, xmax=60, colors='r', ls='--', lw=2)\n",
        "plt.vlines(x=12, ymin=0, ymax=1, colors='green', ls='--', lw=2)\n",
        "plt.title('Distribuição de clientes por janela')\n",
        "plt.xlabel('Janela')\n",
        "plt.ylabel('Percentual de clientes')\n",
        "plt.show()"
      ],
      "execution_count": 98,
      "outputs": [
        {
          "output_type": "display_data",
          "data": {
            "image/png": "[encoded data removed]",
            "text/plain": [
              "<Figure size 432x288 with 1 Axes>"
            ]
          },
          "metadata": {
            "needs_background": "light"
          }
        }
      ]
    },
    {
      "cell_type": "markdown",
      "metadata": {
        "id": "A44gv3u_NQ3B"
      },
      "source": [
        "Como podemos ver, a curva acumulada de clientes corta os 50% (linha vermelha) próximo à janela de 20 meses, ou seja, temos mais de 50% de clientes com mais de 12 meses de informação.\n",
        "\n",
        "Para referência, a linha verde marca os 12 meses, onde temos menos de 40% dos clientes acumulados.\n",
        "\n",
        "Vamos agora converter a nossa coluna de indicativo de faixa de atraso do pagamento para diversas colunas, que possam ser tratadas de forma binária (0 e 1) como indicativo dos maus pagadores."
      ]
    },
    {
      "cell_type": "code",
      "metadata": {
        "id": "VA-xHOowGIUy"
      },
      "source": [
        "dict_intervalo_atraso = {'maior_30_dias': 3, 'maior_60_dias': 4, 'maior_90_dias': 5,\n",
        "                        'maior_120_dias': 6, 'maior_150_dias': 7}"
      ],
      "execution_count": 100,
      "outputs": []
    },
    {
      "cell_type": "code",
      "metadata": {
        "colab": {
          "base_uri": "https://localhost:8080/",
          "height": 260
        },
        "id": "YK3MWB7sOKNL",
        "outputId": "87dbce07-8c0f-4937-917a-a9cd129cdac4"
      },
      "source": [
        "for chave, valor in dict_intervalo_atraso.items():\n",
        "  dados_aprovados[f'Mau_{chave}'] = dados_aprovados.apply(lambda x: 1 if x['Ind_Faixa_atraso'] >= valor else 0, axis=1) # mais de 60\n",
        "dados_aprovados.head()"
      ],
      "execution_count": 101,
      "outputs": [
        {
          "output_type": "execute_result",
          "data": {
            "text/html": [
              "<div>\n",
              "<style scoped>\n",
              "    .dataframe tbody tr th:only-of-type {\n",
              "        vertical-align: middle;\n",
              "    }\n",
              "\n",
              "    .dataframe tbody tr th {\n",
              "        vertical-align: top;\n",
              "    }\n",
              "\n",
              "    .dataframe thead th {\n",
              "        text-align: right;\n",
              "    }\n",
              "</style>\n",
              "<table border=\"1\" class=\"dataframe\">\n",
              "  <thead>\n",
              "    <tr style=\"text-align: right;\">\n",
              "      <th></th>\n",
              "      <th>ID_Cliente</th>\n",
              "      <th>Mes_referencia</th>\n",
              "      <th>Faixa_atraso</th>\n",
              "      <th>Abertura</th>\n",
              "      <th>Final</th>\n",
              "      <th>Janela</th>\n",
              "      <th>MOB</th>\n",
              "      <th>Ind_Faixa_atraso</th>\n",
              "      <th>Mau</th>\n",
              "      <th>Mau_maior_30_dias</th>\n",
              "      <th>Mau_maior_60_dias</th>\n",
              "      <th>Mau_maior_90_dias</th>\n",
              "      <th>Mau_maior_120_dias</th>\n",
              "      <th>Mau_maior_150_dias</th>\n",
              "    </tr>\n",
              "  </thead>\n",
              "  <tbody>\n",
              "    <tr>\n",
              "      <th>0</th>\n",
              "      <td>5001711</td>\n",
              "      <td>0</td>\n",
              "      <td>nenhum empréstimo</td>\n",
              "      <td>-3</td>\n",
              "      <td>0</td>\n",
              "      <td>3</td>\n",
              "      <td>3</td>\n",
              "      <td>0</td>\n",
              "      <td>0</td>\n",
              "      <td>0</td>\n",
              "      <td>0</td>\n",
              "      <td>0</td>\n",
              "      <td>0</td>\n",
              "      <td>0</td>\n",
              "    </tr>\n",
              "    <tr>\n",
              "      <th>1</th>\n",
              "      <td>5001711</td>\n",
              "      <td>-1</td>\n",
              "      <td>1-29 dias</td>\n",
              "      <td>-3</td>\n",
              "      <td>0</td>\n",
              "      <td>3</td>\n",
              "      <td>2</td>\n",
              "      <td>2</td>\n",
              "      <td>0</td>\n",
              "      <td>0</td>\n",
              "      <td>0</td>\n",
              "      <td>0</td>\n",
              "      <td>0</td>\n",
              "      <td>0</td>\n",
              "    </tr>\n",
              "    <tr>\n",
              "      <th>2</th>\n",
              "      <td>5001711</td>\n",
              "      <td>-2</td>\n",
              "      <td>1-29 dias</td>\n",
              "      <td>-3</td>\n",
              "      <td>0</td>\n",
              "      <td>3</td>\n",
              "      <td>1</td>\n",
              "      <td>2</td>\n",
              "      <td>0</td>\n",
              "      <td>0</td>\n",
              "      <td>0</td>\n",
              "      <td>0</td>\n",
              "      <td>0</td>\n",
              "      <td>0</td>\n",
              "    </tr>\n",
              "    <tr>\n",
              "      <th>3</th>\n",
              "      <td>5001711</td>\n",
              "      <td>-3</td>\n",
              "      <td>1-29 dias</td>\n",
              "      <td>-3</td>\n",
              "      <td>0</td>\n",
              "      <td>3</td>\n",
              "      <td>0</td>\n",
              "      <td>2</td>\n",
              "      <td>0</td>\n",
              "      <td>0</td>\n",
              "      <td>0</td>\n",
              "      <td>0</td>\n",
              "      <td>0</td>\n",
              "      <td>0</td>\n",
              "    </tr>\n",
              "    <tr>\n",
              "      <th>4</th>\n",
              "      <td>5001712</td>\n",
              "      <td>0</td>\n",
              "      <td>pagamento realizado</td>\n",
              "      <td>-18</td>\n",
              "      <td>0</td>\n",
              "      <td>18</td>\n",
              "      <td>18</td>\n",
              "      <td>1</td>\n",
              "      <td>0</td>\n",
              "      <td>0</td>\n",
              "      <td>0</td>\n",
              "      <td>0</td>\n",
              "      <td>0</td>\n",
              "      <td>0</td>\n",
              "    </tr>\n",
              "  </tbody>\n",
              "</table>\n",
              "</div>"
            ],
            "text/plain": [
              "   ID_Cliente  Mes_referencia  ... Mau_maior_120_dias  Mau_maior_150_dias\n",
              "0     5001711               0  ...                  0                   0\n",
              "1     5001711              -1  ...                  0                   0\n",
              "2     5001711              -2  ...                  0                   0\n",
              "3     5001711              -3  ...                  0                   0\n",
              "4     5001712               0  ...                  0                   0\n",
              "\n",
              "[5 rows x 14 columns]"
            ]
          },
          "metadata": {},
          "execution_count": 101
        }
      ]
    },
    {
      "cell_type": "markdown",
      "metadata": {
        "id": "2lCUFr0h6uLu"
      },
      "source": [
        "Vamos repetir o que fizemos antes, de calcular a taxa de maus pagadores, com algumas alterações.\n",
        "\n",
        "Antes calculamos para cada combinação de **`Abertura`** e **`MOB`**, agora vamos fazer isso somente considerando o **`MOB`**. E, em vez de calcular somente para aqueles com mais de 60 dias de atraso, vamos usar a estrutura que acabamos de montar para calcular as taxas para mais de 30, 60, 90, 120 e 150 dias de atraso.\n",
        "\n",
        "Desta vez os comentários de cada passo estão diretamente no código, para facilitar o entendimento."
      ]
    },
    {
      "cell_type": "code",
      "metadata": {
        "colab": {
          "base_uri": "https://localhost:8080/",
          "height": 422
        },
        "id": "LS7U_WOm7my6",
        "outputId": "4f1fe9df-bc3c-4d4b-822a-7b419db71cdd"
      },
      "source": [
        "dados_aprovados.query(f'Mau_maior_150_dias == 1').groupby('ID_Cliente')['MOB'].min().reset_index()"
      ],
      "execution_count": 128,
      "outputs": [
        {
          "output_type": "execute_result",
          "data": {
            "text/html": [
              "<div>\n",
              "<style scoped>\n",
              "    .dataframe tbody tr th:only-of-type {\n",
              "        vertical-align: middle;\n",
              "    }\n",
              "\n",
              "    .dataframe tbody tr th {\n",
              "        vertical-align: top;\n",
              "    }\n",
              "\n",
              "    .dataframe thead th {\n",
              "        text-align: right;\n",
              "    }\n",
              "</style>\n",
              "<table border=\"1\" class=\"dataframe\">\n",
              "  <thead>\n",
              "    <tr style=\"text-align: right;\">\n",
              "      <th></th>\n",
              "      <th>ID_Cliente</th>\n",
              "      <th>MOB</th>\n",
              "    </tr>\n",
              "  </thead>\n",
              "  <tbody>\n",
              "    <tr>\n",
              "      <th>0</th>\n",
              "      <td>5003804</td>\n",
              "      <td>12</td>\n",
              "    </tr>\n",
              "    <tr>\n",
              "      <th>1</th>\n",
              "      <td>5004559</td>\n",
              "      <td>7</td>\n",
              "    </tr>\n",
              "    <tr>\n",
              "      <th>2</th>\n",
              "      <td>5004891</td>\n",
              "      <td>9</td>\n",
              "    </tr>\n",
              "    <tr>\n",
              "      <th>3</th>\n",
              "      <td>5005205</td>\n",
              "      <td>58</td>\n",
              "    </tr>\n",
              "    <tr>\n",
              "      <th>4</th>\n",
              "      <td>5008827</td>\n",
              "      <td>14</td>\n",
              "    </tr>\n",
              "    <tr>\n",
              "      <th>...</th>\n",
              "      <td>...</td>\n",
              "      <td>...</td>\n",
              "    </tr>\n",
              "    <tr>\n",
              "      <th>190</th>\n",
              "      <td>5149190</td>\n",
              "      <td>2</td>\n",
              "    </tr>\n",
              "    <tr>\n",
              "      <th>191</th>\n",
              "      <td>5149192</td>\n",
              "      <td>2</td>\n",
              "    </tr>\n",
              "    <tr>\n",
              "      <th>192</th>\n",
              "      <td>5149828</td>\n",
              "      <td>9</td>\n",
              "    </tr>\n",
              "    <tr>\n",
              "      <th>193</th>\n",
              "      <td>5149834</td>\n",
              "      <td>12</td>\n",
              "    </tr>\n",
              "    <tr>\n",
              "      <th>194</th>\n",
              "      <td>5149838</td>\n",
              "      <td>12</td>\n",
              "    </tr>\n",
              "  </tbody>\n",
              "</table>\n",
              "<p>195 rows × 2 columns</p>\n",
              "</div>"
            ],
            "text/plain": [
              "     ID_Cliente  MOB\n",
              "0       5003804   12\n",
              "1       5004559    7\n",
              "2       5004891    9\n",
              "3       5005205   58\n",
              "4       5008827   14\n",
              "..          ...  ...\n",
              "190     5149190    2\n",
              "191     5149192    2\n",
              "192     5149828    9\n",
              "193     5149834   12\n",
              "194     5149838   12\n",
              "\n",
              "[195 rows x 2 columns]"
            ]
          },
          "metadata": {},
          "execution_count": 128
        }
      ]
    },
    {
      "cell_type": "code",
      "metadata": {
        "colab": {
          "base_uri": "https://localhost:8080/",
          "height": 422
        },
        "id": "Vb6gt3vvOKKB",
        "outputId": "bfb9ee0c-93f9-474c-c565-62cd306ae4a5"
      },
      "source": [
        "dict_taxa_mau = {} # Inicializa o dicionário\n",
        "id_sum = len(set(dados_aprovados['ID_Cliente'])) # Armazena o total de clientes únicos da base de empréstimos\n",
        "\n",
        "for chave in dict_intervalo_atraso.keys(): # Executa para cada uma das colunas de tempos de atraso\n",
        "  # Seleciona os clientes da faixa de atraso e o MOB em que entraram nessa faixa  \n",
        "  df_min_mau = dados_aprovados.query(f'Mau_{chave} == 1').groupby('ID_Cliente')['MOB'].min().reset_index()\n",
        "  # Inicializa o dataframe que vai armazenar as taxas dessa coluna\n",
        "  df_mob_taxa_mau = pd.DataFrame({'MOB':range(0,61), 'Taxa_Mau': np.nan})\n",
        "  lst = [] # Inicializa a lista que vai armazenar os clientes para cada MOB\n",
        "  for i in range(0,61): # Executa a varredura para cada MOB\n",
        "      # Armazena a lista de clientes maus pagadores do MOB corrente\n",
        "      due = df_min_mau.query('MOB == @i')['ID_Cliente'].to_list()\n",
        "      lst.extend(due) # Acrescenta na lista para acumular os maus pagadores\n",
        "      # Calcula a taxa de maus pagadores dividindo a quantidade de maus pagadores únicos pelo total de clientes da base\n",
        "      df_mob_taxa_mau.loc[df_mob_taxa_mau['MOB'] == i, 'Taxa_Mau'] = len(set(lst)) / id_sum\n",
        "  # Joga o resultado dessa coluna de tempo de atraso para o dicionário que armazena todos os resultados\n",
        "  dict_taxa_mau[chave] = df_mob_taxa_mau['Taxa_Mau']\n",
        "\n",
        "# Converte o dicionário final em dataframe\n",
        "df_taxa_mau = pd.DataFrame(dict_taxa_mau)\n",
        "df_taxa_mau"
      ],
      "execution_count": 126,
      "outputs": [
        {
          "output_type": "execute_result",
          "data": {
            "text/html": [
              "<div>\n",
              "<style scoped>\n",
              "    .dataframe tbody tr th:only-of-type {\n",
              "        vertical-align: middle;\n",
              "    }\n",
              "\n",
              "    .dataframe tbody tr th {\n",
              "        vertical-align: top;\n",
              "    }\n",
              "\n",
              "    .dataframe thead th {\n",
              "        text-align: right;\n",
              "    }\n",
              "</style>\n",
              "<table border=\"1\" class=\"dataframe\">\n",
              "  <thead>\n",
              "    <tr style=\"text-align: right;\">\n",
              "      <th></th>\n",
              "      <th>maior_30_dias</th>\n",
              "      <th>maior_60_dias</th>\n",
              "      <th>maior_90_dias</th>\n",
              "      <th>maior_120_dias</th>\n",
              "      <th>maior_150_dias</th>\n",
              "    </tr>\n",
              "  </thead>\n",
              "  <tbody>\n",
              "    <tr>\n",
              "      <th>0</th>\n",
              "      <td>0.000304</td>\n",
              "      <td>0.000022</td>\n",
              "      <td>0.000022</td>\n",
              "      <td>0.000022</td>\n",
              "      <td>0.000022</td>\n",
              "    </tr>\n",
              "    <tr>\n",
              "      <th>1</th>\n",
              "      <td>0.011612</td>\n",
              "      <td>0.000174</td>\n",
              "      <td>0.000087</td>\n",
              "      <td>0.000087</td>\n",
              "      <td>0.000087</td>\n",
              "    </tr>\n",
              "    <tr>\n",
              "      <th>2</th>\n",
              "      <td>0.025878</td>\n",
              "      <td>0.001153</td>\n",
              "      <td>0.000196</td>\n",
              "      <td>0.000174</td>\n",
              "      <td>0.000174</td>\n",
              "    </tr>\n",
              "    <tr>\n",
              "      <th>3</th>\n",
              "      <td>0.036860</td>\n",
              "      <td>0.002240</td>\n",
              "      <td>0.000696</td>\n",
              "      <td>0.000304</td>\n",
              "      <td>0.000304</td>\n",
              "    </tr>\n",
              "    <tr>\n",
              "      <th>4</th>\n",
              "      <td>0.047385</td>\n",
              "      <td>0.003392</td>\n",
              "      <td>0.001044</td>\n",
              "      <td>0.000696</td>\n",
              "      <td>0.000348</td>\n",
              "    </tr>\n",
              "    <tr>\n",
              "      <th>...</th>\n",
              "      <td>...</td>\n",
              "      <td>...</td>\n",
              "      <td>...</td>\n",
              "      <td>...</td>\n",
              "      <td>...</td>\n",
              "    </tr>\n",
              "    <tr>\n",
              "      <th>56</th>\n",
              "      <td>0.116321</td>\n",
              "      <td>0.014483</td>\n",
              "      <td>0.007176</td>\n",
              "      <td>0.005263</td>\n",
              "      <td>0.004219</td>\n",
              "    </tr>\n",
              "    <tr>\n",
              "      <th>57</th>\n",
              "      <td>0.116321</td>\n",
              "      <td>0.014483</td>\n",
              "      <td>0.007176</td>\n",
              "      <td>0.005263</td>\n",
              "      <td>0.004219</td>\n",
              "    </tr>\n",
              "    <tr>\n",
              "      <th>58</th>\n",
              "      <td>0.116321</td>\n",
              "      <td>0.014505</td>\n",
              "      <td>0.007198</td>\n",
              "      <td>0.005284</td>\n",
              "      <td>0.004241</td>\n",
              "    </tr>\n",
              "    <tr>\n",
              "      <th>59</th>\n",
              "      <td>0.116321</td>\n",
              "      <td>0.014505</td>\n",
              "      <td>0.007198</td>\n",
              "      <td>0.005284</td>\n",
              "      <td>0.004241</td>\n",
              "    </tr>\n",
              "    <tr>\n",
              "      <th>60</th>\n",
              "      <td>0.116342</td>\n",
              "      <td>0.014505</td>\n",
              "      <td>0.007198</td>\n",
              "      <td>0.005284</td>\n",
              "      <td>0.004241</td>\n",
              "    </tr>\n",
              "  </tbody>\n",
              "</table>\n",
              "<p>61 rows × 5 columns</p>\n",
              "</div>"
            ],
            "text/plain": [
              "    maior_30_dias  maior_60_dias  maior_90_dias  maior_120_dias  maior_150_dias\n",
              "0        0.000304       0.000022       0.000022        0.000022        0.000022\n",
              "1        0.011612       0.000174       0.000087        0.000087        0.000087\n",
              "2        0.025878       0.001153       0.000196        0.000174        0.000174\n",
              "3        0.036860       0.002240       0.000696        0.000304        0.000304\n",
              "4        0.047385       0.003392       0.001044        0.000696        0.000348\n",
              "..            ...            ...            ...             ...             ...\n",
              "56       0.116321       0.014483       0.007176        0.005263        0.004219\n",
              "57       0.116321       0.014483       0.007176        0.005263        0.004219\n",
              "58       0.116321       0.014505       0.007198        0.005284        0.004241\n",
              "59       0.116321       0.014505       0.007198        0.005284        0.004241\n",
              "60       0.116342       0.014505       0.007198        0.005284        0.004241\n",
              "\n",
              "[61 rows x 5 columns]"
            ]
          },
          "metadata": {},
          "execution_count": 126
        }
      ]
    },
    {
      "cell_type": "markdown",
      "metadata": {
        "id": "BlP8DaZd_Vcx"
      },
      "source": [
        "Vamos plotar os resultados obtidos para facilitar a visualização."
      ]
    },
    {
      "cell_type": "code",
      "metadata": {
        "colab": {
          "base_uri": "https://localhost:8080/",
          "height": 410
        },
        "id": "MHsZFyPXOKHW",
        "outputId": "b1577cc2-791c-46c0-e048-bd0ad524104b"
      },
      "source": [
        "df_taxa_mau.plot(grid = True, title = '% acumulado de clientes maus para diversas faixas de atraso', figsize=(10, 6))\n",
        "plt.xlabel('MOB')\n",
        "plt.ylabel('% acumulado de clientes')\n",
        "plt.show()"
      ],
      "execution_count": 104,
      "outputs": [
        {
          "output_type": "display_data",
          "data": {
            "image/png": "[encoded data removed]",
            "text/plain": [
              "<Figure size 720x432 with 1 Axes>"
            ]
          },
          "metadata": {
            "needs_background": "light"
          }
        }
      ]
    },
    {
      "cell_type": "markdown",
      "metadata": {
        "id": "h19OxWSo_dVr"
      },
      "source": [
        "Podemos ver que, se considerarmos os atrasos entre 30 e 59 dias como critério para definir um mau pagador, teremos um impacto mais significativo em nossa base de dados, ultrapassando os 10%.\n",
        "\n",
        "Vamos eliminar essa faixa do gráfico para que a escala nos permita olhar as curvas para os demais períodos de atraso."
      ]
    },
    {
      "cell_type": "code",
      "metadata": {
        "colab": {
          "base_uri": "https://localhost:8080/",
          "height": 410
        },
        "id": "1_z3pn6pOKDM",
        "outputId": "e67b322a-ec6b-4ba6-93a6-de7998a1efce"
      },
      "source": [
        "df_taxa_mau.drop('maior_30_dias', axis=1).plot(grid = True, title = '% acumulado de clientes maus para diversas faixas de atraso', figsize=(10, 6))\n",
        "plt.xlabel('MOB')\n",
        "plt.ylabel('% acumulado de clientes')\n",
        "plt.show()"
      ],
      "execution_count": 105,
      "outputs": [
        {
          "output_type": "display_data",
          "data": {
            "image/png": "[encoded data removed]",
            "text/plain": [
              "<Figure size 720x432 with 1 Axes>"
            ]
          },
          "metadata": {
            "needs_background": "light"
          }
        }
      ]
    },
    {
      "cell_type": "markdown",
      "metadata": {
        "id": "lft4gzDn_4w6"
      },
      "source": [
        "Agora podemos ver que temos uma inadimplência relativamente baixa (inferior a 1,5%) se considerarmos os atrasos superiores a 60 dias."
      ]
    },
    {
      "cell_type": "markdown",
      "metadata": {
        "id": "oltfnq6_TOSO"
      },
      "source": [
        "### **Vídeo 4 - Definindo o** ***Target***"
      ]
    },
    {
      "cell_type": "markdown",
      "metadata": {
        "id": "lUArQGhyLJAp"
      },
      "source": [
        "Como vimos, há uma tendência a estabilizar a situação dos clientes maus pagadores a partir do 12º mês. Vamos verificar se iremos perder muita informação se desprezarmos os clientes que não tiverem pelo menos 12 meses de informação."
      ]
    },
    {
      "cell_type": "code",
      "metadata": {
        "colab": {
          "base_uri": "https://localhost:8080/"
        },
        "id": "mjdonKSAOKAR",
        "outputId": "8168d902-fce9-4e6d-936e-eb706b06cff5"
      },
      "source": [
        "meses_corte = 12\n",
        "print('Total de Clientes            :',len(dados_aprovados.groupby('ID_Cliente').count().index))\n",
        "print(f'Clientes com {meses_corte} meses ou mais:',\n",
        "      len(dados_aprovados.query('Janela >= @meses_corte').groupby('ID_Cliente').count().index),'(',\n",
        "      len(dados_aprovados.query('Janela >= @meses_corte').groupby('ID_Cliente').count().index) / len(dados_aprovados.groupby('ID_Cliente').count().index) *100,\n",
        "      '%)')"
      ],
      "execution_count": 136,
      "outputs": [
        {
          "output_type": "stream",
          "text": [
            "Total de Clientes            : 45985\n",
            "Clientes com 12 meses ou mais: 30918 ( 67.23496792432316 %)\n"
          ],
          "name": "stdout"
        }
      ]
    },
    {
      "cell_type": "markdown",
      "metadata": {
        "id": "xcgHMzo6L18U"
      },
      "source": [
        "Vamos permanecer com 67% dos nossos dados.\n",
        "\n",
        "Pode ser suficiente, vamos começar separando esses clientes em um novo *dataset*, para poder retornar caso seja necessário."
      ]
    },
    {
      "cell_type": "code",
      "metadata": {
        "colab": {
          "base_uri": "https://localhost:8080/"
        },
        "id": "9_lrHt9KPONo",
        "outputId": "7d8c29ae-435d-4182-ee01-346fd4c3d34c"
      },
      "source": [
        "dados_aprov_tratamento1 = dados_aprovados.query('Janela >= @meses_corte').copy()\n",
        "dados_aprov_tratamento1.shape"
      ],
      "execution_count": 137,
      "outputs": [
        {
          "output_type": "execute_result",
          "data": {
            "text/plain": [
              "(943061, 14)"
            ]
          },
          "metadata": {},
          "execution_count": 137
        }
      ]
    },
    {
      "cell_type": "markdown",
      "metadata": {
        "id": "FEFuK6AkOhfZ"
      },
      "source": [
        "Agora podemos criar nossa variável *target*, ou seja, vamos criar um *dataframe* com todos os nossos clientes e a informação de quais são classificados como **maus pagadores**."
      ]
    },
    {
      "cell_type": "code",
      "metadata": {
        "id": "F24h3V1aPOLY"
      },
      "source": [
        "def verifica(registros):\n",
        "  lista_status = registros['Faixa_atraso'].to_list()\n",
        "  if '60-89 dias' in lista_status or '90-119 dias' in lista_status or '120-149 dias' in lista_status or '>150 dias' in lista_status:\n",
        "    return 1\n",
        "  else:\n",
        "    return 0"
      ],
      "execution_count": 140,
      "outputs": []
    },
    {
      "cell_type": "code",
      "metadata": {
        "id": "pmUDLsyCM8lK"
      },
      "source": [
        "# Fiz uma função alternativa que achei que seria mais rápida por não\n",
        "# fazer a conferência de diversos strings\n",
        "# Mas essa função se mostrou bem mais lenta... não entendi\n",
        "# Mas deu o mesmo resultado\n",
        "\n",
        "def verifica_2(registros):\n",
        "    pior_status = registros['Ind_Faixa_atraso'].max()\n",
        "    if pior_status >= 4:\n",
        "        return 1\n",
        "    else:\n",
        "        return 0"
      ],
      "execution_count": 139,
      "outputs": []
    },
    {
      "cell_type": "code",
      "metadata": {
        "colab": {
          "base_uri": "https://localhost:8080/",
          "height": 205
        },
        "id": "rjTJbklHNqtc",
        "outputId": "3e5074b7-72ae-4a70-d18b-7a8cf62d2502"
      },
      "source": [
        "dados_creditos_id = pd.DataFrame(dados_aprov_tratamento1.groupby('ID_Cliente').apply(verifica)).reset_index()\n",
        "dados_creditos_id.columns = ['ID_Cliente', 'Mau']\n",
        "dados_creditos_id.head()"
      ],
      "execution_count": 145,
      "outputs": [
        {
          "output_type": "execute_result",
          "data": {
            "text/html": [
              "<div>\n",
              "<style scoped>\n",
              "    .dataframe tbody tr th:only-of-type {\n",
              "        vertical-align: middle;\n",
              "    }\n",
              "\n",
              "    .dataframe tbody tr th {\n",
              "        vertical-align: top;\n",
              "    }\n",
              "\n",
              "    .dataframe thead th {\n",
              "        text-align: right;\n",
              "    }\n",
              "</style>\n",
              "<table border=\"1\" class=\"dataframe\">\n",
              "  <thead>\n",
              "    <tr style=\"text-align: right;\">\n",
              "      <th></th>\n",
              "      <th>ID_Cliente</th>\n",
              "      <th>Mau</th>\n",
              "    </tr>\n",
              "  </thead>\n",
              "  <tbody>\n",
              "    <tr>\n",
              "      <th>0</th>\n",
              "      <td>5001712</td>\n",
              "      <td>0</td>\n",
              "    </tr>\n",
              "    <tr>\n",
              "      <th>1</th>\n",
              "      <td>5001713</td>\n",
              "      <td>0</td>\n",
              "    </tr>\n",
              "    <tr>\n",
              "      <th>2</th>\n",
              "      <td>5001714</td>\n",
              "      <td>0</td>\n",
              "    </tr>\n",
              "    <tr>\n",
              "      <th>3</th>\n",
              "      <td>5001715</td>\n",
              "      <td>0</td>\n",
              "    </tr>\n",
              "    <tr>\n",
              "      <th>4</th>\n",
              "      <td>5001717</td>\n",
              "      <td>0</td>\n",
              "    </tr>\n",
              "  </tbody>\n",
              "</table>\n",
              "</div>"
            ],
            "text/plain": [
              "   ID_Cliente  Mau\n",
              "0     5001712    0\n",
              "1     5001713    0\n",
              "2     5001714    0\n",
              "3     5001715    0\n",
              "4     5001717    0"
            ]
          },
          "metadata": {},
          "execution_count": 145
        }
      ]
    },
    {
      "cell_type": "code",
      "metadata": {
        "colab": {
          "base_uri": "https://localhost:8080/"
        },
        "id": "E87-CzuAN1Vp",
        "outputId": "f36cd1fb-13de-474f-fc83-d7506d7a1ea8"
      },
      "source": [
        "print(dados_creditos_id.Mau.sum(),'Maus Pagadores')"
      ],
      "execution_count": 147,
      "outputs": [
        {
          "output_type": "stream",
          "text": [
            "585 Maus Pagadores\n"
          ],
          "name": "stdout"
        }
      ]
    },
    {
      "cell_type": "markdown",
      "metadata": {
        "id": "oDo5J1BrPB4C"
      },
      "source": [
        "Dentro de nossa base, temos então 585 clientes considerados mau pagadores.\n",
        "\n",
        "Vamos ver como isso se comporta em relação aos totais de clientes cadastrados e clientes com empréstimos que temos em nossas bases tratadas."
      ]
    },
    {
      "cell_type": "code",
      "metadata": {
        "colab": {
          "base_uri": "https://localhost:8080/"
        },
        "id": "O47Y6EVePOIp",
        "outputId": "e24fbdb3-1082-4bc3-c705-d7b41561ac3c"
      },
      "source": [
        "print(dados_creditos_id.shape[0],'Clientes com Crédito')"
      ],
      "execution_count": 149,
      "outputs": [
        {
          "output_type": "stream",
          "text": [
            "30918 Clientes com Crédito\n"
          ],
          "name": "stdout"
        }
      ]
    },
    {
      "cell_type": "code",
      "metadata": {
        "colab": {
          "base_uri": "https://localhost:8080/"
        },
        "id": "GAL1N5tZPOF3",
        "outputId": "812ee591-94f6-4a5f-db37-d300c70c1bdb"
      },
      "source": [
        "print(dados_cad_tratamento1.shape[0],'Clientes Cadastrados')"
      ],
      "execution_count": 150,
      "outputs": [
        {
          "output_type": "stream",
          "text": [
            "425822 Clientes Cadastrados\n"
          ],
          "name": "stdout"
        }
      ]
    },
    {
      "cell_type": "code",
      "metadata": {
        "colab": {
          "base_uri": "https://localhost:8080/"
        },
        "id": "UrZwISSAPzAc",
        "outputId": "288a3b5a-8da8-4da0-b1cd-fb742882335d"
      },
      "source": [
        "print('Os',dados_creditos_id.Mau.sum(),'Maus Pagadores representam:')\n",
        "print('- ',dados_creditos_id.Mau.sum() / dados_creditos_id.shape[0] * 100,'% dos Clientes com Crédito')\n",
        "print('- ',dados_creditos_id.Mau.sum() / dados_cad_tratamento1.shape[0] * 100,'% dos Clientes Cadastrados')"
      ],
      "execution_count": 152,
      "outputs": [
        {
          "output_type": "stream",
          "text": [
            "Os 585 Maus Pagadores representam:\n",
            "-  1.892101688336891 % dos Clientes com Crédito\n",
            "-  0.1373813471356576 % dos Clientes Cadastrados\n"
          ],
          "name": "stdout"
        }
      ]
    },
    {
      "cell_type": "markdown",
      "metadata": {
        "id": "BegK6hLcQTCu"
      },
      "source": [
        "Como podemos ver, temos percentuais bem baixos de inadimplência em nossa base.\n",
        "\n",
        "Isso poderá nos dificultar futuramente no treinamento de modelos de *machine learning*.\n",
        "\n",
        "Agora podemos juntar as informações que temos dos nossos clientes com crédito dentro da base de clientes cadastrados."
      ]
    },
    {
      "cell_type": "code",
      "metadata": {
        "colab": {
          "base_uri": "https://localhost:8080/",
          "height": 312
        },
        "id": "enDIyqG3PODL",
        "outputId": "2f8dd98f-26ab-4d5b-ed7d-07dbba429b7b"
      },
      "source": [
        "df_registro_clientes_targets = dados_cad_tratamento1.merge(dados_creditos_id, on='ID_Cliente')\n",
        "df_registro_clientes_targets.head()"
      ],
      "execution_count": 153,
      "outputs": [
        {
          "output_type": "execute_result",
          "data": {
            "text/html": [
              "<div>\n",
              "<style scoped>\n",
              "    .dataframe tbody tr th:only-of-type {\n",
              "        vertical-align: middle;\n",
              "    }\n",
              "\n",
              "    .dataframe tbody tr th {\n",
              "        vertical-align: top;\n",
              "    }\n",
              "\n",
              "    .dataframe thead th {\n",
              "        text-align: right;\n",
              "    }\n",
              "</style>\n",
              "<table border=\"1\" class=\"dataframe\">\n",
              "  <thead>\n",
              "    <tr style=\"text-align: right;\">\n",
              "      <th></th>\n",
              "      <th>ID_Cliente</th>\n",
              "      <th>Tem_Carro</th>\n",
              "      <th>Tem_Casa_Propria</th>\n",
              "      <th>Qtd_Filhos</th>\n",
              "      <th>Rendimento_Anual</th>\n",
              "      <th>Categoria_de_renda</th>\n",
              "      <th>Grau_Escolaridade</th>\n",
              "      <th>Estado_Civil</th>\n",
              "      <th>Moradia</th>\n",
              "      <th>Idade</th>\n",
              "      <th>Tem_telefone_trabalho</th>\n",
              "      <th>Tem_telefone_fixo</th>\n",
              "      <th>Tem_email</th>\n",
              "      <th>Ocupacao</th>\n",
              "      <th>Tamanho_Familia</th>\n",
              "      <th>Anos_empregado</th>\n",
              "      <th>Mau</th>\n",
              "    </tr>\n",
              "  </thead>\n",
              "  <tbody>\n",
              "    <tr>\n",
              "      <th>0</th>\n",
              "      <td>5008806</td>\n",
              "      <td>1</td>\n",
              "      <td>1</td>\n",
              "      <td>0</td>\n",
              "      <td>112,500.000000</td>\n",
              "      <td>Empregado</td>\n",
              "      <td>Ensino medio</td>\n",
              "      <td>Casado</td>\n",
              "      <td>Casa propria</td>\n",
              "      <td>59.000000</td>\n",
              "      <td>0</td>\n",
              "      <td>0</td>\n",
              "      <td>0</td>\n",
              "      <td>Seguranca</td>\n",
              "      <td>2.000000</td>\n",
              "      <td>3.100000</td>\n",
              "      <td>0</td>\n",
              "    </tr>\n",
              "    <tr>\n",
              "      <th>1</th>\n",
              "      <td>5008810</td>\n",
              "      <td>0</td>\n",
              "      <td>1</td>\n",
              "      <td>0</td>\n",
              "      <td>270,000.000000</td>\n",
              "      <td>Associado comercial</td>\n",
              "      <td>Ensino medio</td>\n",
              "      <td>Solteiro</td>\n",
              "      <td>Casa propria</td>\n",
              "      <td>52.000000</td>\n",
              "      <td>0</td>\n",
              "      <td>1</td>\n",
              "      <td>1</td>\n",
              "      <td>Venda</td>\n",
              "      <td>1.000000</td>\n",
              "      <td>8.400000</td>\n",
              "      <td>0</td>\n",
              "    </tr>\n",
              "    <tr>\n",
              "      <th>2</th>\n",
              "      <td>5008811</td>\n",
              "      <td>0</td>\n",
              "      <td>1</td>\n",
              "      <td>0</td>\n",
              "      <td>270,000.000000</td>\n",
              "      <td>Associado comercial</td>\n",
              "      <td>Ensino medio</td>\n",
              "      <td>Solteiro</td>\n",
              "      <td>Casa propria</td>\n",
              "      <td>52.000000</td>\n",
              "      <td>0</td>\n",
              "      <td>1</td>\n",
              "      <td>1</td>\n",
              "      <td>Venda</td>\n",
              "      <td>1.000000</td>\n",
              "      <td>8.400000</td>\n",
              "      <td>0</td>\n",
              "    </tr>\n",
              "    <tr>\n",
              "      <th>3</th>\n",
              "      <td>5008812</td>\n",
              "      <td>0</td>\n",
              "      <td>1</td>\n",
              "      <td>0</td>\n",
              "      <td>283,500.000000</td>\n",
              "      <td>Pensionista</td>\n",
              "      <td>Ensino superior</td>\n",
              "      <td>Separado</td>\n",
              "      <td>Casa propria</td>\n",
              "      <td>62.000000</td>\n",
              "      <td>0</td>\n",
              "      <td>0</td>\n",
              "      <td>0</td>\n",
              "      <td>Outros</td>\n",
              "      <td>1.000000</td>\n",
              "      <td>-1.000000</td>\n",
              "      <td>0</td>\n",
              "    </tr>\n",
              "    <tr>\n",
              "      <th>4</th>\n",
              "      <td>5008813</td>\n",
              "      <td>0</td>\n",
              "      <td>1</td>\n",
              "      <td>0</td>\n",
              "      <td>283,500.000000</td>\n",
              "      <td>Pensionista</td>\n",
              "      <td>Ensino superior</td>\n",
              "      <td>Separado</td>\n",
              "      <td>Casa propria</td>\n",
              "      <td>62.000000</td>\n",
              "      <td>0</td>\n",
              "      <td>0</td>\n",
              "      <td>0</td>\n",
              "      <td>Outros</td>\n",
              "      <td>1.000000</td>\n",
              "      <td>-1.000000</td>\n",
              "      <td>0</td>\n",
              "    </tr>\n",
              "  </tbody>\n",
              "</table>\n",
              "</div>"
            ],
            "text/plain": [
              "   ID_Cliente  Tem_Carro  ...  Anos_empregado  Mau\n",
              "0     5008806          1  ...        3.100000    0\n",
              "1     5008810          0  ...        8.400000    0\n",
              "2     5008811          0  ...        8.400000    0\n",
              "3     5008812          0  ...       -1.000000    0\n",
              "4     5008813          0  ...       -1.000000    0\n",
              "\n",
              "[5 rows x 17 columns]"
            ]
          },
          "metadata": {},
          "execution_count": 153
        }
      ]
    },
    {
      "cell_type": "code",
      "metadata": {
        "colab": {
          "base_uri": "https://localhost:8080/"
        },
        "id": "xasVBKtcR_6m",
        "outputId": "619a9451-27e6-45f9-ff16-b2aec743bbe8"
      },
      "source": [
        "print(df_registro_clientes_targets.shape)\n",
        "print(df_registro_clientes_targets['Mau'].value_counts())"
      ],
      "execution_count": 158,
      "outputs": [
        {
          "output_type": "stream",
          "text": [
            "(22742, 17)\n",
            "0    22225\n",
            "1      517\n",
            "Name: Mau, dtype: int64\n"
          ],
          "name": "stdout"
        }
      ]
    },
    {
      "cell_type": "code",
      "metadata": {
        "colab": {
          "base_uri": "https://localhost:8080/"
        },
        "id": "q89_jXlDQc8x",
        "outputId": "5fdff706-4605-4306-e050-7a46b8d9c874"
      },
      "source": [
        "df_registro_clientes_targets['Mau'].value_counts(normalize=True)*100"
      ],
      "execution_count": 154,
      "outputs": [
        {
          "output_type": "execute_result",
          "data": {
            "text/plain": [
              "0   97.726673\n",
              "1    2.273327\n",
              "Name: Mau, dtype: float64"
            ]
          },
          "metadata": {},
          "execution_count": 154
        }
      ]
    },
    {
      "cell_type": "markdown",
      "metadata": {
        "id": "wfqrcZ33SLHW"
      },
      "source": [
        "Alguns pontos que chamam a atenção nessa consolidação das bases:\n",
        "* Apesar de termos 425 mil clientes cadastrados e quase 31 mil clientes com informações de crédito, só conseguimos consolidar as informações de menos de 23 mil clientes\n",
        "* Nossa base é muito desbalanceada, com pouco mais de 2% dos clientes em situação de mau pagador\n",
        "\n",
        "É estranho termos 8 mil clientes com informações de crédito mas que não estão em nossa base cadastral. Possivelmente foram eliminados no tratamento da base, quando eliminamos aqueles registros duplicados e os *outliers* de rendimento anual. Vamos verificar isso:"
      ]
    },
    {
      "cell_type": "code",
      "metadata": {
        "colab": {
          "base_uri": "https://localhost:8080/"
        },
        "id": "8bpwOfC7R26k",
        "outputId": "cef3c5b9-116d-40d2-cd2c-516f9ee5e0e7"
      },
      "source": [
        "print('Clientes Desprezados (outliers):',df_renda_outliers.shape[0])\n",
        "print('Info de Crédito de Outliers    :  ',df_renda_outliers.merge(dados_creditos_id, on='ID_Cliente').shape[0])"
      ],
      "execution_count": 163,
      "outputs": [
        {
          "output_type": "stream",
          "text": [
            "Clientes Desprezados (outliers): 12641\n",
            "Info de Crédito de Outliers    :   677\n"
          ],
          "name": "stdout"
        }
      ]
    },
    {
      "cell_type": "markdown",
      "metadata": {
        "id": "_k-NfWTvZu5e"
      },
      "source": [
        "Conseguimos encontrar apenas 677 clientes dos 8 mil que perdemos na consolidação (30918 - 22742 = 8176).\n",
        "\n",
        "Isso é mais um indicativo de que podemos ter tido algum problema na geração inicial dos dados a serem utilizados para esse estudo (além dos registros duplicados que encontramos inicialmente)."
      ]
    },
    {
      "cell_type": "markdown",
      "metadata": {
        "id": "heq7XTcbQoLs"
      },
      "source": [
        "#### **Desafio 6 - Criar Uma Tabela com a Quantidade Clientes Relativo a Base por Faixas Atraso**\n",
        "---\n"
      ]
    },
    {
      "cell_type": "markdown",
      "metadata": {
        "id": "UTzGNzHFYsGh"
      },
      "source": [
        "A maneira mais simples de fazer isso é reaproveitando o código que usamos para calcular a taxa de maus pagadores mas não fazer a divisão pelo total de clientes.\n",
        "\n",
        "Para saber os totais, pegaremos a última linha (60) do *dataframe* resultante."
      ]
    },
    {
      "cell_type": "code",
      "metadata": {
        "colab": {
          "base_uri": "https://localhost:8080/"
        },
        "id": "abSkF9wXSmVA",
        "outputId": "eef804d3-e7fe-43d6-ba14-d3c6fb7cfc2a"
      },
      "source": [
        "dict_qtd_mau = {} \n",
        "\n",
        "for chave in dict_intervalo_atraso.keys():\n",
        "  df_min_mau = dados_aprovados.query(f'Mau_{chave} == 1').groupby('ID_Cliente')['MOB'].min().reset_index()\n",
        "  df_mob_qtd_mau = pd.DataFrame({'MOB':range(0,61), 'Qtd_Mau': np.nan})\n",
        "  lst = [] \n",
        "  for i in range(0,61): \n",
        "      due = df_min_mau.query('MOB == @i')['ID_Cliente'].to_list()\n",
        "      lst.extend(due) \n",
        "      df_mob_qtd_mau.loc[df_mob_qtd_mau['MOB'] == i, 'Qtd_Mau'] = len(set(lst))\n",
        "  dict_qtd_mau[chave] = df_mob_qtd_mau['Qtd_Mau']\n",
        "\n",
        "df_qtd_mau = pd.DataFrame(dict_qtd_mau)\n",
        "df_qtd_mau.loc[60]"
      ],
      "execution_count": 168,
      "outputs": [
        {
          "output_type": "execute_result",
          "data": {
            "text/plain": [
              "maior_30_dias    5,350.000000\n",
              "maior_60_dias      667.000000\n",
              "maior_90_dias      331.000000\n",
              "maior_120_dias     243.000000\n",
              "maior_150_dias     195.000000\n",
              "Name: 60, dtype: float64"
            ]
          },
          "metadata": {},
          "execution_count": 168
        }
      ]
    },
    {
      "cell_type": "markdown",
      "metadata": {
        "id": "nlU1-bYkQoSG"
      },
      "source": [
        "#### **Desafio 7 - Pesquisar Técnicas para Resolver** ***Target***\n",
        "---\n",
        "\n",
        "Encontrar maneiras de resolver quando temos uma base de treino desbalanceada como é o caso dessa."
      ]
    },
    {
      "cell_type": "markdown",
      "metadata": {
        "id": "1n_ov7GcbH9O"
      },
      "source": [
        "Pesquisei e encontrei diversos artigos a respeito. Destaco o que achei mais interessante:\n",
        "\n",
        "* **Over Sampling:** aumentamos as amostras da classe que estiver com menor representação em nossa base, replicando dados de forma aleatória\n",
        "* **SMOTE (Synthetic Minority Over-sampling Technique):** gera novos dados (não duplicados) da classe minoritária a partir de vizinhos. Se forem geradas muitas amostras, pode levar ao *overfitting*\n",
        "* **Under Sampling:** reduzimos de forma aleatória as amostras da classe que estiver com maior representação em nossa base\n",
        "* **Near Miss:** reduzimos a classe majoritária com base na distância entre os dados\n",
        "\n",
        "&nbsp;\n",
        "\n",
        "**REFERÊNCIAS:**\n",
        "* [Como lidar com dados desbalanceados?](https://sigmoidal.ai/como-lidar-com-dados-desbalanceados/)\n",
        "* [Lidando com Classes Desbalanceadas – Machine Learning](https://minerandodados.com.br/lidando-com-classes-desbalanceadas-machine-learning/)\n",
        "* [Como lidar com dados desbalanceados em problemas de classificação](https://medium.com/data-hackers/como-lidar-com-dados-desbalanceados-em-problemas-de-classifica%C3%A7%C3%A3o-17c4d4357ef9)"
      ]
    }
  ]
}