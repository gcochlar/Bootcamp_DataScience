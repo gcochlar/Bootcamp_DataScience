{
  "nbformat": 4,
  "nbformat_minor": 0,
  "metadata": {
    "colab": {
      "name": "Bootcamp - Mod2 - Aula02.ipynb",
      "provenance": [],
      "collapsed_sections": [],
      "toc_visible": true,
      "authorship_tag": "ABX9TyPQMvwlNaIicz9HTu3/yIlO",
      "include_colab_link": true
    },
    "kernelspec": {
      "name": "python3",
      "display_name": "Python 3"
    },
    "language_info": {
      "name": "python"
    }
  },
  "cells": [
    {
      "cell_type": "markdown",
      "metadata": {
        "id": "view-in-github",
        "colab_type": "text"
      },
      "source": [
        "<a href=\"https://colab.research.google.com/github/gcochlar/Bootcamp_DataScience/blob/main/Modulo_02/Bootcamp_Mod2_Aula02.ipynb\" target=\"_parent\"><img src=\"https://colab.research.google.com/assets/colab-badge.svg\" alt=\"Open In Colab\"/></a>"
      ]
    },
    {
      "cell_type": "markdown",
      "metadata": {
        "id": "BZKKSXVwpVfu"
      },
      "source": [
        "<img src=\"https://drive.google.com/uc?id=16O9eMrtSeRDnDpZgmneXj34eIClCntvg\">"
      ]
    },
    {
      "cell_type": "markdown",
      "metadata": {
        "id": "tKeX4KHBZUkZ"
      },
      "source": [
        "# **Tratamento, Exploração e Visualização de Dados**\n",
        "---\n",
        "\n",
        "Esse notebook servirá para o acompanhamento das aulas do Módulo 02 do ***Bootcamp de Data Science Aplicada*** realizado pela Alura.\n",
        "\n",
        "Esse módulo será focado em aprofundar as análises realizadas no Módulo 01, trazendo dados de diferentes fontes e novas ferramentas gráficas para melhorar a visualização.\n",
        "\n",
        "---"
      ]
    },
    {
      "cell_type": "markdown",
      "metadata": {
        "id": "IOJYQLwvbh7E"
      },
      "source": [
        "## **Aula 01 - Fontes Externas, Limpeza e Manipulação**\n",
        "---\n"
      ]
    },
    {
      "cell_type": "markdown",
      "metadata": {
        "id": "dOVRpiBteZYt"
      },
      "source": [
        "### Aula 01 - Vídeo 01\n",
        "Atividade 3 - Usando fontes alternativas de dados"
      ]
    },
    {
      "cell_type": "markdown",
      "metadata": {
        "id": "WCAaut6N_wGN"
      },
      "source": [
        "#### **Importação de Bibliotecas e Parametrizações Iniciais**\n",
        "---\n",
        "Vamos começar importando as diversas bibliotecas que usaremos ao longo desse notebook e realizando algumas configurações de parâmetros gerais que serão igualmente úteis."
      ]
    },
    {
      "cell_type": "code",
      "metadata": {
        "id": "IQh8UR2JZJJF"
      },
      "source": [
        "#Biblioteca de Análise de Dados\n",
        "import pandas as pd\n",
        "import random\n",
        "import numpy as np\n",
        "from io import StringIO\n",
        "\n",
        "#Bibliotecas de Criação de Visualizações Gráficas\n",
        "import matplotlib.pyplot as plt\n",
        "import matplotlib.ticker as ticker\n",
        "from matplotlib.gridspec import GridSpec\n",
        "from matplotlib.patches import Patch\n",
        "import seaborn as sns\n",
        "#import plotly.graph_objects as go\n",
        "#import plotly.express as px\n",
        "\n",
        "#Bibliotecas de Apresentação de Informações no Google Colab\n",
        "from google.colab import widgets, output\n",
        "#import warnings\n",
        "\n",
        "#Ignorar Avisos do Python\n",
        "#warnings.filterwarnings('ignore')\n",
        "\n",
        "#Formatando a exibição de números\n",
        "pd.options.display.float_format = '{:,.2f}'.format\n",
        "\n",
        "#Criando atalhos para usar cores nos textos de print\n",
        "class color:\n",
        "   PURPLE = '\\033[95m'\n",
        "   CYAN = '\\033[96m'\n",
        "   DARKCYAN = '\\033[36m'\n",
        "   BLUE = '\\033[94m'\n",
        "   GREEN = '\\033[92m'\n",
        "   YELLOW = '\\033[93m'\n",
        "   RED = '\\033[91m'\n",
        "   BOLD = '\\033[1m'\n",
        "   ITALIC = '\\033[3m'\n",
        "   UNDERLINE = '\\033[4m'\n",
        "   END = '\\033[0m'"
      ],
      "execution_count": 1,
      "outputs": []
    },
    {
      "cell_type": "markdown",
      "metadata": {
        "id": "IFtLPSgJATUP"
      },
      "source": [
        "Tendo as bibliotecas importadas, vamos à importação dos arquivos de dados. Como a intenção desse módulo é trabalhar com os dados mais recentes, acessei novamente o [TabNet](http://www2.datasus.gov.br/DATASUS/index.php?area=0202&id=11633&VObj=http://tabnet.datasus.gov.br/cgi/deftohtm.exe?sih/cnv/qi) e constatei que os dados atualmente no site já foram atualizados em relação aos importados no Módulo 1.\n"
      ]
    },
    {
      "cell_type": "markdown",
      "metadata": {
        "id": "UfEXQ7tyZv9J"
      },
      "source": [
        "#### **Leitura Inicial dos Dados Atualizados**"
      ]
    },
    {
      "cell_type": "markdown",
      "metadata": {
        "id": "sjJJCTYGZutc"
      },
      "source": [
        "Baixei então uma base atualizada (em 01/06/2021) e a coloquei no repositório do *GitHub*. Será com ela que trabalharemos nesse módulo, mesmo tendo que fazer novas verificações da consistência dos dados importados.\n",
        "\n",
        "Como a importação, validação e preparação dos dados já foi feita no módulo anterior, vamos passar rapidamente pela sequência de código necessário para os seguintes passos:\n",
        "* importar arquivo CSV de dados;\n",
        "* validar os dados obtidos;\n",
        "* eliminar colunas anteriores à 2008/Fev, que apresentam informações incompletas;\n",
        "* acertar o índice do *DataFrame* para ser o nome de cada UF;\n",
        "* incluir uma coluna com a informação de região geográfica de cada UF, para permitir agrupamentos;\n"
      ]
    },
    {
      "cell_type": "code",
      "metadata": {
        "id": "K6zVahh7AZX1"
      },
      "source": [
        "# Estabelecendo a url de localização do arquivo CSV\n",
        "url_atendimento_v2='https://github.com/gcochlar/Bootcamp_DataScience/raw/main/dados/BaseDadosDataSUS-Estado-Atendimento_v2.csv'"
      ],
      "execution_count": 2,
      "outputs": []
    },
    {
      "cell_type": "code",
      "metadata": {
        "id": "GZCX7xvrAlKM"
      },
      "source": [
        "# Importando o arquivo CSV, já desprezando a coluna 'Total'\n",
        "# e colocando a coluna de UF como índice \n",
        "atends=pd.read_csv(url_atendimento_v2,\n",
        "                   encoding='ISO-8859-1', engine='python',\n",
        "                      skiprows=3, skipfooter=12,\n",
        "                      sep=';',thousands='.', decimal=',',\n",
        "                      index_col=0).drop('Total',axis=1)"
      ],
      "execution_count": 3,
      "outputs": []
    },
    {
      "cell_type": "code",
      "metadata": {
        "id": "MJT1qjKOC0Ld"
      },
      "source": [
        "# Desprezando as colunas iniciais, que apresentam dados incompletos\n",
        "# Colunas anteriores a 2008/Fev foram desprezadas\n",
        "atends.drop(atends.columns[:127],axis=1,inplace=True)"
      ],
      "execution_count": 4,
      "outputs": []
    },
    {
      "cell_type": "code",
      "metadata": {
        "colab": {
          "base_uri": "https://localhost:8080/"
        },
        "id": "rulOit9YJIcm",
        "outputId": "c1610c10-3f33-4d4b-a12b-3bb98e07e79f"
      },
      "source": [
        "# Confirmando que os dados que sobraram na base estão como numéricos\n",
        "atends.T.info()"
      ],
      "execution_count": 5,
      "outputs": [
        {
          "output_type": "stream",
          "text": [
            "<class 'pandas.core.frame.DataFrame'>\n",
            "Index: 158 entries, 2008/Fev to 2021/Mar\n",
            "Data columns (total 27 columns):\n",
            " #   Column                  Non-Null Count  Dtype  \n",
            "---  ------                  --------------  -----  \n",
            " 0   11 Rondônia             158 non-null    float64\n",
            " 1   12 Acre                 158 non-null    float64\n",
            " 2   13 Amazonas             158 non-null    float64\n",
            " 3   14 Roraima              158 non-null    float64\n",
            " 4   15 Pará                 158 non-null    float64\n",
            " 5   16 Amapá                158 non-null    float64\n",
            " 6   17 Tocantins            158 non-null    float64\n",
            " 7   21 Maranhão             158 non-null    float64\n",
            " 8   22 Piauí                158 non-null    float64\n",
            " 9   23 Ceará                158 non-null    float64\n",
            " 10  24 Rio Grande do Norte  158 non-null    float64\n",
            " 11  25 Paraíba              158 non-null    float64\n",
            " 12  26 Pernambuco           158 non-null    float64\n",
            " 13  27 Alagoas              158 non-null    float64\n",
            " 14  28 Sergipe              158 non-null    float64\n",
            " 15  29 Bahia                158 non-null    float64\n",
            " 16  31 Minas Gerais         158 non-null    float64\n",
            " 17  32 Espírito Santo       158 non-null    float64\n",
            " 18  33 Rio de Janeiro       158 non-null    float64\n",
            " 19  35 São Paulo            158 non-null    float64\n",
            " 20  41 Paraná               158 non-null    float64\n",
            " 21  42 Santa Catarina       158 non-null    float64\n",
            " 22  43 Rio Grande do Sul    158 non-null    float64\n",
            " 23  50 Mato Grosso do Sul   158 non-null    float64\n",
            " 24  51 Mato Grosso          158 non-null    float64\n",
            " 25  52 Goiás                158 non-null    float64\n",
            " 26  53 Distrito Federal     158 non-null    float64\n",
            "dtypes: float64(27)\n",
            "memory usage: 34.6+ KB\n"
          ],
          "name": "stdout"
        }
      ]
    },
    {
      "cell_type": "code",
      "metadata": {
        "id": "4_fB2HuFBzVY"
      },
      "source": [
        "# Separando a coluna 'Unidade da Federação' em código e nome\n",
        "atends.insert(0,'UF','xxx')\n",
        "atends[['Código UF','UF']]=atends.index.str.split(' ',1).tolist()\n",
        "atends=atends.reset_index().set_index('UF').drop('Unidade da Federação',axis=1)\n",
        "\n",
        "# Usando o código para determinar a região geográfica\n",
        "atends['Região']=atends['Código UF'].str[0]\n",
        "dict_regioes = {'1' : 'Norte', '2' : 'Nordeste',\n",
        "                '3' : 'Sudeste', '4' : 'Sul',\n",
        "                '5' : 'Centro-Oeste'}\n",
        "\n",
        "# Acrescentando a coluna 'Região' e eliminando a coluna de código\n",
        "atends['Região']=atends['Região'].map(dict_regioes)\n",
        "atends.drop('Código UF',axis=1,inplace=True)"
      ],
      "execution_count": 6,
      "outputs": []
    },
    {
      "cell_type": "markdown",
      "metadata": {
        "id": "gWhKAY9cKFAO"
      },
      "source": [
        "Temos agora nossa base com as 27 UFs e os dados mensais entre 2008/Fev e 2021/Mar. Antes de prosseguir, vamos verificar os totais dos últimos 6 meses de dados que temos."
      ]
    },
    {
      "cell_type": "code",
      "metadata": {
        "colab": {
          "base_uri": "https://localhost:8080/"
        },
        "id": "cmG8HP5uI_jd",
        "outputId": "f40b31dd-a223-48ab-90b8-f08dc7e21824"
      },
      "source": [
        "atends.drop('Região',axis=1).sum().tail(6)"
      ],
      "execution_count": 7,
      "outputs": [
        {
          "output_type": "execute_result",
          "data": {
            "text/plain": [
              "2020/Out   1,455,575,204.34\n",
              "2020/Nov   1,450,857,674.98\n",
              "2020/Dez   1,451,868,546.56\n",
              "2021/Jan   1,335,800,905.13\n",
              "2021/Fev   1,052,795,454.22\n",
              "2021/Mar     652,420,247.87\n",
              "dtype: float64"
            ]
          },
          "metadata": {
            "tags": []
          },
          "execution_count": 7
        }
      ]
    },
    {
      "cell_type": "markdown",
      "metadata": {
        "id": "l5lnnK5nKUPu"
      },
      "source": [
        "Podemos ver que os dados de 2021 ainda se apresentam abaixo dos meses anteriores, um indicativo de que ainda podem estar faltando informações. Como o próprio *site* avisa, os dados referentes aos últimos 6 meses são passíveis de alterações.\n",
        "\n",
        "Sendo assim, vamos desprezar também os dados de 2021, ficando somente com os dados até 2020/Dez."
      ]
    },
    {
      "cell_type": "code",
      "metadata": {
        "id": "ZFXbjEenK8XS"
      },
      "source": [
        "# Elimina as colunas '2021/Jan', '2021/Fev' e '2021/Mar'\n",
        "atends.drop(['2021/Jan','2021/Fev','2021/Mar'], axis=1, inplace=True)"
      ],
      "execution_count": 8,
      "outputs": []
    },
    {
      "cell_type": "code",
      "metadata": {
        "colab": {
          "base_uri": "https://localhost:8080/",
          "height": 35
        },
        "id": "NObRabiCJA4u",
        "outputId": "a1c25b13-6173-4e80-b8ae-d96d2c355276"
      },
      "source": [
        "# Verifica qual o último mês da base\n",
        "mes_recente = atends.columns[-2]\n",
        "\n",
        "# Para usar o mesmo mês visto nas aulas, vou forçar o valor da variável 'mes_recente'\n",
        "mes_recente='2020/Jul'\n",
        "mes_recente"
      ],
      "execution_count": 9,
      "outputs": [
        {
          "output_type": "execute_result",
          "data": {
            "application/vnd.google.colaboratory.intrinsic+json": {
              "type": "string"
            },
            "text/plain": [
              "'2020/Jul'"
            ]
          },
          "metadata": {
            "tags": []
          },
          "execution_count": 9
        }
      ]
    },
    {
      "cell_type": "markdown",
      "metadata": {
        "id": "zsLxybUJTeHE"
      },
      "source": [
        "Plotando um gráfico de barras dos valores gastos do mês mais recente (2020/Dez, no caso), temos uma difícil comparação entre as UFs.\n",
        "\n",
        "Na direita, usamos os valores proporcionais ao total do mês."
      ]
    },
    {
      "cell_type": "code",
      "metadata": {
        "colab": {
          "base_uri": "https://localhost:8080/",
          "height": 480
        },
        "id": "L2QHULoBLkhy",
        "outputId": "188f5273-b2bc-4bfd-e455-061d960122a6"
      },
      "source": [
        "atends_mes_recente = atends[mes_recente].sort_values(ascending=False)\n",
        "atends_proporcionais = atends_mes_recente/atends_mes_recente.sum()\n",
        "\n",
        "fig, (ax1,ax2)=plt.subplots(nrows=1,ncols=2,figsize=(15,6))\n",
        "\n",
        "ax1 = (atends_mes_recente/1000000).plot(kind='bar',ax=ax1)\n",
        "ax1.yaxis.set_major_formatter(\n",
        "    ticker.StrMethodFormatter('R$ {x:,.0f} MM'))\n",
        "\n",
        "ax2 = atends_proporcionais.plot(kind='bar', ax=ax2)\n",
        "ax2.yaxis.set_major_formatter(\n",
        "    ticker.StrMethodFormatter('{x:,.0%}'))\n",
        "\n",
        "plt.show()"
      ],
      "execution_count": 10,
      "outputs": [
        {
          "output_type": "display_data",
          "data": {
            "image/png": "[encoded data removed]",
            "text/plain": [
              "<Figure size 1080x432 with 2 Axes>"
            ]
          },
          "metadata": {
            "tags": [],
            "needs_background": "light"
          }
        }
      ]
    },
    {
      "cell_type": "markdown",
      "metadata": {
        "id": "dr8o2jU7Uetw"
      },
      "source": [
        "Apesar de termos o mesmo desenho gráfico, na direita podemos entender que SP ficou com algo em torno de 23% dos recursos do mês enquando MG, na 2ª posição, ficou com pouco mais de 10% do total.\n",
        "\n",
        "Mesmo assim, a comparação pode ser melhorada se incluirmos os dados referentes à população, para avaliarmos os valores *per capita*.\n"
      ]
    },
    {
      "cell_type": "markdown",
      "metadata": {
        "id": "n38_gve1pHZC"
      },
      "source": [
        "#### Importando Dados Demográficos\n",
        "---"
      ]
    },
    {
      "cell_type": "markdown",
      "metadata": {
        "id": "ML7vs5mFpE3d"
      },
      "source": [
        "O último censo brasileiro foi realizado em 2010, distante da data que estamos trabalhando. No Super Desafio do Módulo 1 usei os dados disponíveis no *TabNet* projetados pelo IBGE, também em formato CSV.\n",
        "\n",
        "Mas a ideia aqui é buscar fontes alternativas de dados. Vamos recorrer à Wikipedia e importar os dados diretamente de lá, copiando e colando em uma variável *string*."
      ]
    },
    {
      "cell_type": "code",
      "metadata": {
        "id": "vvGKOtw2LnVq"
      },
      "source": [
        "# Fonte: https://pt.wikipedia.org/wiki/Lista_de_unidades_federativas_do_Brasil_por_popula%C3%A7%C3%A3o\n",
        "# Data : 01/06/2021, 18:00\n",
        "\n",
        "pop_projetada_str='''Posição\tUnidade federativa\tPopulação\t% da pop. total\tPaís comparável\n",
        "(habitantes)\n",
        "1\t São Paulo\t46 289 333\t21,9%\tFlag of Spain.svg Espanha (46 439 864)\n",
        "2\t Minas Gerais\t21 292 666\t10,1%\t Sri Lanka (20 675 000)\n",
        "3\t Rio de Janeiro\t17 366 189\t8,2%\t Países Baixos (16 922 900)\n",
        "4\tBahia Bahia\t14 930 634\t7,1%\t Chade (14 037 000)\n",
        "5\t Paraná\t11 516 840\t5,4%\t Bolívia (11 410 651)\n",
        "6\t Rio Grande do Sul\t11 422 973\t5,4%\t Bélgica (11 250 659)\n",
        "7\t Pernambuco\t9 616 621\t4,5%\t Bielorrússia (9 485 300)\n",
        "8\t Ceará\t9 187 103\t4,3%\t Emirados Árabes Unidos (9 157 000)\n",
        "9\tPará Pará\t8 690 745\t4,1%\t Áustria (8 602 112)\n",
        "10\t Santa Catarina\t7 252 502\t3,4%\t Sérvia (7 114 393)\n",
        "11\t Maranhão\t7 114 598\t3,4%\t Paraguai (7 003 406)\n",
        "12\t Goiás\t7 113 540\t3,4%\t Paraguai (7 003 406)\n",
        "13\t Amazonas\t4 207 714\t2,0%\t Líbano (4 168 000)\n",
        "14\t Espírito Santo\t4 064 052\t1,9%\t Líbano (4 168 000)\n",
        "15\t Paraíba\t4 039 277\t1,9%\t Líbano (4 168 000)\n",
        "16\t Rio Grande do Norte\t3 534 165\t1,7%\t Uruguai (3 415 866)\n",
        "17\t Mato Grosso\t3 526 220\t1,7%\t Uruguai (3 415 866)\n",
        "18\t Alagoas\t3 351 543\t1,6%\t Uruguai (3 415 866)\n",
        "19\t Piauí\t3 281 480\t1,6%\t Kuwait (3 268 431)\n",
        "20\t Distrito Federal\t3 055 149\t1,4%\t Lituânia (2 900 787)\n",
        "21\t Mato Grosso do Sul\t2 809 394\t1,3%\t Jamaica (2 717 991)\n",
        "22\t Sergipe\t2 318 822\t1,1%\t Namíbia (2 280 700)\n",
        "23\t Rondônia\t1 796 460\t0,8%\t Gabão (1 725 000)\n",
        "24\t Tocantins\t1 590 248\t0,7%\t Bahrein (1 359 800)\n",
        "25\t Acre\t894 470\t0,4%\t Fiji (859 178)\n",
        "26\t Amapá\t861 773\t0,4%\t Fiji (859 178)\n",
        "27\t Roraima\t631 181\t0,3%\t Luxemburgo (562 958)'''"
      ],
      "execution_count": 11,
      "outputs": []
    },
    {
      "cell_type": "markdown",
      "metadata": {
        "id": "IsVCgqSVYXmH"
      },
      "source": [
        "Agora, tendo nossas informações armazenadas em um *string*, precisamos transformá-lo num fluxo de dados para poder ser lido usando o método **```read_csv```** que já vimos antes.\n",
        "\n"
      ]
    },
    {
      "cell_type": "code",
      "metadata": {
        "id": "4mcJlWKIYFfi"
      },
      "source": [
        "pop_projetada_IO = StringIO(pop_projetada_str)\n",
        "\n",
        "pop_projetada = pd.read_csv(pop_projetada_IO,\n",
        "                            sep='\\t')"
      ],
      "execution_count": 12,
      "outputs": []
    },
    {
      "cell_type": "markdown",
      "metadata": {
        "id": "Na_IkvVTZbSk"
      },
      "source": [
        "#### **Desafio - Ler essas informações diretamente da página da** ***Wikipedia***\n",
        "---"
      ]
    },
    {
      "cell_type": "code",
      "metadata": {
        "colab": {
          "base_uri": "https://localhost:8080/",
          "height": 886
        },
        "id": "vqpHmHS2Y2py",
        "outputId": "0f4d28d6-fe03-493e-a94a-dd5f53af3ef4"
      },
      "source": [
        "### DESAFIO\n",
        "\n",
        "# Importar Bibliotecas necessárias\n",
        "import requests as r # Biblioteca para fazer requests\n",
        "from bs4 import BeautifulSoup # Biblioteca para importar páginas HTML\n",
        "\n",
        "# Definir a URL a ser importada\n",
        "url_wiki='https://pt.wikipedia.org/wiki/Lista_de_unidades_federativas_do_Brasil_por_popula%C3%A7%C3%A3o'\n",
        "response=r.get(url_wiki)\n",
        "\n",
        "# Transformar a importação em objeto BeautifulSoup\n",
        "soup=BeautifulSoup(response.text, 'html.parser')\n",
        "tabela_pop=soup.find('table',{'class':\"wikitable\"})\n",
        "\n",
        "# Converter o objeto BeautifulSoup em DataFrame\n",
        "# Coloca a linha [0] como nomes das colunas\n",
        "df_populacao=pd.DataFrame(pd.read_html(str(tabela_pop))[0])\n",
        "\n",
        "display(df_populacao)"
      ],
      "execution_count": 13,
      "outputs": [
        {
          "output_type": "display_data",
          "data": {
            "text/html": [
              "<div>\n",
              "<style scoped>\n",
              "    .dataframe tbody tr th:only-of-type {\n",
              "        vertical-align: middle;\n",
              "    }\n",
              "\n",
              "    .dataframe tbody tr th {\n",
              "        vertical-align: top;\n",
              "    }\n",
              "\n",
              "    .dataframe thead th {\n",
              "        text-align: right;\n",
              "    }\n",
              "</style>\n",
              "<table border=\"1\" class=\"dataframe\">\n",
              "  <thead>\n",
              "    <tr style=\"text-align: right;\">\n",
              "      <th></th>\n",
              "      <th>Posição</th>\n",
              "      <th>Unidade federativa</th>\n",
              "      <th>População</th>\n",
              "      <th>% da pop. total</th>\n",
              "      <th>País comparável (habitantes)</th>\n",
              "    </tr>\n",
              "  </thead>\n",
              "  <tbody>\n",
              "    <tr>\n",
              "      <th>0</th>\n",
              "      <td>1</td>\n",
              "      <td>São Paulo</td>\n",
              "      <td>46 289 333</td>\n",
              "      <td>21,9%</td>\n",
              "      <td>Espanha (46 439 864)</td>\n",
              "    </tr>\n",
              "    <tr>\n",
              "      <th>1</th>\n",
              "      <td>2</td>\n",
              "      <td>Minas Gerais</td>\n",
              "      <td>21 292 666</td>\n",
              "      <td>10,1%</td>\n",
              "      <td>Sri Lanka (20 675 000)</td>\n",
              "    </tr>\n",
              "    <tr>\n",
              "      <th>2</th>\n",
              "      <td>3</td>\n",
              "      <td>Rio de Janeiro</td>\n",
              "      <td>17 366 189</td>\n",
              "      <td>8,2%</td>\n",
              "      <td>Países Baixos (16 922 900)</td>\n",
              "    </tr>\n",
              "    <tr>\n",
              "      <th>3</th>\n",
              "      <td>4</td>\n",
              "      <td>Bahia</td>\n",
              "      <td>14 930 634</td>\n",
              "      <td>7,1%</td>\n",
              "      <td>Chade (14 037 000)</td>\n",
              "    </tr>\n",
              "    <tr>\n",
              "      <th>4</th>\n",
              "      <td>5</td>\n",
              "      <td>Paraná</td>\n",
              "      <td>11 516 840</td>\n",
              "      <td>5,4%</td>\n",
              "      <td>Bolívia (11 410 651)</td>\n",
              "    </tr>\n",
              "    <tr>\n",
              "      <th>5</th>\n",
              "      <td>6</td>\n",
              "      <td>Rio Grande do Sul</td>\n",
              "      <td>11 422 973</td>\n",
              "      <td>5,4%</td>\n",
              "      <td>Bélgica (11 250 659)</td>\n",
              "    </tr>\n",
              "    <tr>\n",
              "      <th>6</th>\n",
              "      <td>7</td>\n",
              "      <td>Pernambuco</td>\n",
              "      <td>9 616 621</td>\n",
              "      <td>4,5%</td>\n",
              "      <td>Bielorrússia (9 485 300)</td>\n",
              "    </tr>\n",
              "    <tr>\n",
              "      <th>7</th>\n",
              "      <td>8</td>\n",
              "      <td>Ceará</td>\n",
              "      <td>9 187 103</td>\n",
              "      <td>4,3%</td>\n",
              "      <td>Emirados Árabes Unidos (9 157 000)</td>\n",
              "    </tr>\n",
              "    <tr>\n",
              "      <th>8</th>\n",
              "      <td>9</td>\n",
              "      <td>Pará</td>\n",
              "      <td>8 690 745</td>\n",
              "      <td>4,1%</td>\n",
              "      <td>Áustria (8 602 112)</td>\n",
              "    </tr>\n",
              "    <tr>\n",
              "      <th>9</th>\n",
              "      <td>10</td>\n",
              "      <td>Santa Catarina</td>\n",
              "      <td>7 252 502</td>\n",
              "      <td>3,4%</td>\n",
              "      <td>Sérvia (7 114 393)</td>\n",
              "    </tr>\n",
              "    <tr>\n",
              "      <th>10</th>\n",
              "      <td>11</td>\n",
              "      <td>Maranhão</td>\n",
              "      <td>7 114 598</td>\n",
              "      <td>3,4%</td>\n",
              "      <td>Paraguai (7 003 406)</td>\n",
              "    </tr>\n",
              "    <tr>\n",
              "      <th>11</th>\n",
              "      <td>12</td>\n",
              "      <td>Goiás</td>\n",
              "      <td>7 113 540</td>\n",
              "      <td>3,4%</td>\n",
              "      <td>Paraguai (7 003 406)</td>\n",
              "    </tr>\n",
              "    <tr>\n",
              "      <th>12</th>\n",
              "      <td>13</td>\n",
              "      <td>Amazonas</td>\n",
              "      <td>4 207 714</td>\n",
              "      <td>2,0%</td>\n",
              "      <td>Líbano (4 168 000)</td>\n",
              "    </tr>\n",
              "    <tr>\n",
              "      <th>13</th>\n",
              "      <td>14</td>\n",
              "      <td>Espírito Santo</td>\n",
              "      <td>4 064 052</td>\n",
              "      <td>1,9%</td>\n",
              "      <td>Líbano (4 168 000)</td>\n",
              "    </tr>\n",
              "    <tr>\n",
              "      <th>14</th>\n",
              "      <td>15</td>\n",
              "      <td>Paraíba</td>\n",
              "      <td>4 039 277</td>\n",
              "      <td>1,9%</td>\n",
              "      <td>Líbano (4 168 000)</td>\n",
              "    </tr>\n",
              "    <tr>\n",
              "      <th>15</th>\n",
              "      <td>16</td>\n",
              "      <td>Rio Grande do Norte</td>\n",
              "      <td>3 534 165</td>\n",
              "      <td>1,7%</td>\n",
              "      <td>Uruguai (3 415 866)</td>\n",
              "    </tr>\n",
              "    <tr>\n",
              "      <th>16</th>\n",
              "      <td>17</td>\n",
              "      <td>Mato Grosso</td>\n",
              "      <td>3 526 220</td>\n",
              "      <td>1,7%</td>\n",
              "      <td>Uruguai (3 415 866)</td>\n",
              "    </tr>\n",
              "    <tr>\n",
              "      <th>17</th>\n",
              "      <td>18</td>\n",
              "      <td>Alagoas</td>\n",
              "      <td>3 351 543</td>\n",
              "      <td>1,6%</td>\n",
              "      <td>Uruguai (3 415 866)</td>\n",
              "    </tr>\n",
              "    <tr>\n",
              "      <th>18</th>\n",
              "      <td>19</td>\n",
              "      <td>Piauí</td>\n",
              "      <td>3 281 480</td>\n",
              "      <td>1,6%</td>\n",
              "      <td>Kuwait (3 268 431)</td>\n",
              "    </tr>\n",
              "    <tr>\n",
              "      <th>19</th>\n",
              "      <td>20</td>\n",
              "      <td>Distrito Federal</td>\n",
              "      <td>3 055 149</td>\n",
              "      <td>1,4%</td>\n",
              "      <td>Lituânia (2 900 787)</td>\n",
              "    </tr>\n",
              "    <tr>\n",
              "      <th>20</th>\n",
              "      <td>21</td>\n",
              "      <td>Mato Grosso do Sul</td>\n",
              "      <td>2 809 394</td>\n",
              "      <td>1,3%</td>\n",
              "      <td>Jamaica (2 717 991)</td>\n",
              "    </tr>\n",
              "    <tr>\n",
              "      <th>21</th>\n",
              "      <td>22</td>\n",
              "      <td>Sergipe</td>\n",
              "      <td>2 318 822</td>\n",
              "      <td>1,1%</td>\n",
              "      <td>Namíbia (2 280 700)</td>\n",
              "    </tr>\n",
              "    <tr>\n",
              "      <th>22</th>\n",
              "      <td>23</td>\n",
              "      <td>Rondônia</td>\n",
              "      <td>1 796 460</td>\n",
              "      <td>0,8%</td>\n",
              "      <td>Gabão (1 725 000)</td>\n",
              "    </tr>\n",
              "    <tr>\n",
              "      <th>23</th>\n",
              "      <td>24</td>\n",
              "      <td>Tocantins</td>\n",
              "      <td>1 590 248</td>\n",
              "      <td>0,7%</td>\n",
              "      <td>Bahrein (1 359 800)</td>\n",
              "    </tr>\n",
              "    <tr>\n",
              "      <th>24</th>\n",
              "      <td>25</td>\n",
              "      <td>Acre</td>\n",
              "      <td>894 470</td>\n",
              "      <td>0,4%</td>\n",
              "      <td>Fiji (859 178)</td>\n",
              "    </tr>\n",
              "    <tr>\n",
              "      <th>25</th>\n",
              "      <td>26</td>\n",
              "      <td>Amapá</td>\n",
              "      <td>861 773</td>\n",
              "      <td>0,4%</td>\n",
              "      <td>Fiji (859 178)</td>\n",
              "    </tr>\n",
              "    <tr>\n",
              "      <th>26</th>\n",
              "      <td>27</td>\n",
              "      <td>Roraima</td>\n",
              "      <td>631 181</td>\n",
              "      <td>0,3%</td>\n",
              "      <td>Luxemburgo (562 958)</td>\n",
              "    </tr>\n",
              "  </tbody>\n",
              "</table>\n",
              "</div>"
            ],
            "text/plain": [
              "    Posição  ...        País comparável (habitantes)\n",
              "0         1  ...                Espanha (46 439 864)\n",
              "1         2  ...              Sri Lanka (20 675 000)\n",
              "2         3  ...          Países Baixos (16 922 900)\n",
              "3         4  ...                  Chade (14 037 000)\n",
              "4         5  ...                Bolívia (11 410 651)\n",
              "5         6  ...                Bélgica (11 250 659)\n",
              "6         7  ...            Bielorrússia (9 485 300)\n",
              "7         8  ...  Emirados Árabes Unidos (9 157 000)\n",
              "8         9  ...                 Áustria (8 602 112)\n",
              "9        10  ...                  Sérvia (7 114 393)\n",
              "10       11  ...                Paraguai (7 003 406)\n",
              "11       12  ...                Paraguai (7 003 406)\n",
              "12       13  ...                  Líbano (4 168 000)\n",
              "13       14  ...                  Líbano (4 168 000)\n",
              "14       15  ...                  Líbano (4 168 000)\n",
              "15       16  ...                 Uruguai (3 415 866)\n",
              "16       17  ...                 Uruguai (3 415 866)\n",
              "17       18  ...                 Uruguai (3 415 866)\n",
              "18       19  ...                  Kuwait (3 268 431)\n",
              "19       20  ...                Lituânia (2 900 787)\n",
              "20       21  ...                 Jamaica (2 717 991)\n",
              "21       22  ...                 Namíbia (2 280 700)\n",
              "22       23  ...                   Gabão (1 725 000)\n",
              "23       24  ...                 Bahrein (1 359 800)\n",
              "24       25  ...                      Fiji (859 178)\n",
              "25       26  ...                      Fiji (859 178)\n",
              "26       27  ...                Luxemburgo (562 958)\n",
              "\n",
              "[27 rows x 5 columns]"
            ]
          },
          "metadata": {
            "tags": []
          }
        }
      ]
    },
    {
      "cell_type": "markdown",
      "metadata": {
        "id": "YGq3EuYTdggP"
      },
      "source": [
        "#### **Desafio - Alterar a Tabela Importada**\n",
        "---\n",
        "* renomear a coluna 'Unidade Federativa' para 'UF'\n",
        "* desprezar as demais colunas\n",
        "* desprezar a linha 0\n",
        "* transformar 'UF' em índice\n",
        "* limpar os espaços entre os números da coluna 'População'\n",
        "---\n",
        "\n",
        "Em função da continuidade das aulas deste módulo, vou fazer as alterações em um *DataFrame* temporário (**```pop_temp```**)."
      ]
    },
    {
      "cell_type": "code",
      "metadata": {
        "colab": {
          "base_uri": "https://localhost:8080/",
          "height": 917
        },
        "id": "3G3XvdQCeEWH",
        "outputId": "2a5a6b70-7ed0-49e5-db09-6275bce5ffb2"
      },
      "source": [
        "### DESAFIO\n",
        "\n",
        "# Copiando o DataFrame\n",
        "pop_temp = pop_projetada\n",
        "\n",
        "# Renomeando a coluna 'UF'\n",
        "pop_temp = pop_temp.rename(columns={'Unidade federativa':'UF'})\n",
        "\n",
        "# Desprezar as demais colunas fora 'UF' e 'População'\n",
        "pop_temp = pop_temp.drop(columns=pop_temp.columns[-2:], axis=1).drop('Posição',axis=1)\n",
        "\n",
        "# Desprezar a linha 0\n",
        "pop_temp.drop([0],inplace=True)\n",
        "\n",
        "# Transformar 'UF' em índice\n",
        "pop_temp = pop_temp.reset_index().set_index('UF').drop('index',axis=1)\n",
        "\n",
        "# Limpar os espaços entre os números da coluna 'População'\n",
        "pop_temp['População'] = pop_temp['População'].str.replace(' ','')\n",
        "pop_temp = pop_temp.astype(float)\n",
        "\n",
        "# Exibindo o resultado\n",
        "display(pop_temp)"
      ],
      "execution_count": 14,
      "outputs": [
        {
          "output_type": "display_data",
          "data": {
            "text/html": [
              "<div>\n",
              "<style scoped>\n",
              "    .dataframe tbody tr th:only-of-type {\n",
              "        vertical-align: middle;\n",
              "    }\n",
              "\n",
              "    .dataframe tbody tr th {\n",
              "        vertical-align: top;\n",
              "    }\n",
              "\n",
              "    .dataframe thead th {\n",
              "        text-align: right;\n",
              "    }\n",
              "</style>\n",
              "<table border=\"1\" class=\"dataframe\">\n",
              "  <thead>\n",
              "    <tr style=\"text-align: right;\">\n",
              "      <th></th>\n",
              "      <th>População</th>\n",
              "    </tr>\n",
              "    <tr>\n",
              "      <th>UF</th>\n",
              "      <th></th>\n",
              "    </tr>\n",
              "  </thead>\n",
              "  <tbody>\n",
              "    <tr>\n",
              "      <th>São Paulo</th>\n",
              "      <td>46,289,333.00</td>\n",
              "    </tr>\n",
              "    <tr>\n",
              "      <th>Minas Gerais</th>\n",
              "      <td>21,292,666.00</td>\n",
              "    </tr>\n",
              "    <tr>\n",
              "      <th>Rio de Janeiro</th>\n",
              "      <td>17,366,189.00</td>\n",
              "    </tr>\n",
              "    <tr>\n",
              "      <th>Bahia Bahia</th>\n",
              "      <td>14,930,634.00</td>\n",
              "    </tr>\n",
              "    <tr>\n",
              "      <th>Paraná</th>\n",
              "      <td>11,516,840.00</td>\n",
              "    </tr>\n",
              "    <tr>\n",
              "      <th>Rio Grande do Sul</th>\n",
              "      <td>11,422,973.00</td>\n",
              "    </tr>\n",
              "    <tr>\n",
              "      <th>Pernambuco</th>\n",
              "      <td>9,616,621.00</td>\n",
              "    </tr>\n",
              "    <tr>\n",
              "      <th>Ceará</th>\n",
              "      <td>9,187,103.00</td>\n",
              "    </tr>\n",
              "    <tr>\n",
              "      <th>Pará Pará</th>\n",
              "      <td>8,690,745.00</td>\n",
              "    </tr>\n",
              "    <tr>\n",
              "      <th>Santa Catarina</th>\n",
              "      <td>7,252,502.00</td>\n",
              "    </tr>\n",
              "    <tr>\n",
              "      <th>Maranhão</th>\n",
              "      <td>7,114,598.00</td>\n",
              "    </tr>\n",
              "    <tr>\n",
              "      <th>Goiás</th>\n",
              "      <td>7,113,540.00</td>\n",
              "    </tr>\n",
              "    <tr>\n",
              "      <th>Amazonas</th>\n",
              "      <td>4,207,714.00</td>\n",
              "    </tr>\n",
              "    <tr>\n",
              "      <th>Espírito Santo</th>\n",
              "      <td>4,064,052.00</td>\n",
              "    </tr>\n",
              "    <tr>\n",
              "      <th>Paraíba</th>\n",
              "      <td>4,039,277.00</td>\n",
              "    </tr>\n",
              "    <tr>\n",
              "      <th>Rio Grande do Norte</th>\n",
              "      <td>3,534,165.00</td>\n",
              "    </tr>\n",
              "    <tr>\n",
              "      <th>Mato Grosso</th>\n",
              "      <td>3,526,220.00</td>\n",
              "    </tr>\n",
              "    <tr>\n",
              "      <th>Alagoas</th>\n",
              "      <td>3,351,543.00</td>\n",
              "    </tr>\n",
              "    <tr>\n",
              "      <th>Piauí</th>\n",
              "      <td>3,281,480.00</td>\n",
              "    </tr>\n",
              "    <tr>\n",
              "      <th>Distrito Federal</th>\n",
              "      <td>3,055,149.00</td>\n",
              "    </tr>\n",
              "    <tr>\n",
              "      <th>Mato Grosso do Sul</th>\n",
              "      <td>2,809,394.00</td>\n",
              "    </tr>\n",
              "    <tr>\n",
              "      <th>Sergipe</th>\n",
              "      <td>2,318,822.00</td>\n",
              "    </tr>\n",
              "    <tr>\n",
              "      <th>Rondônia</th>\n",
              "      <td>1,796,460.00</td>\n",
              "    </tr>\n",
              "    <tr>\n",
              "      <th>Tocantins</th>\n",
              "      <td>1,590,248.00</td>\n",
              "    </tr>\n",
              "    <tr>\n",
              "      <th>Acre</th>\n",
              "      <td>894,470.00</td>\n",
              "    </tr>\n",
              "    <tr>\n",
              "      <th>Amapá</th>\n",
              "      <td>861,773.00</td>\n",
              "    </tr>\n",
              "    <tr>\n",
              "      <th>Roraima</th>\n",
              "      <td>631,181.00</td>\n",
              "    </tr>\n",
              "  </tbody>\n",
              "</table>\n",
              "</div>"
            ],
            "text/plain": [
              "                         População\n",
              "UF                                \n",
              " São Paulo           46,289,333.00\n",
              " Minas Gerais        21,292,666.00\n",
              " Rio de Janeiro      17,366,189.00\n",
              "Bahia Bahia          14,930,634.00\n",
              " Paraná              11,516,840.00\n",
              " Rio Grande do Sul   11,422,973.00\n",
              " Pernambuco           9,616,621.00\n",
              " Ceará                9,187,103.00\n",
              "Pará Pará             8,690,745.00\n",
              " Santa Catarina       7,252,502.00\n",
              " Maranhão             7,114,598.00\n",
              " Goiás                7,113,540.00\n",
              " Amazonas             4,207,714.00\n",
              " Espírito Santo       4,064,052.00\n",
              " Paraíba              4,039,277.00\n",
              " Rio Grande do Norte  3,534,165.00\n",
              " Mato Grosso          3,526,220.00\n",
              " Alagoas              3,351,543.00\n",
              " Piauí                3,281,480.00\n",
              " Distrito Federal     3,055,149.00\n",
              " Mato Grosso do Sul   2,809,394.00\n",
              " Sergipe              2,318,822.00\n",
              " Rondônia             1,796,460.00\n",
              " Tocantins            1,590,248.00\n",
              " Acre                   894,470.00\n",
              " Amapá                  861,773.00\n",
              " Roraima                631,181.00"
            ]
          },
          "metadata": {
            "tags": []
          }
        }
      ]
    },
    {
      "cell_type": "markdown",
      "metadata": {
        "id": "6t3DOpVZo7LT"
      },
      "source": [
        "### Aula 01 - Vídeo 02\n",
        "Atividade 4 - Manipulação e junção de tabelas\n"
      ]
    },
    {
      "cell_type": "markdown",
      "metadata": {
        "id": "gJEYEJF1w05X"
      },
      "source": [
        "Começamos fazendo os ajustes do segundo desafio do vídeo anterior para limpar a nossa tabela importada da *Wikipedia*."
      ]
    },
    {
      "cell_type": "code",
      "metadata": {
        "colab": {
          "base_uri": "https://localhost:8080/",
          "height": 204
        },
        "id": "7mjZPza7ooTB",
        "outputId": "649cce20-68e6-451f-e153-5f9e122ac0da"
      },
      "source": [
        "pop_projetada.head()"
      ],
      "execution_count": 15,
      "outputs": [
        {
          "output_type": "execute_result",
          "data": {
            "text/html": [
              "<div>\n",
              "<style scoped>\n",
              "    .dataframe tbody tr th:only-of-type {\n",
              "        vertical-align: middle;\n",
              "    }\n",
              "\n",
              "    .dataframe tbody tr th {\n",
              "        vertical-align: top;\n",
              "    }\n",
              "\n",
              "    .dataframe thead th {\n",
              "        text-align: right;\n",
              "    }\n",
              "</style>\n",
              "<table border=\"1\" class=\"dataframe\">\n",
              "  <thead>\n",
              "    <tr style=\"text-align: right;\">\n",
              "      <th></th>\n",
              "      <th>Posição</th>\n",
              "      <th>Unidade federativa</th>\n",
              "      <th>População</th>\n",
              "      <th>% da pop. total</th>\n",
              "      <th>País comparável</th>\n",
              "    </tr>\n",
              "  </thead>\n",
              "  <tbody>\n",
              "    <tr>\n",
              "      <th>0</th>\n",
              "      <td>(habitantes)</td>\n",
              "      <td>NaN</td>\n",
              "      <td>NaN</td>\n",
              "      <td>NaN</td>\n",
              "      <td>NaN</td>\n",
              "    </tr>\n",
              "    <tr>\n",
              "      <th>1</th>\n",
              "      <td>1</td>\n",
              "      <td>São Paulo</td>\n",
              "      <td>46 289 333</td>\n",
              "      <td>21,9%</td>\n",
              "      <td>Flag of Spain.svg Espanha (46 439 864)</td>\n",
              "    </tr>\n",
              "    <tr>\n",
              "      <th>2</th>\n",
              "      <td>2</td>\n",
              "      <td>Minas Gerais</td>\n",
              "      <td>21 292 666</td>\n",
              "      <td>10,1%</td>\n",
              "      <td>Sri Lanka (20 675 000)</td>\n",
              "    </tr>\n",
              "    <tr>\n",
              "      <th>3</th>\n",
              "      <td>3</td>\n",
              "      <td>Rio de Janeiro</td>\n",
              "      <td>17 366 189</td>\n",
              "      <td>8,2%</td>\n",
              "      <td>Países Baixos (16 922 900)</td>\n",
              "    </tr>\n",
              "    <tr>\n",
              "      <th>4</th>\n",
              "      <td>4</td>\n",
              "      <td>Bahia Bahia</td>\n",
              "      <td>14 930 634</td>\n",
              "      <td>7,1%</td>\n",
              "      <td>Chade (14 037 000)</td>\n",
              "    </tr>\n",
              "  </tbody>\n",
              "</table>\n",
              "</div>"
            ],
            "text/plain": [
              "        Posição  ...                         País comparável\n",
              "0  (habitantes)  ...                                     NaN\n",
              "1             1  ...  Flag of Spain.svg Espanha (46 439 864)\n",
              "2             2  ...                  Sri Lanka (20 675 000)\n",
              "3             3  ...              Países Baixos (16 922 900)\n",
              "4             4  ...                      Chade (14 037 000)\n",
              "\n",
              "[5 rows x 5 columns]"
            ]
          },
          "metadata": {
            "tags": []
          },
          "execution_count": 15
        }
      ]
    },
    {
      "cell_type": "code",
      "metadata": {
        "id": "z5SdJEpepzbF"
      },
      "source": [
        "# Cria uma nova coluna com o nome 'UF'\n",
        "pop_projetada['UF'] = pop_projetada['Unidade federativa']\n",
        "\n",
        "# Elimina as linhas com dados nulos\n",
        "pop_projetada = pop_projetada.dropna()\n",
        "\n",
        "# Limpa os espaços e converte a coluna 'População' para o tipo Inteiro\n",
        "pop_projetada['População'] = pop_projetada['População'].str.replace(' ','').astype(int)\n",
        "\n",
        "# Pega somente as colunas que serão usadas e já estabelece a 'UF' como índice\n",
        "pop_projetada=pop_projetada[['População','UF']].set_index('UF')"
      ],
      "execution_count": 16,
      "outputs": []
    },
    {
      "cell_type": "code",
      "metadata": {
        "colab": {
          "base_uri": "https://localhost:8080/",
          "height": 388
        },
        "id": "rW13oJgIqB0Q",
        "outputId": "c4463a01-94ba-400e-b986-a8a2c5d33596"
      },
      "source": [
        "display(pop_projetada.head())\n",
        "display(pop_projetada.info())"
      ],
      "execution_count": 17,
      "outputs": [
        {
          "output_type": "display_data",
          "data": {
            "text/html": [
              "<div>\n",
              "<style scoped>\n",
              "    .dataframe tbody tr th:only-of-type {\n",
              "        vertical-align: middle;\n",
              "    }\n",
              "\n",
              "    .dataframe tbody tr th {\n",
              "        vertical-align: top;\n",
              "    }\n",
              "\n",
              "    .dataframe thead th {\n",
              "        text-align: right;\n",
              "    }\n",
              "</style>\n",
              "<table border=\"1\" class=\"dataframe\">\n",
              "  <thead>\n",
              "    <tr style=\"text-align: right;\">\n",
              "      <th></th>\n",
              "      <th>População</th>\n",
              "    </tr>\n",
              "    <tr>\n",
              "      <th>UF</th>\n",
              "      <th></th>\n",
              "    </tr>\n",
              "  </thead>\n",
              "  <tbody>\n",
              "    <tr>\n",
              "      <th>São Paulo</th>\n",
              "      <td>46289333</td>\n",
              "    </tr>\n",
              "    <tr>\n",
              "      <th>Minas Gerais</th>\n",
              "      <td>21292666</td>\n",
              "    </tr>\n",
              "    <tr>\n",
              "      <th>Rio de Janeiro</th>\n",
              "      <td>17366189</td>\n",
              "    </tr>\n",
              "    <tr>\n",
              "      <th>Bahia Bahia</th>\n",
              "      <td>14930634</td>\n",
              "    </tr>\n",
              "    <tr>\n",
              "      <th>Paraná</th>\n",
              "      <td>11516840</td>\n",
              "    </tr>\n",
              "  </tbody>\n",
              "</table>\n",
              "</div>"
            ],
            "text/plain": [
              "                 População\n",
              "UF                        \n",
              " São Paulo        46289333\n",
              " Minas Gerais     21292666\n",
              " Rio de Janeiro   17366189\n",
              "Bahia Bahia       14930634\n",
              " Paraná           11516840"
            ]
          },
          "metadata": {
            "tags": []
          }
        },
        {
          "output_type": "stream",
          "text": [
            "<class 'pandas.core.frame.DataFrame'>\n",
            "Index: 27 entries,  São Paulo to  Roraima\n",
            "Data columns (total 1 columns):\n",
            " #   Column     Non-Null Count  Dtype\n",
            "---  ------     --------------  -----\n",
            " 0   População  27 non-null     int64\n",
            "dtypes: int64(1)\n",
            "memory usage: 432.0+ bytes\n"
          ],
          "name": "stdout"
        },
        {
          "output_type": "display_data",
          "data": {
            "text/plain": [
              "None"
            ]
          },
          "metadata": {
            "tags": []
          }
        }
      ]
    },
    {
      "cell_type": "markdown",
      "metadata": {
        "id": "NM0MbuNcxd7E"
      },
      "source": [
        "Agora vamos tentar combinar as tabelas de população projetada e os gastos do mês mais recente em um único *DataFrame*."
      ]
    },
    {
      "cell_type": "code",
      "metadata": {
        "colab": {
          "base_uri": "https://localhost:8080/",
          "height": 1000
        },
        "id": "T2RPtGpLqDyw",
        "outputId": "bba8235e-ab68-4e4c-9c85-fbf37843728b"
      },
      "source": [
        "display(pop_projetada.join(atends_mes_recente))\n",
        "print('\\n')\n",
        "print(color.BOLD+color.DARKCYAN+'Índices da Tabela '+color.UNDERLINE+'pop_projetada')\n",
        "display(pop_projetada.index)"
      ],
      "execution_count": 18,
      "outputs": [
        {
          "output_type": "display_data",
          "data": {
            "text/html": [
              "<div>\n",
              "<style scoped>\n",
              "    .dataframe tbody tr th:only-of-type {\n",
              "        vertical-align: middle;\n",
              "    }\n",
              "\n",
              "    .dataframe tbody tr th {\n",
              "        vertical-align: top;\n",
              "    }\n",
              "\n",
              "    .dataframe thead th {\n",
              "        text-align: right;\n",
              "    }\n",
              "</style>\n",
              "<table border=\"1\" class=\"dataframe\">\n",
              "  <thead>\n",
              "    <tr style=\"text-align: right;\">\n",
              "      <th></th>\n",
              "      <th>População</th>\n",
              "      <th>2020/Jul</th>\n",
              "    </tr>\n",
              "    <tr>\n",
              "      <th>UF</th>\n",
              "      <th></th>\n",
              "      <th></th>\n",
              "    </tr>\n",
              "  </thead>\n",
              "  <tbody>\n",
              "    <tr>\n",
              "      <th>São Paulo</th>\n",
              "      <td>46289333</td>\n",
              "      <td>nan</td>\n",
              "    </tr>\n",
              "    <tr>\n",
              "      <th>Minas Gerais</th>\n",
              "      <td>21292666</td>\n",
              "      <td>nan</td>\n",
              "    </tr>\n",
              "    <tr>\n",
              "      <th>Rio de Janeiro</th>\n",
              "      <td>17366189</td>\n",
              "      <td>nan</td>\n",
              "    </tr>\n",
              "    <tr>\n",
              "      <th>Bahia Bahia</th>\n",
              "      <td>14930634</td>\n",
              "      <td>nan</td>\n",
              "    </tr>\n",
              "    <tr>\n",
              "      <th>Paraná</th>\n",
              "      <td>11516840</td>\n",
              "      <td>nan</td>\n",
              "    </tr>\n",
              "    <tr>\n",
              "      <th>Rio Grande do Sul</th>\n",
              "      <td>11422973</td>\n",
              "      <td>nan</td>\n",
              "    </tr>\n",
              "    <tr>\n",
              "      <th>Pernambuco</th>\n",
              "      <td>9616621</td>\n",
              "      <td>nan</td>\n",
              "    </tr>\n",
              "    <tr>\n",
              "      <th>Ceará</th>\n",
              "      <td>9187103</td>\n",
              "      <td>nan</td>\n",
              "    </tr>\n",
              "    <tr>\n",
              "      <th>Pará Pará</th>\n",
              "      <td>8690745</td>\n",
              "      <td>nan</td>\n",
              "    </tr>\n",
              "    <tr>\n",
              "      <th>Santa Catarina</th>\n",
              "      <td>7252502</td>\n",
              "      <td>nan</td>\n",
              "    </tr>\n",
              "    <tr>\n",
              "      <th>Maranhão</th>\n",
              "      <td>7114598</td>\n",
              "      <td>nan</td>\n",
              "    </tr>\n",
              "    <tr>\n",
              "      <th>Goiás</th>\n",
              "      <td>7113540</td>\n",
              "      <td>nan</td>\n",
              "    </tr>\n",
              "    <tr>\n",
              "      <th>Amazonas</th>\n",
              "      <td>4207714</td>\n",
              "      <td>nan</td>\n",
              "    </tr>\n",
              "    <tr>\n",
              "      <th>Espírito Santo</th>\n",
              "      <td>4064052</td>\n",
              "      <td>nan</td>\n",
              "    </tr>\n",
              "    <tr>\n",
              "      <th>Paraíba</th>\n",
              "      <td>4039277</td>\n",
              "      <td>nan</td>\n",
              "    </tr>\n",
              "    <tr>\n",
              "      <th>Rio Grande do Norte</th>\n",
              "      <td>3534165</td>\n",
              "      <td>nan</td>\n",
              "    </tr>\n",
              "    <tr>\n",
              "      <th>Mato Grosso</th>\n",
              "      <td>3526220</td>\n",
              "      <td>nan</td>\n",
              "    </tr>\n",
              "    <tr>\n",
              "      <th>Alagoas</th>\n",
              "      <td>3351543</td>\n",
              "      <td>nan</td>\n",
              "    </tr>\n",
              "    <tr>\n",
              "      <th>Piauí</th>\n",
              "      <td>3281480</td>\n",
              "      <td>nan</td>\n",
              "    </tr>\n",
              "    <tr>\n",
              "      <th>Distrito Federal</th>\n",
              "      <td>3055149</td>\n",
              "      <td>nan</td>\n",
              "    </tr>\n",
              "    <tr>\n",
              "      <th>Mato Grosso do Sul</th>\n",
              "      <td>2809394</td>\n",
              "      <td>nan</td>\n",
              "    </tr>\n",
              "    <tr>\n",
              "      <th>Sergipe</th>\n",
              "      <td>2318822</td>\n",
              "      <td>nan</td>\n",
              "    </tr>\n",
              "    <tr>\n",
              "      <th>Rondônia</th>\n",
              "      <td>1796460</td>\n",
              "      <td>nan</td>\n",
              "    </tr>\n",
              "    <tr>\n",
              "      <th>Tocantins</th>\n",
              "      <td>1590248</td>\n",
              "      <td>nan</td>\n",
              "    </tr>\n",
              "    <tr>\n",
              "      <th>Acre</th>\n",
              "      <td>894470</td>\n",
              "      <td>nan</td>\n",
              "    </tr>\n",
              "    <tr>\n",
              "      <th>Amapá</th>\n",
              "      <td>861773</td>\n",
              "      <td>nan</td>\n",
              "    </tr>\n",
              "    <tr>\n",
              "      <th>Roraima</th>\n",
              "      <td>631181</td>\n",
              "      <td>nan</td>\n",
              "    </tr>\n",
              "  </tbody>\n",
              "</table>\n",
              "</div>"
            ],
            "text/plain": [
              "                      População  2020/Jul\n",
              "UF                                       \n",
              " São Paulo             46289333       nan\n",
              " Minas Gerais          21292666       nan\n",
              " Rio de Janeiro        17366189       nan\n",
              "Bahia Bahia            14930634       nan\n",
              " Paraná                11516840       nan\n",
              " Rio Grande do Sul     11422973       nan\n",
              " Pernambuco             9616621       nan\n",
              " Ceará                  9187103       nan\n",
              "Pará Pará               8690745       nan\n",
              " Santa Catarina         7252502       nan\n",
              " Maranhão               7114598       nan\n",
              " Goiás                  7113540       nan\n",
              " Amazonas               4207714       nan\n",
              " Espírito Santo         4064052       nan\n",
              " Paraíba                4039277       nan\n",
              " Rio Grande do Norte    3534165       nan\n",
              " Mato Grosso            3526220       nan\n",
              " Alagoas                3351543       nan\n",
              " Piauí                  3281480       nan\n",
              " Distrito Federal       3055149       nan\n",
              " Mato Grosso do Sul     2809394       nan\n",
              " Sergipe                2318822       nan\n",
              " Rondônia               1796460       nan\n",
              " Tocantins              1590248       nan\n",
              " Acre                    894470       nan\n",
              " Amapá                   861773       nan\n",
              " Roraima                 631181       nan"
            ]
          },
          "metadata": {
            "tags": []
          }
        },
        {
          "output_type": "stream",
          "text": [
            "\n",
            "\n",
            "\u001b[1m\u001b[36mÍndices da Tabela \u001b[4mpop_projetada\n"
          ],
          "name": "stdout"
        },
        {
          "output_type": "display_data",
          "data": {
            "text/plain": [
              "Index([' São Paulo', ' Minas Gerais', ' Rio de Janeiro', 'Bahia Bahia',\n",
              "       ' Paraná', ' Rio Grande do Sul', ' Pernambuco', ' Ceará', 'Pará Pará',\n",
              "       ' Santa Catarina', ' Maranhão', ' Goiás', ' Amazonas',\n",
              "       ' Espírito Santo', ' Paraíba', ' Rio Grande do Norte', ' Mato Grosso',\n",
              "       ' Alagoas', ' Piauí', ' Distrito Federal', ' Mato Grosso do Sul',\n",
              "       ' Sergipe', ' Rondônia', ' Tocantins', ' Acre', ' Amapá', ' Roraima'],\n",
              "      dtype='object', name='UF')"
            ]
          },
          "metadata": {
            "tags": []
          }
        }
      ]
    },
    {
      "cell_type": "markdown",
      "metadata": {
        "id": "2_B1-iblxsXQ"
      },
      "source": [
        "Podemos ver que o **```join```** não funcionou, pois não trouxe nenhum dado da tabela de gastos (a coluna foi preenchida com '***nan***', ou seja, *Not A Number*. Isso ocorreu por termos índices com valores distintos nas duas tabelas.\n",
        "\n",
        "No vídeo não funcionou por dois motivos:\n",
        "* os dados de gastos ainda estavam com o código da UF antes do nome (mas isso eu já havia resolvido na importação inicial)\n",
        "* os dados de população obtidos da *Wikipedia* estão com espaços antes dos nomes das UFs, o que ainda precisa ser solucionado\n",
        "\n",
        "Aqui só precisaremos limpar os espaços que temos no início e no fim de cada valor do índice e rodar o **```join```** novamente.\n"
      ]
    },
    {
      "cell_type": "code",
      "metadata": {
        "colab": {
          "base_uri": "https://localhost:8080/",
          "height": 917
        },
        "id": "hohKC8dQvxzZ",
        "outputId": "d02764c4-58b2-4b0a-86c6-fdfba855aace"
      },
      "source": [
        "pop_projetada.index=pop_projetada.index.str.strip()\n",
        "\n",
        "display(pop_projetada.join(atends_mes_recente))"
      ],
      "execution_count": 19,
      "outputs": [
        {
          "output_type": "display_data",
          "data": {
            "text/html": [
              "<div>\n",
              "<style scoped>\n",
              "    .dataframe tbody tr th:only-of-type {\n",
              "        vertical-align: middle;\n",
              "    }\n",
              "\n",
              "    .dataframe tbody tr th {\n",
              "        vertical-align: top;\n",
              "    }\n",
              "\n",
              "    .dataframe thead th {\n",
              "        text-align: right;\n",
              "    }\n",
              "</style>\n",
              "<table border=\"1\" class=\"dataframe\">\n",
              "  <thead>\n",
              "    <tr style=\"text-align: right;\">\n",
              "      <th></th>\n",
              "      <th>População</th>\n",
              "      <th>2020/Jul</th>\n",
              "    </tr>\n",
              "    <tr>\n",
              "      <th>UF</th>\n",
              "      <th></th>\n",
              "      <th></th>\n",
              "    </tr>\n",
              "  </thead>\n",
              "  <tbody>\n",
              "    <tr>\n",
              "      <th>São Paulo</th>\n",
              "      <td>46289333</td>\n",
              "      <td>361,986,896.25</td>\n",
              "    </tr>\n",
              "    <tr>\n",
              "      <th>Minas Gerais</th>\n",
              "      <td>21292666</td>\n",
              "      <td>177,466,638.10</td>\n",
              "    </tr>\n",
              "    <tr>\n",
              "      <th>Rio de Janeiro</th>\n",
              "      <td>17366189</td>\n",
              "      <td>95,941,141.03</td>\n",
              "    </tr>\n",
              "    <tr>\n",
              "      <th>Bahia Bahia</th>\n",
              "      <td>14930634</td>\n",
              "      <td>nan</td>\n",
              "    </tr>\n",
              "    <tr>\n",
              "      <th>Paraná</th>\n",
              "      <td>11516840</td>\n",
              "      <td>123,856,640.55</td>\n",
              "    </tr>\n",
              "    <tr>\n",
              "      <th>Rio Grande do Sul</th>\n",
              "      <td>11422973</td>\n",
              "      <td>108,536,525.93</td>\n",
              "    </tr>\n",
              "    <tr>\n",
              "      <th>Pernambuco</th>\n",
              "      <td>9616621</td>\n",
              "      <td>73,730,927.63</td>\n",
              "    </tr>\n",
              "    <tr>\n",
              "      <th>Ceará</th>\n",
              "      <td>9187103</td>\n",
              "      <td>58,448,488.85</td>\n",
              "    </tr>\n",
              "    <tr>\n",
              "      <th>Pará Pará</th>\n",
              "      <td>8690745</td>\n",
              "      <td>nan</td>\n",
              "    </tr>\n",
              "    <tr>\n",
              "      <th>Santa Catarina</th>\n",
              "      <td>7252502</td>\n",
              "      <td>79,459,229.80</td>\n",
              "    </tr>\n",
              "    <tr>\n",
              "      <th>Maranhão</th>\n",
              "      <td>7114598</td>\n",
              "      <td>33,991,348.70</td>\n",
              "    </tr>\n",
              "    <tr>\n",
              "      <th>Goiás</th>\n",
              "      <td>7113540</td>\n",
              "      <td>45,871,329.20</td>\n",
              "    </tr>\n",
              "    <tr>\n",
              "      <th>Amazonas</th>\n",
              "      <td>4207714</td>\n",
              "      <td>19,303,743.16</td>\n",
              "    </tr>\n",
              "    <tr>\n",
              "      <th>Espírito Santo</th>\n",
              "      <td>4064052</td>\n",
              "      <td>41,931,102.65</td>\n",
              "    </tr>\n",
              "    <tr>\n",
              "      <th>Paraíba</th>\n",
              "      <td>4039277</td>\n",
              "      <td>22,092,553.67</td>\n",
              "    </tr>\n",
              "    <tr>\n",
              "      <th>Rio Grande do Norte</th>\n",
              "      <td>3534165</td>\n",
              "      <td>28,608,103.39</td>\n",
              "    </tr>\n",
              "    <tr>\n",
              "      <th>Mato Grosso</th>\n",
              "      <td>3526220</td>\n",
              "      <td>20,681,571.71</td>\n",
              "    </tr>\n",
              "    <tr>\n",
              "      <th>Alagoas</th>\n",
              "      <td>3351543</td>\n",
              "      <td>18,519,350.73</td>\n",
              "    </tr>\n",
              "    <tr>\n",
              "      <th>Piauí</th>\n",
              "      <td>3281480</td>\n",
              "      <td>25,817,440.95</td>\n",
              "    </tr>\n",
              "    <tr>\n",
              "      <th>Distrito Federal</th>\n",
              "      <td>3055149</td>\n",
              "      <td>26,428,483.82</td>\n",
              "    </tr>\n",
              "    <tr>\n",
              "      <th>Mato Grosso do Sul</th>\n",
              "      <td>2809394</td>\n",
              "      <td>23,639,938.85</td>\n",
              "    </tr>\n",
              "    <tr>\n",
              "      <th>Sergipe</th>\n",
              "      <td>2318822</td>\n",
              "      <td>11,700,344.16</td>\n",
              "    </tr>\n",
              "    <tr>\n",
              "      <th>Rondônia</th>\n",
              "      <td>1796460</td>\n",
              "      <td>10,479,989.36</td>\n",
              "    </tr>\n",
              "    <tr>\n",
              "      <th>Tocantins</th>\n",
              "      <td>1590248</td>\n",
              "      <td>7,934,629.02</td>\n",
              "    </tr>\n",
              "    <tr>\n",
              "      <th>Acre</th>\n",
              "      <td>894470</td>\n",
              "      <td>4,053,085.41</td>\n",
              "    </tr>\n",
              "    <tr>\n",
              "      <th>Amapá</th>\n",
              "      <td>861773</td>\n",
              "      <td>2,536,642.73</td>\n",
              "    </tr>\n",
              "    <tr>\n",
              "      <th>Roraima</th>\n",
              "      <td>631181</td>\n",
              "      <td>3,192,075.41</td>\n",
              "    </tr>\n",
              "  </tbody>\n",
              "</table>\n",
              "</div>"
            ],
            "text/plain": [
              "                     População       2020/Jul\n",
              "UF                                           \n",
              "São Paulo             46289333 361,986,896.25\n",
              "Minas Gerais          21292666 177,466,638.10\n",
              "Rio de Janeiro        17366189  95,941,141.03\n",
              "Bahia Bahia           14930634            nan\n",
              "Paraná                11516840 123,856,640.55\n",
              "Rio Grande do Sul     11422973 108,536,525.93\n",
              "Pernambuco             9616621  73,730,927.63\n",
              "Ceará                  9187103  58,448,488.85\n",
              "Pará Pará              8690745            nan\n",
              "Santa Catarina         7252502  79,459,229.80\n",
              "Maranhão               7114598  33,991,348.70\n",
              "Goiás                  7113540  45,871,329.20\n",
              "Amazonas               4207714  19,303,743.16\n",
              "Espírito Santo         4064052  41,931,102.65\n",
              "Paraíba                4039277  22,092,553.67\n",
              "Rio Grande do Norte    3534165  28,608,103.39\n",
              "Mato Grosso            3526220  20,681,571.71\n",
              "Alagoas                3351543  18,519,350.73\n",
              "Piauí                  3281480  25,817,440.95\n",
              "Distrito Federal       3055149  26,428,483.82\n",
              "Mato Grosso do Sul     2809394  23,639,938.85\n",
              "Sergipe                2318822  11,700,344.16\n",
              "Rondônia               1796460  10,479,989.36\n",
              "Tocantins              1590248   7,934,629.02\n",
              "Acre                    894470   4,053,085.41\n",
              "Amapá                   861773   2,536,642.73\n",
              "Roraima                 631181   3,192,075.41"
            ]
          },
          "metadata": {
            "tags": []
          }
        }
      ]
    },
    {
      "cell_type": "markdown",
      "metadata": {
        "id": "bEMDP4wA1HzL"
      },
      "source": [
        "A junção das tabelas quase funcionou, tivemos erros apenas na Bahia e no Pará. Podemos ver que os nomes dessas UFs aparece repetido, provavelmente por estar no *HTML*, como texto alternativo para a imagem da bandeira.\n",
        "\n",
        "A maneira utilizada para fazer essa correção foi a realização de um *loop* substituindo todos os nomes duplicados por sua versão simples, com o código abaixo."
      ]
    },
    {
      "cell_type": "code",
      "metadata": {
        "colab": {
          "base_uri": "https://localhost:8080/",
          "height": 917
        },
        "id": "bQ9X_Hxlz9nn",
        "outputId": "609eb530-5924-4c60-885d-bc9bafb336b4"
      },
      "source": [
        "for estado in atends_mes_recente.index:\n",
        "    #print(f'{estado} {estado}',' ==> ',estado) ## Essa linha foi para ver se o for estava fazendo a instrução correta\n",
        "    pop_projetada.index = pop_projetada.index.str.replace(f'{estado} {estado}',estado)\n",
        "\n",
        "gastos_pop_recente = pop_projetada.join(atends_mes_recente)\n",
        "display(gastos_pop_recente)"
      ],
      "execution_count": 20,
      "outputs": [
        {
          "output_type": "display_data",
          "data": {
            "text/html": [
              "<div>\n",
              "<style scoped>\n",
              "    .dataframe tbody tr th:only-of-type {\n",
              "        vertical-align: middle;\n",
              "    }\n",
              "\n",
              "    .dataframe tbody tr th {\n",
              "        vertical-align: top;\n",
              "    }\n",
              "\n",
              "    .dataframe thead th {\n",
              "        text-align: right;\n",
              "    }\n",
              "</style>\n",
              "<table border=\"1\" class=\"dataframe\">\n",
              "  <thead>\n",
              "    <tr style=\"text-align: right;\">\n",
              "      <th></th>\n",
              "      <th>População</th>\n",
              "      <th>2020/Jul</th>\n",
              "    </tr>\n",
              "    <tr>\n",
              "      <th>UF</th>\n",
              "      <th></th>\n",
              "      <th></th>\n",
              "    </tr>\n",
              "  </thead>\n",
              "  <tbody>\n",
              "    <tr>\n",
              "      <th>São Paulo</th>\n",
              "      <td>46289333</td>\n",
              "      <td>361,986,896.25</td>\n",
              "    </tr>\n",
              "    <tr>\n",
              "      <th>Minas Gerais</th>\n",
              "      <td>21292666</td>\n",
              "      <td>177,466,638.10</td>\n",
              "    </tr>\n",
              "    <tr>\n",
              "      <th>Rio de Janeiro</th>\n",
              "      <td>17366189</td>\n",
              "      <td>95,941,141.03</td>\n",
              "    </tr>\n",
              "    <tr>\n",
              "      <th>Bahia</th>\n",
              "      <td>14930634</td>\n",
              "      <td>91,011,171.04</td>\n",
              "    </tr>\n",
              "    <tr>\n",
              "      <th>Paraná</th>\n",
              "      <td>11516840</td>\n",
              "      <td>123,856,640.55</td>\n",
              "    </tr>\n",
              "    <tr>\n",
              "      <th>Rio Grande do Sul</th>\n",
              "      <td>11422973</td>\n",
              "      <td>108,536,525.93</td>\n",
              "    </tr>\n",
              "    <tr>\n",
              "      <th>Pernambuco</th>\n",
              "      <td>9616621</td>\n",
              "      <td>73,730,927.63</td>\n",
              "    </tr>\n",
              "    <tr>\n",
              "      <th>Ceará</th>\n",
              "      <td>9187103</td>\n",
              "      <td>58,448,488.85</td>\n",
              "    </tr>\n",
              "    <tr>\n",
              "      <th>Pará</th>\n",
              "      <td>8690745</td>\n",
              "      <td>40,496,349.97</td>\n",
              "    </tr>\n",
              "    <tr>\n",
              "      <th>Santa Catarina</th>\n",
              "      <td>7252502</td>\n",
              "      <td>79,459,229.80</td>\n",
              "    </tr>\n",
              "    <tr>\n",
              "      <th>Maranhão</th>\n",
              "      <td>7114598</td>\n",
              "      <td>33,991,348.70</td>\n",
              "    </tr>\n",
              "    <tr>\n",
              "      <th>Goiás</th>\n",
              "      <td>7113540</td>\n",
              "      <td>45,871,329.20</td>\n",
              "    </tr>\n",
              "    <tr>\n",
              "      <th>Amazonas</th>\n",
              "      <td>4207714</td>\n",
              "      <td>19,303,743.16</td>\n",
              "    </tr>\n",
              "    <tr>\n",
              "      <th>Espírito Santo</th>\n",
              "      <td>4064052</td>\n",
              "      <td>41,931,102.65</td>\n",
              "    </tr>\n",
              "    <tr>\n",
              "      <th>Paraíba</th>\n",
              "      <td>4039277</td>\n",
              "      <td>22,092,553.67</td>\n",
              "    </tr>\n",
              "    <tr>\n",
              "      <th>Rio Grande do Norte</th>\n",
              "      <td>3534165</td>\n",
              "      <td>28,608,103.39</td>\n",
              "    </tr>\n",
              "    <tr>\n",
              "      <th>Mato Grosso</th>\n",
              "      <td>3526220</td>\n",
              "      <td>20,681,571.71</td>\n",
              "    </tr>\n",
              "    <tr>\n",
              "      <th>Alagoas</th>\n",
              "      <td>3351543</td>\n",
              "      <td>18,519,350.73</td>\n",
              "    </tr>\n",
              "    <tr>\n",
              "      <th>Piauí</th>\n",
              "      <td>3281480</td>\n",
              "      <td>25,817,440.95</td>\n",
              "    </tr>\n",
              "    <tr>\n",
              "      <th>Distrito Federal</th>\n",
              "      <td>3055149</td>\n",
              "      <td>26,428,483.82</td>\n",
              "    </tr>\n",
              "    <tr>\n",
              "      <th>Mato Grosso do Sul</th>\n",
              "      <td>2809394</td>\n",
              "      <td>23,639,938.85</td>\n",
              "    </tr>\n",
              "    <tr>\n",
              "      <th>Sergipe</th>\n",
              "      <td>2318822</td>\n",
              "      <td>11,700,344.16</td>\n",
              "    </tr>\n",
              "    <tr>\n",
              "      <th>Rondônia</th>\n",
              "      <td>1796460</td>\n",
              "      <td>10,479,989.36</td>\n",
              "    </tr>\n",
              "    <tr>\n",
              "      <th>Tocantins</th>\n",
              "      <td>1590248</td>\n",
              "      <td>7,934,629.02</td>\n",
              "    </tr>\n",
              "    <tr>\n",
              "      <th>Acre</th>\n",
              "      <td>894470</td>\n",
              "      <td>4,053,085.41</td>\n",
              "    </tr>\n",
              "    <tr>\n",
              "      <th>Amapá</th>\n",
              "      <td>861773</td>\n",
              "      <td>2,536,642.73</td>\n",
              "    </tr>\n",
              "    <tr>\n",
              "      <th>Roraima</th>\n",
              "      <td>631181</td>\n",
              "      <td>3,192,075.41</td>\n",
              "    </tr>\n",
              "  </tbody>\n",
              "</table>\n",
              "</div>"
            ],
            "text/plain": [
              "                     População       2020/Jul\n",
              "UF                                           \n",
              "São Paulo             46289333 361,986,896.25\n",
              "Minas Gerais          21292666 177,466,638.10\n",
              "Rio de Janeiro        17366189  95,941,141.03\n",
              "Bahia                 14930634  91,011,171.04\n",
              "Paraná                11516840 123,856,640.55\n",
              "Rio Grande do Sul     11422973 108,536,525.93\n",
              "Pernambuco             9616621  73,730,927.63\n",
              "Ceará                  9187103  58,448,488.85\n",
              "Pará                   8690745  40,496,349.97\n",
              "Santa Catarina         7252502  79,459,229.80\n",
              "Maranhão               7114598  33,991,348.70\n",
              "Goiás                  7113540  45,871,329.20\n",
              "Amazonas               4207714  19,303,743.16\n",
              "Espírito Santo         4064052  41,931,102.65\n",
              "Paraíba                4039277  22,092,553.67\n",
              "Rio Grande do Norte    3534165  28,608,103.39\n",
              "Mato Grosso            3526220  20,681,571.71\n",
              "Alagoas                3351543  18,519,350.73\n",
              "Piauí                  3281480  25,817,440.95\n",
              "Distrito Federal       3055149  26,428,483.82\n",
              "Mato Grosso do Sul     2809394  23,639,938.85\n",
              "Sergipe                2318822  11,700,344.16\n",
              "Rondônia               1796460  10,479,989.36\n",
              "Tocantins              1590248   7,934,629.02\n",
              "Acre                    894470   4,053,085.41\n",
              "Amapá                   861773   2,536,642.73\n",
              "Roraima                 631181   3,192,075.41"
            ]
          },
          "metadata": {
            "tags": []
          }
        }
      ]
    },
    {
      "cell_type": "markdown",
      "metadata": {
        "id": "l5NqQVSK0UDw"
      },
      "source": [
        "#### **Desafio - Estudar a Documentação a Respeito de Manipulação de** ***Strings***\n",
        "---\n"
      ]
    },
    {
      "cell_type": "markdown",
      "metadata": {
        "id": "SmRogKVP4uqR"
      },
      "source": [
        "Como sabemos, o ***Python*** considera um *string* como sendo uma *Series*, permitindo a manipulação de maneira bem interessante.\n",
        "\n",
        "Além disso, temos várias operações e métodos que podem ser utilizados para alterar e formatar *strings*.\n",
        "\n",
        "Procurando documentação a esse respeito, encontrei informações interessantes nos links:\n",
        "* [Operações Comuns com *Strings*](https://docs.python.org/3/library/string.html)\n",
        "* [Trabalhando com Dados Tipo Texto](https://pandas.pydata.org/docs/user_guide/text.html)\n",
        "* [Métodos *String* em ***Python***](https://www.w3schools.com/python/python_ref_string.asp)"
      ]
    },
    {
      "cell_type": "markdown",
      "metadata": {
        "id": "A7uA18B54uIm"
      },
      "source": [
        "#### **Desafio - Estruturar uma Função para Limpeza da Tabela Importada**\n",
        "---\n",
        "\n",
        "Desenvolver uma função para a limpeza e tratamento dos dados, retornando duas tabelas 'população' e 'unida'.\n",
        "\n",
        "---\n",
        "\n",
        "Para a resolução desse desafio, considerei que tinha apenas a *URL* da página de onde seriam retiradas as informações e o *DataFrame* com os dados de gastos do mês mais recente.\n",
        "\n",
        "Optei por trabalhar com funções aninhadas, em vez de trabalhar com uma única função, principalmente para facilitar o entendimento e praticar a chamada de funções."
      ]
    },
    {
      "cell_type": "code",
      "metadata": {
        "colab": {
          "base_uri": "https://localhost:8080/",
          "height": 528
        },
        "id": "9_j6iLIy0x2h",
        "outputId": "dbfd7fe3-bf56-4f55-8493-101aae6024f6"
      },
      "source": [
        "display(atends_mes_recente)\n",
        "display(url_wiki)"
      ],
      "execution_count": 21,
      "outputs": [
        {
          "output_type": "display_data",
          "data": {
            "text/plain": [
              "UF\n",
              "São Paulo             361,986,896.25\n",
              "Minas Gerais          177,466,638.10\n",
              "Paraná                123,856,640.55\n",
              "Rio Grande do Sul     108,536,525.93\n",
              "Rio de Janeiro         95,941,141.03\n",
              "Bahia                  91,011,171.04\n",
              "Santa Catarina         79,459,229.80\n",
              "Pernambuco             73,730,927.63\n",
              "Ceará                  58,448,488.85\n",
              "Goiás                  45,871,329.20\n",
              "Espírito Santo         41,931,102.65\n",
              "Pará                   40,496,349.97\n",
              "Maranhão               33,991,348.70\n",
              "Rio Grande do Norte    28,608,103.39\n",
              "Distrito Federal       26,428,483.82\n",
              "Piauí                  25,817,440.95\n",
              "Mato Grosso do Sul     23,639,938.85\n",
              "Paraíba                22,092,553.67\n",
              "Mato Grosso            20,681,571.71\n",
              "Amazonas               19,303,743.16\n",
              "Alagoas                18,519,350.73\n",
              "Sergipe                11,700,344.16\n",
              "Rondônia               10,479,989.36\n",
              "Tocantins               7,934,629.02\n",
              "Acre                    4,053,085.41\n",
              "Roraima                 3,192,075.41\n",
              "Amapá                   2,536,642.73\n",
              "Name: 2020/Jul, dtype: float64"
            ]
          },
          "metadata": {
            "tags": []
          }
        },
        {
          "output_type": "display_data",
          "data": {
            "application/vnd.google.colaboratory.intrinsic+json": {
              "type": "string"
            },
            "text/plain": [
              "'https://pt.wikipedia.org/wiki/Lista_de_unidades_federativas_do_Brasil_por_popula%C3%A7%C3%A3o'"
            ]
          },
          "metadata": {
            "tags": []
          }
        }
      ]
    },
    {
      "cell_type": "code",
      "metadata": {
        "id": "oMYONRMF0yYv"
      },
      "source": [
        "def importa_wiki(url):\n",
        "    response=r.get(url)\n",
        "\n",
        "    soup=BeautifulSoup(response.text, 'html.parser')\n",
        "    tabela_pop=soup.find('table',{'class':\"wikitable\"})\n",
        "\n",
        "    df_populacao=pd.DataFrame(pd.read_html(str(tabela_pop))[0])\n",
        "\n",
        "    return df_populacao\n",
        "\n",
        "def limpa_pop(suja):\n",
        "    suja = suja.rename(columns={'Unidade federativa':'UF'})\n",
        "    suja = suja.dropna()\n",
        "    #suja['UF'] = suja['Unidade federativa']\n",
        "    suja['População'] = suja['População'].str.replace(' ','').astype(int)\n",
        "    suja['UF'] = suja['UF'].str.strip()\n",
        "\n",
        "    limpa = suja[['UF','População']].set_index('UF')\n",
        "    #limpa.index=limpa.index.str.strip()\n",
        "\n",
        "    return limpa\n",
        "\n",
        "def faz_tudo(url_w, tab_gastos):\n",
        "    pop_suja = importa_wiki(url_w)\n",
        "    pop_limpa = limpa_pop(pop_suja)\n",
        "    result = pop_limpa.join(tab_gastos)\n",
        "\n",
        "    return pop_limpa,result"
      ],
      "execution_count": 22,
      "outputs": []
    },
    {
      "cell_type": "code",
      "metadata": {
        "colab": {
          "base_uri": "https://localhost:8080/",
          "height": 1000
        },
        "id": "AJG8OF3h0yeq",
        "outputId": "54eae63a-2406-4693-bd4b-1238cd540e1c"
      },
      "source": [
        "populacao, unida = faz_tudo(url_wiki,atends_mes_recente)\n",
        "display(populacao)\n",
        "display(unida)"
      ],
      "execution_count": 23,
      "outputs": [
        {
          "output_type": "display_data",
          "data": {
            "text/html": [
              "<div>\n",
              "<style scoped>\n",
              "    .dataframe tbody tr th:only-of-type {\n",
              "        vertical-align: middle;\n",
              "    }\n",
              "\n",
              "    .dataframe tbody tr th {\n",
              "        vertical-align: top;\n",
              "    }\n",
              "\n",
              "    .dataframe thead th {\n",
              "        text-align: right;\n",
              "    }\n",
              "</style>\n",
              "<table border=\"1\" class=\"dataframe\">\n",
              "  <thead>\n",
              "    <tr style=\"text-align: right;\">\n",
              "      <th></th>\n",
              "      <th>População</th>\n",
              "    </tr>\n",
              "    <tr>\n",
              "      <th>UF</th>\n",
              "      <th></th>\n",
              "    </tr>\n",
              "  </thead>\n",
              "  <tbody>\n",
              "    <tr>\n",
              "      <th>São Paulo</th>\n",
              "      <td>46289333</td>\n",
              "    </tr>\n",
              "    <tr>\n",
              "      <th>Minas Gerais</th>\n",
              "      <td>21292666</td>\n",
              "    </tr>\n",
              "    <tr>\n",
              "      <th>Rio de Janeiro</th>\n",
              "      <td>17366189</td>\n",
              "    </tr>\n",
              "    <tr>\n",
              "      <th>Bahia</th>\n",
              "      <td>14930634</td>\n",
              "    </tr>\n",
              "    <tr>\n",
              "      <th>Paraná</th>\n",
              "      <td>11516840</td>\n",
              "    </tr>\n",
              "    <tr>\n",
              "      <th>Rio Grande do Sul</th>\n",
              "      <td>11422973</td>\n",
              "    </tr>\n",
              "    <tr>\n",
              "      <th>Pernambuco</th>\n",
              "      <td>9616621</td>\n",
              "    </tr>\n",
              "    <tr>\n",
              "      <th>Ceará</th>\n",
              "      <td>9187103</td>\n",
              "    </tr>\n",
              "    <tr>\n",
              "      <th>Pará</th>\n",
              "      <td>8690745</td>\n",
              "    </tr>\n",
              "    <tr>\n",
              "      <th>Santa Catarina</th>\n",
              "      <td>7252502</td>\n",
              "    </tr>\n",
              "    <tr>\n",
              "      <th>Maranhão</th>\n",
              "      <td>7114598</td>\n",
              "    </tr>\n",
              "    <tr>\n",
              "      <th>Goiás</th>\n",
              "      <td>7113540</td>\n",
              "    </tr>\n",
              "    <tr>\n",
              "      <th>Amazonas</th>\n",
              "      <td>4207714</td>\n",
              "    </tr>\n",
              "    <tr>\n",
              "      <th>Espírito Santo</th>\n",
              "      <td>4064052</td>\n",
              "    </tr>\n",
              "    <tr>\n",
              "      <th>Paraíba</th>\n",
              "      <td>4039277</td>\n",
              "    </tr>\n",
              "    <tr>\n",
              "      <th>Rio Grande do Norte</th>\n",
              "      <td>3534165</td>\n",
              "    </tr>\n",
              "    <tr>\n",
              "      <th>Mato Grosso</th>\n",
              "      <td>3526220</td>\n",
              "    </tr>\n",
              "    <tr>\n",
              "      <th>Alagoas</th>\n",
              "      <td>3351543</td>\n",
              "    </tr>\n",
              "    <tr>\n",
              "      <th>Piauí</th>\n",
              "      <td>3281480</td>\n",
              "    </tr>\n",
              "    <tr>\n",
              "      <th>Distrito Federal</th>\n",
              "      <td>3055149</td>\n",
              "    </tr>\n",
              "    <tr>\n",
              "      <th>Mato Grosso do Sul</th>\n",
              "      <td>2809394</td>\n",
              "    </tr>\n",
              "    <tr>\n",
              "      <th>Sergipe</th>\n",
              "      <td>2318822</td>\n",
              "    </tr>\n",
              "    <tr>\n",
              "      <th>Rondônia</th>\n",
              "      <td>1796460</td>\n",
              "    </tr>\n",
              "    <tr>\n",
              "      <th>Tocantins</th>\n",
              "      <td>1590248</td>\n",
              "    </tr>\n",
              "    <tr>\n",
              "      <th>Acre</th>\n",
              "      <td>894470</td>\n",
              "    </tr>\n",
              "    <tr>\n",
              "      <th>Amapá</th>\n",
              "      <td>861773</td>\n",
              "    </tr>\n",
              "    <tr>\n",
              "      <th>Roraima</th>\n",
              "      <td>631181</td>\n",
              "    </tr>\n",
              "  </tbody>\n",
              "</table>\n",
              "</div>"
            ],
            "text/plain": [
              "                     População\n",
              "UF                            \n",
              "São Paulo             46289333\n",
              "Minas Gerais          21292666\n",
              "Rio de Janeiro        17366189\n",
              "Bahia                 14930634\n",
              "Paraná                11516840\n",
              "Rio Grande do Sul     11422973\n",
              "Pernambuco             9616621\n",
              "Ceará                  9187103\n",
              "Pará                   8690745\n",
              "Santa Catarina         7252502\n",
              "Maranhão               7114598\n",
              "Goiás                  7113540\n",
              "Amazonas               4207714\n",
              "Espírito Santo         4064052\n",
              "Paraíba                4039277\n",
              "Rio Grande do Norte    3534165\n",
              "Mato Grosso            3526220\n",
              "Alagoas                3351543\n",
              "Piauí                  3281480\n",
              "Distrito Federal       3055149\n",
              "Mato Grosso do Sul     2809394\n",
              "Sergipe                2318822\n",
              "Rondônia               1796460\n",
              "Tocantins              1590248\n",
              "Acre                    894470\n",
              "Amapá                   861773\n",
              "Roraima                 631181"
            ]
          },
          "metadata": {
            "tags": []
          }
        },
        {
          "output_type": "display_data",
          "data": {
            "text/html": [
              "<div>\n",
              "<style scoped>\n",
              "    .dataframe tbody tr th:only-of-type {\n",
              "        vertical-align: middle;\n",
              "    }\n",
              "\n",
              "    .dataframe tbody tr th {\n",
              "        vertical-align: top;\n",
              "    }\n",
              "\n",
              "    .dataframe thead th {\n",
              "        text-align: right;\n",
              "    }\n",
              "</style>\n",
              "<table border=\"1\" class=\"dataframe\">\n",
              "  <thead>\n",
              "    <tr style=\"text-align: right;\">\n",
              "      <th></th>\n",
              "      <th>População</th>\n",
              "      <th>2020/Jul</th>\n",
              "    </tr>\n",
              "    <tr>\n",
              "      <th>UF</th>\n",
              "      <th></th>\n",
              "      <th></th>\n",
              "    </tr>\n",
              "  </thead>\n",
              "  <tbody>\n",
              "    <tr>\n",
              "      <th>São Paulo</th>\n",
              "      <td>46289333</td>\n",
              "      <td>361,986,896.25</td>\n",
              "    </tr>\n",
              "    <tr>\n",
              "      <th>Minas Gerais</th>\n",
              "      <td>21292666</td>\n",
              "      <td>177,466,638.10</td>\n",
              "    </tr>\n",
              "    <tr>\n",
              "      <th>Rio de Janeiro</th>\n",
              "      <td>17366189</td>\n",
              "      <td>95,941,141.03</td>\n",
              "    </tr>\n",
              "    <tr>\n",
              "      <th>Bahia</th>\n",
              "      <td>14930634</td>\n",
              "      <td>91,011,171.04</td>\n",
              "    </tr>\n",
              "    <tr>\n",
              "      <th>Paraná</th>\n",
              "      <td>11516840</td>\n",
              "      <td>123,856,640.55</td>\n",
              "    </tr>\n",
              "    <tr>\n",
              "      <th>Rio Grande do Sul</th>\n",
              "      <td>11422973</td>\n",
              "      <td>108,536,525.93</td>\n",
              "    </tr>\n",
              "    <tr>\n",
              "      <th>Pernambuco</th>\n",
              "      <td>9616621</td>\n",
              "      <td>73,730,927.63</td>\n",
              "    </tr>\n",
              "    <tr>\n",
              "      <th>Ceará</th>\n",
              "      <td>9187103</td>\n",
              "      <td>58,448,488.85</td>\n",
              "    </tr>\n",
              "    <tr>\n",
              "      <th>Pará</th>\n",
              "      <td>8690745</td>\n",
              "      <td>40,496,349.97</td>\n",
              "    </tr>\n",
              "    <tr>\n",
              "      <th>Santa Catarina</th>\n",
              "      <td>7252502</td>\n",
              "      <td>79,459,229.80</td>\n",
              "    </tr>\n",
              "    <tr>\n",
              "      <th>Maranhão</th>\n",
              "      <td>7114598</td>\n",
              "      <td>33,991,348.70</td>\n",
              "    </tr>\n",
              "    <tr>\n",
              "      <th>Goiás</th>\n",
              "      <td>7113540</td>\n",
              "      <td>45,871,329.20</td>\n",
              "    </tr>\n",
              "    <tr>\n",
              "      <th>Amazonas</th>\n",
              "      <td>4207714</td>\n",
              "      <td>19,303,743.16</td>\n",
              "    </tr>\n",
              "    <tr>\n",
              "      <th>Espírito Santo</th>\n",
              "      <td>4064052</td>\n",
              "      <td>41,931,102.65</td>\n",
              "    </tr>\n",
              "    <tr>\n",
              "      <th>Paraíba</th>\n",
              "      <td>4039277</td>\n",
              "      <td>22,092,553.67</td>\n",
              "    </tr>\n",
              "    <tr>\n",
              "      <th>Rio Grande do Norte</th>\n",
              "      <td>3534165</td>\n",
              "      <td>28,608,103.39</td>\n",
              "    </tr>\n",
              "    <tr>\n",
              "      <th>Mato Grosso</th>\n",
              "      <td>3526220</td>\n",
              "      <td>20,681,571.71</td>\n",
              "    </tr>\n",
              "    <tr>\n",
              "      <th>Alagoas</th>\n",
              "      <td>3351543</td>\n",
              "      <td>18,519,350.73</td>\n",
              "    </tr>\n",
              "    <tr>\n",
              "      <th>Piauí</th>\n",
              "      <td>3281480</td>\n",
              "      <td>25,817,440.95</td>\n",
              "    </tr>\n",
              "    <tr>\n",
              "      <th>Distrito Federal</th>\n",
              "      <td>3055149</td>\n",
              "      <td>26,428,483.82</td>\n",
              "    </tr>\n",
              "    <tr>\n",
              "      <th>Mato Grosso do Sul</th>\n",
              "      <td>2809394</td>\n",
              "      <td>23,639,938.85</td>\n",
              "    </tr>\n",
              "    <tr>\n",
              "      <th>Sergipe</th>\n",
              "      <td>2318822</td>\n",
              "      <td>11,700,344.16</td>\n",
              "    </tr>\n",
              "    <tr>\n",
              "      <th>Rondônia</th>\n",
              "      <td>1796460</td>\n",
              "      <td>10,479,989.36</td>\n",
              "    </tr>\n",
              "    <tr>\n",
              "      <th>Tocantins</th>\n",
              "      <td>1590248</td>\n",
              "      <td>7,934,629.02</td>\n",
              "    </tr>\n",
              "    <tr>\n",
              "      <th>Acre</th>\n",
              "      <td>894470</td>\n",
              "      <td>4,053,085.41</td>\n",
              "    </tr>\n",
              "    <tr>\n",
              "      <th>Amapá</th>\n",
              "      <td>861773</td>\n",
              "      <td>2,536,642.73</td>\n",
              "    </tr>\n",
              "    <tr>\n",
              "      <th>Roraima</th>\n",
              "      <td>631181</td>\n",
              "      <td>3,192,075.41</td>\n",
              "    </tr>\n",
              "  </tbody>\n",
              "</table>\n",
              "</div>"
            ],
            "text/plain": [
              "                     População       2020/Jul\n",
              "UF                                           \n",
              "São Paulo             46289333 361,986,896.25\n",
              "Minas Gerais          21292666 177,466,638.10\n",
              "Rio de Janeiro        17366189  95,941,141.03\n",
              "Bahia                 14930634  91,011,171.04\n",
              "Paraná                11516840 123,856,640.55\n",
              "Rio Grande do Sul     11422973 108,536,525.93\n",
              "Pernambuco             9616621  73,730,927.63\n",
              "Ceará                  9187103  58,448,488.85\n",
              "Pará                   8690745  40,496,349.97\n",
              "Santa Catarina         7252502  79,459,229.80\n",
              "Maranhão               7114598  33,991,348.70\n",
              "Goiás                  7113540  45,871,329.20\n",
              "Amazonas               4207714  19,303,743.16\n",
              "Espírito Santo         4064052  41,931,102.65\n",
              "Paraíba                4039277  22,092,553.67\n",
              "Rio Grande do Norte    3534165  28,608,103.39\n",
              "Mato Grosso            3526220  20,681,571.71\n",
              "Alagoas                3351543  18,519,350.73\n",
              "Piauí                  3281480  25,817,440.95\n",
              "Distrito Federal       3055149  26,428,483.82\n",
              "Mato Grosso do Sul     2809394  23,639,938.85\n",
              "Sergipe                2318822  11,700,344.16\n",
              "Rondônia               1796460  10,479,989.36\n",
              "Tocantins              1590248   7,934,629.02\n",
              "Acre                    894470   4,053,085.41\n",
              "Amapá                   861773   2,536,642.73\n",
              "Roraima                 631181   3,192,075.41"
            ]
          },
          "metadata": {
            "tags": []
          }
        }
      ]
    },
    {
      "cell_type": "markdown",
      "metadata": {
        "id": "03D-rOIN5dKM"
      },
      "source": [
        "### **O que aprendemos nessa aula?**\n",
        "---\n",
        "\n",
        ">* Como comparar os gastos em relação a determinado estado;\n",
        "* Como fazer a leitura de dados no formato Excel com ***Pandas***;\n",
        "* Como tornar uma *string* (com formato de tabela) legível em ***Pandas*** usando o **```String.IO```**;\n",
        "* Como usar **```Join```** em ***Pandas***.\n",
        "\n",
        "---\n",
        "* Como criar uma função"
      ]
    },
    {
      "cell_type": "markdown",
      "metadata": {
        "id": "GTAtdTTBIvfo"
      },
      "source": [
        "## **Aula 02 - Proporcionalidades e** ***Seaborn***\n",
        "---"
      ]
    },
    {
      "cell_type": "markdown",
      "metadata": {
        "id": "plNsLrmoJR8V"
      },
      "source": [
        "### Aula 02 - Vídeo 01\n",
        "Atividade 1 - Visualização, Seaborn e Proporcionalidades"
      ]
    },
    {
      "cell_type": "markdown",
      "metadata": {
        "id": "MP37Kyw3JqFE"
      },
      "source": [
        "É chegada a hora de visualizar os dados de gastos e população que juntamos em uma única tabela de dados.\n",
        "\n",
        "Vamos começar com um gráfico simples, de linhas, com ambas as séries de dados."
      ]
    },
    {
      "cell_type": "code",
      "metadata": {
        "colab": {
          "base_uri": "https://localhost:8080/",
          "height": 308
        },
        "id": "WKHX7u3eJqUp",
        "outputId": "50d97e59-12a8-4f65-efda-256fa6e19664"
      },
      "source": [
        "gastos_pop_recente.plot()"
      ],
      "execution_count": 24,
      "outputs": [
        {
          "output_type": "execute_result",
          "data": {
            "text/plain": [
              "<matplotlib.axes._subplots.AxesSubplot at 0x7fe2a6b94810>"
            ]
          },
          "metadata": {
            "tags": []
          },
          "execution_count": 24
        },
        {
          "output_type": "display_data",
          "data": {
            "image/png": "[encoded data removed]",
            "text/plain": [
              "<Figure size 432x288 with 1 Axes>"
            ]
          },
          "metadata": {
            "tags": [],
            "needs_background": "light"
          }
        }
      ]
    },
    {
      "cell_type": "markdown",
      "metadata": {
        "id": "jYCMQ1PsKgok"
      },
      "source": [
        "Fica um gráfico estranho, são grandezas de ordem diferente (gastos em R$ e população em quantidade de habitantes).\n",
        "\n",
        "Uma solução utilizada algumas vezes é usar dois eixos **y**, mas isso deixa muita informação no gráfico, deixando a análise mais difícil.\n",
        "\n",
        "Além disso, a comparação do gasto por habitante fica distorcida, pela diferença entre as unidades de medida. Vamos avaliar os dois primeiros *ticks* do gráfico, São Paulo e Rio Grande do Sul... visualmente, parece que São Paulo gasta muito mais do que o Rio Grande do Sul, mesmo tentando deduzir o custo por habitante.\n",
        "\n",
        "A variação da curva azul é muito menor que a variação da curva laranja. Vamos avaliar os dados reais para ver se isso procede."
      ]
    },
    {
      "cell_type": "code",
      "metadata": {
        "colab": {
          "base_uri": "https://localhost:8080/",
          "height": 142
        },
        "id": "gUPhGTWoKJVQ",
        "outputId": "9b34d9ea-5308-43aa-83c0-5b6c78837334"
      },
      "source": [
        "## Antes de perceber que poderia usar o valor da variável 'mes_recente'\n",
        "## para pegar a coluna certa, pesquisei como transformar o slice do\n",
        "## DataFrame em uma Series para poder fazer a conta...\n",
        "## Preservei o código só para não perder essa parte do iloc com o squeeze\n",
        "\n",
        "gastos_pop_recente['Gastos / Hab']=gastos_pop_recente.iloc[:,1:2].squeeze(axis=1)/gastos_pop_recente['População']\n",
        "\n",
        "display(gastos_pop_recente.loc[['São Paulo','Rio Grande do Sul']])\n",
        "gastos_pop_recente.drop('Gastos / Hab',axis=1,inplace=True)"
      ],
      "execution_count": 25,
      "outputs": [
        {
          "output_type": "display_data",
          "data": {
            "text/html": [
              "<div>\n",
              "<style scoped>\n",
              "    .dataframe tbody tr th:only-of-type {\n",
              "        vertical-align: middle;\n",
              "    }\n",
              "\n",
              "    .dataframe tbody tr th {\n",
              "        vertical-align: top;\n",
              "    }\n",
              "\n",
              "    .dataframe thead th {\n",
              "        text-align: right;\n",
              "    }\n",
              "</style>\n",
              "<table border=\"1\" class=\"dataframe\">\n",
              "  <thead>\n",
              "    <tr style=\"text-align: right;\">\n",
              "      <th></th>\n",
              "      <th>População</th>\n",
              "      <th>2020/Jul</th>\n",
              "      <th>Gastos / Hab</th>\n",
              "    </tr>\n",
              "    <tr>\n",
              "      <th>UF</th>\n",
              "      <th></th>\n",
              "      <th></th>\n",
              "      <th></th>\n",
              "    </tr>\n",
              "  </thead>\n",
              "  <tbody>\n",
              "    <tr>\n",
              "      <th>São Paulo</th>\n",
              "      <td>46289333</td>\n",
              "      <td>361,986,896.25</td>\n",
              "      <td>7.82</td>\n",
              "    </tr>\n",
              "    <tr>\n",
              "      <th>Rio Grande do Sul</th>\n",
              "      <td>11422973</td>\n",
              "      <td>108,536,525.93</td>\n",
              "      <td>9.50</td>\n",
              "    </tr>\n",
              "  </tbody>\n",
              "</table>\n",
              "</div>"
            ],
            "text/plain": [
              "                   População       2020/Jul  Gastos / Hab\n",
              "UF                                                       \n",
              "São Paulo           46289333 361,986,896.25          7.82\n",
              "Rio Grande do Sul   11422973 108,536,525.93          9.50"
            ]
          },
          "metadata": {
            "tags": []
          }
        }
      ]
    },
    {
      "cell_type": "code",
      "metadata": {
        "colab": {
          "base_uri": "https://localhost:8080/",
          "height": 142
        },
        "id": "1GeWS0dJcbBL",
        "outputId": "741dda5a-03db-4886-993b-34b6110378cd"
      },
      "source": [
        "gastos_pop_recente['Gastos / Hab']=gastos_pop_recente[mes_recente]/gastos_pop_recente['População']\n",
        "\n",
        "display(gastos_pop_recente.loc[['São Paulo','Rio Grande do Sul']])\n",
        "gastos_pop_recente.drop('Gastos / Hab',axis=1,inplace=True)"
      ],
      "execution_count": 26,
      "outputs": [
        {
          "output_type": "display_data",
          "data": {
            "text/html": [
              "<div>\n",
              "<style scoped>\n",
              "    .dataframe tbody tr th:only-of-type {\n",
              "        vertical-align: middle;\n",
              "    }\n",
              "\n",
              "    .dataframe tbody tr th {\n",
              "        vertical-align: top;\n",
              "    }\n",
              "\n",
              "    .dataframe thead th {\n",
              "        text-align: right;\n",
              "    }\n",
              "</style>\n",
              "<table border=\"1\" class=\"dataframe\">\n",
              "  <thead>\n",
              "    <tr style=\"text-align: right;\">\n",
              "      <th></th>\n",
              "      <th>População</th>\n",
              "      <th>2020/Jul</th>\n",
              "      <th>Gastos / Hab</th>\n",
              "    </tr>\n",
              "    <tr>\n",
              "      <th>UF</th>\n",
              "      <th></th>\n",
              "      <th></th>\n",
              "      <th></th>\n",
              "    </tr>\n",
              "  </thead>\n",
              "  <tbody>\n",
              "    <tr>\n",
              "      <th>São Paulo</th>\n",
              "      <td>46289333</td>\n",
              "      <td>361,986,896.25</td>\n",
              "      <td>7.82</td>\n",
              "    </tr>\n",
              "    <tr>\n",
              "      <th>Rio Grande do Sul</th>\n",
              "      <td>11422973</td>\n",
              "      <td>108,536,525.93</td>\n",
              "      <td>9.50</td>\n",
              "    </tr>\n",
              "  </tbody>\n",
              "</table>\n",
              "</div>"
            ],
            "text/plain": [
              "                   População       2020/Jul  Gastos / Hab\n",
              "UF                                                       \n",
              "São Paulo           46289333 361,986,896.25          7.82\n",
              "Rio Grande do Sul   11422973 108,536,525.93          9.50"
            ]
          },
          "metadata": {
            "tags": []
          }
        }
      ]
    },
    {
      "cell_type": "markdown",
      "metadata": {
        "id": "mRItt19sOhc8"
      },
      "source": [
        "O que podemos ver, para o mês de 2020/Jul, é que o resultado é o oposto. O RS gastou, por habitante, mais que SP!\n",
        "\n",
        "As hipóteses levantadas, antes de partirmos para a análise desse indicador para todas as UFs é de que:\n",
        "* o valor pode ser muito semelhante, por existir um equilíbrio entre os estados em termos de gastos e população\n",
        "* o valor tende a ser maior em estados melhores aparelhados, pois estamos vivenciando uma epidemia de COVID-19, o que leva muitas pessoas para UTIs, que tem um custo mais alto do que internações hospitalares comuns. As UFs com maior disponibilidade de leitos (comuns e de UTI) estão tendo maiores gastos.  As UFs com menos recursos estão tendo menos gastos mas a população fica desassistida\n",
        "\n",
        "Acredito que esse tipo de análise fica difícil no momento de crise que vivemos sem saber qual a demanda reprimida... se a UF estiver limitando seus gastos por não ter mais estrutura para fornecer à população, a medida fica inverídica.\n",
        "\n",
        "De qualquer forma, vamos calcular os gastos *per capita* e verificar como fica o gráfico."
      ]
    },
    {
      "cell_type": "code",
      "metadata": {
        "colab": {
          "base_uri": "https://localhost:8080/",
          "height": 497
        },
        "id": "sCW5iLCMNEpP",
        "outputId": "04166c84-0eee-4648-cc23-aecfd3678bf3"
      },
      "source": [
        "gastos_pop_recente['Gastos per Capita']=gastos_pop_recente[mes_recente]/(gastos_pop_recente['População'])\n",
        "\n",
        "gastos_pop_recente['Gastos per Capita'].plot(kind='bar',figsize=(15,6))"
      ],
      "execution_count": 27,
      "outputs": [
        {
          "output_type": "execute_result",
          "data": {
            "text/plain": [
              "<matplotlib.axes._subplots.AxesSubplot at 0x7fe2a6b64b10>"
            ]
          },
          "metadata": {
            "tags": []
          },
          "execution_count": 27
        },
        {
          "output_type": "display_data",
          "data": {
            "image/png": "[encoded data removed]",
            "text/plain": [
              "<Figure size 1080x432 with 1 Axes>"
            ]
          },
          "metadata": {
            "tags": [],
            "needs_background": "light"
          }
        }
      ]
    },
    {
      "cell_type": "markdown",
      "metadata": {
        "id": "_adtmOvOYfbg"
      },
      "source": [
        "As colunas foram mantidas na ordem original justamente porque essa ordenação já nos dá uma informação adicional. As UFs estão ordenadas pelo total de gastos, ou seja, São Paulo, mais à esquerda, foi a UF que mais gastou em valores absolutos, enquanto Roraima, à direita, foi a UF que menos gastou.\n",
        "\n",
        "Podemos ver a falta de correlação entre os gastos absolutos e a população, pois se isso fosse verdade teríamos uma curva ascendente ou descendente nas barras. Temos grandes discrepâncias, com os valores variando entre R\\$ 3 e R\\$ 10 por habitante.\n",
        "\n",
        "Temos valores diferentes do mostrado no vídeo da aula em função de atualização dos dados de gastos no DataSUS.\n"
      ]
    },
    {
      "cell_type": "markdown",
      "metadata": {
        "id": "nNnUCUPCaAof"
      },
      "source": [
        "#### **Desafio - Ordenar o gráfico por gastos por habitante e por habitantes**\n",
        "---"
      ]
    },
    {
      "cell_type": "code",
      "metadata": {
        "colab": {
          "base_uri": "https://localhost:8080/",
          "height": 462
        },
        "id": "IjTKPQBAYb-A",
        "outputId": "b3d55148-4a88-48fc-a105-45634cdbc7df"
      },
      "source": [
        "fig, (ax1,ax2,ax3) = plt.subplots(1,3,figsize=(17,5))\n",
        "fig.suptitle(f'Gastos com Internações Hospitalares no SUS por UF, per Capita - {mes_recente}',fontweight='bold', fontsize=20)\n",
        "\n",
        "ax1 = gastos_pop_recente.sort_values(by=mes_recente,ascending=False)['Gastos per Capita'].plot(kind='bar', ax=ax1)\n",
        "ax1.set_title('Ordenado por Gastos Totais', fontsize=15)\n",
        "ax1.set_ylabel('Valores em R$ / Habitante',fontweight='bold', fontsize=15)\n",
        "\n",
        "ax2 = gastos_pop_recente['Gastos per Capita'].sort_values(ascending=False).plot(kind='bar', ax=ax2)\n",
        "ax2.set_title('Ordenado por Gastos per Capita', fontsize=15)\n",
        "\n",
        "ax3 = gastos_pop_recente.sort_values(by='População',ascending=False)['Gastos per Capita'].plot(kind='bar', ax=ax3)\n",
        "ax3.set_title('Ordenado por População', fontsize=15)\n",
        "\n",
        "plt.show()"
      ],
      "execution_count": 28,
      "outputs": [
        {
          "output_type": "display_data",
          "data": {
            "image/png": "[encoded data removed]",
            "text/plain": [
              "<Figure size 1224x360 with 3 Axes>"
            ]
          },
          "metadata": {
            "tags": [],
            "needs_background": "light"
          }
        }
      ]
    },
    {
      "cell_type": "markdown",
      "metadata": {
        "id": "AJndZvW3amBB"
      },
      "source": [
        "---\n",
        "\n",
        "### De volta à aula\n",
        "\n",
        "Vamos começar a usar a biblioteca **```Seaborn```** agora, para plotar o gráfico ```scatterplot``` que combina as informações de gastos e população."
      ]
    },
    {
      "cell_type": "code",
      "metadata": {
        "colab": {
          "base_uri": "https://localhost:8080/",
          "height": 296
        },
        "id": "WrzNp_MNYcAV",
        "outputId": "43b7e37e-0b32-4200-f7cf-d26741e44136"
      },
      "source": [
        "sns.scatterplot(data=gastos_pop_recente/1000000,x='População',y=mes_recente)"
      ],
      "execution_count": 29,
      "outputs": [
        {
          "output_type": "execute_result",
          "data": {
            "text/plain": [
              "<matplotlib.axes._subplots.AxesSubplot at 0x7fe2a6ad6e10>"
            ]
          },
          "metadata": {
            "tags": []
          },
          "execution_count": 29
        },
        {
          "output_type": "display_data",
          "data": {
            "image/png": "[encoded data removed]",
            "text/plain": [
              "<Figure size 432x288 with 1 Axes>"
            ]
          },
          "metadata": {
            "tags": [],
            "needs_background": "light"
          }
        }
      ]
    },
    {
      "cell_type": "markdown",
      "metadata": {
        "id": "9IWOJPGFawYb"
      },
      "source": [
        "Para poder avaliar a relação mais direta entre os valores, já que estamos usando escalas diferentes nos eixos do gráfico, vamos forçar a figura para ficar com altura e largura iguais, dentro de um quadrado."
      ]
    },
    {
      "cell_type": "code",
      "metadata": {
        "colab": {
          "base_uri": "https://localhost:8080/",
          "height": 459
        },
        "id": "xMGBkSe7YcDC",
        "outputId": "5e000cbb-3c81-40d5-cfbc-4e130bd8cc41"
      },
      "source": [
        "plt.figure(figsize=(7,7))\n",
        "sns.scatterplot(data=gastos_pop_recente/1000000,x='População',y=mes_recente)"
      ],
      "execution_count": 30,
      "outputs": [
        {
          "output_type": "execute_result",
          "data": {
            "text/plain": [
              "<matplotlib.axes._subplots.AxesSubplot at 0x7fe2a66a4090>"
            ]
          },
          "metadata": {
            "tags": []
          },
          "execution_count": 30
        },
        {
          "output_type": "display_data",
          "data": {
            "image/png": "[encoded data removed]",
            "text/plain": [
              "<Figure size 504x504 with 1 Axes>"
            ]
          },
          "metadata": {
            "tags": [],
            "needs_background": "light"
          }
        }
      ]
    },
    {
      "cell_type": "markdown",
      "metadata": {
        "id": "KJewsIKQej6f"
      },
      "source": [
        "Podemos perceber uma tendência de maiores gastos quanto maior a população da UF. Dá para imaginar uma reta cortando na diagonal do quadrado, passando pela maioria dos pontos.\n",
        "\n",
        "Vamos avaliar esse mesmo gráfico, mas comparando os valores gastos por habitante com a população."
      ]
    },
    {
      "cell_type": "code",
      "metadata": {
        "colab": {
          "base_uri": "https://localhost:8080/",
          "height": 459
        },
        "id": "NaRwVzuxYcFk",
        "outputId": "f95b69f5-fc71-4302-c6a2-447a9b9a9e6b"
      },
      "source": [
        "plt.figure(figsize=(7,7))\n",
        "sns.scatterplot(data=gastos_pop_recente,x='População',y='Gastos per Capita')"
      ],
      "execution_count": 31,
      "outputs": [
        {
          "output_type": "execute_result",
          "data": {
            "text/plain": [
              "<matplotlib.axes._subplots.AxesSubplot at 0x7fe2a66a4fd0>"
            ]
          },
          "metadata": {
            "tags": []
          },
          "execution_count": 31
        },
        {
          "output_type": "display_data",
          "data": {
            "image/png": "[encoded data removed]",
            "text/plain": [
              "<Figure size 504x504 with 1 Axes>"
            ]
          },
          "metadata": {
            "tags": [],
            "needs_background": "light"
          }
        }
      ]
    },
    {
      "cell_type": "markdown",
      "metadata": {
        "id": "6MqtQ0Hge49c"
      },
      "source": [
        "Aqui já não conseguimos enxergar uma reta que passe pela maioria dos pontos, indicando a falta de uma relação mais direta entre essas variáveis."
      ]
    },
    {
      "cell_type": "markdown",
      "metadata": {
        "id": "ybCVXo74fP-F"
      },
      "source": [
        "#### **Desafio - Fazer os mesmos gráficos para o mês anterior a este**\n",
        "---"
      ]
    },
    {
      "cell_type": "code",
      "metadata": {
        "id": "DVt7t-e-353b"
      },
      "source": [
        "## Deixei pronto para usar o mês mais recente da base\n",
        "## ou um mês escolhido manualmente, é só alterar qual\n",
        "## a linha abaixo (6 ou 7) deve ser executada e deixar\n",
        "## a outra comentada\n",
        "#\n",
        "mes_recente=atends.columns[-2]\n",
        "mes_recente = '2020/Jul'\n",
        "\n",
        "mes_anterior=atends.columns[atends.columns.get_loc(mes_recente)-1]"
      ],
      "execution_count": 32,
      "outputs": []
    },
    {
      "cell_type": "code",
      "metadata": {
        "id": "NQE3KMGu5zZX"
      },
      "source": [
        "gastos_pop_recente = gastos_pop_recente.join(atends[mes_anterior])\n",
        "gastos_pop_recente['GpC_2']=gastos_pop_recente[mes_anterior]/(gastos_pop_recente['População'])"
      ],
      "execution_count": 33,
      "outputs": []
    },
    {
      "cell_type": "code",
      "metadata": {
        "colab": {
          "base_uri": "https://localhost:8080/",
          "height": 370
        },
        "id": "u7ESffEp4gIT",
        "outputId": "8e5fc825-3556-474b-8121-f782634d782f"
      },
      "source": [
        "fig, (ax1,ax2) = plt.subplots(1,2,figsize=(12,5))\n",
        "fig.suptitle(f'Gastos com Internações Hospitalares no SUS por UF, per Capita - {mes_anterior}',fontweight='bold', fontsize=20)\n",
        "\n",
        "ax1 = sns.scatterplot(data=gastos_pop_recente/1000000,x='População',y=mes_anterior, ax=ax1)\n",
        "ax1.set_title('Valores Absolutos', fontsize=12)\n",
        "ax1.set_ylabel('Valores em R$ MM',fontweight='bold', fontsize=15)\n",
        "\n",
        "ax2 = sns.scatterplot(data=gastos_pop_recente,x='População',y='GpC_2', ax=ax2)\n",
        "ax2.set_title('Valores per Capita', fontsize=12)\n",
        "ax2.set_ylabel('Valores em R$ / Habitante',fontweight='bold', fontsize=15)\n",
        "\n",
        "plt.show()"
      ],
      "execution_count": 34,
      "outputs": [
        {
          "output_type": "display_data",
          "data": {
            "image/png": "[encoded data removed]",
            "text/plain": [
              "<Figure size 864x360 with 2 Axes>"
            ]
          },
          "metadata": {
            "tags": [],
            "needs_background": "light"
          }
        }
      ]
    },
    {
      "cell_type": "markdown",
      "metadata": {
        "id": "rd9J6kayfj1B"
      },
      "source": [
        "#### **Desafio - Plotar os dois meses no mesmo gráfico, diferenciando por cores**\n",
        "---"
      ]
    },
    {
      "cell_type": "markdown",
      "metadata": {
        "id": "1JKffsVwImg1"
      },
      "source": [
        "Procurei muito na documentação pois achava que tinha que estabelecer dois eixos **y** ou algo assim...\n",
        "\n",
        "Na verdade, usando o ***Seaborn*** isso é muito mais simples, basta atribuir os dois gráficos à mesma variável que ele se encarega de colocar as informações juntas, separando por cor."
      ]
    },
    {
      "cell_type": "code",
      "metadata": {
        "colab": {
          "base_uri": "https://localhost:8080/",
          "height": 370
        },
        "id": "3LLDP5KiFSVr",
        "outputId": "0dd2be0b-c725-4422-bcc4-4ade24aecdbb"
      },
      "source": [
        "fig, (ax1,ax2) = plt.subplots(1,2,figsize=(12,5))\n",
        "fig.suptitle(f'Gastos com Internações Hospitalares no SUS por UF, per Capita - {mes_recente} x {mes_anterior}',fontweight='bold', fontsize=20)\n",
        "\n",
        "ax1 = sns.scatterplot(data=gastos_pop_recente/1000000,x='População',y=mes_recente, ax=ax1)\n",
        "ax1 = sns.scatterplot(data=gastos_pop_recente/1000000,x='População',y=mes_anterior, ax=ax1)\n",
        "ax1.set_title('Valores Absolutos', fontsize=15)\n",
        "ax1.set_ylabel('Valores em R$ MM',fontweight='bold', fontsize=15)\n",
        "ax1.legend([mes_recente,mes_anterior])\n",
        "\n",
        "ax2 = sns.scatterplot(data=gastos_pop_recente,x='População',y='Gastos per Capita', ax=ax2)\n",
        "ax2 = sns.scatterplot(data=gastos_pop_recente,x='População',y='GpC_2', ax=ax2)\n",
        "ax2.set_title('Valores per Capita', fontsize=15)\n",
        "ax2.set_ylabel('Valores em R$ / Habitante',fontweight='bold', fontsize=15)\n",
        "ax2.legend([mes_recente,mes_anterior])\n",
        "\n",
        "plt.show()"
      ],
      "execution_count": 35,
      "outputs": [
        {
          "output_type": "display_data",
          "data": {
            "image/png": "[encoded data removed]",
            "text/plain": [
              "<Figure size 864x360 with 2 Axes>"
            ]
          },
          "metadata": {
            "tags": [],
            "needs_background": "light"
          }
        }
      ]
    },
    {
      "cell_type": "markdown",
      "metadata": {
        "id": "ma9hcz99gDJZ"
      },
      "source": [
        "### Aula 02 - Vídeo 02\n",
        "Atividade 3 - Resolvendo o Super Desafio da Aula\n"
      ]
    },
    {
      "cell_type": "markdown",
      "metadata": {
        "id": "Fk9qNWgIgCEJ"
      },
      "source": [
        "Esse vídeo resolve os desafios deixados pelo vídeo anterior e deixa um novo desafio, mais teórico.\n",
        "\n",
        "Em relação aos desafios anteriores, a solução do Guilherme foi bem mais elegante e prática do que a minha. Ele criou uma função que vai agregando colunas no *DataFrame* ```gastos_pop_recente```, o que permite executar mais vezes e agregar mais meses. Para incluir um novo mês nos gráficos, como ele fez, preciso alterar mais código do que ele precisou.\n",
        "\n",
        "Não tenho como fazer isso aqui sem alterar todo o código anterior e perder o histórico de como foram as aulas desse módulo até agora, por isso vou criar uma versão 2 dessa aula que vai conter esse código refatorado."
      ]
    },
    {
      "cell_type": "markdown",
      "metadata": {
        "id": "cG_AIIf6I8Y-"
      },
      "source": [
        "#### **Desafio Teórico - Analise os gráficos**\n",
        "---\n",
        "\n",
        ">Analise os gráficos e tente chegar a hipóteses que explicam o que você está entendendo dos dados. Lembre-se que a conclusão é uma hipótese e que esses dados serão alterados."
      ]
    },
    {
      "cell_type": "markdown",
      "metadata": {
        "id": "TzoGEAMwJ-Bu"
      },
      "source": [
        "### **O que aprendemos nessa aula?**\n",
        "---\n",
        "\n",
        ">* Como construir os primeiros gráficos com ***Seaborn***;\n",
        "* Como fazer comparações dos resultados de forma proporcional a população;\n",
        "* Como analisar gráficos como de gastos_por_habitantes X população e gastos X população, comparando suas diferenças e gerando hipóteses;\n",
        "* O que são e como usar *Type hints*.\n",
        "\n",
        "---\n",
        "Essa parte do *Type Hints* foi muito rápida, preciso analisar melhor para poder entender como usar em chamadas de funções."
      ]
    }
  ]
}