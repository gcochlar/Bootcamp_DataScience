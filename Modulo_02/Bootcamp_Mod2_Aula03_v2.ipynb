{
  "nbformat": 4,
  "nbformat_minor": 0,
  "metadata": {
    "colab": {
      "name": "Bootcamp - Mod2 - Aula03 v2.ipynb",
      "provenance": [],
      "collapsed_sections": [
        "dOVRpiBteZYt",
        "6t3DOpVZo7LT",
        "l5NqQVSK0UDw",
        "A7uA18B54uIm",
        "plNsLrmoJR8V",
        "ma9hcz99gDJZ"
      ],
      "toc_visible": true,
      "authorship_tag": "ABX9TyM3TQN5VP0eZGuw1NJM2405",
      "include_colab_link": true
    },
    "kernelspec": {
      "name": "python3",
      "display_name": "Python 3"
    },
    "language_info": {
      "name": "python"
    }
  },
  "cells": [
    {
      "cell_type": "markdown",
      "metadata": {
        "id": "view-in-github",
        "colab_type": "text"
      },
      "source": [
        "<a href=\"https://colab.research.google.com/github/gcochlar/Bootcamp_DataScience/blob/main/Modulo_02/Bootcamp_Mod2_Aula03_v2.ipynb\" target=\"_parent\"><img src=\"https://colab.research.google.com/assets/colab-badge.svg\" alt=\"Open In Colab\"/></a>"
      ]
    },
    {
      "cell_type": "markdown",
      "metadata": {
        "id": "BZKKSXVwpVfu"
      },
      "source": [
        "<img src=\"https://drive.google.com/uc?id=16O9eMrtSeRDnDpZgmneXj34eIClCntvg\">"
      ]
    },
    {
      "cell_type": "markdown",
      "metadata": {
        "id": "tKeX4KHBZUkZ"
      },
      "source": [
        "# **Tratamento, Exploração e Visualização de Dados**\n",
        "---\n",
        "\n",
        "Esse notebook servirá para o acompanhamento das aulas do Módulo 02 do ***Bootcamp de Data Science Aplicada*** realizado pela Alura.\n",
        "\n",
        "Esse módulo será focado em aprofundar as análises realizadas no Módulo 01, trazendo dados de diferentes fontes e novas ferramentas gráficas para melhorar a visualização.\n",
        "\n",
        "---"
      ]
    },
    {
      "cell_type": "markdown",
      "metadata": {
        "id": "IOJYQLwvbh7E"
      },
      "source": [
        "## **Aula 01 - Fontes Externas, Limpeza e Manipulação**\n",
        "---\n"
      ]
    },
    {
      "cell_type": "markdown",
      "metadata": {
        "id": "dOVRpiBteZYt"
      },
      "source": [
        "### Aula 01 - Vídeo 01\n",
        "Atividade 3 - Usando fontes alternativas de dados"
      ]
    },
    {
      "cell_type": "markdown",
      "metadata": {
        "id": "WCAaut6N_wGN"
      },
      "source": [
        "#### **Importação de Bibliotecas e Parametrizações Iniciais**\n",
        "---\n",
        "Vamos começar importando as diversas bibliotecas que usaremos ao longo desse notebook e realizando algumas configurações de parâmetros gerais que serão igualmente úteis."
      ]
    },
    {
      "cell_type": "code",
      "metadata": {
        "id": "IQh8UR2JZJJF"
      },
      "source": [
        "#Biblioteca de Análise de Dados\n",
        "import pandas as pd\n",
        "import random\n",
        "import numpy as np\n",
        "from io import StringIO\n",
        "\n",
        "#Bibliotecas de Criação de Visualizações Gráficas\n",
        "import matplotlib.pyplot as plt\n",
        "import matplotlib.ticker as ticker\n",
        "from matplotlib.gridspec import GridSpec\n",
        "from matplotlib.patches import Patch\n",
        "import seaborn as sns\n",
        "#import plotly.graph_objects as go\n",
        "#import plotly.express as px\n",
        "\n",
        "#Bibliotecas de Apresentação de Informações no Google Colab\n",
        "from google.colab import widgets, output\n",
        "#import warnings\n",
        "\n",
        "#Ignorar Avisos do Python\n",
        "#warnings.filterwarnings('ignore')\n",
        "\n",
        "#Formatando a exibição de números\n",
        "pd.options.display.float_format = '{:,.2f}'.format\n",
        "\n",
        "#Criando atalhos para usar cores nos textos de print\n",
        "class color:\n",
        "   PURPLE = '\\033[95m'\n",
        "   CYAN = '\\033[96m'\n",
        "   DARKCYAN = '\\033[36m'\n",
        "   BLUE = '\\033[94m'\n",
        "   GREEN = '\\033[92m'\n",
        "   YELLOW = '\\033[93m'\n",
        "   RED = '\\033[91m'\n",
        "   BOLD = '\\033[1m'\n",
        "   ITALIC = '\\033[3m'\n",
        "   UNDERLINE = '\\033[4m'\n",
        "   END = '\\033[0m'"
      ],
      "execution_count": 1,
      "outputs": []
    },
    {
      "cell_type": "markdown",
      "metadata": {
        "id": "IFtLPSgJATUP"
      },
      "source": [
        "Tendo as bibliotecas importadas, vamos à importação dos arquivos de dados. Como a intenção desse módulo é trabalhar com os dados mais recentes, acessei novamente o [TabNet](http://www2.datasus.gov.br/DATASUS/index.php?area=0202&id=11633&VObj=http://tabnet.datasus.gov.br/cgi/deftohtm.exe?sih/cnv/qi) e constatei que os dados atualmente no site já foram atualizados em relação aos importados no Módulo 1.\n"
      ]
    },
    {
      "cell_type": "markdown",
      "metadata": {
        "id": "UfEXQ7tyZv9J"
      },
      "source": [
        "#### **Leitura Inicial dos Dados Atualizados**"
      ]
    },
    {
      "cell_type": "markdown",
      "metadata": {
        "id": "sjJJCTYGZutc"
      },
      "source": [
        "Baixei então uma base atualizada (em 01/06/2021) e a coloquei no repositório do *GitHub*. Será com ela que trabalharemos nesse módulo, mesmo tendo que fazer novas verificações da consistência dos dados importados.\n",
        "\n",
        "Como a importação, validação e preparação dos dados já foi feita no módulo anterior, vamos passar rapidamente pela sequência de código necessário para os seguintes passos:\n",
        "* importar arquivo CSV de dados;\n",
        "* validar os dados obtidos;\n",
        "* eliminar colunas anteriores à 2008/Fev, que apresentam informações incompletas;\n",
        "* acertar o índice do *DataFrame* para ser o nome de cada UF;\n",
        "* incluir uma coluna com a informação de região geográfica de cada UF, para permitir agrupamentos;\n"
      ]
    },
    {
      "cell_type": "code",
      "metadata": {
        "id": "K6zVahh7AZX1"
      },
      "source": [
        "# Estabelecendo a url de localização do arquivo CSV\n",
        "url_atendimento_v2='https://github.com/gcochlar/Bootcamp_DataScience/raw/main/dados/BaseDadosDataSUS-Estado-Atendimento_v2.csv'"
      ],
      "execution_count": 2,
      "outputs": []
    },
    {
      "cell_type": "code",
      "metadata": {
        "id": "GZCX7xvrAlKM"
      },
      "source": [
        "# Importando o arquivo CSV, já desprezando a coluna 'Total'\n",
        "# e colocando a coluna de UF como índice \n",
        "atends=pd.read_csv(url_atendimento_v2,\n",
        "                   encoding='ISO-8859-1', engine='python',\n",
        "                      skiprows=3, skipfooter=12,\n",
        "                      sep=';',thousands='.', decimal=',',\n",
        "                      index_col=0).drop('Total',axis=1)"
      ],
      "execution_count": 3,
      "outputs": []
    },
    {
      "cell_type": "code",
      "metadata": {
        "id": "MJT1qjKOC0Ld"
      },
      "source": [
        "# Desprezando as colunas iniciais, que apresentam dados incompletos\n",
        "# Colunas anteriores a 2008/Fev foram desprezadas\n",
        "atends.drop(atends.columns[:127],axis=1,inplace=True)"
      ],
      "execution_count": 4,
      "outputs": []
    },
    {
      "cell_type": "code",
      "metadata": {
        "colab": {
          "base_uri": "https://localhost:8080/"
        },
        "id": "rulOit9YJIcm",
        "outputId": "3c8f7109-6893-4623-96cf-f9fc26eb6c34"
      },
      "source": [
        "# Confirmando que os dados que sobraram na base estão como numéricos\n",
        "atends.T.info()"
      ],
      "execution_count": 5,
      "outputs": [
        {
          "output_type": "stream",
          "text": [
            "<class 'pandas.core.frame.DataFrame'>\n",
            "Index: 158 entries, 2008/Fev to 2021/Mar\n",
            "Data columns (total 27 columns):\n",
            " #   Column                  Non-Null Count  Dtype  \n",
            "---  ------                  --------------  -----  \n",
            " 0   11 Rondônia             158 non-null    float64\n",
            " 1   12 Acre                 158 non-null    float64\n",
            " 2   13 Amazonas             158 non-null    float64\n",
            " 3   14 Roraima              158 non-null    float64\n",
            " 4   15 Pará                 158 non-null    float64\n",
            " 5   16 Amapá                158 non-null    float64\n",
            " 6   17 Tocantins            158 non-null    float64\n",
            " 7   21 Maranhão             158 non-null    float64\n",
            " 8   22 Piauí                158 non-null    float64\n",
            " 9   23 Ceará                158 non-null    float64\n",
            " 10  24 Rio Grande do Norte  158 non-null    float64\n",
            " 11  25 Paraíba              158 non-null    float64\n",
            " 12  26 Pernambuco           158 non-null    float64\n",
            " 13  27 Alagoas              158 non-null    float64\n",
            " 14  28 Sergipe              158 non-null    float64\n",
            " 15  29 Bahia                158 non-null    float64\n",
            " 16  31 Minas Gerais         158 non-null    float64\n",
            " 17  32 Espírito Santo       158 non-null    float64\n",
            " 18  33 Rio de Janeiro       158 non-null    float64\n",
            " 19  35 São Paulo            158 non-null    float64\n",
            " 20  41 Paraná               158 non-null    float64\n",
            " 21  42 Santa Catarina       158 non-null    float64\n",
            " 22  43 Rio Grande do Sul    158 non-null    float64\n",
            " 23  50 Mato Grosso do Sul   158 non-null    float64\n",
            " 24  51 Mato Grosso          158 non-null    float64\n",
            " 25  52 Goiás                158 non-null    float64\n",
            " 26  53 Distrito Federal     158 non-null    float64\n",
            "dtypes: float64(27)\n",
            "memory usage: 34.6+ KB\n"
          ],
          "name": "stdout"
        }
      ]
    },
    {
      "cell_type": "code",
      "metadata": {
        "id": "4_fB2HuFBzVY"
      },
      "source": [
        "# Separando a coluna 'Unidade da Federação' em código e nome\n",
        "atends.insert(0,'UF','xxx')\n",
        "atends[['Código UF','UF']]=atends.index.str.split(' ',1).tolist()\n",
        "atends=atends.reset_index().set_index('UF').drop('Unidade da Federação',axis=1)\n",
        "\n",
        "# Usando o código para determinar a região geográfica\n",
        "atends['Região']=atends['Código UF'].str[0]\n",
        "dict_regioes = {'1' : 'Norte', '2' : 'Nordeste',\n",
        "                '3' : 'Sudeste', '4' : 'Sul',\n",
        "                '5' : 'Centro-Oeste'}\n",
        "\n",
        "# Acrescentando a coluna 'Região' e eliminando a coluna de código\n",
        "atends['Região']=atends['Região'].map(dict_regioes)\n",
        "atends.drop('Código UF',axis=1,inplace=True)"
      ],
      "execution_count": 6,
      "outputs": []
    },
    {
      "cell_type": "markdown",
      "metadata": {
        "id": "gWhKAY9cKFAO"
      },
      "source": [
        "Temos agora nossa base com as 27 UFs e os dados mensais entre 2008/Fev e 2021/Mar. Antes de prosseguir, vamos verificar os totais dos últimos 6 meses de dados que temos."
      ]
    },
    {
      "cell_type": "code",
      "metadata": {
        "colab": {
          "base_uri": "https://localhost:8080/"
        },
        "id": "cmG8HP5uI_jd",
        "outputId": "5acb594e-aad6-4674-b281-5f7fed4b2f20"
      },
      "source": [
        "atends.drop('Região',axis=1).sum().tail(6)"
      ],
      "execution_count": 7,
      "outputs": [
        {
          "output_type": "execute_result",
          "data": {
            "text/plain": [
              "2020/Out   1,455,575,204.34\n",
              "2020/Nov   1,450,857,674.98\n",
              "2020/Dez   1,451,868,546.56\n",
              "2021/Jan   1,335,800,905.13\n",
              "2021/Fev   1,052,795,454.22\n",
              "2021/Mar     652,420,247.87\n",
              "dtype: float64"
            ]
          },
          "metadata": {
            "tags": []
          },
          "execution_count": 7
        }
      ]
    },
    {
      "cell_type": "markdown",
      "metadata": {
        "id": "l5lnnK5nKUPu"
      },
      "source": [
        "Podemos ver que os dados de 2021 ainda se apresentam abaixo dos meses anteriores, um indicativo de que ainda podem estar faltando informações. Como o próprio *site* avisa, os dados referentes aos últimos 6 meses são passíveis de alterações.\n",
        "\n",
        "Sendo assim, vamos desprezar também os dados de 2021, ficando somente com os dados até 2020/Dez."
      ]
    },
    {
      "cell_type": "code",
      "metadata": {
        "id": "ZFXbjEenK8XS"
      },
      "source": [
        "# Elimina as colunas '2021/Jan', '2021/Fev' e '2021/Mar'\n",
        "atends.drop(['2021/Jan','2021/Fev','2021/Mar'], axis=1, inplace=True)"
      ],
      "execution_count": 8,
      "outputs": []
    },
    {
      "cell_type": "code",
      "metadata": {
        "colab": {
          "base_uri": "https://localhost:8080/",
          "height": 0
        },
        "id": "NObRabiCJA4u",
        "outputId": "68ba13f6-716c-4529-cedc-abce2084c8ea"
      },
      "source": [
        "# Verifica qual o último mês da base\n",
        "mes_recente = atends.columns[-2]\n",
        "\n",
        "# Para usar o mesmo mês visto nas aulas, vou forçar o valor da variável 'mes_recente'\n",
        "mes_recente='2020/Jul'\n",
        "mes_recente"
      ],
      "execution_count": 9,
      "outputs": [
        {
          "output_type": "execute_result",
          "data": {
            "application/vnd.google.colaboratory.intrinsic+json": {
              "type": "string"
            },
            "text/plain": [
              "'2020/Jul'"
            ]
          },
          "metadata": {
            "tags": []
          },
          "execution_count": 9
        }
      ]
    },
    {
      "cell_type": "markdown",
      "metadata": {
        "id": "zsLxybUJTeHE"
      },
      "source": [
        "Plotando um gráfico de barras dos valores gastos do mês mais recente (2020/Dez, no caso), temos uma difícil comparação entre as UFs.\n",
        "\n",
        "Na direita, usamos os valores proporcionais ao total do mês."
      ]
    },
    {
      "cell_type": "code",
      "metadata": {
        "colab": {
          "base_uri": "https://localhost:8080/",
          "height": 0
        },
        "id": "L2QHULoBLkhy",
        "outputId": "49fcbc42-a8bc-45c2-c61c-fec01fd22a72"
      },
      "source": [
        "atends_mes_recente = atends[mes_recente].sort_values(ascending=False)\n",
        "atends_proporcionais = atends_mes_recente/atends_mes_recente.sum()\n",
        "\n",
        "fig, (ax1,ax2)=plt.subplots(nrows=1,ncols=2,figsize=(15,6))\n",
        "\n",
        "ax1 = (atends_mes_recente/1000000).plot(kind='bar',ax=ax1)\n",
        "ax1.yaxis.set_major_formatter(\n",
        "    ticker.StrMethodFormatter('R$ {x:,.0f} MM'))\n",
        "\n",
        "ax2 = atends_proporcionais.plot(kind='bar', ax=ax2)\n",
        "ax2.yaxis.set_major_formatter(\n",
        "    ticker.StrMethodFormatter('{x:,.0%}'))\n",
        "\n",
        "plt.show()"
      ],
      "execution_count": 10,
      "outputs": [
        {
          "output_type": "display_data",
          "data": {
            "image/png": "[encoded data removed]",
            "text/plain": [
              "<Figure size 1080x432 with 2 Axes>"
            ]
          },
          "metadata": {
            "tags": [],
            "needs_background": "light"
          }
        }
      ]
    },
    {
      "cell_type": "markdown",
      "metadata": {
        "id": "dr8o2jU7Uetw"
      },
      "source": [
        "Apesar de termos o mesmo desenho gráfico, na direita podemos entender que SP ficou com algo em torno de 23% dos recursos do mês enquando MG, na 2ª posição, ficou com pouco mais de 10% do total.\n",
        "\n",
        "Mesmo assim, a comparação pode ser melhorada se incluirmos os dados referentes à população, para avaliarmos os valores *per capita*.\n"
      ]
    },
    {
      "cell_type": "markdown",
      "metadata": {
        "id": "n38_gve1pHZC"
      },
      "source": [
        "#### Importando Dados Demográficos\n",
        "---"
      ]
    },
    {
      "cell_type": "markdown",
      "metadata": {
        "id": "ML7vs5mFpE3d"
      },
      "source": [
        "O último censo brasileiro foi realizado em 2010, distante da data que estamos trabalhando. No Super Desafio do Módulo 1 usei os dados disponíveis no *TabNet* projetados pelo IBGE, também em formato CSV.\n",
        "\n",
        "Mas a ideia aqui é buscar fontes alternativas de dados. Vamos recorrer à Wikipedia e importar os dados diretamente de lá, copiando e colando em uma variável *string*."
      ]
    },
    {
      "cell_type": "code",
      "metadata": {
        "id": "vvGKOtw2LnVq"
      },
      "source": [
        "# Fonte: https://pt.wikipedia.org/wiki/Lista_de_unidades_federativas_do_Brasil_por_popula%C3%A7%C3%A3o\n",
        "# Data : 01/06/2021, 18:00\n",
        "\n",
        "pop_projetada_str='''Posição\tUnidade federativa\tPopulação\t% da pop. total\tPaís comparável\n",
        "(habitantes)\n",
        "1\t São Paulo\t46 289 333\t21,9%\tFlag of Spain.svg Espanha (46 439 864)\n",
        "2\t Minas Gerais\t21 292 666\t10,1%\t Sri Lanka (20 675 000)\n",
        "3\t Rio de Janeiro\t17 366 189\t8,2%\t Países Baixos (16 922 900)\n",
        "4\tBahia Bahia\t14 930 634\t7,1%\t Chade (14 037 000)\n",
        "5\t Paraná\t11 516 840\t5,4%\t Bolívia (11 410 651)\n",
        "6\t Rio Grande do Sul\t11 422 973\t5,4%\t Bélgica (11 250 659)\n",
        "7\t Pernambuco\t9 616 621\t4,5%\t Bielorrússia (9 485 300)\n",
        "8\t Ceará\t9 187 103\t4,3%\t Emirados Árabes Unidos (9 157 000)\n",
        "9\tPará Pará\t8 690 745\t4,1%\t Áustria (8 602 112)\n",
        "10\t Santa Catarina\t7 252 502\t3,4%\t Sérvia (7 114 393)\n",
        "11\t Maranhão\t7 114 598\t3,4%\t Paraguai (7 003 406)\n",
        "12\t Goiás\t7 113 540\t3,4%\t Paraguai (7 003 406)\n",
        "13\t Amazonas\t4 207 714\t2,0%\t Líbano (4 168 000)\n",
        "14\t Espírito Santo\t4 064 052\t1,9%\t Líbano (4 168 000)\n",
        "15\t Paraíba\t4 039 277\t1,9%\t Líbano (4 168 000)\n",
        "16\t Rio Grande do Norte\t3 534 165\t1,7%\t Uruguai (3 415 866)\n",
        "17\t Mato Grosso\t3 526 220\t1,7%\t Uruguai (3 415 866)\n",
        "18\t Alagoas\t3 351 543\t1,6%\t Uruguai (3 415 866)\n",
        "19\t Piauí\t3 281 480\t1,6%\t Kuwait (3 268 431)\n",
        "20\t Distrito Federal\t3 055 149\t1,4%\t Lituânia (2 900 787)\n",
        "21\t Mato Grosso do Sul\t2 809 394\t1,3%\t Jamaica (2 717 991)\n",
        "22\t Sergipe\t2 318 822\t1,1%\t Namíbia (2 280 700)\n",
        "23\t Rondônia\t1 796 460\t0,8%\t Gabão (1 725 000)\n",
        "24\t Tocantins\t1 590 248\t0,7%\t Bahrein (1 359 800)\n",
        "25\t Acre\t894 470\t0,4%\t Fiji (859 178)\n",
        "26\t Amapá\t861 773\t0,4%\t Fiji (859 178)\n",
        "27\t Roraima\t631 181\t0,3%\t Luxemburgo (562 958)'''"
      ],
      "execution_count": 11,
      "outputs": []
    },
    {
      "cell_type": "markdown",
      "metadata": {
        "id": "IsVCgqSVYXmH"
      },
      "source": [
        "Agora, tendo nossas informações armazenadas em um *string*, precisamos transformá-lo num fluxo de dados para poder ser lido usando o método **```read_csv```** que já vimos antes.\n",
        "\n"
      ]
    },
    {
      "cell_type": "code",
      "metadata": {
        "id": "4mcJlWKIYFfi"
      },
      "source": [
        "pop_projetada_IO = StringIO(pop_projetada_str)\n",
        "\n",
        "pop_projetada = pd.read_csv(pop_projetada_IO,\n",
        "                            sep='\\t')"
      ],
      "execution_count": 12,
      "outputs": []
    },
    {
      "cell_type": "markdown",
      "metadata": {
        "id": "Na_IkvVTZbSk"
      },
      "source": [
        "#### **Desafio - Ler essas informações diretamente da página da** ***Wikipedia***\n",
        "---"
      ]
    },
    {
      "cell_type": "code",
      "metadata": {
        "colab": {
          "base_uri": "https://localhost:8080/",
          "height": 0
        },
        "id": "vqpHmHS2Y2py",
        "outputId": "3acdc8e8-a759-4ebb-964b-819aa82379d1"
      },
      "source": [
        "### DESAFIO\n",
        "\n",
        "# Importar Bibliotecas necessárias\n",
        "import requests as r # Biblioteca para fazer requests\n",
        "from bs4 import BeautifulSoup # Biblioteca para importar páginas HTML\n",
        "\n",
        "# Definir a URL a ser importada\n",
        "url_wiki='https://pt.wikipedia.org/wiki/Lista_de_unidades_federativas_do_Brasil_por_popula%C3%A7%C3%A3o'\n",
        "response=r.get(url_wiki)\n",
        "\n",
        "# Transformar a importação em objeto BeautifulSoup\n",
        "soup=BeautifulSoup(response.text, 'html.parser')\n",
        "tabela_pop=soup.find('table',{'class':\"wikitable\"})\n",
        "\n",
        "# Converter o objeto BeautifulSoup em DataFrame\n",
        "# Coloca a linha [0] como nomes das colunas\n",
        "df_populacao=pd.DataFrame(pd.read_html(str(tabela_pop))[0])\n",
        "\n",
        "display(df_populacao)"
      ],
      "execution_count": 13,
      "outputs": [
        {
          "output_type": "display_data",
          "data": {
            "text/html": [
              "<div>\n",
              "<style scoped>\n",
              "    .dataframe tbody tr th:only-of-type {\n",
              "        vertical-align: middle;\n",
              "    }\n",
              "\n",
              "    .dataframe tbody tr th {\n",
              "        vertical-align: top;\n",
              "    }\n",
              "\n",
              "    .dataframe thead th {\n",
              "        text-align: right;\n",
              "    }\n",
              "</style>\n",
              "<table border=\"1\" class=\"dataframe\">\n",
              "  <thead>\n",
              "    <tr style=\"text-align: right;\">\n",
              "      <th></th>\n",
              "      <th>Posição</th>\n",
              "      <th>Unidade federativa</th>\n",
              "      <th>População</th>\n",
              "      <th>% da pop. total</th>\n",
              "      <th>País comparável (habitantes)</th>\n",
              "    </tr>\n",
              "  </thead>\n",
              "  <tbody>\n",
              "    <tr>\n",
              "      <th>0</th>\n",
              "      <td>1</td>\n",
              "      <td>São Paulo</td>\n",
              "      <td>46 289 333</td>\n",
              "      <td>21,9%</td>\n",
              "      <td>Espanha (46 439 864)</td>\n",
              "    </tr>\n",
              "    <tr>\n",
              "      <th>1</th>\n",
              "      <td>2</td>\n",
              "      <td>Minas Gerais</td>\n",
              "      <td>21 292 666</td>\n",
              "      <td>10,1%</td>\n",
              "      <td>Sri Lanka (20 675 000)</td>\n",
              "    </tr>\n",
              "    <tr>\n",
              "      <th>2</th>\n",
              "      <td>3</td>\n",
              "      <td>Rio de Janeiro</td>\n",
              "      <td>17 366 189</td>\n",
              "      <td>8,2%</td>\n",
              "      <td>Países Baixos (16 922 900)</td>\n",
              "    </tr>\n",
              "    <tr>\n",
              "      <th>3</th>\n",
              "      <td>4</td>\n",
              "      <td>Bahia</td>\n",
              "      <td>14 930 634</td>\n",
              "      <td>7,1%</td>\n",
              "      <td>Chade (14 037 000)</td>\n",
              "    </tr>\n",
              "    <tr>\n",
              "      <th>4</th>\n",
              "      <td>5</td>\n",
              "      <td>Paraná</td>\n",
              "      <td>11 516 840</td>\n",
              "      <td>5,4%</td>\n",
              "      <td>Bolívia (11 410 651)</td>\n",
              "    </tr>\n",
              "    <tr>\n",
              "      <th>5</th>\n",
              "      <td>6</td>\n",
              "      <td>Rio Grande do Sul</td>\n",
              "      <td>11 422 973</td>\n",
              "      <td>5,4%</td>\n",
              "      <td>Bélgica (11 250 659)</td>\n",
              "    </tr>\n",
              "    <tr>\n",
              "      <th>6</th>\n",
              "      <td>7</td>\n",
              "      <td>Pernambuco</td>\n",
              "      <td>9 616 621</td>\n",
              "      <td>4,5%</td>\n",
              "      <td>Bielorrússia (9 485 300)</td>\n",
              "    </tr>\n",
              "    <tr>\n",
              "      <th>7</th>\n",
              "      <td>8</td>\n",
              "      <td>Ceará</td>\n",
              "      <td>9 187 103</td>\n",
              "      <td>4,3%</td>\n",
              "      <td>Emirados Árabes Unidos (9 157 000)</td>\n",
              "    </tr>\n",
              "    <tr>\n",
              "      <th>8</th>\n",
              "      <td>9</td>\n",
              "      <td>Pará</td>\n",
              "      <td>8 690 745</td>\n",
              "      <td>4,1%</td>\n",
              "      <td>Áustria (8 602 112)</td>\n",
              "    </tr>\n",
              "    <tr>\n",
              "      <th>9</th>\n",
              "      <td>10</td>\n",
              "      <td>Santa Catarina</td>\n",
              "      <td>7 252 502</td>\n",
              "      <td>3,4%</td>\n",
              "      <td>Sérvia (7 114 393)</td>\n",
              "    </tr>\n",
              "    <tr>\n",
              "      <th>10</th>\n",
              "      <td>11</td>\n",
              "      <td>Maranhão</td>\n",
              "      <td>7 114 598</td>\n",
              "      <td>3,4%</td>\n",
              "      <td>Paraguai (7 003 406)</td>\n",
              "    </tr>\n",
              "    <tr>\n",
              "      <th>11</th>\n",
              "      <td>12</td>\n",
              "      <td>Goiás</td>\n",
              "      <td>7 113 540</td>\n",
              "      <td>3,4%</td>\n",
              "      <td>Paraguai (7 003 406)</td>\n",
              "    </tr>\n",
              "    <tr>\n",
              "      <th>12</th>\n",
              "      <td>13</td>\n",
              "      <td>Amazonas</td>\n",
              "      <td>4 207 714</td>\n",
              "      <td>2,0%</td>\n",
              "      <td>Líbano (4 168 000)</td>\n",
              "    </tr>\n",
              "    <tr>\n",
              "      <th>13</th>\n",
              "      <td>14</td>\n",
              "      <td>Espírito Santo</td>\n",
              "      <td>4 064 052</td>\n",
              "      <td>1,9%</td>\n",
              "      <td>Líbano (4 168 000)</td>\n",
              "    </tr>\n",
              "    <tr>\n",
              "      <th>14</th>\n",
              "      <td>15</td>\n",
              "      <td>Paraíba</td>\n",
              "      <td>4 039 277</td>\n",
              "      <td>1,9%</td>\n",
              "      <td>Líbano (4 168 000)</td>\n",
              "    </tr>\n",
              "    <tr>\n",
              "      <th>15</th>\n",
              "      <td>16</td>\n",
              "      <td>Rio Grande do Norte</td>\n",
              "      <td>3 534 165</td>\n",
              "      <td>1,7%</td>\n",
              "      <td>Uruguai (3 415 866)</td>\n",
              "    </tr>\n",
              "    <tr>\n",
              "      <th>16</th>\n",
              "      <td>17</td>\n",
              "      <td>Mato Grosso</td>\n",
              "      <td>3 526 220</td>\n",
              "      <td>1,7%</td>\n",
              "      <td>Uruguai (3 415 866)</td>\n",
              "    </tr>\n",
              "    <tr>\n",
              "      <th>17</th>\n",
              "      <td>18</td>\n",
              "      <td>Alagoas</td>\n",
              "      <td>3 351 543</td>\n",
              "      <td>1,6%</td>\n",
              "      <td>Uruguai (3 415 866)</td>\n",
              "    </tr>\n",
              "    <tr>\n",
              "      <th>18</th>\n",
              "      <td>19</td>\n",
              "      <td>Piauí</td>\n",
              "      <td>3 281 480</td>\n",
              "      <td>1,6%</td>\n",
              "      <td>Kuwait (3 268 431)</td>\n",
              "    </tr>\n",
              "    <tr>\n",
              "      <th>19</th>\n",
              "      <td>20</td>\n",
              "      <td>Distrito Federal</td>\n",
              "      <td>3 055 149</td>\n",
              "      <td>1,4%</td>\n",
              "      <td>Lituânia (2 900 787)</td>\n",
              "    </tr>\n",
              "    <tr>\n",
              "      <th>20</th>\n",
              "      <td>21</td>\n",
              "      <td>Mato Grosso do Sul</td>\n",
              "      <td>2 809 394</td>\n",
              "      <td>1,3%</td>\n",
              "      <td>Jamaica (2 717 991)</td>\n",
              "    </tr>\n",
              "    <tr>\n",
              "      <th>21</th>\n",
              "      <td>22</td>\n",
              "      <td>Sergipe</td>\n",
              "      <td>2 318 822</td>\n",
              "      <td>1,1%</td>\n",
              "      <td>Namíbia (2 280 700)</td>\n",
              "    </tr>\n",
              "    <tr>\n",
              "      <th>22</th>\n",
              "      <td>23</td>\n",
              "      <td>Rondônia</td>\n",
              "      <td>1 796 460</td>\n",
              "      <td>0,8%</td>\n",
              "      <td>Gabão (1 725 000)</td>\n",
              "    </tr>\n",
              "    <tr>\n",
              "      <th>23</th>\n",
              "      <td>24</td>\n",
              "      <td>Tocantins</td>\n",
              "      <td>1 590 248</td>\n",
              "      <td>0,7%</td>\n",
              "      <td>Bahrein (1 359 800)</td>\n",
              "    </tr>\n",
              "    <tr>\n",
              "      <th>24</th>\n",
              "      <td>25</td>\n",
              "      <td>Acre</td>\n",
              "      <td>894 470</td>\n",
              "      <td>0,4%</td>\n",
              "      <td>Fiji (859 178)</td>\n",
              "    </tr>\n",
              "    <tr>\n",
              "      <th>25</th>\n",
              "      <td>26</td>\n",
              "      <td>Amapá</td>\n",
              "      <td>861 773</td>\n",
              "      <td>0,4%</td>\n",
              "      <td>Fiji (859 178)</td>\n",
              "    </tr>\n",
              "    <tr>\n",
              "      <th>26</th>\n",
              "      <td>27</td>\n",
              "      <td>Roraima</td>\n",
              "      <td>631 181</td>\n",
              "      <td>0,3%</td>\n",
              "      <td>Luxemburgo (562 958)</td>\n",
              "    </tr>\n",
              "  </tbody>\n",
              "</table>\n",
              "</div>"
            ],
            "text/plain": [
              "    Posição  ...        País comparável (habitantes)\n",
              "0         1  ...                Espanha (46 439 864)\n",
              "1         2  ...              Sri Lanka (20 675 000)\n",
              "2         3  ...          Países Baixos (16 922 900)\n",
              "3         4  ...                  Chade (14 037 000)\n",
              "4         5  ...                Bolívia (11 410 651)\n",
              "5         6  ...                Bélgica (11 250 659)\n",
              "6         7  ...            Bielorrússia (9 485 300)\n",
              "7         8  ...  Emirados Árabes Unidos (9 157 000)\n",
              "8         9  ...                 Áustria (8 602 112)\n",
              "9        10  ...                  Sérvia (7 114 393)\n",
              "10       11  ...                Paraguai (7 003 406)\n",
              "11       12  ...                Paraguai (7 003 406)\n",
              "12       13  ...                  Líbano (4 168 000)\n",
              "13       14  ...                  Líbano (4 168 000)\n",
              "14       15  ...                  Líbano (4 168 000)\n",
              "15       16  ...                 Uruguai (3 415 866)\n",
              "16       17  ...                 Uruguai (3 415 866)\n",
              "17       18  ...                 Uruguai (3 415 866)\n",
              "18       19  ...                  Kuwait (3 268 431)\n",
              "19       20  ...                Lituânia (2 900 787)\n",
              "20       21  ...                 Jamaica (2 717 991)\n",
              "21       22  ...                 Namíbia (2 280 700)\n",
              "22       23  ...                   Gabão (1 725 000)\n",
              "23       24  ...                 Bahrein (1 359 800)\n",
              "24       25  ...                      Fiji (859 178)\n",
              "25       26  ...                      Fiji (859 178)\n",
              "26       27  ...                Luxemburgo (562 958)\n",
              "\n",
              "[27 rows x 5 columns]"
            ]
          },
          "metadata": {
            "tags": []
          }
        }
      ]
    },
    {
      "cell_type": "markdown",
      "metadata": {
        "id": "YGq3EuYTdggP"
      },
      "source": [
        "#### **Desafio - Alterar a Tabela Importada**\n",
        "---\n",
        "* renomear a coluna 'Unidade Federativa' para 'UF'\n",
        "* desprezar as demais colunas\n",
        "* desprezar a linha 0\n",
        "* transformar 'UF' em índice\n",
        "* limpar os espaços entre os números da coluna 'População'\n",
        "---\n",
        "\n",
        "Em função da continuidade das aulas deste módulo, vou fazer as alterações em um *DataFrame* temporário (**```pop_temp```**)."
      ]
    },
    {
      "cell_type": "code",
      "metadata": {
        "colab": {
          "base_uri": "https://localhost:8080/",
          "height": 0
        },
        "id": "3G3XvdQCeEWH",
        "outputId": "b05e6de2-1164-406d-f13f-5d1f29b90538"
      },
      "source": [
        "### DESAFIO\n",
        "\n",
        "# Copiando o DataFrame\n",
        "pop_temp = pop_projetada\n",
        "\n",
        "# Renomeando a coluna 'UF'\n",
        "pop_temp = pop_temp.rename(columns={'Unidade federativa':'UF'})\n",
        "\n",
        "# Desprezar as demais colunas fora 'UF' e 'População'\n",
        "pop_temp = pop_temp.drop(columns=pop_temp.columns[-2:], axis=1).drop('Posição',axis=1)\n",
        "\n",
        "# Desprezar a linha 0\n",
        "pop_temp.drop([0],inplace=True)\n",
        "\n",
        "# Transformar 'UF' em índice\n",
        "pop_temp = pop_temp.reset_index().set_index('UF').drop('index',axis=1)\n",
        "\n",
        "# Limpar os espaços entre os números da coluna 'População'\n",
        "pop_temp['População'] = pop_temp['População'].str.replace(' ','')\n",
        "pop_temp = pop_temp.astype(float)\n",
        "\n",
        "# Exibindo o resultado\n",
        "display(pop_temp)"
      ],
      "execution_count": 14,
      "outputs": [
        {
          "output_type": "display_data",
          "data": {
            "text/html": [
              "<div>\n",
              "<style scoped>\n",
              "    .dataframe tbody tr th:only-of-type {\n",
              "        vertical-align: middle;\n",
              "    }\n",
              "\n",
              "    .dataframe tbody tr th {\n",
              "        vertical-align: top;\n",
              "    }\n",
              "\n",
              "    .dataframe thead th {\n",
              "        text-align: right;\n",
              "    }\n",
              "</style>\n",
              "<table border=\"1\" class=\"dataframe\">\n",
              "  <thead>\n",
              "    <tr style=\"text-align: right;\">\n",
              "      <th></th>\n",
              "      <th>População</th>\n",
              "    </tr>\n",
              "    <tr>\n",
              "      <th>UF</th>\n",
              "      <th></th>\n",
              "    </tr>\n",
              "  </thead>\n",
              "  <tbody>\n",
              "    <tr>\n",
              "      <th>São Paulo</th>\n",
              "      <td>46,289,333.00</td>\n",
              "    </tr>\n",
              "    <tr>\n",
              "      <th>Minas Gerais</th>\n",
              "      <td>21,292,666.00</td>\n",
              "    </tr>\n",
              "    <tr>\n",
              "      <th>Rio de Janeiro</th>\n",
              "      <td>17,366,189.00</td>\n",
              "    </tr>\n",
              "    <tr>\n",
              "      <th>Bahia Bahia</th>\n",
              "      <td>14,930,634.00</td>\n",
              "    </tr>\n",
              "    <tr>\n",
              "      <th>Paraná</th>\n",
              "      <td>11,516,840.00</td>\n",
              "    </tr>\n",
              "    <tr>\n",
              "      <th>Rio Grande do Sul</th>\n",
              "      <td>11,422,973.00</td>\n",
              "    </tr>\n",
              "    <tr>\n",
              "      <th>Pernambuco</th>\n",
              "      <td>9,616,621.00</td>\n",
              "    </tr>\n",
              "    <tr>\n",
              "      <th>Ceará</th>\n",
              "      <td>9,187,103.00</td>\n",
              "    </tr>\n",
              "    <tr>\n",
              "      <th>Pará Pará</th>\n",
              "      <td>8,690,745.00</td>\n",
              "    </tr>\n",
              "    <tr>\n",
              "      <th>Santa Catarina</th>\n",
              "      <td>7,252,502.00</td>\n",
              "    </tr>\n",
              "    <tr>\n",
              "      <th>Maranhão</th>\n",
              "      <td>7,114,598.00</td>\n",
              "    </tr>\n",
              "    <tr>\n",
              "      <th>Goiás</th>\n",
              "      <td>7,113,540.00</td>\n",
              "    </tr>\n",
              "    <tr>\n",
              "      <th>Amazonas</th>\n",
              "      <td>4,207,714.00</td>\n",
              "    </tr>\n",
              "    <tr>\n",
              "      <th>Espírito Santo</th>\n",
              "      <td>4,064,052.00</td>\n",
              "    </tr>\n",
              "    <tr>\n",
              "      <th>Paraíba</th>\n",
              "      <td>4,039,277.00</td>\n",
              "    </tr>\n",
              "    <tr>\n",
              "      <th>Rio Grande do Norte</th>\n",
              "      <td>3,534,165.00</td>\n",
              "    </tr>\n",
              "    <tr>\n",
              "      <th>Mato Grosso</th>\n",
              "      <td>3,526,220.00</td>\n",
              "    </tr>\n",
              "    <tr>\n",
              "      <th>Alagoas</th>\n",
              "      <td>3,351,543.00</td>\n",
              "    </tr>\n",
              "    <tr>\n",
              "      <th>Piauí</th>\n",
              "      <td>3,281,480.00</td>\n",
              "    </tr>\n",
              "    <tr>\n",
              "      <th>Distrito Federal</th>\n",
              "      <td>3,055,149.00</td>\n",
              "    </tr>\n",
              "    <tr>\n",
              "      <th>Mato Grosso do Sul</th>\n",
              "      <td>2,809,394.00</td>\n",
              "    </tr>\n",
              "    <tr>\n",
              "      <th>Sergipe</th>\n",
              "      <td>2,318,822.00</td>\n",
              "    </tr>\n",
              "    <tr>\n",
              "      <th>Rondônia</th>\n",
              "      <td>1,796,460.00</td>\n",
              "    </tr>\n",
              "    <tr>\n",
              "      <th>Tocantins</th>\n",
              "      <td>1,590,248.00</td>\n",
              "    </tr>\n",
              "    <tr>\n",
              "      <th>Acre</th>\n",
              "      <td>894,470.00</td>\n",
              "    </tr>\n",
              "    <tr>\n",
              "      <th>Amapá</th>\n",
              "      <td>861,773.00</td>\n",
              "    </tr>\n",
              "    <tr>\n",
              "      <th>Roraima</th>\n",
              "      <td>631,181.00</td>\n",
              "    </tr>\n",
              "  </tbody>\n",
              "</table>\n",
              "</div>"
            ],
            "text/plain": [
              "                         População\n",
              "UF                                \n",
              " São Paulo           46,289,333.00\n",
              " Minas Gerais        21,292,666.00\n",
              " Rio de Janeiro      17,366,189.00\n",
              "Bahia Bahia          14,930,634.00\n",
              " Paraná              11,516,840.00\n",
              " Rio Grande do Sul   11,422,973.00\n",
              " Pernambuco           9,616,621.00\n",
              " Ceará                9,187,103.00\n",
              "Pará Pará             8,690,745.00\n",
              " Santa Catarina       7,252,502.00\n",
              " Maranhão             7,114,598.00\n",
              " Goiás                7,113,540.00\n",
              " Amazonas             4,207,714.00\n",
              " Espírito Santo       4,064,052.00\n",
              " Paraíba              4,039,277.00\n",
              " Rio Grande do Norte  3,534,165.00\n",
              " Mato Grosso          3,526,220.00\n",
              " Alagoas              3,351,543.00\n",
              " Piauí                3,281,480.00\n",
              " Distrito Federal     3,055,149.00\n",
              " Mato Grosso do Sul   2,809,394.00\n",
              " Sergipe              2,318,822.00\n",
              " Rondônia             1,796,460.00\n",
              " Tocantins            1,590,248.00\n",
              " Acre                   894,470.00\n",
              " Amapá                  861,773.00\n",
              " Roraima                631,181.00"
            ]
          },
          "metadata": {
            "tags": []
          }
        }
      ]
    },
    {
      "cell_type": "markdown",
      "metadata": {
        "id": "6t3DOpVZo7LT"
      },
      "source": [
        "### Aula 01 - Vídeo 02\n",
        "Atividade 4 - Manipulação e junção de tabelas\n"
      ]
    },
    {
      "cell_type": "markdown",
      "metadata": {
        "id": "gJEYEJF1w05X"
      },
      "source": [
        "Começamos fazendo os ajustes do segundo desafio do vídeo anterior para limpar a nossa tabela importada da *Wikipedia*."
      ]
    },
    {
      "cell_type": "code",
      "metadata": {
        "colab": {
          "base_uri": "https://localhost:8080/",
          "height": 0
        },
        "id": "7mjZPza7ooTB",
        "outputId": "8d27c99d-2e9f-4fc2-aa4f-c8e5ee7e4eff"
      },
      "source": [
        "pop_projetada.head()"
      ],
      "execution_count": 15,
      "outputs": [
        {
          "output_type": "execute_result",
          "data": {
            "text/html": [
              "<div>\n",
              "<style scoped>\n",
              "    .dataframe tbody tr th:only-of-type {\n",
              "        vertical-align: middle;\n",
              "    }\n",
              "\n",
              "    .dataframe tbody tr th {\n",
              "        vertical-align: top;\n",
              "    }\n",
              "\n",
              "    .dataframe thead th {\n",
              "        text-align: right;\n",
              "    }\n",
              "</style>\n",
              "<table border=\"1\" class=\"dataframe\">\n",
              "  <thead>\n",
              "    <tr style=\"text-align: right;\">\n",
              "      <th></th>\n",
              "      <th>Posição</th>\n",
              "      <th>Unidade federativa</th>\n",
              "      <th>População</th>\n",
              "      <th>% da pop. total</th>\n",
              "      <th>País comparável</th>\n",
              "    </tr>\n",
              "  </thead>\n",
              "  <tbody>\n",
              "    <tr>\n",
              "      <th>0</th>\n",
              "      <td>(habitantes)</td>\n",
              "      <td>NaN</td>\n",
              "      <td>NaN</td>\n",
              "      <td>NaN</td>\n",
              "      <td>NaN</td>\n",
              "    </tr>\n",
              "    <tr>\n",
              "      <th>1</th>\n",
              "      <td>1</td>\n",
              "      <td>São Paulo</td>\n",
              "      <td>46 289 333</td>\n",
              "      <td>21,9%</td>\n",
              "      <td>Flag of Spain.svg Espanha (46 439 864)</td>\n",
              "    </tr>\n",
              "    <tr>\n",
              "      <th>2</th>\n",
              "      <td>2</td>\n",
              "      <td>Minas Gerais</td>\n",
              "      <td>21 292 666</td>\n",
              "      <td>10,1%</td>\n",
              "      <td>Sri Lanka (20 675 000)</td>\n",
              "    </tr>\n",
              "    <tr>\n",
              "      <th>3</th>\n",
              "      <td>3</td>\n",
              "      <td>Rio de Janeiro</td>\n",
              "      <td>17 366 189</td>\n",
              "      <td>8,2%</td>\n",
              "      <td>Países Baixos (16 922 900)</td>\n",
              "    </tr>\n",
              "    <tr>\n",
              "      <th>4</th>\n",
              "      <td>4</td>\n",
              "      <td>Bahia Bahia</td>\n",
              "      <td>14 930 634</td>\n",
              "      <td>7,1%</td>\n",
              "      <td>Chade (14 037 000)</td>\n",
              "    </tr>\n",
              "  </tbody>\n",
              "</table>\n",
              "</div>"
            ],
            "text/plain": [
              "        Posição  ...                         País comparável\n",
              "0  (habitantes)  ...                                     NaN\n",
              "1             1  ...  Flag of Spain.svg Espanha (46 439 864)\n",
              "2             2  ...                  Sri Lanka (20 675 000)\n",
              "3             3  ...              Países Baixos (16 922 900)\n",
              "4             4  ...                      Chade (14 037 000)\n",
              "\n",
              "[5 rows x 5 columns]"
            ]
          },
          "metadata": {
            "tags": []
          },
          "execution_count": 15
        }
      ]
    },
    {
      "cell_type": "code",
      "metadata": {
        "id": "z5SdJEpepzbF"
      },
      "source": [
        "# Cria uma nova coluna com o nome 'UF'\n",
        "pop_projetada['UF'] = pop_projetada['Unidade federativa']\n",
        "\n",
        "# Elimina as linhas com dados nulos\n",
        "pop_projetada = pop_projetada.dropna()\n",
        "\n",
        "# Limpa os espaços e converte a coluna 'População' para o tipo Inteiro\n",
        "pop_projetada['População'] = pop_projetada['População'].str.replace(' ','').astype(int)\n",
        "\n",
        "# Pega somente as colunas que serão usadas e já estabelece a 'UF' como índice\n",
        "pop_projetada=pop_projetada[['População','UF']].set_index('UF')"
      ],
      "execution_count": 16,
      "outputs": []
    },
    {
      "cell_type": "code",
      "metadata": {
        "colab": {
          "base_uri": "https://localhost:8080/",
          "height": 0
        },
        "id": "rW13oJgIqB0Q",
        "outputId": "4756545b-d559-4b06-ce72-49c84e11477e"
      },
      "source": [
        "display(pop_projetada.head())\n",
        "print('\\n')\n",
        "display(pop_projetada.info())"
      ],
      "execution_count": 17,
      "outputs": [
        {
          "output_type": "display_data",
          "data": {
            "text/html": [
              "<div>\n",
              "<style scoped>\n",
              "    .dataframe tbody tr th:only-of-type {\n",
              "        vertical-align: middle;\n",
              "    }\n",
              "\n",
              "    .dataframe tbody tr th {\n",
              "        vertical-align: top;\n",
              "    }\n",
              "\n",
              "    .dataframe thead th {\n",
              "        text-align: right;\n",
              "    }\n",
              "</style>\n",
              "<table border=\"1\" class=\"dataframe\">\n",
              "  <thead>\n",
              "    <tr style=\"text-align: right;\">\n",
              "      <th></th>\n",
              "      <th>População</th>\n",
              "    </tr>\n",
              "    <tr>\n",
              "      <th>UF</th>\n",
              "      <th></th>\n",
              "    </tr>\n",
              "  </thead>\n",
              "  <tbody>\n",
              "    <tr>\n",
              "      <th>São Paulo</th>\n",
              "      <td>46289333</td>\n",
              "    </tr>\n",
              "    <tr>\n",
              "      <th>Minas Gerais</th>\n",
              "      <td>21292666</td>\n",
              "    </tr>\n",
              "    <tr>\n",
              "      <th>Rio de Janeiro</th>\n",
              "      <td>17366189</td>\n",
              "    </tr>\n",
              "    <tr>\n",
              "      <th>Bahia Bahia</th>\n",
              "      <td>14930634</td>\n",
              "    </tr>\n",
              "    <tr>\n",
              "      <th>Paraná</th>\n",
              "      <td>11516840</td>\n",
              "    </tr>\n",
              "  </tbody>\n",
              "</table>\n",
              "</div>"
            ],
            "text/plain": [
              "                 População\n",
              "UF                        \n",
              " São Paulo        46289333\n",
              " Minas Gerais     21292666\n",
              " Rio de Janeiro   17366189\n",
              "Bahia Bahia       14930634\n",
              " Paraná           11516840"
            ]
          },
          "metadata": {
            "tags": []
          }
        },
        {
          "output_type": "stream",
          "text": [
            "\n",
            "\n",
            "<class 'pandas.core.frame.DataFrame'>\n",
            "Index: 27 entries,  São Paulo to  Roraima\n",
            "Data columns (total 1 columns):\n",
            " #   Column     Non-Null Count  Dtype\n",
            "---  ------     --------------  -----\n",
            " 0   População  27 non-null     int64\n",
            "dtypes: int64(1)\n",
            "memory usage: 432.0+ bytes\n"
          ],
          "name": "stdout"
        },
        {
          "output_type": "display_data",
          "data": {
            "text/plain": [
              "None"
            ]
          },
          "metadata": {
            "tags": []
          }
        }
      ]
    },
    {
      "cell_type": "markdown",
      "metadata": {
        "id": "NM0MbuNcxd7E"
      },
      "source": [
        "Agora vamos tentar combinar as tabelas de população projetada e os gastos do mês mais recente em um único *DataFrame*."
      ]
    },
    {
      "cell_type": "code",
      "metadata": {
        "colab": {
          "base_uri": "https://localhost:8080/",
          "height": 0
        },
        "id": "T2RPtGpLqDyw",
        "outputId": "827435ae-7bd1-497e-e31c-aead5bd82ca6"
      },
      "source": [
        "display(pop_projetada.join(atends_mes_recente))\n",
        "print('\\n')\n",
        "print(color.BOLD+color.DARKCYAN+'Índices da Tabela '+color.UNDERLINE+'pop_projetada')\n",
        "display(pop_projetada.index)"
      ],
      "execution_count": 18,
      "outputs": [
        {
          "output_type": "display_data",
          "data": {
            "text/html": [
              "<div>\n",
              "<style scoped>\n",
              "    .dataframe tbody tr th:only-of-type {\n",
              "        vertical-align: middle;\n",
              "    }\n",
              "\n",
              "    .dataframe tbody tr th {\n",
              "        vertical-align: top;\n",
              "    }\n",
              "\n",
              "    .dataframe thead th {\n",
              "        text-align: right;\n",
              "    }\n",
              "</style>\n",
              "<table border=\"1\" class=\"dataframe\">\n",
              "  <thead>\n",
              "    <tr style=\"text-align: right;\">\n",
              "      <th></th>\n",
              "      <th>População</th>\n",
              "      <th>2020/Jul</th>\n",
              "    </tr>\n",
              "    <tr>\n",
              "      <th>UF</th>\n",
              "      <th></th>\n",
              "      <th></th>\n",
              "    </tr>\n",
              "  </thead>\n",
              "  <tbody>\n",
              "    <tr>\n",
              "      <th>São Paulo</th>\n",
              "      <td>46289333</td>\n",
              "      <td>nan</td>\n",
              "    </tr>\n",
              "    <tr>\n",
              "      <th>Minas Gerais</th>\n",
              "      <td>21292666</td>\n",
              "      <td>nan</td>\n",
              "    </tr>\n",
              "    <tr>\n",
              "      <th>Rio de Janeiro</th>\n",
              "      <td>17366189</td>\n",
              "      <td>nan</td>\n",
              "    </tr>\n",
              "    <tr>\n",
              "      <th>Bahia Bahia</th>\n",
              "      <td>14930634</td>\n",
              "      <td>nan</td>\n",
              "    </tr>\n",
              "    <tr>\n",
              "      <th>Paraná</th>\n",
              "      <td>11516840</td>\n",
              "      <td>nan</td>\n",
              "    </tr>\n",
              "    <tr>\n",
              "      <th>Rio Grande do Sul</th>\n",
              "      <td>11422973</td>\n",
              "      <td>nan</td>\n",
              "    </tr>\n",
              "    <tr>\n",
              "      <th>Pernambuco</th>\n",
              "      <td>9616621</td>\n",
              "      <td>nan</td>\n",
              "    </tr>\n",
              "    <tr>\n",
              "      <th>Ceará</th>\n",
              "      <td>9187103</td>\n",
              "      <td>nan</td>\n",
              "    </tr>\n",
              "    <tr>\n",
              "      <th>Pará Pará</th>\n",
              "      <td>8690745</td>\n",
              "      <td>nan</td>\n",
              "    </tr>\n",
              "    <tr>\n",
              "      <th>Santa Catarina</th>\n",
              "      <td>7252502</td>\n",
              "      <td>nan</td>\n",
              "    </tr>\n",
              "    <tr>\n",
              "      <th>Maranhão</th>\n",
              "      <td>7114598</td>\n",
              "      <td>nan</td>\n",
              "    </tr>\n",
              "    <tr>\n",
              "      <th>Goiás</th>\n",
              "      <td>7113540</td>\n",
              "      <td>nan</td>\n",
              "    </tr>\n",
              "    <tr>\n",
              "      <th>Amazonas</th>\n",
              "      <td>4207714</td>\n",
              "      <td>nan</td>\n",
              "    </tr>\n",
              "    <tr>\n",
              "      <th>Espírito Santo</th>\n",
              "      <td>4064052</td>\n",
              "      <td>nan</td>\n",
              "    </tr>\n",
              "    <tr>\n",
              "      <th>Paraíba</th>\n",
              "      <td>4039277</td>\n",
              "      <td>nan</td>\n",
              "    </tr>\n",
              "    <tr>\n",
              "      <th>Rio Grande do Norte</th>\n",
              "      <td>3534165</td>\n",
              "      <td>nan</td>\n",
              "    </tr>\n",
              "    <tr>\n",
              "      <th>Mato Grosso</th>\n",
              "      <td>3526220</td>\n",
              "      <td>nan</td>\n",
              "    </tr>\n",
              "    <tr>\n",
              "      <th>Alagoas</th>\n",
              "      <td>3351543</td>\n",
              "      <td>nan</td>\n",
              "    </tr>\n",
              "    <tr>\n",
              "      <th>Piauí</th>\n",
              "      <td>3281480</td>\n",
              "      <td>nan</td>\n",
              "    </tr>\n",
              "    <tr>\n",
              "      <th>Distrito Federal</th>\n",
              "      <td>3055149</td>\n",
              "      <td>nan</td>\n",
              "    </tr>\n",
              "    <tr>\n",
              "      <th>Mato Grosso do Sul</th>\n",
              "      <td>2809394</td>\n",
              "      <td>nan</td>\n",
              "    </tr>\n",
              "    <tr>\n",
              "      <th>Sergipe</th>\n",
              "      <td>2318822</td>\n",
              "      <td>nan</td>\n",
              "    </tr>\n",
              "    <tr>\n",
              "      <th>Rondônia</th>\n",
              "      <td>1796460</td>\n",
              "      <td>nan</td>\n",
              "    </tr>\n",
              "    <tr>\n",
              "      <th>Tocantins</th>\n",
              "      <td>1590248</td>\n",
              "      <td>nan</td>\n",
              "    </tr>\n",
              "    <tr>\n",
              "      <th>Acre</th>\n",
              "      <td>894470</td>\n",
              "      <td>nan</td>\n",
              "    </tr>\n",
              "    <tr>\n",
              "      <th>Amapá</th>\n",
              "      <td>861773</td>\n",
              "      <td>nan</td>\n",
              "    </tr>\n",
              "    <tr>\n",
              "      <th>Roraima</th>\n",
              "      <td>631181</td>\n",
              "      <td>nan</td>\n",
              "    </tr>\n",
              "  </tbody>\n",
              "</table>\n",
              "</div>"
            ],
            "text/plain": [
              "                      População  2020/Jul\n",
              "UF                                       \n",
              " São Paulo             46289333       nan\n",
              " Minas Gerais          21292666       nan\n",
              " Rio de Janeiro        17366189       nan\n",
              "Bahia Bahia            14930634       nan\n",
              " Paraná                11516840       nan\n",
              " Rio Grande do Sul     11422973       nan\n",
              " Pernambuco             9616621       nan\n",
              " Ceará                  9187103       nan\n",
              "Pará Pará               8690745       nan\n",
              " Santa Catarina         7252502       nan\n",
              " Maranhão               7114598       nan\n",
              " Goiás                  7113540       nan\n",
              " Amazonas               4207714       nan\n",
              " Espírito Santo         4064052       nan\n",
              " Paraíba                4039277       nan\n",
              " Rio Grande do Norte    3534165       nan\n",
              " Mato Grosso            3526220       nan\n",
              " Alagoas                3351543       nan\n",
              " Piauí                  3281480       nan\n",
              " Distrito Federal       3055149       nan\n",
              " Mato Grosso do Sul     2809394       nan\n",
              " Sergipe                2318822       nan\n",
              " Rondônia               1796460       nan\n",
              " Tocantins              1590248       nan\n",
              " Acre                    894470       nan\n",
              " Amapá                   861773       nan\n",
              " Roraima                 631181       nan"
            ]
          },
          "metadata": {
            "tags": []
          }
        },
        {
          "output_type": "stream",
          "text": [
            "\n",
            "\n",
            "\u001b[1m\u001b[36mÍndices da Tabela \u001b[4mpop_projetada\n"
          ],
          "name": "stdout"
        },
        {
          "output_type": "display_data",
          "data": {
            "text/plain": [
              "Index([' São Paulo', ' Minas Gerais', ' Rio de Janeiro', 'Bahia Bahia',\n",
              "       ' Paraná', ' Rio Grande do Sul', ' Pernambuco', ' Ceará', 'Pará Pará',\n",
              "       ' Santa Catarina', ' Maranhão', ' Goiás', ' Amazonas',\n",
              "       ' Espírito Santo', ' Paraíba', ' Rio Grande do Norte', ' Mato Grosso',\n",
              "       ' Alagoas', ' Piauí', ' Distrito Federal', ' Mato Grosso do Sul',\n",
              "       ' Sergipe', ' Rondônia', ' Tocantins', ' Acre', ' Amapá', ' Roraima'],\n",
              "      dtype='object', name='UF')"
            ]
          },
          "metadata": {
            "tags": []
          }
        }
      ]
    },
    {
      "cell_type": "markdown",
      "metadata": {
        "id": "2_B1-iblxsXQ"
      },
      "source": [
        "Podemos ver que o **```join```** não funcionou, pois não trouxe nenhum dado da tabela de gastos (a coluna foi preenchida com '***nan***', ou seja, *Not A Number*. Isso ocorreu por termos índices com valores distintos nas duas tabelas.\n",
        "\n",
        "No vídeo não funcionou por dois motivos:\n",
        "* os dados de gastos ainda estavam com o código da UF antes do nome (mas isso eu já havia resolvido na importação inicial)\n",
        "* os dados de população obtidos da *Wikipedia* estão com espaços antes dos nomes das UFs, o que ainda precisa ser solucionado\n",
        "\n",
        "Aqui só precisaremos limpar os espaços que temos no início e no fim de cada valor do índice e rodar o **```join```** novamente.\n"
      ]
    },
    {
      "cell_type": "code",
      "metadata": {
        "colab": {
          "base_uri": "https://localhost:8080/",
          "height": 0
        },
        "id": "hohKC8dQvxzZ",
        "outputId": "f8576f8c-8ca3-4bac-de17-0c06f021e668"
      },
      "source": [
        "pop_projetada.index=pop_projetada.index.str.strip()\n",
        "\n",
        "display(pop_projetada.join(atends_mes_recente))"
      ],
      "execution_count": 19,
      "outputs": [
        {
          "output_type": "display_data",
          "data": {
            "text/html": [
              "<div>\n",
              "<style scoped>\n",
              "    .dataframe tbody tr th:only-of-type {\n",
              "        vertical-align: middle;\n",
              "    }\n",
              "\n",
              "    .dataframe tbody tr th {\n",
              "        vertical-align: top;\n",
              "    }\n",
              "\n",
              "    .dataframe thead th {\n",
              "        text-align: right;\n",
              "    }\n",
              "</style>\n",
              "<table border=\"1\" class=\"dataframe\">\n",
              "  <thead>\n",
              "    <tr style=\"text-align: right;\">\n",
              "      <th></th>\n",
              "      <th>População</th>\n",
              "      <th>2020/Jul</th>\n",
              "    </tr>\n",
              "    <tr>\n",
              "      <th>UF</th>\n",
              "      <th></th>\n",
              "      <th></th>\n",
              "    </tr>\n",
              "  </thead>\n",
              "  <tbody>\n",
              "    <tr>\n",
              "      <th>São Paulo</th>\n",
              "      <td>46289333</td>\n",
              "      <td>361,986,896.25</td>\n",
              "    </tr>\n",
              "    <tr>\n",
              "      <th>Minas Gerais</th>\n",
              "      <td>21292666</td>\n",
              "      <td>177,466,638.10</td>\n",
              "    </tr>\n",
              "    <tr>\n",
              "      <th>Rio de Janeiro</th>\n",
              "      <td>17366189</td>\n",
              "      <td>95,941,141.03</td>\n",
              "    </tr>\n",
              "    <tr>\n",
              "      <th>Bahia Bahia</th>\n",
              "      <td>14930634</td>\n",
              "      <td>nan</td>\n",
              "    </tr>\n",
              "    <tr>\n",
              "      <th>Paraná</th>\n",
              "      <td>11516840</td>\n",
              "      <td>123,856,640.55</td>\n",
              "    </tr>\n",
              "    <tr>\n",
              "      <th>Rio Grande do Sul</th>\n",
              "      <td>11422973</td>\n",
              "      <td>108,536,525.93</td>\n",
              "    </tr>\n",
              "    <tr>\n",
              "      <th>Pernambuco</th>\n",
              "      <td>9616621</td>\n",
              "      <td>73,730,927.63</td>\n",
              "    </tr>\n",
              "    <tr>\n",
              "      <th>Ceará</th>\n",
              "      <td>9187103</td>\n",
              "      <td>58,448,488.85</td>\n",
              "    </tr>\n",
              "    <tr>\n",
              "      <th>Pará Pará</th>\n",
              "      <td>8690745</td>\n",
              "      <td>nan</td>\n",
              "    </tr>\n",
              "    <tr>\n",
              "      <th>Santa Catarina</th>\n",
              "      <td>7252502</td>\n",
              "      <td>79,459,229.80</td>\n",
              "    </tr>\n",
              "    <tr>\n",
              "      <th>Maranhão</th>\n",
              "      <td>7114598</td>\n",
              "      <td>33,991,348.70</td>\n",
              "    </tr>\n",
              "    <tr>\n",
              "      <th>Goiás</th>\n",
              "      <td>7113540</td>\n",
              "      <td>45,871,329.20</td>\n",
              "    </tr>\n",
              "    <tr>\n",
              "      <th>Amazonas</th>\n",
              "      <td>4207714</td>\n",
              "      <td>19,303,743.16</td>\n",
              "    </tr>\n",
              "    <tr>\n",
              "      <th>Espírito Santo</th>\n",
              "      <td>4064052</td>\n",
              "      <td>41,931,102.65</td>\n",
              "    </tr>\n",
              "    <tr>\n",
              "      <th>Paraíba</th>\n",
              "      <td>4039277</td>\n",
              "      <td>22,092,553.67</td>\n",
              "    </tr>\n",
              "    <tr>\n",
              "      <th>Rio Grande do Norte</th>\n",
              "      <td>3534165</td>\n",
              "      <td>28,608,103.39</td>\n",
              "    </tr>\n",
              "    <tr>\n",
              "      <th>Mato Grosso</th>\n",
              "      <td>3526220</td>\n",
              "      <td>20,681,571.71</td>\n",
              "    </tr>\n",
              "    <tr>\n",
              "      <th>Alagoas</th>\n",
              "      <td>3351543</td>\n",
              "      <td>18,519,350.73</td>\n",
              "    </tr>\n",
              "    <tr>\n",
              "      <th>Piauí</th>\n",
              "      <td>3281480</td>\n",
              "      <td>25,817,440.95</td>\n",
              "    </tr>\n",
              "    <tr>\n",
              "      <th>Distrito Federal</th>\n",
              "      <td>3055149</td>\n",
              "      <td>26,428,483.82</td>\n",
              "    </tr>\n",
              "    <tr>\n",
              "      <th>Mato Grosso do Sul</th>\n",
              "      <td>2809394</td>\n",
              "      <td>23,639,938.85</td>\n",
              "    </tr>\n",
              "    <tr>\n",
              "      <th>Sergipe</th>\n",
              "      <td>2318822</td>\n",
              "      <td>11,700,344.16</td>\n",
              "    </tr>\n",
              "    <tr>\n",
              "      <th>Rondônia</th>\n",
              "      <td>1796460</td>\n",
              "      <td>10,479,989.36</td>\n",
              "    </tr>\n",
              "    <tr>\n",
              "      <th>Tocantins</th>\n",
              "      <td>1590248</td>\n",
              "      <td>7,934,629.02</td>\n",
              "    </tr>\n",
              "    <tr>\n",
              "      <th>Acre</th>\n",
              "      <td>894470</td>\n",
              "      <td>4,053,085.41</td>\n",
              "    </tr>\n",
              "    <tr>\n",
              "      <th>Amapá</th>\n",
              "      <td>861773</td>\n",
              "      <td>2,536,642.73</td>\n",
              "    </tr>\n",
              "    <tr>\n",
              "      <th>Roraima</th>\n",
              "      <td>631181</td>\n",
              "      <td>3,192,075.41</td>\n",
              "    </tr>\n",
              "  </tbody>\n",
              "</table>\n",
              "</div>"
            ],
            "text/plain": [
              "                     População       2020/Jul\n",
              "UF                                           \n",
              "São Paulo             46289333 361,986,896.25\n",
              "Minas Gerais          21292666 177,466,638.10\n",
              "Rio de Janeiro        17366189  95,941,141.03\n",
              "Bahia Bahia           14930634            nan\n",
              "Paraná                11516840 123,856,640.55\n",
              "Rio Grande do Sul     11422973 108,536,525.93\n",
              "Pernambuco             9616621  73,730,927.63\n",
              "Ceará                  9187103  58,448,488.85\n",
              "Pará Pará              8690745            nan\n",
              "Santa Catarina         7252502  79,459,229.80\n",
              "Maranhão               7114598  33,991,348.70\n",
              "Goiás                  7113540  45,871,329.20\n",
              "Amazonas               4207714  19,303,743.16\n",
              "Espírito Santo         4064052  41,931,102.65\n",
              "Paraíba                4039277  22,092,553.67\n",
              "Rio Grande do Norte    3534165  28,608,103.39\n",
              "Mato Grosso            3526220  20,681,571.71\n",
              "Alagoas                3351543  18,519,350.73\n",
              "Piauí                  3281480  25,817,440.95\n",
              "Distrito Federal       3055149  26,428,483.82\n",
              "Mato Grosso do Sul     2809394  23,639,938.85\n",
              "Sergipe                2318822  11,700,344.16\n",
              "Rondônia               1796460  10,479,989.36\n",
              "Tocantins              1590248   7,934,629.02\n",
              "Acre                    894470   4,053,085.41\n",
              "Amapá                   861773   2,536,642.73\n",
              "Roraima                 631181   3,192,075.41"
            ]
          },
          "metadata": {
            "tags": []
          }
        }
      ]
    },
    {
      "cell_type": "markdown",
      "metadata": {
        "id": "bEMDP4wA1HzL"
      },
      "source": [
        "A junção das tabelas quase funcionou, tivemos erros apenas na Bahia e no Pará. Podemos ver que os nomes dessas UFs aparece repetido, provavelmente por estar no *HTML*, como texto alternativo para a imagem da bandeira.\n",
        "\n",
        "A maneira utilizada para fazer essa correção foi a realização de um *loop* substituindo todos os nomes duplicados por sua versão simples, com o código abaixo."
      ]
    },
    {
      "cell_type": "code",
      "metadata": {
        "colab": {
          "base_uri": "https://localhost:8080/",
          "height": 0
        },
        "id": "bQ9X_Hxlz9nn",
        "outputId": "5200d103-54e6-41c3-f8dc-01fe1049e551"
      },
      "source": [
        "for estado in atends_mes_recente.index:\n",
        "    #print(f'{estado} {estado}',' ==> ',estado) ## Essa linha foi para ver se o for estava fazendo a instrução correta\n",
        "    pop_projetada.index = pop_projetada.index.str.replace(f'{estado} {estado}',estado)\n",
        "\n",
        "gastos_pop_recente = pop_projetada.join(atends_mes_recente)\n",
        "display(gastos_pop_recente)"
      ],
      "execution_count": 20,
      "outputs": [
        {
          "output_type": "display_data",
          "data": {
            "text/html": [
              "<div>\n",
              "<style scoped>\n",
              "    .dataframe tbody tr th:only-of-type {\n",
              "        vertical-align: middle;\n",
              "    }\n",
              "\n",
              "    .dataframe tbody tr th {\n",
              "        vertical-align: top;\n",
              "    }\n",
              "\n",
              "    .dataframe thead th {\n",
              "        text-align: right;\n",
              "    }\n",
              "</style>\n",
              "<table border=\"1\" class=\"dataframe\">\n",
              "  <thead>\n",
              "    <tr style=\"text-align: right;\">\n",
              "      <th></th>\n",
              "      <th>População</th>\n",
              "      <th>2020/Jul</th>\n",
              "    </tr>\n",
              "    <tr>\n",
              "      <th>UF</th>\n",
              "      <th></th>\n",
              "      <th></th>\n",
              "    </tr>\n",
              "  </thead>\n",
              "  <tbody>\n",
              "    <tr>\n",
              "      <th>São Paulo</th>\n",
              "      <td>46289333</td>\n",
              "      <td>361,986,896.25</td>\n",
              "    </tr>\n",
              "    <tr>\n",
              "      <th>Minas Gerais</th>\n",
              "      <td>21292666</td>\n",
              "      <td>177,466,638.10</td>\n",
              "    </tr>\n",
              "    <tr>\n",
              "      <th>Rio de Janeiro</th>\n",
              "      <td>17366189</td>\n",
              "      <td>95,941,141.03</td>\n",
              "    </tr>\n",
              "    <tr>\n",
              "      <th>Bahia</th>\n",
              "      <td>14930634</td>\n",
              "      <td>91,011,171.04</td>\n",
              "    </tr>\n",
              "    <tr>\n",
              "      <th>Paraná</th>\n",
              "      <td>11516840</td>\n",
              "      <td>123,856,640.55</td>\n",
              "    </tr>\n",
              "    <tr>\n",
              "      <th>Rio Grande do Sul</th>\n",
              "      <td>11422973</td>\n",
              "      <td>108,536,525.93</td>\n",
              "    </tr>\n",
              "    <tr>\n",
              "      <th>Pernambuco</th>\n",
              "      <td>9616621</td>\n",
              "      <td>73,730,927.63</td>\n",
              "    </tr>\n",
              "    <tr>\n",
              "      <th>Ceará</th>\n",
              "      <td>9187103</td>\n",
              "      <td>58,448,488.85</td>\n",
              "    </tr>\n",
              "    <tr>\n",
              "      <th>Pará</th>\n",
              "      <td>8690745</td>\n",
              "      <td>40,496,349.97</td>\n",
              "    </tr>\n",
              "    <tr>\n",
              "      <th>Santa Catarina</th>\n",
              "      <td>7252502</td>\n",
              "      <td>79,459,229.80</td>\n",
              "    </tr>\n",
              "    <tr>\n",
              "      <th>Maranhão</th>\n",
              "      <td>7114598</td>\n",
              "      <td>33,991,348.70</td>\n",
              "    </tr>\n",
              "    <tr>\n",
              "      <th>Goiás</th>\n",
              "      <td>7113540</td>\n",
              "      <td>45,871,329.20</td>\n",
              "    </tr>\n",
              "    <tr>\n",
              "      <th>Amazonas</th>\n",
              "      <td>4207714</td>\n",
              "      <td>19,303,743.16</td>\n",
              "    </tr>\n",
              "    <tr>\n",
              "      <th>Espírito Santo</th>\n",
              "      <td>4064052</td>\n",
              "      <td>41,931,102.65</td>\n",
              "    </tr>\n",
              "    <tr>\n",
              "      <th>Paraíba</th>\n",
              "      <td>4039277</td>\n",
              "      <td>22,092,553.67</td>\n",
              "    </tr>\n",
              "    <tr>\n",
              "      <th>Rio Grande do Norte</th>\n",
              "      <td>3534165</td>\n",
              "      <td>28,608,103.39</td>\n",
              "    </tr>\n",
              "    <tr>\n",
              "      <th>Mato Grosso</th>\n",
              "      <td>3526220</td>\n",
              "      <td>20,681,571.71</td>\n",
              "    </tr>\n",
              "    <tr>\n",
              "      <th>Alagoas</th>\n",
              "      <td>3351543</td>\n",
              "      <td>18,519,350.73</td>\n",
              "    </tr>\n",
              "    <tr>\n",
              "      <th>Piauí</th>\n",
              "      <td>3281480</td>\n",
              "      <td>25,817,440.95</td>\n",
              "    </tr>\n",
              "    <tr>\n",
              "      <th>Distrito Federal</th>\n",
              "      <td>3055149</td>\n",
              "      <td>26,428,483.82</td>\n",
              "    </tr>\n",
              "    <tr>\n",
              "      <th>Mato Grosso do Sul</th>\n",
              "      <td>2809394</td>\n",
              "      <td>23,639,938.85</td>\n",
              "    </tr>\n",
              "    <tr>\n",
              "      <th>Sergipe</th>\n",
              "      <td>2318822</td>\n",
              "      <td>11,700,344.16</td>\n",
              "    </tr>\n",
              "    <tr>\n",
              "      <th>Rondônia</th>\n",
              "      <td>1796460</td>\n",
              "      <td>10,479,989.36</td>\n",
              "    </tr>\n",
              "    <tr>\n",
              "      <th>Tocantins</th>\n",
              "      <td>1590248</td>\n",
              "      <td>7,934,629.02</td>\n",
              "    </tr>\n",
              "    <tr>\n",
              "      <th>Acre</th>\n",
              "      <td>894470</td>\n",
              "      <td>4,053,085.41</td>\n",
              "    </tr>\n",
              "    <tr>\n",
              "      <th>Amapá</th>\n",
              "      <td>861773</td>\n",
              "      <td>2,536,642.73</td>\n",
              "    </tr>\n",
              "    <tr>\n",
              "      <th>Roraima</th>\n",
              "      <td>631181</td>\n",
              "      <td>3,192,075.41</td>\n",
              "    </tr>\n",
              "  </tbody>\n",
              "</table>\n",
              "</div>"
            ],
            "text/plain": [
              "                     População       2020/Jul\n",
              "UF                                           \n",
              "São Paulo             46289333 361,986,896.25\n",
              "Minas Gerais          21292666 177,466,638.10\n",
              "Rio de Janeiro        17366189  95,941,141.03\n",
              "Bahia                 14930634  91,011,171.04\n",
              "Paraná                11516840 123,856,640.55\n",
              "Rio Grande do Sul     11422973 108,536,525.93\n",
              "Pernambuco             9616621  73,730,927.63\n",
              "Ceará                  9187103  58,448,488.85\n",
              "Pará                   8690745  40,496,349.97\n",
              "Santa Catarina         7252502  79,459,229.80\n",
              "Maranhão               7114598  33,991,348.70\n",
              "Goiás                  7113540  45,871,329.20\n",
              "Amazonas               4207714  19,303,743.16\n",
              "Espírito Santo         4064052  41,931,102.65\n",
              "Paraíba                4039277  22,092,553.67\n",
              "Rio Grande do Norte    3534165  28,608,103.39\n",
              "Mato Grosso            3526220  20,681,571.71\n",
              "Alagoas                3351543  18,519,350.73\n",
              "Piauí                  3281480  25,817,440.95\n",
              "Distrito Federal       3055149  26,428,483.82\n",
              "Mato Grosso do Sul     2809394  23,639,938.85\n",
              "Sergipe                2318822  11,700,344.16\n",
              "Rondônia               1796460  10,479,989.36\n",
              "Tocantins              1590248   7,934,629.02\n",
              "Acre                    894470   4,053,085.41\n",
              "Amapá                   861773   2,536,642.73\n",
              "Roraima                 631181   3,192,075.41"
            ]
          },
          "metadata": {
            "tags": []
          }
        }
      ]
    },
    {
      "cell_type": "markdown",
      "metadata": {
        "id": "l5NqQVSK0UDw"
      },
      "source": [
        "#### **Desafio - Estudar a Documentação a Respeito de Manipulação de** ***Strings***\n",
        "---\n"
      ]
    },
    {
      "cell_type": "markdown",
      "metadata": {
        "id": "SmRogKVP4uqR"
      },
      "source": [
        "Como sabemos, o ***Python*** considera um *string* como sendo uma *Series*, permitindo a manipulação de maneira bem interessante.\n",
        "\n",
        "Além disso, temos várias operações e métodos que podem ser utilizados para alterar e formatar *strings*.\n",
        "\n",
        "Procurando documentação a esse respeito, encontrei informações interessantes nos links:\n",
        "* [Operações Comuns com *Strings*](https://docs.python.org/3/library/string.html)\n",
        "* [Trabalhando com Dados Tipo Texto](https://pandas.pydata.org/docs/user_guide/text.html)\n",
        "* [Métodos *String* em ***Python***](https://www.w3schools.com/python/python_ref_string.asp)"
      ]
    },
    {
      "cell_type": "markdown",
      "metadata": {
        "id": "A7uA18B54uIm"
      },
      "source": [
        "#### **Desafio - Estruturar uma Função para Limpeza da Tabela Importada**\n",
        "---\n",
        "\n",
        "Desenvolver uma função para a limpeza e tratamento dos dados, retornando duas tabelas 'população' e 'unida'.\n",
        "\n",
        "---\n",
        "\n",
        "Para a resolução desse desafio, considerei que tinha apenas a *URL* da página de onde seriam retiradas as informações e o *DataFrame* com os dados de gastos do mês mais recente.\n",
        "\n",
        "Optei por trabalhar com funções aninhadas, em vez de trabalhar com uma única função, principalmente para facilitar o entendimento e praticar a chamada de funções."
      ]
    },
    {
      "cell_type": "code",
      "metadata": {
        "id": "9_j6iLIy0x2h",
        "colab": {
          "base_uri": "https://localhost:8080/",
          "height": 0
        },
        "outputId": "75013a11-d627-41ff-fcb5-494ccdced083"
      },
      "source": [
        "display(atends_mes_recente)\n",
        "display(url_wiki)"
      ],
      "execution_count": 21,
      "outputs": [
        {
          "output_type": "display_data",
          "data": {
            "text/plain": [
              "UF\n",
              "São Paulo             361,986,896.25\n",
              "Minas Gerais          177,466,638.10\n",
              "Paraná                123,856,640.55\n",
              "Rio Grande do Sul     108,536,525.93\n",
              "Rio de Janeiro         95,941,141.03\n",
              "Bahia                  91,011,171.04\n",
              "Santa Catarina         79,459,229.80\n",
              "Pernambuco             73,730,927.63\n",
              "Ceará                  58,448,488.85\n",
              "Goiás                  45,871,329.20\n",
              "Espírito Santo         41,931,102.65\n",
              "Pará                   40,496,349.97\n",
              "Maranhão               33,991,348.70\n",
              "Rio Grande do Norte    28,608,103.39\n",
              "Distrito Federal       26,428,483.82\n",
              "Piauí                  25,817,440.95\n",
              "Mato Grosso do Sul     23,639,938.85\n",
              "Paraíba                22,092,553.67\n",
              "Mato Grosso            20,681,571.71\n",
              "Amazonas               19,303,743.16\n",
              "Alagoas                18,519,350.73\n",
              "Sergipe                11,700,344.16\n",
              "Rondônia               10,479,989.36\n",
              "Tocantins               7,934,629.02\n",
              "Acre                    4,053,085.41\n",
              "Roraima                 3,192,075.41\n",
              "Amapá                   2,536,642.73\n",
              "Name: 2020/Jul, dtype: float64"
            ]
          },
          "metadata": {
            "tags": []
          }
        },
        {
          "output_type": "display_data",
          "data": {
            "application/vnd.google.colaboratory.intrinsic+json": {
              "type": "string"
            },
            "text/plain": [
              "'https://pt.wikipedia.org/wiki/Lista_de_unidades_federativas_do_Brasil_por_popula%C3%A7%C3%A3o'"
            ]
          },
          "metadata": {
            "tags": []
          }
        }
      ]
    },
    {
      "cell_type": "code",
      "metadata": {
        "id": "oMYONRMF0yYv"
      },
      "source": [
        "def importa_wiki(url):\n",
        "    response=r.get(url)\n",
        "\n",
        "    soup=BeautifulSoup(response.text, 'html.parser')\n",
        "    tabela_pop=soup.find('table',{'class':\"wikitable\"})\n",
        "\n",
        "    df_populacao=pd.DataFrame(pd.read_html(str(tabela_pop))[0])\n",
        "\n",
        "    return df_populacao\n",
        "\n",
        "def limpa_pop(suja):\n",
        "    suja = suja.rename(columns={'Unidade federativa':'UF'})\n",
        "    suja = suja.dropna()\n",
        "    #suja['UF'] = suja['Unidade federativa']\n",
        "    suja['População'] = suja['População'].str.replace(' ','').astype(int)\n",
        "    suja['UF'] = suja['UF'].str.strip()\n",
        "\n",
        "    limpa = suja[['UF','População']].set_index('UF')\n",
        "    #limpa.index=limpa.index.str.strip()\n",
        "\n",
        "    return limpa\n",
        "\n",
        "def faz_tudo(url_w, tab_gastos):\n",
        "    pop_suja = importa_wiki(url_w)\n",
        "    pop_limpa = limpa_pop(pop_suja)\n",
        "    result = pop_limpa.join(tab_gastos)\n",
        "\n",
        "    return pop_limpa,result"
      ],
      "execution_count": 22,
      "outputs": []
    },
    {
      "cell_type": "code",
      "metadata": {
        "id": "AJG8OF3h0yeq",
        "colab": {
          "base_uri": "https://localhost:8080/",
          "height": 0
        },
        "outputId": "f5c46aa9-b7b9-4d97-e5fe-fbbce7809eb7"
      },
      "source": [
        "populacao, unida = faz_tudo(url_wiki,atends_mes_recente)\n",
        "display(populacao)\n",
        "display(unida)"
      ],
      "execution_count": 23,
      "outputs": [
        {
          "output_type": "display_data",
          "data": {
            "text/html": [
              "<div>\n",
              "<style scoped>\n",
              "    .dataframe tbody tr th:only-of-type {\n",
              "        vertical-align: middle;\n",
              "    }\n",
              "\n",
              "    .dataframe tbody tr th {\n",
              "        vertical-align: top;\n",
              "    }\n",
              "\n",
              "    .dataframe thead th {\n",
              "        text-align: right;\n",
              "    }\n",
              "</style>\n",
              "<table border=\"1\" class=\"dataframe\">\n",
              "  <thead>\n",
              "    <tr style=\"text-align: right;\">\n",
              "      <th></th>\n",
              "      <th>População</th>\n",
              "    </tr>\n",
              "    <tr>\n",
              "      <th>UF</th>\n",
              "      <th></th>\n",
              "    </tr>\n",
              "  </thead>\n",
              "  <tbody>\n",
              "    <tr>\n",
              "      <th>São Paulo</th>\n",
              "      <td>46289333</td>\n",
              "    </tr>\n",
              "    <tr>\n",
              "      <th>Minas Gerais</th>\n",
              "      <td>21292666</td>\n",
              "    </tr>\n",
              "    <tr>\n",
              "      <th>Rio de Janeiro</th>\n",
              "      <td>17366189</td>\n",
              "    </tr>\n",
              "    <tr>\n",
              "      <th>Bahia</th>\n",
              "      <td>14930634</td>\n",
              "    </tr>\n",
              "    <tr>\n",
              "      <th>Paraná</th>\n",
              "      <td>11516840</td>\n",
              "    </tr>\n",
              "    <tr>\n",
              "      <th>Rio Grande do Sul</th>\n",
              "      <td>11422973</td>\n",
              "    </tr>\n",
              "    <tr>\n",
              "      <th>Pernambuco</th>\n",
              "      <td>9616621</td>\n",
              "    </tr>\n",
              "    <tr>\n",
              "      <th>Ceará</th>\n",
              "      <td>9187103</td>\n",
              "    </tr>\n",
              "    <tr>\n",
              "      <th>Pará</th>\n",
              "      <td>8690745</td>\n",
              "    </tr>\n",
              "    <tr>\n",
              "      <th>Santa Catarina</th>\n",
              "      <td>7252502</td>\n",
              "    </tr>\n",
              "    <tr>\n",
              "      <th>Maranhão</th>\n",
              "      <td>7114598</td>\n",
              "    </tr>\n",
              "    <tr>\n",
              "      <th>Goiás</th>\n",
              "      <td>7113540</td>\n",
              "    </tr>\n",
              "    <tr>\n",
              "      <th>Amazonas</th>\n",
              "      <td>4207714</td>\n",
              "    </tr>\n",
              "    <tr>\n",
              "      <th>Espírito Santo</th>\n",
              "      <td>4064052</td>\n",
              "    </tr>\n",
              "    <tr>\n",
              "      <th>Paraíba</th>\n",
              "      <td>4039277</td>\n",
              "    </tr>\n",
              "    <tr>\n",
              "      <th>Rio Grande do Norte</th>\n",
              "      <td>3534165</td>\n",
              "    </tr>\n",
              "    <tr>\n",
              "      <th>Mato Grosso</th>\n",
              "      <td>3526220</td>\n",
              "    </tr>\n",
              "    <tr>\n",
              "      <th>Alagoas</th>\n",
              "      <td>3351543</td>\n",
              "    </tr>\n",
              "    <tr>\n",
              "      <th>Piauí</th>\n",
              "      <td>3281480</td>\n",
              "    </tr>\n",
              "    <tr>\n",
              "      <th>Distrito Federal</th>\n",
              "      <td>3055149</td>\n",
              "    </tr>\n",
              "    <tr>\n",
              "      <th>Mato Grosso do Sul</th>\n",
              "      <td>2809394</td>\n",
              "    </tr>\n",
              "    <tr>\n",
              "      <th>Sergipe</th>\n",
              "      <td>2318822</td>\n",
              "    </tr>\n",
              "    <tr>\n",
              "      <th>Rondônia</th>\n",
              "      <td>1796460</td>\n",
              "    </tr>\n",
              "    <tr>\n",
              "      <th>Tocantins</th>\n",
              "      <td>1590248</td>\n",
              "    </tr>\n",
              "    <tr>\n",
              "      <th>Acre</th>\n",
              "      <td>894470</td>\n",
              "    </tr>\n",
              "    <tr>\n",
              "      <th>Amapá</th>\n",
              "      <td>861773</td>\n",
              "    </tr>\n",
              "    <tr>\n",
              "      <th>Roraima</th>\n",
              "      <td>631181</td>\n",
              "    </tr>\n",
              "  </tbody>\n",
              "</table>\n",
              "</div>"
            ],
            "text/plain": [
              "                     População\n",
              "UF                            \n",
              "São Paulo             46289333\n",
              "Minas Gerais          21292666\n",
              "Rio de Janeiro        17366189\n",
              "Bahia                 14930634\n",
              "Paraná                11516840\n",
              "Rio Grande do Sul     11422973\n",
              "Pernambuco             9616621\n",
              "Ceará                  9187103\n",
              "Pará                   8690745\n",
              "Santa Catarina         7252502\n",
              "Maranhão               7114598\n",
              "Goiás                  7113540\n",
              "Amazonas               4207714\n",
              "Espírito Santo         4064052\n",
              "Paraíba                4039277\n",
              "Rio Grande do Norte    3534165\n",
              "Mato Grosso            3526220\n",
              "Alagoas                3351543\n",
              "Piauí                  3281480\n",
              "Distrito Federal       3055149\n",
              "Mato Grosso do Sul     2809394\n",
              "Sergipe                2318822\n",
              "Rondônia               1796460\n",
              "Tocantins              1590248\n",
              "Acre                    894470\n",
              "Amapá                   861773\n",
              "Roraima                 631181"
            ]
          },
          "metadata": {
            "tags": []
          }
        },
        {
          "output_type": "display_data",
          "data": {
            "text/html": [
              "<div>\n",
              "<style scoped>\n",
              "    .dataframe tbody tr th:only-of-type {\n",
              "        vertical-align: middle;\n",
              "    }\n",
              "\n",
              "    .dataframe tbody tr th {\n",
              "        vertical-align: top;\n",
              "    }\n",
              "\n",
              "    .dataframe thead th {\n",
              "        text-align: right;\n",
              "    }\n",
              "</style>\n",
              "<table border=\"1\" class=\"dataframe\">\n",
              "  <thead>\n",
              "    <tr style=\"text-align: right;\">\n",
              "      <th></th>\n",
              "      <th>População</th>\n",
              "      <th>2020/Jul</th>\n",
              "    </tr>\n",
              "    <tr>\n",
              "      <th>UF</th>\n",
              "      <th></th>\n",
              "      <th></th>\n",
              "    </tr>\n",
              "  </thead>\n",
              "  <tbody>\n",
              "    <tr>\n",
              "      <th>São Paulo</th>\n",
              "      <td>46289333</td>\n",
              "      <td>361,986,896.25</td>\n",
              "    </tr>\n",
              "    <tr>\n",
              "      <th>Minas Gerais</th>\n",
              "      <td>21292666</td>\n",
              "      <td>177,466,638.10</td>\n",
              "    </tr>\n",
              "    <tr>\n",
              "      <th>Rio de Janeiro</th>\n",
              "      <td>17366189</td>\n",
              "      <td>95,941,141.03</td>\n",
              "    </tr>\n",
              "    <tr>\n",
              "      <th>Bahia</th>\n",
              "      <td>14930634</td>\n",
              "      <td>91,011,171.04</td>\n",
              "    </tr>\n",
              "    <tr>\n",
              "      <th>Paraná</th>\n",
              "      <td>11516840</td>\n",
              "      <td>123,856,640.55</td>\n",
              "    </tr>\n",
              "    <tr>\n",
              "      <th>Rio Grande do Sul</th>\n",
              "      <td>11422973</td>\n",
              "      <td>108,536,525.93</td>\n",
              "    </tr>\n",
              "    <tr>\n",
              "      <th>Pernambuco</th>\n",
              "      <td>9616621</td>\n",
              "      <td>73,730,927.63</td>\n",
              "    </tr>\n",
              "    <tr>\n",
              "      <th>Ceará</th>\n",
              "      <td>9187103</td>\n",
              "      <td>58,448,488.85</td>\n",
              "    </tr>\n",
              "    <tr>\n",
              "      <th>Pará</th>\n",
              "      <td>8690745</td>\n",
              "      <td>40,496,349.97</td>\n",
              "    </tr>\n",
              "    <tr>\n",
              "      <th>Santa Catarina</th>\n",
              "      <td>7252502</td>\n",
              "      <td>79,459,229.80</td>\n",
              "    </tr>\n",
              "    <tr>\n",
              "      <th>Maranhão</th>\n",
              "      <td>7114598</td>\n",
              "      <td>33,991,348.70</td>\n",
              "    </tr>\n",
              "    <tr>\n",
              "      <th>Goiás</th>\n",
              "      <td>7113540</td>\n",
              "      <td>45,871,329.20</td>\n",
              "    </tr>\n",
              "    <tr>\n",
              "      <th>Amazonas</th>\n",
              "      <td>4207714</td>\n",
              "      <td>19,303,743.16</td>\n",
              "    </tr>\n",
              "    <tr>\n",
              "      <th>Espírito Santo</th>\n",
              "      <td>4064052</td>\n",
              "      <td>41,931,102.65</td>\n",
              "    </tr>\n",
              "    <tr>\n",
              "      <th>Paraíba</th>\n",
              "      <td>4039277</td>\n",
              "      <td>22,092,553.67</td>\n",
              "    </tr>\n",
              "    <tr>\n",
              "      <th>Rio Grande do Norte</th>\n",
              "      <td>3534165</td>\n",
              "      <td>28,608,103.39</td>\n",
              "    </tr>\n",
              "    <tr>\n",
              "      <th>Mato Grosso</th>\n",
              "      <td>3526220</td>\n",
              "      <td>20,681,571.71</td>\n",
              "    </tr>\n",
              "    <tr>\n",
              "      <th>Alagoas</th>\n",
              "      <td>3351543</td>\n",
              "      <td>18,519,350.73</td>\n",
              "    </tr>\n",
              "    <tr>\n",
              "      <th>Piauí</th>\n",
              "      <td>3281480</td>\n",
              "      <td>25,817,440.95</td>\n",
              "    </tr>\n",
              "    <tr>\n",
              "      <th>Distrito Federal</th>\n",
              "      <td>3055149</td>\n",
              "      <td>26,428,483.82</td>\n",
              "    </tr>\n",
              "    <tr>\n",
              "      <th>Mato Grosso do Sul</th>\n",
              "      <td>2809394</td>\n",
              "      <td>23,639,938.85</td>\n",
              "    </tr>\n",
              "    <tr>\n",
              "      <th>Sergipe</th>\n",
              "      <td>2318822</td>\n",
              "      <td>11,700,344.16</td>\n",
              "    </tr>\n",
              "    <tr>\n",
              "      <th>Rondônia</th>\n",
              "      <td>1796460</td>\n",
              "      <td>10,479,989.36</td>\n",
              "    </tr>\n",
              "    <tr>\n",
              "      <th>Tocantins</th>\n",
              "      <td>1590248</td>\n",
              "      <td>7,934,629.02</td>\n",
              "    </tr>\n",
              "    <tr>\n",
              "      <th>Acre</th>\n",
              "      <td>894470</td>\n",
              "      <td>4,053,085.41</td>\n",
              "    </tr>\n",
              "    <tr>\n",
              "      <th>Amapá</th>\n",
              "      <td>861773</td>\n",
              "      <td>2,536,642.73</td>\n",
              "    </tr>\n",
              "    <tr>\n",
              "      <th>Roraima</th>\n",
              "      <td>631181</td>\n",
              "      <td>3,192,075.41</td>\n",
              "    </tr>\n",
              "  </tbody>\n",
              "</table>\n",
              "</div>"
            ],
            "text/plain": [
              "                     População       2020/Jul\n",
              "UF                                           \n",
              "São Paulo             46289333 361,986,896.25\n",
              "Minas Gerais          21292666 177,466,638.10\n",
              "Rio de Janeiro        17366189  95,941,141.03\n",
              "Bahia                 14930634  91,011,171.04\n",
              "Paraná                11516840 123,856,640.55\n",
              "Rio Grande do Sul     11422973 108,536,525.93\n",
              "Pernambuco             9616621  73,730,927.63\n",
              "Ceará                  9187103  58,448,488.85\n",
              "Pará                   8690745  40,496,349.97\n",
              "Santa Catarina         7252502  79,459,229.80\n",
              "Maranhão               7114598  33,991,348.70\n",
              "Goiás                  7113540  45,871,329.20\n",
              "Amazonas               4207714  19,303,743.16\n",
              "Espírito Santo         4064052  41,931,102.65\n",
              "Paraíba                4039277  22,092,553.67\n",
              "Rio Grande do Norte    3534165  28,608,103.39\n",
              "Mato Grosso            3526220  20,681,571.71\n",
              "Alagoas                3351543  18,519,350.73\n",
              "Piauí                  3281480  25,817,440.95\n",
              "Distrito Federal       3055149  26,428,483.82\n",
              "Mato Grosso do Sul     2809394  23,639,938.85\n",
              "Sergipe                2318822  11,700,344.16\n",
              "Rondônia               1796460  10,479,989.36\n",
              "Tocantins              1590248   7,934,629.02\n",
              "Acre                    894470   4,053,085.41\n",
              "Amapá                   861773   2,536,642.73\n",
              "Roraima                 631181   3,192,075.41"
            ]
          },
          "metadata": {
            "tags": []
          }
        }
      ]
    },
    {
      "cell_type": "markdown",
      "metadata": {
        "id": "03D-rOIN5dKM"
      },
      "source": [
        "### **O que aprendemos nessa aula?**\n",
        "---\n",
        "\n",
        ">* Como comparar os gastos em relação a determinado estado;\n",
        "* Como fazer a leitura de dados no formato Excel com ***Pandas***;\n",
        "* Como tornar uma *string* (com formato de tabela) legível em ***Pandas*** usando o **```String.IO```**;\n",
        "* Como usar **```Join```** em ***Pandas***.\n",
        "\n",
        "---\n",
        "* Como criar uma função"
      ]
    },
    {
      "cell_type": "markdown",
      "metadata": {
        "id": "GTAtdTTBIvfo"
      },
      "source": [
        "## **Aula 02 - Proporcionalidades e** ***Seaborn***\n",
        "---"
      ]
    },
    {
      "cell_type": "markdown",
      "metadata": {
        "id": "plNsLrmoJR8V"
      },
      "source": [
        "### Aula 02 - Vídeo 01\n",
        "Atividade 1 - Visualização, Seaborn e Proporcionalidades"
      ]
    },
    {
      "cell_type": "markdown",
      "metadata": {
        "id": "MP37Kyw3JqFE"
      },
      "source": [
        "É chegada a hora de visualizar os dados de gastos e população que juntamos em uma única tabela de dados.\n",
        "\n",
        "Vamos começar com um gráfico simples, de linhas, com ambas as séries de dados."
      ]
    },
    {
      "cell_type": "code",
      "metadata": {
        "colab": {
          "base_uri": "https://localhost:8080/",
          "height": 0
        },
        "id": "WKHX7u3eJqUp",
        "outputId": "b4b7426a-8d9e-4991-d5c7-ece1c1873b7d"
      },
      "source": [
        "gastos_pop_recente.plot()"
      ],
      "execution_count": 24,
      "outputs": [
        {
          "output_type": "execute_result",
          "data": {
            "text/plain": [
              "<matplotlib.axes._subplots.AxesSubplot at 0x7f77554e9dd0>"
            ]
          },
          "metadata": {
            "tags": []
          },
          "execution_count": 24
        },
        {
          "output_type": "display_data",
          "data": {
            "image/png": "[encoded data removed]",
            "text/plain": [
              "<Figure size 432x288 with 1 Axes>"
            ]
          },
          "metadata": {
            "tags": [],
            "needs_background": "light"
          }
        }
      ]
    },
    {
      "cell_type": "markdown",
      "metadata": {
        "id": "jYCMQ1PsKgok"
      },
      "source": [
        "Fica um gráfico estranho, são grandezas de ordem diferente (gastos em R$ e população em quantidade de habitantes).\n",
        "\n",
        "Uma solução utilizada algumas vezes é usar dois eixos **y**, mas isso deixa muita informação no gráfico, deixando a análise mais difícil.\n",
        "\n",
        "Além disso, a comparação do gasto por habitante fica distorcida, pela diferença entre as unidades de medida. Vamos avaliar os dois primeiros *ticks* do gráfico, São Paulo e Rio Grande do Sul... visualmente, parece que São Paulo gasta muito mais do que o Rio Grande do Sul, mesmo tentando deduzir o custo por habitante.\n",
        "\n",
        "A variação da curva azul é muito menor que a variação da curva laranja. Vamos avaliar os dados reais para ver se isso procede."
      ]
    },
    {
      "cell_type": "markdown",
      "metadata": {
        "id": "wXOjhohaMPBm"
      },
      "source": [
        "#### **Criação da Função**\n",
        "---\n",
        "\n",
        "Aqui vai ser criada a função que levou à refatoração de todo o código daqui para frente."
      ]
    },
    {
      "cell_type": "code",
      "metadata": {
        "id": "vskRf0R9NOOM"
      },
      "source": [
        "def insere_mes_tabela (tab_origem: pd.DataFrame, tab_destino: pd.DataFrame, mes: str):\n",
        "    gastos_mes=tab_origem[mes]\n",
        "    tab_destino[f'G_{mes}']=gastos_mes\n",
        "    tab_destino[f'GpC_{mes}']=tab_destino[f'G_{mes}']/tab_destino['População']"
      ],
      "execution_count": 25,
      "outputs": []
    },
    {
      "cell_type": "markdown",
      "metadata": {
        "id": "tCPtbQqMSrjS"
      },
      "source": [
        "---\n",
        "\n",
        "#### De volta à aula\n",
        "\n",
        "Criada a função de inserção dos meses na tabela base para os gráficos, segue o código com alterações daqui para frente."
      ]
    },
    {
      "cell_type": "code",
      "metadata": {
        "colab": {
          "base_uri": "https://localhost:8080/",
          "height": 0
        },
        "id": "SKxTmoG0TIHG",
        "outputId": "10f10191-25d3-42ec-f0e0-c31ccfc58590"
      },
      "source": [
        "## Antes de perceber que poderia usar o valor da variável 'mes_recente'\n",
        "## para pegar a coluna certa, pesquisei como transformar o slice do\n",
        "## DataFrame em uma Series para poder fazer a conta...\n",
        "## Preservei o código só para não perder essa parte do iloc com o squeeze\n",
        "\n",
        "gastos_pop_recente['Gastos / Hab']=gastos_pop_recente.iloc[:,1:2].squeeze(axis=1)/gastos_pop_recente['População']\n",
        "\n",
        "display(gastos_pop_recente.loc[['São Paulo','Rio Grande do Sul']])\n",
        "gastos_pop_recente.drop('Gastos / Hab',axis=1,inplace=True)"
      ],
      "execution_count": 26,
      "outputs": [
        {
          "output_type": "display_data",
          "data": {
            "text/html": [
              "<div>\n",
              "<style scoped>\n",
              "    .dataframe tbody tr th:only-of-type {\n",
              "        vertical-align: middle;\n",
              "    }\n",
              "\n",
              "    .dataframe tbody tr th {\n",
              "        vertical-align: top;\n",
              "    }\n",
              "\n",
              "    .dataframe thead th {\n",
              "        text-align: right;\n",
              "    }\n",
              "</style>\n",
              "<table border=\"1\" class=\"dataframe\">\n",
              "  <thead>\n",
              "    <tr style=\"text-align: right;\">\n",
              "      <th></th>\n",
              "      <th>População</th>\n",
              "      <th>2020/Jul</th>\n",
              "      <th>Gastos / Hab</th>\n",
              "    </tr>\n",
              "    <tr>\n",
              "      <th>UF</th>\n",
              "      <th></th>\n",
              "      <th></th>\n",
              "      <th></th>\n",
              "    </tr>\n",
              "  </thead>\n",
              "  <tbody>\n",
              "    <tr>\n",
              "      <th>São Paulo</th>\n",
              "      <td>46289333</td>\n",
              "      <td>361,986,896.25</td>\n",
              "      <td>7.82</td>\n",
              "    </tr>\n",
              "    <tr>\n",
              "      <th>Rio Grande do Sul</th>\n",
              "      <td>11422973</td>\n",
              "      <td>108,536,525.93</td>\n",
              "      <td>9.50</td>\n",
              "    </tr>\n",
              "  </tbody>\n",
              "</table>\n",
              "</div>"
            ],
            "text/plain": [
              "                   População       2020/Jul  Gastos / Hab\n",
              "UF                                                       \n",
              "São Paulo           46289333 361,986,896.25          7.82\n",
              "Rio Grande do Sul   11422973 108,536,525.93          9.50"
            ]
          },
          "metadata": {
            "tags": []
          }
        }
      ]
    },
    {
      "cell_type": "code",
      "metadata": {
        "colab": {
          "base_uri": "https://localhost:8080/",
          "height": 0
        },
        "id": "1GeWS0dJcbBL",
        "outputId": "4748fa73-8206-4943-e2c2-7f0ee1c81df5"
      },
      "source": [
        "gastos_pop_recente['Gastos / Hab']=gastos_pop_recente[mes_recente]/gastos_pop_recente['População']\n",
        "\n",
        "display(gastos_pop_recente.loc[['São Paulo','Rio Grande do Sul']])\n",
        "gastos_pop_recente.drop('Gastos / Hab',axis=1,inplace=True)"
      ],
      "execution_count": 27,
      "outputs": [
        {
          "output_type": "display_data",
          "data": {
            "text/html": [
              "<div>\n",
              "<style scoped>\n",
              "    .dataframe tbody tr th:only-of-type {\n",
              "        vertical-align: middle;\n",
              "    }\n",
              "\n",
              "    .dataframe tbody tr th {\n",
              "        vertical-align: top;\n",
              "    }\n",
              "\n",
              "    .dataframe thead th {\n",
              "        text-align: right;\n",
              "    }\n",
              "</style>\n",
              "<table border=\"1\" class=\"dataframe\">\n",
              "  <thead>\n",
              "    <tr style=\"text-align: right;\">\n",
              "      <th></th>\n",
              "      <th>População</th>\n",
              "      <th>2020/Jul</th>\n",
              "      <th>Gastos / Hab</th>\n",
              "    </tr>\n",
              "    <tr>\n",
              "      <th>UF</th>\n",
              "      <th></th>\n",
              "      <th></th>\n",
              "      <th></th>\n",
              "    </tr>\n",
              "  </thead>\n",
              "  <tbody>\n",
              "    <tr>\n",
              "      <th>São Paulo</th>\n",
              "      <td>46289333</td>\n",
              "      <td>361,986,896.25</td>\n",
              "      <td>7.82</td>\n",
              "    </tr>\n",
              "    <tr>\n",
              "      <th>Rio Grande do Sul</th>\n",
              "      <td>11422973</td>\n",
              "      <td>108,536,525.93</td>\n",
              "      <td>9.50</td>\n",
              "    </tr>\n",
              "  </tbody>\n",
              "</table>\n",
              "</div>"
            ],
            "text/plain": [
              "                   População       2020/Jul  Gastos / Hab\n",
              "UF                                                       \n",
              "São Paulo           46289333 361,986,896.25          7.82\n",
              "Rio Grande do Sul   11422973 108,536,525.93          9.50"
            ]
          },
          "metadata": {
            "tags": []
          }
        }
      ]
    },
    {
      "cell_type": "markdown",
      "metadata": {
        "id": "mRItt19sOhc8"
      },
      "source": [
        "O que podemos ver, para o mês de 2020/Jul, é que o resultado é o oposto. O RS gastou, por habitante, mais que SP!\n",
        "\n",
        "As hipóteses levantadas, antes de partirmos para a análise desse indicador para todas as UFs é de que:\n",
        "* o valor pode ser muito semelhante, por existir um equilíbrio entre os estados em termos de gastos e população\n",
        "* o valor tende a ser maior em estados melhores aparelhados, pois estamos vivenciando uma epidemia de COVID-19, o que leva muitas pessoas para UTIs, que tem um custo mais alto do que internações hospitalares comuns. As UFs com maior disponibilidade de leitos (comuns e de UTI) estão tendo maiores gastos.  As UFs com menos recursos estão tendo menos gastos mas a população fica desassistida\n",
        "\n",
        "Acredito que esse tipo de análise fica difícil no momento de crise que vivemos sem saber qual a demanda reprimida... se a UF estiver limitando seus gastos por não ter mais estrutura para fornecer à população, a medida fica inverídica.\n",
        "\n",
        "De qualquer forma, vamos calcular os gastos *per capita* e verificar como fica o gráfico."
      ]
    },
    {
      "cell_type": "code",
      "metadata": {
        "colab": {
          "base_uri": "https://localhost:8080/",
          "height": 0
        },
        "id": "sCW5iLCMNEpP",
        "outputId": "3677e46a-4a02-47f2-a05d-a3fb8b623100"
      },
      "source": [
        "insere_mes_tabela(atends,gastos_pop_recente,mes_recente)\n",
        "\n",
        "#gastos_pop_recente['Gastos per Capita']=gastos_pop_recente[mes_recente]/(gastos_pop_recente['População'])\n",
        "\n",
        "gastos_pop_recente[f'GpC_{mes_recente}'].plot(kind='bar',figsize=(15,6))"
      ],
      "execution_count": 28,
      "outputs": [
        {
          "output_type": "execute_result",
          "data": {
            "text/plain": [
              "<matplotlib.axes._subplots.AxesSubplot at 0x7f77553edb90>"
            ]
          },
          "metadata": {
            "tags": []
          },
          "execution_count": 28
        },
        {
          "output_type": "display_data",
          "data": {
            "image/png": "[encoded data removed]",
            "text/plain": [
              "<Figure size 1080x432 with 1 Axes>"
            ]
          },
          "metadata": {
            "tags": [],
            "needs_background": "light"
          }
        }
      ]
    },
    {
      "cell_type": "markdown",
      "metadata": {
        "id": "_adtmOvOYfbg"
      },
      "source": [
        "As colunas foram mantidas na ordem original justamente porque essa ordenação já nos dá uma informação adicional. As UFs estão ordenadas pelo total de gastos, ou seja, São Paulo, mais à esquerda, foi a UF que mais gastou em valores absolutos, enquanto Roraima, à direita, foi a UF que menos gastou.\n",
        "\n",
        "Podemos ver a falta de correlação entre os gastos absolutos e a população, pois se isso fosse verdade teríamos uma curva ascendente ou descendente nas barras. Temos grandes discrepâncias, com os valores variando entre R\\$ 3 e R\\$ 10 por habitante.\n",
        "\n",
        "Temos valores diferentes do mostrado no vídeo da aula em função de atualização dos dados de gastos no DataSUS.\n"
      ]
    },
    {
      "cell_type": "markdown",
      "metadata": {
        "id": "nNnUCUPCaAof"
      },
      "source": [
        "#### **Desafio - Ordenar o gráfico por gastos por habitante e por habitantes**\n",
        "---"
      ]
    },
    {
      "cell_type": "code",
      "metadata": {
        "colab": {
          "base_uri": "https://localhost:8080/",
          "height": 0
        },
        "id": "IjTKPQBAYb-A",
        "outputId": "01790935-f178-42b0-e136-ff74395ee026"
      },
      "source": [
        "fig, (ax1,ax2,ax3) = plt.subplots(1,3,figsize=(17,5))\n",
        "fig.suptitle(f'Gastos com Internações Hospitalares no SUS por UF, per Capita - {mes_recente}',fontweight='bold', fontsize=20)\n",
        "\n",
        "ax1 = gastos_pop_recente.sort_values(by=mes_recente,ascending=False)[f'GpC_{mes_recente}'].plot(kind='bar', ax=ax1)\n",
        "ax1.set_title('Ordenado por Gastos Totais', fontsize=15)\n",
        "ax1.set_ylabel('Valores em R$ / Habitante',fontweight='bold', fontsize=15)\n",
        "\n",
        "ax2 = gastos_pop_recente[f'GpC_{mes_recente}'].sort_values(ascending=False).plot(kind='bar', ax=ax2)\n",
        "ax2.set_title('Ordenado por Gastos per Capita', fontsize=15)\n",
        "\n",
        "ax3 = gastos_pop_recente.sort_values(by='População',ascending=False)[f'GpC_{mes_recente}'].plot(kind='bar', ax=ax3)\n",
        "ax3.set_title('Ordenado por População', fontsize=15)\n",
        "\n",
        "plt.show()"
      ],
      "execution_count": 29,
      "outputs": [
        {
          "output_type": "display_data",
          "data": {
            "image/png": "[encoded data removed]",
            "text/plain": [
              "<Figure size 1224x360 with 3 Axes>"
            ]
          },
          "metadata": {
            "tags": [],
            "needs_background": "light"
          }
        }
      ]
    },
    {
      "cell_type": "markdown",
      "metadata": {
        "id": "AJndZvW3amBB"
      },
      "source": [
        "---\n",
        "\n",
        "#### De volta à aula\n",
        "\n",
        "Vamos começar a usar a biblioteca **```Seaborn```** agora, para plotar o gráfico ```scatterplot``` que combina as informações de gastos e população."
      ]
    },
    {
      "cell_type": "code",
      "metadata": {
        "colab": {
          "base_uri": "https://localhost:8080/",
          "height": 0
        },
        "id": "WrzNp_MNYcAV",
        "outputId": "b1545a85-0f64-49c8-f32a-8adb11fcf747"
      },
      "source": [
        "sns.scatterplot(data=gastos_pop_recente/1000000,x='População',y=f'G_{mes_recente}')"
      ],
      "execution_count": 30,
      "outputs": [
        {
          "output_type": "execute_result",
          "data": {
            "text/plain": [
              "<matplotlib.axes._subplots.AxesSubplot at 0x7f77553fcc10>"
            ]
          },
          "metadata": {
            "tags": []
          },
          "execution_count": 30
        },
        {
          "output_type": "display_data",
          "data": {
            "image/png": "[encoded data removed]",
            "text/plain": [
              "<Figure size 432x288 with 1 Axes>"
            ]
          },
          "metadata": {
            "tags": [],
            "needs_background": "light"
          }
        }
      ]
    },
    {
      "cell_type": "markdown",
      "metadata": {
        "id": "9IWOJPGFawYb"
      },
      "source": [
        "Para poder avaliar a relação mais direta entre os valores, já que estamos usando escalas diferentes nos eixos do gráfico, vamos forçar a figura para ficar com altura e largura iguais, dentro de um quadrado."
      ]
    },
    {
      "cell_type": "code",
      "metadata": {
        "colab": {
          "base_uri": "https://localhost:8080/",
          "height": 0
        },
        "id": "xMGBkSe7YcDC",
        "outputId": "c48dbb86-c16a-4aaa-a226-29ac735b54ea"
      },
      "source": [
        "plt.figure(figsize=(6,6))\n",
        "sns.scatterplot(data=gastos_pop_recente/1000000,x='População',y=f'G_{mes_recente}')"
      ],
      "execution_count": 31,
      "outputs": [
        {
          "output_type": "execute_result",
          "data": {
            "text/plain": [
              "<matplotlib.axes._subplots.AxesSubplot at 0x7f7755044050>"
            ]
          },
          "metadata": {
            "tags": []
          },
          "execution_count": 31
        },
        {
          "output_type": "display_data",
          "data": {
            "image/png": "[encoded data removed]",
            "text/plain": [
              "<Figure size 432x432 with 1 Axes>"
            ]
          },
          "metadata": {
            "tags": [],
            "needs_background": "light"
          }
        }
      ]
    },
    {
      "cell_type": "markdown",
      "metadata": {
        "id": "KJewsIKQej6f"
      },
      "source": [
        "Podemos perceber uma tendência de maiores gastos quanto maior a população da UF. Dá para imaginar uma reta cortando na diagonal do quadrado, passando pela maioria dos pontos.\n",
        "\n",
        "Vamos avaliar esse mesmo gráfico, mas comparando os valores gastos por habitante com a população."
      ]
    },
    {
      "cell_type": "code",
      "metadata": {
        "colab": {
          "base_uri": "https://localhost:8080/",
          "height": 0
        },
        "id": "NaRwVzuxYcFk",
        "outputId": "0b380a2d-84e8-4654-a6f6-aeb551813b32"
      },
      "source": [
        "plt.figure(figsize=(6,6))\n",
        "sns.scatterplot(data=gastos_pop_recente,x='População',y=f'GpC_{mes_recente}')"
      ],
      "execution_count": 32,
      "outputs": [
        {
          "output_type": "execute_result",
          "data": {
            "text/plain": [
              "<matplotlib.axes._subplots.AxesSubplot at 0x7f77550ba250>"
            ]
          },
          "metadata": {
            "tags": []
          },
          "execution_count": 32
        },
        {
          "output_type": "display_data",
          "data": {
            "image/png": "[encoded data removed]",
            "text/plain": [
              "<Figure size 432x432 with 1 Axes>"
            ]
          },
          "metadata": {
            "tags": [],
            "needs_background": "light"
          }
        }
      ]
    },
    {
      "cell_type": "markdown",
      "metadata": {
        "id": "6MqtQ0Hge49c"
      },
      "source": [
        "Aqui já não conseguimos enxergar uma reta que passe pela maioria dos pontos, indicando a falta de uma relação mais direta entre essas variáveis."
      ]
    },
    {
      "cell_type": "markdown",
      "metadata": {
        "id": "ybCVXo74fP-F"
      },
      "source": [
        "#### **Desafio - Fazer os mesmos gráficos para o mês anterior a este**\n",
        "---"
      ]
    },
    {
      "cell_type": "code",
      "metadata": {
        "id": "DVt7t-e-353b"
      },
      "source": [
        "## Deixei pronto para usar o mês mais recente da base\n",
        "## ou um mês escolhido manualmente, é só alterar qual\n",
        "## a linha abaixo (6 ou 7) deve ser executada e deixar\n",
        "## a outra comentada\n",
        "#\n",
        "mes_recente=atends.columns[-2]\n",
        "mes_recente = '2020/Jul'\n",
        "\n",
        "mes_anterior=atends.columns[atends.columns.get_loc(mes_recente)-1]"
      ],
      "execution_count": 33,
      "outputs": []
    },
    {
      "cell_type": "code",
      "metadata": {
        "id": "NQE3KMGu5zZX"
      },
      "source": [
        "#gastos_pop_recente = gastos_pop_recente.join(atends[mes_anterior])\n",
        "#gastos_pop_recente['GpC_2']=gastos_pop_recente[mes_anterior]/(gastos_pop_recente['População'])\n",
        "\n",
        "### Com o código refatorado, essa parte ficou mais simples\n",
        "insere_mes_tabela(atends,gastos_pop_recente,mes_anterior)"
      ],
      "execution_count": 34,
      "outputs": []
    },
    {
      "cell_type": "code",
      "metadata": {
        "colab": {
          "base_uri": "https://localhost:8080/",
          "height": 0
        },
        "id": "u7ESffEp4gIT",
        "outputId": "4552a203-d58a-4805-b673-fb33beaa99d3"
      },
      "source": [
        "fig, (ax1,ax2) = plt.subplots(1,2,figsize=(12,5))\n",
        "fig.suptitle(f'Gastos com Internações Hospitalares no SUS por UF - {mes_anterior}',fontweight='bold', fontsize=20)\n",
        "\n",
        "ax1 = sns.scatterplot(data=gastos_pop_recente/1000000,x='População',y=f'G_{mes_anterior}', ax=ax1)\n",
        "ax1.set_title('Valores Absolutos', fontsize=12)\n",
        "ax1.set_ylabel('Valores em R$ MM',fontweight='bold', fontsize=15)\n",
        "\n",
        "ax2 = sns.scatterplot(data=gastos_pop_recente,x='População',y=f'GpC_{mes_recente}', ax=ax2)\n",
        "ax2.set_title('Valores per Capita', fontsize=12)\n",
        "ax2.set_ylabel('Valores em R$ / Habitante',fontweight='bold', fontsize=15)\n",
        "\n",
        "plt.show()"
      ],
      "execution_count": 35,
      "outputs": [
        {
          "output_type": "display_data",
          "data": {
            "image/png": "[encoded data removed]",
            "text/plain": [
              "<Figure size 864x360 with 2 Axes>"
            ]
          },
          "metadata": {
            "tags": [],
            "needs_background": "light"
          }
        }
      ]
    },
    {
      "cell_type": "markdown",
      "metadata": {
        "id": "rd9J6kayfj1B"
      },
      "source": [
        "#### **Desafio - Plotar os dois meses no mesmo gráfico, diferenciando por cores**\n",
        "---"
      ]
    },
    {
      "cell_type": "markdown",
      "metadata": {
        "id": "1JKffsVwImg1"
      },
      "source": [
        "Procurei muito na documentação pois achava que tinha que estabelecer dois eixos **y** ou algo assim...\n",
        "\n",
        "Na verdade, usando o ***Seaborn*** isso é muito mais simples, basta atribuir os dois gráficos à mesma variável que ele se encarega de colocar as informações juntas, separando por cor."
      ]
    },
    {
      "cell_type": "code",
      "metadata": {
        "colab": {
          "base_uri": "https://localhost:8080/",
          "height": 0
        },
        "id": "3LLDP5KiFSVr",
        "outputId": "b9673c25-0c79-4993-b72d-006e057de21b"
      },
      "source": [
        "fig, (ax1,ax2) = plt.subplots(1,2,figsize=(12,5))\n",
        "fig.suptitle(f'Gastos com Internações Hospitalares no SUS por UF - {mes_recente} x {mes_anterior}',fontweight='bold', fontsize=20)\n",
        "\n",
        "ax1 = sns.scatterplot(data=gastos_pop_recente/1000000,x='População',y=f'G_{mes_recente}', ax=ax1)\n",
        "ax1 = sns.scatterplot(data=gastos_pop_recente/1000000,x='População',y=f'G_{mes_anterior}', ax=ax1)\n",
        "ax1.set_title('Valores Absolutos', fontsize=15)\n",
        "ax1.set_ylabel('Valores em R$ MM',fontweight='bold', fontsize=15)\n",
        "ax1.legend([mes_recente,mes_anterior])\n",
        "\n",
        "ax2 = sns.scatterplot(data=gastos_pop_recente,x='População',y=f'GpC_{mes_recente}', ax=ax2)\n",
        "ax2 = sns.scatterplot(data=gastos_pop_recente,x='População',y=f'GpC_{mes_anterior}', ax=ax2)\n",
        "ax2.set_title('Valores per Capita', fontsize=15)\n",
        "ax2.set_ylabel('Valores em R$ / Habitante',fontweight='bold', fontsize=15)\n",
        "ax2.legend([mes_recente,mes_anterior])\n",
        "\n",
        "plt.show()"
      ],
      "execution_count": 36,
      "outputs": [
        {
          "output_type": "display_data",
          "data": {
            "image/png": "[encoded data removed]",
            "text/plain": [
              "<Figure size 864x360 with 2 Axes>"
            ]
          },
          "metadata": {
            "tags": [],
            "needs_background": "light"
          }
        }
      ]
    },
    {
      "cell_type": "markdown",
      "metadata": {
        "id": "ma9hcz99gDJZ"
      },
      "source": [
        "### Aula 02 - Vídeo 02\n",
        "Atividade 3 - Resolvendo o Super Desafio da Aula\n"
      ]
    },
    {
      "cell_type": "markdown",
      "metadata": {
        "id": "Fk9qNWgIgCEJ"
      },
      "source": [
        "Esse vídeo resolve os desafios deixados pelo vídeo anterior e deixa um novo desafio, mais teórico.\n",
        "\n",
        "Nesse caderno estou aplicando a ideia do Guilherme (refatorar o código, criando uma função) mas com os meus próprios meios. Já assisti ao vídeo e vou fazer a refatoração sem voltar a ele.\n",
        "\n",
        "Criei uma função que vai agregando colunas no *DataFrame* ```gastos_pop_recente```, o que permite executar mais vezes e agregar mais meses.\n",
        "\n",
        "Dessa forma, alterei partes do código das aulas 01 e do vídeo 02 da aula 02. Para não perder o código anterior e o histórico de como foram as aulas até agora, foi criada essa versão 2 com o código refatorado.\n",
        "\n",
        "Assim como foi feito na aula, posso acrescentar mais um mês nos gráficos rodando novamente a função de inserção na tabela. Deixei o mês numa variável, mas poderia ser calculado qual o mês anterior ao último plotado usando o mesmo código que foi feito anteriormente para isso."
      ]
    },
    {
      "cell_type": "code",
      "metadata": {
        "id": "ZiFDArmgVj2g"
      },
      "source": [
        "mes_adicional = '2020/Mai'\n",
        "insere_mes_tabela(atends,gastos_pop_recente,mes_adicional)"
      ],
      "execution_count": 37,
      "outputs": []
    },
    {
      "cell_type": "code",
      "metadata": {
        "colab": {
          "base_uri": "https://localhost:8080/",
          "height": 0
        },
        "id": "4a3mBtlJVvBt",
        "outputId": "95d26af9-8b7a-493c-a3fc-48b663a43055"
      },
      "source": [
        "fig, (ax1,ax2) = plt.subplots(1,2,figsize=(12,5))\n",
        "fig.suptitle(f'Gastos com Internações Hospitalares no SUS por UF - {mes_recente} x {mes_anterior} x {mes_adicional}',fontweight='bold', fontsize=20)\n",
        "\n",
        "ax1 = sns.scatterplot(data=gastos_pop_recente/1000000,x='População',y=f'G_{mes_recente}', ax=ax1)\n",
        "ax1 = sns.scatterplot(data=gastos_pop_recente/1000000,x='População',y=f'G_{mes_anterior}', ax=ax1)\n",
        "ax1 = sns.scatterplot(data=gastos_pop_recente/1000000,x='População',y=f'G_{mes_adicional}', ax=ax1)\n",
        "ax1.set_title('Valores Absolutos', fontsize=15)\n",
        "ax1.set_ylabel('Valores em R$ MM',fontweight='bold', fontsize=15)\n",
        "ax1.legend([mes_recente,mes_anterior,mes_adicional])\n",
        "\n",
        "ax2 = sns.scatterplot(data=gastos_pop_recente,x='População',y=f'GpC_{mes_recente}', ax=ax2)\n",
        "ax2 = sns.scatterplot(data=gastos_pop_recente,x='População',y=f'GpC_{mes_anterior}', ax=ax2)\n",
        "ax2 = sns.scatterplot(data=gastos_pop_recente,x='População',y=f'GpC_{mes_adicional}', ax=ax2)\n",
        "ax2.set_title('Valores per Capita', fontsize=15)\n",
        "ax2.set_ylabel('Valores em R$ / Habitante',fontweight='bold', fontsize=15)\n",
        "ax2.legend([mes_recente,mes_anterior,mes_adicional])\n",
        "\n",
        "plt.show()"
      ],
      "execution_count": 38,
      "outputs": [
        {
          "output_type": "display_data",
          "data": {
            "image/png": "[encoded data removed]",
            "text/plain": [
              "<Figure size 864x360 with 2 Axes>"
            ]
          },
          "metadata": {
            "tags": [],
            "needs_background": "light"
          }
        }
      ]
    },
    {
      "cell_type": "markdown",
      "metadata": {
        "id": "sovaGXCKWahW"
      },
      "source": [
        "O interessante da maneira como está montado o código e a função é que podemos trocar alguns meses e rodar novamente o gráfico, gerando nova comparação de períodos pré-pandemia, por exemplo. Vejamos:"
      ]
    },
    {
      "cell_type": "code",
      "metadata": {
        "id": "jayeSm15Wqzn"
      },
      "source": [
        "mes_anterior='2019/Jul'\n",
        "mes_adicional='2018/Jul'\n",
        "\n",
        "insere_mes_tabela(atends,gastos_pop_recente,mes_anterior)\n",
        "insere_mes_tabela(atends,gastos_pop_recente,mes_adicional)"
      ],
      "execution_count": 39,
      "outputs": []
    },
    {
      "cell_type": "code",
      "metadata": {
        "colab": {
          "base_uri": "https://localhost:8080/",
          "height": 0
        },
        "id": "Q7ITttM-XMi1",
        "outputId": "3ad5c19e-6031-464e-f507-aa5b50872071"
      },
      "source": [
        "fig, (ax1,ax2) = plt.subplots(1,2,figsize=(12,5))\n",
        "fig.suptitle(f'Gastos com Internações Hospitalares no SUS por UF - {mes_recente} x {mes_anterior} x {mes_adicional}',fontweight='bold', fontsize=20)\n",
        "\n",
        "ax1 = sns.scatterplot(data=gastos_pop_recente/1000000,x='População',y=f'G_{mes_recente}', ax=ax1)\n",
        "ax1 = sns.scatterplot(data=gastos_pop_recente/1000000,x='População',y=f'G_{mes_anterior}', ax=ax1)\n",
        "ax1 = sns.scatterplot(data=gastos_pop_recente/1000000,x='População',y=f'G_{mes_adicional}', ax=ax1)\n",
        "ax1.set_title('Valores Absolutos', fontsize=15)\n",
        "ax1.set_ylabel('Valores em R$ MM',fontweight='bold', fontsize=15)\n",
        "ax1.legend([mes_recente,mes_anterior,mes_adicional])\n",
        "ax1.set(xlim = (0,50))\n",
        "\n",
        "ax2 = sns.scatterplot(data=gastos_pop_recente,x='População',y=f'GpC_{mes_recente}', ax=ax2)\n",
        "ax2 = sns.scatterplot(data=gastos_pop_recente,x='População',y=f'GpC_{mes_anterior}', ax=ax2)\n",
        "ax2 = sns.scatterplot(data=gastos_pop_recente,x='População',y=f'GpC_{mes_adicional}', ax=ax2)\n",
        "ax2.set_title('Valores per Capita', fontsize=15)\n",
        "ax2.set_ylabel('Valores em R$ / Habitante',fontweight='bold', fontsize=15)\n",
        "ax2.legend([mes_recente,mes_anterior,mes_adicional])\n",
        "xlabels = ['{:,.2f}'.format(x) + 'MM' for x in ax2.get_xticks()/1000000]\n",
        "ax2.set_xticklabels(xlabels)\n",
        "ax2.set(xlim = (-1,50000000))\n",
        "\n",
        "plt.show()"
      ],
      "execution_count": 40,
      "outputs": [
        {
          "output_type": "display_data",
          "data": {
            "image/png": "[encoded data removed]",
            "text/plain": [
              "<Figure size 864x360 with 2 Axes>"
            ]
          },
          "metadata": {
            "tags": [],
            "needs_background": "light"
          }
        }
      ]
    },
    {
      "cell_type": "markdown",
      "metadata": {
        "id": "cG_AIIf6I8Y-"
      },
      "source": [
        "#### **Desafio Teórico - Analise os gráficos**\n",
        "---\n",
        "\n",
        ">Analise os gráficos e tente chegar a hipóteses que explicam o que você está entendendo dos dados. Lembre-se que a conclusão é uma hipótese e que esses dados serão alterados."
      ]
    },
    {
      "cell_type": "markdown",
      "metadata": {
        "id": "mRGrrSoeXgbn"
      },
      "source": [
        "É interessante observar que apesar da minha expectativa de que os valores de 2020 **sempre** fossem superiores, pois além do efeito inflacionário tivemos os efeitos da pandemia de COVID-19, temos algumas exceções, tanto analisando em valores absolutos quanto analisando em valores *per capita*. O presente gráfico não nos permite identificar quais UFs tiveram essa distorção, mas ela pode ser identificada em algumas delas.\n",
        "\n",
        "Conforme já mencionado anteriormente, considero que temos uma importante distorção nos números de 2020 em função da lotação dos hospitais, principalmente no setor de UTIs, notoriamente mais custosos do que a internação hospitalar simples. A pandemia levou mais gente aos hospitais e os tratamentos demandados foram mais caros.\n",
        "\n",
        "Outra possível distorção que pode ter refreado o crescimento dos gastos hospitalares foi a lotação de hospitais em algumas UFs. Não faltaram notícias de momentos de colapso e falta de vagas em hospitais de algumas UFs e isso pode ter impedido o aumento de gastos, tendo como contrapartida possíveis vidas perdidas por falta de atendimento.\n",
        "\n",
        "Acredito que os números trabalhados aqui já tenham poucas alterações pendentes de serem lançadas, mas isso pode trazer os números de 2020 para patamares ainda mais altos."
      ]
    },
    {
      "cell_type": "markdown",
      "metadata": {
        "id": "TzoGEAMwJ-Bu"
      },
      "source": [
        "### **O que aprendemos nessa aula?**\n",
        "---\n",
        "\n",
        ">* Como construir os primeiros gráficos com ***Seaborn***;\n",
        "* Como fazer comparações dos resultados de forma proporcional a população;\n",
        "* Como analisar gráficos como de gastos_por_habitantes X população e gastos X população, comparando suas diferenças e gerando hipóteses;\n",
        "* O que são e como usar *Type hints*.\n",
        "\n",
        "---\n",
        "Essa parte do *Type Hints* foi muito rápida, preciso analisar melhor para poder entender como usar em chamadas de funções, principalmente usando arquivos ***```.py```*** e dividindo o trabalho em diversos notebooks."
      ]
    },
    {
      "cell_type": "markdown",
      "metadata": {
        "id": "60lfcu2x7JQe"
      },
      "source": [
        "## **Aula 03 - Ticks, Escalas e Formatação de Imagens**\n",
        "---\n"
      ]
    },
    {
      "cell_type": "markdown",
      "metadata": {
        "id": "zWX4_8Kh7V2s"
      },
      "source": [
        "Vamos retomar a tabela completa, com todos os dados. A minha tabela está um pouco diferente da tabela usada nos vídeos da aula... não tenho a coluna 'Total' para ordenar as linhas e tenho uma coluna de 'Região' que não está na tabela usada em aula. Vou criar o *DataFrame* ```atend_aula``` para deixar com as mesmas colunas (excluindo a coluna 'Total' depois de usá-la para ordenação)."
      ]
    },
    {
      "cell_type": "code",
      "metadata": {
        "colab": {
          "base_uri": "https://localhost:8080/",
          "height": 369
        },
        "id": "wAHX-Mrx8PWz",
        "outputId": "e2b8f5c2-57b7-43f6-aee3-cbb4a9bb7956"
      },
      "source": [
        "atends_aula = atends.drop('Região', axis=1)\n",
        "atends_aula['Total'] = atends_aula.sum(axis=1)\n",
        "atends_aula.sort_values(by='Total', ascending=False, inplace=True)\n",
        "atends_aula = atends_aula.drop('Total', axis=1)\n",
        "atends_aula.head()"
      ],
      "execution_count": 41,
      "outputs": [
        {
          "output_type": "execute_result",
          "data": {
            "text/html": [
              "<div>\n",
              "<style scoped>\n",
              "    .dataframe tbody tr th:only-of-type {\n",
              "        vertical-align: middle;\n",
              "    }\n",
              "\n",
              "    .dataframe tbody tr th {\n",
              "        vertical-align: top;\n",
              "    }\n",
              "\n",
              "    .dataframe thead th {\n",
              "        text-align: right;\n",
              "    }\n",
              "</style>\n",
              "<table border=\"1\" class=\"dataframe\">\n",
              "  <thead>\n",
              "    <tr style=\"text-align: right;\">\n",
              "      <th></th>\n",
              "      <th>2008/Fev</th>\n",
              "      <th>2008/Mar</th>\n",
              "      <th>2008/Abr</th>\n",
              "      <th>2008/Mai</th>\n",
              "      <th>2008/Jun</th>\n",
              "      <th>2008/Jul</th>\n",
              "      <th>2008/Ago</th>\n",
              "      <th>2008/Set</th>\n",
              "      <th>2008/Out</th>\n",
              "      <th>2008/Nov</th>\n",
              "      <th>2008/Dez</th>\n",
              "      <th>2009/Jan</th>\n",
              "      <th>2009/Fev</th>\n",
              "      <th>2009/Mar</th>\n",
              "      <th>2009/Abr</th>\n",
              "      <th>2009/Mai</th>\n",
              "      <th>2009/Jun</th>\n",
              "      <th>2009/Jul</th>\n",
              "      <th>2009/Ago</th>\n",
              "      <th>2009/Set</th>\n",
              "      <th>2009/Out</th>\n",
              "      <th>2009/Nov</th>\n",
              "      <th>2009/Dez</th>\n",
              "      <th>2010/Jan</th>\n",
              "      <th>2010/Fev</th>\n",
              "      <th>2010/Mar</th>\n",
              "      <th>2010/Abr</th>\n",
              "      <th>2010/Mai</th>\n",
              "      <th>2010/Jun</th>\n",
              "      <th>2010/Jul</th>\n",
              "      <th>2010/Ago</th>\n",
              "      <th>2010/Set</th>\n",
              "      <th>2010/Out</th>\n",
              "      <th>2010/Nov</th>\n",
              "      <th>2010/Dez</th>\n",
              "      <th>2011/Jan</th>\n",
              "      <th>2011/Fev</th>\n",
              "      <th>2011/Mar</th>\n",
              "      <th>2011/Abr</th>\n",
              "      <th>2011/Mai</th>\n",
              "      <th>...</th>\n",
              "      <th>2017/Set</th>\n",
              "      <th>2017/Out</th>\n",
              "      <th>2017/Nov</th>\n",
              "      <th>2017/Dez</th>\n",
              "      <th>2018/Jan</th>\n",
              "      <th>2018/Fev</th>\n",
              "      <th>2018/Mar</th>\n",
              "      <th>2018/Abr</th>\n",
              "      <th>2018/Mai</th>\n",
              "      <th>2018/Jun</th>\n",
              "      <th>2018/Jul</th>\n",
              "      <th>2018/Ago</th>\n",
              "      <th>2018/Set</th>\n",
              "      <th>2018/Out</th>\n",
              "      <th>2018/Nov</th>\n",
              "      <th>2018/Dez</th>\n",
              "      <th>2019/Jan</th>\n",
              "      <th>2019/Fev</th>\n",
              "      <th>2019/Mar</th>\n",
              "      <th>2019/Abr</th>\n",
              "      <th>2019/Mai</th>\n",
              "      <th>2019/Jun</th>\n",
              "      <th>2019/Jul</th>\n",
              "      <th>2019/Ago</th>\n",
              "      <th>2019/Set</th>\n",
              "      <th>2019/Out</th>\n",
              "      <th>2019/Nov</th>\n",
              "      <th>2019/Dez</th>\n",
              "      <th>2020/Jan</th>\n",
              "      <th>2020/Fev</th>\n",
              "      <th>2020/Mar</th>\n",
              "      <th>2020/Abr</th>\n",
              "      <th>2020/Mai</th>\n",
              "      <th>2020/Jun</th>\n",
              "      <th>2020/Jul</th>\n",
              "      <th>2020/Ago</th>\n",
              "      <th>2020/Set</th>\n",
              "      <th>2020/Out</th>\n",
              "      <th>2020/Nov</th>\n",
              "      <th>2020/Dez</th>\n",
              "    </tr>\n",
              "    <tr>\n",
              "      <th>UF</th>\n",
              "      <th></th>\n",
              "      <th></th>\n",
              "      <th></th>\n",
              "      <th></th>\n",
              "      <th></th>\n",
              "      <th></th>\n",
              "      <th></th>\n",
              "      <th></th>\n",
              "      <th></th>\n",
              "      <th></th>\n",
              "      <th></th>\n",
              "      <th></th>\n",
              "      <th></th>\n",
              "      <th></th>\n",
              "      <th></th>\n",
              "      <th></th>\n",
              "      <th></th>\n",
              "      <th></th>\n",
              "      <th></th>\n",
              "      <th></th>\n",
              "      <th></th>\n",
              "      <th></th>\n",
              "      <th></th>\n",
              "      <th></th>\n",
              "      <th></th>\n",
              "      <th></th>\n",
              "      <th></th>\n",
              "      <th></th>\n",
              "      <th></th>\n",
              "      <th></th>\n",
              "      <th></th>\n",
              "      <th></th>\n",
              "      <th></th>\n",
              "      <th></th>\n",
              "      <th></th>\n",
              "      <th></th>\n",
              "      <th></th>\n",
              "      <th></th>\n",
              "      <th></th>\n",
              "      <th></th>\n",
              "      <th></th>\n",
              "      <th></th>\n",
              "      <th></th>\n",
              "      <th></th>\n",
              "      <th></th>\n",
              "      <th></th>\n",
              "      <th></th>\n",
              "      <th></th>\n",
              "      <th></th>\n",
              "      <th></th>\n",
              "      <th></th>\n",
              "      <th></th>\n",
              "      <th></th>\n",
              "      <th></th>\n",
              "      <th></th>\n",
              "      <th></th>\n",
              "      <th></th>\n",
              "      <th></th>\n",
              "      <th></th>\n",
              "      <th></th>\n",
              "      <th></th>\n",
              "      <th></th>\n",
              "      <th></th>\n",
              "      <th></th>\n",
              "      <th></th>\n",
              "      <th></th>\n",
              "      <th></th>\n",
              "      <th></th>\n",
              "      <th></th>\n",
              "      <th></th>\n",
              "      <th></th>\n",
              "      <th></th>\n",
              "      <th></th>\n",
              "      <th></th>\n",
              "      <th></th>\n",
              "      <th></th>\n",
              "      <th></th>\n",
              "      <th></th>\n",
              "      <th></th>\n",
              "      <th></th>\n",
              "      <th></th>\n",
              "    </tr>\n",
              "  </thead>\n",
              "  <tbody>\n",
              "    <tr>\n",
              "      <th>São Paulo</th>\n",
              "      <td>172,961,999.58</td>\n",
              "      <td>170,556,696.16</td>\n",
              "      <td>170,338,163.23</td>\n",
              "      <td>172,462,057.87</td>\n",
              "      <td>175,492,995.85</td>\n",
              "      <td>179,569,910.06</td>\n",
              "      <td>180,005,050.15</td>\n",
              "      <td>180,151,656.17</td>\n",
              "      <td>191,859,884.40</td>\n",
              "      <td>190,927,266.19</td>\n",
              "      <td>177,093,923.51</td>\n",
              "      <td>192,412,059.08</td>\n",
              "      <td>178,641,284.75</td>\n",
              "      <td>217,011,730.99</td>\n",
              "      <td>215,128,107.89</td>\n",
              "      <td>212,905,217.48</td>\n",
              "      <td>212,715,455.71</td>\n",
              "      <td>214,079,357.56</td>\n",
              "      <td>215,265,625.54</td>\n",
              "      <td>214,249,871.52</td>\n",
              "      <td>216,117,145.69</td>\n",
              "      <td>209,183,971.87</td>\n",
              "      <td>192,157,037.74</td>\n",
              "      <td>213,512,793.72</td>\n",
              "      <td>195,787,926.41</td>\n",
              "      <td>239,411,372.83</td>\n",
              "      <td>221,202,929.85</td>\n",
              "      <td>231,922,777.54</td>\n",
              "      <td>224,043,808.74</td>\n",
              "      <td>224,157,730.03</td>\n",
              "      <td>248,761,855.09</td>\n",
              "      <td>224,121,038.86</td>\n",
              "      <td>239,354,185.52</td>\n",
              "      <td>225,639,053.93</td>\n",
              "      <td>210,710,879.63</td>\n",
              "      <td>229,146,880.12</td>\n",
              "      <td>221,660,000.41</td>\n",
              "      <td>241,445,575.82</td>\n",
              "      <td>229,920,625.55</td>\n",
              "      <td>250,817,406.39</td>\n",
              "      <td>...</td>\n",
              "      <td>267,354,892.42</td>\n",
              "      <td>287,435,651.36</td>\n",
              "      <td>267,262,034.09</td>\n",
              "      <td>259,637,865.62</td>\n",
              "      <td>279,651,701.80</td>\n",
              "      <td>254,219,071.83</td>\n",
              "      <td>285,347,367.95</td>\n",
              "      <td>286,371,908.91</td>\n",
              "      <td>291,679,087.16</td>\n",
              "      <td>279,102,175.09</td>\n",
              "      <td>286,151,216.15</td>\n",
              "      <td>295,669,082.46</td>\n",
              "      <td>277,685,593.12</td>\n",
              "      <td>302,766,551.12</td>\n",
              "      <td>278,268,419.72</td>\n",
              "      <td>266,770,321.19</td>\n",
              "      <td>291,893,655.29</td>\n",
              "      <td>268,083,525.99</td>\n",
              "      <td>287,154,994.64</td>\n",
              "      <td>292,870,544.04</td>\n",
              "      <td>309,140,915.40</td>\n",
              "      <td>281,621,767.01</td>\n",
              "      <td>307,195,118.45</td>\n",
              "      <td>303,584,114.00</td>\n",
              "      <td>294,084,067.68</td>\n",
              "      <td>303,866,355.88</td>\n",
              "      <td>282,791,833.07</td>\n",
              "      <td>273,357,491.41</td>\n",
              "      <td>303,865,927.27</td>\n",
              "      <td>272,050,698.90</td>\n",
              "      <td>277,938,674.53</td>\n",
              "      <td>255,178,741.12</td>\n",
              "      <td>314,276,263.03</td>\n",
              "      <td>328,293,581.02</td>\n",
              "      <td>361,986,896.25</td>\n",
              "      <td>350,268,671.25</td>\n",
              "      <td>338,872,478.49</td>\n",
              "      <td>328,055,822.63</td>\n",
              "      <td>324,599,773.40</td>\n",
              "      <td>326,846,228.95</td>\n",
              "    </tr>\n",
              "    <tr>\n",
              "      <th>Minas Gerais</th>\n",
              "      <td>70,301,089.50</td>\n",
              "      <td>79,119,005.51</td>\n",
              "      <td>79,046,322.41</td>\n",
              "      <td>79,268,070.12</td>\n",
              "      <td>79,619,189.20</td>\n",
              "      <td>82,209,206.98</td>\n",
              "      <td>80,374,117.08</td>\n",
              "      <td>82,409,129.30</td>\n",
              "      <td>88,613,476.60</td>\n",
              "      <td>84,486,996.11</td>\n",
              "      <td>88,928,630.30</td>\n",
              "      <td>99,018,155.84</td>\n",
              "      <td>83,675,119.83</td>\n",
              "      <td>100,258,616.86</td>\n",
              "      <td>91,831,325.37</td>\n",
              "      <td>97,289,703.07</td>\n",
              "      <td>95,723,396.53</td>\n",
              "      <td>100,050,008.70</td>\n",
              "      <td>98,977,184.26</td>\n",
              "      <td>98,202,119.08</td>\n",
              "      <td>96,962,394.27</td>\n",
              "      <td>94,767,639.13</td>\n",
              "      <td>92,412,770.73</td>\n",
              "      <td>95,806,556.42</td>\n",
              "      <td>90,764,890.28</td>\n",
              "      <td>107,389,850.03</td>\n",
              "      <td>100,835,953.45</td>\n",
              "      <td>105,494,550.31</td>\n",
              "      <td>99,666,115.96</td>\n",
              "      <td>103,365,357.52</td>\n",
              "      <td>107,844,259.69</td>\n",
              "      <td>104,341,138.19</td>\n",
              "      <td>100,525,403.88</td>\n",
              "      <td>101,943,625.50</td>\n",
              "      <td>99,538,953.60</td>\n",
              "      <td>107,766,131.57</td>\n",
              "      <td>103,149,387.49</td>\n",
              "      <td>111,077,091.84</td>\n",
              "      <td>106,094,329.28</td>\n",
              "      <td>115,487,199.35</td>\n",
              "      <td>...</td>\n",
              "      <td>142,294,086.35</td>\n",
              "      <td>148,327,161.77</td>\n",
              "      <td>142,323,944.76</td>\n",
              "      <td>138,366,640.55</td>\n",
              "      <td>146,510,600.58</td>\n",
              "      <td>130,734,031.29</td>\n",
              "      <td>151,506,781.86</td>\n",
              "      <td>150,702,572.27</td>\n",
              "      <td>153,604,880.55</td>\n",
              "      <td>150,262,499.13</td>\n",
              "      <td>156,721,912.31</td>\n",
              "      <td>160,484,918.69</td>\n",
              "      <td>145,998,611.06</td>\n",
              "      <td>157,294,586.62</td>\n",
              "      <td>148,172,783.99</td>\n",
              "      <td>145,422,406.28</td>\n",
              "      <td>153,236,422.57</td>\n",
              "      <td>142,690,772.52</td>\n",
              "      <td>151,976,196.81</td>\n",
              "      <td>157,957,866.20</td>\n",
              "      <td>163,641,094.76</td>\n",
              "      <td>154,174,153.49</td>\n",
              "      <td>166,775,913.85</td>\n",
              "      <td>161,774,658.77</td>\n",
              "      <td>157,437,833.94</td>\n",
              "      <td>166,165,125.18</td>\n",
              "      <td>152,171,503.07</td>\n",
              "      <td>152,473,281.15</td>\n",
              "      <td>158,265,777.55</td>\n",
              "      <td>141,463,360.42</td>\n",
              "      <td>147,654,942.70</td>\n",
              "      <td>127,447,290.37</td>\n",
              "      <td>142,746,287.34</td>\n",
              "      <td>157,276,616.50</td>\n",
              "      <td>177,466,638.10</td>\n",
              "      <td>182,176,122.99</td>\n",
              "      <td>181,422,500.43</td>\n",
              "      <td>174,585,638.28</td>\n",
              "      <td>168,564,708.16</td>\n",
              "      <td>166,376,967.67</td>\n",
              "    </tr>\n",
              "    <tr>\n",
              "      <th>Paraná</th>\n",
              "      <td>48,855,046.46</td>\n",
              "      <td>55,611,791.07</td>\n",
              "      <td>56,115,135.82</td>\n",
              "      <td>55,574,831.93</td>\n",
              "      <td>56,094,754.74</td>\n",
              "      <td>59,802,402.07</td>\n",
              "      <td>56,699,001.13</td>\n",
              "      <td>58,091,985.79</td>\n",
              "      <td>61,365,941.22</td>\n",
              "      <td>59,667,208.62</td>\n",
              "      <td>57,816,197.74</td>\n",
              "      <td>60,381,593.99</td>\n",
              "      <td>57,239,101.63</td>\n",
              "      <td>69,070,488.20</td>\n",
              "      <td>64,054,678.26</td>\n",
              "      <td>68,685,542.95</td>\n",
              "      <td>67,931,227.06</td>\n",
              "      <td>70,958,762.64</td>\n",
              "      <td>69,225,783.96</td>\n",
              "      <td>67,849,968.52</td>\n",
              "      <td>68,558,209.28</td>\n",
              "      <td>67,158,496.97</td>\n",
              "      <td>63,094,274.28</td>\n",
              "      <td>66,902,643.63</td>\n",
              "      <td>64,501,133.64</td>\n",
              "      <td>77,138,870.60</td>\n",
              "      <td>70,755,396.99</td>\n",
              "      <td>73,456,756.71</td>\n",
              "      <td>71,839,020.89</td>\n",
              "      <td>73,013,830.77</td>\n",
              "      <td>76,151,006.95</td>\n",
              "      <td>74,240,963.45</td>\n",
              "      <td>73,042,386.70</td>\n",
              "      <td>76,364,750.27</td>\n",
              "      <td>70,517,638.39</td>\n",
              "      <td>74,712,784.07</td>\n",
              "      <td>71,314,740.25</td>\n",
              "      <td>76,914,668.09</td>\n",
              "      <td>74,232,937.37</td>\n",
              "      <td>81,709,021.05</td>\n",
              "      <td>...</td>\n",
              "      <td>110,720,806.09</td>\n",
              "      <td>117,567,691.91</td>\n",
              "      <td>112,457,522.94</td>\n",
              "      <td>105,558,123.29</td>\n",
              "      <td>116,133,193.49</td>\n",
              "      <td>107,075,982.24</td>\n",
              "      <td>122,331,354.51</td>\n",
              "      <td>124,731,345.17</td>\n",
              "      <td>127,083,090.02</td>\n",
              "      <td>122,616,924.02</td>\n",
              "      <td>127,991,900.80</td>\n",
              "      <td>131,257,163.40</td>\n",
              "      <td>120,647,377.43</td>\n",
              "      <td>129,530,163.96</td>\n",
              "      <td>121,810,669.26</td>\n",
              "      <td>112,984,630.73</td>\n",
              "      <td>124,159,239.68</td>\n",
              "      <td>117,715,473.32</td>\n",
              "      <td>123,907,372.22</td>\n",
              "      <td>127,464,502.39</td>\n",
              "      <td>132,608,039.80</td>\n",
              "      <td>124,865,873.14</td>\n",
              "      <td>134,708,659.18</td>\n",
              "      <td>127,174,381.95</td>\n",
              "      <td>126,203,976.57</td>\n",
              "      <td>133,870,601.68</td>\n",
              "      <td>126,221,140.81</td>\n",
              "      <td>113,573,832.72</td>\n",
              "      <td>122,330,101.96</td>\n",
              "      <td>116,125,740.39</td>\n",
              "      <td>114,776,571.27</td>\n",
              "      <td>97,784,060.57</td>\n",
              "      <td>111,012,770.38</td>\n",
              "      <td>115,203,716.64</td>\n",
              "      <td>123,856,640.55</td>\n",
              "      <td>125,089,468.62</td>\n",
              "      <td>121,771,167.11</td>\n",
              "      <td>127,506,086.52</td>\n",
              "      <td>133,443,307.36</td>\n",
              "      <td>122,146,256.92</td>\n",
              "    </tr>\n",
              "    <tr>\n",
              "      <th>Rio Grande do Sul</th>\n",
              "      <td>45,897,704.82</td>\n",
              "      <td>52,928,695.92</td>\n",
              "      <td>51,972,416.77</td>\n",
              "      <td>51,679,350.79</td>\n",
              "      <td>53,759,674.01</td>\n",
              "      <td>56,391,647.77</td>\n",
              "      <td>56,233,758.74</td>\n",
              "      <td>57,910,170.98</td>\n",
              "      <td>59,592,124.91</td>\n",
              "      <td>57,565,742.08</td>\n",
              "      <td>55,696,920.94</td>\n",
              "      <td>61,522,380.02</td>\n",
              "      <td>52,101,637.77</td>\n",
              "      <td>65,111,965.49</td>\n",
              "      <td>61,590,828.91</td>\n",
              "      <td>64,402,291.62</td>\n",
              "      <td>63,090,640.55</td>\n",
              "      <td>69,137,004.88</td>\n",
              "      <td>66,062,629.79</td>\n",
              "      <td>65,222,011.32</td>\n",
              "      <td>67,569,409.19</td>\n",
              "      <td>64,189,115.30</td>\n",
              "      <td>62,244,282.80</td>\n",
              "      <td>65,488,387.87</td>\n",
              "      <td>56,964,528.31</td>\n",
              "      <td>69,933,577.14</td>\n",
              "      <td>66,486,835.62</td>\n",
              "      <td>69,108,367.47</td>\n",
              "      <td>67,570,770.09</td>\n",
              "      <td>70,074,754.73</td>\n",
              "      <td>70,884,009.17</td>\n",
              "      <td>65,079,794.92</td>\n",
              "      <td>66,556,015.62</td>\n",
              "      <td>66,097,030.85</td>\n",
              "      <td>61,737,098.13</td>\n",
              "      <td>66,918,913.09</td>\n",
              "      <td>61,370,763.60</td>\n",
              "      <td>69,004,974.80</td>\n",
              "      <td>66,225,068.29</td>\n",
              "      <td>72,172,669.74</td>\n",
              "      <td>...</td>\n",
              "      <td>86,424,773.65</td>\n",
              "      <td>91,598,179.14</td>\n",
              "      <td>85,793,700.48</td>\n",
              "      <td>82,737,574.48</td>\n",
              "      <td>91,825,671.54</td>\n",
              "      <td>77,582,012.38</td>\n",
              "      <td>91,078,325.19</td>\n",
              "      <td>91,926,773.80</td>\n",
              "      <td>91,678,131.98</td>\n",
              "      <td>90,989,887.85</td>\n",
              "      <td>94,861,008.10</td>\n",
              "      <td>96,799,643.23</td>\n",
              "      <td>87,344,269.09</td>\n",
              "      <td>97,371,100.06</td>\n",
              "      <td>90,190,767.67</td>\n",
              "      <td>81,748,880.30</td>\n",
              "      <td>92,467,100.02</td>\n",
              "      <td>85,301,000.44</td>\n",
              "      <td>91,624,338.70</td>\n",
              "      <td>92,787,953.22</td>\n",
              "      <td>99,143,937.75</td>\n",
              "      <td>95,862,593.49</td>\n",
              "      <td>103,044,767.94</td>\n",
              "      <td>98,566,147.88</td>\n",
              "      <td>94,371,567.58</td>\n",
              "      <td>96,973,500.30</td>\n",
              "      <td>91,006,554.37</td>\n",
              "      <td>88,764,855.22</td>\n",
              "      <td>97,614,085.43</td>\n",
              "      <td>85,488,519.32</td>\n",
              "      <td>84,881,491.62</td>\n",
              "      <td>76,806,748.32</td>\n",
              "      <td>87,777,332.11</td>\n",
              "      <td>96,799,361.58</td>\n",
              "      <td>108,536,525.93</td>\n",
              "      <td>111,762,290.19</td>\n",
              "      <td>110,107,867.30</td>\n",
              "      <td>113,886,837.47</td>\n",
              "      <td>116,738,266.69</td>\n",
              "      <td>116,833,971.73</td>\n",
              "    </tr>\n",
              "    <tr>\n",
              "      <th>Rio de Janeiro</th>\n",
              "      <td>44,128,159.73</td>\n",
              "      <td>42,900,847.02</td>\n",
              "      <td>45,306,499.53</td>\n",
              "      <td>43,951,349.46</td>\n",
              "      <td>44,111,107.27</td>\n",
              "      <td>44,359,056.71</td>\n",
              "      <td>42,500,830.29</td>\n",
              "      <td>43,066,461.47</td>\n",
              "      <td>44,553,314.55</td>\n",
              "      <td>41,351,511.51</td>\n",
              "      <td>43,024,756.36</td>\n",
              "      <td>60,885,459.85</td>\n",
              "      <td>40,668,378.23</td>\n",
              "      <td>52,753,544.47</td>\n",
              "      <td>48,916,675.76</td>\n",
              "      <td>51,177,398.60</td>\n",
              "      <td>57,241,944.15</td>\n",
              "      <td>53,485,657.68</td>\n",
              "      <td>51,244,087.82</td>\n",
              "      <td>48,489,476.33</td>\n",
              "      <td>48,689,069.43</td>\n",
              "      <td>49,708,372.48</td>\n",
              "      <td>44,413,423.34</td>\n",
              "      <td>55,993,709.91</td>\n",
              "      <td>44,833,345.11</td>\n",
              "      <td>54,473,238.33</td>\n",
              "      <td>78,128,632.98</td>\n",
              "      <td>56,028,875.32</td>\n",
              "      <td>51,435,826.33</td>\n",
              "      <td>53,873,907.49</td>\n",
              "      <td>57,867,285.17</td>\n",
              "      <td>53,736,019.37</td>\n",
              "      <td>52,379,338.55</td>\n",
              "      <td>50,242,531.67</td>\n",
              "      <td>50,891,328.43</td>\n",
              "      <td>74,005,618.29</td>\n",
              "      <td>61,149,228.39</td>\n",
              "      <td>55,347,898.51</td>\n",
              "      <td>55,816,907.90</td>\n",
              "      <td>59,086,537.51</td>\n",
              "      <td>...</td>\n",
              "      <td>68,801,861.20</td>\n",
              "      <td>73,165,326.57</td>\n",
              "      <td>69,365,355.89</td>\n",
              "      <td>67,378,799.43</td>\n",
              "      <td>72,453,040.87</td>\n",
              "      <td>65,060,331.66</td>\n",
              "      <td>74,428,736.76</td>\n",
              "      <td>74,579,184.72</td>\n",
              "      <td>79,419,042.03</td>\n",
              "      <td>75,991,764.07</td>\n",
              "      <td>77,576,014.21</td>\n",
              "      <td>78,916,904.64</td>\n",
              "      <td>72,869,420.27</td>\n",
              "      <td>79,188,399.76</td>\n",
              "      <td>74,018,397.83</td>\n",
              "      <td>70,831,514.10</td>\n",
              "      <td>79,663,329.44</td>\n",
              "      <td>74,142,875.38</td>\n",
              "      <td>75,063,150.71</td>\n",
              "      <td>76,859,575.91</td>\n",
              "      <td>82,670,993.34</td>\n",
              "      <td>78,689,231.48</td>\n",
              "      <td>88,182,408.00</td>\n",
              "      <td>83,624,113.30</td>\n",
              "      <td>81,561,944.39</td>\n",
              "      <td>82,534,679.94</td>\n",
              "      <td>74,778,468.98</td>\n",
              "      <td>75,149,065.87</td>\n",
              "      <td>80,411,863.59</td>\n",
              "      <td>73,147,214.02</td>\n",
              "      <td>74,595,986.00</td>\n",
              "      <td>69,437,941.81</td>\n",
              "      <td>89,725,279.21</td>\n",
              "      <td>88,135,690.57</td>\n",
              "      <td>95,941,141.03</td>\n",
              "      <td>89,795,469.41</td>\n",
              "      <td>81,886,688.22</td>\n",
              "      <td>80,570,244.20</td>\n",
              "      <td>82,807,309.85</td>\n",
              "      <td>90,567,351.87</td>\n",
              "    </tr>\n",
              "  </tbody>\n",
              "</table>\n",
              "<p>5 rows × 155 columns</p>\n",
              "</div>"
            ],
            "text/plain": [
              "                        2008/Fev       2008/Mar  ...       2020/Nov       2020/Dez\n",
              "UF                                               ...                              \n",
              "São Paulo         172,961,999.58 170,556,696.16  ... 324,599,773.40 326,846,228.95\n",
              "Minas Gerais       70,301,089.50  79,119,005.51  ... 168,564,708.16 166,376,967.67\n",
              "Paraná             48,855,046.46  55,611,791.07  ... 133,443,307.36 122,146,256.92\n",
              "Rio Grande do Sul  45,897,704.82  52,928,695.92  ... 116,738,266.69 116,833,971.73\n",
              "Rio de Janeiro     44,128,159.73  42,900,847.02  ...  82,807,309.85  90,567,351.87\n",
              "\n",
              "[5 rows x 155 columns]"
            ]
          },
          "metadata": {
            "tags": []
          },
          "execution_count": 41
        }
      ]
    },
    {
      "cell_type": "markdown",
      "metadata": {
        "id": "-X5zCBlRApXZ"
      },
      "source": [
        "A partir desse *DataFrame*, temos duas maneiras diferentes de gerar o mesmo resultado.\n",
        "\n",
        "No primeiro gráfico, usamos os nomes das colunas no eixo **x** e usamos o ```loc``` para selecionar a UF cujos dados queremos visualizar no eixo **y**."
      ]
    },
    {
      "cell_type": "code",
      "metadata": {
        "colab": {
          "base_uri": "https://localhost:8080/",
          "height": 293
        },
        "id": "ck8OwtF-8Sgq",
        "outputId": "1266e601-55fe-4925-87af-61683bf3efc4"
      },
      "source": [
        "uf_selec = 'Rio Grande do Sul'\n",
        "\n",
        "sns.scatterplot(x = atends_aula.columns,\n",
        "                y =atends_aula.loc[uf_selec])"
      ],
      "execution_count": 42,
      "outputs": [
        {
          "output_type": "execute_result",
          "data": {
            "text/plain": [
              "<matplotlib.axes._subplots.AxesSubplot at 0x7f7756a4cd90>"
            ]
          },
          "metadata": {
            "tags": []
          },
          "execution_count": 42
        },
        {
          "output_type": "display_data",
          "data": {
            "image/png": "[encoded data removed]",
            "text/plain": [
              "<Figure size 432x288 with 1 Axes>"
            ]
          },
          "metadata": {
            "tags": [],
            "needs_background": "light"
          }
        }
      ]
    },
    {
      "cell_type": "markdown",
      "metadata": {
        "id": "0C7xQnoIBLxT"
      },
      "source": [
        "Outra maneira de termos o mesmo resultado é fazendo a transposição do *DataFrame*, usando o ```index``` no eixo **x** e selecionando a coluna que contém a UF que queremos visualizar para o eixo **y**."
      ]
    },
    {
      "cell_type": "code",
      "metadata": {
        "colab": {
          "base_uri": "https://localhost:8080/",
          "height": 293
        },
        "id": "NM-17GK69Luf",
        "outputId": "f8c5b87e-8089-433c-8540-f1d565427af6"
      },
      "source": [
        "dados_mensais = atends_aula.T\n",
        "\n",
        "sns.scatterplot(data = dados_mensais,\n",
        "                x = dados_mensais.index,\n",
        "                y = uf_selec) "
      ],
      "execution_count": 43,
      "outputs": [
        {
          "output_type": "execute_result",
          "data": {
            "text/plain": [
              "<matplotlib.axes._subplots.AxesSubplot at 0x7f7754b42990>"
            ]
          },
          "metadata": {
            "tags": []
          },
          "execution_count": 43
        },
        {
          "output_type": "display_data",
          "data": {
            "image/png": "[encoded data removed]",
            "text/plain": [
              "<Figure size 432x288 with 1 Axes>"
            ]
          },
          "metadata": {
            "tags": [],
            "needs_background": "light"
          }
        }
      ]
    },
    {
      "cell_type": "markdown",
      "metadata": {
        "id": "rgNGZYQeCOgf"
      },
      "source": [
        "### **Desafio - Use o seu estado e refaça os gráficos**\n",
        "---\n",
        "\n",
        "A solução já foi dada no próprio código acima no momento em que usei uma variável (```uf_selec```) para selecionar a UF que será plotada. Alterando o valor da variável podemos gerar novamente o gráfico."
      ]
    },
    {
      "cell_type": "code",
      "metadata": {
        "colab": {
          "base_uri": "https://localhost:8080/",
          "height": 293
        },
        "id": "NVvACdks_mK5",
        "outputId": "d86854a7-7d23-42e9-9315-154a647f1e48"
      },
      "source": [
        "uf_selec = 'Paraná'\n",
        "\n",
        "sns.scatterplot(data = dados_mensais,\n",
        "                x = dados_mensais.index,\n",
        "                y = uf_selec) "
      ],
      "execution_count": 44,
      "outputs": [
        {
          "output_type": "execute_result",
          "data": {
            "text/plain": [
              "<matplotlib.axes._subplots.AxesSubplot at 0x7f7754addad0>"
            ]
          },
          "metadata": {
            "tags": []
          },
          "execution_count": 44
        },
        {
          "output_type": "display_data",
          "data": {
            "image/png": "[encoded data removed]",
            "text/plain": [
              "<Figure size 432x288 with 1 Axes>"
            ]
          },
          "metadata": {
            "tags": [],
            "needs_background": "light"
          }
        }
      ]
    },
    {
      "cell_type": "markdown",
      "metadata": {
        "id": "inpXbbETC6TQ"
      },
      "source": [
        "### De volta à aula\n",
        "---"
      ]
    },
    {
      "cell_type": "markdown",
      "metadata": {
        "id": "yMCLI1pkC-VE"
      },
      "source": [
        "Vamos usar o **```Seaborn```** para fazer um gráfico de linhas e aproveitar para melhorar sua aparência."
      ]
    },
    {
      "cell_type": "code",
      "metadata": {
        "colab": {
          "base_uri": "https://localhost:8080/",
          "height": 406
        },
        "id": "--Ya1rQgCyGI",
        "outputId": "d8fa5793-0627-4281-e24e-8dc4760a7dce"
      },
      "source": [
        "uf_selec='São Paulo'\n",
        "\n",
        "plt.figure(figsize=(10,6))\n",
        "\n",
        "ax = sns.lineplot(data = dados_mensais,\n",
        "                  x = dados_mensais.index,\n",
        "                  y = uf_selec)\n",
        "\n",
        "plt.ylim(0,400000000)\n",
        "plt.grid(linestyle='dotted')\n",
        "plt.xticks(rotation=30)\n",
        "ax.xaxis.set_major_locator(ticker.IndexLocator(base=12,offset=-1))\n",
        "\n",
        "plt.show()"
      ],
      "execution_count": 45,
      "outputs": [
        {
          "output_type": "display_data",
          "data": {
            "image/png": "[encoded data removed]",
            "text/plain": [
              "<Figure size 720x432 with 1 Axes>"
            ]
          },
          "metadata": {
            "tags": [],
            "needs_background": "light"
          }
        }
      ]
    },
    {
      "cell_type": "markdown",
      "metadata": {
        "id": "MGHQiJx4EPt_"
      },
      "source": [
        "### **Desafio - Formatar o eixo Y usando o ```StrMethodFormatter```, colocar um título para o gráfico e para os eixos, alterando tamanho das suas fontes**\n",
        "---\n"
      ]
    },
    {
      "cell_type": "markdown",
      "metadata": {
        "id": "dk47hmvaL5i2"
      },
      "source": [
        "Como achei o desafio relativamente fácil, resolvi \"brincar\" um pouco com os parâmetros de limites, marcação nos eixos **x** e **y**, *grid* e os títulos dos eixos.\n",
        "\n",
        "Deixei ***feio*** de propósito, para destacar as possibilidades de parametrização do gráfico."
      ]
    },
    {
      "cell_type": "code",
      "metadata": {
        "colab": {
          "base_uri": "https://localhost:8080/",
          "height": 457
        },
        "id": "FmQtxW_uEPuB",
        "outputId": "dfaa8a6f-4c34-49b6-e120-011c2c63051b"
      },
      "source": [
        "uf_selec='São Paulo'\n",
        "\n",
        "plt.figure(figsize=(10,6))\n",
        "plt.suptitle(f'Gastos Mensais com Internações Hospitalares SUS para {uf_selec}',\n",
        "             fontweight='bold', fontsize=25)\n",
        "\n",
        "ax = sns.lineplot(data = dados_mensais/1000000, # Dividindo por R$ 1 MM para melhorar a visualização\n",
        "                  x = dados_mensais.index,\n",
        "                  y = uf_selec)\n",
        "\n",
        "## Definindo limites para os eixos X e Y\n",
        "plt.ylim(0,400)\n",
        "plt.xlim(0,180) ## Deixando espaço sobrando no lado direito do gráfico ao colocar um número maior que a quantidade de meses da base\n",
        "\n",
        "## Definindo os intervalos de marcação nos eixos\n",
        "# Intervalo grande do eixo X é a cada 12 meses começando em -1 para compensar o 2008/Fev\n",
        "ax.xaxis.set_major_locator(ticker.IndexLocator(base=12,offset=-1))\n",
        "# Intervalo pequeno do eixo X é a cada 6 meses, só o traço\n",
        "ax.xaxis.set_minor_locator(ticker.IndexLocator(base=6,offset=-1))\n",
        "# Intervalo pequeno do eixo Y é a cada R$ 25 MM, só o traço\n",
        "ax.yaxis.set_minor_locator(ticker.MultipleLocator(base=25))\n",
        "\n",
        "## Brincando um pouco com o grid (FEIO propositalmente, só para ver parâmetros funcionando)\n",
        "# Definindo o estilo pontilhado para todos os eixos nos marcadores grandes e pequenos\n",
        "plt.grid(linestyle='dotted', which='both', axis='both')\n",
        "# Definindo que o marcador grande do eixo X (JAN) será azul com linha contínua\n",
        "plt.grid(axis='y', which='major', linestyle='-', color='blue')\n",
        "# Definindo que o marcador menor do eixo Y (R$ 25 MM) será vermelho e tracejado\n",
        "plt.grid(axis='x', which='minor', linestyle='--', color='red')\n",
        "\n",
        "## Formatando os labels dos ticks do eixo Y\n",
        "ax.yaxis.set_major_formatter(\n",
        "    ticker.StrMethodFormatter('R$ {x:,.0f} MM'))\n",
        "\n",
        "## Rotacionando os labels dos ticks do eixo X\n",
        "plt.xticks(rotation=30)\n",
        "\n",
        "## Alterando e formatando os títulos dos eixos, inclusive com cores nas fontes\n",
        "plt.xlabel('Ano / Mês', fontweight='bold', fontsize=15, color='darkcyan')\n",
        "plt.ylabel('Valores em R$ MM', fontweight='bold', fontsize=15, color='purple')\n",
        "\n",
        "plt.show()"
      ],
      "execution_count": 46,
      "outputs": [
        {
          "output_type": "display_data",
          "data": {
            "image/png": "[encoded data removed]",
            "text/plain": [
              "<Figure size 720x432 with 1 Axes>"
            ]
          },
          "metadata": {
            "tags": [],
            "needs_background": "light"
          }
        }
      ]
    },
    {
      "cell_type": "markdown",
      "metadata": {
        "id": "1mF-GhLBQvNu"
      },
      "source": [
        "### **O que aprendemos nessa aula?**\n",
        "---\n",
        "\n",
        ">* Como criar um *Scatterplot* com o **```Seaborn```**;\n",
        "* Como formatar *ticks* ajustando sua localização da forma mais adequada possível;\n",
        "* Como criar um *grid* em suas visualizações para facilitar a análise."
      ]
    }
  ]
}